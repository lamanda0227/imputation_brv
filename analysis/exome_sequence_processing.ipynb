{
 "cells": [
  {
   "cell_type": "markdown",
   "id": "6bb23670-e1ec-467b-9b86-1f8e36bcd32e",
   "metadata": {
    "kernel": "SoS",
    "tags": []
   },
   "source": [
    "# Exome Data Preparation"
   ]
  },
  {
   "cell_type": "markdown",
   "id": "059bfff1-1830-49fb-bae6-336dcc66b13c",
   "metadata": {
    "kernel": "SoS"
   },
   "source": [
    "This notebook records the steps to prepare exome sequence data for rare variant aggregate analysis and simulation."
   ]
  },
  {
   "cell_type": "markdown",
   "id": "0c19a718-614e-415e-8256-60cafe45254c",
   "metadata": {
    "kernel": "SoS"
   },
   "source": [
    "## Annotate Exome"
   ]
  },
  {
   "cell_type": "code",
   "execution_count": 6,
   "id": "2ffab564-acc9-4d16-b25f-7af3ed63784b",
   "metadata": {
    "kernel": "Bash",
    "tags": []
   },
   "outputs": [
    {
     "name": "stdout",
     "output_type": "stream",
     "text": [
      "\u001b[0m\u001b[30;43m/home/tl3031/UKBiobank/data/exome_files/project_VCF/072721_run/plink/ukb23156_c10.merged.filtered.bed\u001b[0m\u001b[K\n",
      "\u001b[30;43m/home/tl3031/UKBiobank/data/exome_files/project_VCF/072721_run/plink/ukb23156_c11.merged.filtered.bed\u001b[0m\u001b[K\n",
      "\u001b[30;43m/home/tl3031/UKBiobank/data/exome_files/project_VCF/072721_run/plink/ukb23156_c12.merged.filtered.bed\u001b[0m\u001b[K\n",
      "\u001b[30;43m/home/tl3031/UKBiobank/data/exome_files/project_VCF/072721_run/plink/ukb23156_c13.merged.filtered.bed\u001b[0m\u001b[K\n",
      "\u001b[30;43m/home/tl3031/UKBiobank/data/exome_files/project_VCF/072721_run/plink/ukb23156_c14.merged.filtered.bed\u001b[0m\u001b[K\n",
      "\u001b[30;43m/home/tl3031/UKBiobank/data/exome_files/project_VCF/072721_run/plink/ukb23156_c15.merged.filtered.bed\u001b[0m\u001b[K\n",
      "\u001b[30;43m/home/tl3031/UKBiobank/data/exome_files/project_VCF/072721_run/plink/ukb23156_c16.merged.filtered.bed\u001b[0m\u001b[K\n",
      "\u001b[30;43m/home/tl3031/UKBiobank/data/exome_files/project_VCF/072721_run/plink/ukb23156_c17.merged.filtered.bed\u001b[0m\u001b[K\n",
      "\u001b[30;43m/home/tl3031/UKBiobank/data/exome_files/project_VCF/072721_run/plink/ukb23156_c18.merged.filtered.bed\u001b[0m\u001b[K\n",
      "\u001b[30;43m/home/tl3031/UKBiobank/data/exome_files/project_VCF/072721_run/plink/ukb23156_c19.merged.filtered.bed\u001b[0m\u001b[K\n",
      "\u001b[30;43m/home/tl3031/UKBiobank/data/exome_files/project_VCF/072721_run/plink/ukb23156_c1.merged.filtered.bed\u001b[0m\u001b[K\n",
      "\u001b[30;43m/home/tl3031/UKBiobank/data/exome_files/project_VCF/072721_run/plink/ukb23156_c20.merged.filtered.bed\u001b[0m\u001b[K\n",
      "\u001b[30;43m/home/tl3031/UKBiobank/data/exome_files/project_VCF/072721_run/plink/ukb23156_c21.merged.filtered.bed\u001b[0m\u001b[K\n",
      "\u001b[30;43m/home/tl3031/UKBiobank/data/exome_files/project_VCF/072721_run/plink/ukb23156_c22.merged.filtered.bed\u001b[0m\u001b[K\n",
      "\u001b[30;43m/home/tl3031/UKBiobank/data/exome_files/project_VCF/072721_run/plink/ukb23156_c2.merged.filtered.bed\u001b[0m\u001b[K\n",
      "\u001b[30;43m/home/tl3031/UKBiobank/data/exome_files/project_VCF/072721_run/plink/ukb23156_c3.merged.filtered.bed\u001b[0m\u001b[K\n",
      "\u001b[30;43m/home/tl3031/UKBiobank/data/exome_files/project_VCF/072721_run/plink/ukb23156_c4.merged.filtered.bed\u001b[0m\u001b[K\n",
      "\u001b[30;43m/home/tl3031/UKBiobank/data/exome_files/project_VCF/072721_run/plink/ukb23156_c5.merged.filtered.bed\u001b[0m\u001b[K\n",
      "\u001b[30;43m/home/tl3031/UKBiobank/data/exome_files/project_VCF/072721_run/plink/ukb23156_c6.merged.filtered.bed\u001b[0m\u001b[K\n",
      "\u001b[30;43m/home/tl3031/UKBiobank/data/exome_files/project_VCF/072721_run/plink/ukb23156_c7.merged.filtered.bed\u001b[0m\u001b[K\n",
      "\u001b[30;43m/home/tl3031/UKBiobank/data/exome_files/project_VCF/072721_run/plink/ukb23156_c8.merged.filtered.bed\u001b[0m\u001b[K\n",
      "\u001b[30;43m/home/tl3031/UKBiobank/data/exome_files/project_VCF/072721_run/plink/ukb23156_c9.merged.filtered.bed\u001b[0m\u001b[K\n"
     ]
    }
   ],
   "source": [
    "## Start from the qc'ed exome data\n",
    "ls ~/UKBiobank/data/exome_files/project_VCF/072721_run/plink/ukb23156_c*.merged.filtered.bed"
   ]
  },
  {
   "cell_type": "code",
   "execution_count": 7,
   "id": "004ba28b-a537-4b08-84b5-76913fdafb5f",
   "metadata": {
    "kernel": "Python3",
    "tags": []
   },
   "outputs": [],
   "source": [
    "## Annotate exome - write script\n",
    "for i in list((1,2,11)):\n",
    "    script='''#!/bin/sh\n",
    "#$ -l h_rt=24:00:00\n",
    "#$ -l h_vmem=10G\n",
    "#$ -N annotate_exome_chr%i\n",
    "#$ -o /home/tl3031/project/imputation-rvtest/analysis/imputation_aggregated_analysis/exome/scripts/annotate_exome_chr%i_$JOB_ID.out\n",
    "#$ -e /home/tl3031/project/imputation-rvtest/analysis/imputation_aggregated_analysis/exome/scripts/annotate_exome_chr%i_$JOB_ID.err\n",
    "#$ -q csg.q\n",
    " \n",
    "export PATH=$HOME/miniconda3/bin:$PATH\n",
    "module load Singularity\n",
    "\n",
    "sos run /home/tl3031/project/imputation-rvtest/analysis/imputation_aggregated_analysis/notebooks/annovar.ipynb annovar \\\n",
    "    --build 'hg38' \\\n",
    "    --cwd /home/tl3031/project/imputation-rvtest/analysis/imputation_aggregated_analysis/exome \\ \n",
    "    --bim_name /mnt/vast/hpc/csg/UKBiobank/data/exome_files/project_VCF/072721_run/plink/ukb23156_c%i.merged.filtered.bim \\\n",
    "    --humandb /mnt/mfs/statgen/isabelle/REF/humandb  \\\n",
    "    --job_size 1 \\\n",
    "    --name_prefix exome_168206_chr%i_hg38 \\\n",
    "    --container_annovar /mnt/mfs/statgen/containers/gatk4-annovar.sif\n",
    "'''%(i,i,i,i,i)\n",
    "    f=open(\"/home/tl3031/project/imputation-rvtest/analysis/imputation_aggregated_analysis/exome/scripts/annotate_exome_chr\"+str(i)+\".sh\", 'w')\n",
    "    f.write(script)\n",
    "    f.close()"
   ]
  },
  {
   "cell_type": "code",
   "execution_count": 8,
   "id": "c4e1e617-774e-4b2b-ae96-875c168d392d",
   "metadata": {
    "kernel": "Bash",
    "tags": []
   },
   "outputs": [
    {
     "name": "stdout",
     "output_type": "stream",
     "text": [
      "Your job 8658496 (\"annotate_exome_chr11\") has been submitted\n",
      "Your job 8658497 (\"annotate_exome_chr1\") has been submitted\n",
      "Your job 8658498 (\"annotate_exome_chr2\") has been submitted\n"
     ]
    }
   ],
   "source": [
    "cd /home/tl3031/project/imputation-rvtest/analysis/imputation_aggregated_analysis/exome/scripts/\n",
    "for i in annotate_exome_chr*sh; do qsub $i; done"
   ]
  },
  {
   "cell_type": "code",
   "execution_count": 9,
   "id": "60bf55bc-3a7f-41cf-9539-8496b3f38577",
   "metadata": {
    "kernel": "R",
    "tags": []
   },
   "outputs": [
    {
     "name": "stderr",
     "output_type": "stream",
     "text": [
      "Warning message:\n",
      "“\u001b[1m\u001b[22mThere was 1 warning in `mutate()`.\n",
      "\u001b[1m\u001b[22m\u001b[36mℹ\u001b[39m In argument: `AF_nfe_exome = as.numeric(AF_nfe_exome)`.\n",
      "Caused by warning:\n",
      "\u001b[33m!\u001b[39m NAs introduced by coercion”\n",
      "Warning message:\n",
      "“\u001b[1m\u001b[22mThere was 1 warning in `mutate()`.\n",
      "\u001b[1m\u001b[22m\u001b[36mℹ\u001b[39m In argument: `AF_nfe_exome = as.numeric(AF_nfe_exome)`.\n",
      "Caused by warning:\n",
      "\u001b[33m!\u001b[39m NAs introduced by coercion”\n",
      "Warning message:\n",
      "“\u001b[1m\u001b[22mThere was 1 warning in `mutate()`.\n",
      "\u001b[1m\u001b[22m\u001b[36mℹ\u001b[39m In argument: `AF_nfe_exome = as.numeric(AF_nfe_exome)`.\n",
      "Caused by warning:\n",
      "\u001b[33m!\u001b[39m NAs introduced by coercion”\n"
     ]
    }
   ],
   "source": [
    "## Format exome annotations - rename column names, remove unused columns\n",
    "library(dplyr)\n",
    "library(data.table)\n",
    "\n",
    "setwd(\"~/project/imputation-rvtest/analysis/imputation_aggregated_analysis/exome\")\n",
    "\n",
    "for(chr in c(1,2,11)){\n",
    "    annot <- data.table::fread(sprintf(\"ukb23156_c%i.merged.filtered.hg38.hg38_multianno.csv\", chr))\n",
    "    colnames(annot)[29:41] <- c(\"AF_genome\",\n",
    "                                \"AF_raw_genome\",\n",
    "                                \"AF_male_genome\",\n",
    "                                \"AF_female_genome\",\n",
    "                                \"AF_afr_genome\",\n",
    "                                \"AF_ami_genome\",\n",
    "                                \"AF_amr_genome\",\n",
    "                                \"AF_asj_genome\",\n",
    "                                \"AF_eas_genome\",\n",
    "                                \"AF_fin_genome\",\n",
    "                                \"AF_nfe_genome\",\n",
    "                                \"AF_oth_genome\",\n",
    "                                \"AF_sas_genome\")\n",
    "    colnames(annot)[42:54] <- c(\"AF_exome\",\n",
    "                                \"AF_popmax_exome\",\n",
    "                                \"AF_male_exome\",\n",
    "                                \"AF_female_exome\",\n",
    "                                \"AF_raw_exome\",\n",
    "                                \"AF_afr_exome\",\n",
    "                                \"AF_sas_exome\",\n",
    "                                \"AF_amr_exome\",\n",
    "                                \"AF_eas_exome\",\n",
    "                                \"AF_nfe_exome\",\n",
    "                                \"AF_fin_exome\",\n",
    "                                \"AF_asj_exome\",\n",
    "                                \"AF_oth_exome\")\n",
    "    annot <- annot %>% \n",
    "        mutate(AF_nfe_exome = as.numeric(AF_nfe_exome)) %>% \n",
    "        mutate(MAF_nfe_exome = ifelse(AF_nfe_exome > 0.5, 1 - AF_nfe_exome, AF_nfe_exome)) %>% \n",
    "        rename(\"ID_hg38\" = Otherinfo1) %>% \n",
    "        mutate(ID = paste(Chr, Start, Ref, Alt, sep = \":\")) %>% \n",
    "        mutate(ID = paste0(\"chr\", ID)) %>%\n",
    "        select(Chr, Start, End, Ref, Alt, Func.refGene, Gene.refGene, ExonicFunc.refGene, MAF_nfe_exome, REVEL_score, ID_hg38, ID, CADD_phred)\n",
    "    \n",
    "    data.table::fwrite(annot, sprintf(\"ukb23156_c%d.merged.filtered.hg38.hg38_multianno_formatted_sel_col.csv.gz\", chr))\n",
    "}"
   ]
  },
  {
   "cell_type": "markdown",
   "id": "d11d0ed7-ddb9-4980-a60b-1b06781e0dfd",
   "metadata": {
    "kernel": "SoS"
   },
   "source": [
    "## Extract monomorphic alleles"
   ]
  },
  {
   "cell_type": "code",
   "execution_count": 10,
   "id": "ab82d1ce-c638-4ec0-a718-707499526e86",
   "metadata": {
    "kernel": "Python3",
    "tags": []
   },
   "outputs": [],
   "source": [
    "for i in list((1,2,11)):\n",
    "    script='''#!/bin/sh\n",
    "#$ -l h_rt=24:00:00\n",
    "#$ -l h_vmem=10G\n",
    "#$ -N mono_exome_chr%i\n",
    "#$ -o /home/tl3031/project/imputation-rvtest/analysis/imputation_aggregated_analysis/exome/scripts/mono_exome_chr%i-$JOB_ID.out\n",
    "#$ -e /home/tl3031/project/imputation-rvtest/analysis/imputation_aggregated_analysis/exome/scripts/mono_exome_chr%i-$JOB_ID.err\n",
    "#$ -j y\n",
    "#$ -q csg.q\n",
    "#$ -S /bin/bash\n",
    "export PATH=$HOME/miniconda3/bin:$PATH\n",
    "module load Plink/1.9.10\n",
    "\n",
    "plink \\\n",
    "    --bfile ~/UKBiobank/data/exome_files/project_VCF/072721_run/plink/ukb23156_c%i.merged.filtered \\\n",
    "    --keep-fam /home/tl3031/project/imputation-rvtest/analysis/imputation_aggregated_analysis/168206ind.sample.txt \\\n",
    "    --freq counts \\\n",
    "    --out ~/project/imputation-rvtest/analysis/imputation_aggregated_analysis/exome/ukb23156_c%i.merged.filtered\n",
    "\n",
    "cd ~/project/imputation-rvtest/analysis/imputation_aggregated_analysis/exome/\n",
    "awk 'BEGIN {FS=\" \"; OFS=\" \"} {if(NR==1 || $5==0 || $6==0)print $2}' ukb23156_c%i.merged.filtered.frq.counts > monomorphic_chr%i_SNPs\n",
    "\n",
    "'''%(i,i,i,i,i,i,i)\n",
    "    f=open(\"/home/tl3031/project/imputation-rvtest/analysis/imputation_aggregated_analysis/exome/scripts/mono_exome_chr\"+str(i)+\".sh\", 'w')\n",
    "    f.write(script)\n",
    "    f.close()"
   ]
  },
  {
   "cell_type": "code",
   "execution_count": 11,
   "id": "1ff83851-8eec-45f7-a0a9-2ab4834272ed",
   "metadata": {
    "kernel": "Bash",
    "tags": []
   },
   "outputs": [
    {
     "name": "stdout",
     "output_type": "stream",
     "text": [
      "Your job 8658499 (\"mono_exome_chr11\") has been submitted\n",
      "Your job 8658500 (\"mono_exome_chr1\") has been submitted\n",
      "Your job 8658501 (\"mono_exome_chr2\") has been submitted\n"
     ]
    }
   ],
   "source": [
    "cd /home/tl3031/project/imputation-rvtest/analysis/imputation_aggregated_analysis/exome/scripts/\n",
    "for i in mono_exome_chr*sh; do qsub $i; done"
   ]
  },
  {
   "cell_type": "markdown",
   "id": "fa7bf437-bfc8-4533-939f-9f711afcaf5f",
   "metadata": {
    "kernel": "SoS"
   },
   "source": [
    "## Filter Exome"
   ]
  },
  {
   "cell_type": "code",
   "execution_count": 12,
   "id": "1fb9a307-3fe4-45b7-81b5-dea6dd6610e6",
   "metadata": {
    "kernel": "R",
    "tags": []
   },
   "outputs": [],
   "source": [
    "library(dplyr)\n",
    "library(data.table)\n",
    "\n",
    "setwd(\"~/project/imputation-rvtest/analysis/imputation_aggregated_analysis/exome\")"
   ]
  },
  {
   "cell_type": "code",
   "execution_count": 13,
   "id": "fd7da789-cde2-40bb-985a-efd5e31bcb40",
   "metadata": {
    "kernel": "R",
    "tags": []
   },
   "outputs": [
    {
     "name": "stderr",
     "output_type": "stream",
     "text": [
      "Warning message:\n",
      "“\u001b[1m\u001b[22mExpected 3 pieces. Additional pieces discarded in 278 rows [38948, 38949,\n",
      "38964, 38965, 38966, 38967, 38968, 38969, 38970, 38980, 38983, 38989, 38992,\n",
      "38993, 39033, 39034, 39035, 39036, 51737, 51738, ...].”\n",
      "Warning message:\n",
      "“\u001b[1m\u001b[22mExpected 3 pieces. Missing pieces filled with `NA` in 477795 rows [1, 2, 3, 4,\n",
      "5, 6, 7, 8, 9, 10, 11, 12, 13, 14, 15, 16, 17, 18, 19, 20, ...].”\n",
      "Warning message:\n",
      "“\u001b[1m\u001b[22mExpected 3 pieces. Additional pieces discarded in 278 rows [38870, 38871,\n",
      "38886, 38887, 38888, 38889, 38890, 38891, 38892, 38902, 38905, 38911, 38914,\n",
      "38915, 38955, 38956, 38957, 38958, 51617, 51618, ...].”\n",
      "Warning message:\n",
      "“\u001b[1m\u001b[22mExpected 3 pieces. Missing pieces filled with `NA` in 476890 rows [1, 2, 3, 4,\n",
      "5, 6, 7, 8, 9, 10, 11, 12, 13, 14, 15, 16, 17, 18, 19, 20, ...].”\n",
      "Warning message:\n",
      "“\u001b[1m\u001b[22mExpected 3 pieces. Additional pieces discarded in 274 rows [38531, 38532,\n",
      "38547, 38548, 38549, 38550, 38551, 38552, 38553, 38563, 38566, 38572, 38575,\n",
      "38576, 38615, 38616, 38617, 38618, 51151, 51152, ...].”\n",
      "Warning message:\n",
      "“\u001b[1m\u001b[22mExpected 3 pieces. Missing pieces filled with `NA` in 473432 rows [1, 2, 3, 4,\n",
      "5, 6, 7, 8, 9, 10, 11, 12, 13, 14, 15, 16, 17, 18, 19, 20, ...].”\n",
      "Warning message:\n",
      "“\u001b[1m\u001b[22mExpected 3 pieces. Additional pieces discarded in 357 rows [15017, 15146,\n",
      "15149, 15150, 15173, 15179, 15197, 15202, 15203, 15204, 15226, 15227, 15228,\n",
      "15255, 15260, 15261, 15350, 15361, 15389, 15390, ...].”\n",
      "Warning message:\n",
      "“\u001b[1m\u001b[22mExpected 3 pieces. Missing pieces filled with `NA` in 345071 rows [1, 2, 3, 4,\n",
      "5, 6, 7, 8, 9, 10, 11, 12, 13, 14, 15, 16, 17, 18, 19, 20, ...].”\n",
      "Warning message:\n",
      "“\u001b[1m\u001b[22mExpected 3 pieces. Additional pieces discarded in 356 rows [15001, 15130,\n",
      "15133, 15134, 15157, 15163, 15181, 15186, 15187, 15188, 15210, 15211, 15212,\n",
      "15239, 15244, 15245, 15333, 15344, 15371, 15372, ...].”\n",
      "Warning message:\n",
      "“\u001b[1m\u001b[22mExpected 3 pieces. Missing pieces filled with `NA` in 344463 rows [1, 2, 3, 4,\n",
      "5, 6, 7, 8, 9, 10, 11, 12, 13, 14, 15, 16, 17, 18, 19, 20, ...].”\n",
      "Warning message:\n",
      "“\u001b[1m\u001b[22mExpected 3 pieces. Additional pieces discarded in 356 rows [14901, 15030,\n",
      "15033, 15034, 15057, 15063, 15081, 15086, 15087, 15088, 15110, 15111, 15112,\n",
      "15139, 15144, 15145, 15233, 15244, 15271, 15272, ...].”\n",
      "Warning message:\n",
      "“\u001b[1m\u001b[22mExpected 3 pieces. Missing pieces filled with `NA` in 341959 rows [1, 2, 3, 4,\n",
      "5, 6, 7, 8, 9, 10, 11, 12, 13, 14, 15, 16, 17, 18, 19, 20, ...].”\n",
      "Warning message:\n",
      "“\u001b[1m\u001b[22mExpected 3 pieces. Additional pieces discarded in 184 rows [20003, 20004,\n",
      "33346, 33347, 33352, 33422, 33423, 33424, 33425, 33429, 33430, 33431, 33432,\n",
      "33433, 33434, 33446, 33487, 33490, 33491, 33492, ...].”\n",
      "Warning message:\n",
      "“\u001b[1m\u001b[22mExpected 3 pieces. Missing pieces filled with `NA` in 293295 rows [1, 2, 3, 4,\n",
      "5, 6, 7, 8, 9, 10, 11, 12, 13, 14, 15, 16, 17, 18, 19, 20, ...].”\n",
      "Warning message:\n",
      "“\u001b[1m\u001b[22mExpected 3 pieces. Additional pieces discarded in 182 rows [19942, 19943,\n",
      "33258, 33259, 33264, 33334, 33335, 33336, 33337, 33341, 33342, 33343, 33344,\n",
      "33345, 33346, 33358, 33399, 33402, 33403, 33404, ...].”\n",
      "Warning message:\n",
      "“\u001b[1m\u001b[22mExpected 3 pieces. Missing pieces filled with `NA` in 292734 rows [1, 2, 3, 4,\n",
      "5, 6, 7, 8, 9, 10, 11, 12, 13, 14, 15, 16, 17, 18, 19, 20, ...].”\n",
      "Warning message:\n",
      "“\u001b[1m\u001b[22mExpected 3 pieces. Additional pieces discarded in 179 rows [19737, 19738,\n",
      "32942, 32943, 32948, 33018, 33019, 33020, 33021, 33025, 33026, 33027, 33028,\n",
      "33029, 33030, 33042, 33082, 33085, 33086, 33087, ...].”\n",
      "Warning message:\n",
      "“\u001b[1m\u001b[22mExpected 3 pieces. Missing pieces filled with `NA` in 290611 rows [1, 2, 3, 4,\n",
      "5, 6, 7, 8, 9, 10, 11, 12, 13, 14, 15, 16, 17, 18, 19, 20, ...].”\n"
     ]
    }
   ],
   "source": [
    "filter_df <- data.frame(data.frame(matrix(ncol = 6, nrow = 0)))\n",
    "\n",
    "for(i in c(1, 2, 11)){\n",
    "    for(maf in c(0.01, 0.005, 0.001)){\n",
    "        annot <- data.table::fread(sprintf(\"ukb23156_c%d.merged.filtered.hg38.hg38_multianno_formatted_sel_col.csv.gz\", i)) %>% select(-CADD_phred)\n",
    "        mono <- data.table::fread(sprintf(\"monomorphic_chr%d_SNPs\", i))\n",
    "        maf_c <- gsub(\"\\\\.\", \"\", as.character(maf))\n",
    "        \n",
    "        annot_maf <- annot %>% \n",
    "            filter(!ID_hg38 %in% mono$SNP) %>% \n",
    "            filter(is.na(MAF_nfe_exome) | MAF_nfe_exome < maf) \n",
    "        \n",
    "        annot_func <- annot_maf %>% \n",
    "            filter(Func.refGene %in% c(\"exonic\", \"splicing\", \"exonic;splicing\")) %>%\n",
    "            filter(ExonicFunc.refGene != 'unknown') %>% \n",
    "            filter(ExonicFunc.refGene != 'synonymous SNV' & ExonicFunc.refGene != 'nonframeshift substitution') %>%\n",
    "            mutate(Function = ifelse(ExonicFunc.refGene == \"nonsynonymous SNV\", \"missense\", \"\")) %>%\n",
    "            mutate(Function = ifelse(grepl(\"splicing\", Func.refGene), \"splicing\", Function)) %>%\n",
    "            mutate(Function = ifelse(ExonicFunc.refGene %in% c(\"stopgain\", \"stoploss\", \"startloss\", \"frameshift substitution\"), \"LoF\", Function))\n",
    "        \n",
    "        annot_func <- annot_func %>% \n",
    "            tidyr::separate(Gene.refGene, c(\"Gene.refGene\", \"discard_1\", \"discard_2\"), sep = \";\") %>% \n",
    "            select(-discard_1, -discard_2)\n",
    "        \n",
    "        gene_list <- annot_func %>% pull(Gene.refGene) %>% table() %>% as.data.frame() %>% filter(Freq >= 2) %>% pull(1)\n",
    "        annot_final <- annot_func %>% filter(Gene.refGene %in% gene_list)\n",
    "        \n",
    "        ## output all variants\n",
    "        data.table::fwrite(annot_func, \n",
    "                           sprintf(\"ukb23156_c%d.merged.filtered.hg38.hg38_multianno_formatted_sel_col_maf%s_LOF_missense_all.csv.gz\", i, maf_c), \n",
    "                           quote = FALSE)\n",
    "        \n",
    "        ## output all variants snplist\n",
    "        write.table(annot_func$ID_hg38, \n",
    "                    sprintf(\"ukb23156_c%d.merged.filtered.hg38.hg38_multianno_formatted_sel_col_maf%s_LOF_missense_all.extractlist.snplist\", i, maf_c), \n",
    "                    col.names = FALSE, row.name = FALSE, quote = FALSE)\n",
    "        \n",
    "        ## output genes with 2 or more variants\n",
    "        data.table::fwrite(annot_final, \n",
    "                           sprintf(\"ukb23156_c%d.merged.filtered.hg38.hg38_multianno_formatted_sel_col_maf%s_LOF_missense.csv.gz\", i, maf_c), \n",
    "                           quote = FALSE)\n",
    "        \n",
    "        ## output genes with 2 or more variants snplist\n",
    "        write.table(annot_final$ID_hg38, \n",
    "            sprintf(\"ukb23156_c%d.merged.filtered.hg38.hg38_multianno_formatted_sel_col_maf%s_LOF_missense.extractlist.snplist\", i, maf_c), \n",
    "            col.names = FALSE, row.name = FALSE, quote = FALSE)\n",
    "        \n",
    "        sub_df <- data.frame(data = \"exome\", chromosome = i, maf = maf, \n",
    "                             total_num_var = nrow(annot), \n",
    "                             maf_filtering_var = nrow(annot_maf),\n",
    "                             function_filtering_var = sprintf(\"%d (%d)\", nrow(annot_func), length(unique(annot_func$Gene.refGene))),\n",
    "                             gene_filtering_var = sprintf(\"%d (%d)\", nrow(annot_final), length(gene_list)))\n",
    "        filter_df <- rbind(filter_df, sub_df)\n",
    "    }\n",
    "}"
   ]
  },
  {
   "cell_type": "code",
   "execution_count": 14,
   "id": "d5ddc94e-6c42-4e1b-becc-e35cd6f2822e",
   "metadata": {
    "kernel": "R",
    "tags": []
   },
   "outputs": [
    {
     "data": {
      "text/html": [
       "<table class=\"dataframe\">\n",
       "<caption>A data.frame: 9 × 7</caption>\n",
       "<thead>\n",
       "\t<tr><th scope=col>data</th><th scope=col>chromosome</th><th scope=col>maf</th><th scope=col>total_num_var</th><th scope=col>maf_filtering_var</th><th scope=col>function_filtering_var</th><th scope=col>gene_filtering_var</th></tr>\n",
       "\t<tr><th scope=col>&lt;chr&gt;</th><th scope=col>&lt;dbl&gt;</th><th scope=col>&lt;dbl&gt;</th><th scope=col>&lt;int&gt;</th><th scope=col>&lt;int&gt;</th><th scope=col>&lt;chr&gt;</th><th scope=col>&lt;chr&gt;</th></tr>\n",
       "</thead>\n",
       "<tbody>\n",
       "\t<tr><td>exome</td><td> 1</td><td>0.010</td><td>1587094</td><td>1269959</td><td>478357 (1953)</td><td>478357 (1953)</td></tr>\n",
       "\t<tr><td>exome</td><td> 1</td><td>0.005</td><td>1587094</td><td>1267652</td><td>477452 (1953)</td><td>477452 (1953)</td></tr>\n",
       "\t<tr><td>exome</td><td> 1</td><td>0.001</td><td>1587094</td><td>1259467</td><td>473986 (1953)</td><td>473986 (1953)</td></tr>\n",
       "\t<tr><td>exome</td><td> 2</td><td>0.010</td><td>1141868</td><td> 910875</td><td>345527 (1193)</td><td>345527 (1193)</td></tr>\n",
       "\t<tr><td>exome</td><td> 2</td><td>0.005</td><td>1141868</td><td> 909318</td><td>344918 (1193)</td><td>344918 (1193)</td></tr>\n",
       "\t<tr><td>exome</td><td> 2</td><td>0.001</td><td>1141868</td><td> 903385</td><td>342413 (1193)</td><td>342413 (1193)</td></tr>\n",
       "\t<tr><td>exome</td><td>11</td><td>0.010</td><td> 958927</td><td> 766172</td><td>293784 (1248)</td><td>293784 (1248)</td></tr>\n",
       "\t<tr><td>exome</td><td>11</td><td>0.005</td><td> 958927</td><td> 764880</td><td>293221 (1248)</td><td>293221 (1248)</td></tr>\n",
       "\t<tr><td>exome</td><td>11</td><td>0.001</td><td> 958927</td><td> 759851</td><td>291093 (1248)</td><td>291093 (1248)</td></tr>\n",
       "</tbody>\n",
       "</table>\n"
      ],
      "text/latex": [
       "A data.frame: 9 × 7\n",
       "\\begin{tabular}{lllllll}\n",
       " data & chromosome & maf & total\\_num\\_var & maf\\_filtering\\_var & function\\_filtering\\_var & gene\\_filtering\\_var\\\\\n",
       " <chr> & <dbl> & <dbl> & <int> & <int> & <chr> & <chr>\\\\\n",
       "\\hline\n",
       "\t exome &  1 & 0.010 & 1587094 & 1269959 & 478357 (1953) & 478357 (1953)\\\\\n",
       "\t exome &  1 & 0.005 & 1587094 & 1267652 & 477452 (1953) & 477452 (1953)\\\\\n",
       "\t exome &  1 & 0.001 & 1587094 & 1259467 & 473986 (1953) & 473986 (1953)\\\\\n",
       "\t exome &  2 & 0.010 & 1141868 &  910875 & 345527 (1193) & 345527 (1193)\\\\\n",
       "\t exome &  2 & 0.005 & 1141868 &  909318 & 344918 (1193) & 344918 (1193)\\\\\n",
       "\t exome &  2 & 0.001 & 1141868 &  903385 & 342413 (1193) & 342413 (1193)\\\\\n",
       "\t exome & 11 & 0.010 &  958927 &  766172 & 293784 (1248) & 293784 (1248)\\\\\n",
       "\t exome & 11 & 0.005 &  958927 &  764880 & 293221 (1248) & 293221 (1248)\\\\\n",
       "\t exome & 11 & 0.001 &  958927 &  759851 & 291093 (1248) & 291093 (1248)\\\\\n",
       "\\end{tabular}\n"
      ],
      "text/markdown": [
       "\n",
       "A data.frame: 9 × 7\n",
       "\n",
       "| data &lt;chr&gt; | chromosome &lt;dbl&gt; | maf &lt;dbl&gt; | total_num_var &lt;int&gt; | maf_filtering_var &lt;int&gt; | function_filtering_var &lt;chr&gt; | gene_filtering_var &lt;chr&gt; |\n",
       "|---|---|---|---|---|---|---|\n",
       "| exome |  1 | 0.010 | 1587094 | 1269959 | 478357 (1953) | 478357 (1953) |\n",
       "| exome |  1 | 0.005 | 1587094 | 1267652 | 477452 (1953) | 477452 (1953) |\n",
       "| exome |  1 | 0.001 | 1587094 | 1259467 | 473986 (1953) | 473986 (1953) |\n",
       "| exome |  2 | 0.010 | 1141868 |  910875 | 345527 (1193) | 345527 (1193) |\n",
       "| exome |  2 | 0.005 | 1141868 |  909318 | 344918 (1193) | 344918 (1193) |\n",
       "| exome |  2 | 0.001 | 1141868 |  903385 | 342413 (1193) | 342413 (1193) |\n",
       "| exome | 11 | 0.010 |  958927 |  766172 | 293784 (1248) | 293784 (1248) |\n",
       "| exome | 11 | 0.005 |  958927 |  764880 | 293221 (1248) | 293221 (1248) |\n",
       "| exome | 11 | 0.001 |  958927 |  759851 | 291093 (1248) | 291093 (1248) |\n",
       "\n"
      ],
      "text/plain": [
       "  data  chromosome maf   total_num_var maf_filtering_var function_filtering_var\n",
       "1 exome  1         0.010 1587094       1269959           478357 (1953)         \n",
       "2 exome  1         0.005 1587094       1267652           477452 (1953)         \n",
       "3 exome  1         0.001 1587094       1259467           473986 (1953)         \n",
       "4 exome  2         0.010 1141868        910875           345527 (1193)         \n",
       "5 exome  2         0.005 1141868        909318           344918 (1193)         \n",
       "6 exome  2         0.001 1141868        903385           342413 (1193)         \n",
       "7 exome 11         0.010  958927        766172           293784 (1248)         \n",
       "8 exome 11         0.005  958927        764880           293221 (1248)         \n",
       "9 exome 11         0.001  958927        759851           291093 (1248)         \n",
       "  gene_filtering_var\n",
       "1 478357 (1953)     \n",
       "2 477452 (1953)     \n",
       "3 473986 (1953)     \n",
       "4 345527 (1193)     \n",
       "5 344918 (1193)     \n",
       "6 342413 (1193)     \n",
       "7 293784 (1248)     \n",
       "8 293221 (1248)     \n",
       "9 291093 (1248)     "
      ]
     },
     "metadata": {},
     "output_type": "display_data"
    }
   ],
   "source": [
    "filter_df"
   ]
  },
  {
   "cell_type": "markdown",
   "id": "9f1fdc67-a3f1-43fa-bf6d-325dedca2b90",
   "metadata": {
    "kernel": "R"
   },
   "source": [
    "## Subsetting for CADD_c-score"
   ]
  },
  {
   "cell_type": "markdown",
   "id": "d57096a6-2db4-4c88-a75a-1bb828808513",
   "metadata": {
    "kernel": "R"
   },
   "source": [
    "We are not using the CADD_c-score provided by the annovar pipeline since the database included in the pipeline do not annotate all variants. There is an annovar CADD database for all variants, but we are not using it for this project. \n",
    "\n",
    "In order to retrieve the CADD_c-score for variants of interest, we manually upload them to the [CADD website](https://cadd.gs.washington.edu/score) for queries. The website accepts 5-column vcf file for up to 2MB."
   ]
  },
  {
   "cell_type": "code",
   "execution_count": 15,
   "id": "c1a24167-a6d6-4194-b392-291d81e75b83",
   "metadata": {
    "kernel": "Python3",
    "tags": []
   },
   "outputs": [],
   "source": [
    "for i in list((1,2,11)):\n",
    "        script='''#!/bin/sh\n",
    "#$ -l h_rt=48:00:00\n",
    "#$ -l h_vmem=64G\n",
    "#$ -N extract_filtered_maf001_chr%i\n",
    "#$ -o /home/tl3031/project/imputation-rvtest/analysis/imputation_aggregated_analysis/exome/scripts/make_5col_vcf_maf001_chr%i_$JOB_ID.out\n",
    "#$ -e /home/tl3031/project/imputation-rvtest/analysis/imputation_aggregated_analysis/exome/scripts/make_5col_vcf_maf001_chr%i_$JOB_ID.out\n",
    "#$ -q csg.q\n",
    "#$ -S /bin/bash\n",
    "\n",
    "export PATH=$HOME/miniconda3/bin:$PATH\n",
    "module load Plink/1.9.10\n",
    "module load HTSLIB/1.17\n",
    "cd ~/project/imputation-rvtest/analysis/imputation_aggregated_analysis/exome\n",
    "\n",
    "plink \\\n",
    "    --bfile /home/tl3031/UKBiobank/data/exome_files/project_VCF/072721_run/plink/ukb23156_c%i.merged.filtered \\\n",
    "    --keep-fam /home/tl3031/project/imputation-rvtest/analysis/imputation_aggregated_analysis/168206ind.sample.txt \\\n",
    "    --extract ukb23156_c%i.merged.filtered.hg38.hg38_multianno_formatted_sel_col_maf001_LOF_missense_all.extractlist.snplist \\\n",
    "    --make-bed \\\n",
    "    --export vcf bgz \\\n",
    "    --out ukb23156_c%i_maf001_LOF_missense_all_extracted\n",
    "\n",
    "zcat ukb23156_c%i_maf001_LOF_missense_all_extracted.vcf.gz | cut -f-5 > ukb23156_c%i_maf001_LOF_missense_all_extracted_5col.vcf\n",
    "\n",
    "'''%(i,i,i,i,i,i,i,i)\n",
    "        f=open(\"/home/tl3031/project/imputation-rvtest/analysis/imputation_aggregated_analysis/exome/scripts/make_5col_vcf_maf001_chr\"+str(i)+\".sh\", 'w')\n",
    "        f.write(script)\n",
    "        f.close()"
   ]
  },
  {
   "cell_type": "markdown",
   "id": "aad735ae-6434-4ad1-9f27-71d7c84f52e9",
   "metadata": {
    "kernel": "SoS"
   },
   "source": [
    "Since the maximum file size for CADD server is 2MB, need to split VCF for chromosome 1 and 2 into smaller files"
   ]
  },
  {
   "cell_type": "code",
   "execution_count": 16,
   "id": "38fbd8e9-1fb8-4e94-9b25-bd82594480c9",
   "metadata": {
    "kernel": "Bash",
    "tags": []
   },
   "outputs": [],
   "source": [
    "cd ~/project/imputation-rvtest/analysis/imputation_aggregated_analysis/exome\n",
    "\n",
    "split -l 100000 ukb23156_c1_maf001_LOF_missense_all_extracted_5col.vcf ukb23156_c1_maf001_LOF_missense_all_extracted_5col.\n",
    "split -l 100000 ukb23156_c2_maf001_LOF_missense_all_extracted_5col.vcf ukb23156_c2_maf001_LOF_missense_all_extracted_5col.\n",
    "split -l 100000 ukb23156_c11_maf001_LOF_missense_all_extracted_5col.vcf ukb23156_c11_maf001_LOF_missense_all_extracted_5col.\n",
    "\n",
    "for i in ukb23156_c*_maf001_LOF_missense_all_extracted_5col.a*; do bgzip ${i}; done"
   ]
  },
  {
   "cell_type": "markdown",
   "id": "da5e2e7b-d000-4aaf-8e9f-cafecd0fae96",
   "metadata": {
    "kernel": "SoS"
   },
   "source": [
    "After downloading all the files and gunzipped and renamed, need some post processing steps."
   ]
  },
  {
   "cell_type": "code",
   "execution_count": 17,
   "id": "43d08345-9e70-4117-83df-2d51dd93f15e",
   "metadata": {
    "kernel": "Bash",
    "tags": []
   },
   "outputs": [],
   "source": [
    "for i in 1 2 11; do\n",
    "    for j in GRCh38-v1.6_chr${i}_*.tsv; do\n",
    "        sed -i '1,2d' ${j};\n",
    "    done\n",
    "done\n",
    "\n",
    "cat GRCh38-v1.6_chr1_*.tsv > GRCh38-v1.6_chr1_all.tsv\n",
    "cat GRCh38-v1.6_chr2_*.tsv > GRCh38-v1.6_chr2_all.tsv\n",
    "cat GRCh38-v1.6_chr11_*.tsv > GRCh38-v1.6_chr11_all.tsv"
   ]
  },
  {
   "cell_type": "markdown",
   "id": "df61e8cc-f6be-4c7e-a2b1-5240d2767237",
   "metadata": {
    "kernel": "SoS"
   },
   "source": [
    "Fill in the missing variants by requerying"
   ]
  },
  {
   "cell_type": "code",
   "execution_count": 18,
   "id": "25767968-19cc-4309-9ddf-5d772bb78c58",
   "metadata": {
    "kernel": "R",
    "tags": []
   },
   "outputs": [],
   "source": [
    "setwd(\"~/project/imputation-rvtest/analysis/imputation_aggregated_analysis/exome\")\n",
    "\n",
    "for(i in c(1,2,11)){\n",
    "    annot <- data.table::fread(sprintf(\"ukb23156_c%i.merged.filtered.hg38.hg38_multianno_formatted_sel_col_maf001_LOF_missense_all.csv.gz\", i))\n",
    "\n",
    "    cadd <- data.table::fread(sprintf(\"GRCh38-v1.6_chr%i_all.tsv\", i), header = FALSE) %>% arrange(V2)\n",
    "    colnames(cadd) <- c(\"Chr\", \"Start\", \"Ref\", \"Alt\", \"RawScore\", \"PHRED\")\n",
    "\n",
    "    annot_cadd <- left_join(annot, cadd)\n",
    "    annot_cadd_miss <- annot_cadd[which(is.na(annot_cadd$PHRED)),] %>% \n",
    "            mutate(ID = paste(Chr, Start, Ref, Alt, sep = \":\")) %>%\n",
    "            select(Chr, Start, ID, Ref, Alt)\n",
    "    data.table::fwrite(annot_cadd_miss, sprintf(\"ukb23156_c%i_maf001_LOF_missense_all_extracted_5col.miss\", i), sep = \"\\t\")\n",
    "}"
   ]
  },
  {
   "cell_type": "markdown",
   "id": "52a691a6-171d-45b3-9e6f-8fe89ba927ae",
   "metadata": {
    "kernel": "SoS"
   },
   "source": [
    "Then, merge the CADD score to the annotation and filter."
   ]
  },
  {
   "cell_type": "code",
   "execution_count": 19,
   "id": "d4297353-6cce-4c09-a1eb-0378ee0db76f",
   "metadata": {
    "kernel": "R",
    "tags": []
   },
   "outputs": [
    {
     "name": "stderr",
     "output_type": "stream",
     "text": [
      "\u001b[1m\u001b[22mJoining with `by = join_by(Chr, Start, Ref, Alt)`\n",
      "\u001b[1m\u001b[22mJoining with `by = join_by(Chr, Start, Ref, Alt, RawScore, PHRED)`\n",
      "\u001b[1m\u001b[22mJoining with `by = join_by(Chr, Start, Ref, Alt, RawScore, PHRED)`\n",
      "\u001b[1m\u001b[22mJoining with `by = join_by(Chr, Start, Ref, Alt)`\n",
      "\u001b[1m\u001b[22mJoining with `by = join_by(Chr, Start, Ref, Alt, RawScore, PHRED)`\n",
      "\u001b[1m\u001b[22mJoining with `by = join_by(Chr, Start, Ref, Alt, RawScore, PHRED)`\n",
      "\u001b[1m\u001b[22mJoining with `by = join_by(Chr, Start, Ref, Alt)`\n",
      "\u001b[1m\u001b[22mJoining with `by = join_by(Chr, Start, Ref, Alt, RawScore, PHRED)`\n",
      "\u001b[1m\u001b[22mJoining with `by = join_by(Chr, Start, Ref, Alt, RawScore, PHRED)`\n"
     ]
    }
   ],
   "source": [
    "library(data.table)\n",
    "library(dplyr)\n",
    "\n",
    "setwd(\"~/project/imputation-rvtest/analysis/imputation_aggregated_analysis/exome\")\n",
    "\n",
    "for(i in c(1,2,11)){\n",
    "    for(maf in c(0.01, 0.001, 0.005)){\n",
    "        maf_c <- gsub(\"\\\\.\", \"\", as.character(maf))\n",
    "        annot <- fread(sprintf(\"ukb23156_c%i.merged.filtered.hg38.hg38_multianno_formatted_sel_col_maf001_LOF_missense_all.csv.gz\", i))\n",
    "\n",
    "        cadd <- fread(sprintf(\"GRCh38-v1.6_chr%i_all.tsv\", i), header = FALSE) %>% arrange(V2)\n",
    "        cadd_miss <- fread(sprintf(\"GRCh38-v1.6_chr%i_miss.tsv\", i), header = FALSE) %>% arrange(V2)\n",
    "        cadd_all <- rbind(cadd, cadd_miss)\n",
    "        colnames(cadd_all) <- c(\"Chr\", \"Start\", \"Ref\", \"Alt\", \"RawScore\", \"PHRED\")\n",
    "\n",
    "        annot_all <- left_join(annot, cadd_all) %>% filter(is.na(MAF_nfe_exome) | MAF_nfe_exome < maf)\n",
    "        annot_all_lof <- annot_all %>% filter(Function == \"LoF\")\n",
    "        annot_all_cadd <- annot_all %>% filter(Function != \"LoF\") %>% filter(as.numeric(PHRED) >= 20)\n",
    "        \n",
    "        gene_list <- annot_all %>% pull(Gene.refGene) %>% table() %>% as.data.frame() %>% filter(Freq > 1) %>% pull(1)\n",
    "        annot_final <- annot_all %>% filter(Gene.refGene %in% gene_list)\n",
    "        annot_final_lof <- annot_final %>% filter(Function == \"LoF\")\n",
    "        annot_final_cadd <- annot_final %>% filter(Function != \"LoF\") %>% filter(as.numeric(PHRED) >= 20)\n",
    "        \n",
    "        ## >= 1 variant\n",
    "        fwrite(annot_all, \n",
    "               sprintf(\"ukb23156_c%d.merged.filtered.hg38.hg38_multianno_formatted_sel_col_maf%s_LOF_missense_all.csv.gz\", i, maf_c), \n",
    "               quote = FALSE)\n",
    "        \n",
    "        write.table(annot_all$ID_hg38, \n",
    "                    sprintf(\"ukb23156_c%d.merged.filtered.hg38.hg38_multianno_formatted_sel_col_maf%s_LOF_missense_all.extractlist.snplist\", i, maf_c), \n",
    "                    col.names = FALSE, row.name = FALSE, quote = FALSE)\n",
    "        \n",
    "        ## >= 1 variant + CADD filtering\n",
    "        fwrite(rbind(annot_all_lof, annot_all_cadd), \n",
    "               sprintf(\"ukb23156_c%d.merged.filtered.hg38.hg38_multianno_formatted_sel_col_maf%s_LOF_missense_all_cadd.csv.gz\", i, maf_c), \n",
    "               quote = FALSE)\n",
    "        \n",
    "        write.table(rbind(annot_all_lof, annot_all_cadd) %>% pull(ID_hg38), \n",
    "                    sprintf(\"ukb23156_c%d.merged.filtered.hg38.hg38_multianno_formatted_sel_col_maf%s_LOF_missense_all_cadd.extractlist.snplist\", i, maf_c), \n",
    "                    col.names = FALSE, row.name = FALSE, quote = FALSE)\n",
    "        \n",
    "        ## >= 2 variant\n",
    "        data.table::fwrite(annot_final, \n",
    "                           sprintf(\"ukb23156_c%d.merged.filtered.hg38.hg38_multianno_formatted_sel_col_maf%s_LOF_missense.csv.gz\", i, maf_c), \n",
    "                           quote = FALSE)\n",
    "        \n",
    "        write.table(annot_final$ID_hg38, \n",
    "            sprintf(\"ukb23156_c%d.merged.filtered.hg38.hg38_multianno_formatted_sel_col_maf%s_LOF_missense.extractlist.snplist\", i, maf_c), \n",
    "            col.names = FALSE, row.name = FALSE, quote = FALSE)\n",
    "        \n",
    "        ## >= 2 variant + CADD filtering\n",
    "        fwrite(rbind(annot_final_lof, annot_final_cadd), \n",
    "               sprintf(\"ukb23156_c%d.merged.filtered.hg38.hg38_multianno_formatted_sel_col_maf%s_LOF_missense_cadd.csv.gz\", i, maf_c), \n",
    "               quote = FALSE)\n",
    "        \n",
    "        write.table(rbind(annot_all_lof, annot_all_cadd) %>% pull(ID_hg38), \n",
    "                    sprintf(\"ukb23156_c%d.merged.filtered.hg38.hg38_multianno_formatted_sel_col_maf%s_LOF_missense_cadd.extractlist.snplist\", i, maf_c), \n",
    "                    col.names = FALSE, row.name = FALSE, quote = FALSE)\n",
    "    }   \n",
    "}\n"
   ]
  },
  {
   "cell_type": "code",
   "execution_count": 20,
   "id": "c25aef65-6d86-46f1-833b-4ba643c6a094",
   "metadata": {
    "kernel": "SoS",
    "tags": []
   },
   "outputs": [],
   "source": [
    "# for i in list((1,2,11)):\n",
    "#     for j in list((\"1\", \"05\", \"01\")):\n",
    "#         for k in list((\"\", \"_cadd\")):\n",
    "#             script='''#!/bin/sh\n",
    "# #$ -l h_rt=48:00:00\n",
    "# #$ -l h_vmem=64G\n",
    "# #$ -N extract_filtered_maf00%s_chr%i%s\n",
    "# #$ -o /home/tl3031/project/imputation-rvtest/analysis/imputation_aggregated_analysis/exome/scripts/extract_filtered_maf00%s_chr%i%s_$JOB_ID.out\n",
    "# #$ -e /home/tl3031/project/imputation-rvtest/analysis/imputation_aggregated_analysis/exome/scripts/extract_filtered_maf00%s_chr%i%s_$JOB_ID.err\n",
    "# #$ -q csg.q\n",
    "# #$ -S /bin/bash\n",
    "# export PATH=$HOME/miniconda3/bin:$PATH\n",
    "# module load Plink/1.9.10\n",
    "\n",
    "# cd ~/project/imputation-rvtest/analysis/imputation_aggregated_analysis/exome\n",
    "# plink \\\n",
    "#     --bfile /home/tl3031/UKBiobank/data/exome_files/project_VCF/072721_run/plink/ukb23156_c%i.merged.filtered \\\n",
    "#     --keep-fam /home/tl3031/project/imputation-rvtest/analysis/imputation_aggregated_analysis/168206ind.sample.txt \\\n",
    "#     --extract ukb23156_c%i.merged.filtered.hg38.hg38_multianno_formatted_sel_col_maf00%s_LOF_missense%s.extractlist.snplist \\\n",
    "#     --make-bed \\\n",
    "#     --out ukb23156_c%i_maf00%s_LOF_missense%s_extracted\n",
    "\n",
    "# '''%(j,i,k,j,i,k,j,i,k,i,i,j,k,i,j,k)\n",
    "#             f=open(\"/home/tl3031/project/imputation-rvtest/analysis/imputation_aggregated_analysis/exome/scripts/extract_filtered_maf00\"+j+\"_chr\"+str(i)+k+\".sh\", 'w')\n",
    "#             f.write(script)\n",
    "#             f.close()"
   ]
  },
  {
   "cell_type": "code",
   "execution_count": null,
   "id": "4738b433-d5a0-4234-92ae-5551e819a01d",
   "metadata": {
    "kernel": "SoS"
   },
   "outputs": [],
   "source": []
  }
 ],
 "metadata": {
  "kernelspec": {
   "display_name": "SoS",
   "language": "sos",
   "name": "sos"
  },
  "language_info": {
   "codemirror_mode": "sos",
   "file_extension": ".sos",
   "mimetype": "text/x-sos",
   "name": "sos",
   "nbconvert_exporter": "sos_notebook.converter.SoS_Exporter",
   "pygments_lexer": "sos"
  },
  "sos": {
   "kernels": [
    [
     "Bash",
     "calysto_bash",
     "Bash",
     "#E6EEFF",
     "shell"
    ],
    [
     "Python3",
     "python3",
     "Python3",
     "#FFD91A",
     {
      "name": "ipython",
      "version": 3
     }
    ],
    [
     "R",
     "ir",
     "R",
     "#DCDCDA",
     "r"
    ],
    [
     "SoS",
     "sos",
     "",
     "",
     "sos"
    ]
   ],
   "version": "0.24.3"
  }
 },
 "nbformat": 4,
 "nbformat_minor": 5
}

{
 "cells": [
  {
   "cell_type": "markdown",
   "id": "136e351c-e15b-47ec-975a-5b21ccb2f414",
   "metadata": {
    "kernel": "SoS",
    "tags": []
   },
   "source": [
    "# Imputed Data Processing"
   ]
  },
  {
   "cell_type": "markdown",
   "id": "51b90b49-9861-471c-b9d5-a380e1efca6f",
   "metadata": {
    "kernel": "SoS"
   },
   "source": [
    "This notebook records the steps to prepare input for imputation and post-imputation processing steps"
   ]
  },
  {
   "cell_type": "markdown",
   "id": "b1b28527-f7b8-46a1-99c1-a8e88648a4d2",
   "metadata": {
    "kernel": "SoS"
   },
   "source": [
    "## 1. Imputation input preparation"
   ]
  },
  {
   "cell_type": "markdown",
   "id": "14873dbf-3077-4e36-9f30-75e30cc92cbf",
   "metadata": {
    "kernel": "SoS"
   },
   "source": [
    "### 1.1 Divide the 168,206 individuals into 7 batches of 25k\n",
    "\n",
    "TOPMed imputation server can only accept maximum 25k ID in one file."
   ]
  },
  {
   "cell_type": "code",
   "execution_count": 1,
   "id": "3daaa2a9-7768-42e6-9c1c-140ca49969e0",
   "metadata": {
    "kernel": "R",
    "tags": []
   },
   "outputs": [
    {
     "name": "stderr",
     "output_type": "stream",
     "text": [
      "\n",
      "Attaching package: ‘dplyr’\n",
      "\n",
      "\n",
      "The following objects are masked from ‘package:stats’:\n",
      "\n",
      "    filter, lag\n",
      "\n",
      "\n",
      "The following objects are masked from ‘package:base’:\n",
      "\n",
      "    intersect, setdiff, setequal, union\n",
      "\n",
      "\n",
      "\n",
      "Attaching package: ‘data.table’\n",
      "\n",
      "\n",
      "The following objects are masked from ‘package:dplyr’:\n",
      "\n",
      "    between, first, last\n",
      "\n",
      "\n"
     ]
    }
   ],
   "source": [
    "library(dplyr)\n",
    "library(data.table)\n",
    "\n",
    "setwd(\"~/project/imputation-rvtest/analysis/imputation_aggregated_analysis\")\n",
    "\n",
    "idx <- lapply(c(1:7), function(x) rep(x, 25000)) %>% unlist()\n",
    "idx <- idx[c(1:168206)]\n",
    "\n",
    "iid_lst <- fread(\"168206ind.sample.txt\") %>% mutate(idx = idx) %>% group_by(idx) %>% group_split() %>% lapply(function(x) x$V1)\n",
    "for(i in c(1:7)){\n",
    "    write.table(iid_lst[[i]], sprintf(\"./imputation_input/168206ind_sample_batch%d.txt\", i), col.names = FALSE, row.names = FALSE, quote = FALSE)\n",
    "}"
   ]
  },
  {
   "cell_type": "markdown",
   "id": "8e5cbde7-5fe4-4457-a499-afad9ef810b6",
   "metadata": {
    "kernel": "R"
   },
   "source": [
    "### 1.2 Create per chromosome .vcf.gz file "
   ]
  },
  {
   "cell_type": "code",
   "execution_count": 2,
   "id": "70d85bfa-4201-4e32-b245-e5b1d576c364",
   "metadata": {
    "kernel": "Bash",
    "tags": []
   },
   "outputs": [],
   "source": [
    "for i in list((1,2,11)):\n",
    "    for j in range(1,8):\n",
    "        script='''#!/bin/sh\n",
    "#$ -l h_rt=24:00:00\n",
    "#$ -l h_vmem=10G\n",
    "#$ -N make_impute_input_chr%i_batch%i\n",
    "#$ -o ~/project/imputation-rvtest/analysis/imputation_aggregated_analysis/imputation_input/scripts/make_impute_input_chr%i_batch%i_$JOB_ID.out\n",
    "#$ -e ~/project/imputation-rvtest/analysis/imputation_aggregated_analysis/imputation_input/scripts/make_impute_input_chr%i_batch%i_$JOB_ID.err\n",
    "#$ -j y\n",
    "#$ -q csg.q\n",
    "#$ -S /bin/bash\n",
    "export PATH=$HOME/miniconda3/bin:$PATH\n",
    "module load Plink/1.9.10\n",
    "\n",
    "plink \\\n",
    "    --bfile /mnt/mfs/statgen/UKBiobank/QCed_Plink_autosomal_files_hg38/QCed_White_EU_460649ind_10212022_hg38_sorted \\\n",
    "    --chr %i \\\n",
    "    --keep-fam ~/project/imputation-rvtest/analysis/imputation_aggregated_analysis/imputation_input/168206ind_sample_batch%i.txt \\\n",
    "    --make-bed \\\n",
    "    --output-chr chrM \\\n",
    "    --recode vcf bgz \\\n",
    "    --out ~/project/imputation-rvtest/analysis/imputation_aggregated_analysis/imputation_input/imputation_input_hg38_sorted_unrelated_white_eur_extracted_168206ind_chr%i_batch%i\n",
    "\n",
    "'''%(i,j,i,j,i,j,i,j,i,j)\n",
    "        f=open(\"/home/tl3031/project/imputation-rvtest/analysis/imputation_aggregated_analysis/imputation_input/scripts/make_impute_input_chr\"+str(i)+\"_batch\"+str(j)+\".sh\", 'w')\n",
    "        f.write(script)\n",
    "        f.close()"
   ]
  },
  {
   "cell_type": "code",
   "execution_count": 3,
   "id": "1042c044-f886-48cd-8eab-8b9974fb9746",
   "metadata": {
    "kernel": "Bash",
    "tags": []
   },
   "outputs": [
    {
     "name": "stdout",
     "output_type": "stream",
     "text": [
      "Your job 8646158 (\"make_impute_input_chr1_batch1\") has been submitted\n",
      "Your job 8646159 (\"make_impute_input_chr1_batch2\") has been submitted\n",
      "Your job 8646160 (\"make_impute_input_chr1_batch3\") has been submitted\n",
      "Your job 8646161 (\"make_impute_input_chr1_batch4\") has been submitted\n",
      "Your job 8646162 (\"make_impute_input_chr1_batch5\") has been submitted\n",
      "Your job 8646163 (\"make_impute_input_chr1_batch6\") has been submitted\n",
      "Your job 8646164 (\"make_impute_input_chr1_batch7\") has been submitted\n",
      "Your job 8646165 (\"make_impute_input_chr2_batch1\") has been submitted\n",
      "Your job 8646166 (\"make_impute_input_chr2_batch2\") has been submitted\n",
      "Your job 8646167 (\"make_impute_input_chr2_batch3\") has been submitted\n",
      "Your job 8646168 (\"make_impute_input_chr2_batch4\") has been submitted\n",
      "Your job 8646169 (\"make_impute_input_chr2_batch5\") has been submitted\n",
      "Your job 8646170 (\"make_impute_input_chr2_batch6\") has been submitted\n",
      "Your job 8646171 (\"make_impute_input_chr2_batch7\") has been submitted\n",
      "Your job 8646172 (\"make_impute_input_chr11_batch1\") has been submitted\n",
      "Your job 8646173 (\"make_impute_input_chr11_batch2\") has been submitted\n",
      "Your job 8646174 (\"make_impute_input_chr11_batch3\") has been submitted\n",
      "Your job 8646175 (\"make_impute_input_chr11_batch4\") has been submitted\n",
      "Your job 8646176 (\"make_impute_input_chr11_batch5\") has been submitted\n",
      "Your job 8646177 (\"make_impute_input_chr11_batch6\") has been submitted\n",
      "Your job 8646178 (\"make_impute_input_chr11_batch7\") has been submitted\n"
     ]
    }
   ],
   "source": [
    "for i in 1 2 11; do\n",
    "    for j in {1..7}; do\n",
    "        qsub ~/project/imputation-rvtest/analysis/imputation_aggregated_analysis/imputation_input/scripts/make_impute_input_chr${i}_batch${j}.sh\n",
    "    done;\n",
    "done"
   ]
  },
  {
   "cell_type": "markdown",
   "id": "3abc6e66-f663-43c7-bc95-ad06ca02417e",
   "metadata": {
    "kernel": "R"
   },
   "source": [
    "## 2. Upload file to server and download\n",
    "\n",
    "[TOPMed Imputation Server - TOPMed](https://imputation.biodatacatalyst.nhlbi.nih.gov/#!)\n",
    "\n",
    "[Michigan Imputation Server - HRC](https://imputationserver.sph.umich.edu/index.html#!)"
   ]
  },
  {
   "cell_type": "markdown",
   "id": "d300199f-d78d-46b3-a53a-2d70e2f315bc",
   "metadata": {
    "kernel": "R"
   },
   "source": [
    "## 3. Imputation file post-processing"
   ]
  },
  {
   "cell_type": "markdown",
   "id": "b4c9eb3d-52ef-4836-a4c6-5487458f656f",
   "metadata": {
    "kernel": "Bash"
   },
   "source": [
    "### 3.1 TOPMed r3\n",
    "\n",
    "Because of the sample size limit of the imputation servers, we need to concatenate imputed files into one in order to calculate the overall $R^2$ for each variant.\n",
    "\n",
    "The TOPMed team has provided [hds-util](https://github.com/statgen/hds-util), a post-processing tool for Minimac4 and Michigan Imputation Server (MIS). It can generate FORMAT fields from HDS, convert from the SAV file format to BCF or VCF, and paste together sample groups that were split due to MIS sample size limit.\n",
    "\n",
    "**Problem:**\n",
    "\n",
    "TOPMed-r3 panel has changed there way of handling allele flipping problem, therefore resulting in mis-matched variants and cannot be directly pasted together using their provided `hds-utils`. This problem occured becuase when splitting the imputation input into batches of 25,000 ids, `Plink 1.9` will code the reference and alternative alleles as major and minor based on their MAF in that batch. This leads to a problem, since for each of the variant, each batch could have a different major and minor allele. \n",
    "\n",
    "**Provided solution:**\n",
    "\n",
    "The TOPMed imputation team has suggested two solutions: 1). Process the imputation input and re-run the imputation; 2). Remove the mis-matched variants and paste them together. \n",
    "\n",
    "\n",
    "**Our solution:**\n",
    "\n",
    "We wanted to choose the second solution, but before removing, we neeed to check how much variants we are removing and whether the removal going to affect our rare variant aggregate analysis result a lot."
   ]
  },
  {
   "cell_type": "markdown",
   "id": "63f573a5-824d-4f28-891a-e0be34930b7e",
   "metadata": {
    "kernel": "Bash",
    "tags": []
   },
   "source": [
    "#### 3.11 Recode downloaded vcf files"
   ]
  },
  {
   "cell_type": "code",
   "execution_count": 4,
   "id": "cc007d4e-69bb-4bc8-aca8-1510c1a19e71",
   "metadata": {
    "kernel": "Bash",
    "tags": []
   },
   "outputs": [],
   "source": [
    "for i in list((1,2,11)):\n",
    "    for j in list((1,2,3,4,5,6,7)):\n",
    "        script='''#!/bin/sh\n",
    "#$ -l h_rt=24:00:00\n",
    "#$ -l h_vmem=10G\n",
    "#$ -N recode_dosage_chr%i_batch%i\n",
    "#$ -o ~/project/imputation-rvtest/analysis/imputation_aggregated_analysis/topmed_v3/scripts/recode_dosage_chr%i_batch%i_$JOB_ID.out\n",
    "#$ -e ~/project/imputation-rvtest/analysis/imputation_aggregated_analysis/topmed_v3/scripts/recode_dosage_chr%i_batch%i_$JOB_ID.err\n",
    "#$ -cwd\n",
    "#$ -S /bin/bash\n",
    "#$ -q csg.q\n",
    "\n",
    "module load Plink/2.00a\n",
    "cd ~/project/imputation-rvtest/analysis/imputation_aggregated_analysis/topmed_v3/topmed_batch%i\n",
    "\n",
    "chr=%i\n",
    "\n",
    "plink2 \\\n",
    "    --vcf chr${chr}.dose.vcf.gz dosage=HDS \\\n",
    "    --make-bpgen \\\n",
    "    --sort-vars \\\n",
    "    --set-all-var-ids chr@:#:\\$r:\\$a \\\n",
    "    --new-id-max-allele-len 200 \\\n",
    "    --keep-allele-order \\\n",
    "    --recode vcf bgz vcf-dosage=HDS-force \\\n",
    "    --out chr${chr}.dose.recoded\n",
    "\n",
    "'''%(i,j,i,j,i,j,j,i)\n",
    "        f=open(\"/home/tl3031/project/imputation-rvtest/analysis/imputation_aggregated_analysis/topmed_v3/scripts/recode_dosage_chr\"+str(i)+\"_batch\"+str(j)+\".sh\", 'w')\n",
    "        f.write(script)\n",
    "        f.close()"
   ]
  },
  {
   "cell_type": "markdown",
   "id": "7253ee29-5015-4fb6-8bea-72bae2bedfc6",
   "metadata": {
    "kernel": "Python3",
    "tags": []
   },
   "source": [
    "#### 3.12 Check mismatched alleles"
   ]
  },
  {
   "cell_type": "code",
   "execution_count": 5,
   "id": "70867e5a-70b6-4da0-8207-9ce0d5404218",
   "metadata": {
    "kernel": "R",
    "tags": []
   },
   "outputs": [],
   "source": [
    "library(dplyr)\n",
    "library(data.table)\n",
    "\n",
    "setwd(\"/mnt/vast/hpc/csg/tl3031/imputation-rvtest/analysis/imputation_aggregated_analysis/topmed_v3\")\n",
    "\n",
    "for(chr in c(1,2,11)){\n",
    "    batch1 <- fread(sprintf(\"./topmed_batch1/chr%i.dose.recoded.bim\", chr))\n",
    "    batch2 <- fread(sprintf(\"./topmed_batch2/chr%i.dose.recoded.bim\", chr))\n",
    "    batch3 <- fread(sprintf(\"./topmed_batch3/chr%i.dose.recoded.bim\", chr))\n",
    "    batch4 <- fread(sprintf(\"./topmed_batch4/chr%i.dose.recoded.bim\", chr))\n",
    "    batch5 <- fread(sprintf(\"./topmed_batch5/chr%i.dose.recoded.bim\", chr))\n",
    "    batch6 <- fread(sprintf(\"./topmed_batch6/chr%i.dose.recoded.bim\", chr))\n",
    "    batch7 <- fread(sprintf(\"./topmed_batch7/chr%i.dose.recoded.bim\", chr))\n",
    "    \n",
    "    all_lists <- list(batch1$V2, batch2$V2, batch3$V2, batch4$V2, batch5$V2, batch6$V2, batch7$V2) \n",
    "    common_elements <- Reduce(intersect, all_lists)\n",
    "    \n",
    "    batch1 %>% filter(!V2 %in% common_elements) %>% fwrite(sprintf(\"./topmed_batch1/chr%i.dose.mismatch.bim\", chr), col.names = FALSE, sep = \"\\t\")\n",
    "    batch2 %>% filter(!V2 %in% common_elements) %>% fwrite(sprintf(\"./topmed_batch2/chr%i.dose.mismatch.bim\", chr), col.names = FALSE, sep = \"\\t\")\n",
    "    batch3 %>% filter(!V2 %in% common_elements) %>% fwrite(sprintf(\"./topmed_batch3/chr%i.dose.mismatch.bim\", chr), col.names = FALSE, sep = \"\\t\")\n",
    "    batch4 %>% filter(!V2 %in% common_elements) %>% fwrite(sprintf(\"./topmed_batch4/chr%i.dose.mismatch.bim\", chr), col.names = FALSE, sep = \"\\t\")\n",
    "    batch5 %>% filter(!V2 %in% common_elements) %>% fwrite(sprintf(\"./topmed_batch5/chr%i.dose.mismatch.bim\", chr), col.names = FALSE, sep = \"\\t\")\n",
    "    batch6 %>% filter(!V2 %in% common_elements) %>% fwrite(sprintf(\"./topmed_batch6/chr%i.dose.mismatch.bim\", chr), col.names = FALSE, sep = \"\\t\")\n",
    "    batch7 %>% filter(!V2 %in% common_elements) %>% fwrite(sprintf(\"./topmed_batch7/chr%i.dose.mismatch.bim\", chr), col.names = FALSE, sep = \"\\t\")\n",
    "}\n",
    "\n",
    "for(chr in c(1,2,11)){\n",
    "    mis_batch1 <- fread(sprintf(\"./topmed_batch1/chr%i.dose.mismatch.bim\", chr))\n",
    "    mis_batch2 <- fread(sprintf(\"./topmed_batch2/chr%i.dose.mismatch.bim\", chr))\n",
    "    mis_batch3 <- fread(sprintf(\"./topmed_batch3/chr%i.dose.mismatch.bim\", chr))\n",
    "    mis_batch4 <- fread(sprintf(\"./topmed_batch4/chr%i.dose.mismatch.bim\", chr))\n",
    "    mis_batch5 <- fread(sprintf(\"./topmed_batch5/chr%i.dose.mismatch.bim\", chr))\n",
    "    mis_batch6 <- fread(sprintf(\"./topmed_batch6/chr%i.dose.mismatch.bim\", chr))\n",
    "    mis_batch7 <- fread(sprintf(\"./topmed_batch7/chr%i.dose.mismatch.bim\", chr))\n",
    "    \n",
    "    all_mis <- rbind(mis_batch1, mis_batch2, mis_batch3, mis_batch4, mis_batch5, mis_batch6, mis_batch7)\n",
    "    unique(all_mis) %>% fwrite(sprintf(\"./chr%i.mismatch.all.bim\", chr), col.names = FALSE, sep = \"\\t\")\n",
    "}"
   ]
  },
  {
   "cell_type": "markdown",
   "id": "5da734e0-6ad6-42fa-9597-5bc9f6a0d422",
   "metadata": {
    "kernel": "R"
   },
   "source": [
    "#### 3.13 Annotate mismatches"
   ]
  },
  {
   "cell_type": "code",
   "execution_count": 6,
   "id": "09026a34-e4de-423c-a610-2dd0e26af3e3",
   "metadata": {
    "kernel": "Python3",
    "tags": []
   },
   "outputs": [],
   "source": [
    "for i in list((1,2,11)):\n",
    "        script='''#!/bin/sh\n",
    "#$ -l h_rt=24:00:00\n",
    "#$ -l h_vmem=30G\n",
    "#$ -N annotate_topmed_v3_mismatch_chr%i\n",
    "#$ -o /mnt/vast/hpc/csg/tl3031/imputation-rvtest/analysis/imputation_aggregated_analysis/topmed_v3/scripts/annotate_mismatch_chr%i_$JOB_ID.out\n",
    "#$ -e /mnt/vast/hpc/csg/tl3031/imputation-rvtest/analysis/imputation_aggregated_analysis/topmed_v3/scripts/annotate_mismatch_chr%i_$JOB_ID.err\n",
    "#$ -j y\n",
    "#$ -q csg.q\n",
    "\n",
    "source ~/mamba_activate.sh\n",
    "module load Singularity\n",
    "\n",
    "sos run /mnt/vast/hpc/csg/tl3031/imputation-rvtest/analysis/imputation_aggregated_analysis/notebooks/annovar.ipynb annovar \\\n",
    "    --build 'hg38' \\\n",
    "    --cwd /mnt/vast/hpc/csg/tl3031/imputation-rvtest/analysis/imputation_aggregated_analysis/topmed_v3 \\\n",
    "    --bim_name /mnt/vast/hpc/csg/tl3031/imputation-rvtest/analysis/imputation_aggregated_analysis/topmed_v3/chr%i.mismatch.all.bim \\\n",
    "    --humandb /mnt/vast/hpc/csg/isabelle/REF/humandb  \\\n",
    "    --job_size 1 \\\n",
    "    --name_prefix topmed_v3_chr%i_mismatch \\\n",
    "    --container_annovar /mnt/mfs/statgen/containers/gatk4-annovar.sif\n",
    "\n",
    "'''%(i,i,i,i,i)\n",
    "        f=open(\"/mnt/vast/hpc/csg/tl3031/imputation-rvtest/analysis/imputation_aggregated_analysis/topmed_v3/scripts/annotate_mismatch_topmed_chr\"+str(i)+\".sh\", 'w')\n",
    "        f.write(script)\n",
    "        f.close()"
   ]
  },
  {
   "cell_type": "code",
   "execution_count": 1,
   "id": "a9ba2397-269f-45d8-bdfe-d29e33becfcc",
   "metadata": {
    "kernel": "R",
    "tags": []
   },
   "outputs": [
    {
     "name": "stderr",
     "output_type": "stream",
     "text": [
      "\n",
      "Attaching package: ‘dplyr’\n",
      "\n",
      "\n",
      "The following objects are masked from ‘package:data.table’:\n",
      "\n",
      "    between, first, last\n",
      "\n",
      "\n",
      "The following objects are masked from ‘package:stats’:\n",
      "\n",
      "    filter, lag\n",
      "\n",
      "\n",
      "The following objects are masked from ‘package:base’:\n",
      "\n",
      "    intersect, setdiff, setequal, union\n",
      "\n",
      "\n"
     ]
    }
   ],
   "source": [
    "setwd('/mnt/vast/hpc/csg/tl3031/imputation-rvtest/analysis/imputation_aggregated_analysis/topmed_v3')\n",
    "\n",
    "library(data.table)\n",
    "library(dplyr)"
   ]
  },
  {
   "cell_type": "code",
   "execution_count": 2,
   "id": "4bdd0fc0-1575-4111-86db-0e8d02ca6284",
   "metadata": {
    "kernel": "R",
    "tags": []
   },
   "outputs": [
    {
     "data": {
      "text/html": [
       "<style>\n",
       ".list-inline {list-style: none; margin:0; padding: 0}\n",
       ".list-inline>li {display: inline-block}\n",
       ".list-inline>li:not(:last-child)::after {content: \"\\00b7\"; padding: 0 .5ex}\n",
       "</style>\n",
       "<ol class=list-inline><li>129</li><li>135</li></ol>\n"
      ],
      "text/latex": [
       "\\begin{enumerate*}\n",
       "\\item 129\n",
       "\\item 135\n",
       "\\end{enumerate*}\n"
      ],
      "text/markdown": [
       "1. 129\n",
       "2. 135\n",
       "\n",
       "\n"
      ],
      "text/plain": [
       "[1] 129 135"
      ]
     },
     "metadata": {},
     "output_type": "display_data"
    },
    {
     "data": {
      "text/html": [
       "<table class=\"dataframe\">\n",
       "<caption>A data.table: 11 × 135</caption>\n",
       "<thead>\n",
       "\t<tr><th scope=col>Chr</th><th scope=col>Start</th><th scope=col>End</th><th scope=col>Ref</th><th scope=col>Alt</th><th scope=col>Func.refGene</th><th scope=col>Gene.refGene</th><th scope=col>GeneDetail.refGene</th><th scope=col>ExonicFunc.refGene</th><th scope=col>AAChange.refGene</th><th scope=col>⋯</th><th scope=col>CLNDISDB</th><th scope=col>CLNREVSTAT</th><th scope=col>CLNSIG</th><th scope=col>DN ID</th><th scope=col>Patient ID</th><th scope=col>Phenotype</th><th scope=col>Platform</th><th scope=col>Study</th><th scope=col>Pubmed ID</th><th scope=col>Otherinfo1</th></tr>\n",
       "\t<tr><th scope=col>&lt;int&gt;</th><th scope=col>&lt;int&gt;</th><th scope=col>&lt;int&gt;</th><th scope=col>&lt;chr&gt;</th><th scope=col>&lt;chr&gt;</th><th scope=col>&lt;chr&gt;</th><th scope=col>&lt;chr&gt;</th><th scope=col>&lt;chr&gt;</th><th scope=col>&lt;chr&gt;</th><th scope=col>&lt;chr&gt;</th><th scope=col>⋯</th><th scope=col>&lt;chr&gt;</th><th scope=col>&lt;chr&gt;</th><th scope=col>&lt;chr&gt;</th><th scope=col>&lt;chr&gt;</th><th scope=col>&lt;chr&gt;</th><th scope=col>&lt;chr&gt;</th><th scope=col>&lt;chr&gt;</th><th scope=col>&lt;chr&gt;</th><th scope=col>&lt;chr&gt;</th><th scope=col>&lt;chr&gt;</th></tr>\n",
       "</thead>\n",
       "<tbody>\n",
       "\t<tr><td>1</td><td> 23520972</td><td> 23520972</td><td>A</td><td>C</td><td>exonic         </td><td>E2F2       </td><td>.                                                                                                                                                 </td><td>synonymous SNV</td><td>E2F2:NM_004091:exon4:c.G678G:p.Q226Q                                                </td><td>⋯</td><td>.</td><td>.</td><td>.</td><td>.</td><td>.</td><td>.</td><td>.</td><td>.</td><td>.</td><td>chr1:23520972:A:C </td></tr>\n",
       "\t<tr><td>1</td><td> 41513154</td><td> 41513154</td><td>G</td><td>C</td><td>exonic         </td><td>HIVEP3     </td><td>.                                                                                                                                                 </td><td>synonymous SNV</td><td>HIVEP3:NM_001127714:exon7:c.G6067G:p.A2023A,HIVEP3:NM_024503:exon8:c.G6067G:p.A2023A</td><td>⋯</td><td>.</td><td>.</td><td>.</td><td>.</td><td>.</td><td>.</td><td>.</td><td>.</td><td>.</td><td>chr1:41513154:G:C </td></tr>\n",
       "\t<tr><td>1</td><td> 64647885</td><td> 64647885</td><td>C</td><td>T</td><td>exonic         </td><td>CACHD1     </td><td>.                                                                                                                                                 </td><td>synonymous SNV</td><td>CACHD1:NM_001293274:exon8:c.T353T:p.M118M,CACHD1:NM_020925:exon9:c.T1241T:p.M414M   </td><td>⋯</td><td>.</td><td>.</td><td>.</td><td>.</td><td>.</td><td>.</td><td>.</td><td>.</td><td>.</td><td>chr1:64647885:C:T </td></tr>\n",
       "\t<tr><td>1</td><td> 66822362</td><td> 66822362</td><td>T</td><td>C</td><td>exonic;splicing</td><td>DNAI4;DNAI4</td><td>.                                                                                                                                                 </td><td>synonymous SNV</td><td>DNAI4:NM_024763:exon16:c.G2495G:p.R832R                                             </td><td>⋯</td><td>.</td><td>.</td><td>.</td><td>.</td><td>.</td><td>.</td><td>.</td><td>.</td><td>.</td><td>chr1:66822362:T:C </td></tr>\n",
       "\t<tr><td>1</td><td> 99851033</td><td> 99851033</td><td>G</td><td>A</td><td>splicing       </td><td>AGL        </td><td>NM_000644:exon2:UTR5                                                                                                                              </td><td>.             </td><td>.                                                                                   </td><td>⋯</td><td>.</td><td>.</td><td>.</td><td>.</td><td>.</td><td>.</td><td>.</td><td>.</td><td>.</td><td>chr1:99851033:G:A </td></tr>\n",
       "\t<tr><td>1</td><td>175077653</td><td>175077653</td><td>G</td><td>A</td><td>exonic         </td><td>TNN        </td><td>.                                                                                                                                                 </td><td>synonymous SNV</td><td>TNN:NM_022093:exon2:c.A235A:p.R79R                                                  </td><td>⋯</td><td>.</td><td>.</td><td>.</td><td>.</td><td>.</td><td>.</td><td>.</td><td>.</td><td>.</td><td>chr1:175077653:G:A</td></tr>\n",
       "\t<tr><td>1</td><td>202335740</td><td>202335740</td><td>C</td><td>T</td><td>exonic         </td><td>UBE2T      </td><td>.                                                                                                                                                 </td><td>synonymous SNV</td><td>UBE2T:NM_014176:exon2:c.A15A:p.S5S                                                  </td><td>⋯</td><td>.</td><td>.</td><td>.</td><td>.</td><td>.</td><td>.</td><td>.</td><td>.</td><td>.</td><td>chr1:202335740:C:T</td></tr>\n",
       "\t<tr><td>1</td><td>207090484</td><td>207090484</td><td>G</td><td>A</td><td><span style=white-space:pre-wrap>splicing       </span></td><td><span style=white-space:pre-wrap>C4BPB      </span></td><td>NM_001017366:exon3:c.229+3G&gt;A;NM_001017365:exon3:c.232+3G&gt;A;NM_000716:exon2:c.232+3G&gt;A;NM_001017364:exon2:c.229+3G&gt;A;NM_001017367:exon3:c.232+3G&gt;A</td><td><span style=white-space:pre-wrap>.             </span></td><td><span style=white-space:pre-wrap>.                                                                                   </span></td><td>⋯</td><td>.</td><td>.</td><td>.</td><td>.</td><td>.</td><td>.</td><td>.</td><td>.</td><td>.</td><td>chr1:207090484:G:A</td></tr>\n",
       "\t<tr><td>1</td><td>197101771</td><td>197101771</td><td>G</td><td>A</td><td>exonic         </td><td>ASPM       </td><td>.                                                                                                                                                 </td><td>synonymous SNV</td><td>ASPM:NM_018136:exon18:c.T7480T:p.Y2494Y                                             </td><td>⋯</td><td>.</td><td>.</td><td>.</td><td>.</td><td>.</td><td>.</td><td>.</td><td>.</td><td>.</td><td>chr1:197101771:G:A</td></tr>\n",
       "\t<tr><td>1</td><td>201386394</td><td>201386394</td><td>C</td><td>T</td><td>exonic         </td><td>LAD1       </td><td>.                                                                                                                                                 </td><td>synonymous SNV</td><td>LAD1:NM_005558:exon3:c.A967A:p.K323K                                                </td><td>⋯</td><td>.</td><td>.</td><td>.</td><td>.</td><td>.</td><td>.</td><td>.</td><td>.</td><td>.</td><td>chr1:201386394:C:T</td></tr>\n",
       "\t<tr><td>1</td><td>247589065</td><td>247589065</td><td>G</td><td>A</td><td>exonic         </td><td>OR2G2      </td><td>.                                                                                                                                                 </td><td>synonymous SNV</td><td>OR2G2:NM_001001915:exon1:c.A706A:p.R236R                                            </td><td>⋯</td><td>.</td><td>.</td><td>.</td><td>.</td><td>.</td><td>.</td><td>.</td><td>.</td><td>.</td><td>chr1:247589065:G:A</td></tr>\n",
       "</tbody>\n",
       "</table>\n"
      ],
      "text/latex": [
       "A data.table: 11 × 135\n",
       "\\begin{tabular}{lllllllllllllllllllll}\n",
       " Chr & Start & End & Ref & Alt & Func.refGene & Gene.refGene & GeneDetail.refGene & ExonicFunc.refGene & AAChange.refGene & ⋯ & CLNDISDB & CLNREVSTAT & CLNSIG & DN ID & Patient ID & Phenotype & Platform & Study & Pubmed ID & Otherinfo1\\\\\n",
       " <int> & <int> & <int> & <chr> & <chr> & <chr> & <chr> & <chr> & <chr> & <chr> & ⋯ & <chr> & <chr> & <chr> & <chr> & <chr> & <chr> & <chr> & <chr> & <chr> & <chr>\\\\\n",
       "\\hline\n",
       "\t 1 &  23520972 &  23520972 & A & C & exonic          & E2F2        & .                                                                                                                                                  & synonymous SNV & E2F2:NM\\_004091:exon4:c.G678G:p.Q226Q                                                 & ⋯ & . & . & . & . & . & . & . & . & . & chr1:23520972:A:C \\\\\n",
       "\t 1 &  41513154 &  41513154 & G & C & exonic          & HIVEP3      & .                                                                                                                                                  & synonymous SNV & HIVEP3:NM\\_001127714:exon7:c.G6067G:p.A2023A,HIVEP3:NM\\_024503:exon8:c.G6067G:p.A2023A & ⋯ & . & . & . & . & . & . & . & . & . & chr1:41513154:G:C \\\\\n",
       "\t 1 &  64647885 &  64647885 & C & T & exonic          & CACHD1      & .                                                                                                                                                  & synonymous SNV & CACHD1:NM\\_001293274:exon8:c.T353T:p.M118M,CACHD1:NM\\_020925:exon9:c.T1241T:p.M414M    & ⋯ & . & . & . & . & . & . & . & . & . & chr1:64647885:C:T \\\\\n",
       "\t 1 &  66822362 &  66822362 & T & C & exonic;splicing & DNAI4;DNAI4 & .                                                                                                                                                  & synonymous SNV & DNAI4:NM\\_024763:exon16:c.G2495G:p.R832R                                              & ⋯ & . & . & . & . & . & . & . & . & . & chr1:66822362:T:C \\\\\n",
       "\t 1 &  99851033 &  99851033 & G & A & splicing        & AGL         & NM\\_000644:exon2:UTR5                                                                                                                               & .              & .                                                                                    & ⋯ & . & . & . & . & . & . & . & . & . & chr1:99851033:G:A \\\\\n",
       "\t 1 & 175077653 & 175077653 & G & A & exonic          & TNN         & .                                                                                                                                                  & synonymous SNV & TNN:NM\\_022093:exon2:c.A235A:p.R79R                                                   & ⋯ & . & . & . & . & . & . & . & . & . & chr1:175077653:G:A\\\\\n",
       "\t 1 & 202335740 & 202335740 & C & T & exonic          & UBE2T       & .                                                                                                                                                  & synonymous SNV & UBE2T:NM\\_014176:exon2:c.A15A:p.S5S                                                   & ⋯ & . & . & . & . & . & . & . & . & . & chr1:202335740:C:T\\\\\n",
       "\t 1 & 207090484 & 207090484 & G & A & splicing        & C4BPB       & NM\\_001017366:exon3:c.229+3G>A;NM\\_001017365:exon3:c.232+3G>A;NM\\_000716:exon2:c.232+3G>A;NM\\_001017364:exon2:c.229+3G>A;NM\\_001017367:exon3:c.232+3G>A & .              & .                                                                                    & ⋯ & . & . & . & . & . & . & . & . & . & chr1:207090484:G:A\\\\\n",
       "\t 1 & 197101771 & 197101771 & G & A & exonic          & ASPM        & .                                                                                                                                                  & synonymous SNV & ASPM:NM\\_018136:exon18:c.T7480T:p.Y2494Y                                              & ⋯ & . & . & . & . & . & . & . & . & . & chr1:197101771:G:A\\\\\n",
       "\t 1 & 201386394 & 201386394 & C & T & exonic          & LAD1        & .                                                                                                                                                  & synonymous SNV & LAD1:NM\\_005558:exon3:c.A967A:p.K323K                                                 & ⋯ & . & . & . & . & . & . & . & . & . & chr1:201386394:C:T\\\\\n",
       "\t 1 & 247589065 & 247589065 & G & A & exonic          & OR2G2       & .                                                                                                                                                  & synonymous SNV & OR2G2:NM\\_001001915:exon1:c.A706A:p.R236R                                             & ⋯ & . & . & . & . & . & . & . & . & . & chr1:247589065:G:A\\\\\n",
       "\\end{tabular}\n"
      ],
      "text/markdown": [
       "\n",
       "A data.table: 11 × 135\n",
       "\n",
       "| Chr &lt;int&gt; | Start &lt;int&gt; | End &lt;int&gt; | Ref &lt;chr&gt; | Alt &lt;chr&gt; | Func.refGene &lt;chr&gt; | Gene.refGene &lt;chr&gt; | GeneDetail.refGene &lt;chr&gt; | ExonicFunc.refGene &lt;chr&gt; | AAChange.refGene &lt;chr&gt; | ⋯ ⋯ | CLNDISDB &lt;chr&gt; | CLNREVSTAT &lt;chr&gt; | CLNSIG &lt;chr&gt; | DN ID &lt;chr&gt; | Patient ID &lt;chr&gt; | Phenotype &lt;chr&gt; | Platform &lt;chr&gt; | Study &lt;chr&gt; | Pubmed ID &lt;chr&gt; | Otherinfo1 &lt;chr&gt; |\n",
       "|---|---|---|---|---|---|---|---|---|---|---|---|---|---|---|---|---|---|---|---|---|\n",
       "| 1 |  23520972 |  23520972 | A | C | exonic          | E2F2        | .                                                                                                                                                  | synonymous SNV | E2F2:NM_004091:exon4:c.G678G:p.Q226Q                                                 | ⋯ | . | . | . | . | . | . | . | . | . | chr1:23520972:A:C  |\n",
       "| 1 |  41513154 |  41513154 | G | C | exonic          | HIVEP3      | .                                                                                                                                                  | synonymous SNV | HIVEP3:NM_001127714:exon7:c.G6067G:p.A2023A,HIVEP3:NM_024503:exon8:c.G6067G:p.A2023A | ⋯ | . | . | . | . | . | . | . | . | . | chr1:41513154:G:C  |\n",
       "| 1 |  64647885 |  64647885 | C | T | exonic          | CACHD1      | .                                                                                                                                                  | synonymous SNV | CACHD1:NM_001293274:exon8:c.T353T:p.M118M,CACHD1:NM_020925:exon9:c.T1241T:p.M414M    | ⋯ | . | . | . | . | . | . | . | . | . | chr1:64647885:C:T  |\n",
       "| 1 |  66822362 |  66822362 | T | C | exonic;splicing | DNAI4;DNAI4 | .                                                                                                                                                  | synonymous SNV | DNAI4:NM_024763:exon16:c.G2495G:p.R832R                                              | ⋯ | . | . | . | . | . | . | . | . | . | chr1:66822362:T:C  |\n",
       "| 1 |  99851033 |  99851033 | G | A | splicing        | AGL         | NM_000644:exon2:UTR5                                                                                                                               | .              | .                                                                                    | ⋯ | . | . | . | . | . | . | . | . | . | chr1:99851033:G:A  |\n",
       "| 1 | 175077653 | 175077653 | G | A | exonic          | TNN         | .                                                                                                                                                  | synonymous SNV | TNN:NM_022093:exon2:c.A235A:p.R79R                                                   | ⋯ | . | . | . | . | . | . | . | . | . | chr1:175077653:G:A |\n",
       "| 1 | 202335740 | 202335740 | C | T | exonic          | UBE2T       | .                                                                                                                                                  | synonymous SNV | UBE2T:NM_014176:exon2:c.A15A:p.S5S                                                   | ⋯ | . | . | . | . | . | . | . | . | . | chr1:202335740:C:T |\n",
       "| 1 | 207090484 | 207090484 | G | A | splicing        | C4BPB       | NM_001017366:exon3:c.229+3G&gt;A;NM_001017365:exon3:c.232+3G&gt;A;NM_000716:exon2:c.232+3G&gt;A;NM_001017364:exon2:c.229+3G&gt;A;NM_001017367:exon3:c.232+3G&gt;A | .              | .                                                                                    | ⋯ | . | . | . | . | . | . | . | . | . | chr1:207090484:G:A |\n",
       "| 1 | 197101771 | 197101771 | G | A | exonic          | ASPM        | .                                                                                                                                                  | synonymous SNV | ASPM:NM_018136:exon18:c.T7480T:p.Y2494Y                                              | ⋯ | . | . | . | . | . | . | . | . | . | chr1:197101771:G:A |\n",
       "| 1 | 201386394 | 201386394 | C | T | exonic          | LAD1        | .                                                                                                                                                  | synonymous SNV | LAD1:NM_005558:exon3:c.A967A:p.K323K                                                 | ⋯ | . | . | . | . | . | . | . | . | . | chr1:201386394:C:T |\n",
       "| 1 | 247589065 | 247589065 | G | A | exonic          | OR2G2       | .                                                                                                                                                  | synonymous SNV | OR2G2:NM_001001915:exon1:c.A706A:p.R236R                                             | ⋯ | . | . | . | . | . | . | . | . | . | chr1:247589065:G:A |\n",
       "\n"
      ],
      "text/plain": [
       "   Chr Start     End       Ref Alt Func.refGene    Gene.refGene\n",
       "1  1    23520972  23520972 A   C   exonic          E2F2        \n",
       "2  1    41513154  41513154 G   C   exonic          HIVEP3      \n",
       "3  1    64647885  64647885 C   T   exonic          CACHD1      \n",
       "4  1    66822362  66822362 T   C   exonic;splicing DNAI4;DNAI4 \n",
       "5  1    99851033  99851033 G   A   splicing        AGL         \n",
       "6  1   175077653 175077653 G   A   exonic          TNN         \n",
       "7  1   202335740 202335740 C   T   exonic          UBE2T       \n",
       "8  1   207090484 207090484 G   A   splicing        C4BPB       \n",
       "9  1   197101771 197101771 G   A   exonic          ASPM        \n",
       "10 1   201386394 201386394 C   T   exonic          LAD1        \n",
       "11 1   247589065 247589065 G   A   exonic          OR2G2       \n",
       "   GeneDetail.refGene                                                                                                                                \n",
       "1  .                                                                                                                                                 \n",
       "2  .                                                                                                                                                 \n",
       "3  .                                                                                                                                                 \n",
       "4  .                                                                                                                                                 \n",
       "5  NM_000644:exon2:UTR5                                                                                                                              \n",
       "6  .                                                                                                                                                 \n",
       "7  .                                                                                                                                                 \n",
       "8  NM_001017366:exon3:c.229+3G>A;NM_001017365:exon3:c.232+3G>A;NM_000716:exon2:c.232+3G>A;NM_001017364:exon2:c.229+3G>A;NM_001017367:exon3:c.232+3G>A\n",
       "9  .                                                                                                                                                 \n",
       "10 .                                                                                                                                                 \n",
       "11 .                                                                                                                                                 \n",
       "   ExonicFunc.refGene\n",
       "1  synonymous SNV    \n",
       "2  synonymous SNV    \n",
       "3  synonymous SNV    \n",
       "4  synonymous SNV    \n",
       "5  .                 \n",
       "6  synonymous SNV    \n",
       "7  synonymous SNV    \n",
       "8  .                 \n",
       "9  synonymous SNV    \n",
       "10 synonymous SNV    \n",
       "11 synonymous SNV    \n",
       "   AAChange.refGene                                                                    \n",
       "1  E2F2:NM_004091:exon4:c.G678G:p.Q226Q                                                \n",
       "2  HIVEP3:NM_001127714:exon7:c.G6067G:p.A2023A,HIVEP3:NM_024503:exon8:c.G6067G:p.A2023A\n",
       "3  CACHD1:NM_001293274:exon8:c.T353T:p.M118M,CACHD1:NM_020925:exon9:c.T1241T:p.M414M   \n",
       "4  DNAI4:NM_024763:exon16:c.G2495G:p.R832R                                             \n",
       "5  .                                                                                   \n",
       "6  TNN:NM_022093:exon2:c.A235A:p.R79R                                                  \n",
       "7  UBE2T:NM_014176:exon2:c.A15A:p.S5S                                                  \n",
       "8  .                                                                                   \n",
       "9  ASPM:NM_018136:exon18:c.T7480T:p.Y2494Y                                             \n",
       "10 LAD1:NM_005558:exon3:c.A967A:p.K323K                                                \n",
       "11 OR2G2:NM_001001915:exon1:c.A706A:p.R236R                                            \n",
       "   ⋯ CLNDISDB CLNREVSTAT CLNSIG DN ID Patient ID Phenotype Platform Study\n",
       "1  ⋯ .        .          .      .     .          .         .        .    \n",
       "2  ⋯ .        .          .      .     .          .         .        .    \n",
       "3  ⋯ .        .          .      .     .          .         .        .    \n",
       "4  ⋯ .        .          .      .     .          .         .        .    \n",
       "5  ⋯ .        .          .      .     .          .         .        .    \n",
       "6  ⋯ .        .          .      .     .          .         .        .    \n",
       "7  ⋯ .        .          .      .     .          .         .        .    \n",
       "8  ⋯ .        .          .      .     .          .         .        .    \n",
       "9  ⋯ .        .          .      .     .          .         .        .    \n",
       "10 ⋯ .        .          .      .     .          .         .        .    \n",
       "11 ⋯ .        .          .      .     .          .         .        .    \n",
       "   Pubmed ID Otherinfo1        \n",
       "1  .         chr1:23520972:A:C \n",
       "2  .         chr1:41513154:G:C \n",
       "3  .         chr1:64647885:C:T \n",
       "4  .         chr1:66822362:T:C \n",
       "5  .         chr1:99851033:G:A \n",
       "6  .         chr1:175077653:G:A\n",
       "7  .         chr1:202335740:C:T\n",
       "8  .         chr1:207090484:G:A\n",
       "9  .         chr1:197101771:G:A\n",
       "10 .         chr1:201386394:C:T\n",
       "11 .         chr1:247589065:G:A"
      ]
     },
     "metadata": {},
     "output_type": "display_data"
    },
    {
     "data": {
      "text/html": [
       "<style>\n",
       ".list-inline {list-style: none; margin:0; padding: 0}\n",
       ".list-inline>li {display: inline-block}\n",
       ".list-inline>li:not(:last-child)::after {content: \"\\00b7\"; padding: 0 .5ex}\n",
       "</style>\n",
       "<ol class=list-inline><li>119</li><li>135</li></ol>\n"
      ],
      "text/latex": [
       "\\begin{enumerate*}\n",
       "\\item 119\n",
       "\\item 135\n",
       "\\end{enumerate*}\n"
      ],
      "text/markdown": [
       "1. 119\n",
       "2. 135\n",
       "\n",
       "\n"
      ],
      "text/plain": [
       "[1] 119 135"
      ]
     },
     "metadata": {},
     "output_type": "display_data"
    },
    {
     "data": {
      "text/html": [
       "<table class=\"dataframe\">\n",
       "<caption>A data.table: 8 × 135</caption>\n",
       "<thead>\n",
       "\t<tr><th scope=col>Chr</th><th scope=col>Start</th><th scope=col>End</th><th scope=col>Ref</th><th scope=col>Alt</th><th scope=col>Func.refGene</th><th scope=col>Gene.refGene</th><th scope=col>GeneDetail.refGene</th><th scope=col>ExonicFunc.refGene</th><th scope=col>AAChange.refGene</th><th scope=col>⋯</th><th scope=col>CLNDISDB</th><th scope=col>CLNREVSTAT</th><th scope=col>CLNSIG</th><th scope=col>DN ID</th><th scope=col>Patient ID</th><th scope=col>Phenotype</th><th scope=col>Platform</th><th scope=col>Study</th><th scope=col>Pubmed ID</th><th scope=col>Otherinfo1</th></tr>\n",
       "\t<tr><th scope=col>&lt;int&gt;</th><th scope=col>&lt;int&gt;</th><th scope=col>&lt;int&gt;</th><th scope=col>&lt;chr&gt;</th><th scope=col>&lt;chr&gt;</th><th scope=col>&lt;chr&gt;</th><th scope=col>&lt;chr&gt;</th><th scope=col>&lt;chr&gt;</th><th scope=col>&lt;chr&gt;</th><th scope=col>&lt;chr&gt;</th><th scope=col>⋯</th><th scope=col>&lt;chr&gt;</th><th scope=col>&lt;chr&gt;</th><th scope=col>&lt;chr&gt;</th><th scope=col>&lt;chr&gt;</th><th scope=col>&lt;chr&gt;</th><th scope=col>&lt;chr&gt;</th><th scope=col>&lt;chr&gt;</th><th scope=col>&lt;chr&gt;</th><th scope=col>&lt;chr&gt;</th><th scope=col>&lt;chr&gt;</th></tr>\n",
       "</thead>\n",
       "<tbody>\n",
       "\t<tr><td>2</td><td> 37951263</td><td> 37951263</td><td>G</td><td>A</td><td>exonic         </td><td>RMDN2        </td><td>.</td><td>synonymous SNV</td><td>RMDN2:NM_144713:exon2:c.A48A:p.R16R                                                                                                                                     </td><td>⋯</td><td>.</td><td>.</td><td>.</td><td>.</td><td>.</td><td>.</td><td>.</td><td>.</td><td>.</td><td>chr2:37951263:G:A </td></tr>\n",
       "\t<tr><td>2</td><td> 86206117</td><td> 86206117</td><td>T</td><td>C</td><td>exonic;splicing</td><td>MRPL35;MRPL35</td><td>.</td><td>synonymous SNV</td><td>MRPL35:NM_001363782:exon2:c.C55C:p.P19P,MRPL35:NM_016622:exon2:c.C55C:p.P19P,MRPL35:NM_145644:exon2:c.C55C:p.P19P                                                       </td><td>⋯</td><td>.</td><td>.</td><td>.</td><td>.</td><td>.</td><td>.</td><td>.</td><td>.</td><td>.</td><td>chr2:86206117:T:C </td></tr>\n",
       "\t<tr><td>2</td><td>219172671</td><td>219172671</td><td>G</td><td>A</td><td>exonic         </td><td>CNPPD1       </td><td>.</td><td>synonymous SNV</td><td>CNPPD1:NM_015680:exon8:c.T1148T:p.L383L,CNPPD1:NM_001321389:exon9:c.T1148T:p.L383L,CNPPD1:NM_001321390:exon9:c.T1148T:p.L383L,CNPPD1:NM_001321391:exon9:c.T1148T:p.L383L</td><td>⋯</td><td>.</td><td>.</td><td>.</td><td>.</td><td>.</td><td>.</td><td>.</td><td>.</td><td>.</td><td>chr2:219172671:G:A</td></tr>\n",
       "\t<tr><td>2</td><td>105308053</td><td>105308053</td><td>G</td><td>A</td><td>exonic         </td><td>TGFBRAP1     </td><td>.</td><td>synonymous SNV</td><td>TGFBRAP1:NM_001142621:exon2:c.T249T:p.R83R,TGFBRAP1:NM_001328646:exon2:c.T249T:p.R83R,TGFBRAP1:NM_004257:exon2:c.T249T:p.R83R                                           </td><td>⋯</td><td>.</td><td>.</td><td>.</td><td>.</td><td>.</td><td>.</td><td>.</td><td>.</td><td>.</td><td>chr2:105308053:G:A</td></tr>\n",
       "\t<tr><td>2</td><td>227270915</td><td>227270915</td><td>T</td><td>C</td><td>exonic         </td><td>COL4A3       </td><td>.</td><td>synonymous SNV</td><td>COL4A3:NM_000091:exon25:c.C1721C:p.P574P                                                                                                                                </td><td>⋯</td><td>.</td><td>.</td><td>.</td><td>.</td><td>.</td><td>.</td><td>.</td><td>.</td><td>.</td><td>chr2:227270915:T:C</td></tr>\n",
       "\t<tr><td>2</td><td>241897212</td><td>241897212</td><td>C</td><td>G</td><td>exonic         </td><td>FAM240C      </td><td>.</td><td>synonymous SNV</td><td>FAM240C:NM_001382368:exon2:c.C135C:p.I45I,FAM240C:NM_001382369:exon2:c.C120C:p.I40I,FAM240C:NM_001382370:exon2:c.C120C:p.I40I                                           </td><td>⋯</td><td>.</td><td>.</td><td>.</td><td>.</td><td>.</td><td>.</td><td>.</td><td>.</td><td>.</td><td>chr2:241897212:C:G</td></tr>\n",
       "\t<tr><td>2</td><td>227089883</td><td>227089883</td><td>A</td><td>G</td><td>exonic         </td><td>COL4A4       </td><td>.</td><td>synonymous SNV</td><td>COL4A4:NM_000092:exon21:c.C1444C:p.P482P                                                                                                                                </td><td>⋯</td><td>.</td><td>.</td><td>.</td><td>.</td><td>.</td><td>.</td><td>.</td><td>.</td><td>.</td><td>chr2:227089883:A:G</td></tr>\n",
       "\t<tr><td>2</td><td>127564195</td><td>127564195</td><td>A</td><td>G</td><td>exonic         </td><td>MYO7B        </td><td>.</td><td>synonymous SNV</td><td>MYO7B:NM_001080527:exon3:c.G61G:p.G21G                                                                                                                                  </td><td>⋯</td><td>.</td><td>.</td><td>.</td><td>.</td><td>.</td><td>.</td><td>.</td><td>.</td><td>.</td><td>chr2:127564195:A:G</td></tr>\n",
       "</tbody>\n",
       "</table>\n"
      ],
      "text/latex": [
       "A data.table: 8 × 135\n",
       "\\begin{tabular}{lllllllllllllllllllll}\n",
       " Chr & Start & End & Ref & Alt & Func.refGene & Gene.refGene & GeneDetail.refGene & ExonicFunc.refGene & AAChange.refGene & ⋯ & CLNDISDB & CLNREVSTAT & CLNSIG & DN ID & Patient ID & Phenotype & Platform & Study & Pubmed ID & Otherinfo1\\\\\n",
       " <int> & <int> & <int> & <chr> & <chr> & <chr> & <chr> & <chr> & <chr> & <chr> & ⋯ & <chr> & <chr> & <chr> & <chr> & <chr> & <chr> & <chr> & <chr> & <chr> & <chr>\\\\\n",
       "\\hline\n",
       "\t 2 &  37951263 &  37951263 & G & A & exonic          & RMDN2         & . & synonymous SNV & RMDN2:NM\\_144713:exon2:c.A48A:p.R16R                                                                                                                                      & ⋯ & . & . & . & . & . & . & . & . & . & chr2:37951263:G:A \\\\\n",
       "\t 2 &  86206117 &  86206117 & T & C & exonic;splicing & MRPL35;MRPL35 & . & synonymous SNV & MRPL35:NM\\_001363782:exon2:c.C55C:p.P19P,MRPL35:NM\\_016622:exon2:c.C55C:p.P19P,MRPL35:NM\\_145644:exon2:c.C55C:p.P19P                                                        & ⋯ & . & . & . & . & . & . & . & . & . & chr2:86206117:T:C \\\\\n",
       "\t 2 & 219172671 & 219172671 & G & A & exonic          & CNPPD1        & . & synonymous SNV & CNPPD1:NM\\_015680:exon8:c.T1148T:p.L383L,CNPPD1:NM\\_001321389:exon9:c.T1148T:p.L383L,CNPPD1:NM\\_001321390:exon9:c.T1148T:p.L383L,CNPPD1:NM\\_001321391:exon9:c.T1148T:p.L383L & ⋯ & . & . & . & . & . & . & . & . & . & chr2:219172671:G:A\\\\\n",
       "\t 2 & 105308053 & 105308053 & G & A & exonic          & TGFBRAP1      & . & synonymous SNV & TGFBRAP1:NM\\_001142621:exon2:c.T249T:p.R83R,TGFBRAP1:NM\\_001328646:exon2:c.T249T:p.R83R,TGFBRAP1:NM\\_004257:exon2:c.T249T:p.R83R                                            & ⋯ & . & . & . & . & . & . & . & . & . & chr2:105308053:G:A\\\\\n",
       "\t 2 & 227270915 & 227270915 & T & C & exonic          & COL4A3        & . & synonymous SNV & COL4A3:NM\\_000091:exon25:c.C1721C:p.P574P                                                                                                                                 & ⋯ & . & . & . & . & . & . & . & . & . & chr2:227270915:T:C\\\\\n",
       "\t 2 & 241897212 & 241897212 & C & G & exonic          & FAM240C       & . & synonymous SNV & FAM240C:NM\\_001382368:exon2:c.C135C:p.I45I,FAM240C:NM\\_001382369:exon2:c.C120C:p.I40I,FAM240C:NM\\_001382370:exon2:c.C120C:p.I40I                                            & ⋯ & . & . & . & . & . & . & . & . & . & chr2:241897212:C:G\\\\\n",
       "\t 2 & 227089883 & 227089883 & A & G & exonic          & COL4A4        & . & synonymous SNV & COL4A4:NM\\_000092:exon21:c.C1444C:p.P482P                                                                                                                                 & ⋯ & . & . & . & . & . & . & . & . & . & chr2:227089883:A:G\\\\\n",
       "\t 2 & 127564195 & 127564195 & A & G & exonic          & MYO7B         & . & synonymous SNV & MYO7B:NM\\_001080527:exon3:c.G61G:p.G21G                                                                                                                                   & ⋯ & . & . & . & . & . & . & . & . & . & chr2:127564195:A:G\\\\\n",
       "\\end{tabular}\n"
      ],
      "text/markdown": [
       "\n",
       "A data.table: 8 × 135\n",
       "\n",
       "| Chr &lt;int&gt; | Start &lt;int&gt; | End &lt;int&gt; | Ref &lt;chr&gt; | Alt &lt;chr&gt; | Func.refGene &lt;chr&gt; | Gene.refGene &lt;chr&gt; | GeneDetail.refGene &lt;chr&gt; | ExonicFunc.refGene &lt;chr&gt; | AAChange.refGene &lt;chr&gt; | ⋯ ⋯ | CLNDISDB &lt;chr&gt; | CLNREVSTAT &lt;chr&gt; | CLNSIG &lt;chr&gt; | DN ID &lt;chr&gt; | Patient ID &lt;chr&gt; | Phenotype &lt;chr&gt; | Platform &lt;chr&gt; | Study &lt;chr&gt; | Pubmed ID &lt;chr&gt; | Otherinfo1 &lt;chr&gt; |\n",
       "|---|---|---|---|---|---|---|---|---|---|---|---|---|---|---|---|---|---|---|---|---|\n",
       "| 2 |  37951263 |  37951263 | G | A | exonic          | RMDN2         | . | synonymous SNV | RMDN2:NM_144713:exon2:c.A48A:p.R16R                                                                                                                                      | ⋯ | . | . | . | . | . | . | . | . | . | chr2:37951263:G:A  |\n",
       "| 2 |  86206117 |  86206117 | T | C | exonic;splicing | MRPL35;MRPL35 | . | synonymous SNV | MRPL35:NM_001363782:exon2:c.C55C:p.P19P,MRPL35:NM_016622:exon2:c.C55C:p.P19P,MRPL35:NM_145644:exon2:c.C55C:p.P19P                                                        | ⋯ | . | . | . | . | . | . | . | . | . | chr2:86206117:T:C  |\n",
       "| 2 | 219172671 | 219172671 | G | A | exonic          | CNPPD1        | . | synonymous SNV | CNPPD1:NM_015680:exon8:c.T1148T:p.L383L,CNPPD1:NM_001321389:exon9:c.T1148T:p.L383L,CNPPD1:NM_001321390:exon9:c.T1148T:p.L383L,CNPPD1:NM_001321391:exon9:c.T1148T:p.L383L | ⋯ | . | . | . | . | . | . | . | . | . | chr2:219172671:G:A |\n",
       "| 2 | 105308053 | 105308053 | G | A | exonic          | TGFBRAP1      | . | synonymous SNV | TGFBRAP1:NM_001142621:exon2:c.T249T:p.R83R,TGFBRAP1:NM_001328646:exon2:c.T249T:p.R83R,TGFBRAP1:NM_004257:exon2:c.T249T:p.R83R                                            | ⋯ | . | . | . | . | . | . | . | . | . | chr2:105308053:G:A |\n",
       "| 2 | 227270915 | 227270915 | T | C | exonic          | COL4A3        | . | synonymous SNV | COL4A3:NM_000091:exon25:c.C1721C:p.P574P                                                                                                                                 | ⋯ | . | . | . | . | . | . | . | . | . | chr2:227270915:T:C |\n",
       "| 2 | 241897212 | 241897212 | C | G | exonic          | FAM240C       | . | synonymous SNV | FAM240C:NM_001382368:exon2:c.C135C:p.I45I,FAM240C:NM_001382369:exon2:c.C120C:p.I40I,FAM240C:NM_001382370:exon2:c.C120C:p.I40I                                            | ⋯ | . | . | . | . | . | . | . | . | . | chr2:241897212:C:G |\n",
       "| 2 | 227089883 | 227089883 | A | G | exonic          | COL4A4        | . | synonymous SNV | COL4A4:NM_000092:exon21:c.C1444C:p.P482P                                                                                                                                 | ⋯ | . | . | . | . | . | . | . | . | . | chr2:227089883:A:G |\n",
       "| 2 | 127564195 | 127564195 | A | G | exonic          | MYO7B         | . | synonymous SNV | MYO7B:NM_001080527:exon3:c.G61G:p.G21G                                                                                                                                   | ⋯ | . | . | . | . | . | . | . | . | . | chr2:127564195:A:G |\n",
       "\n"
      ],
      "text/plain": [
       "  Chr Start     End       Ref Alt Func.refGene    Gene.refGene \n",
       "1 2    37951263  37951263 G   A   exonic          RMDN2        \n",
       "2 2    86206117  86206117 T   C   exonic;splicing MRPL35;MRPL35\n",
       "3 2   219172671 219172671 G   A   exonic          CNPPD1       \n",
       "4 2   105308053 105308053 G   A   exonic          TGFBRAP1     \n",
       "5 2   227270915 227270915 T   C   exonic          COL4A3       \n",
       "6 2   241897212 241897212 C   G   exonic          FAM240C      \n",
       "7 2   227089883 227089883 A   G   exonic          COL4A4       \n",
       "8 2   127564195 127564195 A   G   exonic          MYO7B        \n",
       "  GeneDetail.refGene ExonicFunc.refGene\n",
       "1 .                  synonymous SNV    \n",
       "2 .                  synonymous SNV    \n",
       "3 .                  synonymous SNV    \n",
       "4 .                  synonymous SNV    \n",
       "5 .                  synonymous SNV    \n",
       "6 .                  synonymous SNV    \n",
       "7 .                  synonymous SNV    \n",
       "8 .                  synonymous SNV    \n",
       "  AAChange.refGene                                                                                                                                                        \n",
       "1 RMDN2:NM_144713:exon2:c.A48A:p.R16R                                                                                                                                     \n",
       "2 MRPL35:NM_001363782:exon2:c.C55C:p.P19P,MRPL35:NM_016622:exon2:c.C55C:p.P19P,MRPL35:NM_145644:exon2:c.C55C:p.P19P                                                       \n",
       "3 CNPPD1:NM_015680:exon8:c.T1148T:p.L383L,CNPPD1:NM_001321389:exon9:c.T1148T:p.L383L,CNPPD1:NM_001321390:exon9:c.T1148T:p.L383L,CNPPD1:NM_001321391:exon9:c.T1148T:p.L383L\n",
       "4 TGFBRAP1:NM_001142621:exon2:c.T249T:p.R83R,TGFBRAP1:NM_001328646:exon2:c.T249T:p.R83R,TGFBRAP1:NM_004257:exon2:c.T249T:p.R83R                                           \n",
       "5 COL4A3:NM_000091:exon25:c.C1721C:p.P574P                                                                                                                                \n",
       "6 FAM240C:NM_001382368:exon2:c.C135C:p.I45I,FAM240C:NM_001382369:exon2:c.C120C:p.I40I,FAM240C:NM_001382370:exon2:c.C120C:p.I40I                                           \n",
       "7 COL4A4:NM_000092:exon21:c.C1444C:p.P482P                                                                                                                                \n",
       "8 MYO7B:NM_001080527:exon3:c.G61G:p.G21G                                                                                                                                  \n",
       "  ⋯ CLNDISDB CLNREVSTAT CLNSIG DN ID Patient ID Phenotype Platform Study\n",
       "1 ⋯ .        .          .      .     .          .         .        .    \n",
       "2 ⋯ .        .          .      .     .          .         .        .    \n",
       "3 ⋯ .        .          .      .     .          .         .        .    \n",
       "4 ⋯ .        .          .      .     .          .         .        .    \n",
       "5 ⋯ .        .          .      .     .          .         .        .    \n",
       "6 ⋯ .        .          .      .     .          .         .        .    \n",
       "7 ⋯ .        .          .      .     .          .         .        .    \n",
       "8 ⋯ .        .          .      .     .          .         .        .    \n",
       "  Pubmed ID Otherinfo1        \n",
       "1 .         chr2:37951263:G:A \n",
       "2 .         chr2:86206117:T:C \n",
       "3 .         chr2:219172671:G:A\n",
       "4 .         chr2:105308053:G:A\n",
       "5 .         chr2:227270915:T:C\n",
       "6 .         chr2:241897212:C:G\n",
       "7 .         chr2:227089883:A:G\n",
       "8 .         chr2:127564195:A:G"
      ]
     },
     "metadata": {},
     "output_type": "display_data"
    },
    {
     "data": {
      "text/html": [
       "<style>\n",
       ".list-inline {list-style: none; margin:0; padding: 0}\n",
       ".list-inline>li {display: inline-block}\n",
       ".list-inline>li:not(:last-child)::after {content: \"\\00b7\"; padding: 0 .5ex}\n",
       "</style>\n",
       "<ol class=list-inline><li>90</li><li>135</li></ol>\n"
      ],
      "text/latex": [
       "\\begin{enumerate*}\n",
       "\\item 90\n",
       "\\item 135\n",
       "\\end{enumerate*}\n"
      ],
      "text/markdown": [
       "1. 90\n",
       "2. 135\n",
       "\n",
       "\n"
      ],
      "text/plain": [
       "[1]  90 135"
      ]
     },
     "metadata": {},
     "output_type": "display_data"
    },
    {
     "data": {
      "text/html": [
       "<table class=\"dataframe\">\n",
       "<caption>A data.table: 10 × 135</caption>\n",
       "<thead>\n",
       "\t<tr><th scope=col>Chr</th><th scope=col>Start</th><th scope=col>End</th><th scope=col>Ref</th><th scope=col>Alt</th><th scope=col>Func.refGene</th><th scope=col>Gene.refGene</th><th scope=col>GeneDetail.refGene</th><th scope=col>ExonicFunc.refGene</th><th scope=col>AAChange.refGene</th><th scope=col>⋯</th><th scope=col>CLNDISDB</th><th scope=col>CLNREVSTAT</th><th scope=col>CLNSIG</th><th scope=col>DN ID</th><th scope=col>Patient ID</th><th scope=col>Phenotype</th><th scope=col>Platform</th><th scope=col>Study</th><th scope=col>Pubmed ID</th><th scope=col>Otherinfo1</th></tr>\n",
       "\t<tr><th scope=col>&lt;int&gt;</th><th scope=col>&lt;int&gt;</th><th scope=col>&lt;int&gt;</th><th scope=col>&lt;chr&gt;</th><th scope=col>&lt;chr&gt;</th><th scope=col>&lt;chr&gt;</th><th scope=col>&lt;chr&gt;</th><th scope=col>&lt;chr&gt;</th><th scope=col>&lt;chr&gt;</th><th scope=col>&lt;chr&gt;</th><th scope=col>⋯</th><th scope=col>&lt;chr&gt;</th><th scope=col>&lt;chr&gt;</th><th scope=col>&lt;chr&gt;</th><th scope=col>&lt;chr&gt;</th><th scope=col>&lt;chr&gt;</th><th scope=col>&lt;chr&gt;</th><th scope=col>&lt;chr&gt;</th><th scope=col>&lt;chr&gt;</th><th scope=col>&lt;chr&gt;</th><th scope=col>&lt;chr&gt;</th></tr>\n",
       "</thead>\n",
       "<tbody>\n",
       "\t<tr><td>11</td><td>  1107741</td><td>  1107741</td><td>C</td><td>T</td><td>exonic         </td><td>MUC2       </td><td>.</td><td>unknown       </td><td>UNKNOWN                                                                                                                                                                                                                                                                                                                                                                                                                                                                                                                                                                                                                                                                                                                                                                                                                                                                                                                                                                                                                                                                                                                                                                                                                                                                                                                                                                                                                                                                                                                                                                                                                                                                                                                                                                                                                                                                                                                                                                                                                                                                                                                                                                                                                                                                                                                                                                                                                                                                                                                                                                                                                                                                                                                                                                                                                                                                                                                                                                                                                                                                                                                                                                                                                                                                                                                                                                                                                                                                                                                                                                                                                                                                                                                                                                                                                                                                                                                                                                                                                                                                                                                                                                                                                                                                                                           </td><td>⋯</td><td>.</td><td>.</td><td>.</td><td>.</td><td>.</td><td>.</td><td>.</td><td>.</td><td>.</td><td>chr11:1107741:C:T  </td></tr>\n",
       "\t<tr><td>11</td><td> 44309959</td><td> 44309959</td><td>G</td><td>C</td><td>exonic         </td><td>ALX4       </td><td>.</td><td>synonymous SNV</td><td>ALX4:NM_021926:exon1:c.G104G:p.R35R                                                                                                                                                                                                                                                                                                                                                                                                                                                                                                                                                                                                                                                                                                                                                                                                                                                                                                                                                                                                                                                                                                                                                                                                                                                                                                                                                                                                                                                                                                                                                                                                                                                                                                                                                                                                                                                                                                                                                                                                                                                                                                                                                                                                                                                                                                                                                                                                                                                                                                                                                                                                                                                                                                                                                                                                                                                                                                                                                                                                                                                                                                                                                                                                                                                                                                                                                                                                                                                                                                                                                                                                                                                                                                                                                                                                                                                                                                                                                                                                                                                                                                                                                                                                                                                                               </td><td>⋯</td><td>.</td><td>.</td><td>.</td><td>.</td><td>.</td><td>.</td><td>.</td><td>.</td><td>.</td><td>chr11:44309959:G:C </td></tr>\n",
       "\t<tr><td>11</td><td> 47309565</td><td> 47309565</td><td>C</td><td>T</td><td>exonic         </td><td>MADD       </td><td>.</td><td>synonymous SNV</td><td>MADD:NM_001376663:exon23:c.T3268T:p.L1090L,MADD:NM_001376611:exon24:c.T3832T:p.L1278L,MADD:NM_001376613:exon24:c.T3820T:p.L1274L,MADD:NM_001376614:exon24:c.T3820T:p.L1274L,MADD:NM_001376650:exon24:c.T3691T:p.L1231L,MADD:NM_001376661:exon24:c.T3625T:p.L1209L,MADD:NM_001376662:exon24:c.T3478T:p.L1160L,MADD:NM_001135943:exon25:c.T3802T:p.L1268L,MADD:NM_001135944:exon25:c.T3793T:p.L1265L,MADD:NM_001376584:exon25:c.T3934T:p.L1312L,MADD:NM_001376593:exon25:c.T3922T:p.L1308L,MADD:NM_001376594:exon25:c.T3922T:p.L1308L,MADD:NM_001376612:exon25:c.T3934T:p.L1312L,MADD:NM_001376615:exon25:c.T3805T:p.L1269L,MADD:NM_001376616:exon25:c.T3805T:p.L1269L,MADD:NM_001376618:exon25:c.T3793T:p.L1265L,MADD:NM_001376619:exon25:c.T3793T:p.L1265L,MADD:NM_001376620:exon25:c.T3793T:p.L1265L,MADD:NM_001376621:exon25:c.T3793T:p.L1265L,MADD:NM_001376654:exon25:c.T3661T:p.L1221L,MADD:NM_130470:exon25:c.T3934T:p.L1312L,MADD:NM_130472:exon25:c.T3805T:p.L1269L,MADD:NM_130474:exon25:c.T3805T:p.L1269L,MADD:NM_130476:exon25:c.T3931T:p.L1311L,MADD:NM_001376579:exon26:c.T3985T:p.L1329L,MADD:NM_001376580:exon26:c.T3985T:p.L1329L,MADD:NM_001376583:exon26:c.T3937T:p.L1313L,MADD:NM_001376603:exon26:c.T3868T:p.L1290L,MADD:NM_001376604:exon26:c.T3856T:p.L1286L,MADD:NM_001376607:exon26:c.T3853T:p.L1285L,MADD:NM_001376622:exon26:c.T3985T:p.L1329L,MADD:NM_001376623:exon26:c.T3985T:p.L1329L,MADD:NM_001376631:exon26:c.T3958T:p.L1320L,MADD:NM_001376635:exon26:c.T3724T:p.L1242L,MADD:NM_001376644:exon26:c.T3715T:p.L1239L,MADD:NM_001376646:exon26:c.T3712T:p.L1238L,MADD:NM_001376647:exon26:c.T3706T:p.L1236L,MADD:NM_001376651:exon26:c.T3868T:p.L1290L,MADD:NM_001376652:exon26:c.T3868T:p.L1290L,MADD:NM_001376653:exon26:c.T3865T:p.L1289L,MADD:NM_001376656:exon26:c.T3856T:p.L1286L,MADD:NM_001376657:exon26:c.T3835T:p.L1279L,MADD:NM_001376658:exon26:c.T3808T:p.L1270L,MADD:NM_001376660:exon26:c.T3706T:p.L1236L,MADD:NM_130471:exon26:c.T3865T:p.L1289L,MADD:NM_130473:exon26:c.T3994T:p.L1332L,MADD:NM_001376574:exon27:c.T4057T:p.L1353L,MADD:NM_001376575:exon27:c.T4051T:p.L1351L,MADD:NM_001376576:exon27:c.T4039T:p.L1347L,MADD:NM_001376577:exon27:c.T4039T:p.L1347L,MADD:NM_001376578:exon27:c.T4012T:p.L1338L,MADD:NM_001376585:exon27:c.T3919T:p.L1307L,MADD:NM_001376586:exon27:c.T3916T:p.L1306L,MADD:NM_001376595:exon27:c.T3910T:p.L1304L,MADD:NM_001376596:exon27:c.T4117T:p.L1373L,MADD:NM_001376597:exon27:c.T3910T:p.L1304L,MADD:NM_001376598:exon27:c.T3910T:p.L1304L,MADD:NM_001376602:exon27:c.T3892T:p.L1298L,MADD:NM_001376605:exon27:c.T4057T:p.L1353L,MADD:NM_001376606:exon27:c.T4054T:p.L1352L,MADD:NM_001376608:exon27:c.T4048T:p.L1350L,MADD:NM_001376609:exon27:c.T4045T:p.L1349L,MADD:NM_001376610:exon27:c.T4039T:p.L1347L,MADD:NM_001376617:exon27:c.T3916T:p.L1306L,MADD:NM_001376626:exon27:c.T3895T:p.L1299L,MADD:NM_001376627:exon27:c.T3766T:p.L1256L,MADD:NM_001376633:exon27:c.T4054T:p.L1352L,MADD:NM_001376634:exon27:c.T4045T:p.L1349L,MADD:NM_001376636:exon27:c.T3928T:p.L1310L,MADD:NM_001376637:exon27:c.T3928T:p.L1310L,MADD:NM_001376638:exon27:c.T3925T:p.L1309L,MADD:NM_001376639:exon27:c.T3925T:p.L1309L,MADD:NM_001376640:exon27:c.T3922T:p.L1308L,MADD:NM_001376641:exon27:c.T3919T:p.L1307L,MADD:NM_001376642:exon27:c.T3916T:p.L1306L,MADD:NM_001376643:exon27:c.T3916T:p.L1306L,MADD:NM_001376645:exon27:c.T3910T:p.L1304L,MADD:NM_001376648:exon27:c.T3895T:p.L1299L,MADD:NM_001376649:exon27:c.T3895T:p.L1299L,MADD:NM_001376655:exon27:c.T3856T:p.L1286L,MADD:NM_001376659:exon27:c.T3766T:p.L1256L,MADD:NM_001376571:exon28:c.T4111T:p.L1371L,MADD:NM_001376572:exon28:c.T4099T:p.L1367L,MADD:NM_001376573:exon28:c.T4099T:p.L1367L,MADD:NM_001376581:exon28:c.T3970T:p.L1324L,MADD:NM_001376582:exon28:c.T3970T:p.L1324L,MADD:NM_001376599:exon28:c.T4099T:p.L1367L,MADD:NM_001376600:exon28:c.T4099T:p.L1367L,MADD:NM_001376601:exon28:c.T4099T:p.L1367L,MADD:NM_001376624:exon28:c.T3982T:p.L1328L,MADD:NM_001376625:exon28:c.T3982T:p.L1328L,MADD:NM_001376628:exon28:c.T3979T:p.L1327L,MADD:NM_001376629:exon28:c.T3970T:p.L1324L,MADD:NM_001376630:exon28:c.T3970T:p.L1324L,MADD:NM_001376632:exon28:c.T3943T:p.L1315L,MADD:NM_003682:exon28:c.T4111T:p.L1371L,MADD:NM_130475:exon28:c.T4111T:p.L1371L</td><td>⋯</td><td>.</td><td>.</td><td>.</td><td>.</td><td>.</td><td>.</td><td>.</td><td>.</td><td>.</td><td>chr11:47309565:C:T </td></tr>\n",
       "\t<tr><td>11</td><td> 67665333</td><td> 67665333</td><td>C</td><td>T</td><td>exonic         </td><td>ALDH3B2    </td><td>.</td><td>synonymous SNV</td><td>ALDH3B2:NM_001031615:exon7:c.A658A:p.S220S,ALDH3B2:NM_001354345:exon8:c.A658A:p.S220S                                                                                                                                                                                                                                                                                                                                                                                                                                                                                                                                                                                                                                                                                                                                                                                                                                                                                                                                                                                                                                                                                                                                                                                                                                                                                                                                                                                                                                                                                                                                                                                                                                                                                                                                                                                                                                                                                                                                                                                                                                                                                                                                                                                                                                                                                                                                                                                                                                                                                                                                                                                                                                                                                                                                                                                                                                                                                                                                                                                                                                                                                                                                                                                                                                                                                                                                                                                                                                                                                                                                                                                                                                                                                                                                                                                                                                                                                                                                                                                                                                                                                                                                                                                                                             </td><td>⋯</td><td>.</td><td>.</td><td>.</td><td>.</td><td>.</td><td>.</td><td>.</td><td>.</td><td>.</td><td>chr11:67665333:C:T </td></tr>\n",
       "\t<tr><td>11</td><td>113323446</td><td>113323446</td><td>C</td><td>A</td><td>exonic;splicing</td><td>TTC12;TTC12</td><td>.</td><td>synonymous SNV</td><td>TTC12:NM_001352037:exon2:c.A142A:p.M48M,TTC12:NM_001378063:exon2:c.A142A:p.M48M,TTC12:NM_001318533:exon3:c.A217A:p.M73M,TTC12:NM_001378064:exon3:c.A217A:p.M73M,TTC12:NM_001378065:exon3:c.A217A:p.M73M,TTC12:NM_017868:exon3:c.A217A:p.M73M                                                                                                                                                                                                                                                                                                                                                                                                                                                                                                                                                                                                                                                                                                                                                                                                                                                                                                                                                                                                                                                                                                                                                                                                                                                                                                                                                                                                                                                                                                                                                                                                                                                                                                                                                                                                                                                                                                                                                                                                                                                                                                                                                                                                                                                                                                                                                                                                                                                                                                                                                                                                                                                                                                                                                                                                                                                                                                                                                                                                                                                                                                                                                                                                                                                                                                                                                                                                                                                                                                                                                                                                                                                                                                                                                                                                                                                                                                                                                                                                                                                                      </td><td>⋯</td><td>.</td><td>.</td><td>.</td><td>.</td><td>.</td><td>.</td><td>.</td><td>.</td><td>.</td><td>chr11:113323446:C:A</td></tr>\n",
       "\t<tr><td>11</td><td>  5046754</td><td>  5046754</td><td>G</td><td>A</td><td>exonic         </td><td>OR52J3     </td><td>.</td><td>synonymous SNV</td><td>OR52J3:NM_001001916:exon1:c.A229A:p.T77T                                                                                                                                                                                                                                                                                                                                                                                                                                                                                                                                                                                                                                                                                                                                                                                                                                                                                                                                                                                                                                                                                                                                                                                                                                                                                                                                                                                                                                                                                                                                                                                                                                                                                                                                                                                                                                                                                                                                                                                                                                                                                                                                                                                                                                                                                                                                                                                                                                                                                                                                                                                                                                                                                                                                                                                                                                                                                                                                                                                                                                                                                                                                                                                                                                                                                                                                                                                                                                                                                                                                                                                                                                                                                                                                                                                                                                                                                                                                                                                                                                                                                                                                                                                                                                                                          </td><td>⋯</td><td>.</td><td>.</td><td>.</td><td>.</td><td>.</td><td>.</td><td>.</td><td>.</td><td>.</td><td>chr11:5046754:G:A  </td></tr>\n",
       "\t<tr><td>11</td><td>  5046947</td><td>  5046947</td><td>T</td><td>A</td><td>exonic         </td><td>OR52J3     </td><td>.</td><td>synonymous SNV</td><td>OR52J3:NM_001001916:exon1:c.A422A:p.Q141Q                                                                                                                                                                                                                                                                                                                                                                                                                                                                                                                                                                                                                                                                                                                                                                                                                                                                                                                                                                                                                                                                                                                                                                                                                                                                                                                                                                                                                                                                                                                                                                                                                                                                                                                                                                                                                                                                                                                                                                                                                                                                                                                                                                                                                                                                                                                                                                                                                                                                                                                                                                                                                                                                                                                                                                                                                                                                                                                                                                                                                                                                                                                                                                                                                                                                                                                                                                                                                                                                                                                                                                                                                                                                                                                                                                                                                                                                                                                                                                                                                                                                                                                                                                                                                                                                         </td><td>⋯</td><td>.</td><td>.</td><td>.</td><td>.</td><td>.</td><td>.</td><td>.</td><td>.</td><td>.</td><td>chr11:5046947:T:A  </td></tr>\n",
       "\t<tr><td>11</td><td>  5058838</td><td>  5058838</td><td>A</td><td>G</td><td>exonic         </td><td>OR52E2     </td><td>.</td><td>synonymous SNV</td><td>OR52E2:NM_001005164:exon1:c.C790C:p.R264R                                                                                                                                                                                                                                                                                                                                                                                                                                                                                                                                                                                                                                                                                                                                                                                                                                                                                                                                                                                                                                                                                                                                                                                                                                                                                                                                                                                                                                                                                                                                                                                                                                                                                                                                                                                                                                                                                                                                                                                                                                                                                                                                                                                                                                                                                                                                                                                                                                                                                                                                                                                                                                                                                                                                                                                                                                                                                                                                                                                                                                                                                                                                                                                                                                                                                                                                                                                                                                                                                                                                                                                                                                                                                                                                                                                                                                                                                                                                                                                                                                                                                                                                                                                                                                                                         </td><td>⋯</td><td>.</td><td>.</td><td>.</td><td>.</td><td>.</td><td>.</td><td>.</td><td>.</td><td>.</td><td>chr11:5058838:A:G  </td></tr>\n",
       "\t<tr><td>11</td><td> 20090946</td><td> 20090946</td><td>A</td><td>G</td><td>exonic         </td><td>NAV2       </td><td>.</td><td>synonymous SNV</td><td>NAV2:NM_001111019:exon17:c.G2772G:p.T924T,NAV2:NM_145117:exon27:c.G5580G:p.T1860T,NAV2:NM_182964:exon27:c.G5589G:p.T1863T,NAV2:NM_001111018:exon28:c.G5388G:p.T1796T,NAV2:NM_001244963:exon29:c.G5757G:p.T1919T                                                                                                                                                                                                                                                                                                                                                                                                                                                                                                                                                                                                                                                                                                                                                                                                                                                                                                                                                                                                                                                                                                                                                                                                                                                                                                                                                                                                                                                                                                                                                                                                                                                                                                                                                                                                                                                                                                                                                                                                                                                                                                                                                                                                                                                                                                                                                                                                                                                                                                                                                                                                                                                                                                                                                                                                                                                                                                                                                                                                                                                                                                                                                                                                                                                                                                                                                                                                                                                                                                                                                                                                                                                                                                                                                                                                                                                                                                                                                                                                                                                                                                   </td><td>⋯</td><td>.</td><td>.</td><td>.</td><td>.</td><td>.</td><td>.</td><td>.</td><td>.</td><td>.</td><td>chr11:20090946:A:G </td></tr>\n",
       "\t<tr><td>11</td><td>119182117</td><td>119182117</td><td>A</td><td>C</td><td>exonic         </td><td>NLRX1      </td><td>.</td><td>synonymous SNV</td><td>NLRX1:NM_001282143:exon9:c.C2378C:p.A793A,NLRX1:NM_001282144:exon9:c.C2378C:p.A793A,NLRX1:NM_001282358:exon9:c.C2378C:p.A793A,NLRX1:NM_024618:exon9:c.C2378C:p.A793A                                                                                                                                                                                                                                                                                                                                                                                                                                                                                                                                                                                                                                                                                                                                                                                                                                                                                                                                                                                                                                                                                                                                                                                                                                                                                                                                                                                                                                                                                                                                                                                                                                                                                                                                                                                                                                                                                                                                                                                                                                                                                                                                                                                                                                                                                                                                                                                                                                                                                                                                                                                                                                                                                                                                                                                                                                                                                                                                                                                                                                                                                                                                                                                                                                                                                                                                                                                                                                                                                                                                                                                                                                                                                                                                                                                                                                                                                                                                                                                                                                                                                                                                              </td><td>⋯</td><td>.</td><td>.</td><td>.</td><td>.</td><td>.</td><td>.</td><td>.</td><td>.</td><td>.</td><td>chr11:119182117:A:C</td></tr>\n",
       "</tbody>\n",
       "</table>\n"
      ],
      "text/latex": [
       "A data.table: 10 × 135\n",
       "\\begin{tabular}{lllllllllllllllllllll}\n",
       " Chr & Start & End & Ref & Alt & Func.refGene & Gene.refGene & GeneDetail.refGene & ExonicFunc.refGene & AAChange.refGene & ⋯ & CLNDISDB & CLNREVSTAT & CLNSIG & DN ID & Patient ID & Phenotype & Platform & Study & Pubmed ID & Otherinfo1\\\\\n",
       " <int> & <int> & <int> & <chr> & <chr> & <chr> & <chr> & <chr> & <chr> & <chr> & ⋯ & <chr> & <chr> & <chr> & <chr> & <chr> & <chr> & <chr> & <chr> & <chr> & <chr>\\\\\n",
       "\\hline\n",
       "\t 11 &   1107741 &   1107741 & C & T & exonic          & MUC2        & . & unknown        & UNKNOWN                                                                                                                                                                                                                                                                                                                                                                                                                                                                                                                                                                                                                                                                                                                                                                                                                                                                                                                                                                                                                                                                                                                                                                                                                                                                                                                                                                                                                                                                                                                                                                                                                                                                                                                                                                                                                                                                                                                                                                                                                                                                                                                                                                                                                                                                                                                                                                                                                                                                                                                                                                                                                                                                                                                                                                                                                                                                                                                                                                                                                                                                                                                                                                                                                                                                                                                                                                                                                                                                                                                                                                                                                                                                                                                                                                                                                                                                                                                                                                                                                                                                                                                                                                                                                                                                                                            & ⋯ & . & . & . & . & . & . & . & . & . & chr11:1107741:C:T  \\\\\n",
       "\t 11 &  44309959 &  44309959 & G & C & exonic          & ALX4        & . & synonymous SNV & ALX4:NM\\_021926:exon1:c.G104G:p.R35R                                                                                                                                                                                                                                                                                                                                                                                                                                                                                                                                                                                                                                                                                                                                                                                                                                                                                                                                                                                                                                                                                                                                                                                                                                                                                                                                                                                                                                                                                                                                                                                                                                                                                                                                                                                                                                                                                                                                                                                                                                                                                                                                                                                                                                                                                                                                                                                                                                                                                                                                                                                                                                                                                                                                                                                                                                                                                                                                                                                                                                                                                                                                                                                                                                                                                                                                                                                                                                                                                                                                                                                                                                                                                                                                                                                                                                                                                                                                                                                                                                                                                                                                                                                                                                                                                & ⋯ & . & . & . & . & . & . & . & . & . & chr11:44309959:G:C \\\\\n",
       "\t 11 &  47309565 &  47309565 & C & T & exonic          & MADD        & . & synonymous SNV & MADD:NM\\_001376663:exon23:c.T3268T:p.L1090L,MADD:NM\\_001376611:exon24:c.T3832T:p.L1278L,MADD:NM\\_001376613:exon24:c.T3820T:p.L1274L,MADD:NM\\_001376614:exon24:c.T3820T:p.L1274L,MADD:NM\\_001376650:exon24:c.T3691T:p.L1231L,MADD:NM\\_001376661:exon24:c.T3625T:p.L1209L,MADD:NM\\_001376662:exon24:c.T3478T:p.L1160L,MADD:NM\\_001135943:exon25:c.T3802T:p.L1268L,MADD:NM\\_001135944:exon25:c.T3793T:p.L1265L,MADD:NM\\_001376584:exon25:c.T3934T:p.L1312L,MADD:NM\\_001376593:exon25:c.T3922T:p.L1308L,MADD:NM\\_001376594:exon25:c.T3922T:p.L1308L,MADD:NM\\_001376612:exon25:c.T3934T:p.L1312L,MADD:NM\\_001376615:exon25:c.T3805T:p.L1269L,MADD:NM\\_001376616:exon25:c.T3805T:p.L1269L,MADD:NM\\_001376618:exon25:c.T3793T:p.L1265L,MADD:NM\\_001376619:exon25:c.T3793T:p.L1265L,MADD:NM\\_001376620:exon25:c.T3793T:p.L1265L,MADD:NM\\_001376621:exon25:c.T3793T:p.L1265L,MADD:NM\\_001376654:exon25:c.T3661T:p.L1221L,MADD:NM\\_130470:exon25:c.T3934T:p.L1312L,MADD:NM\\_130472:exon25:c.T3805T:p.L1269L,MADD:NM\\_130474:exon25:c.T3805T:p.L1269L,MADD:NM\\_130476:exon25:c.T3931T:p.L1311L,MADD:NM\\_001376579:exon26:c.T3985T:p.L1329L,MADD:NM\\_001376580:exon26:c.T3985T:p.L1329L,MADD:NM\\_001376583:exon26:c.T3937T:p.L1313L,MADD:NM\\_001376603:exon26:c.T3868T:p.L1290L,MADD:NM\\_001376604:exon26:c.T3856T:p.L1286L,MADD:NM\\_001376607:exon26:c.T3853T:p.L1285L,MADD:NM\\_001376622:exon26:c.T3985T:p.L1329L,MADD:NM\\_001376623:exon26:c.T3985T:p.L1329L,MADD:NM\\_001376631:exon26:c.T3958T:p.L1320L,MADD:NM\\_001376635:exon26:c.T3724T:p.L1242L,MADD:NM\\_001376644:exon26:c.T3715T:p.L1239L,MADD:NM\\_001376646:exon26:c.T3712T:p.L1238L,MADD:NM\\_001376647:exon26:c.T3706T:p.L1236L,MADD:NM\\_001376651:exon26:c.T3868T:p.L1290L,MADD:NM\\_001376652:exon26:c.T3868T:p.L1290L,MADD:NM\\_001376653:exon26:c.T3865T:p.L1289L,MADD:NM\\_001376656:exon26:c.T3856T:p.L1286L,MADD:NM\\_001376657:exon26:c.T3835T:p.L1279L,MADD:NM\\_001376658:exon26:c.T3808T:p.L1270L,MADD:NM\\_001376660:exon26:c.T3706T:p.L1236L,MADD:NM\\_130471:exon26:c.T3865T:p.L1289L,MADD:NM\\_130473:exon26:c.T3994T:p.L1332L,MADD:NM\\_001376574:exon27:c.T4057T:p.L1353L,MADD:NM\\_001376575:exon27:c.T4051T:p.L1351L,MADD:NM\\_001376576:exon27:c.T4039T:p.L1347L,MADD:NM\\_001376577:exon27:c.T4039T:p.L1347L,MADD:NM\\_001376578:exon27:c.T4012T:p.L1338L,MADD:NM\\_001376585:exon27:c.T3919T:p.L1307L,MADD:NM\\_001376586:exon27:c.T3916T:p.L1306L,MADD:NM\\_001376595:exon27:c.T3910T:p.L1304L,MADD:NM\\_001376596:exon27:c.T4117T:p.L1373L,MADD:NM\\_001376597:exon27:c.T3910T:p.L1304L,MADD:NM\\_001376598:exon27:c.T3910T:p.L1304L,MADD:NM\\_001376602:exon27:c.T3892T:p.L1298L,MADD:NM\\_001376605:exon27:c.T4057T:p.L1353L,MADD:NM\\_001376606:exon27:c.T4054T:p.L1352L,MADD:NM\\_001376608:exon27:c.T4048T:p.L1350L,MADD:NM\\_001376609:exon27:c.T4045T:p.L1349L,MADD:NM\\_001376610:exon27:c.T4039T:p.L1347L,MADD:NM\\_001376617:exon27:c.T3916T:p.L1306L,MADD:NM\\_001376626:exon27:c.T3895T:p.L1299L,MADD:NM\\_001376627:exon27:c.T3766T:p.L1256L,MADD:NM\\_001376633:exon27:c.T4054T:p.L1352L,MADD:NM\\_001376634:exon27:c.T4045T:p.L1349L,MADD:NM\\_001376636:exon27:c.T3928T:p.L1310L,MADD:NM\\_001376637:exon27:c.T3928T:p.L1310L,MADD:NM\\_001376638:exon27:c.T3925T:p.L1309L,MADD:NM\\_001376639:exon27:c.T3925T:p.L1309L,MADD:NM\\_001376640:exon27:c.T3922T:p.L1308L,MADD:NM\\_001376641:exon27:c.T3919T:p.L1307L,MADD:NM\\_001376642:exon27:c.T3916T:p.L1306L,MADD:NM\\_001376643:exon27:c.T3916T:p.L1306L,MADD:NM\\_001376645:exon27:c.T3910T:p.L1304L,MADD:NM\\_001376648:exon27:c.T3895T:p.L1299L,MADD:NM\\_001376649:exon27:c.T3895T:p.L1299L,MADD:NM\\_001376655:exon27:c.T3856T:p.L1286L,MADD:NM\\_001376659:exon27:c.T3766T:p.L1256L,MADD:NM\\_001376571:exon28:c.T4111T:p.L1371L,MADD:NM\\_001376572:exon28:c.T4099T:p.L1367L,MADD:NM\\_001376573:exon28:c.T4099T:p.L1367L,MADD:NM\\_001376581:exon28:c.T3970T:p.L1324L,MADD:NM\\_001376582:exon28:c.T3970T:p.L1324L,MADD:NM\\_001376599:exon28:c.T4099T:p.L1367L,MADD:NM\\_001376600:exon28:c.T4099T:p.L1367L,MADD:NM\\_001376601:exon28:c.T4099T:p.L1367L,MADD:NM\\_001376624:exon28:c.T3982T:p.L1328L,MADD:NM\\_001376625:exon28:c.T3982T:p.L1328L,MADD:NM\\_001376628:exon28:c.T3979T:p.L1327L,MADD:NM\\_001376629:exon28:c.T3970T:p.L1324L,MADD:NM\\_001376630:exon28:c.T3970T:p.L1324L,MADD:NM\\_001376632:exon28:c.T3943T:p.L1315L,MADD:NM\\_003682:exon28:c.T4111T:p.L1371L,MADD:NM\\_130475:exon28:c.T4111T:p.L1371L & ⋯ & . & . & . & . & . & . & . & . & . & chr11:47309565:C:T \\\\\n",
       "\t 11 &  67665333 &  67665333 & C & T & exonic          & ALDH3B2     & . & synonymous SNV & ALDH3B2:NM\\_001031615:exon7:c.A658A:p.S220S,ALDH3B2:NM\\_001354345:exon8:c.A658A:p.S220S                                                                                                                                                                                                                                                                                                                                                                                                                                                                                                                                                                                                                                                                                                                                                                                                                                                                                                                                                                                                                                                                                                                                                                                                                                                                                                                                                                                                                                                                                                                                                                                                                                                                                                                                                                                                                                                                                                                                                                                                                                                                                                                                                                                                                                                                                                                                                                                                                                                                                                                                                                                                                                                                                                                                                                                                                                                                                                                                                                                                                                                                                                                                                                                                                                                                                                                                                                                                                                                                                                                                                                                                                                                                                                                                                                                                                                                                                                                                                                                                                                                                                                                                                                                                                              & ⋯ & . & . & . & . & . & . & . & . & . & chr11:67665333:C:T \\\\\n",
       "\t 11 & 113323446 & 113323446 & C & A & exonic;splicing & TTC12;TTC12 & . & synonymous SNV & TTC12:NM\\_001352037:exon2:c.A142A:p.M48M,TTC12:NM\\_001378063:exon2:c.A142A:p.M48M,TTC12:NM\\_001318533:exon3:c.A217A:p.M73M,TTC12:NM\\_001378064:exon3:c.A217A:p.M73M,TTC12:NM\\_001378065:exon3:c.A217A:p.M73M,TTC12:NM\\_017868:exon3:c.A217A:p.M73M                                                                                                                                                                                                                                                                                                                                                                                                                                                                                                                                                                                                                                                                                                                                                                                                                                                                                                                                                                                                                                                                                                                                                                                                                                                                                                                                                                                                                                                                                                                                                                                                                                                                                                                                                                                                                                                                                                                                                                                                                                                                                                                                                                                                                                                                                                                                                                                                                                                                                                                                                                                                                                                                                                                                                                                                                                                                                                                                                                                                                                                                                                                                                                                                                                                                                                                                                                                                                                                                                                                                                                                                                                                                                                                                                                                                                                                                                                                                                                                                                                                                       & ⋯ & . & . & . & . & . & . & . & . & . & chr11:113323446:C:A\\\\\n",
       "\t 11 &   5046754 &   5046754 & G & A & exonic          & OR52J3      & . & synonymous SNV & OR52J3:NM\\_001001916:exon1:c.A229A:p.T77T                                                                                                                                                                                                                                                                                                                                                                                                                                                                                                                                                                                                                                                                                                                                                                                                                                                                                                                                                                                                                                                                                                                                                                                                                                                                                                                                                                                                                                                                                                                                                                                                                                                                                                                                                                                                                                                                                                                                                                                                                                                                                                                                                                                                                                                                                                                                                                                                                                                                                                                                                                                                                                                                                                                                                                                                                                                                                                                                                                                                                                                                                                                                                                                                                                                                                                                                                                                                                                                                                                                                                                                                                                                                                                                                                                                                                                                                                                                                                                                                                                                                                                                                                                                                                                                                           & ⋯ & . & . & . & . & . & . & . & . & . & chr11:5046754:G:A  \\\\\n",
       "\t 11 &   5046947 &   5046947 & T & A & exonic          & OR52J3      & . & synonymous SNV & OR52J3:NM\\_001001916:exon1:c.A422A:p.Q141Q                                                                                                                                                                                                                                                                                                                                                                                                                                                                                                                                                                                                                                                                                                                                                                                                                                                                                                                                                                                                                                                                                                                                                                                                                                                                                                                                                                                                                                                                                                                                                                                                                                                                                                                                                                                                                                                                                                                                                                                                                                                                                                                                                                                                                                                                                                                                                                                                                                                                                                                                                                                                                                                                                                                                                                                                                                                                                                                                                                                                                                                                                                                                                                                                                                                                                                                                                                                                                                                                                                                                                                                                                                                                                                                                                                                                                                                                                                                                                                                                                                                                                                                                                                                                                                                                          & ⋯ & . & . & . & . & . & . & . & . & . & chr11:5046947:T:A  \\\\\n",
       "\t 11 &   5058838 &   5058838 & A & G & exonic          & OR52E2      & . & synonymous SNV & OR52E2:NM\\_001005164:exon1:c.C790C:p.R264R                                                                                                                                                                                                                                                                                                                                                                                                                                                                                                                                                                                                                                                                                                                                                                                                                                                                                                                                                                                                                                                                                                                                                                                                                                                                                                                                                                                                                                                                                                                                                                                                                                                                                                                                                                                                                                                                                                                                                                                                                                                                                                                                                                                                                                                                                                                                                                                                                                                                                                                                                                                                                                                                                                                                                                                                                                                                                                                                                                                                                                                                                                                                                                                                                                                                                                                                                                                                                                                                                                                                                                                                                                                                                                                                                                                                                                                                                                                                                                                                                                                                                                                                                                                                                                                                          & ⋯ & . & . & . & . & . & . & . & . & . & chr11:5058838:A:G  \\\\\n",
       "\t 11 &  20090946 &  20090946 & A & G & exonic          & NAV2        & . & synonymous SNV & NAV2:NM\\_001111019:exon17:c.G2772G:p.T924T,NAV2:NM\\_145117:exon27:c.G5580G:p.T1860T,NAV2:NM\\_182964:exon27:c.G5589G:p.T1863T,NAV2:NM\\_001111018:exon28:c.G5388G:p.T1796T,NAV2:NM\\_001244963:exon29:c.G5757G:p.T1919T                                                                                                                                                                                                                                                                                                                                                                                                                                                                                                                                                                                                                                                                                                                                                                                                                                                                                                                                                                                                                                                                                                                                                                                                                                                                                                                                                                                                                                                                                                                                                                                                                                                                                                                                                                                                                                                                                                                                                                                                                                                                                                                                                                                                                                                                                                                                                                                                                                                                                                                                                                                                                                                                                                                                                                                                                                                                                                                                                                                                                                                                                                                                                                                                                                                                                                                                                                                                                                                                                                                                                                                                                                                                                                                                                                                                                                                                                                                                                                                                                                                                                                    & ⋯ & . & . & . & . & . & . & . & . & . & chr11:20090946:A:G \\\\\n",
       "\t 11 & 119182117 & 119182117 & A & C & exonic          & NLRX1       & . & synonymous SNV & NLRX1:NM\\_001282143:exon9:c.C2378C:p.A793A,NLRX1:NM\\_001282144:exon9:c.C2378C:p.A793A,NLRX1:NM\\_001282358:exon9:c.C2378C:p.A793A,NLRX1:NM\\_024618:exon9:c.C2378C:p.A793A                                                                                                                                                                                                                                                                                                                                                                                                                                                                                                                                                                                                                                                                                                                                                                                                                                                                                                                                                                                                                                                                                                                                                                                                                                                                                                                                                                                                                                                                                                                                                                                                                                                                                                                                                                                                                                                                                                                                                                                                                                                                                                                                                                                                                                                                                                                                                                                                                                                                                                                                                                                                                                                                                                                                                                                                                                                                                                                                                                                                                                                                                                                                                                                                                                                                                                                                                                                                                                                                                                                                                                                                                                                                                                                                                                                                                                                                                                                                                                                                                                                                                                                                               & ⋯ & . & . & . & . & . & . & . & . & . & chr11:119182117:A:C\\\\\n",
       "\\end{tabular}\n"
      ],
      "text/markdown": [
       "\n",
       "A data.table: 10 × 135\n",
       "\n",
       "| Chr &lt;int&gt; | Start &lt;int&gt; | End &lt;int&gt; | Ref &lt;chr&gt; | Alt &lt;chr&gt; | Func.refGene &lt;chr&gt; | Gene.refGene &lt;chr&gt; | GeneDetail.refGene &lt;chr&gt; | ExonicFunc.refGene &lt;chr&gt; | AAChange.refGene &lt;chr&gt; | ⋯ ⋯ | CLNDISDB &lt;chr&gt; | CLNREVSTAT &lt;chr&gt; | CLNSIG &lt;chr&gt; | DN ID &lt;chr&gt; | Patient ID &lt;chr&gt; | Phenotype &lt;chr&gt; | Platform &lt;chr&gt; | Study &lt;chr&gt; | Pubmed ID &lt;chr&gt; | Otherinfo1 &lt;chr&gt; |\n",
       "|---|---|---|---|---|---|---|---|---|---|---|---|---|---|---|---|---|---|---|---|---|\n",
       "| 11 |   1107741 |   1107741 | C | T | exonic          | MUC2        | . | unknown        | UNKNOWN                                                                                                                                                                                                                                                                                                                                                                                                                                                                                                                                                                                                                                                                                                                                                                                                                                                                                                                                                                                                                                                                                                                                                                                                                                                                                                                                                                                                                                                                                                                                                                                                                                                                                                                                                                                                                                                                                                                                                                                                                                                                                                                                                                                                                                                                                                                                                                                                                                                                                                                                                                                                                                                                                                                                                                                                                                                                                                                                                                                                                                                                                                                                                                                                                                                                                                                                                                                                                                                                                                                                                                                                                                                                                                                                                                                                                                                                                                                                                                                                                                                                                                                                                                                                                                                                                                            | ⋯ | . | . | . | . | . | . | . | . | . | chr11:1107741:C:T   |\n",
       "| 11 |  44309959 |  44309959 | G | C | exonic          | ALX4        | . | synonymous SNV | ALX4:NM_021926:exon1:c.G104G:p.R35R                                                                                                                                                                                                                                                                                                                                                                                                                                                                                                                                                                                                                                                                                                                                                                                                                                                                                                                                                                                                                                                                                                                                                                                                                                                                                                                                                                                                                                                                                                                                                                                                                                                                                                                                                                                                                                                                                                                                                                                                                                                                                                                                                                                                                                                                                                                                                                                                                                                                                                                                                                                                                                                                                                                                                                                                                                                                                                                                                                                                                                                                                                                                                                                                                                                                                                                                                                                                                                                                                                                                                                                                                                                                                                                                                                                                                                                                                                                                                                                                                                                                                                                                                                                                                                                                                | ⋯ | . | . | . | . | . | . | . | . | . | chr11:44309959:G:C  |\n",
       "| 11 |  47309565 |  47309565 | C | T | exonic          | MADD        | . | synonymous SNV | MADD:NM_001376663:exon23:c.T3268T:p.L1090L,MADD:NM_001376611:exon24:c.T3832T:p.L1278L,MADD:NM_001376613:exon24:c.T3820T:p.L1274L,MADD:NM_001376614:exon24:c.T3820T:p.L1274L,MADD:NM_001376650:exon24:c.T3691T:p.L1231L,MADD:NM_001376661:exon24:c.T3625T:p.L1209L,MADD:NM_001376662:exon24:c.T3478T:p.L1160L,MADD:NM_001135943:exon25:c.T3802T:p.L1268L,MADD:NM_001135944:exon25:c.T3793T:p.L1265L,MADD:NM_001376584:exon25:c.T3934T:p.L1312L,MADD:NM_001376593:exon25:c.T3922T:p.L1308L,MADD:NM_001376594:exon25:c.T3922T:p.L1308L,MADD:NM_001376612:exon25:c.T3934T:p.L1312L,MADD:NM_001376615:exon25:c.T3805T:p.L1269L,MADD:NM_001376616:exon25:c.T3805T:p.L1269L,MADD:NM_001376618:exon25:c.T3793T:p.L1265L,MADD:NM_001376619:exon25:c.T3793T:p.L1265L,MADD:NM_001376620:exon25:c.T3793T:p.L1265L,MADD:NM_001376621:exon25:c.T3793T:p.L1265L,MADD:NM_001376654:exon25:c.T3661T:p.L1221L,MADD:NM_130470:exon25:c.T3934T:p.L1312L,MADD:NM_130472:exon25:c.T3805T:p.L1269L,MADD:NM_130474:exon25:c.T3805T:p.L1269L,MADD:NM_130476:exon25:c.T3931T:p.L1311L,MADD:NM_001376579:exon26:c.T3985T:p.L1329L,MADD:NM_001376580:exon26:c.T3985T:p.L1329L,MADD:NM_001376583:exon26:c.T3937T:p.L1313L,MADD:NM_001376603:exon26:c.T3868T:p.L1290L,MADD:NM_001376604:exon26:c.T3856T:p.L1286L,MADD:NM_001376607:exon26:c.T3853T:p.L1285L,MADD:NM_001376622:exon26:c.T3985T:p.L1329L,MADD:NM_001376623:exon26:c.T3985T:p.L1329L,MADD:NM_001376631:exon26:c.T3958T:p.L1320L,MADD:NM_001376635:exon26:c.T3724T:p.L1242L,MADD:NM_001376644:exon26:c.T3715T:p.L1239L,MADD:NM_001376646:exon26:c.T3712T:p.L1238L,MADD:NM_001376647:exon26:c.T3706T:p.L1236L,MADD:NM_001376651:exon26:c.T3868T:p.L1290L,MADD:NM_001376652:exon26:c.T3868T:p.L1290L,MADD:NM_001376653:exon26:c.T3865T:p.L1289L,MADD:NM_001376656:exon26:c.T3856T:p.L1286L,MADD:NM_001376657:exon26:c.T3835T:p.L1279L,MADD:NM_001376658:exon26:c.T3808T:p.L1270L,MADD:NM_001376660:exon26:c.T3706T:p.L1236L,MADD:NM_130471:exon26:c.T3865T:p.L1289L,MADD:NM_130473:exon26:c.T3994T:p.L1332L,MADD:NM_001376574:exon27:c.T4057T:p.L1353L,MADD:NM_001376575:exon27:c.T4051T:p.L1351L,MADD:NM_001376576:exon27:c.T4039T:p.L1347L,MADD:NM_001376577:exon27:c.T4039T:p.L1347L,MADD:NM_001376578:exon27:c.T4012T:p.L1338L,MADD:NM_001376585:exon27:c.T3919T:p.L1307L,MADD:NM_001376586:exon27:c.T3916T:p.L1306L,MADD:NM_001376595:exon27:c.T3910T:p.L1304L,MADD:NM_001376596:exon27:c.T4117T:p.L1373L,MADD:NM_001376597:exon27:c.T3910T:p.L1304L,MADD:NM_001376598:exon27:c.T3910T:p.L1304L,MADD:NM_001376602:exon27:c.T3892T:p.L1298L,MADD:NM_001376605:exon27:c.T4057T:p.L1353L,MADD:NM_001376606:exon27:c.T4054T:p.L1352L,MADD:NM_001376608:exon27:c.T4048T:p.L1350L,MADD:NM_001376609:exon27:c.T4045T:p.L1349L,MADD:NM_001376610:exon27:c.T4039T:p.L1347L,MADD:NM_001376617:exon27:c.T3916T:p.L1306L,MADD:NM_001376626:exon27:c.T3895T:p.L1299L,MADD:NM_001376627:exon27:c.T3766T:p.L1256L,MADD:NM_001376633:exon27:c.T4054T:p.L1352L,MADD:NM_001376634:exon27:c.T4045T:p.L1349L,MADD:NM_001376636:exon27:c.T3928T:p.L1310L,MADD:NM_001376637:exon27:c.T3928T:p.L1310L,MADD:NM_001376638:exon27:c.T3925T:p.L1309L,MADD:NM_001376639:exon27:c.T3925T:p.L1309L,MADD:NM_001376640:exon27:c.T3922T:p.L1308L,MADD:NM_001376641:exon27:c.T3919T:p.L1307L,MADD:NM_001376642:exon27:c.T3916T:p.L1306L,MADD:NM_001376643:exon27:c.T3916T:p.L1306L,MADD:NM_001376645:exon27:c.T3910T:p.L1304L,MADD:NM_001376648:exon27:c.T3895T:p.L1299L,MADD:NM_001376649:exon27:c.T3895T:p.L1299L,MADD:NM_001376655:exon27:c.T3856T:p.L1286L,MADD:NM_001376659:exon27:c.T3766T:p.L1256L,MADD:NM_001376571:exon28:c.T4111T:p.L1371L,MADD:NM_001376572:exon28:c.T4099T:p.L1367L,MADD:NM_001376573:exon28:c.T4099T:p.L1367L,MADD:NM_001376581:exon28:c.T3970T:p.L1324L,MADD:NM_001376582:exon28:c.T3970T:p.L1324L,MADD:NM_001376599:exon28:c.T4099T:p.L1367L,MADD:NM_001376600:exon28:c.T4099T:p.L1367L,MADD:NM_001376601:exon28:c.T4099T:p.L1367L,MADD:NM_001376624:exon28:c.T3982T:p.L1328L,MADD:NM_001376625:exon28:c.T3982T:p.L1328L,MADD:NM_001376628:exon28:c.T3979T:p.L1327L,MADD:NM_001376629:exon28:c.T3970T:p.L1324L,MADD:NM_001376630:exon28:c.T3970T:p.L1324L,MADD:NM_001376632:exon28:c.T3943T:p.L1315L,MADD:NM_003682:exon28:c.T4111T:p.L1371L,MADD:NM_130475:exon28:c.T4111T:p.L1371L | ⋯ | . | . | . | . | . | . | . | . | . | chr11:47309565:C:T  |\n",
       "| 11 |  67665333 |  67665333 | C | T | exonic          | ALDH3B2     | . | synonymous SNV | ALDH3B2:NM_001031615:exon7:c.A658A:p.S220S,ALDH3B2:NM_001354345:exon8:c.A658A:p.S220S                                                                                                                                                                                                                                                                                                                                                                                                                                                                                                                                                                                                                                                                                                                                                                                                                                                                                                                                                                                                                                                                                                                                                                                                                                                                                                                                                                                                                                                                                                                                                                                                                                                                                                                                                                                                                                                                                                                                                                                                                                                                                                                                                                                                                                                                                                                                                                                                                                                                                                                                                                                                                                                                                                                                                                                                                                                                                                                                                                                                                                                                                                                                                                                                                                                                                                                                                                                                                                                                                                                                                                                                                                                                                                                                                                                                                                                                                                                                                                                                                                                                                                                                                                                                                              | ⋯ | . | . | . | . | . | . | . | . | . | chr11:67665333:C:T  |\n",
       "| 11 | 113323446 | 113323446 | C | A | exonic;splicing | TTC12;TTC12 | . | synonymous SNV | TTC12:NM_001352037:exon2:c.A142A:p.M48M,TTC12:NM_001378063:exon2:c.A142A:p.M48M,TTC12:NM_001318533:exon3:c.A217A:p.M73M,TTC12:NM_001378064:exon3:c.A217A:p.M73M,TTC12:NM_001378065:exon3:c.A217A:p.M73M,TTC12:NM_017868:exon3:c.A217A:p.M73M                                                                                                                                                                                                                                                                                                                                                                                                                                                                                                                                                                                                                                                                                                                                                                                                                                                                                                                                                                                                                                                                                                                                                                                                                                                                                                                                                                                                                                                                                                                                                                                                                                                                                                                                                                                                                                                                                                                                                                                                                                                                                                                                                                                                                                                                                                                                                                                                                                                                                                                                                                                                                                                                                                                                                                                                                                                                                                                                                                                                                                                                                                                                                                                                                                                                                                                                                                                                                                                                                                                                                                                                                                                                                                                                                                                                                                                                                                                                                                                                                                                                       | ⋯ | . | . | . | . | . | . | . | . | . | chr11:113323446:C:A |\n",
       "| 11 |   5046754 |   5046754 | G | A | exonic          | OR52J3      | . | synonymous SNV | OR52J3:NM_001001916:exon1:c.A229A:p.T77T                                                                                                                                                                                                                                                                                                                                                                                                                                                                                                                                                                                                                                                                                                                                                                                                                                                                                                                                                                                                                                                                                                                                                                                                                                                                                                                                                                                                                                                                                                                                                                                                                                                                                                                                                                                                                                                                                                                                                                                                                                                                                                                                                                                                                                                                                                                                                                                                                                                                                                                                                                                                                                                                                                                                                                                                                                                                                                                                                                                                                                                                                                                                                                                                                                                                                                                                                                                                                                                                                                                                                                                                                                                                                                                                                                                                                                                                                                                                                                                                                                                                                                                                                                                                                                                                           | ⋯ | . | . | . | . | . | . | . | . | . | chr11:5046754:G:A   |\n",
       "| 11 |   5046947 |   5046947 | T | A | exonic          | OR52J3      | . | synonymous SNV | OR52J3:NM_001001916:exon1:c.A422A:p.Q141Q                                                                                                                                                                                                                                                                                                                                                                                                                                                                                                                                                                                                                                                                                                                                                                                                                                                                                                                                                                                                                                                                                                                                                                                                                                                                                                                                                                                                                                                                                                                                                                                                                                                                                                                                                                                                                                                                                                                                                                                                                                                                                                                                                                                                                                                                                                                                                                                                                                                                                                                                                                                                                                                                                                                                                                                                                                                                                                                                                                                                                                                                                                                                                                                                                                                                                                                                                                                                                                                                                                                                                                                                                                                                                                                                                                                                                                                                                                                                                                                                                                                                                                                                                                                                                                                                          | ⋯ | . | . | . | . | . | . | . | . | . | chr11:5046947:T:A   |\n",
       "| 11 |   5058838 |   5058838 | A | G | exonic          | OR52E2      | . | synonymous SNV | OR52E2:NM_001005164:exon1:c.C790C:p.R264R                                                                                                                                                                                                                                                                                                                                                                                                                                                                                                                                                                                                                                                                                                                                                                                                                                                                                                                                                                                                                                                                                                                                                                                                                                                                                                                                                                                                                                                                                                                                                                                                                                                                                                                                                                                                                                                                                                                                                                                                                                                                                                                                                                                                                                                                                                                                                                                                                                                                                                                                                                                                                                                                                                                                                                                                                                                                                                                                                                                                                                                                                                                                                                                                                                                                                                                                                                                                                                                                                                                                                                                                                                                                                                                                                                                                                                                                                                                                                                                                                                                                                                                                                                                                                                                                          | ⋯ | . | . | . | . | . | . | . | . | . | chr11:5058838:A:G   |\n",
       "| 11 |  20090946 |  20090946 | A | G | exonic          | NAV2        | . | synonymous SNV | NAV2:NM_001111019:exon17:c.G2772G:p.T924T,NAV2:NM_145117:exon27:c.G5580G:p.T1860T,NAV2:NM_182964:exon27:c.G5589G:p.T1863T,NAV2:NM_001111018:exon28:c.G5388G:p.T1796T,NAV2:NM_001244963:exon29:c.G5757G:p.T1919T                                                                                                                                                                                                                                                                                                                                                                                                                                                                                                                                                                                                                                                                                                                                                                                                                                                                                                                                                                                                                                                                                                                                                                                                                                                                                                                                                                                                                                                                                                                                                                                                                                                                                                                                                                                                                                                                                                                                                                                                                                                                                                                                                                                                                                                                                                                                                                                                                                                                                                                                                                                                                                                                                                                                                                                                                                                                                                                                                                                                                                                                                                                                                                                                                                                                                                                                                                                                                                                                                                                                                                                                                                                                                                                                                                                                                                                                                                                                                                                                                                                                                                    | ⋯ | . | . | . | . | . | . | . | . | . | chr11:20090946:A:G  |\n",
       "| 11 | 119182117 | 119182117 | A | C | exonic          | NLRX1       | . | synonymous SNV | NLRX1:NM_001282143:exon9:c.C2378C:p.A793A,NLRX1:NM_001282144:exon9:c.C2378C:p.A793A,NLRX1:NM_001282358:exon9:c.C2378C:p.A793A,NLRX1:NM_024618:exon9:c.C2378C:p.A793A                                                                                                                                                                                                                                                                                                                                                                                                                                                                                                                                                                                                                                                                                                                                                                                                                                                                                                                                                                                                                                                                                                                                                                                                                                                                                                                                                                                                                                                                                                                                                                                                                                                                                                                                                                                                                                                                                                                                                                                                                                                                                                                                                                                                                                                                                                                                                                                                                                                                                                                                                                                                                                                                                                                                                                                                                                                                                                                                                                                                                                                                                                                                                                                                                                                                                                                                                                                                                                                                                                                                                                                                                                                                                                                                                                                                                                                                                                                                                                                                                                                                                                                                               | ⋯ | . | . | . | . | . | . | . | . | . | chr11:119182117:A:C |\n",
       "\n"
      ],
      "text/plain": [
       "   Chr Start     End       Ref Alt Func.refGene    Gene.refGene\n",
       "1  11    1107741   1107741 C   T   exonic          MUC2        \n",
       "2  11   44309959  44309959 G   C   exonic          ALX4        \n",
       "3  11   47309565  47309565 C   T   exonic          MADD        \n",
       "4  11   67665333  67665333 C   T   exonic          ALDH3B2     \n",
       "5  11  113323446 113323446 C   A   exonic;splicing TTC12;TTC12 \n",
       "6  11    5046754   5046754 G   A   exonic          OR52J3      \n",
       "7  11    5046947   5046947 T   A   exonic          OR52J3      \n",
       "8  11    5058838   5058838 A   G   exonic          OR52E2      \n",
       "9  11   20090946  20090946 A   G   exonic          NAV2        \n",
       "10 11  119182117 119182117 A   C   exonic          NLRX1       \n",
       "   GeneDetail.refGene ExonicFunc.refGene\n",
       "1  .                  unknown           \n",
       "2  .                  synonymous SNV    \n",
       "3  .                  synonymous SNV    \n",
       "4  .                  synonymous SNV    \n",
       "5  .                  synonymous SNV    \n",
       "6  .                  synonymous SNV    \n",
       "7  .                  synonymous SNV    \n",
       "8  .                  synonymous SNV    \n",
       "9  .                  synonymous SNV    \n",
       "10 .                  synonymous SNV    \n",
       "   AAChange.refGene                                                                                                                                                                                                                                                                                                                                                                                                                                                                                                                                                                                                                                                                                                                                                                                                                                                                                                                                                                                                                                                                                                                                                                                                                                                                                                                                                                                                                                                                                                                                                                                                                                                                                                                                                                                                                                                                                                                                                                                                                                                                                                                                                                                                                                                                                                                                                                                                                                                                                                                                                                                                                                                                                                                                                                                                                                                                                                                                                                                                                                                                                                                                                                                                                                                                                                                                                                                                                                                                                                                                                                                                                                                                                                                                                                                                                                                                                                                                                                                                                                                                                                                                                                                                                                                                                                  \n",
       "1  UNKNOWN                                                                                                                                                                                                                                                                                                                                                                                                                                                                                                                                                                                                                                                                                                                                                                                                                                                                                                                                                                                                                                                                                                                                                                                                                                                                                                                                                                                                                                                                                                                                                                                                                                                                                                                                                                                                                                                                                                                                                                                                                                                                                                                                                                                                                                                                                                                                                                                                                                                                                                                                                                                                                                                                                                                                                                                                                                                                                                                                                                                                                                                                                                                                                                                                                                                                                                                                                                                                                                                                                                                                                                                                                                                                                                                                                                                                                                                                                                                                                                                                                                                                                                                                                                                                                                                                                                           \n",
       "2  ALX4:NM_021926:exon1:c.G104G:p.R35R                                                                                                                                                                                                                                                                                                                                                                                                                                                                                                                                                                                                                                                                                                                                                                                                                                                                                                                                                                                                                                                                                                                                                                                                                                                                                                                                                                                                                                                                                                                                                                                                                                                                                                                                                                                                                                                                                                                                                                                                                                                                                                                                                                                                                                                                                                                                                                                                                                                                                                                                                                                                                                                                                                                                                                                                                                                                                                                                                                                                                                                                                                                                                                                                                                                                                                                                                                                                                                                                                                                                                                                                                                                                                                                                                                                                                                                                                                                                                                                                                                                                                                                                                                                                                                                                               \n",
       "3  MADD:NM_001376663:exon23:c.T3268T:p.L1090L,MADD:NM_001376611:exon24:c.T3832T:p.L1278L,MADD:NM_001376613:exon24:c.T3820T:p.L1274L,MADD:NM_001376614:exon24:c.T3820T:p.L1274L,MADD:NM_001376650:exon24:c.T3691T:p.L1231L,MADD:NM_001376661:exon24:c.T3625T:p.L1209L,MADD:NM_001376662:exon24:c.T3478T:p.L1160L,MADD:NM_001135943:exon25:c.T3802T:p.L1268L,MADD:NM_001135944:exon25:c.T3793T:p.L1265L,MADD:NM_001376584:exon25:c.T3934T:p.L1312L,MADD:NM_001376593:exon25:c.T3922T:p.L1308L,MADD:NM_001376594:exon25:c.T3922T:p.L1308L,MADD:NM_001376612:exon25:c.T3934T:p.L1312L,MADD:NM_001376615:exon25:c.T3805T:p.L1269L,MADD:NM_001376616:exon25:c.T3805T:p.L1269L,MADD:NM_001376618:exon25:c.T3793T:p.L1265L,MADD:NM_001376619:exon25:c.T3793T:p.L1265L,MADD:NM_001376620:exon25:c.T3793T:p.L1265L,MADD:NM_001376621:exon25:c.T3793T:p.L1265L,MADD:NM_001376654:exon25:c.T3661T:p.L1221L,MADD:NM_130470:exon25:c.T3934T:p.L1312L,MADD:NM_130472:exon25:c.T3805T:p.L1269L,MADD:NM_130474:exon25:c.T3805T:p.L1269L,MADD:NM_130476:exon25:c.T3931T:p.L1311L,MADD:NM_001376579:exon26:c.T3985T:p.L1329L,MADD:NM_001376580:exon26:c.T3985T:p.L1329L,MADD:NM_001376583:exon26:c.T3937T:p.L1313L,MADD:NM_001376603:exon26:c.T3868T:p.L1290L,MADD:NM_001376604:exon26:c.T3856T:p.L1286L,MADD:NM_001376607:exon26:c.T3853T:p.L1285L,MADD:NM_001376622:exon26:c.T3985T:p.L1329L,MADD:NM_001376623:exon26:c.T3985T:p.L1329L,MADD:NM_001376631:exon26:c.T3958T:p.L1320L,MADD:NM_001376635:exon26:c.T3724T:p.L1242L,MADD:NM_001376644:exon26:c.T3715T:p.L1239L,MADD:NM_001376646:exon26:c.T3712T:p.L1238L,MADD:NM_001376647:exon26:c.T3706T:p.L1236L,MADD:NM_001376651:exon26:c.T3868T:p.L1290L,MADD:NM_001376652:exon26:c.T3868T:p.L1290L,MADD:NM_001376653:exon26:c.T3865T:p.L1289L,MADD:NM_001376656:exon26:c.T3856T:p.L1286L,MADD:NM_001376657:exon26:c.T3835T:p.L1279L,MADD:NM_001376658:exon26:c.T3808T:p.L1270L,MADD:NM_001376660:exon26:c.T3706T:p.L1236L,MADD:NM_130471:exon26:c.T3865T:p.L1289L,MADD:NM_130473:exon26:c.T3994T:p.L1332L,MADD:NM_001376574:exon27:c.T4057T:p.L1353L,MADD:NM_001376575:exon27:c.T4051T:p.L1351L,MADD:NM_001376576:exon27:c.T4039T:p.L1347L,MADD:NM_001376577:exon27:c.T4039T:p.L1347L,MADD:NM_001376578:exon27:c.T4012T:p.L1338L,MADD:NM_001376585:exon27:c.T3919T:p.L1307L,MADD:NM_001376586:exon27:c.T3916T:p.L1306L,MADD:NM_001376595:exon27:c.T3910T:p.L1304L,MADD:NM_001376596:exon27:c.T4117T:p.L1373L,MADD:NM_001376597:exon27:c.T3910T:p.L1304L,MADD:NM_001376598:exon27:c.T3910T:p.L1304L,MADD:NM_001376602:exon27:c.T3892T:p.L1298L,MADD:NM_001376605:exon27:c.T4057T:p.L1353L,MADD:NM_001376606:exon27:c.T4054T:p.L1352L,MADD:NM_001376608:exon27:c.T4048T:p.L1350L,MADD:NM_001376609:exon27:c.T4045T:p.L1349L,MADD:NM_001376610:exon27:c.T4039T:p.L1347L,MADD:NM_001376617:exon27:c.T3916T:p.L1306L,MADD:NM_001376626:exon27:c.T3895T:p.L1299L,MADD:NM_001376627:exon27:c.T3766T:p.L1256L,MADD:NM_001376633:exon27:c.T4054T:p.L1352L,MADD:NM_001376634:exon27:c.T4045T:p.L1349L,MADD:NM_001376636:exon27:c.T3928T:p.L1310L,MADD:NM_001376637:exon27:c.T3928T:p.L1310L,MADD:NM_001376638:exon27:c.T3925T:p.L1309L,MADD:NM_001376639:exon27:c.T3925T:p.L1309L,MADD:NM_001376640:exon27:c.T3922T:p.L1308L,MADD:NM_001376641:exon27:c.T3919T:p.L1307L,MADD:NM_001376642:exon27:c.T3916T:p.L1306L,MADD:NM_001376643:exon27:c.T3916T:p.L1306L,MADD:NM_001376645:exon27:c.T3910T:p.L1304L,MADD:NM_001376648:exon27:c.T3895T:p.L1299L,MADD:NM_001376649:exon27:c.T3895T:p.L1299L,MADD:NM_001376655:exon27:c.T3856T:p.L1286L,MADD:NM_001376659:exon27:c.T3766T:p.L1256L,MADD:NM_001376571:exon28:c.T4111T:p.L1371L,MADD:NM_001376572:exon28:c.T4099T:p.L1367L,MADD:NM_001376573:exon28:c.T4099T:p.L1367L,MADD:NM_001376581:exon28:c.T3970T:p.L1324L,MADD:NM_001376582:exon28:c.T3970T:p.L1324L,MADD:NM_001376599:exon28:c.T4099T:p.L1367L,MADD:NM_001376600:exon28:c.T4099T:p.L1367L,MADD:NM_001376601:exon28:c.T4099T:p.L1367L,MADD:NM_001376624:exon28:c.T3982T:p.L1328L,MADD:NM_001376625:exon28:c.T3982T:p.L1328L,MADD:NM_001376628:exon28:c.T3979T:p.L1327L,MADD:NM_001376629:exon28:c.T3970T:p.L1324L,MADD:NM_001376630:exon28:c.T3970T:p.L1324L,MADD:NM_001376632:exon28:c.T3943T:p.L1315L,MADD:NM_003682:exon28:c.T4111T:p.L1371L,MADD:NM_130475:exon28:c.T4111T:p.L1371L\n",
       "4  ALDH3B2:NM_001031615:exon7:c.A658A:p.S220S,ALDH3B2:NM_001354345:exon8:c.A658A:p.S220S                                                                                                                                                                                                                                                                                                                                                                                                                                                                                                                                                                                                                                                                                                                                                                                                                                                                                                                                                                                                                                                                                                                                                                                                                                                                                                                                                                                                                                                                                                                                                                                                                                                                                                                                                                                                                                                                                                                                                                                                                                                                                                                                                                                                                                                                                                                                                                                                                                                                                                                                                                                                                                                                                                                                                                                                                                                                                                                                                                                                                                                                                                                                                                                                                                                                                                                                                                                                                                                                                                                                                                                                                                                                                                                                                                                                                                                                                                                                                                                                                                                                                                                                                                                                                             \n",
       "5  TTC12:NM_001352037:exon2:c.A142A:p.M48M,TTC12:NM_001378063:exon2:c.A142A:p.M48M,TTC12:NM_001318533:exon3:c.A217A:p.M73M,TTC12:NM_001378064:exon3:c.A217A:p.M73M,TTC12:NM_001378065:exon3:c.A217A:p.M73M,TTC12:NM_017868:exon3:c.A217A:p.M73M                                                                                                                                                                                                                                                                                                                                                                                                                                                                                                                                                                                                                                                                                                                                                                                                                                                                                                                                                                                                                                                                                                                                                                                                                                                                                                                                                                                                                                                                                                                                                                                                                                                                                                                                                                                                                                                                                                                                                                                                                                                                                                                                                                                                                                                                                                                                                                                                                                                                                                                                                                                                                                                                                                                                                                                                                                                                                                                                                                                                                                                                                                                                                                                                                                                                                                                                                                                                                                                                                                                                                                                                                                                                                                                                                                                                                                                                                                                                                                                                                                                                      \n",
       "6  OR52J3:NM_001001916:exon1:c.A229A:p.T77T                                                                                                                                                                                                                                                                                                                                                                                                                                                                                                                                                                                                                                                                                                                                                                                                                                                                                                                                                                                                                                                                                                                                                                                                                                                                                                                                                                                                                                                                                                                                                                                                                                                                                                                                                                                                                                                                                                                                                                                                                                                                                                                                                                                                                                                                                                                                                                                                                                                                                                                                                                                                                                                                                                                                                                                                                                                                                                                                                                                                                                                                                                                                                                                                                                                                                                                                                                                                                                                                                                                                                                                                                                                                                                                                                                                                                                                                                                                                                                                                                                                                                                                                                                                                                                                                          \n",
       "7  OR52J3:NM_001001916:exon1:c.A422A:p.Q141Q                                                                                                                                                                                                                                                                                                                                                                                                                                                                                                                                                                                                                                                                                                                                                                                                                                                                                                                                                                                                                                                                                                                                                                                                                                                                                                                                                                                                                                                                                                                                                                                                                                                                                                                                                                                                                                                                                                                                                                                                                                                                                                                                                                                                                                                                                                                                                                                                                                                                                                                                                                                                                                                                                                                                                                                                                                                                                                                                                                                                                                                                                                                                                                                                                                                                                                                                                                                                                                                                                                                                                                                                                                                                                                                                                                                                                                                                                                                                                                                                                                                                                                                                                                                                                                                                         \n",
       "8  OR52E2:NM_001005164:exon1:c.C790C:p.R264R                                                                                                                                                                                                                                                                                                                                                                                                                                                                                                                                                                                                                                                                                                                                                                                                                                                                                                                                                                                                                                                                                                                                                                                                                                                                                                                                                                                                                                                                                                                                                                                                                                                                                                                                                                                                                                                                                                                                                                                                                                                                                                                                                                                                                                                                                                                                                                                                                                                                                                                                                                                                                                                                                                                                                                                                                                                                                                                                                                                                                                                                                                                                                                                                                                                                                                                                                                                                                                                                                                                                                                                                                                                                                                                                                                                                                                                                                                                                                                                                                                                                                                                                                                                                                                                                         \n",
       "9  NAV2:NM_001111019:exon17:c.G2772G:p.T924T,NAV2:NM_145117:exon27:c.G5580G:p.T1860T,NAV2:NM_182964:exon27:c.G5589G:p.T1863T,NAV2:NM_001111018:exon28:c.G5388G:p.T1796T,NAV2:NM_001244963:exon29:c.G5757G:p.T1919T                                                                                                                                                                                                                                                                                                                                                                                                                                                                                                                                                                                                                                                                                                                                                                                                                                                                                                                                                                                                                                                                                                                                                                                                                                                                                                                                                                                                                                                                                                                                                                                                                                                                                                                                                                                                                                                                                                                                                                                                                                                                                                                                                                                                                                                                                                                                                                                                                                                                                                                                                                                                                                                                                                                                                                                                                                                                                                                                                                                                                                                                                                                                                                                                                                                                                                                                                                                                                                                                                                                                                                                                                                                                                                                                                                                                                                                                                                                                                                                                                                                                                                   \n",
       "10 NLRX1:NM_001282143:exon9:c.C2378C:p.A793A,NLRX1:NM_001282144:exon9:c.C2378C:p.A793A,NLRX1:NM_001282358:exon9:c.C2378C:p.A793A,NLRX1:NM_024618:exon9:c.C2378C:p.A793A                                                                                                                                                                                                                                                                                                                                                                                                                                                                                                                                                                                                                                                                                                                                                                                                                                                                                                                                                                                                                                                                                                                                                                                                                                                                                                                                                                                                                                                                                                                                                                                                                                                                                                                                                                                                                                                                                                                                                                                                                                                                                                                                                                                                                                                                                                                                                                                                                                                                                                                                                                                                                                                                                                                                                                                                                                                                                                                                                                                                                                                                                                                                                                                                                                                                                                                                                                                                                                                                                                                                                                                                                                                                                                                                                                                                                                                                                                                                                                                                                                                                                                                                              \n",
       "   ⋯ CLNDISDB CLNREVSTAT CLNSIG DN ID Patient ID Phenotype Platform Study\n",
       "1  ⋯ .        .          .      .     .          .         .        .    \n",
       "2  ⋯ .        .          .      .     .          .         .        .    \n",
       "3  ⋯ .        .          .      .     .          .         .        .    \n",
       "4  ⋯ .        .          .      .     .          .         .        .    \n",
       "5  ⋯ .        .          .      .     .          .         .        .    \n",
       "6  ⋯ .        .          .      .     .          .         .        .    \n",
       "7  ⋯ .        .          .      .     .          .         .        .    \n",
       "8  ⋯ .        .          .      .     .          .         .        .    \n",
       "9  ⋯ .        .          .      .     .          .         .        .    \n",
       "10 ⋯ .        .          .      .     .          .         .        .    \n",
       "   Pubmed ID Otherinfo1         \n",
       "1  .         chr11:1107741:C:T  \n",
       "2  .         chr11:44309959:G:C \n",
       "3  .         chr11:47309565:C:T \n",
       "4  .         chr11:67665333:C:T \n",
       "5  .         chr11:113323446:C:A\n",
       "6  .         chr11:5046754:G:A  \n",
       "7  .         chr11:5046947:T:A  \n",
       "8  .         chr11:5058838:A:G  \n",
       "9  .         chr11:20090946:A:G \n",
       "10 .         chr11:119182117:A:C"
      ]
     },
     "metadata": {},
     "output_type": "display_data"
    }
   ],
   "source": [
    "## Check mismatched annotations\n",
    "\n",
    "chr1_mis_annot <- fread(\"./chr1.mismatch.all.hg38.hg38_multianno.csv\")\n",
    "chr2_mis_annot <- fread(\"./chr2.mismatch.all.hg38.hg38_multianno.csv\")\n",
    "chr11_mis_annot <- fread(\"./chr11.mismatch.all.hg38.hg38_multianno.csv\")\n",
    "\n",
    "genome_name <- c(\"AF_genome\", \"AF_raw_genome\", \"AF_male_genome\", \"AF_female_genome\", \"AF_afr_genome\", \n",
    "                 \"AF_ami_genome\", \"AF_amr_genome\", \"AF_asj_genome\", \"AF_eas_genome\", \"AF_fin_genome\", \n",
    "                 \"AF_nfe_genome\", \"AF_oth_genome\", \"AF_sas_genome\")\n",
    "exome_name <- c(\"AF_exome\", \"AF_popmax_exome\", \"AF_male_exome\", \"AF_female_exome\", \"AF_raw_exome\",\n",
    "                \"AF_afr_exome\", \"AF_sas_exome\", \"AF_amr_exome\", \"AF_eas_exome\", \"AF_nfe_exome\",\n",
    "                \"AF_fin_exome\", \"AF_asj_exome\", \"AF_oth_exome\")\n",
    "\n",
    "colnames(chr1_mis_annot)[29:41] <- colnames(chr2_mis_annot)[29:41] <- colnames(chr11_mis_annot)[29:41] <- genome_name\n",
    "colnames(chr1_mis_annot)[42:54] <- colnames(chr2_mis_annot)[42:54] <- colnames(chr11_mis_annot)[42:54] <- exome_name\n",
    "\n",
    "dim(chr1_mis_annot)\n",
    "chr1_mis_annot %>% filter(Func.refGene %in% c(\"exonic\", \"splicing\", \"exonic;splicing\"))\n",
    "\n",
    "dim(chr2_mis_annot)\n",
    "chr2_mis_annot %>% filter(Func.refGene %in% c(\"exonic\", \"splicing\", \"exonic;splicing\"))\n",
    "\n",
    "dim(chr11_mis_annot)\n",
    "chr11_mis_annot %>% filter(Func.refGene %in% c(\"exonic\", \"splicing\", \"exonic;splicing\"))"
   ]
  },
  {
   "cell_type": "markdown",
   "id": "ff8c36f3-4a27-4a93-8f83-6cb38756bf4f",
   "metadata": {
    "kernel": "Python3"
   },
   "source": [
    "Since all mismatched variants of do not have functions that we are interested in, it is safe to simply remove all of them.\n",
    "\n",
    "#### 3.14 Remove mis-matched variants"
   ]
  },
  {
   "cell_type": "code",
   "execution_count": 3,
   "id": "92848849-5693-4360-9ee5-73245ed4a5e0",
   "metadata": {
    "kernel": "Python3",
    "tags": []
   },
   "outputs": [],
   "source": [
    "for i in list((1,2,11)):\n",
    "    for j in list((1,2,3,4,5,6,7)):\n",
    "        script='''#!/bin/sh\n",
    "#$ -l h_rt=24:00:00\n",
    "#$ -l h_vmem=10G\n",
    "#$ -N remove_mismatch_chr%i_batch%i\n",
    "#$ -o ~/project/imputation-rvtest/analysis/imputation_aggregated_analysis/topmed_v3/scripts/remove_mismatch_chr%i_batch%i_$JOB_ID.out\n",
    "#$ -e ~/project/imputation-rvtest/analysis/imputation_aggregated_analysis/topmed_v3/scripts/remove_mismatch_chr%i_batch%i_$JOB_ID.err\n",
    "#$ -cwd\n",
    "#$ -S /bin/bash\n",
    "#$ -q csg.q\n",
    "\n",
    "module load Plink/2.00a\n",
    "cd ~/project/imputation-rvtest/analysis/imputation_aggregated_analysis/topmed_v3/topmed_batch%i\n",
    "\n",
    "chr=%i\n",
    "\n",
    "plink2 \\\n",
    "    --vcf chr${chr}.dose.recoded.vcf.gz dosage=HDS \\\n",
    "    --exclude chr${chr}.dose.mismatch.bim \\\n",
    "    --make-bpgen \\\n",
    "    --export vcf bgz vcf-dosage=HDS-force \\\n",
    "    --out chr${chr}.dose.nomismatch\n",
    "\n",
    "'''%(i,j,i,j,i,j,j,i)\n",
    "        f=open(\"/home/tl3031/project/imputation-rvtest/analysis/imputation_aggregated_analysis/topmed_v3/scripts/remove_mismatch_chr\"+str(i)+\"_batch\"+str(j)+\".sh\", 'w')\n",
    "        f.write(script)\n",
    "        f.close()"
   ]
  },
  {
   "cell_type": "markdown",
   "id": "509860a6-f0d9-4168-8462-c8abed8d4282",
   "metadata": {
    "kernel": "R"
   },
   "source": [
    "#### 3.15 Split variants into 10 groups\n",
    "\n",
    "Since pasting all vcf's together takes a long time, we split all variants into 10 groups and paste 7 batches of each group together to get R2 values."
   ]
  },
  {
   "cell_type": "code",
   "execution_count": 5,
   "id": "cf668973-ad93-46ee-a1de-e2aadd8e5aa3",
   "metadata": {
    "kernel": "R"
   },
   "outputs": [
    {
     "name": "stderr",
     "output_type": "stream",
     "text": [
      "\u001b[1m\u001b[22mJoining with `by = join_by(V1, V2, V3, V4, V5, V6)`\n",
      "\u001b[1m\u001b[22mJoining with `by = join_by(V1, V2, V3, V4, V5, V6)`\n",
      "\u001b[1m\u001b[22mJoining with `by = join_by(V1, V2, V3, V4, V5, V6)`\n"
     ]
    }
   ],
   "source": [
    "for(i in c(1,2,11)){\n",
    "    bim <- fread(sprintf(\"./topmed_batch1/chr%i.dose.recoded.bim\", i))\n",
    "    mismatch <- fread(sprintf(\"./topmed_batch1/chr%i.dose.mismatch.bim\", i))\n",
    "    no_mismatch <- anti_join(bim, mismatch)\n",
    "    \n",
    "    rows_per_df <- ceiling(nrow(no_mismatch)/10)\n",
    "    group_indices <- rep(1:10, each = rows_per_df, length.out = nrow(no_mismatch))\n",
    "    split_df <- split(no_mismatch, group_indices)\n",
    "    for(g in c(1:10)){\n",
    "        split_df[[g]] %>% fwrite(sprintf(\"./topmed_groups/chr%i.dose.nomismatch.group%i.bim\", i, g), col.names = FALSE, sep = \"\\t\")\n",
    "    }\n",
    "}"
   ]
  },
  {
   "cell_type": "code",
   "execution_count": 6,
   "id": "42a79f48-1fe5-44fd-94dd-447476fc739a",
   "metadata": {
    "kernel": "Python3",
    "tags": []
   },
   "outputs": [],
   "source": [
    "for i in list((1,2,11)):\n",
    "    for j in list(range(1,8)):\n",
    "        for k in list(range(1,11)):\n",
    "            script='''#!/bin/sh\n",
    "#$ -l h_rt=24:00:00\n",
    "#$ -l h_vmem=10G\n",
    "#$ -N create_groups_chr%i_batch%i_group%i\n",
    "#$ -o ~/project/imputation-rvtest/analysis/imputation_aggregated_analysis/topmed_v3/scripts/create_groups_chr%i_batch%i_group%i_$JOB_ID.out\n",
    "#$ -e ~/project/imputation-rvtest/analysis/imputation_aggregated_analysis/topmed_v3/scripts/create_groups_chr%i_batch%i_group%i_$JOB_ID.err\n",
    "#$ -cwd\n",
    "#$ -S /bin/bash\n",
    "#$ -q csg.q\n",
    "\n",
    "module load Plink/2.00a\n",
    "cd ~/project/imputation-rvtest/analysis/imputation_aggregated_analysis/topmed_v3/\n",
    "\n",
    "chr=%i\n",
    "batch=%i\n",
    "grp=%i\n",
    "\n",
    "plink2 \\\n",
    "    --vcf ./topmed_batch${batch}/chr${chr}.dose.recoded.vcf.gz dosage=HDS \\\n",
    "    --extract ./topmed_groups/chr${chr}.dose.nomismatch.group${grp}.bim \\\n",
    "    --make-bpgen \\\n",
    "    --export vcf bgz vcf-dosage=HDS-force \\\n",
    "    --out ./topmed_groups/chr${chr}.batch${batch}.group${grp}\n",
    "\n",
    "'''%(i,j,k,i,j,k,i,j,k,i,j,k)\n",
    "            f=open(\"/home/tl3031/project/imputation-rvtest/analysis/imputation_aggregated_analysis/topmed_v3/scripts/create_groups_chr\"+str(i)+\"_batch\"+str(j)+\"_group\"+str(k)+\".sh\", 'w')\n",
    "            f.write(script)\n",
    "            f.close()"
   ]
  },
  {
   "cell_type": "markdown",
   "id": "63e24f27-b4c3-490d-baba-fde5f0a6e05e",
   "metadata": {
    "kernel": "R"
   },
   "source": [
    "#### 3.16 Paste each group for all 7 batches\n",
    "\n",
    "We still need to use the provided `hds-utils` tool to paste together batches."
   ]
  },
  {
   "cell_type": "code",
   "execution_count": 7,
   "id": "4e9fc3c4-b6ff-42ca-99ae-cf5396348f5c",
   "metadata": {
    "kernel": "R"
   },
   "outputs": [],
   "source": [
    "## Software installation\n",
    "# mkdir ~/project/imputation-rvtest/analysis/imputation_aggregated_analysis/tools/\n",
    "# cd ~/project/imputation-rvtest/analysis/imputation_aggregated_analysis/tools/\n",
    "# git clone https://github.com/statgen/hds-util\n",
    "\n",
    "# cd hds-util\n",
    "\n",
    "# pip3 install --user cget\n",
    "# cget install -f ./requirements.txt\n",
    "# mkdir build; cd build\n",
    "# cmake -DCMAKE_TOOLCHAIN_FILE=../cget/cget/cget.cmake -DCMAKE_BUILD_TYPE=Release ..\n",
    "# make\n",
    "# make install\n",
    "\n",
    "# export PATH=\"~/project/imputation-rvtest/analysis/imputation_aggregated_analysis/tools/hds-util/build:$PATH\"\n",
    "\n",
    "# hds-util --help"
   ]
  },
  {
   "cell_type": "code",
   "execution_count": 8,
   "id": "141653a2-9319-43e5-a9dc-340351163678",
   "metadata": {
    "kernel": "Python3",
    "tags": []
   },
   "outputs": [],
   "source": [
    "## paste for each group\n",
    "## without min-r2 flag to retain all variants\n",
    "\n",
    "for i in list((1,2,11)):\n",
    "    for j in list(range(1,11)):\n",
    "        script='''#!/bin/bash\n",
    "#SBATCH --mem=50G\n",
    "#SBATCH --time=240:00:00\n",
    "#SBATCH --job-name=paste_chr%i_group%i\n",
    "#SBATCH --output=/home/tl3031/project/imputation-rvtest/analysis/imputation_aggregated_analysis/topmed_v3/scripts/paste_chr%i_group%i_nominr2_%%j.out\n",
    "#SBATCH --error=/home/tl3031/project/imputation-rvtest/analysis/imputation_aggregated_analysis/topmed_v3/scripts/paste_chr%i_group%i_nominr2_%%j.err\n",
    "#SBATCH -p CSG\n",
    "#SBATCH --mail-type=FAIL\n",
    "#SBATCH --mail-user tl3031@cumc.columbia.edu\n",
    "\n",
    "cd ~/project/imputation-rvtest/analysis/imputation_aggregated_analysis/topmed_v3/topmed_groups\n",
    "export PATH=\"~/project/imputation-rvtest/analysis/imputation_aggregated_analysis/tools/hds-util/build:$PATH\"\n",
    "\n",
    "chr=%i\n",
    "grp=%i\n",
    "\n",
    "hds-util -f GT,DS,HDS -O vcf.gz \\\n",
    "    ./chr${chr}.batch1.group${grp}.vcf.gz \\\n",
    "    ./chr${chr}.batch2.group${grp}.vcf.gz \\\n",
    "    ./chr${chr}.batch3.group${grp}.vcf.gz \\\n",
    "    ./chr${chr}.batch4.group${grp}.vcf.gz \\\n",
    "    ./chr${chr}.batch5.group${grp}.vcf.gz \\\n",
    "    ./chr${chr}.batch6.group${grp}.vcf.gz \\\n",
    "    ./chr${chr}.batch7.group${grp}.vcf.gz  > ./topmed_chr${chr}_merged_group${grp}_nominr2.vcf.gz\n",
    "'''%(i,j,i,j,i,j,i,j)\n",
    "        f=open(\"/home/tl3031/project/imputation-rvtest/analysis/imputation_aggregated_analysis/topmed_v3/scripts/new_paste_chr\"+str(i)+\"_group\"+str(j)+\"_nominr2.sh\", 'w')\n",
    "        f.write(script)\n",
    "        f.close()"
   ]
  },
  {
   "cell_type": "code",
   "execution_count": 9,
   "id": "6c60fd9a-e18f-42a0-bde9-376d3385a7ae",
   "metadata": {
    "kernel": "Python3",
    "tags": []
   },
   "outputs": [],
   "source": [
    "## obtain for each pasted file their variant info\n",
    "for i in list((1,2,11)):\n",
    "    for j in list(range(1,11)):\n",
    "        script='''#!/bin/bash\n",
    "#SBATCH --mem=10G\n",
    "#SBATCH --time=72:00:00\n",
    "#SBATCH --job-name=obtain_info_chr%i_group%i\n",
    "#SBATCH --output=/home/tl3031/project/imputation-rvtest/analysis/imputation_aggregated_analysis/topmed_v3/scripts/obtain_info_chr%i_group%i_nominr2_%%j.out\n",
    "#SBATCH --error=/home/tl3031/project/imputation-rvtest/analysis/imputation_aggregated_analysis/topmed_v3/scripts/obtain_info_chr%i_group%i_nominr2_%%j.err\n",
    "#SBATCH -p CSG\n",
    "#SBATCH --mail-type=FAIL\n",
    "#SBATCH --mail-user tl3031@cumc.columbia.edu\n",
    "\n",
    "module load BCFTOOLS\n",
    "cd ~/project/imputation-rvtest/analysis/imputation_aggregated_analysis/topmed_v3/topmed_groups\n",
    "\n",
    "chr=%i\n",
    "grp=%i\n",
    "\n",
    "bcftools query -f '%%CHROM\\\\t%%POS\\\\t%%ID\\\\t%%REF\\\\t%%ALT\\\\t%%R2\\\\t%%MAF\\\\n' ./topmed_chr${chr}_merged_group${grp}_nominr2.vcf.gz -o ./topmed_chr${chr}_merged_group${grp}_nominr2_info.txt\n",
    "\n",
    "'''%(i,j,i,j,i,j,i,j)\n",
    "        f=open(\"/home/tl3031/project/imputation-rvtest/analysis/imputation_aggregated_analysis/topmed_v3/scripts/obtain_info_chr\"+str(i)+\"_group\"+str(j)+\"_nominr2.sh\", 'w')\n",
    "        f.write(script)\n",
    "        f.close()"
   ]
  },
  {
   "cell_type": "code",
   "execution_count": 10,
   "id": "1f0c250e-488b-4e66-af31-f124a0577c3d",
   "metadata": {
    "kernel": "R",
    "tags": []
   },
   "outputs": [
    {
     "name": "stderr",
     "output_type": "stream",
     "text": [
      "Warning message:\n",
      "“\u001b[1m\u001b[22mThere was 1 warning in `mutate()`.\n",
      "\u001b[1m\u001b[22m\u001b[36mℹ\u001b[39m In argument: `R2 = as.numeric(R2)`.\n",
      "Caused by warning:\n",
      "\u001b[33m!\u001b[39m NAs introduced by coercion”\n",
      "Warning message:\n",
      "“\u001b[1m\u001b[22mThere was 1 warning in `mutate()`.\n",
      "\u001b[1m\u001b[22m\u001b[36mℹ\u001b[39m In argument: `R2 = as.numeric(R2)`.\n",
      "Caused by warning:\n",
      "\u001b[33m!\u001b[39m NAs introduced by coercion”\n",
      "Warning message:\n",
      "“\u001b[1m\u001b[22mThere was 1 warning in `mutate()`.\n",
      "\u001b[1m\u001b[22m\u001b[36mℹ\u001b[39m In argument: `R2 = as.numeric(R2)`.\n",
      "Caused by warning:\n",
      "\u001b[33m!\u001b[39m NAs introduced by coercion”\n"
     ]
    }
   ],
   "source": [
    "## merge info file for each chromosome\n",
    "setwd(\"~/project/imputation-rvtest/analysis/imputation_aggregated_analysis/topmed_v3/topmed_groups\")\n",
    "\n",
    "library(dplyr)\n",
    "library(data.table)\n",
    "\n",
    "for(chr in c(1,2,11)){\n",
    "    info_df <- data.frame(matrix(ncol = 7, nrow = 0))\n",
    "    colnames(info_df) <- c(\"CHR\", \"POS\", \"ID\", \"REF\", \"ALT\", \"R2\", \"MAF\")\n",
    "    \n",
    "    for(i in c(1:10)){\n",
    "        df <- fread(sprintf(\"./topmed_chr%i_merged_group%i_nominr2_info.txt\", chr, i))\n",
    "        colnames(df) <- c(\"CHR\", \"POS\", \"ID\", \"REF\", \"ALT\", \"R2\", \"MAF\")\n",
    "        info_df <- rbind(info_df, df)\n",
    "    }\n",
    "    \n",
    "    info_df <- info_df %>% mutate(R2 = as.numeric(R2))\n",
    "    \n",
    "    info_df %>% fwrite(sprintf(\"../topmed_168206ids_chr%i_all_rsq.txt\", chr))\n",
    "    \n",
    "    info_df %>% filter(R2 > 0.3) %>% fwrite(sprintf(\"../topmed_168206ids_chr%i_rsq03_rsq.txt\", chr))\n",
    "    info_df %>% filter(R2 > 0.3) %>% select(ID) %>% fwrite(sprintf(\"../topmed_168206ids_chr%i_rsq03_snplist.txt\", chr), col.names = FALSE)\n",
    "    info_df %>% filter(R2 > 0.8) %>% fwrite(sprintf(\"../topmed_168206ids_chr%i_rsq08_rsq.txt\", chr))\n",
    "    info_df %>% filter(R2 > 0.8) %>% select(ID) %>% fwrite(sprintf(\"../topmed_168206ids_chr%i_rsq08_snplist.txt\", chr), col.names = FALSE)\n",
    "}"
   ]
  },
  {
   "cell_type": "markdown",
   "id": "057da2a1-5c25-4a17-a7fc-7e37f30f9a17",
   "metadata": {
    "kernel": "Python3",
    "tags": []
   },
   "source": [
    "#### 3.17 Concatenate files together for each chromosome"
   ]
  },
  {
   "cell_type": "code",
   "execution_count": 11,
   "id": "df8d2914-c453-4e92-8aab-8de927cc0823",
   "metadata": {
    "kernel": "Python3",
    "tags": []
   },
   "outputs": [],
   "source": [
    "## index for each pasted file\n",
    "for i in list((1,2,11)):\n",
    "    for j in list(range(1,11)):\n",
    "        script='''#!/bin/bash\n",
    "#SBATCH --mem=20G\n",
    "#SBATCH --time=24:00:00\n",
    "#SBATCH --job-name=index_vcf_chr%i_group%i\n",
    "#SBATCH --output=/home/tl3031/project/imputation-rvtest/analysis/imputation_aggregated_analysis/topmed_v3/scripts/index_vcf_chr%i_group%i_nominr2_%%j.out\n",
    "#SBATCH --error=/home/tl3031/project/imputation-rvtest/analysis/imputation_aggregated_analysis/topmed_v3/scripts/index_vcf_chr%i_group%i_nominr2_%%j.err\n",
    "#SBATCH -p CSG\n",
    "#SBATCH --mail-type=FAIL\n",
    "#SBATCH --mail-user tl3031@cumc.columbia.edu\n",
    "\n",
    "module load BCFTOOLS\n",
    "cd ~/project/imputation-rvtest/analysis/imputation_aggregated_analysis/topmed_v3/topmed_groups\n",
    "\n",
    "chr=%i\n",
    "group=%i\n",
    "\n",
    "bcftools index --threads 15 topmed_chr${chr}_merged_group${group}_nominr2.vcf.gz; \n",
    "\n",
    "'''%(i,j,i,j,i,j,i,j)\n",
    "        f=open(\"/home/tl3031/project/imputation-rvtest/analysis/imputation_aggregated_analysis/topmed_v3/scripts/index_vcf_chr\"+str(i)+\"_group\"+str(j)+\"_nominr2.sh\", 'w')\n",
    "        f.write(script)\n",
    "        f.close()"
   ]
  },
  {
   "cell_type": "code",
   "execution_count": 12,
   "id": "bb8c1401-5ae8-4b97-b383-bd02d4008162",
   "metadata": {
    "kernel": "Python3",
    "tags": []
   },
   "outputs": [],
   "source": [
    "## merge each pasted file\n",
    "for i in list((1,2,11)):\n",
    "    script='''#!/bin/bash\n",
    "#SBATCH --mem=20G\n",
    "#SBATCH --time=240:00:00\n",
    "#SBATCH --job-name=concat_vcf_chr%i\n",
    "#SBATCH --output=/home/tl3031/project/imputation-rvtest/analysis/imputation_aggregated_analysis/topmed_v3/scripts/concat_vcf_chr%i_nominr2_%%j.out\n",
    "#SBATCH --error=/home/tl3031/project/imputation-rvtest/analysis/imputation_aggregated_analysis/topmed_v3/scripts/concat_vcf_chr%i_nominr2_%%j.err\n",
    "#SBATCH -p CSG\n",
    "#SBATCH --mail-type=FAIL\n",
    "#SBATCH --mail-user tl3031@cumc.columbia.edu\n",
    "\n",
    "module load BCFTOOLS\n",
    "cd ~/project/imputation-rvtest/analysis/imputation_aggregated_analysis/topmed_v3/topmed_groups\n",
    "\n",
    "chr=%i\n",
    "bcftools concat --threads 15 \\\n",
    "    topmed_chr${chr}_merged_group1_nominr2.vcf.gz \\\n",
    "    topmed_chr${chr}_merged_group2_nominr2.vcf.gz \\\n",
    "    topmed_chr${chr}_merged_group3_nominr2.vcf.gz \\\n",
    "    topmed_chr${chr}_merged_group4_nominr2.vcf.gz \\\n",
    "    topmed_chr${chr}_merged_group5_nominr2.vcf.gz \\\n",
    "    topmed_chr${chr}_merged_group6_nominr2.vcf.gz \\\n",
    "    topmed_chr${chr}_merged_group7_nominr2.vcf.gz \\\n",
    "    topmed_chr${chr}_merged_group8_nominr2.vcf.gz \\\n",
    "    topmed_chr${chr}_merged_group9_nominr2.vcf.gz \\\n",
    "    topmed_chr${chr}_merged_group10_nominr2.vcf.gz \\\n",
    "    -Oz -o ../topmed_chr${chr}_merged_168206ids_dose.vcf.gz\n",
    "\n",
    "'''%(i,i,i,i)\n",
    "    f=open(\"/home/tl3031/project/imputation-rvtest/analysis/imputation_aggregated_analysis/topmed_v3/scripts/concat_vcf_chr\"+str(i)+\"_nominr2.sh\", 'w')\n",
    "    f.write(script)\n",
    "    f.close()"
   ]
  },
  {
   "cell_type": "code",
   "execution_count": 25,
   "id": "0e214ef6-e8d3-4336-b5a1-e15de0f78e24",
   "metadata": {
    "kernel": "Python3",
    "tags": []
   },
   "outputs": [],
   "source": [
    "## recoding vcf to pgen file for reach group\n",
    "for i in list((1,2,11)):\n",
    "    for j in list((1,2,3,4,5,6,7,8,9,10)):\n",
    "        script='''#!/bin/bash\n",
    "#SBATCH --mem=300G\n",
    "#SBATCH --time=100:00:00\n",
    "#SBATCH --job-name=recode_vcf_chr%i_group%i\n",
    "#SBATCH --output=/home/tl3031/project/imputation-rvtest/analysis/imputation_aggregated_analysis/topmed_v3/scripts/recode_vcf_chr%i_grp%i_%%j.out\n",
    "#SBATCH --error=/home/tl3031/project/imputation-rvtest/analysis/imputation_aggregated_analysis/topmed_v3/scripts/recode_vcf_chr%i_grp%i_%%j.err\n",
    "#SBATCH -p CSG\n",
    "#SBATCH --mail-type=FAIL\n",
    "#SBATCH --mail-user tl3031@cumc.columbia.edu\n",
    "\n",
    "module load Plink/2.00a\n",
    "cd ~/project/imputation-rvtest/analysis/imputation_aggregated_analysis/topmed_v3/\n",
    "\n",
    "chr=%i\n",
    "grp=%i\n",
    "\n",
    "plink2 \\\n",
    "    --vcf ./topmed_groups/topmed_chr${chr}_merged_group${grp}_nominr2.vcf.gz dosage=DS \\\n",
    "    --make-bpgen --sort-vars --threads 5 --memory 150000 \\\n",
    "    --out ./topmed_groups/topmed_chr${chr}_merged_group${grp}_nominr2\n",
    "\n",
    "'''%(i,j,i,j,i,j,i,j)\n",
    "        f=open(\"/home/tl3031/project/imputation-rvtest/analysis/imputation_aggregated_analysis/topmed_v3/scripts/recode_vcf_chr\"+str(i)+\"_grp\"+str(j)+\".sh\", 'w')\n",
    "        f.write(script)\n",
    "        f.close()"
   ]
  },
  {
   "cell_type": "code",
   "execution_count": null,
   "id": "cdbcdeef-49af-48b3-8ab1-64addc376b28",
   "metadata": {
    "kernel": "Bash",
    "tags": []
   },
   "outputs": [],
   "source": [
    "## use plink to merge them together\n",
    "cd ~/project/imputation-rvtest/analysis/imputation_aggregated_analysis/topmed_v3/topmed_groups\n",
    "\n",
    "plink2 --bpfile topmed_chr1_merged_group1_nominr2 \\\n",
    "    --pmerge-list chr1_mergelist bpfile \\\n",
    "    --make-bpgen \\\n",
    "    --out ../topmed_chr1_merged_168206ids_dose_plink\n",
    "\n",
    "plink2 --bpfile topmed_chr2_merged_group1_nominr2 \\\n",
    "    --pmerge-list chr2_mergelist bpfile \\\n",
    "    --make-bpgen \\\n",
    "    --out ../topmed_chr2_merged_168206ids_dose_plink\n",
    "\n",
    "plink2 --bpfile topmed_chr11_merged_group1_nominr2 \\\n",
    "    --pmerge-list chr11_mergelist bpfile \\\n",
    "    --make-bpgen \\\n",
    "    --out ../topmed_chr11_merged_168206ids_dose_plink\n",
    "\n",
    "## extract for rsq03 and rsq08\n",
    "plink2 --bpfile ../topmed_chr1_merged_168206ids_dose_plink \\\n",
    "    --extract ../topmed_168206ids_chr1_rsq03_snplist.txt \\\n",
    "    --make-bpgen \\\n",
    "    --out ../topmed_chr1_merged_168206ids_rsq03_dose\n",
    "\n",
    "plink2 --bpfile ../topmed_chr1_merged_168206ids_dose_plink \\\n",
    "    --extract ../topmed_168206ids_chr1_rsq08_snplist.txt \\\n",
    "    --make-bpgen \\\n",
    "    --out ../topmed_chr1_merged_168206ids_rsq08_dose\n",
    "\n",
    "plink2 --bpfile ../topmed_chr2_merged_168206ids_dose_plink \\\n",
    "    --extract ../topmed_168206ids_chr2_rsq03_snplist.txt \\\n",
    "    --make-bpgen \\\n",
    "    --out ../topmed_chr2_merged_168206ids_rsq03_dose\n",
    "\n",
    "plink2 --bpfile ../topmed_chr2_merged_168206ids_dose_plink \\\n",
    "    --extract ../topmed_168206ids_chr2_rsq08_snplist.txt \\\n",
    "    --make-bpgen \\\n",
    "    --out ../topmed_chr2_merged_168206ids_rsq08_dose\n",
    "\n",
    "plink2 --bpfile ../topmed_chr11_merged_168206ids_dose_plink \\\n",
    "    --extract ../topmed_168206ids_chr11_rsq03_snplist.txt \\\n",
    "    --make-bpgen \\\n",
    "    --out ../topmed_chr11_merged_168206ids_rsq03_dose\n",
    "\n",
    "plink2 --bpfile ../topmed_chr11_merged_168206ids_dose_plink \\\n",
    "    --extract ../topmed_168206ids_chr11_rsq08_snplist.txt \\\n",
    "    --make-bpgen \\\n",
    "    --out ../topmed_chr11_merged_168206ids_rsq08_dose"
   ]
  },
  {
   "cell_type": "markdown",
   "id": "62d55304-3117-4e5a-a36d-d55ea4634be4",
   "metadata": {
    "kernel": "R",
    "tags": []
   },
   "source": [
    "#### 3.18 Summary\n",
    "\n",
    "| Chr | After removing mismatches |  removing monomorphic |     $R^2$ > 0.3     |     $R^2$ > 0.8     |\n",
    "|:---:|:-------------------------:|:---------------------:|:----------------:|:----------------:|\n",
    "|  1  |      33,930,494             |       32,512,988        | 12,818,589 (0.689) | 4,680,641 (0.903)  |\n",
    "|  2  |      37,160,046             |       35,569,645        | 13,814,401 (0.691) | 5,126,997 (0.904)  |\n",
    "|  11 |      20,994,846             |       20,080,669        | 7,791,663 (0.690)  | 2,878,270 (0.904)  |"
   ]
  },
  {
   "cell_type": "markdown",
   "id": "8634b906-b228-4d24-9a85-618d7692f796",
   "metadata": {
    "kernel": "Bash",
    "tags": []
   },
   "source": [
    "### 3.2 HRC\n",
    "\n",
    "#### 3.21 Paste batches together\n",
    "For HRC, allele flipping problem does not exist, so we can just paste them together."
   ]
  },
  {
   "cell_type": "code",
   "execution_count": 13,
   "id": "96df8b2f-b6d9-4c91-afb8-8d25c64fc48e",
   "metadata": {
    "kernel": "Python3",
    "tags": []
   },
   "outputs": [],
   "source": [
    "## write out script hrc\n",
    "for i in list((1,2,11)):\n",
    "    for j in list((0,3,8)):\n",
    "        script='''#!/bin/sh\n",
    "#!/bin/sh\n",
    "#$ -l h_rt=700:00:00\n",
    "#$ -l h_vmem=5G\n",
    "#$ -N paste_hrc_chr%i_rsq0%i\n",
    "#$ -o ~/project/imputation-rvtest/analysis/imputation_aggregated_analysis/hrc/scripts/paste_hrc_chr%i_rsq0%i_$JOB_ID.out\n",
    "#$ -o ~/project/imputation-rvtest/analysis/imputation_aggregated_analysis/hrc/scripts/paste_hrc_chr%i_rsq0%i_$JOB_ID.err\n",
    "#$ -cwd\n",
    "#$ -S /bin/bash\n",
    "#$ -q csg.q\n",
    "\n",
    "cd ~/project/imputation-rvtest/analysis/imputation_aggregated_analysis/hrc\n",
    "export PATH=\"~/project/imputation-rvtest/analysis/imputation_aggregated_analysis/tools/hds-util/build:$PATH\"\n",
    "\n",
    "chr=%i\n",
    "\n",
    "hds-util -f GT,DS,HDS --min-r2 0.%i -O vcf.gz \\\n",
    "    ./hrc_batch1/chr${chr}.dose.vcf.gz \\\n",
    "    ./hrc_batch2/chr${chr}.dose.vcf.gz \\\n",
    "    ./hrc_batch3/chr${chr}.dose.vcf.gz \\\n",
    "    ./hrc_batch4/chr${chr}.dose.vcf.gz \\\n",
    "    ./hrc_batch5/chr${chr}.dose.vcf.gz \\\n",
    "    ./hrc_batch6/chr${chr}.dose.vcf.gz \\\n",
    "    ./hrc_batch7/chr${chr}.dose.vcf.gz > ./hrc_chr${chr}_merged_168206ids_rsq0%i_dose.vcf.gz\n",
    "'''%(i,j,i,j,i,j,i,j,j)\n",
    "        f=open(\"/home/tl3031/project/imputation-rvtest/analysis/imputation_aggregated_analysis/hrc/scripts/pasting_hrc_chr\"+str(i)+\"_rsq0\"+str(j)+\".sh\", 'w')\n",
    "        f.write(script)\n",
    "        f.close()"
   ]
  },
  {
   "cell_type": "markdown",
   "id": "c164d6e1-c308-46c9-80e2-3ef16d5d6a65",
   "metadata": {
    "kernel": "R"
   },
   "source": [
    "#### 3.22 Liftover HRC (hg19->hg38)"
   ]
  },
  {
   "cell_type": "code",
   "execution_count": 14,
   "id": "0293f8b4-64ca-4628-a51e-92df7f007138",
   "metadata": {
    "kernel": "Bash",
    "tags": []
   },
   "outputs": [],
   "source": [
    "# Recode VCF into .pgen format, recode variant name\n",
    "cd ~/project/imputation-rvtest/analysis/imputation_aggregated_analysis/hrc\n",
    "module load Plink/2.00a\n",
    "\n",
    "plink2 \\\n",
    "    --vcf hrc_chr1_merged_168206ids_rsq03_dose.vcf.gz \\\n",
    "    --freq counts \\\n",
    "    --make-bpgen --sort-vars \\\n",
    "    --set-all-var-ids chr@:#:\\$r:\\$a \\\n",
    "    --out hrc_chr1_merged_168206ids_rsq03_dose\n",
    "    \n",
    "plink2 \\\n",
    "    --vcf hrc_chr1_merged_168206ids_rsq08_dose.vcf.gz \\\n",
    "    --freq counts \\\n",
    "    --make-bpgen --sort-vars \\\n",
    "    --set-all-var-ids chr@:#:\\$r:\\$a \\\n",
    "    --out hrc_chr1_merged_168206ids_rsq08_dose\n",
    "    \n",
    "plink2 \\\n",
    "    --vcf hrc_chr2_merged_168206ids_rsq03_dose.vcf.gz \\\n",
    "    --freq counts \\\n",
    "    --make-bpgen --sort-vars \\\n",
    "    --set-all-var-ids chr@:#:\\$r:\\$a \\\n",
    "    --out hrc_chr2_merged_168206ids_rsq03_dose\n",
    "    \n",
    "plink2 \\\n",
    "    --vcf hrc_chr2_merged_168206ids_rsq08_dose.vcf.gz \\\n",
    "    --freq counts \\\n",
    "    --make-bpgen --sort-vars \\\n",
    "    --set-all-var-ids chr@:#:\\$r:\\$a \\\n",
    "    --out hrc_chr2_merged_168206ids_rsq08_dose\n",
    "    \n",
    "plink2 \\\n",
    "    --vcf hrc_chr11_merged_168206ids_rsq03_dose.vcf.gz \\\n",
    "    --freq counts \\\n",
    "    --make-bpgen --sort-vars \\\n",
    "    --set-all-var-ids chr@:#:\\$r:\\$a \\\n",
    "    --out hrc_chr11_merged_168206ids_rsq03_dose\n",
    "    \n",
    "plink2 \\\n",
    "    --vcf hrc_chr11_merged_168206ids_rsq08_dose.vcf.gz \\\n",
    "    --freq counts \\\n",
    "    --make-bpgen --sort-vars \\\n",
    "    --set-all-var-ids chr@:#:\\$r:\\$a \\\n",
    "    --out hrc_chr11_merged_168206ids_rsq08_dose\n",
    "    \n",
    "    \n",
    "# Check for monomorphic variants\n",
    "awk 'BEGIN {FS=\" \"; OFS=\" \"} {if(NR==1 || $5==0 || $6==0)print $2}' hrc_chr1_merged_168206ids_rsq03_dose.acount > monomprphic_chr1_rsq03_SNPs\n",
    "awk 'BEGIN {FS=\" \"; OFS=\" \"} {if(NR==1 || $5==0 || $6==0)print $2}' hrc_chr1_merged_168206ids_rsq08_dose.acount > monomprphic_chr1_rsq08_SNPs\n",
    "awk 'BEGIN {FS=\" \"; OFS=\" \"} {if(NR==1 || $5==0 || $6==0)print $2}' hrc_chr2_merged_168206ids_rsq03_dose.acount > monomprphic_chr2_rsq03_SNPs\n",
    "awk 'BEGIN {FS=\" \"; OFS=\" \"} {if(NR==1 || $5==0 || $6==0)print $2}' hrc_chr2_merged_168206ids_rsq08_dose.acount > monomprphic_chr2_rsq08_SNPs\n",
    "awk 'BEGIN {FS=\" \"; OFS=\" \"} {if(NR==1 || $5==0 || $6==0)print $2}' hrc_chr11_merged_168206ids_rsq03_dose.acount > monomprphic_chr11_rsq03_SNPs\n",
    "awk 'BEGIN {FS=\" \"; OFS=\" \"} {if(NR==1 || $5==0 || $6==0)print $2}' hrc_chr11_merged_168206ids_rsq08_dose.acount > monomprphic_chr11_rsq08_SNPs"
   ]
  },
  {
   "cell_type": "code",
   "execution_count": 15,
   "id": "00a26e62-4e62-448b-9a70-f5f45bcc1531",
   "metadata": {
    "kernel": "Bash",
    "tags": []
   },
   "outputs": [],
   "source": [
    "## Running our in-house liftover pipeline\n",
    "\n",
    "sos run /home/tl3031/project/imputation-rvtest/analysis/imputation_aggregated_analysis/liftover.ipynb \\\n",
    "    --cwd /home/tl3031/project/imputation-rvtest/analysis/imputation_aggregated_analysis/hrc/ \\\n",
    "    --input_file ./hrc_168206_chr1.bim \\\n",
    "    --output_file ./hrc_168206_chr1_hg38.bim\n",
    "\n",
    "sos run /home/tl3031/project/imputation-rvtest/analysis/imputation_aggregated_analysis/liftover.ipynb \\\n",
    "    --cwd /home/tl3031/project/imputation-rvtest/analysis/imputation_aggregated_analysis/hrc_annot_168206ids \\\n",
    "    --input_file ./hrc_168206_chr2.bim \\\n",
    "    --output_file ./hrc_168206_chr2_hg38.bim\n",
    "\n",
    "sos run /home/tl3031/project/imputation-rvtest/analysis/imputation_aggregated_analysis/liftover.ipynb \\\n",
    "    --cwd /home/tl3031/project/imputation-rvtest/analysis/imputation_aggregated_analysis/hrc_annot_168206ids \\\n",
    "    --input_file ./hrc_168206_chr11.bim \\\n",
    "    --output_file ./hrc_168206_chr11_hg38.bim"
   ]
  },
  {
   "cell_type": "markdown",
   "id": "16a37c55-199c-401f-8268-8972f5de743c",
   "metadata": {
    "kernel": "Bash"
   },
   "source": [
    "## 4. HRC Data Processing\n",
    "\n",
    "In HRC annotation, ID_hg19 is the original id, ID_hg38 is the liftedover id in hg38, ID is the id created by pasting annotations."
   ]
  },
  {
   "cell_type": "markdown",
   "id": "9cbd2d85-bc92-4c55-9f84-d3825f6b8d8c",
   "metadata": {
    "kernel": "Bash"
   },
   "source": [
    "### 4.1 Recode VCF"
   ]
  },
  {
   "cell_type": "code",
   "execution_count": 16,
   "id": "eba265ef-1d63-48ac-b056-c96831e0f349",
   "metadata": {
    "kernel": "SoS",
    "tags": []
   },
   "outputs": [],
   "source": [
    "## writing out script\n",
    "for i in list((1,2,11)):\n",
    "    for j in list((3,8)):\n",
    "        script='''#!/bin/sh\n",
    "#$ -l h_rt=24:00:00\n",
    "#$ -l h_vmem=30G\n",
    "#$ -N recode_vcf_hrc_chr%i_rsq0%i\n",
    "#$ -o /home/tl3031/project/imputation-rvtest/analysis/imputation_aggregated_analysis/hrc/scripts/recode_vcf_hrc_chr%i_rsq%i_$JOB_ID.out\n",
    "#$ -e /home/tl3031/project/imputation-rvtest/analysis/imputation_aggregated_analysis/hrc/scripts/recode_vcf_hrc_chr%i_rsq%i-$JOB_ID.err\n",
    "#$ -j y\n",
    "#$ -q csg.q\n",
    "#$ -S /bin/bash\n",
    "cd ~/project/imputation-rvtest/analysis/imputation_aggregated_analysis/hrc\n",
    "module load Plink/2.00a\n",
    "\n",
    "plink2 \\\n",
    "    --vcf hrc_chr%i_merged_168206ids_rsq0%i_dose.vcf.gz dosage=DS \\\n",
    "    --freq counts \\\n",
    "    --make-bpgen --sort-vars \\\n",
    "    --set-all-var-ids chr@:#:\\$r:\\$a \\\n",
    "    --new-id-max-allele-len 200 \\\n",
    "    --out hrc_chr%i_merged_168206ids_rsq0%i_dose\n",
    "\n",
    "awk 'BEGIN {FS=\" \"; OFS=\" \"} {if(NR==1 || $5==0 || $6==0)print $2}' hrc_chr%i_merged_168206ids_rsq0%i_dose.acount > monomprphic_chr%i_rsq0%i_SNPs\n",
    "\n",
    "'''%(i,j,i,j,i,j,i,j,i,j,i,j,i,j)\n",
    "        f=open(\"/home/tl3031/project/imputation-rvtest/analysis/imputation_aggregated_analysis/hrc/scripts/recode_vcf_hrc_chr\"+str(i)+\"_rsq0\"+str(j)+\".sh\", 'w')\n",
    "        f.write(script)\n",
    "        f.close()"
   ]
  },
  {
   "cell_type": "code",
   "execution_count": 17,
   "id": "af4858b1-d3da-4477-befc-e106820ec47c",
   "metadata": {
    "kernel": "Bash",
    "tags": []
   },
   "outputs": [
    {
     "name": "stdout",
     "output_type": "stream",
     "text": [
      "Your job 8658534 (\"recode_vcf_hrc_chr11_rsq03\") has been submitted\n",
      "Your job 8658535 (\"recode_vcf_hrc_chr11_rsq08\") has been submitted\n",
      "Your job 8658536 (\"recode_vcf_hrc_chr1_rsq03\") has been submitted\n",
      "Your job 8658537 (\"recode_vcf_hrc_chr1_rsq08\") has been submitted\n",
      "Your job 8658538 (\"recode_vcf_hrc_chr2_rsq03\") has been submitted\n",
      "Your job 8658539 (\"recode_vcf_hrc_chr2_rsq08\") has been submitted\n"
     ]
    }
   ],
   "source": [
    "cd /home/tl3031/project/imputation-rvtest/analysis/imputation_aggregated_analysis/hrc/scripts/\n",
    "for i in recode_vcf_hrc_chr*_rsq0*.sh; do qsub $i; done"
   ]
  },
  {
   "cell_type": "markdown",
   "id": "92c153b1-0a18-456e-9943-be7c02b05563",
   "metadata": {
    "kernel": "Bash"
   },
   "source": [
    "### 4.2 Annotate HRC"
   ]
  },
  {
   "cell_type": "code",
   "execution_count": 18,
   "id": "0315723e-b655-4df4-b876-af11d61a9850",
   "metadata": {
    "kernel": "Python3",
    "tags": []
   },
   "outputs": [],
   "source": [
    "## writing out script\n",
    "for i in list((1,2,11)):\n",
    "    for j in list((3,8)):\n",
    "        script='''#!/bin/sh\n",
    "#$ -l h_rt=24:00:00\n",
    "#$ -l h_vmem=30G\n",
    "#$ -N annotate_hrc_chr%i_rsq0%i\n",
    "#$ -o /home/tl3031/project/imputation-rvtest/analysis/imputation_aggregated_analysis/hrc/scripts/annotate_hrc_chr%i_rsq%i_$JOB_ID.out\n",
    "#$ -e /home/tl3031/project/imputation-rvtest/analysis/imputation_aggregated_analysis/hrc/scripts/annotate_hrc_chr%i_rsq%i-$JOB_ID.err\n",
    "#$ -j y\n",
    "#$ -q csg.q\n",
    "#$ -S /bin/bash\n",
    "export PATH=$HOME/miniconda3/bin:$PATH\n",
    "module load Singularity\n",
    "\n",
    "sos run ~/project/imputation-rvtest/analysis/imputation_aggregated_analysis/notebooks/annovar.ipynb annovar \\\n",
    "    --build 'hg38' \\\n",
    "    --cwd ~/project/imputation-rvtest/analysis/imputation_aggregated_analysis/hrc \\\n",
    "    --bim_name /home/tl3031/project/imputation-rvtest/analysis/imputation_aggregated_analysis/hrc/hrc_chr%i_merged_168206ids_rsq0%i_dose_hg38.bim \\\n",
    "    --humandb /mnt/mfs/statgen/isabelle/REF/humandb  \\\n",
    "    --job_size 1 \\\n",
    "    --name_prefix hrc_chr%i_merged_168206ids_rsq0%i_dose \\\n",
    "    --container_annovar /mnt/mfs/statgen/containers/gatk4-annovar.sif\n",
    "\n",
    "'''%(i,j,i,j,i,j,i,j,i,j)\n",
    "        f=open(\"/home/tl3031/project/imputation-rvtest/analysis/imputation_aggregated_analysis/hrc/scripts/annotate_hrc_chr\"+str(i)+\"_rsq0\"+str(j)+\".sh\", 'w')\n",
    "        f.write(script)\n",
    "        f.close()"
   ]
  },
  {
   "cell_type": "code",
   "execution_count": 18,
   "id": "08411ef0-5462-4c3b-bb69-7597b222764f",
   "metadata": {
    "kernel": "R",
    "tags": []
   },
   "outputs": [
    {
     "name": "stderr",
     "output_type": "stream",
     "text": [
      "Warning message:\n",
      "“\u001b[1m\u001b[22mThere was 1 warning in `mutate()`.\n",
      "\u001b[1m\u001b[22m\u001b[36mℹ\u001b[39m In argument: `AF_nfe_exome = as.numeric(AF_nfe_exome)`.\n",
      "Caused by warning:\n",
      "\u001b[33m!\u001b[39m NAs introduced by coercion”\n",
      "Warning message:\n",
      "“\u001b[1m\u001b[22mThere was 1 warning in `mutate()`.\n",
      "\u001b[1m\u001b[22m\u001b[36mℹ\u001b[39m In argument: `AF_nfe_exome = as.numeric(AF_nfe_exome)`.\n",
      "Caused by warning:\n",
      "\u001b[33m!\u001b[39m NAs introduced by coercion”\n",
      "Warning message:\n",
      "“\u001b[1m\u001b[22mThere was 1 warning in `mutate()`.\n",
      "\u001b[1m\u001b[22m\u001b[36mℹ\u001b[39m In argument: `AF_nfe_exome = as.numeric(AF_nfe_exome)`.\n",
      "Caused by warning:\n",
      "\u001b[33m!\u001b[39m NAs introduced by coercion”\n",
      "Warning message:\n",
      "“\u001b[1m\u001b[22mThere was 1 warning in `mutate()`.\n",
      "\u001b[1m\u001b[22m\u001b[36mℹ\u001b[39m In argument: `AF_nfe_exome = as.numeric(AF_nfe_exome)`.\n",
      "Caused by warning:\n",
      "\u001b[33m!\u001b[39m NAs introduced by coercion”\n",
      "Warning message:\n",
      "“\u001b[1m\u001b[22mThere was 1 warning in `mutate()`.\n",
      "\u001b[1m\u001b[22m\u001b[36mℹ\u001b[39m In argument: `AF_nfe_exome = as.numeric(AF_nfe_exome)`.\n",
      "Caused by warning:\n",
      "\u001b[33m!\u001b[39m NAs introduced by coercion”\n",
      "Warning message:\n",
      "“\u001b[1m\u001b[22mThere was 1 warning in `mutate()`.\n",
      "\u001b[1m\u001b[22m\u001b[36mℹ\u001b[39m In argument: `AF_nfe_exome = as.numeric(AF_nfe_exome)`.\n",
      "Caused by warning:\n",
      "\u001b[33m!\u001b[39m NAs introduced by coercion”\n"
     ]
    }
   ],
   "source": [
    "## rename columns\n",
    "library(dplyr)\n",
    "library(data.table)\n",
    "\n",
    "setwd(\"~/project/imputation-rvtest/analysis/imputation_aggregated_analysis/hrc\")\n",
    "\n",
    "for(chr in c(1,2,11)){\n",
    "    for (rsq in c(3,8)){\n",
    "        annot <- data.table::fread(sprintf(\"hrc_chr%d_merged_168206ids_rsq0%d_dose_hg38.hg38.hg38_multianno.csv\", chr, rsq))\n",
    "        bim <- data.table::fread(sprintf(\"hrc_chr%d_merged_168206ids_rsq0%d_dose.bim\", chr, rsq))\n",
    "        colnames(annot)[29:41] <- c(\"AF_genome\",\n",
    "                                    \"AF_raw_genome\",\n",
    "                                    \"AF_male_genome\",\n",
    "                                    \"AF_female_genome\",\n",
    "                                    \"AF_afr_genome\",\n",
    "                                    \"AF_ami_genome\",\n",
    "                                    \"AF_amr_genome\",\n",
    "                                    \"AF_asj_genome\",\n",
    "                                    \"AF_eas_genome\",\n",
    "                                    \"AF_fin_genome\",\n",
    "                                    \"AF_nfe_genome\",\n",
    "                                    \"AF_oth_genome\",\n",
    "                                    \"AF_sas_genome\")\n",
    "        colnames(annot)[42:54] <- c(\"AF_exome\",\n",
    "                                    \"AF_popmax_exome\",\n",
    "                                    \"AF_male_exome\",\n",
    "                                    \"AF_female_exome\",\n",
    "                                    \"AF_raw_exome\",\n",
    "                                    \"AF_afr_exome\",\n",
    "                                    \"AF_sas_exome\",\n",
    "                                    \"AF_amr_exome\",\n",
    "                                    \"AF_eas_exome\",\n",
    "                                    \"AF_nfe_exome\",\n",
    "                                    \"AF_fin_exome\",\n",
    "                                    \"AF_asj_exome\",\n",
    "                                    \"AF_oth_exome\")\n",
    "        annot <- annot %>% \n",
    "            mutate(AF_nfe_exome = as.numeric(AF_nfe_exome)) %>% \n",
    "            mutate(MAF_nfe_exome = ifelse(AF_nfe_exome > 0.5, 1 - AF_nfe_exome, AF_nfe_exome)) %>% \n",
    "            rename(\"ID_hg38\" = \"Otherinfo1\") %>%\n",
    "            mutate(ID = paste(Chr, Start, Ref, Alt, sep = \":\"), ID_hg19 = bim$V2) %>%\n",
    "            mutate(ID = paste0(\"chr\", ID)) %>%\n",
    "            select(Chr, Start, End, Ref, Alt, \n",
    "                   Func.refGene, Gene.refGene, ExonicFunc.refGene, \n",
    "                   MAF_nfe_exome, REVEL_score,\n",
    "                   ID_hg38, ID_hg19, ID, CADD_phred)\n",
    "        # data.table::fwrite(annot, sprintf(\"hrc_chr%d_rsq0%d_hg19_hg38_sel_col_annot.csv.gz\", chr, rsq))\n",
    "    }\n",
    "}"
   ]
  },
  {
   "cell_type": "markdown",
   "id": "84fd5294-80d2-4600-946e-c60520aa1887",
   "metadata": {
    "kernel": "Bash"
   },
   "source": [
    "### 4.3 Filter HRC\n",
    "\n",
    "**MAF (0.01, 0.005, 0.001) $\\times$ R2 (0.3, 0.8)**"
   ]
  },
  {
   "cell_type": "code",
   "execution_count": 19,
   "id": "fd7208ff-2be2-4550-939b-c16f2b4701da",
   "metadata": {
    "kernel": "R",
    "tags": []
   },
   "outputs": [],
   "source": [
    "library(dplyr)\n",
    "library(data.table)\n",
    "\n",
    "setwd(\"~/project/imputation-rvtest/analysis/imputation_aggregated_analysis/hrc\")"
   ]
  },
  {
   "cell_type": "code",
   "execution_count": 20,
   "id": "70f2a0c6-bcd9-45cb-9431-4152771988bd",
   "metadata": {
    "collapsed": true,
    "jupyter": {
     "outputs_hidden": true
    },
    "kernel": "R",
    "tags": []
   },
   "outputs": [
    {
     "name": "stderr",
     "output_type": "stream",
     "text": [
      "Warning message:\n",
      "“\u001b[1m\u001b[22mExpected 3 pieces. Additional pieces discarded in 13 rows [6556, 6557, 6561,\n",
      "8110, 8112, 8120, 9478, 12706, 12714, 15013, 15015, 15027, 15031].”\n",
      "Warning message:\n",
      "“\u001b[1m\u001b[22mExpected 3 pieces. Missing pieces filled with `NA` in 20633 rows [1, 2, 3, 4,\n",
      "5, 6, 7, 8, 9, 10, 11, 12, 13, 14, 15, 16, 17, 18, 19, 20, ...].”\n",
      "Warning message:\n",
      "“\u001b[1m\u001b[22mExpected 3 pieces. Additional pieces discarded in 13 rows [6275, 6276, 6280,\n",
      "7778, 7779, 7787, 9095, 12212, 12220, 14429, 14431, 14443, 14447].”\n",
      "Warning message:\n",
      "“\u001b[1m\u001b[22mExpected 3 pieces. Missing pieces filled with `NA` in 19838 rows [1, 2, 3, 4,\n",
      "5, 6, 7, 8, 9, 10, 11, 12, 13, 14, 15, 16, 17, 18, 19, 20, ...].”\n",
      "Warning message:\n",
      "“\u001b[1m\u001b[22mExpected 3 pieces. Additional pieces discarded in 9 rows [5220, 5221, 5223,\n",
      "6503, 6504, 10249, 10254, 12131, 12133].”\n",
      "Warning message:\n",
      "“\u001b[1m\u001b[22mExpected 3 pieces. Missing pieces filled with `NA` in 16730 rows [1, 2, 3, 4,\n",
      "5, 6, 7, 8, 9, 10, 11, 12, 13, 14, 15, 16, 17, 18, 19, 20, ...].”\n",
      "Warning message:\n",
      "“\u001b[1m\u001b[22mExpected 3 pieces. Additional pieces discarded in 4 rows [3255, 6248, 6250,\n",
      "6257].”\n",
      "Warning message:\n",
      "“\u001b[1m\u001b[22mExpected 3 pieces. Missing pieces filled with `NA` in 8701 rows [1, 2, 3, 4, 5,\n",
      "6, 7, 8, 9, 10, 11, 12, 13, 14, 15, 16, 17, 18, 19, 20, ...].”\n",
      "Warning message:\n",
      "“\u001b[1m\u001b[22mExpected 3 pieces. Additional pieces discarded in 4 rows [2964, 5723, 5725,\n",
      "5732].”\n",
      "Warning message:\n",
      "“\u001b[1m\u001b[22mExpected 3 pieces. Missing pieces filled with `NA` in 7988 rows [1, 2, 3, 4, 5,\n",
      "6, 7, 8, 9, 10, 11, 12, 13, 14, 15, 16, 17, 18, 19, 20, ...].”\n",
      "Warning message:\n",
      "“\u001b[1m\u001b[22mExpected 3 pieces. Additional pieces discarded in 1 rows [4008].”\n",
      "Warning message:\n",
      "“\u001b[1m\u001b[22mExpected 3 pieces. Missing pieces filled with `NA` in 5652 rows [1, 2, 3, 4, 5,\n",
      "6, 7, 8, 9, 10, 11, 12, 13, 14, 15, 16, 17, 18, 19, 20, ...].”\n",
      "Warning message:\n",
      "“\u001b[1m\u001b[22mExpected 3 pieces. Additional pieces discarded in 17 rows [592, 594, 603, 604,\n",
      "3010, 3020, 4925, 8040, 8043, 8056, 8061, 8067, 8072, 13629, 13630, 13631,\n",
      "13632].”\n",
      "Warning message:\n",
      "“\u001b[1m\u001b[22mExpected 3 pieces. Missing pieces filled with `NA` in 14714 rows [1, 2, 3, 4,\n",
      "5, 6, 7, 8, 9, 10, 11, 12, 13, 14, 15, 16, 17, 18, 19, 20, ...].”\n",
      "Warning message:\n",
      "“\u001b[1m\u001b[22mExpected 3 pieces. Additional pieces discarded in 16 rows [576, 578, 585, 586,\n",
      "2896, 2906, 4749, 7743, 7746, 7758, 7767, 7772, 13123, 13124, 13125, 13126].”\n",
      "Warning message:\n",
      "“\u001b[1m\u001b[22mExpected 3 pieces. Missing pieces filled with `NA` in 14166 rows [1, 2, 3, 4,\n",
      "5, 6, 7, 8, 9, 10, 11, 12, 13, 14, 15, 16, 17, 18, 19, 20, ...].”\n",
      "Warning message:\n",
      "“\u001b[1m\u001b[22mExpected 3 pieces. Additional pieces discarded in 16 rows [484, 486, 493, 494,\n",
      "2452, 2460, 4038, 6531, 6534, 6543, 6549, 6552, 11031, 11032, 11033, 11034].”\n",
      "Warning message:\n",
      "“\u001b[1m\u001b[22mExpected 3 pieces. Missing pieces filled with `NA` in 11911 rows [1, 2, 3, 4,\n",
      "5, 6, 7, 8, 9, 10, 11, 12, 13, 14, 15, 16, 17, 18, 19, 20, ...].”\n",
      "Warning message:\n",
      "“\u001b[1m\u001b[22mExpected 3 pieces. Additional pieces discarded in 8 rows [245, 1331, 3449,\n",
      "3465, 3469, 3473, 5969, 5970].”\n",
      "Warning message:\n",
      "“\u001b[1m\u001b[22mExpected 3 pieces. Missing pieces filled with `NA` in 6393 rows [1, 2, 3, 4, 5,\n",
      "6, 7, 8, 9, 10, 11, 12, 13, 14, 15, 16, 17, 18, 19, 20, ...].”\n",
      "Warning message:\n",
      "“\u001b[1m\u001b[22mExpected 3 pieces. Additional pieces discarded in 7 rows [231, 1223, 3179,\n",
      "3196, 3200, 5508, 5509].”\n",
      "Warning message:\n",
      "“\u001b[1m\u001b[22mExpected 3 pieces. Missing pieces filled with `NA` in 5896 rows [1, 2, 3, 4, 5,\n",
      "6, 7, 8, 9, 10, 11, 12, 13, 14, 15, 16, 17, 18, 19, 20, ...].”\n",
      "Warning message:\n",
      "“\u001b[1m\u001b[22mExpected 3 pieces. Additional pieces discarded in 7 rows [164, 873, 2276, 2287,\n",
      "2289, 3896, 3897].”\n",
      "Warning message:\n",
      "“\u001b[1m\u001b[22mExpected 3 pieces. Missing pieces filled with `NA` in 4165 rows [1, 2, 3, 4, 5,\n",
      "6, 7, 8, 9, 10, 11, 12, 13, 14, 15, 16, 17, 18, 19, 20, ...].”\n",
      "Warning message:\n",
      "“\u001b[1m\u001b[22mExpected 3 pieces. Additional pieces discarded in 13 rows [1723, 1729, 1730,\n",
      "1738, 1739, 3367, 3373, 11773, 11774, 11776, 11778, 12344, 12348].”\n",
      "Warning message:\n",
      "“\u001b[1m\u001b[22mExpected 3 pieces. Missing pieces filled with `NA` in 13419 rows [1, 2, 3, 4,\n",
      "5, 6, 7, 8, 9, 10, 11, 12, 13, 14, 15, 16, 17, 18, 19, 20, ...].”\n",
      "Warning message:\n",
      "“\u001b[1m\u001b[22mExpected 3 pieces. Additional pieces discarded in 11 rows [1654, 1660, 1661,\n",
      "1669, 1670, 3230, 11316, 11317, 11319, 11321, 11866].”\n",
      "Warning message:\n",
      "“\u001b[1m\u001b[22mExpected 3 pieces. Missing pieces filled with `NA` in 12901 rows [1, 2, 3, 4,\n",
      "5, 6, 7, 8, 9, 10, 11, 12, 13, 14, 15, 16, 17, 18, 19, 20, ...].”\n",
      "Warning message:\n",
      "“\u001b[1m\u001b[22mExpected 3 pieces. Additional pieces discarded in 8 rows [1399, 1404, 1405,\n",
      "1411, 1412, 9593, 9596, 10067].”\n",
      "Warning message:\n",
      "“\u001b[1m\u001b[22mExpected 3 pieces. Missing pieces filled with `NA` in 10941 rows [1, 2, 3, 4,\n",
      "5, 6, 7, 8, 9, 10, 11, 12, 13, 14, 15, 16, 17, 18, 19, 20, ...].”\n",
      "Warning message:\n",
      "“\u001b[1m\u001b[22mExpected 3 pieces. Additional pieces discarded in 8 rows [734, 735, 1444, 1447,\n",
      "5258, 5259, 5260, 5488].”\n",
      "Warning message:\n",
      "“\u001b[1m\u001b[22mExpected 3 pieces. Missing pieces filled with `NA` in 5978 rows [1, 2, 3, 4, 5,\n",
      "6, 7, 8, 9, 10, 11, 12, 13, 14, 15, 16, 17, 18, 19, 20, ...].”\n",
      "Warning message:\n",
      "“\u001b[1m\u001b[22mExpected 3 pieces. Additional pieces discarded in 6 rows [677, 678, 1322, 4843,\n",
      "4844, 4845].”\n",
      "Warning message:\n",
      "“\u001b[1m\u001b[22mExpected 3 pieces. Missing pieces filled with `NA` in 5505 rows [1, 2, 3, 4, 5,\n",
      "6, 7, 8, 9, 10, 11, 12, 13, 14, 15, 16, 17, 18, 19, 20, ...].”\n",
      "Warning message:\n",
      "“\u001b[1m\u001b[22mExpected 3 pieces. Additional pieces discarded in 3 rows [495, 496, 3538].”\n",
      "Warning message:\n",
      "“\u001b[1m\u001b[22mExpected 3 pieces. Missing pieces filled with `NA` in 4022 rows [1, 2, 3, 4, 5,\n",
      "6, 7, 8, 9, 10, 11, 12, 13, 14, 15, 16, 17, 18, 19, 20, ...].”\n"
     ]
    }
   ],
   "source": [
    "filter_df <- data.frame(data.frame(matrix(ncol = 7, nrow = 0)))\n",
    "\n",
    "for(chr in c(1, 2, 11)){\n",
    "    for(rsq in c(3, 8)){\n",
    "        for(maf in c(0.01, 0.005, 0.001)){\n",
    "            maf_c <- gsub(\"\\\\.\", \"\", as.character(maf))\n",
    "            annot <- fread(sprintf(\"hrc_chr%d_rsq0%d_hg19_hg38_sel_col_annot.csv.gz\", chr, rsq)) %>% select(-CADD_phred)\n",
    "            mono_list <- fread(sprintf(\"monomprphic_chr%d_rsq0%d_SNPs\", chr, rsq))$ID # no monomorphic variants\n",
    "\n",
    "            annot <-  annot %>% filter(Chr == chr)\n",
    "            annot_maf <-  annot %>% \n",
    "                filter(!ID_hg19 %in% mono_list) %>%\n",
    "                filter(is.na(MAF_nfe_exome) | MAF_nfe_exome < maf)\n",
    "\n",
    "            annot_func <- annot_maf %>% \n",
    "                filter(Func.refGene %in% c(\"exonic\", \"splicing\", \"exonic;splicing\")) %>%\n",
    "                filter(ExonicFunc.refGene != 'unknown') %>% \n",
    "                filter(ExonicFunc.refGene != 'synonymous SNV' & ExonicFunc.refGene != 'nonframeshift substitution') %>%\n",
    "                mutate(Function = ifelse(ExonicFunc.refGene == \"nonsynonymous SNV\", \"missense\", \"\")) %>%\n",
    "                mutate(Function = ifelse(grepl(\"splicing\", Func.refGene), \"splicing\", Function)) %>%\n",
    "                mutate(Function = ifelse(ExonicFunc.refGene %in% c(\"stopgain\", \"stoploss\", \"startloss\", \"frameshift substitution\"), \"LoF\", Function))\n",
    "        \n",
    "            annot_func <- annot_func %>% \n",
    "                tidyr::separate(Gene.refGene, c(\"Gene.refGene\", \"discard_1\", \"discard_2\"), sep = \";\") %>% \n",
    "                select(-discard_1, -discard_2)\n",
    "\n",
    "            gene_list <- annot_func %>% pull(Gene.refGene) %>% table() %>% as.data.frame() %>% filter(Freq > 1) %>% pull(1)\n",
    "            annot_final <- annot_func %>% filter(Gene.refGene %in% gene_list)\n",
    "            \n",
    "            data.table::fwrite(annot_func, sprintf(\"hrc_chr%d_rsq0%d_hg19_hg38_maf%s_LOF_missense_all_annot.csv.gz\", chr, rsq, maf_c))\n",
    "            data.table::fwrite(annot_func %>% select(ID_hg19), sprintf(\"hrc_chr%d_rsq0%d_hg19_hg38_maf%s_LOF_missense_all_snplist\", chr, rsq, maf_c), \n",
    "                               sep = \" \", col.names = FALSE)\n",
    "            \n",
    "            data.table::fwrite(annot_final, sprintf(\"hrc_chr%d_rsq0%d_hg19_hg38_maf%s_LOF_missense_annot.csv.gz\", chr, rsq, maf_c))\n",
    "            data.table::fwrite(annot_final %>% select(ID_hg19), sprintf(\"hrc_chr%d_rsq0%d_hg19_hg38_maf%s_LOF_missense_snplist\", chr, rsq, maf_c), \n",
    "                               sep = \" \", col.names = FALSE)\n",
    "\n",
    "            sub_df <- data.frame(data = \"hrc\", chromosome = chr, maf = maf, rsq = rsq/10,\n",
    "                                 total_num_var = nrow(annot), maf_filtering_var = nrow(annot_maf),\n",
    "                                 function_filtering_var = sprintf(\"%d (%d)\", nrow(annot_func), length(unique(annot_func$Gene.refGene))),\n",
    "                                 gene_filtering_var = sprintf(\"%d (%d)\", nrow(annot_final), length(gene_list)))\n",
    "            filter_df <- rbind(filter_df, sub_df)\n",
    "        }\n",
    "    }\n",
    "}"
   ]
  },
  {
   "cell_type": "code",
   "execution_count": 21,
   "id": "c9c1847d-b7fc-4a78-8d94-5377aaa501ce",
   "metadata": {
    "kernel": "R",
    "tags": []
   },
   "outputs": [
    {
     "data": {
      "text/html": [
       "<table class=\"dataframe\">\n",
       "<caption>A data.frame: 18 × 8</caption>\n",
       "<thead>\n",
       "\t<tr><th scope=col>data</th><th scope=col>chromosome</th><th scope=col>maf</th><th scope=col>rsq</th><th scope=col>total_num_var</th><th scope=col>maf_filtering_var</th><th scope=col>function_filtering_var</th><th scope=col>gene_filtering_var</th></tr>\n",
       "\t<tr><th scope=col>&lt;chr&gt;</th><th scope=col>&lt;dbl&gt;</th><th scope=col>&lt;dbl&gt;</th><th scope=col>&lt;dbl&gt;</th><th scope=col>&lt;int&gt;</th><th scope=col>&lt;int&gt;</th><th scope=col>&lt;chr&gt;</th><th scope=col>&lt;chr&gt;</th></tr>\n",
       "</thead>\n",
       "<tbody>\n",
       "\t<tr><td>hrc</td><td> 1</td><td>0.010</td><td>0.3</td><td>2658041</td><td>2646976</td><td>20656 (1904)</td><td>20551 (1799)</td></tr>\n",
       "\t<tr><td>hrc</td><td> 1</td><td>0.005</td><td>0.3</td><td>2658041</td><td>2644855</td><td>19861 (1902)</td><td>19743 (1784)</td></tr>\n",
       "\t<tr><td>hrc</td><td> 1</td><td>0.001</td><td>0.3</td><td>2658041</td><td>2637260</td><td>16746 (1883)</td><td>16591 (1728)</td></tr>\n",
       "\t<tr><td>hrc</td><td> 1</td><td>0.010</td><td>0.8</td><td>1322393</td><td>1311707</td><td>8709 (1694) </td><td>8396 (1381) </td></tr>\n",
       "\t<tr><td>hrc</td><td> 1</td><td>0.005</td><td>0.8</td><td>1322393</td><td>1309907</td><td>7996 (1658) </td><td>7666 (1328) </td></tr>\n",
       "\t<tr><td>hrc</td><td> 1</td><td>0.001</td><td>0.8</td><td>1322393</td><td>1304988</td><td>5655 (1510) </td><td>5243 (1098) </td></tr>\n",
       "\t<tr><td>hrc</td><td> 2</td><td>0.010</td><td>0.3</td><td>2950782</td><td>2942882</td><td>14733 (1173)</td><td>14683 (1123)</td></tr>\n",
       "\t<tr><td>hrc</td><td> 2</td><td>0.005</td><td>0.3</td><td>2950782</td><td>2941416</td><td>14184 (1172)</td><td>14133 (1121)</td></tr>\n",
       "\t<tr><td>hrc</td><td> 2</td><td>0.001</td><td>0.3</td><td>2950782</td><td>2935812</td><td>11928 (1163)</td><td>11856 (1091)</td></tr>\n",
       "\t<tr><td>hrc</td><td> 2</td><td>0.010</td><td>0.8</td><td>1489256</td><td>1481568</td><td>6402 (1054) </td><td>6238 (890)  </td></tr>\n",
       "\t<tr><td>hrc</td><td> 2</td><td>0.005</td><td>0.8</td><td>1489256</td><td>1480301</td><td>5904 (1041) </td><td>5723 (860)  </td></tr>\n",
       "\t<tr><td>hrc</td><td> 2</td><td>0.001</td><td>0.8</td><td>1489256</td><td>1476549</td><td>4172 (966)  </td><td>3927 (721)  </td></tr>\n",
       "\t<tr><td>hrc</td><td>11</td><td>0.010</td><td>0.3</td><td>1696780</td><td>1689396</td><td>13447 (1241)</td><td>13392 (1186)</td></tr>\n",
       "\t<tr><td>hrc</td><td>11</td><td>0.005</td><td>0.3</td><td>1696780</td><td>1688155</td><td>12927 (1241)</td><td>12867 (1181)</td></tr>\n",
       "\t<tr><td>hrc</td><td>11</td><td>0.001</td><td>0.3</td><td>1696780</td><td>1683228</td><td>10962 (1233)</td><td>10872 (1143)</td></tr>\n",
       "\t<tr><td>hrc</td><td>11</td><td>0.010</td><td>0.8</td><td> 881400</td><td> 874250</td><td>5992 (1153) </td><td>5811 (972)  </td></tr>\n",
       "\t<tr><td>hrc</td><td>11</td><td>0.005</td><td>0.8</td><td> 881400</td><td> 873160</td><td>5517 (1137) </td><td>5315 (935)  </td></tr>\n",
       "\t<tr><td>hrc</td><td>11</td><td>0.001</td><td>0.8</td><td> 881400</td><td> 869855</td><td>4029 (1058) </td><td>3788 (817)  </td></tr>\n",
       "</tbody>\n",
       "</table>\n"
      ],
      "text/latex": [
       "A data.frame: 18 × 8\n",
       "\\begin{tabular}{llllllll}\n",
       " data & chromosome & maf & rsq & total\\_num\\_var & maf\\_filtering\\_var & function\\_filtering\\_var & gene\\_filtering\\_var\\\\\n",
       " <chr> & <dbl> & <dbl> & <dbl> & <int> & <int> & <chr> & <chr>\\\\\n",
       "\\hline\n",
       "\t hrc &  1 & 0.010 & 0.3 & 2658041 & 2646976 & 20656 (1904) & 20551 (1799)\\\\\n",
       "\t hrc &  1 & 0.005 & 0.3 & 2658041 & 2644855 & 19861 (1902) & 19743 (1784)\\\\\n",
       "\t hrc &  1 & 0.001 & 0.3 & 2658041 & 2637260 & 16746 (1883) & 16591 (1728)\\\\\n",
       "\t hrc &  1 & 0.010 & 0.8 & 1322393 & 1311707 & 8709 (1694)  & 8396 (1381) \\\\\n",
       "\t hrc &  1 & 0.005 & 0.8 & 1322393 & 1309907 & 7996 (1658)  & 7666 (1328) \\\\\n",
       "\t hrc &  1 & 0.001 & 0.8 & 1322393 & 1304988 & 5655 (1510)  & 5243 (1098) \\\\\n",
       "\t hrc &  2 & 0.010 & 0.3 & 2950782 & 2942882 & 14733 (1173) & 14683 (1123)\\\\\n",
       "\t hrc &  2 & 0.005 & 0.3 & 2950782 & 2941416 & 14184 (1172) & 14133 (1121)\\\\\n",
       "\t hrc &  2 & 0.001 & 0.3 & 2950782 & 2935812 & 11928 (1163) & 11856 (1091)\\\\\n",
       "\t hrc &  2 & 0.010 & 0.8 & 1489256 & 1481568 & 6402 (1054)  & 6238 (890)  \\\\\n",
       "\t hrc &  2 & 0.005 & 0.8 & 1489256 & 1480301 & 5904 (1041)  & 5723 (860)  \\\\\n",
       "\t hrc &  2 & 0.001 & 0.8 & 1489256 & 1476549 & 4172 (966)   & 3927 (721)  \\\\\n",
       "\t hrc & 11 & 0.010 & 0.3 & 1696780 & 1689396 & 13447 (1241) & 13392 (1186)\\\\\n",
       "\t hrc & 11 & 0.005 & 0.3 & 1696780 & 1688155 & 12927 (1241) & 12867 (1181)\\\\\n",
       "\t hrc & 11 & 0.001 & 0.3 & 1696780 & 1683228 & 10962 (1233) & 10872 (1143)\\\\\n",
       "\t hrc & 11 & 0.010 & 0.8 &  881400 &  874250 & 5992 (1153)  & 5811 (972)  \\\\\n",
       "\t hrc & 11 & 0.005 & 0.8 &  881400 &  873160 & 5517 (1137)  & 5315 (935)  \\\\\n",
       "\t hrc & 11 & 0.001 & 0.8 &  881400 &  869855 & 4029 (1058)  & 3788 (817)  \\\\\n",
       "\\end{tabular}\n"
      ],
      "text/markdown": [
       "\n",
       "A data.frame: 18 × 8\n",
       "\n",
       "| data &lt;chr&gt; | chromosome &lt;dbl&gt; | maf &lt;dbl&gt; | rsq &lt;dbl&gt; | total_num_var &lt;int&gt; | maf_filtering_var &lt;int&gt; | function_filtering_var &lt;chr&gt; | gene_filtering_var &lt;chr&gt; |\n",
       "|---|---|---|---|---|---|---|---|\n",
       "| hrc |  1 | 0.010 | 0.3 | 2658041 | 2646976 | 20656 (1904) | 20551 (1799) |\n",
       "| hrc |  1 | 0.005 | 0.3 | 2658041 | 2644855 | 19861 (1902) | 19743 (1784) |\n",
       "| hrc |  1 | 0.001 | 0.3 | 2658041 | 2637260 | 16746 (1883) | 16591 (1728) |\n",
       "| hrc |  1 | 0.010 | 0.8 | 1322393 | 1311707 | 8709 (1694)  | 8396 (1381)  |\n",
       "| hrc |  1 | 0.005 | 0.8 | 1322393 | 1309907 | 7996 (1658)  | 7666 (1328)  |\n",
       "| hrc |  1 | 0.001 | 0.8 | 1322393 | 1304988 | 5655 (1510)  | 5243 (1098)  |\n",
       "| hrc |  2 | 0.010 | 0.3 | 2950782 | 2942882 | 14733 (1173) | 14683 (1123) |\n",
       "| hrc |  2 | 0.005 | 0.3 | 2950782 | 2941416 | 14184 (1172) | 14133 (1121) |\n",
       "| hrc |  2 | 0.001 | 0.3 | 2950782 | 2935812 | 11928 (1163) | 11856 (1091) |\n",
       "| hrc |  2 | 0.010 | 0.8 | 1489256 | 1481568 | 6402 (1054)  | 6238 (890)   |\n",
       "| hrc |  2 | 0.005 | 0.8 | 1489256 | 1480301 | 5904 (1041)  | 5723 (860)   |\n",
       "| hrc |  2 | 0.001 | 0.8 | 1489256 | 1476549 | 4172 (966)   | 3927 (721)   |\n",
       "| hrc | 11 | 0.010 | 0.3 | 1696780 | 1689396 | 13447 (1241) | 13392 (1186) |\n",
       "| hrc | 11 | 0.005 | 0.3 | 1696780 | 1688155 | 12927 (1241) | 12867 (1181) |\n",
       "| hrc | 11 | 0.001 | 0.3 | 1696780 | 1683228 | 10962 (1233) | 10872 (1143) |\n",
       "| hrc | 11 | 0.010 | 0.8 |  881400 |  874250 | 5992 (1153)  | 5811 (972)   |\n",
       "| hrc | 11 | 0.005 | 0.8 |  881400 |  873160 | 5517 (1137)  | 5315 (935)   |\n",
       "| hrc | 11 | 0.001 | 0.8 |  881400 |  869855 | 4029 (1058)  | 3788 (817)   |\n",
       "\n"
      ],
      "text/plain": [
       "   data chromosome maf   rsq total_num_var maf_filtering_var\n",
       "1  hrc   1         0.010 0.3 2658041       2646976          \n",
       "2  hrc   1         0.005 0.3 2658041       2644855          \n",
       "3  hrc   1         0.001 0.3 2658041       2637260          \n",
       "4  hrc   1         0.010 0.8 1322393       1311707          \n",
       "5  hrc   1         0.005 0.8 1322393       1309907          \n",
       "6  hrc   1         0.001 0.8 1322393       1304988          \n",
       "7  hrc   2         0.010 0.3 2950782       2942882          \n",
       "8  hrc   2         0.005 0.3 2950782       2941416          \n",
       "9  hrc   2         0.001 0.3 2950782       2935812          \n",
       "10 hrc   2         0.010 0.8 1489256       1481568          \n",
       "11 hrc   2         0.005 0.8 1489256       1480301          \n",
       "12 hrc   2         0.001 0.8 1489256       1476549          \n",
       "13 hrc  11         0.010 0.3 1696780       1689396          \n",
       "14 hrc  11         0.005 0.3 1696780       1688155          \n",
       "15 hrc  11         0.001 0.3 1696780       1683228          \n",
       "16 hrc  11         0.010 0.8  881400        874250          \n",
       "17 hrc  11         0.005 0.8  881400        873160          \n",
       "18 hrc  11         0.001 0.8  881400        869855          \n",
       "   function_filtering_var gene_filtering_var\n",
       "1  20656 (1904)           20551 (1799)      \n",
       "2  19861 (1902)           19743 (1784)      \n",
       "3  16746 (1883)           16591 (1728)      \n",
       "4  8709 (1694)            8396 (1381)       \n",
       "5  7996 (1658)            7666 (1328)       \n",
       "6  5655 (1510)            5243 (1098)       \n",
       "7  14733 (1173)           14683 (1123)      \n",
       "8  14184 (1172)           14133 (1121)      \n",
       "9  11928 (1163)           11856 (1091)      \n",
       "10 6402 (1054)            6238 (890)        \n",
       "11 5904 (1041)            5723 (860)        \n",
       "12 4172 (966)             3927 (721)        \n",
       "13 13447 (1241)           13392 (1186)      \n",
       "14 12927 (1241)           12867 (1181)      \n",
       "15 10962 (1233)           10872 (1143)      \n",
       "16 5992 (1153)            5811 (972)        \n",
       "17 5517 (1137)            5315 (935)        \n",
       "18 4029 (1058)            3788 (817)        "
      ]
     },
     "metadata": {},
     "output_type": "display_data"
    }
   ],
   "source": [
    "filter_df"
   ]
  },
  {
   "cell_type": "markdown",
   "id": "3763514a-5699-46e6-b3c4-192b1c85034d",
   "metadata": {
    "kernel": "Bash"
   },
   "source": [
    "### 4.4 Subsetting for CADD score"
   ]
  },
  {
   "cell_type": "markdown",
   "id": "d1267d92-d1e6-435d-b4b3-0e4083cd7cee",
   "metadata": {
    "kernel": "R"
   },
   "source": [
    "For obtaining CADD score, we manually retrieved from the CADD [website](https://cadd.gs.washington.edu/) by uploading vcf files."
   ]
  },
  {
   "cell_type": "code",
   "execution_count": 23,
   "id": "59b7cce7-5508-44cd-8e2f-3e4080b444e8",
   "metadata": {
    "kernel": "SoS",
    "tags": []
   },
   "outputs": [],
   "source": [
    "for i in list((1,2,11)):\n",
    "        script='''#!/bin/sh\n",
    "#$ -l h_rt=48:00:00\n",
    "#$ -l h_vmem=64G\n",
    "#$ -N extract_filtered_maf001_chr%i\n",
    "#$ -o /home/tl3031/project/imputation-rvtest/analysis/imputation_aggregated_analysis/hrc/scripts/make_5col_vcf_maf001_chr%i_$JOB_ID.out\n",
    "#$ -e /home/tl3031/project/imputation-rvtest/analysis/imputation_aggregated_analysis/hrc/scripts/make_5col_vcf_maf001_chr%i_$JOB_ID.out\n",
    "#$ -q csg.q\n",
    "#$ -S /bin/bash\n",
    "\n",
    "export PATH=$HOME/miniconda3/bin:$PATH\n",
    "module load HTSLIB/1.17\n",
    "module load Plink/2.00a\n",
    "cd ~/project/imputation-rvtest/analysis/imputation_aggregated_analysis/hrc\n",
    "\n",
    "plink2 \\\n",
    "    --bpfile hrc_chr%i_merged_168206ids_rsq03_dose \\\n",
    "    --extract hrc_chr%i_rsq03_hg19_hg38_maf001_LOF_missense_all_snplist \\\n",
    "    --make-bpgen --sort-vars \\\n",
    "    --export vcf-4.2 vcf-dosage=DS bgz \\\n",
    "    --out hrc_chr%i_rsq03_maf001_LOF_missense_all_extracted\n",
    "\n",
    "zcat hrc_chr%i_rsq03_maf001_LOF_missense_all_extracted.vcf.gz | cut -f-5 > hrc_chr%i_rsq03_maf001_LOF_missense_all_extracted_5col.vcf\n",
    "bgzip hrc_chr%i_rsq03_maf001_LOF_missense_all_extracted_5col.vcf\n",
    "\n",
    "'''%(i,i,i,i,i,i,i,i,i)\n",
    "        f=open(\"/home/tl3031/project/imputation-rvtest/analysis/imputation_aggregated_analysis/hrc/scripts/make_5col_vcf_maf001_chr\"+str(i)+\".sh\", 'w')\n",
    "        f.write(script)\n",
    "        f.close()"
   ]
  },
  {
   "cell_type": "code",
   "execution_count": 24,
   "id": "b8cdc7fa-c768-4048-9fef-813d7f8596b8",
   "metadata": {
    "kernel": "Bash",
    "tags": []
   },
   "outputs": [
    {
     "name": "stdout",
     "output_type": "stream",
     "text": [
      "Your job 8646185 (\"extract_filtered_maf001_chr11\") has been submitted\n",
      "Your job 8646186 (\"extract_filtered_maf001_chr1\") has been submitted\n",
      "Your job 8646187 (\"extract_filtered_maf001_chr2\") has been submitted\n"
     ]
    }
   ],
   "source": [
    "cd ~/project/imputation-rvtest/analysis/imputation_aggregated_analysis/hrc/scripts\n",
    "\n",
    "qsub make_5col_vcf_maf001_chr11.sh\n",
    "qsub make_5col_vcf_maf001_chr1.sh\n",
    "qsub make_5col_vcf_maf001_chr2.sh\n",
    "\n",
    "sos run /home/tl3031/project/imputation-rvtest/analysis/imputation_aggregated_analysis/liftover.ipynb \\\n",
    "    --cwd /home/tl3031/project/imputation-rvtest/analysis/imputation_aggregated_analysis/hrc_annot_168206ids \\\n",
    "    --input_file ./hrc_chr1_rsq03_maf001_LOF_missense_all_extracted.vcf.gz \\\n",
    "    --output_file ./hrc_chr1_rsq03_maf001_LOF_missense_all_extracted_hg38.vcf.gz\n",
    "\n",
    "sos run /home/tl3031/project/imputation-rvtest/analysis/imputation_aggregated_analysis/liftover.ipynb \\\n",
    "    --cwd /home/tl3031/project/imputation-rvtest/analysis/imputation_aggregated_analysis/hrc_annot_168206ids \\\n",
    "    --input_file ./hrc_chr2_rsq03_maf001_LOF_missense_all_extracted.vcf.gz \\\n",
    "    --output_file ./hrc_chr2_rsq03_maf001_LOF_missense_all_extracted_hg38.vcf.gz\n",
    "\n",
    "sos run /home/tl3031/project/imputation-rvtest/analysis/imputation_aggregated_analysis/liftover.ipynb \\\n",
    "    --cwd /home/tl3031/project/imputation-rvtest/analysis/imputation_aggregated_analysis/hrc_annot_168206ids \\\n",
    "    --input_file ./hrc_chr11_rsq03_maf001_LOF_missense_all_extracted.vcf.gz \\\n",
    "    --output_file ./hrc_chr11_rsq03_maf001_LOF_missense_all_extracted_hg38.vcf.gz"
   ]
  },
  {
   "cell_type": "code",
   "execution_count": 22,
   "id": "a794f43c-6d62-4eb6-b879-118d96a206d0",
   "metadata": {
    "kernel": "R",
    "tags": []
   },
   "outputs": [
    {
     "name": "stderr",
     "output_type": "stream",
     "text": [
      "\u001b[1m\u001b[22mJoining with `by = join_by(ID_hg19, RawScore, PHRED)`\n",
      "\u001b[1m\u001b[22mJoining with `by = join_by(ID_hg19, RawScore, PHRED)`\n",
      "\u001b[1m\u001b[22mJoining with `by = join_by(ID_hg19, RawScore, PHRED)`\n",
      "\u001b[1m\u001b[22mJoining with `by = join_by(ID_hg19, RawScore, PHRED)`\n",
      "\u001b[1m\u001b[22mJoining with `by = join_by(ID_hg19, RawScore, PHRED)`\n",
      "\u001b[1m\u001b[22mJoining with `by = join_by(ID_hg19, RawScore, PHRED)`\n",
      "\u001b[1m\u001b[22mJoining with `by = join_by(ID_hg19, RawScore, PHRED)`\n",
      "\u001b[1m\u001b[22mJoining with `by = join_by(ID_hg19, RawScore, PHRED)`\n",
      "\u001b[1m\u001b[22mJoining with `by = join_by(ID_hg19, RawScore, PHRED)`\n",
      "\u001b[1m\u001b[22mJoining with `by = join_by(ID_hg19, RawScore, PHRED)`\n",
      "\u001b[1m\u001b[22mJoining with `by = join_by(ID_hg19, RawScore, PHRED)`\n",
      "\u001b[1m\u001b[22mJoining with `by = join_by(ID_hg19, RawScore, PHRED)`\n",
      "\u001b[1m\u001b[22mJoining with `by = join_by(ID_hg19, RawScore, PHRED)`\n",
      "\u001b[1m\u001b[22mJoining with `by = join_by(ID_hg19, RawScore, PHRED)`\n",
      "\u001b[1m\u001b[22mJoining with `by = join_by(ID_hg19, RawScore, PHRED)`\n",
      "\u001b[1m\u001b[22mJoining with `by = join_by(ID_hg19, RawScore, PHRED)`\n",
      "\u001b[1m\u001b[22mJoining with `by = join_by(ID_hg19, RawScore, PHRED)`\n",
      "\u001b[1m\u001b[22mJoining with `by = join_by(ID_hg19, RawScore, PHRED)`\n"
     ]
    }
   ],
   "source": [
    "library(data.table)\n",
    "library(dplyr)\n",
    "\n",
    "setwd(\"~/project/imputation-rvtest/analysis/imputation_aggregated_analysis/hrc\")\n",
    "\n",
    "for(chr in c(1, 2, 11)){\n",
    "    for(rsq in c(3, 8)){\n",
    "        for(maf in c(0.01, 0.005, 0.001)){\n",
    "            maf_c <- gsub(\"\\\\.\", \"\", as.character(maf))\n",
    "            annot <- fread(sprintf(\"hrc_chr%i_rsq0%s_hg19_hg38_maf001_LOF_missense_all_annot.csv.gz\", chr, rsq))\n",
    "\n",
    "            cadd_all <- fread(sprintf(\"GRCh37-v1.6_chr%i.tsv\", chr), header = TRUE) %>% arrange(Pos) \n",
    "            colnames(cadd_all) <- c(\"Chr\", \"Start\", \"Ref\", \"Alt\", \"RawScore\", \"PHRED\")\n",
    "            cadd_all <- cadd_all %>% mutate(ID_hg19 = paste(Chr, Start, Ref, Alt, sep = \":\")) %>% mutate(ID_hg19 = paste0(\"chr\", ID_hg19))\n",
    "\n",
    "            annot_all <- left_join(annot, cadd_all %>% select(ID_hg19, RawScore, PHRED)) %>% filter(is.na(MAF_nfe_exome) | MAF_nfe_exome < maf)\n",
    "            annot_all_lof <- annot_all %>% filter(Function == \"LoF\")\n",
    "            annot_all_cadd <- annot_all %>% filter(Function != \"LoF\") %>% filter(as.numeric(PHRED) >= 20)\n",
    "\n",
    "            gene_list <- annot_all %>% pull(Gene.refGene) %>% table() %>% as.data.frame() %>% filter(Freq > 1) %>% pull(1)\n",
    "            annot_final <- annot_all %>% filter(Gene.refGene %in% gene_list)\n",
    "            annot_final_lof <- annot_final %>% filter(Function == \"LoF\")\n",
    "            annot_final_cadd <- annot_final %>% filter(Function != \"LoF\") %>% filter(as.numeric(PHRED) >= 20)\n",
    "\n",
    "            # >= 1 variant\n",
    "            fwrite(annot_all, \n",
    "                   sprintf(\"hrc_chr%d_rsq0%d_hg19_hg38_maf%s_LOF_missense_all_annot.csv.gz\", chr, rsq, maf_c), \n",
    "                   quote = FALSE)\n",
    "\n",
    "            write.table(annot_all$ID_hg19, \n",
    "                        sprintf(\"hrc_chr%d_rsq0%d_hg19_hg38_maf%s_LOF_missense_all_snplist\", chr, rsq, maf_c), \n",
    "                        col.names = FALSE, row.name = FALSE, quote = FALSE)\n",
    "\n",
    "            ## >= 1 variant + CADD filtering\n",
    "            fwrite(rbind(annot_all_lof, annot_all_cadd), \n",
    "                   sprintf(\"hrc_chr%d_rsq0%d_hg19_hg38_maf%s_LOF_missense_all_cadd_annot.csv.gz\", chr, rsq, maf_c),  \n",
    "                   quote = FALSE)\n",
    "\n",
    "            write.table(rbind(annot_all_lof, annot_all_cadd) %>% pull(ID_hg19), \n",
    "                        sprintf(\"hrc_chr%d_rsq0%d_hg19_hg38_maf%s_LOF_missense_all_cadd_snplist\", chr, rsq, maf_c), \n",
    "                        col.names = FALSE, row.name = FALSE, quote = FALSE)\n",
    "\n",
    "            ## >= 2 variant\n",
    "            fwrite(annot_final, \n",
    "                   sprintf(\"hrc_chr%d_rsq0%d_hg19_hg38_maf%s_LOF_missense_annot.csv.gz\", chr, rsq, maf_c), \n",
    "                   quote = FALSE)\n",
    "\n",
    "            write.table(annot_final$ID_hg19, \n",
    "                        sprintf(\"hrc_chr%d_rsq0%d_hg19_hg38_maf%s_LOF_missense_snplist\", chr, rsq, maf_c), \n",
    "                        col.names = FALSE, row.name = FALSE, quote = FALSE)\n",
    "\n",
    "            ## >= 2 variant + CADD filtering\n",
    "            fwrite(rbind(annot_final_lof, annot_final_cadd), \n",
    "                   sprintf(\"hrc_chr%d_rsq0%d_hg19_hg38_maf%s_LOF_missense_cadd_annot.csv.gz\", chr, rsq, maf_c), \n",
    "                   quote = FALSE)\n",
    "\n",
    "            write.table(rbind(annot_all_lof, annot_all_cadd) %>% pull(ID_hg19), \n",
    "                        sprintf(\"hrc_chr%d_rsq0%d_hg19_hg38_maf%s_LOF_missense_cadd_snplist\", chr, rsq, maf_c),\n",
    "                        col.names = FALSE, row.name = FALSE, quote = FALSE)\n",
    "        }\n",
    "    }   \n",
    "}\n"
   ]
  },
  {
   "cell_type": "code",
   "execution_count": 23,
   "id": "d0e5c239-4e75-41e2-a8ac-0dfc4a514164",
   "metadata": {
    "kernel": "SoS",
    "tags": []
   },
   "outputs": [],
   "source": [
    "## extracting\n",
    "for i in list((1,2,11)):\n",
    "    for j in list((3,8)):\n",
    "        for k in list(((\"1\", \"05\", \"01\"))):\n",
    "            for c in list((\"\", \"_cadd\")):\n",
    "                script='''#!/bin/sh\n",
    "#$ -l h_rt=48:00:00\n",
    "#$ -l h_vmem=64G\n",
    "#$ -N extract_filtered_chr%i_rsq0%i_maf00%s%s\n",
    "#$ -o /home/tl3031/project/imputation-rvtest/analysis/imputation_aggregated_analysis/hrc/scripts/extract_filtered_chr%i_rsq0%i_maf00%s%s_$JOB_ID.out\n",
    "#$ -e /home/tl3031/project/imputation-rvtest/analysis/imputation_aggregated_analysis/hrc/scripts/extract_filtered_chr%i_rsq0%i_maf00%s%s_$JOB_ID.err\n",
    "#$ -q csg.q\n",
    "#$ -S /bin/bash\n",
    "export PATH=$HOME/miniconda3/bin:$PATH\n",
    "module load Plink/2.00a\n",
    "\n",
    "cd ~/project/imputation-rvtest/analysis/imputation_aggregated_analysis/hrc\n",
    "plink2 \\\n",
    "    --bpfile hrc_chr%i_merged_168206ids_rsq0%i_dose \\\n",
    "    --extract hrc_chr%i_rsq0%i_hg19_hg38_maf00%s_LOF_missense%s_snplist \\\n",
    "    --make-bpgen --sort-vars \\\n",
    "    --out hrc_chr%i_rsq0%i_maf00%s_LOF_missense%s_extracted\n",
    "\n",
    "'''%(i,j,k,c,i,j,k,c,i,j,k,c,i,j,i,j,k,c,i,j,k,c)\n",
    "                f=open(\"/home/tl3031/project/imputation-rvtest/analysis/imputation_aggregated_analysis/hrc/scripts/extract_filtered_chr\"+str(i)+\"_rsq0\"+str(j)+\"_maf00\"+k+c+\".sh\", 'w')\n",
    "                f.write(script)\n",
    "                f.close()"
   ]
  },
  {
   "cell_type": "markdown",
   "id": "f4a2d2af-bc50-4a9c-8d8a-ae1f69109393",
   "metadata": {
    "kernel": "Python3"
   },
   "source": [
    "## 5. TOPMed Data Processing"
   ]
  },
  {
   "cell_type": "markdown",
   "id": "27b2e6c4-ef7d-4c27-a9b7-29488c417680",
   "metadata": {
    "kernel": "Python3"
   },
   "source": [
    "### 5.1 Recode VCF"
   ]
  },
  {
   "cell_type": "code",
   "execution_count": 24,
   "id": "5b1aa791-3568-459b-beda-8b5070bf6f23",
   "metadata": {
    "kernel": "Python3",
    "tags": []
   },
   "outputs": [],
   "source": [
    "## writing out script\n",
    "for i in list((1,2,11)):\n",
    "    # for j in list((3,8)):\n",
    "        script='''#!/bin/bash\n",
    "#SBATCH --mem=50G\n",
    "#SBATCH --time=100:00:00\n",
    "#SBATCH --job-name=recode_vcf_chr%i_rsq0%i\n",
    "#SBATCH --output=/home/tl3031/project/imputation-rvtest/analysis/imputation_aggregated_analysis/topmed_v3/scripts/recode_vcf_chr%i_rsq0%i_%%j.out\n",
    "#SBATCH --error=/home/tl3031/project/imputation-rvtest/analysis/imputation_aggregated_analysis/topmed_v3/scripts/recode_vcf_chr%i_rsq0%i_%%j.err\n",
    "#SBATCH -p CSG\n",
    "#SBATCH --mail-type=FAIL\n",
    "#SBATCH --mail-user tl3031@cumc.columbia.edu\n",
    "\n",
    "module load Plink/2.00a\n",
    "cd ~/project/imputation-rvtest/analysis/imputation_aggregated_analysis/topmed_v3/\n",
    "\n",
    "plink2 \\\n",
    "    --vcf topmed_chr%i_merged_168206ids_dose.vcf.gz dosage=DS \\\n",
    "    --make-bpgen --sort-vars --threads 50 \\\n",
    "    --set-all-var-ids chr@:#:\\$r:\\$a \\\n",
    "    --new-id-max-allele-len 300 \\\n",
    "    --extract topmed_168206ids_chr%i_rsq0%i_snplist.txt \\\n",
    "    --out topmed_chr%i_merged_168206ids_rsq0%i_dose\n",
    "\n",
    "'''%(i,j,i,j,i,j,i,i,j,i,j)\n",
    "        f=open(\"/home/tl3031/project/imputation-rvtest/analysis/imputation_aggregated_analysis/topmed_v3/scripts/recode_vcf_topmed_chr\"+str(i)+\"_rsq0\"+str(j)+\".sh\", 'w')\n",
    "        f.write(script)\n",
    "        f.close()"
   ]
  },
  {
   "cell_type": "markdown",
   "id": "b290a44c-5d49-4478-aa08-f4764ed5bde4",
   "metadata": {
    "kernel": "R"
   },
   "source": [
    "### 5.2 Annotate TOPMed"
   ]
  },
  {
   "cell_type": "code",
   "execution_count": 25,
   "id": "d23651d7-4e94-4677-87e8-ecd36b64d736",
   "metadata": {
    "kernel": "Python3",
    "tags": []
   },
   "outputs": [],
   "source": [
    "## annotate topmed\n",
    "for i in list((1,2,11)):\n",
    "        script='''#!/bin/sh\n",
    "#$ -l h_rt=24:00:00\n",
    "#$ -l h_vmem=80G\n",
    "#$ -N annotate_topmed_v3_all_chr%i\n",
    "#$ -o /mnt/vast/hpc/csg/tl3031/imputation-rvtest/analysis/imputation_aggregated_analysis/topmed_v3/scripts/annotate_all_chr%i_$JOB_ID.out\n",
    "#$ -e /mnt/vast/hpc/csg/tl3031/imputation-rvtest/analysis/imputation_aggregated_analysis/topmed_v3/scripts/annotate_all_chr%i_$JOB_ID.err\n",
    "#$ -j y\n",
    "#$ -q csg.q\n",
    "\n",
    "source ~/mamba_activate.sh\n",
    "module load Singularity\n",
    "\n",
    "sos run /mnt/vast/hpc/csg/tl3031/imputation-rvtest/analysis/imputation_aggregated_analysis/notebooks/annovar.ipynb annovar \\\n",
    "    --build 'hg38' \\\n",
    "    --cwd /mnt/vast/hpc/csg/tl3031/imputation-rvtest/analysis/imputation_aggregated_analysis/topmed_v3 \\\n",
    "    --bim_name /mnt/vast/hpc/csg/tl3031/imputation-rvtest/analysis/imputation_aggregated_analysis/topmed_v3/topmed_batch1/chr%i.dose.nomismatch.bim \\\n",
    "    --humandb /mnt/vast/hpc/csg/isabelle/REF/humandb  \\\n",
    "    --job_size 1 \\\n",
    "    --name_prefix topmed_chr%i \\\n",
    "    --container_annovar /mnt/mfs/statgen/containers/gatk4-annovar.sif\n",
    "\n",
    "'''%(i,i,i,i,i)\n",
    "        f=open(\"/mnt/vast/hpc/csg/tl3031/imputation-rvtest/analysis/imputation_aggregated_analysis/topmed_v3/scripts/annotate_all_chr\"+str(i)+\".sh\", 'w')\n",
    "        f.write(script)\n",
    "        f.close()"
   ]
  },
  {
   "cell_type": "code",
   "execution_count": 26,
   "id": "53f14b91-4db1-4580-845b-4246a622e2b4",
   "metadata": {
    "kernel": "Bash",
    "tags": []
   },
   "outputs": [
    {
     "name": "stdout",
     "output_type": "stream",
     "text": [
      "Your job 8658540 (\"annotate_topmed_v3_all_chr11\") has been submitted\n",
      "Your job 8658541 (\"annotate_topmed_v3_all_chr1\") has been submitted\n",
      "Your job 8658542 (\"annotate_topmed_v3_all_chr2\") has been submitted\n",
      "Your job 8658543 (\"annotate_topmed_v3_mismatch_chr11\") has been submitted\n",
      "Your job 8658544 (\"annotate_topmed_v3_mismatch_chr1\") has been submitted\n",
      "Your job 8658545 (\"annotate_topmed_v3_mismatch_chr2\") has been submitted\n"
     ]
    }
   ],
   "source": [
    "cd ~/project/imputation-rvtest/analysis/imputation_aggregated_analysis/topmed_v3/scripts\n",
    "for i in annotate*sh; do qsub ${i}; done"
   ]
  },
  {
   "cell_type": "code",
   "execution_count": 1,
   "id": "bf91bd2b-16cd-419a-a6ab-e62db3aa3877",
   "metadata": {
    "kernel": "R",
    "tags": []
   },
   "outputs": [],
   "source": [
    "## rename columns\n",
    "library(dplyr)\n",
    "library(data.table)\n",
    "\n",
    "setwd(\"~/project/imputation-rvtest/analysis/imputation_aggregated_analysis/topmed_v3\")\n",
    "\n",
    "for(chr in c(1,2,11)){\n",
    "    annot <- fread(sprintf(\"chr%i.dose.nomismatch.hg38.hg38_multianno.csv\", chr))\n",
    "    \n",
    "    colnames(annot)[29:41] <- c(\"AF_genome\",\n",
    "                                \"AF_raw_genome\",\n",
    "                                \"AF_male_genome\",\n",
    "                                \"AF_female_genome\",\n",
    "                                \"AF_afr_genome\",\n",
    "                                \"AF_ami_genome\",\n",
    "                                \"AF_amr_genome\",\n",
    "                                \"AF_asj_genome\",\n",
    "                                \"AF_eas_genome\",\n",
    "                                \"AF_fin_genome\",\n",
    "                                \"AF_nfe_genome\",\n",
    "                                \"AF_oth_genome\",\n",
    "                                \"AF_sas_genome\")\n",
    "    colnames(annot)[42:54] <- c(\"AF_exome\",\n",
    "                                \"AF_popmax_exome\",\n",
    "                                \"AF_male_exome\",\n",
    "                                \"AF_female_exome\",\n",
    "                                \"AF_raw_exome\",\n",
    "                                \"AF_afr_exome\",\n",
    "                                \"AF_sas_exome\",\n",
    "                                \"AF_amr_exome\",\n",
    "                                \"AF_eas_exome\",\n",
    "                                \"AF_nfe_exome\",\n",
    "                                \"AF_fin_exome\",\n",
    "                                \"AF_asj_exome\",\n",
    "                                \"AF_oth_exome\")\n",
    "\n",
    "    for (rsq in c(3,8)){\n",
    "        snplist <- fread(sprintf(\"topmed_168206ids_chr%i_rsq0%i_snplist.txt\", chr, rsq), header=FALSE) %>% pull(V1)\n",
    "        \n",
    "        annot_subset <- annot %>% \n",
    "            mutate(AF_nfe_exome = as.numeric(AF_nfe_exome)) %>% \n",
    "            mutate(MAF_nfe_exome = ifelse(AF_nfe_exome > 0.5, 1 - AF_nfe_exome, AF_nfe_exome)) %>% \n",
    "            rename(\"ID_hg38\" = \"Otherinfo1\") %>%\n",
    "            mutate(ID = paste(Chr, Start, Ref, Alt, sep = \":\")) %>%\n",
    "            mutate(ID = paste0(\"chr\", ID)) %>%\n",
    "            filter(ID_hg38 %in% snplist) %>%\n",
    "            select(Chr, Start, End, Ref, Alt, \n",
    "                   Func.refGene, Gene.refGene, ExonicFunc.refGene, \n",
    "                   MAF_nfe_exome, REVEL_score,\n",
    "                   ID_hg38, ID, CADD_phred)\n",
    "        print(sprintf(\"chromosome %i, rsq %i, snplist length %i, nrow annot %i\", chr, rsq, length(snplist), nrow(annot_subset)))\n",
    "        fwrite(annot_subset, sprintf(\"topmed_chr%d_rsq0%d_hg38_hg38_sel_col_annot.csv.gz\", chr, rsq))\n",
    "    }\n",
    "}"
   ]
  },
  {
   "cell_type": "markdown",
   "id": "d14b958c-fff2-4d96-9a09-5b1cd2208dbd",
   "metadata": {
    "kernel": "Bash"
   },
   "source": [
    "### 5.3 Filter TOPMed"
   ]
  },
  {
   "cell_type": "code",
   "execution_count": 2,
   "id": "ef5e1478-9850-4c95-b489-9b0befcb8455",
   "metadata": {
    "kernel": "R",
    "tags": []
   },
   "outputs": [
    {
     "name": "stderr",
     "output_type": "stream",
     "text": [
      "\n",
      "Attaching package: ‘dplyr’\n",
      "\n",
      "\n",
      "The following objects are masked from ‘package:stats’:\n",
      "\n",
      "    filter, lag\n",
      "\n",
      "\n",
      "The following objects are masked from ‘package:base’:\n",
      "\n",
      "    intersect, setdiff, setequal, union\n",
      "\n",
      "\n",
      "\n",
      "Attaching package: ‘data.table’\n",
      "\n",
      "\n",
      "The following objects are masked from ‘package:dplyr’:\n",
      "\n",
      "    between, first, last\n",
      "\n",
      "\n"
     ]
    }
   ],
   "source": [
    "library(dplyr)\n",
    "library(data.table)\n",
    "library(stringr)\n",
    "\n",
    "setwd(\"/mnt/vast/hpc/csg/tl3031/imputation-rvtest/analysis/imputation_aggregated_analysis/topmed_v3\")"
   ]
  },
  {
   "cell_type": "code",
   "execution_count": 3,
   "id": "79fcb576-5747-4fa4-84ff-4e6490ba6762",
   "metadata": {
    "kernel": "R",
    "tags": []
   },
   "outputs": [
    {
     "name": "stderr",
     "output_type": "stream",
     "text": [
      "Warning message:\n",
      "“\u001b[1m\u001b[22mExpected 3 pieces. Additional pieces discarded in 85 rows [11932, 11933, 11936,\n",
      "11941, 15485, 22040, 22043, 47720, 47721, 47731, 47732, 47745, 47746, 47752,\n",
      "47756, 58581, 58583, 58592, 58595, 58598, ...].”\n",
      "Warning message:\n",
      "“\u001b[1m\u001b[22mExpected 3 pieces. Missing pieces filled with `NA` in 141824 rows [1, 2, 3, 4,\n",
      "5, 6, 7, 8, 9, 10, 11, 12, 13, 14, 15, 16, 17, 18, 19, 20, ...].”\n",
      "Warning message:\n",
      "“\u001b[1m\u001b[22mExpected 3 pieces. Additional pieces discarded in 85 rows [11859, 11860, 11863,\n",
      "11868, 15387, 21912, 21915, 47435, 47436, 47446, 47447, 47460, 47461, 47467,\n",
      "47471, 58236, 58238, 58247, 58249, 58252, ...].”\n",
      "Warning message:\n",
      "“\u001b[1m\u001b[22mExpected 3 pieces. Missing pieces filled with `NA` in 140998 rows [1, 2, 3, 4,\n",
      "5, 6, 7, 8, 9, 10, 11, 12, 13, 14, 15, 16, 17, 18, 19, 20, ...].”\n",
      "Warning message:\n",
      "“\u001b[1m\u001b[22mExpected 3 pieces. Additional pieces discarded in 82 rows [11557, 11558, 11561,\n",
      "11566, 15002, 21390, 21393, 46355, 46356, 46364, 46365, 46377, 46378, 46384,\n",
      "46388, 56923, 56925, 56934, 56936, 56939, ...].”\n",
      "Warning message:\n",
      "“\u001b[1m\u001b[22mExpected 3 pieces. Missing pieces filled with `NA` in 137791 rows [1, 2, 3, 4,\n",
      "5, 6, 7, 8, 9, 10, 11, 12, 13, 14, 15, 16, 17, 18, 19, 20, ...].”\n",
      "Warning message:\n",
      "“\u001b[1m\u001b[22mExpected 3 pieces. Additional pieces discarded in 27 rows [2921, 14341, 14349,\n",
      "14350, 18000, 18004, 18011, 18020, 18024, 18026, 18028, 18030, 18040, 18041,\n",
      "18044, 24775, 28121, 28135, 33210, 33211, ...].”\n",
      "Warning message:\n",
      "“\u001b[1m\u001b[22mExpected 3 pieces. Missing pieces filled with `NA` in 45639 rows [1, 2, 3, 4,\n",
      "5, 6, 7, 8, 9, 10, 11, 12, 13, 14, 15, 16, 17, 18, 19, 20, ...].”\n",
      "Warning message:\n",
      "“\u001b[1m\u001b[22mExpected 3 pieces. Additional pieces discarded in 27 rows [2855, 14076, 14084,\n",
      "14085, 17680, 17683, 17690, 17699, 17703, 17705, 17707, 17709, 17719, 17720,\n",
      "17723, 24347, 27640, 27654, 32636, 32637, ...].”\n",
      "Warning message:\n",
      "“\u001b[1m\u001b[22mExpected 3 pieces. Missing pieces filled with `NA` in 44858 rows [1, 2, 3, 4,\n",
      "5, 6, 7, 8, 9, 10, 11, 12, 13, 14, 15, 16, 17, 18, 19, 20, ...].”\n",
      "Warning message:\n",
      "“\u001b[1m\u001b[22mExpected 3 pieces. Additional pieces discarded in 24 rows [2642, 13182, 13189,\n",
      "13190, 16585, 16588, 16594, 16601, 16605, 16607, 16609, 16611, 16621, 16624,\n",
      "22816, 25910, 25921, 30593, 30608, 30609, ...].”\n",
      "Warning message:\n",
      "“\u001b[1m\u001b[22mExpected 3 pieces. Missing pieces filled with `NA` in 42113 rows [1, 2, 3, 4,\n",
      "5, 6, 7, 8, 9, 10, 11, 12, 13, 14, 15, 16, 17, 18, 19, 20, ...].”\n",
      "Warning message:\n",
      "“\u001b[1m\u001b[22mExpected 3 pieces. Additional pieces discarded in 114 rows [4648, 4708, 4716,\n",
      "4725, 4726, 4756, 4759, 4770, 4771, 4778, 4779, 21347, 21348, 21362, 21373,\n",
      "21374, 21429, 21430, 21432, 21433, ...].”\n",
      "Warning message:\n",
      "“\u001b[1m\u001b[22mExpected 3 pieces. Missing pieces filled with `NA` in 100057 rows [1, 2, 3, 4,\n",
      "5, 6, 7, 8, 9, 10, 11, 12, 13, 14, 15, 16, 17, 18, 19, 20, ...].”\n",
      "Warning message:\n",
      "“\u001b[1m\u001b[22mExpected 3 pieces. Additional pieces discarded in 113 rows [4633, 4693, 4701,\n",
      "4710, 4711, 4740, 4743, 4753, 4754, 4761, 4762, 21238, 21239, 21253, 21264,\n",
      "21265, 21319, 21320, 21322, 21323, ...].”\n",
      "Warning message:\n",
      "“\u001b[1m\u001b[22mExpected 3 pieces. Missing pieces filled with `NA` in 99497 rows [1, 2, 3, 4,\n",
      "5, 6, 7, 8, 9, 10, 11, 12, 13, 14, 15, 16, 17, 18, 19, 20, ...].”\n",
      "Warning message:\n",
      "“\u001b[1m\u001b[22mExpected 3 pieces. Additional pieces discarded in 113 rows [4536, 4596, 4604,\n",
      "4613, 4614, 4643, 4646, 4656, 4657, 4664, 4665, 20786, 20787, 20801, 20812,\n",
      "20813, 20867, 20868, 20870, 20871, ...].”\n",
      "Warning message:\n",
      "“\u001b[1m\u001b[22mExpected 3 pieces. Missing pieces filled with `NA` in 97167 rows [1, 2, 3, 4,\n",
      "5, 6, 7, 8, 9, 10, 11, 12, 13, 14, 15, 16, 17, 18, 19, 20, ...].”\n",
      "Warning message:\n",
      "“\u001b[1m\u001b[22mExpected 3 pieces. Additional pieces discarded in 38 rows [1517, 1523, 1536,\n",
      "1542, 1543, 7354, 7359, 7384, 7494, 7497, 7507, 7508, 11925, 18613, 18620,\n",
      "18622, 18644, 18645, 18646, 18652, ...].”\n",
      "Warning message:\n",
      "“\u001b[1m\u001b[22mExpected 3 pieces. Missing pieces filled with `NA` in 33830 rows [1, 2, 3, 4,\n",
      "5, 6, 7, 8, 9, 10, 11, 12, 13, 14, 15, 16, 17, 18, 19, 20, ...].”\n",
      "Warning message:\n",
      "“\u001b[1m\u001b[22mExpected 3 pieces. Additional pieces discarded in 37 rows [1503, 1509, 1521,\n",
      "1526, 1527, 7247, 7252, 7276, 7384, 7387, 7397, 7398, 11757, 18320, 18327,\n",
      "18329, 18350, 18351, 18352, 18357, ...].”\n",
      "Warning message:\n",
      "“\u001b[1m\u001b[22mExpected 3 pieces. Missing pieces filled with `NA` in 33290 rows [1, 2, 3, 4,\n",
      "5, 6, 7, 8, 9, 10, 11, 12, 13, 14, 15, 16, 17, 18, 19, 20, ...].”\n",
      "Warning message:\n",
      "“\u001b[1m\u001b[22mExpected 3 pieces. Additional pieces discarded in 37 rows [1417, 1423, 1435,\n",
      "1440, 1441, 6838, 6843, 6867, 6968, 6971, 6979, 6980, 11104, 17237, 17243,\n",
      "17245, 17264, 17265, 17266, 17269, ...].”\n",
      "Warning message:\n",
      "“\u001b[1m\u001b[22mExpected 3 pieces. Missing pieces filled with `NA` in 31252 rows [1, 2, 3, 4,\n",
      "5, 6, 7, 8, 9, 10, 11, 12, 13, 14, 15, 16, 17, 18, 19, 20, ...].”\n",
      "Warning message:\n",
      "“\u001b[1m\u001b[22mExpected 3 pieces. Additional pieces discarded in 64 rows [11934, 11935, 11961,\n",
      "11962, 11963, 11964, 11971, 11972, 11974, 11975, 12017, 12019, 12043, 12044,\n",
      "22517, 22520, 22523, 22546, 22547, 22549, ...].”\n",
      "Warning message:\n",
      "“\u001b[1m\u001b[22mExpected 3 pieces. Missing pieces filled with `NA` in 88493 rows [1, 2, 3, 4,\n",
      "5, 6, 7, 8, 9, 10, 11, 12, 13, 14, 15, 16, 17, 18, 19, 20, ...].”\n",
      "Warning message:\n",
      "“\u001b[1m\u001b[22mExpected 3 pieces. Additional pieces discarded in 63 rows [11867, 11868, 11894,\n",
      "11895, 11896, 11897, 11904, 11905, 11907, 11908, 11950, 11952, 11976, 11977,\n",
      "22383, 22386, 22389, 22411, 22412, 22414, ...].”\n",
      "Warning message:\n",
      "“\u001b[1m\u001b[22mExpected 3 pieces. Missing pieces filled with `NA` in 87970 rows [1, 2, 3, 4,\n",
      "5, 6, 7, 8, 9, 10, 11, 12, 13, 14, 15, 16, 17, 18, 19, 20, ...].”\n",
      "Warning message:\n",
      "“\u001b[1m\u001b[22mExpected 3 pieces. Additional pieces discarded in 60 rows [11602, 11603, 11628,\n",
      "11629, 11630, 11631, 11638, 11639, 11641, 11642, 11682, 11684, 11707, 11708,\n",
      "21890, 21893, 21914, 21915, 21917, 21920, ...].”\n",
      "Warning message:\n",
      "“\u001b[1m\u001b[22mExpected 3 pieces. Missing pieces filled with `NA` in 85977 rows [1, 2, 3, 4,\n",
      "5, 6, 7, 8, 9, 10, 11, 12, 13, 14, 15, 16, 17, 18, 19, 20, ...].”\n",
      "Warning message:\n",
      "“\u001b[1m\u001b[22mExpected 3 pieces. Additional pieces discarded in 21 rows [3886, 3887, 3889,\n",
      "3891, 3892, 7561, 7562, 13708, 17082, 25426, 25428, 25429, 25430, 25433, 25434,\n",
      "25435, 26733, 26734, 26748, 26782, ...].”\n",
      "Warning message:\n",
      "“\u001b[1m\u001b[22mExpected 3 pieces. Missing pieces filled with `NA` in 29286 rows [1, 2, 3, 4,\n",
      "5, 6, 7, 8, 9, 10, 11, 12, 13, 14, 15, 16, 17, 18, 19, 20, ...].”\n",
      "Warning message:\n",
      "“\u001b[1m\u001b[22mExpected 3 pieces. Additional pieces discarded in 20 rows [3823, 3824, 3826,\n",
      "3828, 3829, 7431, 7432, 13476, 16802, 24983, 24985, 24986, 24987, 24990, 24991,\n",
      "24992, 26269, 26270, 26315, 26316].”\n",
      "Warning message:\n",
      "“\u001b[1m\u001b[22mExpected 3 pieces. Missing pieces filled with `NA` in 28782 rows [1, 2, 3, 4,\n",
      "5, 6, 7, 8, 9, 10, 11, 12, 13, 14, 15, 16, 17, 18, 19, 20, ...].”\n",
      "Warning message:\n",
      "“\u001b[1m\u001b[22mExpected 3 pieces. Additional pieces discarded in 17 rows [3600, 3601, 3603,\n",
      "3605, 3606, 7010, 12706, 15838, 23489, 23491, 23492, 23495, 23496, 24703,\n",
      "24704, 24748, 24749].”\n",
      "Warning message:\n",
      "“\u001b[1m\u001b[22mExpected 3 pieces. Missing pieces filled with `NA` in 27065 rows [1, 2, 3, 4,\n",
      "5, 6, 7, 8, 9, 10, 11, 12, 13, 14, 15, 16, 17, 18, 19, 20, ...].”\n"
     ]
    }
   ],
   "source": [
    "filter_df <- data.frame(data.frame(matrix(ncol = 7, nrow = 0)))\n",
    "\n",
    "for(chr in c(1, 2, 11)){\n",
    "    for(rsq in c(3, 8)){\n",
    "        for(maf in c(0.01, 0.005, 0.001)){\n",
    "            maf_c <- gsub(\"\\\\.\", \"\", as.character(maf))\n",
    "            annot <- fread(sprintf(\"topmed_chr%d_rsq0%d_hg38_hg38_sel_col_annot.csv.gz\", chr, rsq)) %>% select(-CADD_phred)\n",
    "            \n",
    "            annot <-  annot %>% filter(Chr == chr)\n",
    "            annot_maf <- annot %>% \n",
    "                filter(is.na(MAF_nfe_exome) | MAF_nfe_exome < maf)\n",
    "\n",
    "            annot_func <- annot_maf %>% \n",
    "                filter(Func.refGene %in% c(\"exonic\", \"splicing\", \"exonic;splicing\")) %>%\n",
    "                filter(ExonicFunc.refGene != 'unknown') %>% \n",
    "                filter(ExonicFunc.refGene != 'synonymous SNV' & ExonicFunc.refGene != 'nonframeshift substitution') %>%\n",
    "                mutate(Function = ifelse(ExonicFunc.refGene == \"nonsynonymous SNV\", \"missense\", \"\")) %>%\n",
    "                mutate(Function = ifelse(grepl(\"splicing\", Func.refGene), \"splicing\", Function)) %>%\n",
    "                mutate(Function = ifelse(ExonicFunc.refGene %in% c(\"stopgain\", \"stoploss\", \"startloss\", \"frameshift substitution\"), \"LoF\", Function))\n",
    "        \n",
    "             annot_func <- annot_func %>% \n",
    "                mutate(cat = if_else(grepl(\";\", Gene.refGene) & Function == \"splicing\", 2, 1)) %>%\n",
    "                tidyr::separate(Gene.refGene, c(\"Gene.refGene\", \"discard_1\", \"discard_2\"), sep = \";\") %>% \n",
    "                mutate(Gene.refGene = if_else(cat == 1, Gene.refGene, discard_1)) %>%\n",
    "                select(-discard_1, -discard_2)\n",
    "            \n",
    "            gene_list <- annot_func %>% pull(Gene.refGene) %>% table() %>% as.data.frame() %>% filter(Freq > 1) %>% pull(1)\n",
    "            annot_final <- annot_func %>% filter(Gene.refGene %in% gene_list)\n",
    "            \n",
    "            data.table::fwrite(annot_func, sprintf(\"topmed_chr%d_rsq0%d_hg38_hg38_maf%s_LOF_missense_all_annot.csv.gz\", chr, rsq, maf_c))\n",
    "            data.table::fwrite(annot_func %>% select(ID_hg38), sprintf(\"topmed_chr%d_rsq0%d_hg38_hg38_maf%s_LOF_missense_all_snplist\", chr, rsq, maf_c), \n",
    "                               sep = \" \", col.names = FALSE)\n",
    "            \n",
    "            data.table::fwrite(annot_final, sprintf(\"topmed_chr%d_rsq0%d_hg38_hg38_maf%s_LOF_missense_annot.csv.gz\", chr, rsq, maf_c))\n",
    "            data.table::fwrite(annot_final %>% select(ID_hg38), sprintf(\"topmed_chr%d_rsq0%d_hg38_hg38_maf%s_LOF_missense_snplist\", chr, rsq, maf_c), \n",
    "                               sep = \" \", col.names = FALSE)\n",
    "\n",
    "            sub_df <- data.frame(data = \"topmed\", chromosome = chr, maf = maf, rsq = rsq/10,\n",
    "                                 total_num_var = nrow(annot), maf_filtering_var = nrow(annot_maf),\n",
    "                                 function_filtering_var = sprintf(\"%d (%d)\", nrow(annot_func), length(unique(annot_func$Gene.refGene))),\n",
    "                                 gene_filtering_var = sprintf(\"%d (%d)\", nrow(annot_final), length(gene_list)))\n",
    "            filter_df <- rbind(filter_df, sub_df)\n",
    "        }\n",
    "    }\n",
    "}"
   ]
  },
  {
   "cell_type": "code",
   "execution_count": 4,
   "id": "2af9ed9b-a20f-4be9-b4a6-585817da40a2",
   "metadata": {
    "kernel": "R",
    "tags": []
   },
   "outputs": [
    {
     "data": {
      "text/html": [
       "<table class=\"dataframe\">\n",
       "<caption>A data.frame: 18 × 8</caption>\n",
       "<thead>\n",
       "\t<tr><th scope=col>data</th><th scope=col>chromosome</th><th scope=col>maf</th><th scope=col>rsq</th><th scope=col>total_num_var</th><th scope=col>maf_filtering_var</th><th scope=col>function_filtering_var</th><th scope=col>gene_filtering_var</th></tr>\n",
       "\t<tr><th scope=col>&lt;chr&gt;</th><th scope=col>&lt;dbl&gt;</th><th scope=col>&lt;dbl&gt;</th><th scope=col>&lt;dbl&gt;</th><th scope=col>&lt;int&gt;</th><th scope=col>&lt;int&gt;</th><th scope=col>&lt;chr&gt;</th><th scope=col>&lt;chr&gt;</th></tr>\n",
       "</thead>\n",
       "<tbody>\n",
       "\t<tr><td>topmed</td><td> 1</td><td>0.010</td><td>0.3</td><td>12818589</td><td>12807304</td><td>141990 (1995)</td><td>141967 (1972)</td></tr>\n",
       "\t<tr><td>topmed</td><td> 1</td><td>0.005</td><td>0.3</td><td>12818589</td><td>12805019</td><td>141164 (1995)</td><td>141141 (1972)</td></tr>\n",
       "\t<tr><td>topmed</td><td> 1</td><td>0.001</td><td>0.3</td><td>12818589</td><td>12796823</td><td>137951 (1995)</td><td>137927 (1971)</td></tr>\n",
       "\t<tr><td>topmed</td><td> 1</td><td>0.010</td><td>0.8</td><td> 4680641</td><td> 4669659</td><td>45698 (1935) </td><td>45669 (1906) </td></tr>\n",
       "\t<tr><td>topmed</td><td> 1</td><td>0.005</td><td>0.8</td><td> 4680641</td><td> 4667541</td><td>44917 (1934) </td><td>44886 (1903) </td></tr>\n",
       "\t<tr><td>topmed</td><td> 1</td><td>0.001</td><td>0.8</td><td> 4680641</td><td> 4660905</td><td>42166 (1933) </td><td>42131 (1898) </td></tr>\n",
       "\t<tr><td>topmed</td><td> 2</td><td>0.010</td><td>0.3</td><td>13814401</td><td>13806217</td><td>100205 (1222)</td><td>100197 (1214)</td></tr>\n",
       "\t<tr><td>topmed</td><td> 2</td><td>0.005</td><td>0.3</td><td>13814401</td><td>13804635</td><td>99644 (1222) </td><td>99636 (1214) </td></tr>\n",
       "\t<tr><td>topmed</td><td> 2</td><td>0.001</td><td>0.3</td><td>13814401</td><td>13798576</td><td>97313 (1222) </td><td>97305 (1214) </td></tr>\n",
       "\t<tr><td>topmed</td><td> 2</td><td>0.010</td><td>0.8</td><td> 5126997</td><td> 5118996</td><td>33877 (1208) </td><td>33865 (1196) </td></tr>\n",
       "\t<tr><td>topmed</td><td> 2</td><td>0.005</td><td>0.8</td><td> 5126997</td><td> 5117516</td><td>33336 (1208) </td><td>33324 (1196) </td></tr>\n",
       "\t<tr><td>topmed</td><td> 2</td><td>0.001</td><td>0.8</td><td> 5126997</td><td> 5112489</td><td>31297 (1207) </td><td>31283 (1193) </td></tr>\n",
       "\t<tr><td>topmed</td><td>11</td><td>0.010</td><td>0.3</td><td> 7791663</td><td> 7784244</td><td>88641 (1270) </td><td>88634 (1263) </td></tr>\n",
       "\t<tr><td>topmed</td><td>11</td><td>0.005</td><td>0.3</td><td> 7791663</td><td> 7782955</td><td>88117 (1270) </td><td>88110 (1263) </td></tr>\n",
       "\t<tr><td>topmed</td><td>11</td><td>0.001</td><td>0.3</td><td> 7791663</td><td> 7777728</td><td>86119 (1269) </td><td>86113 (1263) </td></tr>\n",
       "\t<tr><td>topmed</td><td>11</td><td>0.010</td><td>0.8</td><td> 2878270</td><td> 2870991</td><td>29336 (1256) </td><td>29328 (1248) </td></tr>\n",
       "\t<tr><td>topmed</td><td>11</td><td>0.005</td><td>0.8</td><td> 2878270</td><td> 2869772</td><td>28831 (1256) </td><td>28822 (1247) </td></tr>\n",
       "\t<tr><td>topmed</td><td>11</td><td>0.001</td><td>0.8</td><td> 2878270</td><td> 2865422</td><td>27109 (1255) </td><td>27096 (1242) </td></tr>\n",
       "</tbody>\n",
       "</table>\n"
      ],
      "text/latex": [
       "A data.frame: 18 × 8\n",
       "\\begin{tabular}{llllllll}\n",
       " data & chromosome & maf & rsq & total\\_num\\_var & maf\\_filtering\\_var & function\\_filtering\\_var & gene\\_filtering\\_var\\\\\n",
       " <chr> & <dbl> & <dbl> & <dbl> & <int> & <int> & <chr> & <chr>\\\\\n",
       "\\hline\n",
       "\t topmed &  1 & 0.010 & 0.3 & 12818589 & 12807304 & 141990 (1995) & 141967 (1972)\\\\\n",
       "\t topmed &  1 & 0.005 & 0.3 & 12818589 & 12805019 & 141164 (1995) & 141141 (1972)\\\\\n",
       "\t topmed &  1 & 0.001 & 0.3 & 12818589 & 12796823 & 137951 (1995) & 137927 (1971)\\\\\n",
       "\t topmed &  1 & 0.010 & 0.8 &  4680641 &  4669659 & 45698 (1935)  & 45669 (1906) \\\\\n",
       "\t topmed &  1 & 0.005 & 0.8 &  4680641 &  4667541 & 44917 (1934)  & 44886 (1903) \\\\\n",
       "\t topmed &  1 & 0.001 & 0.8 &  4680641 &  4660905 & 42166 (1933)  & 42131 (1898) \\\\\n",
       "\t topmed &  2 & 0.010 & 0.3 & 13814401 & 13806217 & 100205 (1222) & 100197 (1214)\\\\\n",
       "\t topmed &  2 & 0.005 & 0.3 & 13814401 & 13804635 & 99644 (1222)  & 99636 (1214) \\\\\n",
       "\t topmed &  2 & 0.001 & 0.3 & 13814401 & 13798576 & 97313 (1222)  & 97305 (1214) \\\\\n",
       "\t topmed &  2 & 0.010 & 0.8 &  5126997 &  5118996 & 33877 (1208)  & 33865 (1196) \\\\\n",
       "\t topmed &  2 & 0.005 & 0.8 &  5126997 &  5117516 & 33336 (1208)  & 33324 (1196) \\\\\n",
       "\t topmed &  2 & 0.001 & 0.8 &  5126997 &  5112489 & 31297 (1207)  & 31283 (1193) \\\\\n",
       "\t topmed & 11 & 0.010 & 0.3 &  7791663 &  7784244 & 88641 (1270)  & 88634 (1263) \\\\\n",
       "\t topmed & 11 & 0.005 & 0.3 &  7791663 &  7782955 & 88117 (1270)  & 88110 (1263) \\\\\n",
       "\t topmed & 11 & 0.001 & 0.3 &  7791663 &  7777728 & 86119 (1269)  & 86113 (1263) \\\\\n",
       "\t topmed & 11 & 0.010 & 0.8 &  2878270 &  2870991 & 29336 (1256)  & 29328 (1248) \\\\\n",
       "\t topmed & 11 & 0.005 & 0.8 &  2878270 &  2869772 & 28831 (1256)  & 28822 (1247) \\\\\n",
       "\t topmed & 11 & 0.001 & 0.8 &  2878270 &  2865422 & 27109 (1255)  & 27096 (1242) \\\\\n",
       "\\end{tabular}\n"
      ],
      "text/markdown": [
       "\n",
       "A data.frame: 18 × 8\n",
       "\n",
       "| data &lt;chr&gt; | chromosome &lt;dbl&gt; | maf &lt;dbl&gt; | rsq &lt;dbl&gt; | total_num_var &lt;int&gt; | maf_filtering_var &lt;int&gt; | function_filtering_var &lt;chr&gt; | gene_filtering_var &lt;chr&gt; |\n",
       "|---|---|---|---|---|---|---|---|\n",
       "| topmed |  1 | 0.010 | 0.3 | 12818589 | 12807304 | 141990 (1995) | 141967 (1972) |\n",
       "| topmed |  1 | 0.005 | 0.3 | 12818589 | 12805019 | 141164 (1995) | 141141 (1972) |\n",
       "| topmed |  1 | 0.001 | 0.3 | 12818589 | 12796823 | 137951 (1995) | 137927 (1971) |\n",
       "| topmed |  1 | 0.010 | 0.8 |  4680641 |  4669659 | 45698 (1935)  | 45669 (1906)  |\n",
       "| topmed |  1 | 0.005 | 0.8 |  4680641 |  4667541 | 44917 (1934)  | 44886 (1903)  |\n",
       "| topmed |  1 | 0.001 | 0.8 |  4680641 |  4660905 | 42166 (1933)  | 42131 (1898)  |\n",
       "| topmed |  2 | 0.010 | 0.3 | 13814401 | 13806217 | 100205 (1222) | 100197 (1214) |\n",
       "| topmed |  2 | 0.005 | 0.3 | 13814401 | 13804635 | 99644 (1222)  | 99636 (1214)  |\n",
       "| topmed |  2 | 0.001 | 0.3 | 13814401 | 13798576 | 97313 (1222)  | 97305 (1214)  |\n",
       "| topmed |  2 | 0.010 | 0.8 |  5126997 |  5118996 | 33877 (1208)  | 33865 (1196)  |\n",
       "| topmed |  2 | 0.005 | 0.8 |  5126997 |  5117516 | 33336 (1208)  | 33324 (1196)  |\n",
       "| topmed |  2 | 0.001 | 0.8 |  5126997 |  5112489 | 31297 (1207)  | 31283 (1193)  |\n",
       "| topmed | 11 | 0.010 | 0.3 |  7791663 |  7784244 | 88641 (1270)  | 88634 (1263)  |\n",
       "| topmed | 11 | 0.005 | 0.3 |  7791663 |  7782955 | 88117 (1270)  | 88110 (1263)  |\n",
       "| topmed | 11 | 0.001 | 0.3 |  7791663 |  7777728 | 86119 (1269)  | 86113 (1263)  |\n",
       "| topmed | 11 | 0.010 | 0.8 |  2878270 |  2870991 | 29336 (1256)  | 29328 (1248)  |\n",
       "| topmed | 11 | 0.005 | 0.8 |  2878270 |  2869772 | 28831 (1256)  | 28822 (1247)  |\n",
       "| topmed | 11 | 0.001 | 0.8 |  2878270 |  2865422 | 27109 (1255)  | 27096 (1242)  |\n",
       "\n"
      ],
      "text/plain": [
       "   data   chromosome maf   rsq total_num_var maf_filtering_var\n",
       "1  topmed  1         0.010 0.3 12818589      12807304         \n",
       "2  topmed  1         0.005 0.3 12818589      12805019         \n",
       "3  topmed  1         0.001 0.3 12818589      12796823         \n",
       "4  topmed  1         0.010 0.8  4680641       4669659         \n",
       "5  topmed  1         0.005 0.8  4680641       4667541         \n",
       "6  topmed  1         0.001 0.8  4680641       4660905         \n",
       "7  topmed  2         0.010 0.3 13814401      13806217         \n",
       "8  topmed  2         0.005 0.3 13814401      13804635         \n",
       "9  topmed  2         0.001 0.3 13814401      13798576         \n",
       "10 topmed  2         0.010 0.8  5126997       5118996         \n",
       "11 topmed  2         0.005 0.8  5126997       5117516         \n",
       "12 topmed  2         0.001 0.8  5126997       5112489         \n",
       "13 topmed 11         0.010 0.3  7791663       7784244         \n",
       "14 topmed 11         0.005 0.3  7791663       7782955         \n",
       "15 topmed 11         0.001 0.3  7791663       7777728         \n",
       "16 topmed 11         0.010 0.8  2878270       2870991         \n",
       "17 topmed 11         0.005 0.8  2878270       2869772         \n",
       "18 topmed 11         0.001 0.8  2878270       2865422         \n",
       "   function_filtering_var gene_filtering_var\n",
       "1  141990 (1995)          141967 (1972)     \n",
       "2  141164 (1995)          141141 (1972)     \n",
       "3  137951 (1995)          137927 (1971)     \n",
       "4  45698 (1935)           45669 (1906)      \n",
       "5  44917 (1934)           44886 (1903)      \n",
       "6  42166 (1933)           42131 (1898)      \n",
       "7  100205 (1222)          100197 (1214)     \n",
       "8  99644 (1222)           99636 (1214)      \n",
       "9  97313 (1222)           97305 (1214)      \n",
       "10 33877 (1208)           33865 (1196)      \n",
       "11 33336 (1208)           33324 (1196)      \n",
       "12 31297 (1207)           31283 (1193)      \n",
       "13 88641 (1270)           88634 (1263)      \n",
       "14 88117 (1270)           88110 (1263)      \n",
       "15 86119 (1269)           86113 (1263)      \n",
       "16 29336 (1256)           29328 (1248)      \n",
       "17 28831 (1256)           28822 (1247)      \n",
       "18 27109 (1255)           27096 (1242)      "
      ]
     },
     "metadata": {},
     "output_type": "display_data"
    }
   ],
   "source": [
    "filter_df"
   ]
  },
  {
   "cell_type": "markdown",
   "id": "ee8b2e83-0341-46a4-9e6c-a793725d92fd",
   "metadata": {
    "kernel": "R"
   },
   "source": [
    "### 5.4 Subsetting for CADD score"
   ]
  },
  {
   "cell_type": "code",
   "execution_count": 5,
   "id": "70bdcdf4-6bd5-4d98-b2d3-7026b31c302d",
   "metadata": {
    "kernel": "R",
    "tags": []
   },
   "outputs": [],
   "source": [
    "## make 5 column vcf file to upload for CADD website\n",
    "setwd(\"~/project/imputation-rvtest/analysis/imputation_aggregated_analysis/topmed_v3\")\n",
    "library(dplyr)\n",
    "library(data.table)\n",
    "\n",
    "for(i in c(1,2,11)){\n",
    "    annot <- fread(sprintf(\"topmed_chr%i_rsq03_hg38_hg38_maf001_LOF_missense_all_annot.csv.gz\", i))\n",
    "\n",
    "    annot_vcf <- annot %>% select(Chr, Start, ID_hg38, Ref, Alt)\n",
    "    colnames(annot_vcf) <- c(\"#CHROM\", \"POS\", \"ID\", \"REF\", \"ALT\")\n",
    "    # annot_vcf %>% fwrite(sprintf(\"topmed_chr%i_rsq03_maf001_LOF_missense_all_5col.vcf\", i), sep = \"\\t\")\n",
    "}"
   ]
  },
  {
   "cell_type": "code",
   "execution_count": 6,
   "id": "e6d72f07-a378-457c-9495-039c630e9bb2",
   "metadata": {
    "kernel": "SoS",
    "tags": []
   },
   "outputs": [],
   "source": [
    "# cd ~/project/imputation-rvtest/analysis/imputation_aggregated_analysis/topmed_v3\n",
    "# module load HTSLIB/1.17\n",
    "\n",
    "# bgzip topmed_chr1_rsq03_maf001_LOF_missense_all_5col.vcf\n",
    "# bgzip topmed_chr2_rsq03_maf001_LOF_missense_all_5col.vcf\n",
    "# bgzip topmed_chr11_rsq03_maf001_LOF_missense_all_5col.vcf"
   ]
  },
  {
   "cell_type": "code",
   "execution_count": 7,
   "id": "34ebeb74-fd52-46ac-82ea-1b70d4894e9b",
   "metadata": {
    "kernel": "R",
    "tags": []
   },
   "outputs": [
    {
     "name": "stderr",
     "output_type": "stream",
     "text": [
      "\u001b[1m\u001b[22mJoining with `by = join_by(ID_hg38, RawScore, PHRED)`\n",
      "\u001b[1m\u001b[22mJoining with `by = join_by(ID_hg38, RawScore, PHRED)`\n",
      "\u001b[1m\u001b[22mJoining with `by = join_by(ID_hg38, RawScore, PHRED)`\n",
      "\u001b[1m\u001b[22mJoining with `by = join_by(ID_hg38, RawScore, PHRED)`\n",
      "\u001b[1m\u001b[22mJoining with `by = join_by(ID_hg38, RawScore, PHRED)`\n",
      "\u001b[1m\u001b[22mJoining with `by = join_by(ID_hg38, RawScore, PHRED)`\n",
      "\u001b[1m\u001b[22mJoining with `by = join_by(ID_hg38, RawScore, PHRED)`\n",
      "\u001b[1m\u001b[22mJoining with `by = join_by(ID_hg38, RawScore, PHRED)`\n",
      "\u001b[1m\u001b[22mJoining with `by = join_by(ID_hg38, RawScore, PHRED)`\n",
      "\u001b[1m\u001b[22mJoining with `by = join_by(ID_hg38, RawScore, PHRED)`\n",
      "\u001b[1m\u001b[22mJoining with `by = join_by(ID_hg38, RawScore, PHRED)`\n",
      "\u001b[1m\u001b[22mJoining with `by = join_by(ID_hg38, RawScore, PHRED)`\n",
      "\u001b[1m\u001b[22mJoining with `by = join_by(ID_hg38, RawScore, PHRED)`\n",
      "\u001b[1m\u001b[22mJoining with `by = join_by(ID_hg38, RawScore, PHRED)`\n",
      "\u001b[1m\u001b[22mJoining with `by = join_by(ID_hg38, RawScore, PHRED)`\n",
      "\u001b[1m\u001b[22mJoining with `by = join_by(ID_hg38, RawScore, PHRED)`\n",
      "\u001b[1m\u001b[22mJoining with `by = join_by(ID_hg38, RawScore, PHRED)`\n",
      "\u001b[1m\u001b[22mJoining with `by = join_by(ID_hg38, RawScore, PHRED)`\n"
     ]
    }
   ],
   "source": [
    "library(data.table)\n",
    "library(dplyr)\n",
    "\n",
    "setwd(\"~/project/imputation-rvtest/analysis/imputation_aggregated_analysis/topmed_v3\")\n",
    "\n",
    "for(chr in c(1, 2, 11)){\n",
    "    for(rsq in c(3, 8)){\n",
    "        for(maf in c(0.01, 0.005, 0.001)){\n",
    "            maf_c <- gsub(\"\\\\.\", \"\", as.character(maf))\n",
    "            annot <- fread(sprintf(\"topmed_chr%i_rsq0%s_hg38_hg38_maf001_LOF_missense_all_annot.csv.gz\", chr, rsq))\n",
    "\n",
    "            cadd_all <- fread(sprintf(\"GRCh38-v1.6_chr%i.tsv.gz\", chr), header = TRUE) %>% arrange(Pos) \n",
    "            colnames(cadd_all) <- c(\"Chr\", \"Start\", \"Ref\", \"Alt\", \"RawScore\", \"PHRED\")\n",
    "            cadd_all <- cadd_all %>% mutate(ID_hg38 = paste(Chr, Start, Ref, Alt, sep = \":\")) %>% mutate(ID_hg38 = paste0(\"chr\", ID_hg38))\n",
    "\n",
    "            annot_all <- left_join(annot, cadd_all %>% select(ID_hg38, RawScore, PHRED)) %>% filter(is.na(MAF_nfe_exome) | MAF_nfe_exome < maf)\n",
    "            annot_all_lof <- annot_all %>% filter(Function == \"LoF\")\n",
    "            annot_all_cadd <- annot_all %>% filter(Function != \"LoF\") %>% filter(as.numeric(PHRED) >= 20)\n",
    "\n",
    "            gene_list <- annot_all %>% pull(Gene.refGene) %>% table() %>% as.data.frame() %>% filter(Freq > 1) %>% pull(1)\n",
    "            annot_final <- annot_all %>% filter(Gene.refGene %in% gene_list)\n",
    "            annot_final_lof <- annot_final %>% filter(Function == \"LoF\")\n",
    "            annot_final_cadd <- annot_final %>% filter(Function != \"LoF\") %>% filter(as.numeric(PHRED) >= 20)\n",
    "\n",
    "            # >= 1 variant\n",
    "            fwrite(annot_all, \n",
    "                   sprintf(\"topmed_chr%d_rsq0%d_hg38_hg38_maf%s_LOF_missense_all_annot.csv.gz\", chr, rsq, maf_c), \n",
    "                   quote = FALSE)\n",
    "\n",
    "            write.table(annot_all$ID_hg38, \n",
    "                        sprintf(\"topmed_chr%d_rsq0%d_hg38_hg38_maf%s_LOF_missense_all_snplist\", chr, rsq, maf_c), \n",
    "                        col.names = FALSE, row.name = FALSE, quote = FALSE)\n",
    "\n",
    "            ## >= 1 variant + CADD filtering\n",
    "            fwrite(rbind(annot_all_lof, annot_all_cadd), \n",
    "                   sprintf(\"topmed_chr%d_rsq0%d_hg38_hg38_maf%s_LOF_missense_all_cadd_annot.csv.gz\", chr, rsq, maf_c),  \n",
    "                   quote = FALSE)\n",
    "\n",
    "            write.table(rbind(annot_all_lof, annot_all_cadd) %>% pull(ID_hg38), \n",
    "                        sprintf(\"topmed_chr%d_rsq0%d_hg38_hg38_maf%s_LOF_missense_all_cadd_snplist\", chr, rsq, maf_c), \n",
    "                        col.names = FALSE, row.name = FALSE, quote = FALSE)\n",
    "\n",
    "            ## >= 2 variant\n",
    "            fwrite(annot_final, \n",
    "                   sprintf(\"topmed_chr%d_rsq0%d_hg38_hg38_maf%s_LOF_missense_annot.csv.gz\", chr, rsq, maf_c), \n",
    "                   quote = FALSE)\n",
    "\n",
    "            write.table(annot_final$ID_hg38, \n",
    "                        sprintf(\"topmed_chr%d_rsq0%d_hg38_hg38_maf%s_LOF_missense_snplist\", chr, rsq, maf_c), \n",
    "                        col.names = FALSE, row.name = FALSE, quote = FALSE)\n",
    "\n",
    "            ## >= 2 variant + CADD filtering\n",
    "            fwrite(rbind(annot_final_lof, annot_final_cadd), \n",
    "                   sprintf(\"topmed_chr%d_rsq0%d_hg38_hg38_maf%s_LOF_missense_cadd_annot.csv.gz\", chr, rsq, maf_c), \n",
    "                   quote = FALSE)\n",
    "\n",
    "            write.table(rbind(annot_all_lof, annot_all_cadd) %>% pull(ID_hg38), \n",
    "                        sprintf(\"topmed_chr%d_rsq0%d_hg38_hg38_maf%s_LOF_missense_cadd_snplist\", chr, rsq, maf_c),\n",
    "                        col.names = FALSE, row.name = FALSE, quote = FALSE)\n",
    "        }\n",
    "    }   \n",
    "}\n"
   ]
  },
  {
   "cell_type": "code",
   "execution_count": 61,
   "id": "f2558d37-1a71-49b1-8a23-17b31d950b85",
   "metadata": {
    "kernel": "Python3",
    "tags": []
   },
   "outputs": [],
   "source": [
    "## extracting\n",
    "for i in list((1,2,11)):\n",
    "    for j in list((3,8)):\n",
    "        for k in list(((\"1\", \"05\", \"01\"))):\n",
    "            for c in list((\"\", \"_cadd\")):\n",
    "                script='''#!/bin/bash\n",
    "#SBATCH --mem=50G\n",
    "#SBATCH --time=100:00:00\n",
    "#SBATCH --job-name=extract_filtered_chr%i_rsq0%i_maf00%s%s\n",
    "#SBATCH --output=/home/tl3031/project/imputation-rvtest/analysis/imputation_aggregated_analysis/topmed_v3/scripts/extract_filtered_chr%i_rsq0%i_maf00%s%s_%%j.out\n",
    "#SBATCH --error=/home/tl3031/project/imputation-rvtest/analysis/imputation_aggregated_analysis/topmed_v3/scripts/extract_filtered_chr%i_rsq0%i_maf00%s%s_%%j.err\n",
    "#SBATCH -p CSG\n",
    "#SBATCH --mail-type=FAIL\n",
    "#SBATCH --mail-user tl3031@cumc.columbia.edu\n",
    "\n",
    "export PATH=$HOME/miniconda3/bin:$PATH\n",
    "module load Plink/2.00a\n",
    "\n",
    "cd ~/project/imputation-rvtest/analysis/imputation_aggregated_analysis/topmed_v3\n",
    "plink2 \\\n",
    "    --bpfile topmed_chr%i_merged_168206ids_rsq0%i_dose \\\n",
    "    --extract topmed_chr%i_rsq0%i_hg38_hg38_maf00%s_LOF_missense%s_snplist \\\n",
    "    --make-bpgen --sort-vars \\\n",
    "    --out topmed_chr%i_rsq0%i_maf00%s_LOF_missense%s_extracted\n",
    "\n",
    "'''%(i,j,k,c,i,j,k,c,i,j,k,c,i,j,i,j,k,c,i,j,k,c)\n",
    "                f=open(\"/home/tl3031/project/imputation-rvtest/analysis/imputation_aggregated_analysis/topmed_v3/scripts/extract_filtered_chr\"+str(i)+\"_rsq0\"+str(j)+\"_maf00\"+k+c+\".sh\", 'w')\n",
    "                f.write(script)\n",
    "                f.close()"
   ]
  },
  {
   "cell_type": "markdown",
   "id": "ce307c75-dcb5-4c77-9b14-46417ed315d2",
   "metadata": {
    "kernel": "R"
   },
   "source": [
    "## 6. Make Merged Dataset"
   ]
  },
  {
   "cell_type": "markdown",
   "id": "8ac7d340-1065-4877-ba25-0d1bf5d75deb",
   "metadata": {
    "kernel": "R"
   },
   "source": [
    "We create 2 merged dataset, HRC_TOPMed and ES_HRC_TOPMed. For the HRC_TOPMed dataset, we compare individual R-sqaure for each variants and choose the one with higher R-square score. For ES_HRC_TOPMed, we prioritize usin exome sequenced variants, then use whichever variant with higher R-square score."
   ]
  },
  {
   "cell_type": "markdown",
   "id": "6cd06272-a1c1-42b6-9916-0dc1578fc6e3",
   "metadata": {
    "kernel": "R"
   },
   "source": [
    "### 6.1 HRC + TOPMed"
   ]
  },
  {
   "cell_type": "markdown",
   "id": "effef4bb-89f2-47cd-8901-b6297bbc190e",
   "metadata": {
    "kernel": "R"
   },
   "source": [
    "#### 6.11 Obtain R2\n",
    "\n",
    "Since we need to compare the individual R2 for each variant, we need to query from the original HRC imputed vcf file. The R2 has retreieved for TOPMed."
   ]
  },
  {
   "cell_type": "code",
   "execution_count": 8,
   "id": "bc1b8f82-c668-41e8-94eb-e75b0c6a119e",
   "metadata": {
    "kernel": "Python3",
    "tags": []
   },
   "outputs": [],
   "source": [
    "for i in list((1,2,11)):\n",
    "    for j in list((3,8)):\n",
    "        script='''#!/bin/sh\n",
    "#$ -l h_rt=24:00:00\n",
    "#$ -l h_vmem=10G\n",
    "#$ -N extract_topmed_rsq-%i-%i\n",
    "#$ -o /home/tl3031/project/imputation-rvtest/analysis/imputation_aggregated_analysis/hrc_topmed/scripts/extract_hrc_chr%i_rsq0%i_$JOB_ID.out\n",
    "#$ -e /home/tl3031/project/imputation-rvtest/analysis/imputation_aggregated_analysis/hrc_topmed/scripts/extract_hrc_chr%i_rsq0%i_$JOB_ID.err\n",
    "#$ -q csg.q\n",
    "#$ -S /bin/bash\n",
    "export PATH=$HOME/miniconda3/bin:$PATH\n",
    "\n",
    "cd ~/project/imputation-rvtest/analysis/imputation_aggregated_analysis/hrc\n",
    "\n",
    "zcat hrc_chr%i_merged_168206ids_rsq0%i_dose.vcf.gz | cut -f-8 >> ../hrc_topmed/hrc_168206ids_chr%i_rsq0%i_rsq.txt\n",
    "'''%(i,j,i,j,i,j,i,j,i,j)\n",
    "        f=open(\"/home/tl3031/project/imputation-rvtest/analysis/imputation_aggregated_analysis/hrc_topmed/scripts/extract_hrc_chr\"+str(i)+\"_rsq0\"+str(j)+\".sh\", 'w')\n",
    "        f.write(script)\n",
    "        f.close()"
   ]
  },
  {
   "cell_type": "code",
   "execution_count": 9,
   "id": "c3867ca2-1c41-4dae-8864-7ff11e38f537",
   "metadata": {
    "kernel": "Bash",
    "tags": []
   },
   "outputs": [],
   "source": [
    "for i in 1 2 11;do\n",
    "    sed -i '1,19d' hrc_168206ids_chr${i}_rsq03_rsq.txt\n",
    "    sed -i '1,19d' hrc_168206ids_chr${i}_rsq08_rsq.txt\n",
    "done"
   ]
  },
  {
   "cell_type": "markdown",
   "id": "19ea821e-8b1a-451f-ab2b-ffa6f179c498",
   "metadata": {
    "kernel": "R"
   },
   "source": [
    "#### 6.12 Make Merged Annotation\n",
    "\n",
    "We merge Chromosome 1 and 2 into 1 file and will do Chromosome 11 separately. This is because we need variants from chromosome 1 and 2 for follow simulation studies and Chromosome 11 is only needed for APOC3 analysis"
   ]
  },
  {
   "cell_type": "markdown",
   "id": "c8a44283-70f9-4bf8-a551-690d90368b33",
   "metadata": {
    "kernel": "R"
   },
   "source": [
    "##### Chromsome 1 + 2"
   ]
  },
  {
   "cell_type": "code",
   "execution_count": 13,
   "id": "84fbb4d5-a6d1-4a11-b49c-762f3432d4b2",
   "metadata": {
    "kernel": "R",
    "tags": []
   },
   "outputs": [],
   "source": [
    "library(dplyr)\n",
    "library(data.table)\n",
    "\n",
    "setwd(\"~/project/imputation-rvtest/analysis/imputation_aggregated_analysis\")"
   ]
  },
  {
   "cell_type": "code",
   "execution_count": 14,
   "id": "11a93386-0dba-4660-892c-a2188cb7fbcb",
   "metadata": {
    "kernel": "R",
    "tags": []
   },
   "outputs": [
    {
     "name": "stdout",
     "output_type": "stream",
     "text": [
      "[1] \"annot 20551; rsq_maf 20551; annot_rsq 20551\"\n",
      "[1] \"annot 19743; rsq_maf 19743; annot_rsq 19743\"\n",
      "[1] \"annot 16591; rsq_maf 16591; annot_rsq 16591\"\n",
      "[1] \"annot 8396; rsq_maf 8396; annot_rsq 8396\"\n",
      "[1] \"annot 7666; rsq_maf 7666; annot_rsq 7666\"\n",
      "[1] \"annot 5243; rsq_maf 5243; annot_rsq 5243\"\n",
      "[1] \"annot 14683; rsq_maf 14683; annot_rsq 14683\"\n",
      "[1] \"annot 14133; rsq_maf 14133; annot_rsq 14133\"\n",
      "[1] \"annot 11856; rsq_maf 11856; annot_rsq 11856\"\n",
      "[1] \"annot 6238; rsq_maf 6238; annot_rsq 6238\"\n",
      "[1] \"annot 5723; rsq_maf 5723; annot_rsq 5723\"\n",
      "[1] \"annot 3927; rsq_maf 3927; annot_rsq 3927\"\n",
      "[1] \"annot 13392; rsq_maf 13392; annot_rsq 13392\"\n",
      "[1] \"annot 12867; rsq_maf 12867; annot_rsq 12867\"\n",
      "[1] \"annot 10872; rsq_maf 10872; annot_rsq 10872\"\n",
      "[1] \"annot 5811; rsq_maf 5811; annot_rsq 5811\"\n",
      "[1] \"annot 5315; rsq_maf 5315; annot_rsq 5315\"\n",
      "[1] \"annot 3788; rsq_maf 3788; annot_rsq 3788\"\n"
     ]
    }
   ],
   "source": [
    "# add HRC rsq information to HRC annotation\n",
    "for(chr in c(1,2,11)){\n",
    "    rsq_df <- fread(sprintf(\"./hrc_topmed/hrc_168206ids_chr%d_rsq03_rsq_formatted.txt\", chr))\n",
    "    \n",
    "    for(rsq in c(3,8)){\n",
    "        for(maf in c(0.01, 0.005, 0.001)){\n",
    "            maf_c <- gsub(\"\\\\.\", \"\", as.character(maf))\n",
    "            fname_out <- sprintf(\"./hrc_topmed/hrc_168206ids_chr%d_rsq0%d_maf%s_annot.csv.gz\", chr, rsq, maf_c)\n",
    "            annot <- fread(sprintf(\"./hrc/hrc_chr%d_rsq0%d_hg19_hg38_maf%s_LOF_missense_annot.csv.gz\", chr, rsq, maf_c))\n",
    "            rsq_maf <- rsq_df %>% filter(ID %in% annot$ID_hg19) %>% select(ID, R2)\n",
    "            annot_rsq <- left_join(annot, rsq_maf, by = c(\"ID_hg19\" = \"ID\"))\n",
    "            print(sprintf(\"annot %i; rsq_maf %i; annot_rsq %i\", nrow(annot), nrow(rsq_maf), nrow(annot_rsq)))\n",
    "            \n",
    "            fwrite(annot_rsq, fname_out)\n",
    "        }\n",
    "    } \n",
    "}"
   ]
  },
  {
   "cell_type": "code",
   "execution_count": 15,
   "id": "2380d0c0-fde2-43b5-b4e6-5319c8ccfdda",
   "metadata": {
    "kernel": "R",
    "tags": []
   },
   "outputs": [
    {
     "name": "stdout",
     "output_type": "stream",
     "text": [
      "[1] \"annot 141967; rsq_maf 141967; annot_rsq 141967\"\n",
      "[1] \"annot 141141; rsq_maf 141141; annot_rsq 141141\"\n",
      "[1] \"annot 137927; rsq_maf 137927; annot_rsq 137927\"\n",
      "[1] \"annot 45669; rsq_maf 45669; annot_rsq 45669\"\n",
      "[1] \"annot 44886; rsq_maf 44886; annot_rsq 44886\"\n",
      "[1] \"annot 42131; rsq_maf 42131; annot_rsq 42131\"\n",
      "[1] \"annot 100197; rsq_maf 100197; annot_rsq 100197\"\n",
      "[1] \"annot 99636; rsq_maf 99636; annot_rsq 99636\"\n",
      "[1] \"annot 97305; rsq_maf 97305; annot_rsq 97305\"\n",
      "[1] \"annot 33865; rsq_maf 33865; annot_rsq 33865\"\n",
      "[1] \"annot 33324; rsq_maf 33324; annot_rsq 33324\"\n",
      "[1] \"annot 31283; rsq_maf 31283; annot_rsq 31283\"\n",
      "[1] \"annot 88634; rsq_maf 88634; annot_rsq 88634\"\n",
      "[1] \"annot 88110; rsq_maf 88110; annot_rsq 88110\"\n",
      "[1] \"annot 86113; rsq_maf 86113; annot_rsq 86113\"\n",
      "[1] \"annot 29328; rsq_maf 29328; annot_rsq 29328\"\n",
      "[1] \"annot 28822; rsq_maf 28822; annot_rsq 28822\"\n",
      "[1] \"annot 27096; rsq_maf 27096; annot_rsq 27096\"\n"
     ]
    }
   ],
   "source": [
    "# add TOPMed rsq information to TOPMed annotation\n",
    "for(chr in c(1,2,11)){\n",
    "    rsq_df <- fread(sprintf(\"./topmed_v3/topmed_168206ids_chr%i_rsq03_rsq.txt\", chr))\n",
    "    \n",
    "    for(rsq in c(3,8)){\n",
    "        for(maf in c(0.01, 0.005, 0.001)){\n",
    "            maf_c <- gsub(\"\\\\.\", \"\", as.character(maf))\n",
    "            fname_out <- sprintf(\"./hrc_topmed/topmed_v3_168206ids_chr%d_rsq0%d_maf%s_annot.csv.gz\", chr, rsq, maf_c)\n",
    "            annot <- fread(sprintf(\"./topmed_v3/topmed_chr%d_rsq0%d_hg38_hg38_maf%s_LOF_missense_annot.csv.gz\", chr, rsq, maf_c))\n",
    "            rsq_maf <- rsq_df %>% filter(ID %in% annot$ID_hg38) %>% select(ID, R2)\n",
    "            annot_rsq <- left_join(annot, rsq_maf, by = c(\"ID_hg38\" = \"ID\"))\n",
    "            print(sprintf(\"annot %i; rsq_maf %i; annot_rsq %i\", nrow(annot), nrow(rsq_maf), nrow(annot_rsq)))\n",
    "\n",
    "            fwrite(annot_rsq, fname_out)\n",
    "        }\n",
    "    } \n",
    "}"
   ]
  },
  {
   "cell_type": "code",
   "execution_count": 3,
   "id": "844e863f-80e1-49c2-bcc3-988fb89a1cc2",
   "metadata": {
    "kernel": "R"
   },
   "outputs": [
    {
     "name": "stderr",
     "output_type": "stream",
     "text": [
      "Warning message:\n",
      "“\u001b[1m\u001b[22mThere was 1 warning in `mutate()`.\n",
      "\u001b[1m\u001b[22m\u001b[36mℹ\u001b[39m In argument: `REVEL_score = as.numeric(REVEL_score)`.\n",
      "Caused by warning:\n",
      "\u001b[33m!\u001b[39m NAs introduced by coercion”\n"
     ]
    },
    {
     "name": "stdout",
     "output_type": "stream",
     "text": [
      "[1] 245608     20\n"
     ]
    },
    {
     "name": "stderr",
     "output_type": "stream",
     "text": [
      "Warning message:\n",
      "“\u001b[1m\u001b[22mThere was 1 warning in `mutate()`.\n",
      "\u001b[1m\u001b[22m\u001b[36mℹ\u001b[39m In argument: `REVEL_score = as.numeric(REVEL_score)`.\n",
      "Caused by warning:\n",
      "\u001b[33m!\u001b[39m NAs introduced by coercion”\n"
     ]
    },
    {
     "name": "stdout",
     "output_type": "stream",
     "text": [
      "[1] 244170     20\n"
     ]
    },
    {
     "name": "stderr",
     "output_type": "stream",
     "text": [
      "Warning message:\n",
      "“\u001b[1m\u001b[22mThere was 1 warning in `mutate()`.\n",
      "\u001b[1m\u001b[22m\u001b[36mℹ\u001b[39m In argument: `REVEL_score = as.numeric(REVEL_score)`.\n",
      "Caused by warning:\n",
      "\u001b[33m!\u001b[39m NAs introduced by coercion”\n"
     ]
    },
    {
     "name": "stdout",
     "output_type": "stream",
     "text": [
      "[1] 238436     20\n"
     ]
    },
    {
     "name": "stderr",
     "output_type": "stream",
     "text": [
      "Warning message:\n",
      "“\u001b[1m\u001b[22mThere was 1 warning in `mutate()`.\n",
      "\u001b[1m\u001b[22m\u001b[36mℹ\u001b[39m In argument: `REVEL_score = as.numeric(REVEL_score)`.\n",
      "Caused by warning:\n",
      "\u001b[33m!\u001b[39m NAs introduced by coercion”\n"
     ]
    },
    {
     "name": "stdout",
     "output_type": "stream",
     "text": [
      "[1] 83562    20\n"
     ]
    },
    {
     "name": "stderr",
     "output_type": "stream",
     "text": [
      "Warning message:\n",
      "“\u001b[1m\u001b[22mThere was 1 warning in `mutate()`.\n",
      "\u001b[1m\u001b[22m\u001b[36mℹ\u001b[39m In argument: `REVEL_score = as.numeric(REVEL_score)`.\n",
      "Caused by warning:\n",
      "\u001b[33m!\u001b[39m NAs introduced by coercion”\n"
     ]
    },
    {
     "name": "stdout",
     "output_type": "stream",
     "text": [
      "[1] 82175    20\n"
     ]
    },
    {
     "name": "stderr",
     "output_type": "stream",
     "text": [
      "Warning message:\n",
      "“\u001b[1m\u001b[22mThere was 1 warning in `mutate()`.\n",
      "\u001b[1m\u001b[22m\u001b[36mℹ\u001b[39m In argument: `REVEL_score = as.numeric(REVEL_score)`.\n",
      "Caused by warning:\n",
      "\u001b[33m!\u001b[39m NAs introduced by coercion”\n"
     ]
    },
    {
     "name": "stdout",
     "output_type": "stream",
     "text": [
      "[1] 76961    20\n"
     ]
    }
   ],
   "source": [
    "setwd(\"~/project/imputation-rvtest/analysis/imputation_aggregated_analysis/hrc_topmed\")\n",
    "\n",
    "library(dplyr)\n",
    "library(data.table)\n",
    "\n",
    "for(rsq in c(3, 8)){\n",
    "    for(maf in c(0.01, 0.005, 0.001)){\n",
    "        maf_c <- gsub(\"\\\\.\", \"\", as.character(maf))\n",
    "        hrc_chr1 <- read.csv(sprintf(\"./hrc_168206ids_chr1_rsq0%d_maf%s_annot.csv.gz\", rsq, maf_c)) %>% rename(\"R2_hrc\" = R2) %>% mutate(R2_hrc = as.numeric(R2_hrc))\n",
    "        hrc_chr2 <- read.csv(sprintf(\"./hrc_168206ids_chr2_rsq0%d_maf%s_annot.csv.gz\", rsq, maf_c)) %>% rename(\"R2_hrc\" = R2) %>% mutate(R2_hrc = as.numeric(R2_hrc))\n",
    "\n",
    "        topmed_chr1 <- read.csv(sprintf(\"./topmed_v3_168206ids_chr1_rsq0%d_maf%s_annot.csv.gz\", rsq, maf_c)) %>% rename(\"R2_topmed\" = R2) %>% mutate(R2_topmed = as.numeric(R2_topmed))\n",
    "        topmed_chr2 <- read.csv(sprintf(\"./topmed_v3_168206ids_chr2_rsq0%d_maf%s_annot.csv.gz\", rsq, maf_c)) %>% rename(\"R2_topmed\" = R2) %>% mutate(R2_topmed = as.numeric(R2_topmed))\n",
    "\n",
    "        hrc <- rbind(hrc_chr1, hrc_chr2)\n",
    "        topmed <- rbind(topmed_chr1, topmed_chr2) %>% mutate(ID_hg19 = NA)\n",
    "\n",
    "        topmed_hrc <- full_join(hrc, topmed, \n",
    "                                by = c(\"Chr\", \"Start\", \"End\", \"Ref\", \"Alt\", \n",
    "                                       \"Func.refGene\", \"Gene.refGene\", \"ExonicFunc.refGene\", \n",
    "                                       \"MAF_nfe_exome\", \"REVEL_score\", \"Function\", \n",
    "                                       \"ID\")) %>%\n",
    "                    select(-ID_hg19.y) %>% \n",
    "                    rename(ID_hg19 = ID_hg19.x)%>%\n",
    "                    mutate(REVEL_score = as.numeric(REVEL_score),\n",
    "                           R2_hrc = tidyr::replace_na(as.numeric(R2_hrc), 0),\n",
    "                           R2_topmed = tidyr::replace_na(R2_topmed, 0)) %>%\n",
    "                    mutate(R2 = ifelse(R2_topmed >= R2_hrc, R2_topmed, R2_hrc),\n",
    "                           source = ifelse(R2_topmed > R2_hrc, \"topmed\", \"hrc\")) %>%\n",
    "                    mutate(RawScore = ifelse(source == \"hrc\", RawScore.x, RawScore.y),\n",
    "                           PHRED = ifelse(source == \"hrc\", PHRED.x, PHRED.y)) %>%\n",
    "                    select(-c(RawScore.x, RawScore.y, PHRED.x, PHRED.y))\n",
    "        \n",
    "        frq <- topmed_hrc %>% pull(ID) %>% table() %>% as.data.frame() %>% filter(Freq >= 2)\n",
    "        \n",
    "        sub_annot_1 <- topmed_hrc %>% filter(!ID %in% frq[,1]) %>%\n",
    "            mutate(ID_hg38 = ifelse(ID_hg38.x %in% c(\"\", NA), ID_hg38.y, ID_hg38.x)) %>%\n",
    "            select(-c(ID_hg38.y, ID_hg38.x, cat))\n",
    "        \n",
    "        sub_annot_2 <- topmed_hrc %>% \n",
    "            filter(ID %in% frq[,1]) %>%\n",
    "            group_by(ID) %>%\n",
    "            mutate(max_R2 = pmax(R2_hrc, R2_topmed, na.rm = TRUE),\n",
    "                   max_R2_hrc = max(R2_hrc, na.rm = TRUE),\n",
    "                   max_R2_topmed = max(R2_topmed, na.rm = TRUE)) %>%\n",
    "            tidyr::fill(ID_hg19, .direction = \"downup\") %>%\n",
    "            filter(max_R2 == max(max_R2)) %>%\n",
    "            mutate(R2 = max(max_R2_hrc, max_R2_topmed, na.rm = TRUE),\n",
    "                   R2_hrc = max_R2_hrc, \n",
    "                   R2_topmed = max_R2_topmed, \n",
    "                   ID_hg38 = ifelse(ID_hg38.x %in% c(\"\", NA), ID_hg38.y, ID_hg38.x)) %>%\n",
    "            ungroup() %>%\n",
    "            select(-c(ID_hg38.x, ID_hg38.y, max_R2, max_R2_hrc, max_R2_topmed, cat))\n",
    "\n",
    "        full_annot <- rbind(sub_annot_1, sub_annot_2)\n",
    "        print(dim(full_annot))\n",
    "        \n",
    "        annot_lof <- full_annot %>% filter(Function == \"LoF\")\n",
    "        annot_mis <- full_annot %>% filter(Function != \"LoF\" & as.numeric(PHRED) >= 20)\n",
    "\n",
    "        full_annot %>% fwrite(sprintf(\"./hrc_topmed_v3_168206ids_rsq0%d_maf%s_annot.csv.gz\", rsq, maf_c))\n",
    "        rbind(annot_lof, annot_mis) %>% fwrite(sprintf(\"./hrc_topmed_v3_168206ids_rsq0%d_maf%s_cadd_annot.csv.gz\", rsq, maf_c))\n",
    "    }\n",
    "}"
   ]
  },
  {
   "cell_type": "markdown",
   "id": "8c79fdcc-e5f3-44c9-9b5b-d36fd4173eec",
   "metadata": {
    "kernel": "R"
   },
   "source": [
    "##### Chromosome 11"
   ]
  },
  {
   "cell_type": "code",
   "execution_count": 2,
   "id": "c0740821-0f60-43cd-8264-fb7348dbbd66",
   "metadata": {
    "kernel": "R",
    "tags": []
   },
   "outputs": [
    {
     "name": "stderr",
     "output_type": "stream",
     "text": [
      "Warning message:\n",
      "“\u001b[1m\u001b[22mThere was 1 warning in `mutate()`.\n",
      "\u001b[1m\u001b[22m\u001b[36mℹ\u001b[39m In argument: `REVEL_score = as.numeric(REVEL_score)`.\n",
      "Caused by warning:\n",
      "\u001b[33m!\u001b[39m NAs introduced by coercion”\n",
      "Warning message:\n",
      "“\u001b[1m\u001b[22mThere were 2 warnings in `mutate()`.\n",
      "The first warning was:\n",
      "\u001b[1m\u001b[22m\u001b[36mℹ\u001b[39m In argument: `max_R2_hrc = max(R2_hrc, na.rm = TRUE)`.\n",
      "Caused by warning in `max()`:\n",
      "\u001b[33m!\u001b[39m no non-missing arguments to max; returning -Inf\n",
      "\u001b[1m\u001b[22m\u001b[36mℹ\u001b[39m Run `dplyr::last_dplyr_warnings()` to see the 1 remaining warning.”\n",
      "Warning message:\n",
      "“\u001b[1m\u001b[22mThere was 1 warning in `filter()`.\n",
      "\u001b[1m\u001b[22m\u001b[36mℹ\u001b[39m In argument: `max_R2 == max(max_R2)`.\n",
      "Caused by warning in `max()`:\n",
      "\u001b[33m!\u001b[39m no non-missing arguments to max; returning -Inf”\n",
      "Warning message:\n",
      "“\u001b[1m\u001b[22mThere was 1 warning in `mutate()`.\n",
      "\u001b[1m\u001b[22m\u001b[36mℹ\u001b[39m In argument: `R2 = max(max_R2_hrc, max_R2_topmed, na.rm = TRUE)`.\n",
      "Caused by warning in `max()`:\n",
      "\u001b[33m!\u001b[39m no non-missing arguments to max; returning -Inf”\n",
      "Warning message:\n",
      "“\u001b[1m\u001b[22mThere was 1 warning in `mutate()`.\n",
      "\u001b[1m\u001b[22m\u001b[36mℹ\u001b[39m In argument: `REVEL_score = as.numeric(REVEL_score)`.\n",
      "Caused by warning:\n",
      "\u001b[33m!\u001b[39m NAs introduced by coercion”\n",
      "Warning message:\n",
      "“\u001b[1m\u001b[22mThere were 2 warnings in `mutate()`.\n",
      "The first warning was:\n",
      "\u001b[1m\u001b[22m\u001b[36mℹ\u001b[39m In argument: `max_R2_hrc = max(R2_hrc, na.rm = TRUE)`.\n",
      "Caused by warning in `max()`:\n",
      "\u001b[33m!\u001b[39m no non-missing arguments to max; returning -Inf\n",
      "\u001b[1m\u001b[22m\u001b[36mℹ\u001b[39m Run `dplyr::last_dplyr_warnings()` to see the 1 remaining warning.”\n",
      "Warning message:\n",
      "“\u001b[1m\u001b[22mThere was 1 warning in `filter()`.\n",
      "\u001b[1m\u001b[22m\u001b[36mℹ\u001b[39m In argument: `max_R2 == max(max_R2)`.\n",
      "Caused by warning in `max()`:\n",
      "\u001b[33m!\u001b[39m no non-missing arguments to max; returning -Inf”\n",
      "Warning message:\n",
      "“\u001b[1m\u001b[22mThere was 1 warning in `mutate()`.\n",
      "\u001b[1m\u001b[22m\u001b[36mℹ\u001b[39m In argument: `R2 = max(max_R2_hrc, max_R2_topmed, na.rm = TRUE)`.\n",
      "Caused by warning in `max()`:\n",
      "\u001b[33m!\u001b[39m no non-missing arguments to max; returning -Inf”\n",
      "Warning message:\n",
      "“\u001b[1m\u001b[22mThere was 1 warning in `mutate()`.\n",
      "\u001b[1m\u001b[22m\u001b[36mℹ\u001b[39m In argument: `REVEL_score = as.numeric(REVEL_score)`.\n",
      "Caused by warning:\n",
      "\u001b[33m!\u001b[39m NAs introduced by coercion”\n",
      "Warning message:\n",
      "“\u001b[1m\u001b[22mThere were 2 warnings in `mutate()`.\n",
      "The first warning was:\n",
      "\u001b[1m\u001b[22m\u001b[36mℹ\u001b[39m In argument: `max_R2_hrc = max(R2_hrc, na.rm = TRUE)`.\n",
      "Caused by warning in `max()`:\n",
      "\u001b[33m!\u001b[39m no non-missing arguments to max; returning -Inf\n",
      "\u001b[1m\u001b[22m\u001b[36mℹ\u001b[39m Run `dplyr::last_dplyr_warnings()` to see the 1 remaining warning.”\n",
      "Warning message:\n",
      "“\u001b[1m\u001b[22mThere was 1 warning in `filter()`.\n",
      "\u001b[1m\u001b[22m\u001b[36mℹ\u001b[39m In argument: `max_R2 == max(max_R2)`.\n",
      "Caused by warning in `max()`:\n",
      "\u001b[33m!\u001b[39m no non-missing arguments to max; returning -Inf”\n",
      "Warning message:\n",
      "“\u001b[1m\u001b[22mThere was 1 warning in `mutate()`.\n",
      "\u001b[1m\u001b[22m\u001b[36mℹ\u001b[39m In argument: `R2 = max(max_R2_hrc, max_R2_topmed, na.rm = TRUE)`.\n",
      "Caused by warning in `max()`:\n",
      "\u001b[33m!\u001b[39m no non-missing arguments to max; returning -Inf”\n",
      "Warning message:\n",
      "“\u001b[1m\u001b[22mThere was 1 warning in `mutate()`.\n",
      "\u001b[1m\u001b[22m\u001b[36mℹ\u001b[39m In argument: `REVEL_score = as.numeric(REVEL_score)`.\n",
      "Caused by warning:\n",
      "\u001b[33m!\u001b[39m NAs introduced by coercion”\n",
      "Warning message:\n",
      "“\u001b[1m\u001b[22mThere were 2 warnings in `mutate()`.\n",
      "The first warning was:\n",
      "\u001b[1m\u001b[22m\u001b[36mℹ\u001b[39m In argument: `max_R2_hrc = max(R2_hrc, na.rm = TRUE)`.\n",
      "Caused by warning in `max()`:\n",
      "\u001b[33m!\u001b[39m no non-missing arguments to max; returning -Inf\n",
      "\u001b[1m\u001b[22m\u001b[36mℹ\u001b[39m Run `dplyr::last_dplyr_warnings()` to see the 1 remaining warning.”\n",
      "Warning message:\n",
      "“\u001b[1m\u001b[22mThere was 1 warning in `filter()`.\n",
      "\u001b[1m\u001b[22m\u001b[36mℹ\u001b[39m In argument: `max_R2 == max(max_R2)`.\n",
      "Caused by warning in `max()`:\n",
      "\u001b[33m!\u001b[39m no non-missing arguments to max; returning -Inf”\n",
      "Warning message:\n",
      "“\u001b[1m\u001b[22mThere was 1 warning in `mutate()`.\n",
      "\u001b[1m\u001b[22m\u001b[36mℹ\u001b[39m In argument: `R2 = max(max_R2_hrc, max_R2_topmed, na.rm = TRUE)`.\n",
      "Caused by warning in `max()`:\n",
      "\u001b[33m!\u001b[39m no non-missing arguments to max; returning -Inf”\n",
      "Warning message:\n",
      "“\u001b[1m\u001b[22mThere was 1 warning in `mutate()`.\n",
      "\u001b[1m\u001b[22m\u001b[36mℹ\u001b[39m In argument: `REVEL_score = as.numeric(REVEL_score)`.\n",
      "Caused by warning:\n",
      "\u001b[33m!\u001b[39m NAs introduced by coercion”\n",
      "Warning message:\n",
      "“\u001b[1m\u001b[22mThere were 2 warnings in `mutate()`.\n",
      "The first warning was:\n",
      "\u001b[1m\u001b[22m\u001b[36mℹ\u001b[39m In argument: `max_R2_hrc = max(R2_hrc, na.rm = TRUE)`.\n",
      "Caused by warning in `max()`:\n",
      "\u001b[33m!\u001b[39m no non-missing arguments to max; returning -Inf\n",
      "\u001b[1m\u001b[22m\u001b[36mℹ\u001b[39m Run `dplyr::last_dplyr_warnings()` to see the 1 remaining warning.”\n",
      "Warning message:\n",
      "“\u001b[1m\u001b[22mThere was 1 warning in `filter()`.\n",
      "\u001b[1m\u001b[22m\u001b[36mℹ\u001b[39m In argument: `max_R2 == max(max_R2)`.\n",
      "Caused by warning in `max()`:\n",
      "\u001b[33m!\u001b[39m no non-missing arguments to max; returning -Inf”\n",
      "Warning message:\n",
      "“\u001b[1m\u001b[22mThere was 1 warning in `mutate()`.\n",
      "\u001b[1m\u001b[22m\u001b[36mℹ\u001b[39m In argument: `R2 = max(max_R2_hrc, max_R2_topmed, na.rm = TRUE)`.\n",
      "Caused by warning in `max()`:\n",
      "\u001b[33m!\u001b[39m no non-missing arguments to max; returning -Inf”\n",
      "Warning message:\n",
      "“\u001b[1m\u001b[22mThere was 1 warning in `mutate()`.\n",
      "\u001b[1m\u001b[22m\u001b[36mℹ\u001b[39m In argument: `REVEL_score = as.numeric(REVEL_score)`.\n",
      "Caused by warning:\n",
      "\u001b[33m!\u001b[39m NAs introduced by coercion”\n",
      "Warning message:\n",
      "“\u001b[1m\u001b[22mThere were 2 warnings in `mutate()`.\n",
      "The first warning was:\n",
      "\u001b[1m\u001b[22m\u001b[36mℹ\u001b[39m In argument: `max_R2_hrc = max(R2_hrc, na.rm = TRUE)`.\n",
      "Caused by warning in `max()`:\n",
      "\u001b[33m!\u001b[39m no non-missing arguments to max; returning -Inf\n",
      "\u001b[1m\u001b[22m\u001b[36mℹ\u001b[39m Run `dplyr::last_dplyr_warnings()` to see the 1 remaining warning.”\n",
      "Warning message:\n",
      "“\u001b[1m\u001b[22mThere was 1 warning in `filter()`.\n",
      "\u001b[1m\u001b[22m\u001b[36mℹ\u001b[39m In argument: `max_R2 == max(max_R2)`.\n",
      "Caused by warning in `max()`:\n",
      "\u001b[33m!\u001b[39m no non-missing arguments to max; returning -Inf”\n",
      "Warning message:\n",
      "“\u001b[1m\u001b[22mThere was 1 warning in `mutate()`.\n",
      "\u001b[1m\u001b[22m\u001b[36mℹ\u001b[39m In argument: `R2 = max(max_R2_hrc, max_R2_topmed, na.rm = TRUE)`.\n",
      "Caused by warning in `max()`:\n",
      "\u001b[33m!\u001b[39m no non-missing arguments to max; returning -Inf”\n"
     ]
    }
   ],
   "source": [
    "setwd(\"~/project/imputation-rvtest/analysis/imputation_aggregated_analysis/hrc_topmed\")\n",
    "\n",
    "for(rsq in c(3, 8)){\n",
    "    for(maf in c(0.01, 0.005, 0.001)){\n",
    "        maf_c <- gsub(\"\\\\.\", \"\", as.character(maf))\n",
    "        hrc <- read.csv(sprintf(\"./hrc_168206ids_chr11_rsq0%d_maf%s_annot.csv.gz\", rsq, maf_c)) %>% rename(\"R2_hrc\" = R2) %>% mutate(R2_hrc = as.numeric(R2_hrc))\n",
    "        topmed <- read.csv(sprintf(\"./topmed_v3_168206ids_chr11_rsq0%d_maf%s_annot.csv.gz\", rsq, maf_c)) %>% rename(\"R2_topmed\" = R2) %>% mutate(R2_topmed = as.numeric(R2_topmed), ID_hg19 = NA)\n",
    "        \n",
    "        topmed_hrc <- full_join(hrc, topmed, \n",
    "                                by = c(\"Chr\", \"Start\", \"End\", \"Ref\", \"Alt\", \n",
    "                                       \"Func.refGene\", \"Gene.refGene\", \"ExonicFunc.refGene\", \n",
    "                                       \"MAF_nfe_exome\", \"REVEL_score\", \"Function\", \"ID\")) %>%\n",
    "                    select(-ID_hg19.y) %>% \n",
    "                    rename(ID_hg19 = ID_hg19.x) %>%\n",
    "                    mutate(REVEL_score = as.numeric(REVEL_score),\n",
    "                           R2_hrc = tidyr::replace_na(as.numeric(R2_hrc), 0),\n",
    "                           R2_topmed = tidyr::replace_na(R2_topmed, 0)) %>%\n",
    "                    mutate(R2 = ifelse(R2_topmed >= R2_hrc, R2_topmed, R2_hrc),\n",
    "                           source = ifelse(R2_topmed > R2_hrc, \"topmed\", \"hrc\")) %>%\n",
    "                    mutate(RawScore = ifelse(source == \"hrc\", RawScore.x, RawScore.y),\n",
    "                           PHRED = ifelse(source == \"hrc\", PHRED.x, PHRED.y)) %>%\n",
    "                    select(-c(RawScore.x, RawScore.y, PHRED.x, PHRED.y))\n",
    "        \n",
    "        sub_annot_1 <- topmed_hrc %>% filter(!ID %in% frq[,1]) %>%\n",
    "            mutate(ID_hg38 = ifelse(ID_hg38.x %in% c(\"\", NA), ID_hg38.y, ID_hg38.x)) %>%\n",
    "            select(-c(ID_hg38.y, ID_hg38.x, cat))\n",
    "        \n",
    "        sub_annot_2 <- topmed_hrc %>% \n",
    "            filter(ID %in% frq[,1]) %>%\n",
    "            group_by(ID) %>%\n",
    "            mutate(max_R2 = pmax(R2_hrc, R2_topmed, na.rm = TRUE),\n",
    "                   max_R2_hrc = max(R2_hrc, na.rm = TRUE),\n",
    "                   max_R2_topmed = max(R2_topmed, na.rm = TRUE)) %>%\n",
    "            filter(max_R2 == max(max_R2)) %>%\n",
    "            mutate(R2 = max(max_R2_hrc, max_R2_topmed, na.rm = TRUE),\n",
    "                   R2_hrc = max_R2_hrc, \n",
    "                   R2_topmed = max_R2_topmed, \n",
    "                   ID_hg38 = ifelse(ID_hg38.x %in% c(\"\", NA), ID_hg38.y, ID_hg38.x)) %>%\n",
    "            ungroup() %>%\n",
    "            select(-c(ID_hg38.x, ID_hg38.y, max_R2, max_R2_hrc, max_R2_topmed, cat))\n",
    "\n",
    "        full_annot <- rbind(sub_annot_1, sub_annot_2)\n",
    "\n",
    "        topmed_hrc_lof <- full_annot %>% filter(Function == \"LoF\")\n",
    "        topmed_hrc_mis <- full_annot %>% filter(Function != \"LoF\" & as.numeric(PHRED) >= 20)\n",
    "\n",
    "        full_annot %>% fwrite(sprintf(\"./hrc_topmed_v3_168206ids_chr11_rsq0%d_maf%s_annot.csv.gz\", rsq, maf_c))\n",
    "        rbind(topmed_hrc_lof, topmed_hrc_mis) %>% fwrite(sprintf(\"./hrc_topmed_v3_168206ids_chr11_rsq0%d_maf%s_cadd_annot.csv.gz\", rsq, maf_c))\n",
    "    }\n",
    "}"
   ]
  },
  {
   "cell_type": "markdown",
   "id": "950c5292-cd82-4c69-b777-b97e08ecb138",
   "metadata": {
    "kernel": "R"
   },
   "source": [
    "### 6.2 Exome + HRC + TOPMed"
   ]
  },
  {
   "cell_type": "markdown",
   "id": "8b1866a0-88fc-48f1-b59a-28b655535b33",
   "metadata": {
    "kernel": "R"
   },
   "source": [
    "#### 6.21 Make merged annotation"
   ]
  },
  {
   "cell_type": "markdown",
   "id": "5c0aa970-320e-4a93-9486-6464444de66f",
   "metadata": {
    "kernel": "R"
   },
   "source": [
    "#### Chromosome 1 + 2"
   ]
  },
  {
   "cell_type": "code",
   "execution_count": 71,
   "id": "447e6718-07d0-45d3-a00e-8e25ab877b7a",
   "metadata": {
    "kernel": "R",
    "tags": []
   },
   "outputs": [],
   "source": [
    "fill_na_within_group <- function(id_hg19, r2_hrc) {\n",
    "  non_na_value <- id_hg19[which(!is.na(id_hg19) & r2_hrc != 0)]\n",
    "  if(length(non_na_value) > 0) {\n",
    "    id_hg19[is.na(id_hg19)] <- non_na_value[1]\n",
    "  }\n",
    "  return(id_hg19)\n",
    "}"
   ]
  },
  {
   "cell_type": "code",
   "execution_count": 75,
   "id": "19c0a151-5818-44ca-8fe4-e33721223366",
   "metadata": {
    "kernel": "R",
    "tags": []
   },
   "outputs": [
    {
     "name": "stderr",
     "output_type": "stream",
     "text": [
      "Warning message:\n",
      "“\u001b[1m\u001b[22mThere was 1 warning in `mutate()`.\n",
      "\u001b[1m\u001b[22m\u001b[36mℹ\u001b[39m In argument: `REVEL_score = as.numeric(REVEL_score)`.\n",
      "Caused by warning:\n",
      "\u001b[33m!\u001b[39m NAs introduced by coercion”\n",
      "Warning message:\n",
      "“\u001b[1m\u001b[22mThere was 1 warning in `mutate()`.\n",
      "\u001b[1m\u001b[22m\u001b[36mℹ\u001b[39m In argument: `REVEL_score = as.numeric(REVEL_score)`.\n",
      "Caused by warning:\n",
      "\u001b[33m!\u001b[39m NAs introduced by coercion”\n",
      "Warning message:\n",
      "“\u001b[1m\u001b[22mThere was 1 warning in `mutate()`.\n",
      "\u001b[1m\u001b[22m\u001b[36mℹ\u001b[39m In argument: `REVEL_score = as.numeric(REVEL_score)`.\n",
      "Caused by warning:\n",
      "\u001b[33m!\u001b[39m NAs introduced by coercion”\n"
     ]
    }
   ],
   "source": [
    "setwd(\"~/project/imputation-rvtest/analysis/imputation_aggregated_analysis/\")\n",
    "\n",
    "library(dplyr)\n",
    "library(data.table)\n",
    "\n",
    "for(maf in c(0.01, 0.005, 0.001)){\n",
    "    maf_c <- gsub(\"\\\\.\", \"\", as.character(maf))\n",
    "    \n",
    "    exome_chr1 <- read.csv(sprintf(\"./exome/ukb23156_c1.merged.filtered.hg38.hg38_multianno_formatted_sel_col_maf%s_LOF_missense.csv.gz\", maf_c))\n",
    "    exome_chr2 <- read.csv(sprintf(\"./exome/ukb23156_c2.merged.filtered.hg38.hg38_multianno_formatted_sel_col_maf%s_LOF_missense.csv.gz\", maf_c))\n",
    "    exome <- rbind(exome_chr1, exome_chr2) %>% mutate(REVEL_score = as.numeric(REVEL_score))\n",
    "    \n",
    "    for(rsq in c(3, 8)){\n",
    "        topmed_hrc <- read.csv(sprintf(\"./hrc_topmed/hrc_topmed_v3_168206ids_rsq0%d_maf%s_annot.csv.gz\", rsq, maf_c)) %>% mutate(REVEL_score = as.numeric(REVEL_score))\n",
    "        full_annot <- \n",
    "            full_join(topmed_hrc %>% rename(\"source_hrc_topmed\" = source), \n",
    "              exome %>% mutate(R2_exome = 999), by = c(\"Chr\", \"Start\", \"End\", \"Ref\", \"Alt\", \n",
    "                                                       \"Func.refGene\", \"Gene.refGene\", \"ExonicFunc.refGene\", \n",
    "                                                       \"MAF_nfe_exome\", \"REVEL_score\", \"Function\",\"ID\")) %>%\n",
    "                mutate(source = ifelse(is.na(R2_exome), source_hrc_topmed, \"exome\")) %>% \n",
    "                mutate(RawScore = ifelse(source == \"hrc\", RawScore.x, RawScore.y),\n",
    "                       PHRED = ifelse(source == \"hrc\", PHRED.x, PHRED.y)) %>%\n",
    "                select(-c(RawScore.x, RawScore.y, PHRED.x, PHRED.y, -source_hrc_topmed))\n",
    "                \n",
    "        frq <- full_annot %>% pull(ID) %>% table() %>% as.data.frame() %>% filter(Freq >= 2)\n",
    "        \n",
    "        sub_annot_1 <- full_annot %>% filter(!ID %in% frq[,1]) %>%\n",
    "            mutate(ID_hg38 = ifelse(ID_hg38.x %in% c(\"\", NA), ID_hg38.y, ID_hg38.x)) %>%\n",
    "            select(-c(ID_hg38.y, ID_hg38.x, source_hrc_topmed))\n",
    "        \n",
    "        sub_annot_2 <- full_annot %>% \n",
    "            filter(ID %in% frq[,1]) %>%\n",
    "            group_by(ID) %>%\n",
    "            arrange(ID) %>%\n",
    "            mutate(ID_hg19 = na_if(ID_hg19, \"\"),\n",
    "                   max_R2 = pmax(R2, R2_exome, na.rm = TRUE),\n",
    "                   max_R2_exome = max(R2_exome, na.rm = TRUE),\n",
    "                   max_R2_hrc = max(R2_hrc, na.rm = TRUE),\n",
    "                   max_R2_topmed = max(R2_topmed, na.rm = TRUE)) %>% \n",
    "            tidyr::fill(source_hrc_topmed, .direction = \"downup\") %>%\n",
    "            mutate(R2 = max(max_R2_hrc, max_R2_topmed, na.rm = TRUE),\n",
    "                   R2_hrc = max_R2_hrc, \n",
    "                   R2_topmed = max_R2_topmed, \n",
    "                   R2_exome = max_R2_exome,\n",
    "                   ID_hg38 = ifelse(ID_hg38.x %in% c(\"\", NA), ID_hg38.y, ID_hg38.x),\n",
    "                   ID_hg19 = fill_na_within_group(ID_hg19, R2_hrc)) %>%\n",
    "            filter(max_R2 == max(max_R2)) %>%\n",
    "            ungroup() %>%\n",
    "            select(-c(ID_hg38.x, ID_hg38.y, max_R2, max_R2_hrc, max_R2_topmed, max_R2_exome, source_hrc_topmed))\n",
    "        \n",
    "        full_annot <- rbind(sub_annot_1, sub_annot_2)\n",
    "        \n",
    "        annot_lof <- full_annot %>% filter(Function == \"LoF\")\n",
    "        annot_mis <- full_annot %>% filter(Function != \"LoF\" & as.numeric(PHRED) >= 20)\n",
    "        \n",
    "        rbind(annot_lof, annot_mis) %>% fwrite(sprintf(\"./hrc_topmed_exome/hrc_topmed_v3_exome_168206ids_rsq0%d_maf%s_cadd_annot.csv.gz\", rsq, maf_c))\n",
    "        full_annot %>% fwrite(sprintf(\"./hrc_topmed_exome/hrc_topmed_v3_exome_168206ids_rsq0%d_maf%s_annot.csv.gz\", rsq, maf_c))\n",
    "    } \n",
    "}"
   ]
  },
  {
   "cell_type": "markdown",
   "id": "2afb88ff-f05c-43e4-b46a-4c36f0def57b",
   "metadata": {
    "kernel": "R"
   },
   "source": [
    "#### Chromosome 11"
   ]
  },
  {
   "cell_type": "code",
   "execution_count": 76,
   "id": "b264a301-bd27-4b0b-8e6a-5bfdc61ba10c",
   "metadata": {
    "kernel": "R",
    "tags": []
   },
   "outputs": [
    {
     "name": "stderr",
     "output_type": "stream",
     "text": [
      "Warning message:\n",
      "“\u001b[1m\u001b[22mThere was 1 warning in `mutate()`.\n",
      "\u001b[1m\u001b[22m\u001b[36mℹ\u001b[39m In argument: `REVEL_score = as.numeric(REVEL_score)`.\n",
      "Caused by warning:\n",
      "\u001b[33m!\u001b[39m NAs introduced by coercion”\n",
      "Warning message:\n",
      "“\u001b[1m\u001b[22mThere were 3 warnings in `mutate()`.\n",
      "The first warning was:\n",
      "\u001b[1m\u001b[22m\u001b[36mℹ\u001b[39m In argument: `max_R2_exome = max(R2_exome, na.rm = TRUE)`.\n",
      "Caused by warning in `max()`:\n",
      "\u001b[33m!\u001b[39m no non-missing arguments to max; returning -Inf\n",
      "\u001b[1m\u001b[22m\u001b[36mℹ\u001b[39m Run `dplyr::last_dplyr_warnings()` to see the 2 remaining warnings.”\n",
      "Warning message:\n",
      "“\u001b[1m\u001b[22mThere was 1 warning in `mutate()`.\n",
      "\u001b[1m\u001b[22m\u001b[36mℹ\u001b[39m In argument: `R2 = max(max_R2_hrc, max_R2_topmed, na.rm = TRUE)`.\n",
      "Caused by warning in `max()`:\n",
      "\u001b[33m!\u001b[39m no non-missing arguments to max; returning -Inf”\n",
      "Warning message:\n",
      "“\u001b[1m\u001b[22mThere was 1 warning in `filter()`.\n",
      "\u001b[1m\u001b[22m\u001b[36mℹ\u001b[39m In argument: `max_R2 == max(max_R2)`.\n",
      "Caused by warning in `max()`:\n",
      "\u001b[33m!\u001b[39m no non-missing arguments to max; returning -Inf”\n"
     ]
    },
    {
     "name": "stdout",
     "output_type": "stream",
     "text": [
      "[1] 215249     22\n"
     ]
    },
    {
     "name": "stderr",
     "output_type": "stream",
     "text": [
      "Warning message:\n",
      "“\u001b[1m\u001b[22mThere were 3 warnings in `mutate()`.\n",
      "The first warning was:\n",
      "\u001b[1m\u001b[22m\u001b[36mℹ\u001b[39m In argument: `max_R2_exome = max(R2_exome, na.rm = TRUE)`.\n",
      "Caused by warning in `max()`:\n",
      "\u001b[33m!\u001b[39m no non-missing arguments to max; returning -Inf\n",
      "\u001b[1m\u001b[22m\u001b[36mℹ\u001b[39m Run `dplyr::last_dplyr_warnings()` to see the 2 remaining warnings.”\n",
      "Warning message:\n",
      "“\u001b[1m\u001b[22mThere was 1 warning in `mutate()`.\n",
      "\u001b[1m\u001b[22m\u001b[36mℹ\u001b[39m In argument: `R2 = max(max_R2_hrc, max_R2_topmed, na.rm = TRUE)`.\n",
      "Caused by warning in `max()`:\n",
      "\u001b[33m!\u001b[39m no non-missing arguments to max; returning -Inf”\n",
      "Warning message:\n",
      "“\u001b[1m\u001b[22mThere was 1 warning in `filter()`.\n",
      "\u001b[1m\u001b[22m\u001b[36mℹ\u001b[39m In argument: `max_R2 == max(max_R2)`.\n",
      "Caused by warning in `max()`:\n",
      "\u001b[33m!\u001b[39m no non-missing arguments to max; returning -Inf”\n"
     ]
    },
    {
     "name": "stdout",
     "output_type": "stream",
     "text": [
      "[1] 186585     22\n"
     ]
    },
    {
     "name": "stderr",
     "output_type": "stream",
     "text": [
      "Warning message:\n",
      "“\u001b[1m\u001b[22mThere was 1 warning in `mutate()`.\n",
      "\u001b[1m\u001b[22m\u001b[36mℹ\u001b[39m In argument: `REVEL_score = as.numeric(REVEL_score)`.\n",
      "Caused by warning:\n",
      "\u001b[33m!\u001b[39m NAs introduced by coercion”\n",
      "Warning message:\n",
      "“\u001b[1m\u001b[22mThere were 3 warnings in `mutate()`.\n",
      "The first warning was:\n",
      "\u001b[1m\u001b[22m\u001b[36mℹ\u001b[39m In argument: `max_R2_exome = max(R2_exome, na.rm = TRUE)`.\n",
      "Caused by warning in `max()`:\n",
      "\u001b[33m!\u001b[39m no non-missing arguments to max; returning -Inf\n",
      "\u001b[1m\u001b[22m\u001b[36mℹ\u001b[39m Run `dplyr::last_dplyr_warnings()` to see the 2 remaining warnings.”\n",
      "Warning message:\n",
      "“\u001b[1m\u001b[22mThere was 1 warning in `mutate()`.\n",
      "\u001b[1m\u001b[22m\u001b[36mℹ\u001b[39m In argument: `R2 = max(max_R2_hrc, max_R2_topmed, na.rm = TRUE)`.\n",
      "Caused by warning in `max()`:\n",
      "\u001b[33m!\u001b[39m no non-missing arguments to max; returning -Inf”\n",
      "Warning message:\n",
      "“\u001b[1m\u001b[22mThere was 1 warning in `filter()`.\n",
      "\u001b[1m\u001b[22m\u001b[36mℹ\u001b[39m In argument: `max_R2 == max(max_R2)`.\n",
      "Caused by warning in `max()`:\n",
      "\u001b[33m!\u001b[39m no non-missing arguments to max; returning -Inf”\n"
     ]
    },
    {
     "name": "stdout",
     "output_type": "stream",
     "text": [
      "[1] 214701     22\n"
     ]
    },
    {
     "name": "stderr",
     "output_type": "stream",
     "text": [
      "Warning message:\n",
      "“\u001b[1m\u001b[22mThere were 3 warnings in `mutate()`.\n",
      "The first warning was:\n",
      "\u001b[1m\u001b[22m\u001b[36mℹ\u001b[39m In argument: `max_R2_exome = max(R2_exome, na.rm = TRUE)`.\n",
      "Caused by warning in `max()`:\n",
      "\u001b[33m!\u001b[39m no non-missing arguments to max; returning -Inf\n",
      "\u001b[1m\u001b[22m\u001b[36mℹ\u001b[39m Run `dplyr::last_dplyr_warnings()` to see the 2 remaining warnings.”\n",
      "Warning message:\n",
      "“\u001b[1m\u001b[22mThere was 1 warning in `mutate()`.\n",
      "\u001b[1m\u001b[22m\u001b[36mℹ\u001b[39m In argument: `R2 = max(max_R2_hrc, max_R2_topmed, na.rm = TRUE)`.\n",
      "Caused by warning in `max()`:\n",
      "\u001b[33m!\u001b[39m no non-missing arguments to max; returning -Inf”\n",
      "Warning message:\n",
      "“\u001b[1m\u001b[22mThere was 1 warning in `filter()`.\n",
      "\u001b[1m\u001b[22m\u001b[36mℹ\u001b[39m In argument: `max_R2 == max(max_R2)`.\n",
      "Caused by warning in `max()`:\n",
      "\u001b[33m!\u001b[39m no non-missing arguments to max; returning -Inf”\n"
     ]
    },
    {
     "name": "stdout",
     "output_type": "stream",
     "text": [
      "[1] 186048     22\n"
     ]
    },
    {
     "name": "stderr",
     "output_type": "stream",
     "text": [
      "Warning message:\n",
      "“\u001b[1m\u001b[22mThere was 1 warning in `mutate()`.\n",
      "\u001b[1m\u001b[22m\u001b[36mℹ\u001b[39m In argument: `REVEL_score = as.numeric(REVEL_score)`.\n",
      "Caused by warning:\n",
      "\u001b[33m!\u001b[39m NAs introduced by coercion”\n",
      "Warning message:\n",
      "“\u001b[1m\u001b[22mThere were 3 warnings in `mutate()`.\n",
      "The first warning was:\n",
      "\u001b[1m\u001b[22m\u001b[36mℹ\u001b[39m In argument: `max_R2_exome = max(R2_exome, na.rm = TRUE)`.\n",
      "Caused by warning in `max()`:\n",
      "\u001b[33m!\u001b[39m no non-missing arguments to max; returning -Inf\n",
      "\u001b[1m\u001b[22m\u001b[36mℹ\u001b[39m Run `dplyr::last_dplyr_warnings()` to see the 2 remaining warnings.”\n",
      "Warning message:\n",
      "“\u001b[1m\u001b[22mThere was 1 warning in `mutate()`.\n",
      "\u001b[1m\u001b[22m\u001b[36mℹ\u001b[39m In argument: `R2 = max(max_R2_hrc, max_R2_topmed, na.rm = TRUE)`.\n",
      "Caused by warning in `max()`:\n",
      "\u001b[33m!\u001b[39m no non-missing arguments to max; returning -Inf”\n",
      "Warning message:\n",
      "“\u001b[1m\u001b[22mThere was 1 warning in `filter()`.\n",
      "\u001b[1m\u001b[22m\u001b[36mℹ\u001b[39m In argument: `max_R2 == max(max_R2)`.\n",
      "Caused by warning in `max()`:\n",
      "\u001b[33m!\u001b[39m no non-missing arguments to max; returning -Inf”\n"
     ]
    },
    {
     "name": "stdout",
     "output_type": "stream",
     "text": [
      "[1] 212593     22\n"
     ]
    },
    {
     "name": "stderr",
     "output_type": "stream",
     "text": [
      "Warning message:\n",
      "“\u001b[1m\u001b[22mThere were 3 warnings in `mutate()`.\n",
      "The first warning was:\n",
      "\u001b[1m\u001b[22m\u001b[36mℹ\u001b[39m In argument: `max_R2_exome = max(R2_exome, na.rm = TRUE)`.\n",
      "Caused by warning in `max()`:\n",
      "\u001b[33m!\u001b[39m no non-missing arguments to max; returning -Inf\n",
      "\u001b[1m\u001b[22m\u001b[36mℹ\u001b[39m Run `dplyr::last_dplyr_warnings()` to see the 2 remaining warnings.”\n",
      "Warning message:\n",
      "“\u001b[1m\u001b[22mThere was 1 warning in `mutate()`.\n",
      "\u001b[1m\u001b[22m\u001b[36mℹ\u001b[39m In argument: `R2 = max(max_R2_hrc, max_R2_topmed, na.rm = TRUE)`.\n",
      "Caused by warning in `max()`:\n",
      "\u001b[33m!\u001b[39m no non-missing arguments to max; returning -Inf”\n",
      "Warning message:\n",
      "“\u001b[1m\u001b[22mThere was 1 warning in `filter()`.\n",
      "\u001b[1m\u001b[22m\u001b[36mℹ\u001b[39m In argument: `max_R2 == max(max_R2)`.\n",
      "Caused by warning in `max()`:\n",
      "\u001b[33m!\u001b[39m no non-missing arguments to max; returning -Inf”\n"
     ]
    },
    {
     "name": "stdout",
     "output_type": "stream",
     "text": [
      "[1] 184077     22\n"
     ]
    }
   ],
   "source": [
    "for(maf in c(0.01, 0.005, 0.001)){\n",
    "    maf_c <- gsub(\"\\\\.\", \"\", as.character(maf))\n",
    "\n",
    "    exome <- read.csv(sprintf(\"./exome/ukb23156_c11.merged.filtered.hg38.hg38_multianno_formatted_sel_col_maf%s_LOF_missense_cadd.csv.gz\", maf_c))\n",
    "    exome <- exome %>% mutate(REVEL_score = as.numeric(REVEL_score))\n",
    "    \n",
    "    for(rsq in c(3, 8)){\n",
    "        topmed_hrc <- read.csv(sprintf(\"./hrc_topmed/hrc_topmed_168206ids_chr11_rsq0%d_maf%s_annot.csv.gz\", rsq, maf_c)) %>% mutate(REVEL_score = as.numeric(REVEL_score))\n",
    "    \n",
    "        full_annot <- \n",
    "            full_join(topmed_hrc %>% rename(\"source_hrc_topmed\" = source), \n",
    "              exome %>% mutate(R2_exome = 999), by = c(\"Chr\", \"Start\", \"End\", \"Ref\", \"Alt\", \n",
    "                                                       \"Func.refGene\", \"Gene.refGene\", \"ExonicFunc.refGene\", \n",
    "                                                       \"MAF_nfe_exome\", \"REVEL_score\", \"Function\",\"ID\")) %>%\n",
    "                mutate(source = ifelse(is.na(R2_exome), source_hrc_topmed, \"exome\")) %>% \n",
    "                mutate(RawScore = ifelse(source == \"hrc\", RawScore.x, RawScore.y),\n",
    "                       PHRED = ifelse(source == \"hrc\", PHRED.x, PHRED.y)) %>%\n",
    "                select(-c(RawScore.x, RawScore.y, PHRED.x, PHRED.y, -source_hrc_topmed))\n",
    "                \n",
    "        frq <- full_annot %>% pull(ID) %>% table() %>% as.data.frame() %>% filter(Freq >= 2)\n",
    "        \n",
    "        sub_annot_1 <- full_annot %>% filter(!ID %in% frq[,1]) %>%\n",
    "            mutate(ID_hg38 = ifelse(ID_hg38.x %in% c(\"\", NA), ID_hg38.y, ID_hg38.x)) %>%\n",
    "            select(-c(ID_hg38.y, ID_hg38.x))\n",
    "        \n",
    "        sub_annot_2 <- full_annot %>% \n",
    "            filter(ID %in% frq[,1]) %>%\n",
    "            group_by(ID) %>%\n",
    "            arrange(ID) %>%\n",
    "            mutate(ID_hg19 = na_if(ID_hg19, \"\"),\n",
    "                   max_R2 = pmax(R2, R2_exome, na.rm = TRUE),\n",
    "                   max_R2_exome = max(R2_exome, na.rm = TRUE),\n",
    "                   max_R2_hrc = max(R2_hrc, na.rm = TRUE),\n",
    "                   max_R2_topmed = max(R2_topmed, na.rm = TRUE)) %>% \n",
    "            tidyr::fill(source_hrc_topmed, .direction = \"downup\") %>%\n",
    "            mutate(R2 = max(max_R2_hrc, max_R2_topmed, na.rm = TRUE),\n",
    "                   R2_hrc = max_R2_hrc, \n",
    "                   R2_topmed = max_R2_topmed, \n",
    "                   R2_exome = max_R2_exome,\n",
    "                   ID_hg38 = ifelse(ID_hg38.x %in% c(\"\", NA), ID_hg38.y, ID_hg38.x),\n",
    "                   ID_hg19 = fill_na_within_group(ID_hg19, R2_hrc)) %>%\n",
    "            filter(max_R2 == max(max_R2)) %>%\n",
    "            ungroup() %>%\n",
    "            select(-c(ID_hg38.x, ID_hg38.y, max_R2, max_R2_hrc, max_R2_topmed, max_R2_exome, source_hrc_topmed))\n",
    "        \n",
    "        full_annot <- rbind(sub_annot_1, sub_annot_2)\n",
    "        \n",
    "        annot_lof <- full_annot %>% filter(Function == \"LoF\")\n",
    "        annot_mis <- full_annot %>% filter(Function != \"LoF\" & as.numeric(PHRED) >= 20)\n",
    "        \n",
    "        print(dim(full_annot))\n",
    "        rbind(annot_lof, annot_mis) %>% fwrite(sprintf(\"./hrc_topmed_exome/hrc_topmed_exome_168206ids_chr11_rsq0%d_maf%s_cadd_annot.csv.gz\", rsq, maf_c))\n",
    "        full_annot %>% fwrite(sprintf(\"./hrc_topmed_exome/hrc_topmed_exome_168206ids_chr11_rsq0%d_maf%s_annot.csv.gz\", rsq, maf_c))\n",
    "    } \n",
    "} "
   ]
  },
  {
   "cell_type": "code",
   "execution_count": null,
   "id": "746269ae-d48a-47a3-b84a-2995abd57ef4",
   "metadata": {
    "kernel": "R"
   },
   "outputs": [],
   "source": []
  },
  {
   "cell_type": "code",
   "execution_count": null,
   "id": "4a9fa44e-2729-4b90-ade8-aa9148db9699",
   "metadata": {
    "kernel": "R"
   },
   "outputs": [],
   "source": []
  }
 ],
 "metadata": {
  "kernelspec": {
   "display_name": "SoS",
   "language": "sos",
   "name": "sos"
  },
  "language_info": {
   "codemirror_mode": "sos",
   "file_extension": ".sos",
   "mimetype": "text/x-sos",
   "name": "sos",
   "nbconvert_exporter": "sos_notebook.converter.SoS_Exporter",
   "pygments_lexer": "sos"
  },
  "sos": {
   "kernels": [
    [
     "Bash",
     "calysto_bash",
     "Bash",
     "#E6EEFF",
     "shell"
    ],
    [
     "Python3",
     "python3",
     "Python3",
     "#FFD91A",
     {
      "name": "ipython",
      "version": 3
     }
    ],
    [
     "R",
     "ir",
     "R",
     "#DCDCDA",
     "r"
    ],
    [
     "SoS",
     "sos",
     "",
     "",
     "sos"
    ]
   ],
   "version": "0.24.3"
  },
  "toc-autonumbering": false,
  "toc-showcode": false,
  "toc-showmarkdowntxt": false
 },
 "nbformat": 4,
 "nbformat_minor": 5
}

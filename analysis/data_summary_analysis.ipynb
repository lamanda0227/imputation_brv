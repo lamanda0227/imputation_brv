{
 "cells": [
  {
   "cell_type": "markdown",
   "id": "859c07ba-4fe3-4c3f-ab43-bff155756b64",
   "metadata": {
    "kernel": "SoS",
    "tags": []
   },
   "source": [
    "# Data Summary\n",
    "\n",
    "This notebook generates plots and tables for the manuscript"
   ]
  },
  {
   "cell_type": "markdown",
   "id": "3feff960-6900-4866-9384-172c6ee771e9",
   "metadata": {
    "kernel": "R",
    "tags": []
   },
   "source": [
    "## Venn\n",
    "\n",
    "Venn diagram used for initial data visualization, replaced by UPSet plots"
   ]
  },
  {
   "cell_type": "code",
   "execution_count": 1,
   "id": "1b42882c-6ec7-4551-9590-c657ee443a26",
   "metadata": {
    "kernel": "R",
    "tags": []
   },
   "outputs": [],
   "source": [
    "# library(dplyr)\n",
    "# library(data.table)\n",
    "# library(ggplot2)\n",
    "# library(ggvenn)"
   ]
  },
  {
   "cell_type": "code",
   "execution_count": 2,
   "id": "cf5ce81c-04cb-407f-84d3-acfa4443e7a9",
   "metadata": {
    "kernel": "R",
    "tags": []
   },
   "outputs": [],
   "source": [
    "# setwd(\"/home/tl3031/project/imputation-rvtest/analysis/imputation_aggregated_analysis\")\n",
    "\n",
    "# exome_chr1 <- fread(\"./exome/ukb23156_c1.merged.filtered.hg38.hg38_multianno_formatted_sel_col_maf001_LOF_missense.csv.gz\")$ID\n",
    "# exome_chr2 <- fread(\"./exome/ukb23156_c2.merged.filtered.hg38.hg38_multianno_formatted_sel_col_maf001_LOF_missense.csv.gz\")$ID\n",
    "\n",
    "# hrc_chr1 <- fread(\"./hrc/hrc_chr1_rsq03_hg19_hg38_maf001_LOF_missense_annot.csv.gz\")$ID\n",
    "# hrc_chr2 <- fread(\"./hrc/hrc_chr2_rsq08_hg19_hg38_maf001_LOF_missense_annot.csv.gz\")$ID\n",
    "\n",
    "# topmed_chr1 <- fread(\"./topmed/topmed_chr1_rsq03_hg19_hg38_maf001_LOF_missense_annot.csv.gz\")$ID\n",
    "# topmed_chr2 <- fread(\"./topmed/topmed_chr2_rsq03_hg19_hg38_maf001_LOF_missense_annot.csv.gz\")$ID"
   ]
  },
  {
   "cell_type": "code",
   "execution_count": 3,
   "id": "7652ccbb-bfa0-4cfe-a11f-6ac5f319e6ed",
   "metadata": {
    "kernel": "R",
    "tags": []
   },
   "outputs": [],
   "source": [
    "# exome_snplist <- c(exome_chr1, exome_chr2)\n",
    "# hrc_snplist <- c(hrc_chr1, hrc_chr2)\n",
    "# topmed_snplist <- c(topmed_chr1, topmed_chr2)"
   ]
  },
  {
   "cell_type": "code",
   "execution_count": 4,
   "id": "0b5ca8d5-4fc5-4831-8ced-a807bb4a2ec6",
   "metadata": {
    "kernel": "R",
    "tags": []
   },
   "outputs": [],
   "source": [
    "# venn_03 <- list(\"Exome\" = exome_snplist, \"HRC (R2 > 0.3)\" = hrc_snplist, \"TOPMed (R2 > 0.3)\" = topmed_snplist)\n",
    "# ggvenn(venn_03, \n",
    "#        fill_color = c(\"#0073C2FF\", \"#EFC000FF\", \"#868686FF\"),\n",
    "#        stroke_size = 0.5, show_percentage = TRUE)"
   ]
  },
  {
   "cell_type": "code",
   "execution_count": 5,
   "id": "48860d5e-6e98-429e-9e62-61e6f477f6fe",
   "metadata": {
    "kernel": "R",
    "tags": []
   },
   "outputs": [],
   "source": [
    "# venn_03_exome_hrc <- list(\"Exome\" = exome_snplist, \"HRC (R2 > 0.3)\" = hrc_snplist)\n",
    "# ggvenn(venn_03_exome_hrc, \n",
    "#        fill_color = c(\"#0073C2FF\", \"#EFC000FF\"),\n",
    "#        stroke_size = 0.5, show_percentage = TRUE, auto_scale = TRUE)"
   ]
  },
  {
   "cell_type": "code",
   "execution_count": 6,
   "id": "f3210716-6d06-459d-a06d-c698d6c5e48b",
   "metadata": {
    "kernel": "R",
    "tags": []
   },
   "outputs": [],
   "source": [
    "# venn_03_exome_topmed <- list(\"Exome\" = exome_snplist, \"TOPMed (R2 > 0.3)\" = topmed_snplist)\n",
    "# ggvenn(venn_03_exome_topmed, \n",
    "#        fill_color = c(\"#0073C2FF\", \"#868686FF\"),\n",
    "#        stroke_size = 0.5, show_percentage = TRUE, auto_scale = TRUE)"
   ]
  },
  {
   "cell_type": "code",
   "execution_count": 7,
   "id": "ceda82cf-771b-4a9f-ad8a-8e0978f30518",
   "metadata": {
    "kernel": "R",
    "tags": []
   },
   "outputs": [],
   "source": [
    "# hrc_chr1 <- fread(\"./hrc/hrc_chr1_rsq08_hg19_hg38_maf001_LOF_missense_annot.csv.gz\")$ID\n",
    "# hrc_chr2 <- fread(\"./hrc/hrc_chr2_rsq08_hg19_hg38_maf001_LOF_missense_annot.csv.gz\")$ID\n",
    "\n",
    "# topmed_chr1 <- fread(\"./topmed/topmed_chr1_rsq08_hg19_hg38_maf001_LOF_missense_annot.csv.gz\")$ID\n",
    "# topmed_chr2 <- fread(\"./topmed/topmed_chr2_rsq08_hg19_hg38_maf001_LOF_missense_annot.csv.gz\")$ID"
   ]
  },
  {
   "cell_type": "code",
   "execution_count": 8,
   "id": "e8d8dbd8-f279-4d94-aebf-095356923b7a",
   "metadata": {
    "kernel": "R",
    "tags": []
   },
   "outputs": [],
   "source": [
    "# hrc_snplist <- c(hrc_chr1, hrc_chr2)\n",
    "# topmed_snplist <- c(topmed_chr1, topmed_chr2)"
   ]
  },
  {
   "cell_type": "code",
   "execution_count": 9,
   "id": "0ac2ec87-a162-4b61-ac2d-c2dd768282f8",
   "metadata": {
    "kernel": "R",
    "tags": []
   },
   "outputs": [],
   "source": [
    "# venn_08 <- list(\"Exome\" = exome_snplist, \"HRC (R2 > 0.8)\" = hrc_snplist, \"TOPMed (R2 > 0.8)\" = topmed_snplist)\n",
    "# ggvenn(venn_08, \n",
    "#        fill_color = c(\"#0073C2FF\", \"#EFC000FF\", \"#868686FF\"),\n",
    "#        stroke_size = 0.5, show_percentage = TRUE)"
   ]
  },
  {
   "cell_type": "code",
   "execution_count": 10,
   "id": "1396506a-e6db-45a4-b7c4-000be2b1f122",
   "metadata": {
    "kernel": "R",
    "tags": []
   },
   "outputs": [],
   "source": [
    "# venn_08_exome_hrc <- list(\"Exome\" = exome_snplist, \"HRC (R2 > 0.8)\" = hrc_snplist)\n",
    "# ggvenn(venn_08_exome_hrc, \n",
    "#        fill_color = c(\"#0073C2FF\", \"#EFC000FF\"),\n",
    "#        stroke_size = 0.5, show_percentage = TRUE, auto_scale = TRUE)"
   ]
  },
  {
   "cell_type": "code",
   "execution_count": 11,
   "id": "cfd29696-8049-4ea1-a1d8-306d6a049103",
   "metadata": {
    "kernel": "R",
    "tags": []
   },
   "outputs": [],
   "source": [
    "# venn_08_exome_topmed <- list(\"Exome\" = exome_snplist, \"TOPMed (R2 > 0.8)\" = topmed_snplist)\n",
    "# ggvenn(venn_08_exome_topmed, \n",
    "#        fill_color = c(\"#0073C2FF\", \"#868686FF\"),\n",
    "#        stroke_size = 0.5, show_percentage = TRUE, auto_scale = TRUE)"
   ]
  },
  {
   "cell_type": "markdown",
   "id": "4654ca33-5836-4890-80f0-461f1d42f69f",
   "metadata": {
    "kernel": "R"
   },
   "source": [
    "## UPSet Plot"
   ]
  },
  {
   "cell_type": "code",
   "execution_count": 1,
   "id": "90b01c31-75f2-455f-be3f-a5161f7253a9",
   "metadata": {
    "kernel": "R",
    "tags": []
   },
   "outputs": [
    {
     "name": "stderr",
     "output_type": "stream",
     "text": [
      "\n",
      "Attaching package: ‘dplyr’\n",
      "\n",
      "\n",
      "The following objects are masked from ‘package:stats’:\n",
      "\n",
      "    filter, lag\n",
      "\n",
      "\n",
      "The following objects are masked from ‘package:base’:\n",
      "\n",
      "    intersect, setdiff, setequal, union\n",
      "\n",
      "\n",
      "\n",
      "Attaching package: ‘data.table’\n",
      "\n",
      "\n",
      "The following objects are masked from ‘package:dplyr’:\n",
      "\n",
      "    between, first, last\n",
      "\n",
      "\n",
      "\n",
      "Attaching package: ‘ComplexUpset’\n",
      "\n",
      "\n",
      "The following object is masked from ‘package:UpSetR’:\n",
      "\n",
      "    upset\n",
      "\n",
      "\n"
     ]
    }
   ],
   "source": [
    "library(UpSetR)\n",
    "library(dplyr)\n",
    "library(tidyr)\n",
    "library(data.table)\n",
    "library(ggplot2)\n",
    "library(ComplexUpset)\n",
    "library(tibble)"
   ]
  },
  {
   "cell_type": "code",
   "execution_count": 2,
   "id": "93a2f0d3-4000-4bd5-b24c-7eb593a2eec9",
   "metadata": {
    "kernel": "R",
    "tags": []
   },
   "outputs": [],
   "source": [
    "setwd(\"/home/tl3031/project/imputation-rvtest/analysis/imputation_aggregated_analysis\")\n",
    "\n",
    "exome_chr1 <- fread(\"./exome/ukb23156_c1.merged.filtered.hg38.hg38_multianno_formatted_sel_col_maf001_LOF_missense_all.csv.gz\")$ID\n",
    "exome_chr2 <- fread(\"./exome/ukb23156_c2.merged.filtered.hg38.hg38_multianno_formatted_sel_col_maf001_LOF_missense_all.csv.gz\")$ID\n",
    "\n",
    "hrc_chr1_rsq03 <- fread(\"./hrc/hrc_chr1_rsq03_hg19_hg38_maf001_LOF_missense_all_annot.csv.gz\")$ID\n",
    "hrc_chr2_rsq03 <- fread(\"./hrc/hrc_chr2_rsq03_hg19_hg38_maf001_LOF_missense_all_annot.csv.gz\")$ID\n",
    "\n",
    "topmed_chr1_rsq03 <- fread(\"./topmed_v3/topmed_chr1_rsq03_hg38_hg38_maf001_LOF_missense_all_annot.csv.gz\")$ID\n",
    "topmed_chr2_rsq03 <- fread(\"./topmed_v3/topmed_chr2_rsq03_hg38_hg38_maf001_LOF_missense_all_annot.csv.gz\")$ID\n",
    "\n",
    "hrc_chr1_rsq08 <- fread(\"./hrc/hrc_chr1_rsq08_hg19_hg38_maf001_LOF_missense_all_annot.csv.gz\")$ID\n",
    "hrc_chr2_rsq08 <- fread(\"./hrc/hrc_chr2_rsq08_hg19_hg38_maf001_LOF_missense_all_annot.csv.gz\")$ID\n",
    "\n",
    "topmed_chr1_rsq08 <- fread(\"./topmed_v3/topmed_chr1_rsq08_hg38_hg38_maf001_LOF_missense_all_annot.csv.gz\")$ID\n",
    "topmed_chr2_rsq08 <- fread(\"./topmed_v3/topmed_chr2_rsq08_hg38_hg38_maf001_LOF_missense_all_annot.csv.gz\")$ID\n",
    "\n",
    "exome_snplist <- c(exome_chr1, exome_chr2)\n",
    "hrc_snplist_rsq03 <- c(hrc_chr1_rsq03, hrc_chr2_rsq03)\n",
    "topmed_snplist_rsq03 <- c(topmed_chr1_rsq03, topmed_chr2_rsq03)\n",
    "hrc_snplist_rsq08 <- c(hrc_chr1_rsq08, hrc_chr2_rsq08)\n",
    "topmed_snplist_rsq08 <- c(topmed_chr1_rsq08, topmed_chr2_rsq08)"
   ]
  },
  {
   "cell_type": "code",
   "execution_count": 3,
   "id": "c64dc971-cd1b-4acc-8adf-a235cb3a3ec8",
   "metadata": {
    "kernel": "R",
    "tags": []
   },
   "outputs": [],
   "source": [
    "set_size = function(w, h, factor=1.5) {\n",
    "    s = 1 * factor\n",
    "    options(\n",
    "        repr.plot.width=w * s,\n",
    "        repr.plot.height=h * s,\n",
    "        repr.plot.res=100 / factor,\n",
    "        jupyter.plot_mimetypes='image/png',\n",
    "        jupyter.plot_scale=1\n",
    "    )\n",
    "}"
   ]
  },
  {
   "cell_type": "code",
   "execution_count": 4,
   "id": "22ecfb4b-bfe1-4ac9-9e03-c339070b31d8",
   "metadata": {
    "kernel": "R",
    "tags": []
   },
   "outputs": [
    {
     "name": "stderr",
     "output_type": "stream",
     "text": [
      "Warning message in plot_theme(plot):\n",
      "“\u001b[1m\u001b[22mThe `legend.text.align` theme element is not defined in the element hierarchy.”\n",
      "Warning message in plot_theme(plot):\n",
      "“\u001b[1m\u001b[22mThe `legend.title.align` theme element is not defined in the element hierarchy.”\n",
      "Warning message in plot_theme(plot):\n",
      "“\u001b[1m\u001b[22mThe `legend.text.align` theme element is not defined in the element hierarchy.”\n",
      "Warning message in plot_theme(plot):\n",
      "“\u001b[1m\u001b[22mThe `legend.title.align` theme element is not defined in the element hierarchy.”\n",
      "Warning message in plot_theme(plot):\n",
      "“\u001b[1m\u001b[22mThe `legend.text.align` theme element is not defined in the element hierarchy.”\n",
      "Warning message in plot_theme(plot):\n",
      "“\u001b[1m\u001b[22mThe `legend.title.align` theme element is not defined in the element hierarchy.”\n"
     ]
    },
    {
     "data": {
      "text/html": [
       "<strong>png:</strong> 2"
      ],
      "text/latex": [
       "\\textbf{png:} 2"
      ],
      "text/markdown": [
       "**png:** 2"
      ],
      "text/plain": [
       "png \n",
       "  2 "
      ]
     },
     "metadata": {},
     "output_type": "display_data"
    }
   ],
   "source": [
    "full_snplist <- full_snplist <- c(exome_snplist, hrc_snplist_rsq03, topmed_snplist_rsq03) %>% unique()\n",
    "\n",
    "full_snplist_df <- data.frame(snp = full_snplist) %>% \n",
    "    mutate(ES = ifelse(snp %in% exome_snplist, 1, 0),\n",
    "           HRC = ifelse(snp %in% hrc_snplist_rsq03, 1, 0),\n",
    "           TOPMed = ifelse(snp %in% topmed_snplist_rsq03, 1, 0))\n",
    "\n",
    "dataset = colnames(full_snplist_df)[2:4]\n",
    "full_snplist_df[dataset] = full_snplist_df[dataset] == 1\n",
    "\n",
    "set_size(8,3)\n",
    "size = get_size_mode('exclusive_intersection')\n",
    "\n",
    "upset_rsq03 <-\n",
    "    upset(full_snplist_df, dataset, \n",
    "          name='', \n",
    "          width_ratio=0.2,\n",
    "          base_annotations=list(\n",
    "              'Number of Variants'= intersection_size(text=list(vjust=-1), \n",
    "                                                      text_mapping=aes(label = format(!!size, big.mark = \",\")))\n",
    "              + scale_y_continuous(limits=c(0, 800000), breaks = c(0, 200000, 400000, 600000, 800000), \n",
    "                                   label = c(\"0\", expression(\"2×10\"^5), expression(\"4×10\"^5), \n",
    "                                             expression(\"6×10\"^5), expression(\"8×10\"^5)))\n",
    "          ),\n",
    "          set_sizes=(\n",
    "              upset_set_size()\n",
    "                + geom_bar()\n",
    "                + ylab('Number of Variants')\n",
    "                + scale_y_reverse(breaks = c(0, 200000, 400000, 600000, 800000),\n",
    "                                  label = c(\"0\", expression(\"2×10\"^5), expression(\"4×10\"^5), \n",
    "                                            expression(\"6×10\"^5), expression(\"8×10\"^5)))\n",
    "          ),\n",
    "          sort_intersections=FALSE,\n",
    "          intersections=list(\n",
    "              'ES', 'TOPMed', 'HRC',\n",
    "              c('ES', 'TOPMed'), c('ES', 'HRC'), c('HRC', 'TOPMed'),\n",
    "              c('ES', 'HRC', 'TOPMed')\n",
    "          )\n",
    ")\n",
    "    \n",
    "jpeg(file=\"~/project/git/imputation_brv/analysis/results/upset_rsq03.jpeg\", units=\"cm\", width=22, height=14, res=300)\n",
    "upset_rsq03\n",
    "dev.off()"
   ]
  },
  {
   "cell_type": "code",
   "execution_count": 5,
   "id": "d7bfb2ec-bcb5-4976-bb6e-003deab7379b",
   "metadata": {
    "kernel": "R",
    "tags": []
   },
   "outputs": [
    {
     "name": "stderr",
     "output_type": "stream",
     "text": [
      "Warning message in plot_theme(plot):\n",
      "“\u001b[1m\u001b[22mThe `legend.text.align` theme element is not defined in the element hierarchy.”\n",
      "Warning message in plot_theme(plot):\n",
      "“\u001b[1m\u001b[22mThe `legend.title.align` theme element is not defined in the element hierarchy.”\n",
      "Warning message in plot_theme(plot):\n",
      "“\u001b[1m\u001b[22mThe `legend.text.align` theme element is not defined in the element hierarchy.”\n",
      "Warning message in plot_theme(plot):\n",
      "“\u001b[1m\u001b[22mThe `legend.title.align` theme element is not defined in the element hierarchy.”\n",
      "Warning message in plot_theme(plot):\n",
      "“\u001b[1m\u001b[22mThe `legend.text.align` theme element is not defined in the element hierarchy.”\n",
      "Warning message in plot_theme(plot):\n",
      "“\u001b[1m\u001b[22mThe `legend.title.align` theme element is not defined in the element hierarchy.”\n"
     ]
    },
    {
     "data": {
      "image/png": "[encoded data removed]"
     },
     "metadata": {
      "image/png": {
       "height": 300,
       "width": 800
      }
     },
     "output_type": "display_data"
    }
   ],
   "source": [
    "upset_rsq03"
   ]
  },
  {
   "cell_type": "code",
   "execution_count": 6,
   "id": "3994b614-9676-4f28-a67a-ea705e46bfe6",
   "metadata": {
    "kernel": "R",
    "tags": []
   },
   "outputs": [
    {
     "name": "stderr",
     "output_type": "stream",
     "text": [
      "Warning message in plot_theme(plot):\n",
      "“\u001b[1m\u001b[22mThe `legend.text.align` theme element is not defined in the element hierarchy.”\n",
      "Warning message in plot_theme(plot):\n",
      "“\u001b[1m\u001b[22mThe `legend.title.align` theme element is not defined in the element hierarchy.”\n",
      "Warning message in plot_theme(plot):\n",
      "“\u001b[1m\u001b[22mThe `legend.text.align` theme element is not defined in the element hierarchy.”\n",
      "Warning message in plot_theme(plot):\n",
      "“\u001b[1m\u001b[22mThe `legend.title.align` theme element is not defined in the element hierarchy.”\n",
      "Warning message in plot_theme(plot):\n",
      "“\u001b[1m\u001b[22mThe `legend.text.align` theme element is not defined in the element hierarchy.”\n",
      "Warning message in plot_theme(plot):\n",
      "“\u001b[1m\u001b[22mThe `legend.title.align` theme element is not defined in the element hierarchy.”\n"
     ]
    },
    {
     "data": {
      "text/html": [
       "<strong>png:</strong> 2"
      ],
      "text/latex": [
       "\\textbf{png:} 2"
      ],
      "text/markdown": [
       "**png:** 2"
      ],
      "text/plain": [
       "png \n",
       "  2 "
      ]
     },
     "metadata": {},
     "output_type": "display_data"
    }
   ],
   "source": [
    "full_snplist <- c(exome_snplist, hrc_snplist_rsq08, topmed_snplist_rsq08) %>% unique()\n",
    "\n",
    "full_snplist_df <- data.frame(snp = full_snplist) %>% \n",
    "    mutate(ES = ifelse(snp %in% exome_snplist, 1, 0),\n",
    "           HRC = ifelse(snp %in% hrc_snplist_rsq08, 1, 0),\n",
    "           TOPMed = ifelse(snp %in% topmed_snplist_rsq08, 1, 0))\n",
    "\n",
    "dataset = colnames(full_snplist_df)[2:4]\n",
    "full_snplist_df[dataset] = full_snplist_df[dataset] == 1\n",
    "size = get_size_mode('exclusive_intersection')\n",
    "\n",
    "upset_rsq08 <-\n",
    "    upset(full_snplist_df, dataset, \n",
    "          name='', \n",
    "          width_ratio=0.2,\n",
    "          base_annotations=list(\n",
    "              'Number of Variants'= intersection_size(text=list(vjust=-1), \n",
    "                                                      text_mapping=aes(label = format(!!size, big.mark = \",\")))\n",
    "              + scale_y_continuous(limits=c(0, 800000), breaks = c(0, 200000, 400000, 600000, 800000), \n",
    "                                   label = c(\"0\", expression(\"2×10\"^5), expression(\"4×10\"^5), \n",
    "                                             expression(\"6×10\"^5), expression(\"8×10\"^5)))\n",
    "          ),\n",
    "          set_sizes=(\n",
    "              upset_set_size()\n",
    "                + geom_bar()\n",
    "                + ylab('Number of Variants')\n",
    "                + scale_y_reverse(breaks = c(0, 200000, 400000, 600000, 800000),\n",
    "                                  label = c(\"0\", expression(\"2×10\"^5), expression(\"4×10\"^5), \n",
    "                                            expression(\"6×10\"^5), expression(\"8×10\"^5)))\n",
    "          ),\n",
    "          sort_intersections=FALSE,\n",
    "          intersections=list(\n",
    "              'ES', 'TOPMed', 'HRC',\n",
    "              c('ES', 'TOPMed'), c('ES', 'HRC'), c('HRC', 'TOPMed'),\n",
    "              c('ES', 'HRC', 'TOPMed')\n",
    "          )\n",
    ")\n",
    "    \n",
    "jpeg(file=\"~/project/git/imputation_brv/analysis/results/upset_rsq08.jpeg\", units=\"cm\", width=22, height=14, res=300)\n",
    "upset_rsq08\n",
    "dev.off()"
   ]
  },
  {
   "cell_type": "code",
   "execution_count": 7,
   "id": "af971985-7846-451c-ae35-edc0104b4deb",
   "metadata": {
    "kernel": "R",
    "tags": []
   },
   "outputs": [
    {
     "name": "stderr",
     "output_type": "stream",
     "text": [
      "Warning message in plot_theme(plot):\n",
      "“\u001b[1m\u001b[22mThe `legend.text.align` theme element is not defined in the element hierarchy.”\n",
      "Warning message in plot_theme(plot):\n",
      "“\u001b[1m\u001b[22mThe `legend.title.align` theme element is not defined in the element hierarchy.”\n",
      "Warning message in plot_theme(plot):\n",
      "“\u001b[1m\u001b[22mThe `legend.text.align` theme element is not defined in the element hierarchy.”\n",
      "Warning message in plot_theme(plot):\n",
      "“\u001b[1m\u001b[22mThe `legend.title.align` theme element is not defined in the element hierarchy.”\n",
      "Warning message in plot_theme(plot):\n",
      "“\u001b[1m\u001b[22mThe `legend.text.align` theme element is not defined in the element hierarchy.”\n",
      "Warning message in plot_theme(plot):\n",
      "“\u001b[1m\u001b[22mThe `legend.title.align` theme element is not defined in the element hierarchy.”\n"
     ]
    },
    {
     "data": {
      "image/png": "[encoded data removed]"
     },
     "metadata": {
      "image/png": {
       "height": 300,
       "width": 800
      }
     },
     "output_type": "display_data"
    }
   ],
   "source": [
    "upset_rsq08"
   ]
  },
  {
   "cell_type": "code",
   "execution_count": 23,
   "id": "3103879e-3476-4bf9-9d03-3af14976455d",
   "metadata": {
    "kernel": "R",
    "tags": []
   },
   "outputs": [],
   "source": [
    "exome_chr1 <- fread(\"./exome/ukb23156_c1.merged.filtered.hg38.hg38_multianno_formatted_sel_col_maf001_LOF_missense_all_cadd.csv.gz\") %>% filter(Function == \"LoF\" & PHRED >= 20) %>% pull(ID)\n",
    "exome_chr2 <- fread(\"./exome/ukb23156_c2.merged.filtered.hg38.hg38_multianno_formatted_sel_col_maf001_LOF_missense_all_cadd.csv.gz\") %>% filter(Function == \"LoF\" & PHRED >= 20) %>% pull(ID)\n",
    "\n",
    "hrc_chr1_rsq03 <- fread(\"./hrc/hrc_chr1_rsq03_hg19_hg38_maf001_LOF_missense_all_cadd_annot.csv.gz\") %>% filter(Function == \"LoF\" & PHRED >= 20) %>% pull(ID)\n",
    "hrc_chr2_rsq03 <- fread(\"./hrc/hrc_chr2_rsq03_hg19_hg38_maf001_LOF_missense_all_cadd_annot.csv.gz\") %>% filter(Function == \"LoF\" & PHRED >= 20) %>% pull(ID)\n",
    "\n",
    "topmed_chr1_rsq03 <- fread(\"./topmed_v3/topmed_chr1_rsq03_hg38_hg38_maf001_LOF_missense_all_cadd_annot.csv.gz\") %>% filter(Function == \"LoF\" & PHRED >= 20) %>% pull(ID)\n",
    "topmed_chr2_rsq03 <- fread(\"./topmed_v3/topmed_chr2_rsq03_hg38_hg38_maf001_LOF_missense_all_cadd_annot.csv.gz\") %>% filter(Function == \"LoF\" & PHRED >= 20) %>% pull(ID)\n",
    "\n",
    "hrc_chr1_rsq08 <- fread(\"./hrc/hrc_chr1_rsq08_hg19_hg38_maf001_LOF_missense_all_cadd_annot.csv.gz\") %>% filter(Function == \"LoF\" & PHRED >= 20) %>% pull(ID)\n",
    "hrc_chr2_rsq08 <- fread(\"./hrc/hrc_chr2_rsq08_hg19_hg38_maf001_LOF_missense_all_cadd_annot.csv.gz\") %>% filter(Function == \"LoF\" & PHRED >= 20) %>% pull(ID)\n",
    "\n",
    "topmed_chr1_rsq08 <- fread(\"./topmed_v3/topmed_chr1_rsq08_hg38_hg38_maf001_LOF_missense_all_cadd_annot.csv.gz\") %>% filter(Function == \"LoF\" & PHRED >= 20) %>% pull(ID)\n",
    "topmed_chr2_rsq08 <- fread(\"./topmed_v3/topmed_chr2_rsq08_hg38_hg38_maf001_LOF_missense_all_cadd_annot.csv.gz\") %>% filter(Function == \"LoF\" & PHRED >= 20) %>% pull(ID)\n",
    "\n",
    "exome_snplist <- c(exome_chr1, exome_chr2)\n",
    "hrc_snplist_rsq03 <- c(hrc_chr1_rsq03, hrc_chr2_rsq03)\n",
    "topmed_snplist_rsq03 <- c(topmed_chr1_rsq03, topmed_chr2_rsq03)\n",
    "hrc_snplist_rsq08 <- c(hrc_chr1_rsq08, hrc_chr2_rsq08)\n",
    "topmed_snplist_rsq08 <- c(topmed_chr1_rsq08, topmed_chr2_rsq08)"
   ]
  },
  {
   "cell_type": "code",
   "execution_count": 24,
   "id": "6b111b27-00df-4d2a-9ec5-47b649121efc",
   "metadata": {
    "kernel": "R",
    "tags": []
   },
   "outputs": [
    {
     "name": "stderr",
     "output_type": "stream",
     "text": [
      "Warning message in plot_theme(plot):\n",
      "“\u001b[1m\u001b[22mThe `legend.text.align` theme element is not defined in the element hierarchy.”\n",
      "Warning message in plot_theme(plot):\n",
      "“\u001b[1m\u001b[22mThe `legend.title.align` theme element is not defined in the element hierarchy.”\n",
      "Warning message in plot_theme(plot):\n",
      "“\u001b[1m\u001b[22mThe `legend.text.align` theme element is not defined in the element hierarchy.”\n",
      "Warning message in plot_theme(plot):\n",
      "“\u001b[1m\u001b[22mThe `legend.title.align` theme element is not defined in the element hierarchy.”\n",
      "Warning message in plot_theme(plot):\n",
      "“\u001b[1m\u001b[22mThe `legend.text.align` theme element is not defined in the element hierarchy.”\n",
      "Warning message in plot_theme(plot):\n",
      "“\u001b[1m\u001b[22mThe `legend.title.align` theme element is not defined in the element hierarchy.”\n"
     ]
    },
    {
     "data": {
      "text/html": [
       "<strong>png:</strong> 2"
      ],
      "text/latex": [
       "\\textbf{png:} 2"
      ],
      "text/markdown": [
       "**png:** 2"
      ],
      "text/plain": [
       "png \n",
       "  2 "
      ]
     },
     "metadata": {},
     "output_type": "display_data"
    }
   ],
   "source": [
    "full_snplist <- full_snplist <- c(exome_snplist, hrc_snplist_rsq03, topmed_snplist_rsq03) %>% unique()\n",
    "\n",
    "full_snplist_df <- data.frame(snp = full_snplist) %>% \n",
    "    mutate(ES = ifelse(snp %in% exome_snplist, 1, 0),\n",
    "           HRC = ifelse(snp %in% hrc_snplist_rsq03, 1, 0),\n",
    "           TOPMed = ifelse(snp %in% topmed_snplist_rsq03, 1, 0))\n",
    "\n",
    "dataset = colnames(full_snplist_df)[2:4]\n",
    "full_snplist_df[dataset] = full_snplist_df[dataset] == 1\n",
    "\n",
    "set_size(8,3)\n",
    "size = get_size_mode('exclusive_intersection')\n",
    "\n",
    "upset_rsq03_cadd <-\n",
    "    upset(full_snplist_df, dataset, \n",
    "          name='', \n",
    "          width_ratio=0.2,\n",
    "          base_annotations=list(\n",
    "              'Number of Variants'= intersection_size(text=list(vjust=-1), \n",
    "                                                      text_mapping=aes(label = format(!!size, big.mark = \",\")))\n",
    "              + scale_y_continuous(limits=c(0, 50000), breaks = c(0, 10000, 20000, 30000, 40000, 50000), \n",
    "                                   label = c(\"0\", expression(\"1×10\"^4), expression(\"2×10\"^4), \n",
    "                                             expression(\"3×10\"^4), expression(\"4×10\"^4), expression(\"5×10\"^4)))\n",
    "          ),\n",
    "          set_sizes=(\n",
    "              upset_set_size()\n",
    "                + geom_bar()\n",
    "                + ylab('Number of Variants')\n",
    "                + scale_y_reverse(breaks = c(0, 15000, 30000, 45000, 50000),\n",
    "                                  label = c(\"0\", expression(\"1.5×10\"^4), expression(\"3×10\"^4), \n",
    "                                             expression(\"4.5×10\"^4), expression(\"5×10\"^4)))\n",
    "          ),\n",
    "          sort_intersections=FALSE,\n",
    "          intersections=list(\n",
    "              'ES', 'TOPMed', 'HRC',\n",
    "              c('ES', 'TOPMed'), c('ES', 'HRC'), c('HRC', 'TOPMed'),\n",
    "              c('ES', 'HRC', 'TOPMed')\n",
    "          )\n",
    ")\n",
    "    \n",
    "jpeg(file=\"~/project/git/imputation_brv/analysis/results/upset_lof_cadd_rsq03.jpeg\", units=\"cm\", width=22, height=14, res=300)\n",
    "upset_rsq03_cadd\n",
    "dev.off()"
   ]
  },
  {
   "cell_type": "code",
   "execution_count": 25,
   "id": "3a2f4f78-0bb1-492e-aad1-d8a3d149b767",
   "metadata": {
    "kernel": "R",
    "tags": []
   },
   "outputs": [
    {
     "name": "stderr",
     "output_type": "stream",
     "text": [
      "Warning message in plot_theme(plot):\n",
      "“\u001b[1m\u001b[22mThe `legend.text.align` theme element is not defined in the element hierarchy.”\n",
      "Warning message in plot_theme(plot):\n",
      "“\u001b[1m\u001b[22mThe `legend.title.align` theme element is not defined in the element hierarchy.”\n",
      "Warning message in plot_theme(plot):\n",
      "“\u001b[1m\u001b[22mThe `legend.text.align` theme element is not defined in the element hierarchy.”\n",
      "Warning message in plot_theme(plot):\n",
      "“\u001b[1m\u001b[22mThe `legend.title.align` theme element is not defined in the element hierarchy.”\n",
      "Warning message in plot_theme(plot):\n",
      "“\u001b[1m\u001b[22mThe `legend.text.align` theme element is not defined in the element hierarchy.”\n",
      "Warning message in plot_theme(plot):\n",
      "“\u001b[1m\u001b[22mThe `legend.title.align` theme element is not defined in the element hierarchy.”\n"
     ]
    },
    {
     "data": {
      "image/png": "[encoded data removed]"
     },
     "metadata": {
      "image/png": {
       "height": 300,
       "width": 800
      }
     },
     "output_type": "display_data"
    }
   ],
   "source": [
    "upset_rsq03_cadd"
   ]
  },
  {
   "cell_type": "code",
   "execution_count": 26,
   "id": "55992a19-3487-49ce-a857-be9cf1bd6b88",
   "metadata": {
    "kernel": "R",
    "tags": []
   },
   "outputs": [
    {
     "name": "stderr",
     "output_type": "stream",
     "text": [
      "Warning message in plot_theme(plot):\n",
      "“\u001b[1m\u001b[22mThe `legend.text.align` theme element is not defined in the element hierarchy.”\n",
      "Warning message in plot_theme(plot):\n",
      "“\u001b[1m\u001b[22mThe `legend.title.align` theme element is not defined in the element hierarchy.”\n",
      "Warning message in plot_theme(plot):\n",
      "“\u001b[1m\u001b[22mThe `legend.text.align` theme element is not defined in the element hierarchy.”\n",
      "Warning message in plot_theme(plot):\n",
      "“\u001b[1m\u001b[22mThe `legend.title.align` theme element is not defined in the element hierarchy.”\n",
      "Warning message in plot_theme(plot):\n",
      "“\u001b[1m\u001b[22mThe `legend.text.align` theme element is not defined in the element hierarchy.”\n",
      "Warning message in plot_theme(plot):\n",
      "“\u001b[1m\u001b[22mThe `legend.title.align` theme element is not defined in the element hierarchy.”\n"
     ]
    },
    {
     "data": {
      "text/html": [
       "<strong>png:</strong> 2"
      ],
      "text/latex": [
       "\\textbf{png:} 2"
      ],
      "text/markdown": [
       "**png:** 2"
      ],
      "text/plain": [
       "png \n",
       "  2 "
      ]
     },
     "metadata": {},
     "output_type": "display_data"
    }
   ],
   "source": [
    "full_snplist <- full_snplist <- c(exome_snplist, hrc_snplist_rsq08, topmed_snplist_rsq08) %>% unique()\n",
    "\n",
    "full_snplist_df <- data.frame(snp = full_snplist) %>% \n",
    "    mutate(ES = ifelse(snp %in% exome_snplist, 1, 0),\n",
    "           HRC = ifelse(snp %in% hrc_snplist_rsq08, 1, 0),\n",
    "           TOPMed = ifelse(snp %in% topmed_snplist_rsq08, 1, 0))\n",
    "\n",
    "dataset = colnames(full_snplist_df)[2:4]\n",
    "full_snplist_df[dataset] = full_snplist_df[dataset] == 1\n",
    "\n",
    "set_size(8,3)\n",
    "size = get_size_mode('exclusive_intersection')\n",
    "\n",
    "upset_rsq08_cadd <-\n",
    "    upset(full_snplist_df, dataset, \n",
    "          name='', \n",
    "          width_ratio=0.2,\n",
    "          base_annotations=list(\n",
    "              'Number of Variants'= intersection_size(text=list(vjust=-1), \n",
    "                                                      text_mapping=aes(label = format(!!size, big.mark = \",\")))\n",
    "              + scale_y_continuous(limits=c(0, 50000), breaks = c(0, 10000, 20000, 30000, 40000, 50000), \n",
    "                                   label = c(\"0\", expression(\"1×10\"^4), expression(\"2×10\"^4), \n",
    "                                             expression(\"3×10\"^4), expression(\"4×10\"^4), expression(\"5×10\"^4)))\n",
    "          ),\n",
    "          set_sizes=(\n",
    "              upset_set_size()\n",
    "                + geom_bar()\n",
    "                + ylab('Number of Variants')\n",
    "                + scale_y_reverse(breaks = c(0, 15000, 30000, 45000, 50000),\n",
    "                                  label = c(\"0\", expression(\"1.5×10\"^4), expression(\"3×10\"^4), \n",
    "                                             expression(\"4.5×10\"^4), expression(\"5×10\"^4)))\n",
    "          ),\n",
    "          sort_intersections=FALSE,\n",
    "          intersections=list(\n",
    "              'ES', 'TOPMed', 'HRC',\n",
    "              c('ES', 'TOPMed'), c('ES', 'HRC'), c('HRC', 'TOPMed'),\n",
    "              c('ES', 'HRC', 'TOPMed')\n",
    "          )\n",
    ")\n",
    "    \n",
    "jpeg(file=\"~/project/git/imputation_brv/analysis/results/upset_lof_cadd_rsq08.jpeg\", units=\"cm\", width=22, height=14, res=300)\n",
    "upset_rsq08_cadd\n",
    "dev.off()"
   ]
  },
  {
   "cell_type": "code",
   "execution_count": 27,
   "id": "53edad7c-5fd4-4698-bd57-1c00d4d0775b",
   "metadata": {
    "kernel": "R",
    "tags": []
   },
   "outputs": [
    {
     "name": "stderr",
     "output_type": "stream",
     "text": [
      "Warning message in plot_theme(plot):\n",
      "“\u001b[1m\u001b[22mThe `legend.text.align` theme element is not defined in the element hierarchy.”\n",
      "Warning message in plot_theme(plot):\n",
      "“\u001b[1m\u001b[22mThe `legend.title.align` theme element is not defined in the element hierarchy.”\n",
      "Warning message in plot_theme(plot):\n",
      "“\u001b[1m\u001b[22mThe `legend.text.align` theme element is not defined in the element hierarchy.”\n",
      "Warning message in plot_theme(plot):\n",
      "“\u001b[1m\u001b[22mThe `legend.title.align` theme element is not defined in the element hierarchy.”\n",
      "Warning message in plot_theme(plot):\n",
      "“\u001b[1m\u001b[22mThe `legend.text.align` theme element is not defined in the element hierarchy.”\n",
      "Warning message in plot_theme(plot):\n",
      "“\u001b[1m\u001b[22mThe `legend.title.align` theme element is not defined in the element hierarchy.”\n"
     ]
    },
    {
     "data": {
      "image/png": "[encoded data removed]"
     },
     "metadata": {
      "image/png": {
       "height": 300,
       "width": 800
      }
     },
     "output_type": "display_data"
    }
   ],
   "source": [
    "upset_rsq08_cadd"
   ]
  },
  {
   "cell_type": "markdown",
   "id": "08194231-f1f5-4896-a2f1-5ac134570cfd",
   "metadata": {
    "kernel": "R"
   },
   "source": [
    "## Variant MAF bar plot"
   ]
  },
  {
   "cell_type": "code",
   "execution_count": 28,
   "id": "43002919-d175-438f-97f8-c75013bd8917",
   "metadata": {
    "kernel": "R",
    "tags": []
   },
   "outputs": [],
   "source": [
    "library(dplyr)\n",
    "library(data.table)\n",
    "library(ggplot2)\n",
    "\n",
    "setwd(\"/mnt/vast/hpc/csg/tl3031/imputation-rvtest/analysis/imputation_aggregated_analysis\")"
   ]
  },
  {
   "cell_type": "code",
   "execution_count": 29,
   "id": "1c30905e-345e-4921-a38a-88de63b3b029",
   "metadata": {
    "kernel": "R",
    "tags": []
   },
   "outputs": [],
   "source": [
    "exome_chr1 <- fread(\"./exome/ukb23156_c1.merged.filtered.hg38.hg38_multianno_formatted_sel_col_maf001_LOF_missense_all.csv.gz\")\n",
    "exome_chr2 <- fread(\"./exome/ukb23156_c2.merged.filtered.hg38.hg38_multianno_formatted_sel_col_maf001_LOF_missense_all.csv.gz\")"
   ]
  },
  {
   "cell_type": "code",
   "execution_count": 30,
   "id": "9a5403ba-7520-4163-b3f4-ebb869d30282",
   "metadata": {
    "kernel": "R",
    "tags": []
   },
   "outputs": [],
   "source": [
    "hrc_03_chr1 <- fread(\"./hrc/hrc_chr1_rsq03_hg19_hg38_maf001_LOF_missense_all_annot.csv.gz\")\n",
    "hrc_03_chr2 <- fread(\"./hrc/hrc_chr2_rsq03_hg19_hg38_maf001_LOF_missense_all_annot.csv.gz\")\n",
    "hrc_08_chr1 <- fread(\"./hrc/hrc_chr1_rsq08_hg19_hg38_maf001_LOF_missense_all_annot.csv.gz\")\n",
    "hrc_08_chr2 <- fread(\"./hrc/hrc_chr2_rsq08_hg19_hg38_maf001_LOF_missense_all_annot.csv.gz\")"
   ]
  },
  {
   "cell_type": "code",
   "execution_count": 31,
   "id": "bb459a9c-c3a3-42ad-9179-b0191a0dadd6",
   "metadata": {
    "kernel": "R",
    "tags": []
   },
   "outputs": [],
   "source": [
    "topmed_03_chr1 <- fread(\"./topmed_v3/topmed_chr1_rsq03_hg38_hg38_maf001_LOF_missense_all_annot.csv.gz\")\n",
    "topmed_03_chr2 <- fread(\"./topmed_v3/topmed_chr2_rsq03_hg38_hg38_maf001_LOF_missense_all_annot.csv.gz\")\n",
    "topmed_08_chr1 <- fread(\"./topmed_v3/topmed_chr1_rsq08_hg38_hg38_maf001_LOF_missense_all_annot.csv.gz\")\n",
    "topmed_08_chr2 <- fread(\"./topmed_v3/topmed_chr2_rsq08_hg38_hg38_maf001_LOF_missense_all_annot.csv.gz\")"
   ]
  },
  {
   "cell_type": "code",
   "execution_count": 32,
   "id": "45d55d84-c99b-412b-9fcd-7034587975c5",
   "metadata": {
    "kernel": "R",
    "tags": []
   },
   "outputs": [],
   "source": [
    "hrc_topmed_rsq03 <- fread(\"./hrc_topmed/hrc_topmed_v3_168206ids_rsq03_maf001_all_annot.csv.gz\")\n",
    "hrc_topmed_rsq08 <- fread(\"./hrc_topmed/hrc_topmed_v3_168206ids_rsq08_maf001_all_annot.csv.gz\")"
   ]
  },
  {
   "cell_type": "code",
   "execution_count": 33,
   "id": "7d5f490d-006e-4048-a556-b0297aed8943",
   "metadata": {
    "kernel": "R",
    "tags": []
   },
   "outputs": [],
   "source": [
    "exome_chr1[exome_chr1 == \".\" & !is.na(exome_chr1)] <- NA\n",
    "exome_chr2[exome_chr2 == \".\" & !is.na(exome_chr2)] <- NA\n",
    "\n",
    "hrc_03_chr1[hrc_03_chr1 == \".\" & !is.na(hrc_03_chr1)] <- NA\n",
    "hrc_03_chr2[hrc_03_chr2 == \".\" & !is.na(hrc_03_chr2)] <- NA\n",
    "\n",
    "hrc_08_chr1[hrc_08_chr1 == \".\" & !is.na(hrc_08_chr1)] <- NA\n",
    "hrc_08_chr2[hrc_08_chr2 == \".\" & !is.na(hrc_08_chr2)] <- NA\n",
    "\n",
    "topmed_03_chr1[topmed_03_chr1 == \".\" & !is.na(topmed_03_chr1)] <- NA\n",
    "topmed_03_chr2[topmed_03_chr2 == \".\" & !is.na(topmed_03_chr2)] <- NA\n",
    "\n",
    "topmed_08_chr1[topmed_08_chr1 == \".\" & !is.na(topmed_08_chr1)] <- NA\n",
    "topmed_08_chr2[topmed_08_chr2 == \".\" & !is.na(topmed_08_chr2)] <- NA\n",
    "\n",
    "hrc_topmed_rsq03[hrc_topmed_rsq03 == \".\" & !is.na(hrc_topmed_rsq03)] <- NA\n",
    "hrc_topmed_rsq08[hrc_topmed_rsq08 == \".\" & !is.na(hrc_topmed_rsq08)] <- NA"
   ]
  },
  {
   "cell_type": "code",
   "execution_count": 34,
   "id": "008b7d51-30db-4fd9-bf12-a50fb1c9ad6c",
   "metadata": {
    "kernel": "R",
    "tags": []
   },
   "outputs": [],
   "source": [
    "exome <- rbind(exome_chr1, exome_chr2) %>% mutate(source = \"ES\")\n",
    "hrc_03 <- rbind(hrc_03_chr1, hrc_03_chr2) %>% mutate(source = \"HRC (0.3)\")\n",
    "hrc_08 <- rbind(hrc_08_chr1, hrc_08_chr2) %>% mutate(source = \"HRC (0.8)\")\n",
    "topmed_03 <- rbind(topmed_03_chr1, topmed_03_chr2) %>% mutate(source = \"TOPMed (0.3)\")\n",
    "topmed_08 <- rbind(topmed_08_chr1, topmed_08_chr2) %>% mutate(source = \"TOPMed (0.8)\")\n",
    "hrc_topmed_rsq03 <- hrc_topmed_rsq03 %>% mutate(source = \"HRC + TOPMed (0.3)\")\n",
    "hrc_topmed_rsq08 <- hrc_topmed_rsq08 %>% mutate(source = \"HRC + TOPMed (0.8)\")"
   ]
  },
  {
   "cell_type": "code",
   "execution_count": 35,
   "id": "b85d971a-4b20-434a-93c6-c0eb22c47894",
   "metadata": {
    "kernel": "R",
    "tags": []
   },
   "outputs": [],
   "source": [
    "matchlist <- list(\"ES\", \"HRC (0.3)\", \"HRC (0.8)\", \"TOPMed (0.3)\", \"TOPMed (0.8)\", \"HRC + TOPMed (0.3)\", \"HRC + TOPMed (0.8)\")"
   ]
  },
  {
   "cell_type": "markdown",
   "id": "f6eb359f-aa37-4700-a5ec-1d221ab245b5",
   "metadata": {
    "kernel": "R"
   },
   "source": [
    "### Figure 1 - Panels for All, LoF, missense, and splice site"
   ]
  },
  {
   "cell_type": "code",
   "execution_count": 36,
   "id": "dba9b014-fcee-4e8b-97d4-f82c26b0d3c3",
   "metadata": {
    "kernel": "R",
    "tags": []
   },
   "outputs": [],
   "source": [
    "category_count_df_03 <- rbind(exome %>% select(MAF_nfe_exome, source), \n",
    "                              hrc_03 %>% select(MAF_nfe_exome, source), \n",
    "                              topmed_03 %>% select(MAF_nfe_exome, source),\n",
    "                              hrc_topmed_rsq03 %>% select(MAF_nfe_exome, source)) %>% \n",
    "                mutate(af_category = case_when(\n",
    "                        MAF_nfe_exome > 0.00001 & MAF_nfe_exome <= 0.0001 ~ \"1E-5 < MAF <= 1E-4\",\n",
    "                        MAF_nfe_exome > 0.0001 & MAF_nfe_exome <= 0.001 ~ \"1E-4 < MAF <= 0.001\",\n",
    "                        MAF_nfe_exome > 0.001 & MAF_nfe_exome <= 0.005 ~ \"0.001 < MAF <= 0.005\",\n",
    "                        MAF_nfe_exome > 0.005 & MAF_nfe_exome < 0.01 ~ \"0.005 < MAF < 0.01\",\n",
    "                        .default = \"MAF <= 1E-5\")) %>%\n",
    "                mutate(af_category = factor(af_category, levels = rev(c(\"MAF <= 1E-5\", \n",
    "                                                                    \"1E-5 < MAF <= 1E-4\", \n",
    "                                                                    \"1E-4 < MAF <= 0.001\", \n",
    "                                                                    \"0.001 < MAF <= 0.005\",\n",
    "                                                                    \"0.005 < MAF < 0.01\")))) %>%\n",
    "                group_by(source, af_category) %>% \n",
    "                count()\n",
    "\n",
    "category_count_df_08 <- rbind(hrc_08 %>% select(MAF_nfe_exome, source), \n",
    "                              topmed_08 %>% select(MAF_nfe_exome, source),\n",
    "                              hrc_topmed_rsq08 %>% select(MAF_nfe_exome, source)) %>% \n",
    "                mutate(af_category = case_when(\n",
    "                        MAF_nfe_exome > 0.00001 & MAF_nfe_exome <= 0.0001 ~ \"1E-5 < MAF <= 1E-4\",\n",
    "                        MAF_nfe_exome > 0.0001 & MAF_nfe_exome <= 0.001 ~ \"1E-4 < MAF <= 0.001\",\n",
    "                        MAF_nfe_exome > 0.001 & MAF_nfe_exome <= 0.005 ~ \"0.001 < MAF <= 0.005\",\n",
    "                        MAF_nfe_exome > 0.005 & MAF_nfe_exome < 0.01 ~ \"0.005 < MAF < 0.01\",\n",
    "                        .default = \"MAF <= 1E-5\")) %>%\n",
    "                mutate(af_category = factor(af_category, levels = rev(c(\"MAF <= 1E-5\", \n",
    "                                                                    \"1E-5 < MAF <= 1E-4\", \n",
    "                                                                    \"1E-4 < MAF <= 0.001\", \n",
    "                                                                    \"0.001 < MAF <= 0.005\",\n",
    "                                                                    \"0.005 < MAF < 0.01\")))) %>%\n",
    "                group_by(source, af_category) %>% \n",
    "                count()"
   ]
  },
  {
   "cell_type": "code",
   "execution_count": 37,
   "id": "55f5828b-f382-45ff-a925-1e68b1cb5b0f",
   "metadata": {
    "kernel": "R",
    "tags": []
   },
   "outputs": [],
   "source": [
    "category_count_df_03_lof <- rbind(exome %>% filter(Function == \"LoF\") %>% select(MAF_nfe_exome, source), \n",
    "                              hrc_03 %>% filter(Function == \"LoF\")  %>% select(MAF_nfe_exome, source), \n",
    "                              topmed_03 %>% filter(Function == \"LoF\") %>% select(MAF_nfe_exome, source),\n",
    "                              hrc_topmed_rsq03 %>% filter(Function == \"LoF\") %>% select(MAF_nfe_exome, source)) %>% \n",
    "                mutate(af_category = case_when(\n",
    "                        MAF_nfe_exome > 0.00001 & MAF_nfe_exome <= 0.0001 ~ \"1E-5 < MAF <= 1E-4\",\n",
    "                        MAF_nfe_exome > 0.0001 & MAF_nfe_exome <= 0.001 ~ \"1E-4 < MAF <= 0.001\",\n",
    "                        MAF_nfe_exome > 0.001 & MAF_nfe_exome <= 0.005 ~ \"0.001 < MAF <= 0.005\",\n",
    "                        MAF_nfe_exome > 0.005 & MAF_nfe_exome < 0.01 ~ \"0.005 < MAF < 0.01\",\n",
    "                        .default = \"MAF <= 1E-5\")) %>%\n",
    "                mutate(af_category = factor(af_category, levels = rev(c(\"MAF <= 1E-5\", \n",
    "                                                                    \"1E-5 < MAF <= 1E-4\", \n",
    "                                                                    \"1E-4 < MAF <= 0.001\",\n",
    "                                                                    \"0.001 < MAF <= 0.005\",\n",
    "                                                                    \"0.005 < MAF < 0.01\")))) %>%\n",
    "                group_by(source, af_category) %>% \n",
    "                count()\n",
    "                \n",
    "category_count_df_08_lof <- rbind(hrc_08 %>% filter(Function == \"LoF\") %>% select(MAF_nfe_exome, source), \n",
    "                              topmed_08 %>% filter(Function == \"LoF\") %>% select(MAF_nfe_exome, source),\n",
    "                              hrc_topmed_rsq08 %>% filter(Function == \"LoF\") %>% select(MAF_nfe_exome, source)) %>% \n",
    "                mutate(af_category = case_when(\n",
    "                        MAF_nfe_exome > 0.00001 & MAF_nfe_exome <= 0.0001 ~ \"1E-5 < MAF <= 1E-4\",\n",
    "                        MAF_nfe_exome > 0.0001 & MAF_nfe_exome <= 0.001 ~ \"1E-4 < MAF <= 0.001\",\n",
    "                        MAF_nfe_exome > 0.001 & MAF_nfe_exome <= 0.005 ~ \"0.001 < MAF <= 0.005\",\n",
    "                        MAF_nfe_exome > 0.005 & MAF_nfe_exome < 0.01 ~ \"0.005 < MAF < 0.01\",\n",
    "                        .default = \"MAF <= 1E-5\")) %>%\n",
    "                mutate(af_category = factor(af_category, levels = rev(c(\"MAF <= 1E-5\", \n",
    "                                                                    \"1E-5 < MAF <= 1E-4\", \n",
    "                                                                    \"1E-4 < MAF <= 0.001\",\n",
    "                                                                    \"0.001 < MAF <= 0.005\",\n",
    "                                                                    \"0.005 < MAF < 0.01\")))) %>%\n",
    "                group_by(source, af_category) %>% \n",
    "                count()"
   ]
  },
  {
   "cell_type": "code",
   "execution_count": 38,
   "id": "7c08c46b-4bde-454c-b60b-703ac150332f",
   "metadata": {
    "kernel": "R",
    "tags": []
   },
   "outputs": [],
   "source": [
    "category_count_df_03_missense <- rbind(exome %>% filter(Function == \"missense\") %>% select(MAF_nfe_exome, source), \n",
    "                              hrc_03 %>% filter(Function == \"missense\")  %>% select(MAF_nfe_exome, source), \n",
    "                              topmed_03 %>% filter(Function == \"missense\") %>% select(MAF_nfe_exome, source),\n",
    "                              hrc_topmed_rsq03 %>% filter(Function == \"missense\") %>% select(MAF_nfe_exome, source)) %>% \n",
    "                mutate(af_category = case_when(\n",
    "                        MAF_nfe_exome > 0.00001 & MAF_nfe_exome <= 0.0001 ~ \"1E-5 < MAF <= 1E-4\",\n",
    "                        MAF_nfe_exome > 0.0001 & MAF_nfe_exome <= 0.001 ~ \"1E-4 < MAF <= 0.001\",\n",
    "                        MAF_nfe_exome > 0.001 & MAF_nfe_exome <= 0.005 ~ \"0.001 < MAF <= 0.005\",\n",
    "                        MAF_nfe_exome > 0.005 & MAF_nfe_exome < 0.01 ~ \"0.005 < MAF < 0.01\",\n",
    "                        .default = \"MAF <= 1E-5\")) %>%\n",
    "                mutate(af_category = factor(af_category, levels = rev(c(\"MAF <= 1E-5\", \n",
    "                                                                    \"1E-5 < MAF <= 1E-4\", \n",
    "                                                                    \"1E-4 < MAF <= 0.001\",\n",
    "                                                                    \"0.001 < MAF <= 0.005\",\n",
    "                                                                    \"0.005 < MAF < 0.01\")))) %>%\n",
    "                group_by(source, af_category) %>% \n",
    "                count()\n",
    "                \n",
    "category_count_df_08_missense <- rbind(hrc_08 %>% filter(Function == \"missense\") %>% select(MAF_nfe_exome, source), \n",
    "                              topmed_08 %>% filter(Function == \"missense\") %>% select(MAF_nfe_exome, source),\n",
    "                              hrc_topmed_rsq08 %>% filter(Function == \"missense\") %>% select(MAF_nfe_exome, source)) %>% \n",
    "                mutate(af_category = case_when(\n",
    "                        MAF_nfe_exome > 0.00001 & MAF_nfe_exome <= 0.0001 ~ \"1E-5 < MAF <= 1E-4\",\n",
    "                        MAF_nfe_exome > 0.0001 & MAF_nfe_exome <= 0.001 ~ \"1E-4 < MAF <= 0.001\",\n",
    "                        MAF_nfe_exome > 0.001 & MAF_nfe_exome <= 0.005 ~ \"0.001 < MAF <= 0.005\",\n",
    "                        MAF_nfe_exome > 0.005 & MAF_nfe_exome < 0.01 ~ \"0.005 < MAF < 0.01\",\n",
    "                        .default = \"MAF <= 1E-5\")) %>%\n",
    "                mutate(af_category = factor(af_category, levels = rev(c(\"MAF <= 1E-5\", \n",
    "                                                                    \"1E-5 < MAF <= 1E-4\", \n",
    "                                                                    \"1E-4 < MAF <= 0.001\",\n",
    "                                                                    \"0.001 < MAF <= 0.005\",\n",
    "                                                                    \"0.005 < MAF < 0.01\")))) %>%\n",
    "                group_by(source, af_category) %>% \n",
    "                count()"
   ]
  },
  {
   "cell_type": "code",
   "execution_count": 39,
   "id": "cf1e1dda-e956-464c-abcc-2ca214db1307",
   "metadata": {
    "kernel": "R",
    "tags": []
   },
   "outputs": [],
   "source": [
    "category_count_df_03_missense_cadd <- rbind(exome %>% filter(Function == \"missense\" & PHRED >= 20) %>% select(MAF_nfe_exome, source), \n",
    "                              hrc_03 %>% filter(Function == \"missense\" & PHRED >= 20) %>% select(MAF_nfe_exome, source), \n",
    "                              topmed_03 %>% filter(Function == \"missense\" & PHRED >= 20) %>% select(MAF_nfe_exome, source),\n",
    "                              hrc_topmed_rsq03 %>% filter(Function == \"missense\" & PHRED >= 20) %>% select(MAF_nfe_exome, source)) %>% \n",
    "                mutate(af_category = case_when(\n",
    "                        MAF_nfe_exome > 0.00001 & MAF_nfe_exome <= 0.0001 ~ \"1E-5 < MAF <= 1E-4\",\n",
    "                        MAF_nfe_exome > 0.0001 & MAF_nfe_exome <= 0.001 ~ \"1E-4 < MAF <= 0.001\",\n",
    "                        MAF_nfe_exome > 0.001 & MAF_nfe_exome <= 0.005 ~ \"0.001 < MAF <= 0.005\",\n",
    "                        MAF_nfe_exome > 0.005 & MAF_nfe_exome < 0.01 ~ \"0.005 < MAF < 0.01\",\n",
    "                        .default = \"MAF <= 1E-5\")) %>%\n",
    "                mutate(af_category = factor(af_category, levels = rev(c(\"MAF <= 1E-5\", \n",
    "                                                                    \"1E-5 < MAF <= 1E-4\", \n",
    "                                                                    \"1E-4 < MAF <= 0.001\",\n",
    "                                                                    \"0.001 < MAF <= 0.005\",\n",
    "                                                                    \"0.005 < MAF < 0.01\")))) %>%\n",
    "                group_by(source, af_category) %>% \n",
    "                count()\n",
    "                \n",
    "category_count_df_08_missense_cadd <- rbind(hrc_08 %>% filter(Function == \"missense\" & PHRED >= 20) %>% select(MAF_nfe_exome, source), \n",
    "                              topmed_08 %>% filter(Function == \"missense\" & PHRED >= 20) %>% select(MAF_nfe_exome, source),\n",
    "                              hrc_topmed_rsq08 %>% filter(Function == \"missense\" & PHRED >= 20) %>% select(MAF_nfe_exome, source)) %>% \n",
    "                mutate(af_category = case_when(\n",
    "                        MAF_nfe_exome > 0.00001 & MAF_nfe_exome <= 0.0001 ~ \"1E-5 < MAF <= 1E-4\",\n",
    "                        MAF_nfe_exome > 0.0001 & MAF_nfe_exome <= 0.001 ~ \"1E-4 < MAF <= 0.001\",\n",
    "                        MAF_nfe_exome > 0.001 & MAF_nfe_exome <= 0.005 ~ \"0.001 < MAF <= 0.005\",\n",
    "                        MAF_nfe_exome > 0.005 & MAF_nfe_exome < 0.01 ~ \"0.005 < MAF < 0.01\",\n",
    "                        .default = \"MAF <= 1E-5\")) %>%\n",
    "                mutate(af_category = factor(af_category, levels = rev(c(\"MAF <= 1E-5\", \n",
    "                                                                    \"1E-5 < MAF <= 1E-4\", \n",
    "                                                                    \"1E-4 < MAF <= 0.001\",\n",
    "                                                                    \"0.001 < MAF <= 0.005\",\n",
    "                                                                    \"0.005 < MAF < 0.01\")))) %>%\n",
    "                group_by(source, af_category) %>% \n",
    "                count()"
   ]
  },
  {
   "cell_type": "code",
   "execution_count": 40,
   "id": "dbe7bfd5-698e-41bc-9649-3ca2172b0868",
   "metadata": {
    "kernel": "R",
    "tags": []
   },
   "outputs": [],
   "source": [
    "category_count_df_03_sp <- rbind(exome %>% filter(Function == \"splicing\") %>% select(MAF_nfe_exome, source), \n",
    "                              hrc_03 %>% filter(Function == \"splicing\")  %>% select(MAF_nfe_exome, source), \n",
    "                              topmed_03 %>% filter(Function == \"splicing\") %>% select(MAF_nfe_exome, source),\n",
    "                              hrc_topmed_rsq03 %>% filter(Function == \"splicing\") %>% select(MAF_nfe_exome, source)) %>% \n",
    "                mutate(af_category = case_when(\n",
    "                        MAF_nfe_exome > 0.00001 & MAF_nfe_exome <= 0.0001 ~ \"1E-5 < MAF <= 1E-4\",\n",
    "                        MAF_nfe_exome > 0.0001 & MAF_nfe_exome <= 0.001 ~ \"1E-4 < MAF <= 0.001\",\n",
    "                        MAF_nfe_exome > 0.001 & MAF_nfe_exome <= 0.005 ~ \"0.001 < MAF <= 0.005\",\n",
    "                        MAF_nfe_exome > 0.005 & MAF_nfe_exome < 0.01 ~ \"0.005 < MAF < 0.01\",\n",
    "                        .default = \"MAF <= 1E-5\")) %>%\n",
    "                mutate(af_category = factor(af_category, levels = rev(c(\"MAF <= 1E-5\", \n",
    "                                                                    \"1E-5 < MAF <= 1E-4\", \n",
    "                                                                    \"1E-4 < MAF <= 0.001\",\n",
    "                                                                    \"0.001 < MAF <= 0.005\",\n",
    "                                                                    \"0.005 < MAF < 0.01\")))) %>%\n",
    "                group_by(source, af_category) %>% \n",
    "                count()\n",
    "                \n",
    "category_count_df_08_sp <- rbind(hrc_08 %>% filter(Function == \"splicing\") %>% select(MAF_nfe_exome, source), \n",
    "                              topmed_08 %>% filter(Function == \"splicing\") %>% select(MAF_nfe_exome, source),\n",
    "                              hrc_topmed_rsq08 %>% filter(Function == \"splicing\") %>% select(MAF_nfe_exome, source)) %>% \n",
    "                mutate(af_category = case_when(\n",
    "                        MAF_nfe_exome > 0.00001 & MAF_nfe_exome <= 0.0001 ~ \"1E-5 < MAF <= 1E-4\",\n",
    "                        MAF_nfe_exome > 0.0001 & MAF_nfe_exome <= 0.001 ~ \"1E-4 < MAF <= 0.001\",\n",
    "                        MAF_nfe_exome > 0.001 & MAF_nfe_exome <= 0.005 ~ \"0.001 < MAF <= 0.005\",\n",
    "                        MAF_nfe_exome > 0.005 & MAF_nfe_exome < 0.01 ~ \"0.005 < MAF < 0.01\",\n",
    "                        .default = \"MAF <= 1E-5\")) %>%\n",
    "                mutate(af_category = factor(af_category, levels = rev(c(\"MAF <= 1E-5\", \n",
    "                                                                    \"1E-5 < MAF <= 1E-4\", \n",
    "                                                                    \"1E-4 < MAF <= 0.001\",\n",
    "                                                                    \"0.001 < MAF <= 0.005\",\n",
    "                                                                    \"0.005 < MAF < 0.01\")))) %>%\n",
    "                group_by(source, af_category) %>% \n",
    "                count()"
   ]
  },
  {
   "cell_type": "code",
   "execution_count": 41,
   "id": "c7366b0b-9fab-4fd8-b0f0-16d7e64373dc",
   "metadata": {
    "kernel": "R",
    "tags": []
   },
   "outputs": [],
   "source": [
    "category_count_df_03_sp_cadd <- rbind(exome %>% filter(Function == \"splicing\" & PHRED >= 20) %>% select(MAF_nfe_exome, source), \n",
    "                              hrc_03 %>% filter(Function == \"splicing\" & PHRED >= 20) %>% select(MAF_nfe_exome, source), \n",
    "                              topmed_03 %>% filter(Function == \"splicing\" & PHRED >= 20) %>% select(MAF_nfe_exome, source),\n",
    "                              hrc_topmed_rsq03 %>% filter(Function == \"splicing\" & PHRED >= 20) %>% select(MAF_nfe_exome, source)) %>% \n",
    "                mutate(af_category = case_when(\n",
    "                        MAF_nfe_exome > 0.00001 & MAF_nfe_exome <= 0.0001 ~ \"1E-5 < MAF <= 1E-4\",\n",
    "                        MAF_nfe_exome > 0.0001 & MAF_nfe_exome <= 0.001 ~ \"1E-4 < MAF <= 0.001\",\n",
    "                        MAF_nfe_exome > 0.001 & MAF_nfe_exome <= 0.005 ~ \"0.001 < MAF <= 0.005\",\n",
    "                        MAF_nfe_exome > 0.005 & MAF_nfe_exome < 0.01 ~ \"0.005 < MAF < 0.01\",\n",
    "                        .default = \"MAF <= 1E-5\")) %>%\n",
    "                mutate(af_category = factor(af_category, levels = rev(c(\"MAF <= 1E-5\", \n",
    "                                                                    \"1E-5 < MAF <= 1E-4\", \n",
    "                                                                    \"1E-4 < MAF <= 0.001\",\n",
    "                                                                    \"0.001 < MAF <= 0.005\",\n",
    "                                                                    \"0.005 < MAF < 0.01\")))) %>%\n",
    "                group_by(source, af_category) %>% \n",
    "                count()\n",
    "                \n",
    "category_count_df_08_sp_cadd <- rbind(hrc_08 %>% filter(Function == \"splicing\" & PHRED >= 20) %>% select(MAF_nfe_exome, source), \n",
    "                                      topmed_08 %>% filter(Function == \"splicing\" & PHRED >= 20) %>% select(MAF_nfe_exome, source),\n",
    "                                      hrc_topmed_rsq08 %>% filter(Function == \"splicing\" & PHRED >= 20) %>% select(MAF_nfe_exome, source)) %>% \n",
    "                mutate(af_category = case_when(\n",
    "                        MAF_nfe_exome > 0.00001 & MAF_nfe_exome <= 0.0001 ~ \"1E-5 < MAF <= 1E-4\",\n",
    "                        MAF_nfe_exome > 0.0001 & MAF_nfe_exome <= 0.001 ~ \"1E-4 < MAF <= 0.001\",\n",
    "                        MAF_nfe_exome > 0.001 & MAF_nfe_exome <= 0.005 ~ \"0.001 < MAF <= 0.005\",\n",
    "                        MAF_nfe_exome > 0.005 & MAF_nfe_exome < 0.01 ~ \"0.005 < MAF < 0.01\",\n",
    "                        .default = \"MAF <= 1E-5\")) %>%\n",
    "                mutate(af_category = factor(af_category, levels = rev(c(\"MAF <= 1E-5\", \n",
    "                                                                    \"1E-5 < MAF <= 1E-4\", \n",
    "                                                                    \"1E-4 < MAF <= 0.001\",\n",
    "                                                                    \"0.001 < MAF <= 0.005\",\n",
    "                                                                    \"0.005 < MAF < 0.01\")))) %>%\n",
    "                group_by(source, af_category) %>% \n",
    "                count()"
   ]
  },
  {
   "cell_type": "code",
   "execution_count": 42,
   "id": "49c1c221-40a3-49d9-ad03-f2f0d5a2fe25",
   "metadata": {
    "kernel": "R",
    "tags": []
   },
   "outputs": [
    {
     "data": {
      "text/html": [
       "<strong>png:</strong> 2"
      ],
      "text/latex": [
       "\\textbf{png:} 2"
      ],
      "text/markdown": [
       "**png:** 2"
      ],
      "text/plain": [
       "png \n",
       "  2 "
      ]
     },
     "metadata": {},
     "output_type": "display_data"
    }
   ],
   "source": [
    "library(patchwork)\n",
    "\n",
    "bar_width = 0.7\n",
    "text_size = 10\n",
    "\n",
    "l1 <- rbind(category_count_df_03, category_count_df_08) %>% \n",
    "    group_by(source) %>% \n",
    "    mutate(total = sum(n)) %>% \n",
    "    mutate(source_format = case_when(\n",
    "        source == 'TOPMed (0.3)' ~ \"TOPMed \\n (0.3)\",\n",
    "        source == 'TOPMed (0.8)' ~ \"TOPMed \\n (0.8)\",\n",
    "        source == \"HRC + TOPMed (0.3)\" ~ \"HRC_TOPMed \\n (0.3)\",\n",
    "        source == \"HRC + TOPMed (0.8)\" ~ \"HRC_TOPMed \\n (0.8)\",\n",
    "        .default = source)) %>%\n",
    "    mutate(label = sprintf(\"%s \\n N = %s\", format(source_format, big.mark=','), format(total, big.mark=','))) %>% \n",
    "    slice(1) %>%    \n",
    "    arrange(factor(source, levels = matchlist)) %>%\n",
    "    pull(label)\n",
    "\n",
    "p1 <- rbind(category_count_df_03, category_count_df_08) %>% \n",
    "    unique() %>%\n",
    "    group_by(source) %>% \n",
    "    mutate(label = round(n/sum(n), 3)*100) %>%\n",
    "    mutate(label_text = paste0(round(n/sum(n), 3)*100, \"%\"),\n",
    "           pos = (cumsum(n) - 0.5 * n),\n",
    "           af_category = factor(af_category, levels = c(\"MAF <= 1E-5\", \"1E-5 < MAF <= 1E-4\", \n",
    "                                                        \"1E-4 < MAF <= 0.001\", \"0.001 < MAF <= 0.005\",\n",
    "                                                        \"0.005 < MAF < 0.01\"))) %>%\n",
    "    ungroup() %>%\n",
    "ggplot(aes(fill=af_category, y=label, x=source)) + \n",
    "    geom_bar(position = position_dodge(width=bar_width), stat=\"identity\") +\n",
    "    scale_x_discrete(limits = c(\"ES\", \n",
    "                                \"HRC (0.3)\", \"HRC (0.8)\", \n",
    "                                \"TOPMed (0.3)\", \"TOPMed (0.8)\",\n",
    "                                \"HRC + TOPMed (0.3)\", \"HRC + TOPMed (0.8)\"), labels = l1) +\n",
    "    scale_y_continuous(labels = function(x) paste0(x, \"%\"), limits = c(0, 80)) +\n",
    "    scale_fill_manual(values = rev(c(\"#999999\", \"#ff9a96\", \"#f1c297\", \"#c7d5a1\", \"#628ecf\"))) +\n",
    "    labs(x = \"Data Type\", y = \"Percentage\") +\n",
    "    theme_classic() + theme(legend.position = \"none\",\n",
    "                            axis.text=element_text(size=text_size),\n",
    "                            axis.title.x = element_blank(),\n",
    "                            axis.title.y = element_blank()) +\n",
    "    guides(fill=guide_legend(nrow=4,byrow=TRUE))\n",
    "\n",
    "l2 <- rbind(category_count_df_03_missense, category_count_df_08_missense) %>% \n",
    "    group_by(source) %>% \n",
    "    mutate(total = sum(n)) %>% \n",
    "    mutate(source_format = case_when(\n",
    "        source == 'TOPMed (0.3)' ~ \"TOPMed \\n (0.3)\",\n",
    "        source == 'TOPMed (0.8)' ~ \"TOPMed \\n (0.8)\",\n",
    "        source == \"HRC + TOPMed (0.3)\" ~ \"HRC_TOPMed \\n (0.3)\",\n",
    "        source == \"HRC + TOPMed (0.8)\" ~ \"HRC_TOPMed \\n (0.8)\",\n",
    "        .default = source)) %>%\n",
    "    mutate(total = sum(n)) %>% \n",
    "    mutate(label = sprintf(\"%s \\n N = %s\", format(source_format, big.mark=','), format(total, big.mark=','))) %>% \n",
    "    slice(1) %>% \n",
    "    arrange(factor(source, levels = matchlist)) %>%\n",
    "    pull(label)\n",
    "                       \n",
    "p2 <- rbind(category_count_df_03_missense, category_count_df_08_missense) %>% \n",
    "    unique() %>%\n",
    "    group_by(source) %>% \n",
    "    mutate(label = round(n/sum(n), 3)*100) %>%\n",
    "    mutate(label_text = paste0(round(n/sum(n), 3)*100, \"%\"),\n",
    "           pos = (cumsum(n) - 0.5 * n),\n",
    "           af_category = factor(af_category, levels = c(\"MAF <= 1E-5\", \"1E-5 < MAF <= 1E-4\", \n",
    "                                                        \"1E-4 < MAF <= 0.001\", \"0.001 < MAF <= 0.005\",\n",
    "                                                        \"0.005 < MAF < 0.01\"))) %>%\n",
    "    ungroup() %>%\n",
    "ggplot(aes(fill=af_category, y=label, x=source)) + \n",
    "    geom_bar(position = position_dodge(width=bar_width), stat=\"identity\") +\n",
    "    scale_x_discrete(limits = c(\"ES\", \n",
    "                                \"HRC (0.3)\", \"HRC (0.8)\", \n",
    "                                \"TOPMed (0.3)\", \"TOPMed (0.8)\",\n",
    "                                \"HRC + TOPMed (0.3)\", \"HRC + TOPMed (0.8)\"), labels = l2) +\n",
    "    scale_y_continuous(labels = function(x) paste0(x, \"%\"), limits = c(0, 80)) +\n",
    "    scale_fill_manual(values = rev(c(\"#999999\", \"#ff9a96\", \"#f1c297\", \"#c7d5a1\", \"#628ecf\"))) +\n",
    "    labs(x = \"Data Type\", y = \"Percentage\") +\n",
    "    theme_classic() + theme(legend.position = \"none\",\n",
    "                            axis.text=element_text(size=text_size),\n",
    "                            axis.title.x = element_blank(),\n",
    "                            axis.title.y = element_blank()) +\n",
    "    guides(fill=guide_legend(nrow=4,byrow=TRUE))\n",
    "\n",
    "l3 <- rbind(category_count_df_03_lof, category_count_df_08_lof) %>% \n",
    "    group_by(source) %>% \n",
    "    mutate(total = sum(n)) %>% \n",
    "    mutate(source_format = case_when(\n",
    "        source == 'TOPMed (0.3)' ~ \"TOPMed \\n (0.3)\",\n",
    "        source == 'TOPMed (0.8)' ~ \"TOPMed \\n (0.8)\",\n",
    "        source == \"HRC + TOPMed (0.3)\" ~ \"HRC_TOPMed \\n (0.3)\",\n",
    "        source == \"HRC + TOPMed (0.8)\" ~ \"HRC_TOPMed \\n (0.8)\",\n",
    "        .default = source)) %>%\n",
    "    mutate(total = sum(n)) %>% \n",
    "    mutate(label = sprintf(\"%s \\n N = %s\", format(source_format, big.mark=','), format(total, big.mark=','))) %>% \n",
    "    slice(1) %>% \n",
    "    arrange(factor(source, levels = matchlist)) %>%\n",
    "    pull(label)\n",
    "\n",
    "p3 <- rbind(category_count_df_03_lof, category_count_df_08_lof) %>% \n",
    "    unique() %>%\n",
    "    group_by(source) %>% \n",
    "    mutate(label = round(n/sum(n), 3)*100) %>%\n",
    "    mutate(label_text = paste0(round(n/sum(n), 3)*100, \"%\"),\n",
    "           pos = (cumsum(n) - 0.5 * n),\n",
    "           af_category = factor(af_category, levels = c(\"MAF <= 1E-5\", \"1E-5 < MAF <= 1E-4\", \n",
    "                                                        \"1E-4 < MAF <= 0.001\", \"0.001 < MAF <= 0.005\",\n",
    "                                                        \"0.005 < MAF < 0.01\"))) %>%\n",
    "    ungroup() %>%\n",
    "ggplot(aes(fill=af_category, y=label, x=source)) + \n",
    "    geom_bar(position = position_dodge(width=bar_width), stat=\"identity\") +\n",
    "    scale_x_discrete(limits = c(\"ES\", \n",
    "                                \"HRC (0.3)\", \"HRC (0.8)\", \n",
    "                                \"TOPMed (0.3)\", \"TOPMed (0.8)\",\n",
    "                                \"HRC + TOPMed (0.3)\", \"HRC + TOPMed (0.8)\"), labels = l3) +\n",
    "    scale_y_continuous(labels = function(x) paste0(x, \"%\"), limits = c(0, 85)) +\n",
    "    scale_fill_manual(values = rev(c(\"#999999\", \"#ff9a96\", \"#f1c297\", \"#c7d5a1\", \"#628ecf\"))) +\n",
    "    labs(x = \"Data Type\", y = \"Percentage\") +\n",
    "    theme_classic() + theme(legend.position = \"none\",\n",
    "                            axis.text=element_text(size=text_size),\n",
    "                            axis.title.x = element_blank(),\n",
    "                            axis.title.y = element_blank()) +\n",
    "    guides(fill=guide_legend(nrow=4,byrow=TRUE))\n",
    "                       \n",
    "l4 <- rbind(category_count_df_03_sp, category_count_df_08_sp) %>% \n",
    "    group_by(source) %>% \n",
    "    mutate(total = sum(n)) %>% \n",
    "    mutate(source_format = case_when(\n",
    "        source == 'TOPMed (0.3)' ~ \"TOPMed \\n (0.3)\",\n",
    "        source == 'TOPMed (0.8)' ~ \"TOPMed \\n (0.8)\",\n",
    "        source == \"HRC + TOPMed (0.3)\" ~ \"HRC_TOPMed \\n (0.3)\",\n",
    "        source == \"HRC + TOPMed (0.8)\" ~ \"HRC_TOPMed \\n (0.8)\",\n",
    "        .default = source)) %>%\n",
    "    mutate(total = sum(n)) %>% \n",
    "    mutate(label = sprintf(\"%s \\n N = %s\", format(source_format, big.mark=','), format(total, big.mark=','))) %>% \n",
    "    slice(1) %>% \n",
    "    arrange(factor(source, levels = matchlist)) %>%\n",
    "    pull(label)\n",
    "                       \n",
    "p4 <- rbind(category_count_df_03_sp, category_count_df_08_sp) %>% \n",
    "    unique() %>%\n",
    "    group_by(source) %>% \n",
    "    mutate(label = round(n/sum(n), 3)*100) %>%\n",
    "    mutate(label_text = paste0(round(n/sum(n), 3)*100, \"%\"),\n",
    "           pos = (cumsum(n) - 0.5 * n),\n",
    "           af_category = factor(af_category, levels = c(\"MAF <= 1E-5\", \"1E-5 < MAF <= 1E-4\", \n",
    "                                                        \"1E-4 < MAF <= 0.001\", \"0.001 < MAF <= 0.005\",\n",
    "                                                        \"0.005 < MAF < 0.01\"))) %>%\n",
    "    ungroup() %>%\n",
    "ggplot(aes(fill=af_category, y=label, x=source)) + \n",
    "    geom_bar(position = position_dodge(width=bar_width), stat=\"identity\") +\n",
    "    scale_x_discrete(limits = c(\"ES\", \n",
    "                                \"HRC (0.3)\", \"HRC (0.8)\", \n",
    "                                \"TOPMed (0.3)\", \"TOPMed (0.8)\",\n",
    "                                \"HRC + TOPMed (0.3)\", \"HRC + TOPMed (0.8)\"), labels = l4) +\n",
    "    scale_y_continuous(labels = function(x) paste0(x, \"%\"), limits = c(0, 80)) +\n",
    "    scale_fill_manual(values = rev(c(\"#999999\", \"#ff9a96\", \"#f1c297\", \"#c7d5a1\", \"#628ecf\"))) +\n",
    "    labs(x = \"Data Type\", y = \"Percentage\") +\n",
    "    theme_classic() + theme(legend.position = \"none\",\n",
    "                            axis.text=element_text(size=text_size),\n",
    "                            axis.title.x = element_blank(),\n",
    "                            axis.title.y = element_blank()) +\n",
    "    guides(fill=guide_legend(nrow=4,byrow=TRUE))\n",
    "                       \n",
    "jpeg(file=\"~/project/git/imputation_brv/analysis/results/variant_maf_category_groupedbarplot_panel_updated.jpg\", units=\"cm\", width=22, height=28, res=300)\n",
    "p1 + p3 + p2 + p4 + plot_annotation(tag_levels = 'A') + plot_layout(ncol = 1) & theme(plot.tag = element_text(size = 15, face=\"bold\"))\n",
    "dev.off()"
   ]
  },
  {
   "cell_type": "code",
   "execution_count": 43,
   "id": "d371d096-d2d0-4833-805a-5b584bbbe345",
   "metadata": {
    "kernel": "R",
    "tags": []
   },
   "outputs": [
    {
     "data": {
      "image/png": "[encoded data removed]"
     },
     "metadata": {
      "image/png": {
       "height": 300,
       "width": 800
      }
     },
     "output_type": "display_data"
    }
   ],
   "source": [
    "p1"
   ]
  },
  {
   "cell_type": "code",
   "execution_count": 44,
   "id": "2f1883b4-318e-45e8-97f6-f4de361ca712",
   "metadata": {
    "kernel": "R",
    "tags": []
   },
   "outputs": [
    {
     "data": {
      "image/png": "[encoded data removed]"
     },
     "metadata": {
      "image/png": {
       "height": 300,
       "width": 800
      }
     },
     "output_type": "display_data"
    }
   ],
   "source": [
    "p3"
   ]
  },
  {
   "cell_type": "code",
   "execution_count": 45,
   "id": "990e991a-49be-4f0e-b188-9d1647df5f5c",
   "metadata": {
    "kernel": "R",
    "tags": []
   },
   "outputs": [
    {
     "data": {
      "image/png": "[encoded data removed]"
     },
     "metadata": {
      "image/png": {
       "height": 300,
       "width": 800
      }
     },
     "output_type": "display_data"
    }
   ],
   "source": [
    "p2"
   ]
  },
  {
   "cell_type": "code",
   "execution_count": 46,
   "id": "4ffe78ae-27fc-4acd-95d4-b79c36e5d7a7",
   "metadata": {
    "kernel": "R",
    "tags": []
   },
   "outputs": [
    {
     "data": {
      "image/png": "[encoded data removed]"
     },
     "metadata": {
      "image/png": {
       "height": 300,
       "width": 800
      }
     },
     "output_type": "display_data"
    }
   ],
   "source": [
    "p4"
   ]
  },
  {
   "cell_type": "code",
   "execution_count": 47,
   "id": "a87fec49-c3b5-46ad-9531-6ba0c6868491",
   "metadata": {
    "kernel": "R",
    "tags": []
   },
   "outputs": [],
   "source": [
    "rbind(rbind(category_count_df_03, category_count_df_08) %>% group_by(source) %>% mutate(panel = \"A\", proportion = paste0(round(n/sum(n), 3)*100, \"%\")),\n",
    "      rbind(category_count_df_03_lof, category_count_df_08_lof) %>% group_by(source) %>% mutate(panel = \"B\", proportion = paste0(round(n/sum(n), 3)*100, \"%\")),\n",
    "      rbind(category_count_df_03_missense, category_count_df_08_missense) %>% group_by(source) %>% mutate(panel = \"C\", proportion = paste0(round(n/sum(n), 3)*100, \"%\")),\n",
    "      rbind(category_count_df_03_sp, category_count_df_08_sp) %>% group_by(source) %>% mutate(panel = \"D\", proportion = paste0(round(n/sum(n), 3)*100, \"%\"))) %>%\n",
    "select(panel, source, af_category, proportion) %>% \n",
    "data.table::fwrite(\"~/project/git/imputation_brv/analysis/results/variant_maf_category_groupedbarplot_panel_table_supp_fig1.csv\")"
   ]
  },
  {
   "cell_type": "markdown",
   "id": "38097fb0-25a5-4418-b910-d1f2d9b01d00",
   "metadata": {
    "kernel": "R",
    "tags": []
   },
   "source": [
    "### Figure S1 - Panels for missense_cadd and splice_cadd"
   ]
  },
  {
   "cell_type": "code",
   "execution_count": 48,
   "id": "d138816d-03c7-471f-91de-ecc6bbd6b68d",
   "metadata": {
    "kernel": "R",
    "tags": []
   },
   "outputs": [
    {
     "data": {
      "text/html": [
       "<strong>png:</strong> 2"
      ],
      "text/latex": [
       "\\textbf{png:} 2"
      ],
      "text/markdown": [
       "**png:** 2"
      ],
      "text/plain": [
       "png \n",
       "  2 "
      ]
     },
     "metadata": {},
     "output_type": "display_data"
    }
   ],
   "source": [
    "l5 <- rbind(category_count_df_03_missense_cadd, category_count_df_08_missense_cadd) %>% \n",
    "    group_by(source) %>% \n",
    "    mutate(source_format = case_when(\n",
    "        source == 'TOPMed (0.3)' ~ \"TOPMed \\n (0.3)\",\n",
    "        source == 'TOPMed (0.8)' ~ \"TOPMed \\n (0.8)\",\n",
    "        source == \"HRC + TOPMed (0.3)\" ~ \"HRC_TOPMed \\n (0.3)\",\n",
    "        source == \"HRC + TOPMed (0.8)\" ~ \"HRC_TOPMed \\n (0.8)\",\n",
    "        .default = source)) %>%\n",
    "    mutate(total = sum(n)) %>% \n",
    "    mutate(label = sprintf(\"%s \\n N = %s\", format(source_format, big.mark=','), format(total, big.mark=','))) %>% \n",
    "    slice(1) %>% \n",
    "    arrange(factor(source, levels = matchlist)) %>%\n",
    "    pull(label)\n",
    "\n",
    "p5 <- rbind(category_count_df_03, category_count_df_08) %>% \n",
    "    unique() %>%\n",
    "    group_by(source) %>% \n",
    "    mutate(label = round(n/sum(n), 3)*100) %>%\n",
    "    mutate(label_text = paste0(round(n/sum(n), 3)*100, \"%\"),\n",
    "           pos = (cumsum(n) - 0.5 * n),\n",
    "           af_category = factor(af_category, levels = c(\"MAF <= 1E-5\", \"1E-5 < MAF <= 1E-4\", \n",
    "                                                        \"1E-4 < MAF <= 0.001\", \"0.001 < MAF <= 0.005\",\n",
    "                                                        \"0.005 < MAF < 0.01\"))) %>%\n",
    "    ungroup() %>%\n",
    "ggplot(aes(fill=af_category, y=label, x=source)) + \n",
    "    geom_bar(position = position_dodge(width=bar_width), stat=\"identity\") +\n",
    "    scale_x_discrete(limits = c(\"ES\", \n",
    "                                \"HRC (0.3)\", \"HRC (0.8)\", \n",
    "                                \"TOPMed (0.3)\", \"TOPMed (0.8)\",\n",
    "                                \"HRC + TOPMed (0.3)\", \"HRC + TOPMed (0.8)\"), labels = l5) +\n",
    "    scale_y_continuous(labels = function(x) paste0(x, \"%\"), limits = c(0, 80)) +\n",
    "    scale_fill_manual(values = rev(c(\"#999999\", \"#ff9a96\", \"#f1c297\", \"#c7d5a1\", \"#628ecf\"))) +\n",
    "    labs(x = \"Data Type\", y = \"Percentage\") +\n",
    "    theme_classic() + theme(legend.position = \"none\",\n",
    "                            axis.text=element_text(size=text_size),\n",
    "                            axis.title.x = element_blank(),\n",
    "                            axis.title.y = element_blank()) +\n",
    "    guides(fill=guide_legend(nrow=4,byrow=TRUE))\n",
    "\n",
    "l6 <- rbind(category_count_df_03_sp_cadd, category_count_df_08_sp_cadd) %>% \n",
    "    group_by(source) %>% \n",
    "    mutate(source_format = case_when(\n",
    "        source == 'TOPMed (0.3)' ~ \"TOPMed \\n (0.3)\",\n",
    "        source == 'TOPMed (0.8)' ~ \"TOPMed \\n (0.8)\",\n",
    "        source == \"HRC + TOPMed (0.3)\" ~ \"HRC_TOPMed \\n (0.3)\",\n",
    "        source == \"HRC + TOPMed (0.8)\" ~ \"HRC_TOPMed \\n (0.8)\",\n",
    "        .default = source)) %>%\n",
    "    mutate(total = sum(n)) %>% \n",
    "    mutate(label = sprintf(\"%s \\n N = %s\", format(source_format, big.mark=','), format(total, big.mark=','))) %>% \n",
    "    slice(1) %>% \n",
    "    arrange(factor(source, levels = matchlist)) %>%\n",
    "    pull(label)\n",
    "\n",
    "p6 <- rbind(category_count_df_03_sp_cadd, category_count_df_08_sp_cadd) %>% \n",
    "    unique() %>%\n",
    "    group_by(source) %>% \n",
    "    mutate(label = round(n/sum(n), 3)*100) %>%\n",
    "    mutate(label_text = paste0(round(n/sum(n), 3)*100, \"%\"),\n",
    "           pos = (cumsum(n) - 0.5 * n),\n",
    "           af_category = factor(af_category, levels = c(\"MAF <= 1E-5\", \"1E-5 < MAF <= 1E-4\", \n",
    "                                                        \"1E-4 < MAF <= 0.001\", \"0.001 < MAF <= 0.005\",\n",
    "                                                        \"0.005 < MAF < 0.01\"))) %>%\n",
    "    ungroup() %>%\n",
    "ggplot(aes(fill=af_category, y=label, x=source)) + \n",
    "    geom_bar(position = position_dodge(width=bar_width), stat=\"identity\") +\n",
    "    scale_x_discrete(limits = c(\"ES\", \n",
    "                                \"HRC (0.3)\", \"HRC (0.8)\", \n",
    "                                \"TOPMed (0.3)\", \"TOPMed (0.8)\",\n",
    "                                \"HRC + TOPMed (0.3)\", \"HRC + TOPMed (0.8)\"), labels = l6) +\n",
    "    scale_y_continuous(labels = function(x) paste0(x, \"%\"), limits = c(0, 80)) +\n",
    "    scale_fill_manual(values = rev(c(\"#999999\", \"#ff9a96\", \"#f1c297\", \"#c7d5a1\", \"#628ecf\"))) +\n",
    "    labs(x = \"Data Type\", y = \"Percentage\") +\n",
    "    theme_classic() + theme(legend.position = \"none\",\n",
    "                            axis.text=element_text(size=text_size),\n",
    "                            axis.title.x = element_blank(),\n",
    "                            axis.title.y = element_blank()) +\n",
    "    guides(fill=guide_legend(nrow=4,byrow=TRUE))\n",
    "                       \n",
    "jpeg(file=\"~/project/git/imputation_brv/analysis/results/variant_maf_category_groupedbarplot_panel_supplement_updated.jpg\", units=\"cm\", width=22, height=14, res=300)\n",
    "p5 + p6 + plot_annotation(tag_levels = 'A')+ plot_layout(ncol = 1) & theme(plot.tag = element_text(size = 15, face=\"bold\"))\n",
    "dev.off()"
   ]
  },
  {
   "cell_type": "code",
   "execution_count": 49,
   "id": "3bfb8082-dce5-4011-9a74-14c6169fdb39",
   "metadata": {
    "kernel": "R",
    "tags": []
   },
   "outputs": [
    {
     "data": {
      "image/png": "[encoded data removed]"
     },
     "metadata": {
      "image/png": {
       "height": 300,
       "width": 800
      }
     },
     "output_type": "display_data"
    }
   ],
   "source": [
    "p5 + p6 + plot_annotation(tag_levels = 'A')+ plot_layout(ncol = 1) & theme(plot.tag = element_text(size = 15, face=\"bold\"))"
   ]
  },
  {
   "cell_type": "code",
   "execution_count": 50,
   "id": "0809b83b-2c45-4c5c-a81c-d17bb7bf51e0",
   "metadata": {
    "kernel": "R",
    "tags": []
   },
   "outputs": [],
   "source": [
    "rbind(rbind(category_count_df_03_missense_cadd, category_count_df_08_missense_cadd) %>% group_by(source) %>% mutate(panel = \"A\", proportion = paste0(round(n/sum(n), 3)*100, \"%\")),\n",
    "      rbind(category_count_df_03_sp_cadd, category_count_df_08_sp_cadd) %>% group_by(source) %>% mutate(panel = \"B\", proportion = paste0(round(n/sum(n), 3)*100, \"%\"))) %>%\n",
    "select(panel, source, af_category, proportion) %>% \n",
    "data.table::fwrite(\"~/project/git/imputation_brv/analysis/results/variant_maf_category_groupedbarplot_panel_table_supp_figs1.csv\")"
   ]
  },
  {
   "cell_type": "markdown",
   "id": "8426c7f4-674a-440e-bd72-a9216c3ebff2",
   "metadata": {
    "kernel": "R"
   },
   "source": [
    "## Variant summary table"
   ]
  },
  {
   "cell_type": "code",
   "execution_count": 51,
   "id": "8eee9694-c65a-479a-8d97-2e3129d8a16b",
   "metadata": {
    "kernel": "R",
    "tags": []
   },
   "outputs": [],
   "source": [
    "library(dplyr)\n",
    "library(data.table)\n",
    "\n",
    "setwd(\"~/project/imputation-rvtest/analysis/imputation_aggregated_analysis/\")"
   ]
  },
  {
   "cell_type": "code",
   "execution_count": 52,
   "id": "9eee5c45-cf04-4ffe-8551-3fb3ba96b3ce",
   "metadata": {
    "kernel": "R",
    "tags": []
   },
   "outputs": [],
   "source": [
    "format_table <- function(df){\n",
    "    cat <- df %>%\n",
    "        group_by(Function) %>%\n",
    "        mutate(num_var = n(),\n",
    "               MAF_mean = mean(as.numeric(MAF_nfe_exome), na.rm=TRUE)) %>%\n",
    "        select(Function, num_var, MAF_mean) %>% unique() %>%\n",
    "        ungroup() %>% \n",
    "        group_by(Function) %>%\n",
    "        select(Function, num_var, MAF_mean) %>% \n",
    "        mutate(num_var = as.character(num_var), \n",
    "               MAF_mean = as.character(MAF_mean)) %>% \n",
    "        unique() %>% \n",
    "        arrange(Function)\n",
    "        \n",
    "    num_cadd_mis <- df %>% filter(Function %in% c(\"missense\") & as.numeric(PHRED) >= 20) %>% nrow() %>% formatC(big.mark = \",\")\n",
    "    maf_cadd_mis <- df %>% filter(Function %in% c(\"missense\") & as.numeric(PHRED) >= 20) %>% pull(MAF_nfe_exome) %>% mean(na.rm = TRUE) %>% formatC(format = \"e\", digits = 2)\n",
    "    \n",
    "    num_cadd_spl <- df %>% filter(Function %in% c(\"splicing\") & as.numeric(PHRED) >= 20) %>% nrow() %>% formatC(big.mark = \",\")\n",
    "    maf_cadd_spl <- df %>% filter(Function %in% c(\"splicing\") & as.numeric(PHRED) >= 20) %>% pull(MAF_nfe_exome) %>% mean(na.rm = TRUE) %>% formatC(format = \"e\", digits = 2)\n",
    "    \n",
    "    cat[1,2] <- as.integer(cat[1,2]) %>% formatC(big.mark = \",\")\n",
    "    cat[1,3] <- as.numeric(cat[1,3]) %>% formatC(format = \"e\", digits = 2)\n",
    "    \n",
    "    cat[2,2] <- paste0(as.integer(cat[2,2]) %>% formatC(big.mark = \",\"), \" (\", num_cadd_mis, \")\")\n",
    "    cat[2,3] <- paste0(as.numeric(cat[2,3]) %>% formatC(format = \"e\", digits = 2), \" (\", maf_cadd_mis, \")\")\n",
    "    \n",
    "    cat[3,2] <- paste0(as.integer(cat[3,2]) %>% formatC(big.mark = \",\"), \" (\", num_cadd_spl, \")\")\n",
    "    cat[3,3] <- paste0(as.numeric(cat[3,3]) %>% formatC(format = \"e\", digits = 2), \" (\", maf_cadd_spl, \")\")\n",
    "    \n",
    "    all <- df %>%\n",
    "        mutate(MAF_mean = mean(as.numeric(MAF_nfe_exome), na.rm=TRUE),\n",
    "               num_var = nrow(.) %>% formatC(big.mark = \",\")) %>% \n",
    "        select(num_var, MAF_mean) %>% \n",
    "        mutate(num_var = as.character(num_var), \n",
    "               MAF_mean = as.character(MAF_mean %>% formatC(digits=2, format='e'))) %>% \n",
    "        unique() %>%\n",
    "        mutate(Function = \"All\")\n",
    "    \n",
    "    return(rbind(cat, all))\n",
    "}"
   ]
  },
  {
   "cell_type": "code",
   "execution_count": 67,
   "id": "bc091851-c5f3-4229-92d5-69cdc4d74e8b",
   "metadata": {
    "kernel": "R",
    "tags": []
   },
   "outputs": [],
   "source": [
    "generate_summary <- function(maf, numvar){\n",
    "    maf <- gsub(\"\\\\.\", \"\", as.character(maf))\n",
    "    \n",
    "    exome_chr1 <- fread(sprintf(\"./exome/ukb23156_c1.merged.filtered.hg38.hg38_multianno_formatted_sel_col_maf%s_LOF_missense_all.csv.gz\", maf))\n",
    "    exome_chr2 <- fread(sprintf(\"./exome/ukb23156_c2.merged.filtered.hg38.hg38_multianno_formatted_sel_col_maf%s_LOF_missense_all.csv.gz\", maf))\n",
    "\n",
    "    hrc_03_chr1 <- fread(sprintf(\"./hrc/hrc_chr1_rsq03_hg19_hg38_maf%s_LOF_missense_all_annot.csv.gz\", maf))\n",
    "    hrc_03_chr2 <- fread(sprintf(\"./hrc/hrc_chr2_rsq03_hg19_hg38_maf%s_LOF_missense_all_annot.csv.gz\", maf))\n",
    "\n",
    "    hrc_08_chr1 <- fread(sprintf(\"./hrc/hrc_chr1_rsq08_hg19_hg38_maf%s_LOF_missense_all_annot.csv.gz\", maf))\n",
    "    hrc_08_chr2 <- fread(sprintf(\"./hrc/hrc_chr2_rsq08_hg19_hg38_maf%s_LOF_missense_all_annot.csv.gz\", maf))\n",
    "\n",
    "    topmed_03_chr1 <- fread(sprintf(\"./topmed_v3/topmed_chr1_rsq03_hg38_hg38_maf%s_LOF_missense_all_annot.csv.gz\", maf))\n",
    "    topmed_03_chr2 <- fread(sprintf(\"./topmed_v3/topmed_chr2_rsq03_hg38_hg38_maf%s_LOF_missense_all_annot.csv.gz\", maf))\n",
    "\n",
    "    topmed_08_chr1 <- fread(sprintf(\"./topmed_v3/topmed_chr1_rsq08_hg38_hg38_maf%s_LOF_missense_all_annot.csv.gz\", maf))\n",
    "    topmed_08_chr2 <- fread(sprintf(\"./topmed_v3/topmed_chr2_rsq08_hg38_hg38_maf%s_LOF_missense_all_annot.csv.gz\", maf))\n",
    "\n",
    "    hrc_topmed_03 <- fread(sprintf(\"./hrc_topmed/hrc_topmed_v3_168206ids_rsq03_maf%s_all_annot.csv.gz\", maf))\n",
    "    hrc_topmed_08 <- fread(sprintf(\"./hrc_topmed/hrc_topmed_v3_168206ids_rsq08_maf%s_all_annot.csv.gz\", maf))\n",
    "    hrc_topmed_exome_03 <- fread(sprintf(\"./hrc_topmed_exome/hrc_topmed_v3_exome_168206ids_rsq03_maf%s_all_annot.csv.gz\", maf))\n",
    "    hrc_topmed_exome_08 <- fread(sprintf(\"./hrc_topmed_exome/hrc_topmed_v3_exome_168206ids_rsq08_maf%s_all_annot.csv.gz\", maf))\n",
    "    \n",
    "    exome <- format_table(rbind(exome_chr1, exome_chr2))\n",
    "    hrc_03 <- format_table(rbind(hrc_03_chr1, hrc_03_chr2))\n",
    "    hrc_08 <- format_table(rbind(hrc_08_chr1, hrc_08_chr2))\n",
    "    topmed_03 <- format_table(rbind(topmed_03_chr1, topmed_03_chr2))\n",
    "    topmed_08 <- format_table(rbind(topmed_08_chr1, topmed_08_chr2))\n",
    "    hrc_topmed_03_f <- format_table(hrc_topmed_03)\n",
    "    hrc_topmed_08_f <- format_table(hrc_topmed_08)\n",
    "    hrc_topmed_exome_03_f <- format_table(hrc_topmed_exome_03)\n",
    "    hrc_topmed_exome_08_f <- format_table(hrc_topmed_exome_08)\n",
    "    \n",
    "    full_summary <- rbind(exome, hrc_03, hrc_08, topmed_03, topmed_08, hrc_topmed_03_f, hrc_topmed_08_f, hrc_topmed_exome_03_f, hrc_topmed_exome_08_f)\n",
    "    full_summary <- full_summary %>% \n",
    "        mutate(data = c(rep(\"exome\", 1), \n",
    "                        rep(\"hrc_03\", 1), rep(\"hrc_08\", 1),\n",
    "                        rep(\"topmed_03\", 1), rep(\"topmed_08\", 1),\n",
    "                        rep(\"hrc_topmed_03\", 1), rep(\"hrc_topmed_08\", 1),\n",
    "                        rep(\"hrc_topmed_exome_03\", 1), rep(\"hrc_topmed_exome_08\", 1))) %>%\n",
    "        select(data, Function, num_var, MAF_mean)\n",
    "    return(full_summary)\n",
    "}"
   ]
  },
  {
   "cell_type": "code",
   "execution_count": 68,
   "id": "0ab1dd4f-3055-446d-9790-47d0728255f7",
   "metadata": {
    "kernel": "R",
    "tags": []
   },
   "outputs": [],
   "source": [
    "tab_maf001 <- generate_summary(0.01, \"_all\") %>% mutate(Function = gsub('splicing', 'splice site', Function))\n",
    "tab_maf0005 <- generate_summary(0.005, \"_all\") %>% mutate(Function = gsub('splicing', 'splice site', Function))\n",
    "tab_maf0001 <- generate_summary(0.001, \"_all\") %>% mutate(Function = gsub('splicing', 'splice site', Function))"
   ]
  },
  {
   "cell_type": "code",
   "execution_count": 69,
   "id": "f996102c-9380-46a0-830c-521ea4b36f05",
   "metadata": {
    "kernel": "R"
   },
   "outputs": [
    {
     "data": {
      "text/html": [
       "<table class=\"dataframe\">\n",
       "<caption>A grouped_df: 36 × 4</caption>\n",
       "<thead>\n",
       "\t<tr><th scope=col>data</th><th scope=col>Function</th><th scope=col>num_var</th><th scope=col>MAF_mean</th></tr>\n",
       "\t<tr><th scope=col>&lt;chr&gt;</th><th scope=col>&lt;chr&gt;</th><th scope=col>&lt;chr&gt;</th><th scope=col>&lt;chr&gt;</th></tr>\n",
       "</thead>\n",
       "<tbody>\n",
       "\t<tr><td>exome              </td><td>LoF        </td><td>53,227           </td><td>6.85e-05           </td></tr>\n",
       "\t<tr><td>exome              </td><td>missense   </td><td>569,846 (354,899)</td><td>9.39e-05 (7.84e-05)</td></tr>\n",
       "\t<tr><td>exome              </td><td>splice site</td><td>200,811 (78,518) </td><td>1.06e-04 (7.04e-05)</td></tr>\n",
       "\t<tr><td>exome              </td><td>All        </td><td>823,884          </td><td>9.55e-05           </td></tr>\n",
       "\t<tr><td>hrc_03             </td><td>LoF        </td><td>566              </td><td>7.69e-04           </td></tr>\n",
       "\t<tr><td>hrc_03             </td><td>missense   </td><td>25,022 (12,339)  </td><td>8.15e-04 (8.11e-04)</td></tr>\n",
       "\t<tr><td>hrc_03             </td><td>splice site</td><td>9,801 (2,380)    </td><td>7.89e-04 (7.79e-04)</td></tr>\n",
       "\t<tr><td>hrc_03             </td><td>All        </td><td>35,389           </td><td>8.08e-04           </td></tr>\n",
       "\t<tr><td>hrc_08             </td><td>LoF        </td><td>288              </td><td>1.14e-03           </td></tr>\n",
       "\t<tr><td>hrc_08             </td><td>missense   </td><td>10,701 (5,095)   </td><td>1.46e-03 (1.49e-03)</td></tr>\n",
       "\t<tr><td>hrc_08             </td><td>splice site</td><td>4,122 (1,057)    </td><td>1.36e-03 (1.35e-03)</td></tr>\n",
       "\t<tr><td>hrc_08             </td><td>All        </td><td>15,111           </td><td>1.43e-03           </td></tr>\n",
       "\t<tr><td>topmed_03          </td><td>LoF        </td><td>10,963           </td><td>1.22e-04           </td></tr>\n",
       "\t<tr><td>topmed_03          </td><td>missense   </td><td>167,300 (97,358) </td><td>1.67e-04 (1.47e-04)</td></tr>\n",
       "\t<tr><td>topmed_03          </td><td>splice site</td><td>63,932 (20,037)  </td><td>1.83e-04 (1.32e-04)</td></tr>\n",
       "\t<tr><td>topmed_03          </td><td>All        </td><td>242,195          </td><td>1.69e-04           </td></tr>\n",
       "\t<tr><td>topmed_08          </td><td>LoF        </td><td>3,404            </td><td>2.59e-04           </td></tr>\n",
       "\t<tr><td>topmed_08          </td><td>missense   </td><td>54,809 (31,567)  </td><td>3.82e-04 (3.37e-04)</td></tr>\n",
       "\t<tr><td>topmed_08          </td><td>splice site</td><td>21,362 (6,535)   </td><td>3.93e-04 (2.99e-04)</td></tr>\n",
       "\t<tr><td>topmed_08          </td><td>All        </td><td>79,575           </td><td>3.80e-04           </td></tr>\n",
       "\t<tr><td>hrc_topmed_03      </td><td>LoF        </td><td>11,031           </td><td>1.25e-04           </td></tr>\n",
       "\t<tr><td>hrc_topmed_03      </td><td>missense   </td><td>169,812 (98,398) </td><td>1.70e-04 (1.49e-04)</td></tr>\n",
       "\t<tr><td>hrc_topmed_03      </td><td>splice site</td><td>64,820 (20,225)  </td><td>1.85e-04 (1.34e-04)</td></tr>\n",
       "\t<tr><td>hrc_topmed_03      </td><td>All        </td><td>245,663          </td><td>1.72e-04           </td></tr>\n",
       "\t<tr><td>hrc_topmed_08      </td><td>LoF        </td><td>3,485            </td><td>2.65e-04           </td></tr>\n",
       "\t<tr><td>hrc_topmed_08      </td><td>missense   </td><td>57,643 (32,667)  </td><td>3.83e-04 (3.39e-04)</td></tr>\n",
       "\t<tr><td>hrc_topmed_08      </td><td>splice site</td><td>22,611 (6,789)   </td><td>3.88e-04 (2.99e-04)</td></tr>\n",
       "\t<tr><td>hrc_topmed_08      </td><td>All        </td><td>83,739           </td><td>3.80e-04           </td></tr>\n",
       "\t<tr><td>hrc_topmed_exome_03</td><td>LoF        </td><td>56,193           </td><td>6.67e-05           </td></tr>\n",
       "\t<tr><td>hrc_topmed_exome_03</td><td>missense   </td><td>600,709 (355,228)</td><td>9.06e-05 (7.93e-05)</td></tr>\n",
       "\t<tr><td>hrc_topmed_exome_03</td><td>splice site</td><td>218,327 (78,612) </td><td>1.02e-04 (7.10e-05)</td></tr>\n",
       "\t<tr><td>hrc_topmed_exome_03</td><td>All        </td><td>875,229          </td><td>9.22e-05           </td></tr>\n",
       "\t<tr><td>hrc_topmed_exome_08</td><td>LoF        </td><td>53,822           </td><td>6.88e-05           </td></tr>\n",
       "\t<tr><td>hrc_topmed_exome_08</td><td>missense   </td><td>575,036 (354,919)</td><td>9.40e-05 (7.85e-05)</td></tr>\n",
       "\t<tr><td>hrc_topmed_exome_08</td><td>splice site</td><td>204,931 (78,536) </td><td>1.06e-04 (7.06e-05)</td></tr>\n",
       "\t<tr><td>hrc_topmed_exome_08</td><td>All        </td><td>833,789          </td><td>9.57e-05           </td></tr>\n",
       "</tbody>\n",
       "</table>\n"
      ],
      "text/latex": [
       "A grouped\\_df: 36 × 4\n",
       "\\begin{tabular}{llll}\n",
       " data & Function & num\\_var & MAF\\_mean\\\\\n",
       " <chr> & <chr> & <chr> & <chr>\\\\\n",
       "\\hline\n",
       "\t exome               & LoF         & 53,227            & 6.85e-05           \\\\\n",
       "\t exome               & missense    & 569,846 (354,899) & 9.39e-05 (7.84e-05)\\\\\n",
       "\t exome               & splice site & 200,811 (78,518)  & 1.06e-04 (7.04e-05)\\\\\n",
       "\t exome               & All         & 823,884           & 9.55e-05           \\\\\n",
       "\t hrc\\_03              & LoF         & 566               & 7.69e-04           \\\\\n",
       "\t hrc\\_03              & missense    & 25,022 (12,339)   & 8.15e-04 (8.11e-04)\\\\\n",
       "\t hrc\\_03              & splice site & 9,801 (2,380)     & 7.89e-04 (7.79e-04)\\\\\n",
       "\t hrc\\_03              & All         & 35,389            & 8.08e-04           \\\\\n",
       "\t hrc\\_08              & LoF         & 288               & 1.14e-03           \\\\\n",
       "\t hrc\\_08              & missense    & 10,701 (5,095)    & 1.46e-03 (1.49e-03)\\\\\n",
       "\t hrc\\_08              & splice site & 4,122 (1,057)     & 1.36e-03 (1.35e-03)\\\\\n",
       "\t hrc\\_08              & All         & 15,111            & 1.43e-03           \\\\\n",
       "\t topmed\\_03           & LoF         & 10,963            & 1.22e-04           \\\\\n",
       "\t topmed\\_03           & missense    & 167,300 (97,358)  & 1.67e-04 (1.47e-04)\\\\\n",
       "\t topmed\\_03           & splice site & 63,932 (20,037)   & 1.83e-04 (1.32e-04)\\\\\n",
       "\t topmed\\_03           & All         & 242,195           & 1.69e-04           \\\\\n",
       "\t topmed\\_08           & LoF         & 3,404             & 2.59e-04           \\\\\n",
       "\t topmed\\_08           & missense    & 54,809 (31,567)   & 3.82e-04 (3.37e-04)\\\\\n",
       "\t topmed\\_08           & splice site & 21,362 (6,535)    & 3.93e-04 (2.99e-04)\\\\\n",
       "\t topmed\\_08           & All         & 79,575            & 3.80e-04           \\\\\n",
       "\t hrc\\_topmed\\_03       & LoF         & 11,031            & 1.25e-04           \\\\\n",
       "\t hrc\\_topmed\\_03       & missense    & 169,812 (98,398)  & 1.70e-04 (1.49e-04)\\\\\n",
       "\t hrc\\_topmed\\_03       & splice site & 64,820 (20,225)   & 1.85e-04 (1.34e-04)\\\\\n",
       "\t hrc\\_topmed\\_03       & All         & 245,663           & 1.72e-04           \\\\\n",
       "\t hrc\\_topmed\\_08       & LoF         & 3,485             & 2.65e-04           \\\\\n",
       "\t hrc\\_topmed\\_08       & missense    & 57,643 (32,667)   & 3.83e-04 (3.39e-04)\\\\\n",
       "\t hrc\\_topmed\\_08       & splice site & 22,611 (6,789)    & 3.88e-04 (2.99e-04)\\\\\n",
       "\t hrc\\_topmed\\_08       & All         & 83,739            & 3.80e-04           \\\\\n",
       "\t hrc\\_topmed\\_exome\\_03 & LoF         & 56,193            & 6.67e-05           \\\\\n",
       "\t hrc\\_topmed\\_exome\\_03 & missense    & 600,709 (355,228) & 9.06e-05 (7.93e-05)\\\\\n",
       "\t hrc\\_topmed\\_exome\\_03 & splice site & 218,327 (78,612)  & 1.02e-04 (7.10e-05)\\\\\n",
       "\t hrc\\_topmed\\_exome\\_03 & All         & 875,229           & 9.22e-05           \\\\\n",
       "\t hrc\\_topmed\\_exome\\_08 & LoF         & 53,822            & 6.88e-05           \\\\\n",
       "\t hrc\\_topmed\\_exome\\_08 & missense    & 575,036 (354,919) & 9.40e-05 (7.85e-05)\\\\\n",
       "\t hrc\\_topmed\\_exome\\_08 & splice site & 204,931 (78,536)  & 1.06e-04 (7.06e-05)\\\\\n",
       "\t hrc\\_topmed\\_exome\\_08 & All         & 833,789           & 9.57e-05           \\\\\n",
       "\\end{tabular}\n"
      ],
      "text/markdown": [
       "\n",
       "A grouped_df: 36 × 4\n",
       "\n",
       "| data &lt;chr&gt; | Function &lt;chr&gt; | num_var &lt;chr&gt; | MAF_mean &lt;chr&gt; |\n",
       "|---|---|---|---|\n",
       "| exome               | LoF         | 53,227            | 6.85e-05            |\n",
       "| exome               | missense    | 569,846 (354,899) | 9.39e-05 (7.84e-05) |\n",
       "| exome               | splice site | 200,811 (78,518)  | 1.06e-04 (7.04e-05) |\n",
       "| exome               | All         | 823,884           | 9.55e-05            |\n",
       "| hrc_03              | LoF         | 566               | 7.69e-04            |\n",
       "| hrc_03              | missense    | 25,022 (12,339)   | 8.15e-04 (8.11e-04) |\n",
       "| hrc_03              | splice site | 9,801 (2,380)     | 7.89e-04 (7.79e-04) |\n",
       "| hrc_03              | All         | 35,389            | 8.08e-04            |\n",
       "| hrc_08              | LoF         | 288               | 1.14e-03            |\n",
       "| hrc_08              | missense    | 10,701 (5,095)    | 1.46e-03 (1.49e-03) |\n",
       "| hrc_08              | splice site | 4,122 (1,057)     | 1.36e-03 (1.35e-03) |\n",
       "| hrc_08              | All         | 15,111            | 1.43e-03            |\n",
       "| topmed_03           | LoF         | 10,963            | 1.22e-04            |\n",
       "| topmed_03           | missense    | 167,300 (97,358)  | 1.67e-04 (1.47e-04) |\n",
       "| topmed_03           | splice site | 63,932 (20,037)   | 1.83e-04 (1.32e-04) |\n",
       "| topmed_03           | All         | 242,195           | 1.69e-04            |\n",
       "| topmed_08           | LoF         | 3,404             | 2.59e-04            |\n",
       "| topmed_08           | missense    | 54,809 (31,567)   | 3.82e-04 (3.37e-04) |\n",
       "| topmed_08           | splice site | 21,362 (6,535)    | 3.93e-04 (2.99e-04) |\n",
       "| topmed_08           | All         | 79,575            | 3.80e-04            |\n",
       "| hrc_topmed_03       | LoF         | 11,031            | 1.25e-04            |\n",
       "| hrc_topmed_03       | missense    | 169,812 (98,398)  | 1.70e-04 (1.49e-04) |\n",
       "| hrc_topmed_03       | splice site | 64,820 (20,225)   | 1.85e-04 (1.34e-04) |\n",
       "| hrc_topmed_03       | All         | 245,663           | 1.72e-04            |\n",
       "| hrc_topmed_08       | LoF         | 3,485             | 2.65e-04            |\n",
       "| hrc_topmed_08       | missense    | 57,643 (32,667)   | 3.83e-04 (3.39e-04) |\n",
       "| hrc_topmed_08       | splice site | 22,611 (6,789)    | 3.88e-04 (2.99e-04) |\n",
       "| hrc_topmed_08       | All         | 83,739            | 3.80e-04            |\n",
       "| hrc_topmed_exome_03 | LoF         | 56,193            | 6.67e-05            |\n",
       "| hrc_topmed_exome_03 | missense    | 600,709 (355,228) | 9.06e-05 (7.93e-05) |\n",
       "| hrc_topmed_exome_03 | splice site | 218,327 (78,612)  | 1.02e-04 (7.10e-05) |\n",
       "| hrc_topmed_exome_03 | All         | 875,229           | 9.22e-05            |\n",
       "| hrc_topmed_exome_08 | LoF         | 53,822            | 6.88e-05            |\n",
       "| hrc_topmed_exome_08 | missense    | 575,036 (354,919) | 9.40e-05 (7.85e-05) |\n",
       "| hrc_topmed_exome_08 | splice site | 204,931 (78,536)  | 1.06e-04 (7.06e-05) |\n",
       "| hrc_topmed_exome_08 | All         | 833,789           | 9.57e-05            |\n",
       "\n"
      ],
      "text/plain": [
       "   data                Function    num_var           MAF_mean           \n",
       "1  exome               LoF         53,227            6.85e-05           \n",
       "2  exome               missense    569,846 (354,899) 9.39e-05 (7.84e-05)\n",
       "3  exome               splice site 200,811 (78,518)  1.06e-04 (7.04e-05)\n",
       "4  exome               All         823,884           9.55e-05           \n",
       "5  hrc_03              LoF         566               7.69e-04           \n",
       "6  hrc_03              missense    25,022 (12,339)   8.15e-04 (8.11e-04)\n",
       "7  hrc_03              splice site 9,801 (2,380)     7.89e-04 (7.79e-04)\n",
       "8  hrc_03              All         35,389            8.08e-04           \n",
       "9  hrc_08              LoF         288               1.14e-03           \n",
       "10 hrc_08              missense    10,701 (5,095)    1.46e-03 (1.49e-03)\n",
       "11 hrc_08              splice site 4,122 (1,057)     1.36e-03 (1.35e-03)\n",
       "12 hrc_08              All         15,111            1.43e-03           \n",
       "13 topmed_03           LoF         10,963            1.22e-04           \n",
       "14 topmed_03           missense    167,300 (97,358)  1.67e-04 (1.47e-04)\n",
       "15 topmed_03           splice site 63,932 (20,037)   1.83e-04 (1.32e-04)\n",
       "16 topmed_03           All         242,195           1.69e-04           \n",
       "17 topmed_08           LoF         3,404             2.59e-04           \n",
       "18 topmed_08           missense    54,809 (31,567)   3.82e-04 (3.37e-04)\n",
       "19 topmed_08           splice site 21,362 (6,535)    3.93e-04 (2.99e-04)\n",
       "20 topmed_08           All         79,575            3.80e-04           \n",
       "21 hrc_topmed_03       LoF         11,031            1.25e-04           \n",
       "22 hrc_topmed_03       missense    169,812 (98,398)  1.70e-04 (1.49e-04)\n",
       "23 hrc_topmed_03       splice site 64,820 (20,225)   1.85e-04 (1.34e-04)\n",
       "24 hrc_topmed_03       All         245,663           1.72e-04           \n",
       "25 hrc_topmed_08       LoF         3,485             2.65e-04           \n",
       "26 hrc_topmed_08       missense    57,643 (32,667)   3.83e-04 (3.39e-04)\n",
       "27 hrc_topmed_08       splice site 22,611 (6,789)    3.88e-04 (2.99e-04)\n",
       "28 hrc_topmed_08       All         83,739            3.80e-04           \n",
       "29 hrc_topmed_exome_03 LoF         56,193            6.67e-05           \n",
       "30 hrc_topmed_exome_03 missense    600,709 (355,228) 9.06e-05 (7.93e-05)\n",
       "31 hrc_topmed_exome_03 splice site 218,327 (78,612)  1.02e-04 (7.10e-05)\n",
       "32 hrc_topmed_exome_03 All         875,229           9.22e-05           \n",
       "33 hrc_topmed_exome_08 LoF         53,822            6.88e-05           \n",
       "34 hrc_topmed_exome_08 missense    575,036 (354,919) 9.40e-05 (7.85e-05)\n",
       "35 hrc_topmed_exome_08 splice site 204,931 (78,536)  1.06e-04 (7.06e-05)\n",
       "36 hrc_topmed_exome_08 All         833,789           9.57e-05           "
      ]
     },
     "metadata": {},
     "output_type": "display_data"
    }
   ],
   "source": [
    "tab_maf001"
   ]
  },
  {
   "cell_type": "code",
   "execution_count": 70,
   "id": "55bab153-c1c3-4fdf-bf2e-48d6a953a0e5",
   "metadata": {
    "kernel": "R",
    "tags": []
   },
   "outputs": [
    {
     "data": {
      "text/html": [
       "<table class=\"dataframe\">\n",
       "<caption>A grouped_df: 36 × 4</caption>\n",
       "<thead>\n",
       "\t<tr><th scope=col>data</th><th scope=col>Function</th><th scope=col>num_var</th><th scope=col>MAF_mean</th></tr>\n",
       "\t<tr><th scope=col>&lt;chr&gt;</th><th scope=col>&lt;chr&gt;</th><th scope=col>&lt;chr&gt;</th><th scope=col>&lt;chr&gt;</th></tr>\n",
       "</thead>\n",
       "<tbody>\n",
       "\t<tr><td>exome              </td><td>LoF        </td><td>53,185           </td><td>5.29e-05           </td></tr>\n",
       "\t<tr><td>exome              </td><td>missense   </td><td>568,797 (354,419)</td><td>6.89e-05 (5.95e-05)</td></tr>\n",
       "\t<tr><td>exome              </td><td>splice site</td><td>200,388 (78,443) </td><td>7.49e-05 (5.51e-05)</td></tr>\n",
       "\t<tr><td>exome              </td><td>All        </td><td>822,370          </td><td>6.96e-05           </td></tr>\n",
       "\t<tr><td>hrc_03             </td><td>LoF        </td><td>545              </td><td>4.99e-04           </td></tr>\n",
       "\t<tr><td>hrc_03             </td><td>missense   </td><td>24,044 (11,875)  </td><td>5.59e-04 (5.68e-04)</td></tr>\n",
       "\t<tr><td>hrc_03             </td><td>splice site</td><td>9,456 (2,295)    </td><td>5.28e-04 (5.37e-04)</td></tr>\n",
       "\t<tr><td>hrc_03             </td><td>All        </td><td>34,045           </td><td>5.50e-04           </td></tr>\n",
       "\t<tr><td>hrc_08             </td><td>LoF        </td><td>270              </td><td>7.12e-04           </td></tr>\n",
       "\t<tr><td>hrc_08             </td><td>missense   </td><td>9,812 (4,672)    </td><td>9.45e-04 (9.93e-04)</td></tr>\n",
       "\t<tr><td>hrc_08             </td><td>splice site</td><td>3,818 (976)      </td><td>8.30e-04 (8.61e-04)</td></tr>\n",
       "\t<tr><td>hrc_08             </td><td>All        </td><td>13,900           </td><td>9.12e-04           </td></tr>\n",
       "\t<tr><td>topmed_03          </td><td>LoF        </td><td>10,926           </td><td>9.16e-05           </td></tr>\n",
       "\t<tr><td>topmed_03          </td><td>missense   </td><td>166,341 (96,897) </td><td>1.21e-04 (1.09e-04)</td></tr>\n",
       "\t<tr><td>topmed_03          </td><td>splice site</td><td>63,541 (19,962)  </td><td>1.28e-04 (9.99e-05)</td></tr>\n",
       "\t<tr><td>topmed_03          </td><td>All        </td><td>240,808          </td><td>1.21e-04           </td></tr>\n",
       "\t<tr><td>topmed_08          </td><td>LoF        </td><td>3,371            </td><td>1.78e-04           </td></tr>\n",
       "\t<tr><td>topmed_08          </td><td>missense   </td><td>53,874 (31,113)  </td><td>2.52e-04 (2.28e-04)</td></tr>\n",
       "\t<tr><td>topmed_08          </td><td>splice site</td><td>21,008 (6,460)   </td><td>2.49e-04 (2.05e-04)</td></tr>\n",
       "\t<tr><td>topmed_08          </td><td>All        </td><td>78,253           </td><td>2.48e-04           </td></tr>\n",
       "\t<tr><td>hrc_topmed_03      </td><td>LoF        </td><td>10,992           </td><td>9.23e-05           </td></tr>\n",
       "\t<tr><td>hrc_topmed_03      </td><td>missense   </td><td>168,813 (97,921) </td><td>1.23e-04 (1.10e-04)</td></tr>\n",
       "\t<tr><td>hrc_topmed_03      </td><td>splice site</td><td>64,420 (20,147)  </td><td>1.29e-04 (1.00e-04)</td></tr>\n",
       "\t<tr><td>hrc_topmed_03      </td><td>All        </td><td>244,225          </td><td>1.23e-04           </td></tr>\n",
       "\t<tr><td>hrc_topmed_08      </td><td>LoF        </td><td>3,451            </td><td>1.84e-04           </td></tr>\n",
       "\t<tr><td>hrc_topmed_08      </td><td>missense   </td><td>56,681 (32,206)  </td><td>2.56e-04 (2.32e-04)</td></tr>\n",
       "\t<tr><td>hrc_topmed_08      </td><td>splice site</td><td>22,251 (6,712)   </td><td>2.52e-04 (2.06e-04)</td></tr>\n",
       "\t<tr><td>hrc_topmed_08      </td><td>All        </td><td>82,383           </td><td>2.52e-04           </td></tr>\n",
       "\t<tr><td>hrc_topmed_exome_03</td><td>LoF        </td><td>56,147           </td><td>5.09e-05           </td></tr>\n",
       "\t<tr><td>hrc_topmed_exome_03</td><td>missense   </td><td>599,635 (354,738)</td><td>6.64e-05 (6.00e-05)</td></tr>\n",
       "\t<tr><td>hrc_topmed_exome_03</td><td>splice site</td><td>217,882 (78,535) </td><td>7.23e-05 (5.53e-05)</td></tr>\n",
       "\t<tr><td>hrc_topmed_exome_03</td><td>All        </td><td>873,664          </td><td>6.71e-05           </td></tr>\n",
       "\t<tr><td>hrc_topmed_exome_08</td><td>LoF        </td><td>53,778           </td><td>5.30e-05           </td></tr>\n",
       "\t<tr><td>hrc_topmed_exome_08</td><td>missense   </td><td>573,972 (354,438)</td><td>6.88e-05 (5.96e-05)</td></tr>\n",
       "\t<tr><td>hrc_topmed_exome_08</td><td>splice site</td><td>204,494 (78,460) </td><td>7.50e-05 (5.51e-05)</td></tr>\n",
       "\t<tr><td>hrc_topmed_exome_08</td><td>All        </td><td>832,244          </td><td>6.95e-05           </td></tr>\n",
       "</tbody>\n",
       "</table>\n"
      ],
      "text/latex": [
       "A grouped\\_df: 36 × 4\n",
       "\\begin{tabular}{llll}\n",
       " data & Function & num\\_var & MAF\\_mean\\\\\n",
       " <chr> & <chr> & <chr> & <chr>\\\\\n",
       "\\hline\n",
       "\t exome               & LoF         & 53,185            & 5.29e-05           \\\\\n",
       "\t exome               & missense    & 568,797 (354,419) & 6.89e-05 (5.95e-05)\\\\\n",
       "\t exome               & splice site & 200,388 (78,443)  & 7.49e-05 (5.51e-05)\\\\\n",
       "\t exome               & All         & 822,370           & 6.96e-05           \\\\\n",
       "\t hrc\\_03              & LoF         & 545               & 4.99e-04           \\\\\n",
       "\t hrc\\_03              & missense    & 24,044 (11,875)   & 5.59e-04 (5.68e-04)\\\\\n",
       "\t hrc\\_03              & splice site & 9,456 (2,295)     & 5.28e-04 (5.37e-04)\\\\\n",
       "\t hrc\\_03              & All         & 34,045            & 5.50e-04           \\\\\n",
       "\t hrc\\_08              & LoF         & 270               & 7.12e-04           \\\\\n",
       "\t hrc\\_08              & missense    & 9,812 (4,672)     & 9.45e-04 (9.93e-04)\\\\\n",
       "\t hrc\\_08              & splice site & 3,818 (976)       & 8.30e-04 (8.61e-04)\\\\\n",
       "\t hrc\\_08              & All         & 13,900            & 9.12e-04           \\\\\n",
       "\t topmed\\_03           & LoF         & 10,926            & 9.16e-05           \\\\\n",
       "\t topmed\\_03           & missense    & 166,341 (96,897)  & 1.21e-04 (1.09e-04)\\\\\n",
       "\t topmed\\_03           & splice site & 63,541 (19,962)   & 1.28e-04 (9.99e-05)\\\\\n",
       "\t topmed\\_03           & All         & 240,808           & 1.21e-04           \\\\\n",
       "\t topmed\\_08           & LoF         & 3,371             & 1.78e-04           \\\\\n",
       "\t topmed\\_08           & missense    & 53,874 (31,113)   & 2.52e-04 (2.28e-04)\\\\\n",
       "\t topmed\\_08           & splice site & 21,008 (6,460)    & 2.49e-04 (2.05e-04)\\\\\n",
       "\t topmed\\_08           & All         & 78,253            & 2.48e-04           \\\\\n",
       "\t hrc\\_topmed\\_03       & LoF         & 10,992            & 9.23e-05           \\\\\n",
       "\t hrc\\_topmed\\_03       & missense    & 168,813 (97,921)  & 1.23e-04 (1.10e-04)\\\\\n",
       "\t hrc\\_topmed\\_03       & splice site & 64,420 (20,147)   & 1.29e-04 (1.00e-04)\\\\\n",
       "\t hrc\\_topmed\\_03       & All         & 244,225           & 1.23e-04           \\\\\n",
       "\t hrc\\_topmed\\_08       & LoF         & 3,451             & 1.84e-04           \\\\\n",
       "\t hrc\\_topmed\\_08       & missense    & 56,681 (32,206)   & 2.56e-04 (2.32e-04)\\\\\n",
       "\t hrc\\_topmed\\_08       & splice site & 22,251 (6,712)    & 2.52e-04 (2.06e-04)\\\\\n",
       "\t hrc\\_topmed\\_08       & All         & 82,383            & 2.52e-04           \\\\\n",
       "\t hrc\\_topmed\\_exome\\_03 & LoF         & 56,147            & 5.09e-05           \\\\\n",
       "\t hrc\\_topmed\\_exome\\_03 & missense    & 599,635 (354,738) & 6.64e-05 (6.00e-05)\\\\\n",
       "\t hrc\\_topmed\\_exome\\_03 & splice site & 217,882 (78,535)  & 7.23e-05 (5.53e-05)\\\\\n",
       "\t hrc\\_topmed\\_exome\\_03 & All         & 873,664           & 6.71e-05           \\\\\n",
       "\t hrc\\_topmed\\_exome\\_08 & LoF         & 53,778            & 5.30e-05           \\\\\n",
       "\t hrc\\_topmed\\_exome\\_08 & missense    & 573,972 (354,438) & 6.88e-05 (5.96e-05)\\\\\n",
       "\t hrc\\_topmed\\_exome\\_08 & splice site & 204,494 (78,460)  & 7.50e-05 (5.51e-05)\\\\\n",
       "\t hrc\\_topmed\\_exome\\_08 & All         & 832,244           & 6.95e-05           \\\\\n",
       "\\end{tabular}\n"
      ],
      "text/markdown": [
       "\n",
       "A grouped_df: 36 × 4\n",
       "\n",
       "| data &lt;chr&gt; | Function &lt;chr&gt; | num_var &lt;chr&gt; | MAF_mean &lt;chr&gt; |\n",
       "|---|---|---|---|\n",
       "| exome               | LoF         | 53,185            | 5.29e-05            |\n",
       "| exome               | missense    | 568,797 (354,419) | 6.89e-05 (5.95e-05) |\n",
       "| exome               | splice site | 200,388 (78,443)  | 7.49e-05 (5.51e-05) |\n",
       "| exome               | All         | 822,370           | 6.96e-05            |\n",
       "| hrc_03              | LoF         | 545               | 4.99e-04            |\n",
       "| hrc_03              | missense    | 24,044 (11,875)   | 5.59e-04 (5.68e-04) |\n",
       "| hrc_03              | splice site | 9,456 (2,295)     | 5.28e-04 (5.37e-04) |\n",
       "| hrc_03              | All         | 34,045            | 5.50e-04            |\n",
       "| hrc_08              | LoF         | 270               | 7.12e-04            |\n",
       "| hrc_08              | missense    | 9,812 (4,672)     | 9.45e-04 (9.93e-04) |\n",
       "| hrc_08              | splice site | 3,818 (976)       | 8.30e-04 (8.61e-04) |\n",
       "| hrc_08              | All         | 13,900            | 9.12e-04            |\n",
       "| topmed_03           | LoF         | 10,926            | 9.16e-05            |\n",
       "| topmed_03           | missense    | 166,341 (96,897)  | 1.21e-04 (1.09e-04) |\n",
       "| topmed_03           | splice site | 63,541 (19,962)   | 1.28e-04 (9.99e-05) |\n",
       "| topmed_03           | All         | 240,808           | 1.21e-04            |\n",
       "| topmed_08           | LoF         | 3,371             | 1.78e-04            |\n",
       "| topmed_08           | missense    | 53,874 (31,113)   | 2.52e-04 (2.28e-04) |\n",
       "| topmed_08           | splice site | 21,008 (6,460)    | 2.49e-04 (2.05e-04) |\n",
       "| topmed_08           | All         | 78,253            | 2.48e-04            |\n",
       "| hrc_topmed_03       | LoF         | 10,992            | 9.23e-05            |\n",
       "| hrc_topmed_03       | missense    | 168,813 (97,921)  | 1.23e-04 (1.10e-04) |\n",
       "| hrc_topmed_03       | splice site | 64,420 (20,147)   | 1.29e-04 (1.00e-04) |\n",
       "| hrc_topmed_03       | All         | 244,225           | 1.23e-04            |\n",
       "| hrc_topmed_08       | LoF         | 3,451             | 1.84e-04            |\n",
       "| hrc_topmed_08       | missense    | 56,681 (32,206)   | 2.56e-04 (2.32e-04) |\n",
       "| hrc_topmed_08       | splice site | 22,251 (6,712)    | 2.52e-04 (2.06e-04) |\n",
       "| hrc_topmed_08       | All         | 82,383            | 2.52e-04            |\n",
       "| hrc_topmed_exome_03 | LoF         | 56,147            | 5.09e-05            |\n",
       "| hrc_topmed_exome_03 | missense    | 599,635 (354,738) | 6.64e-05 (6.00e-05) |\n",
       "| hrc_topmed_exome_03 | splice site | 217,882 (78,535)  | 7.23e-05 (5.53e-05) |\n",
       "| hrc_topmed_exome_03 | All         | 873,664           | 6.71e-05            |\n",
       "| hrc_topmed_exome_08 | LoF         | 53,778            | 5.30e-05            |\n",
       "| hrc_topmed_exome_08 | missense    | 573,972 (354,438) | 6.88e-05 (5.96e-05) |\n",
       "| hrc_topmed_exome_08 | splice site | 204,494 (78,460)  | 7.50e-05 (5.51e-05) |\n",
       "| hrc_topmed_exome_08 | All         | 832,244           | 6.95e-05            |\n",
       "\n"
      ],
      "text/plain": [
       "   data                Function    num_var           MAF_mean           \n",
       "1  exome               LoF         53,185            5.29e-05           \n",
       "2  exome               missense    568,797 (354,419) 6.89e-05 (5.95e-05)\n",
       "3  exome               splice site 200,388 (78,443)  7.49e-05 (5.51e-05)\n",
       "4  exome               All         822,370           6.96e-05           \n",
       "5  hrc_03              LoF         545               4.99e-04           \n",
       "6  hrc_03              missense    24,044 (11,875)   5.59e-04 (5.68e-04)\n",
       "7  hrc_03              splice site 9,456 (2,295)     5.28e-04 (5.37e-04)\n",
       "8  hrc_03              All         34,045            5.50e-04           \n",
       "9  hrc_08              LoF         270               7.12e-04           \n",
       "10 hrc_08              missense    9,812 (4,672)     9.45e-04 (9.93e-04)\n",
       "11 hrc_08              splice site 3,818 (976)       8.30e-04 (8.61e-04)\n",
       "12 hrc_08              All         13,900            9.12e-04           \n",
       "13 topmed_03           LoF         10,926            9.16e-05           \n",
       "14 topmed_03           missense    166,341 (96,897)  1.21e-04 (1.09e-04)\n",
       "15 topmed_03           splice site 63,541 (19,962)   1.28e-04 (9.99e-05)\n",
       "16 topmed_03           All         240,808           1.21e-04           \n",
       "17 topmed_08           LoF         3,371             1.78e-04           \n",
       "18 topmed_08           missense    53,874 (31,113)   2.52e-04 (2.28e-04)\n",
       "19 topmed_08           splice site 21,008 (6,460)    2.49e-04 (2.05e-04)\n",
       "20 topmed_08           All         78,253            2.48e-04           \n",
       "21 hrc_topmed_03       LoF         10,992            9.23e-05           \n",
       "22 hrc_topmed_03       missense    168,813 (97,921)  1.23e-04 (1.10e-04)\n",
       "23 hrc_topmed_03       splice site 64,420 (20,147)   1.29e-04 (1.00e-04)\n",
       "24 hrc_topmed_03       All         244,225           1.23e-04           \n",
       "25 hrc_topmed_08       LoF         3,451             1.84e-04           \n",
       "26 hrc_topmed_08       missense    56,681 (32,206)   2.56e-04 (2.32e-04)\n",
       "27 hrc_topmed_08       splice site 22,251 (6,712)    2.52e-04 (2.06e-04)\n",
       "28 hrc_topmed_08       All         82,383            2.52e-04           \n",
       "29 hrc_topmed_exome_03 LoF         56,147            5.09e-05           \n",
       "30 hrc_topmed_exome_03 missense    599,635 (354,738) 6.64e-05 (6.00e-05)\n",
       "31 hrc_topmed_exome_03 splice site 217,882 (78,535)  7.23e-05 (5.53e-05)\n",
       "32 hrc_topmed_exome_03 All         873,664           6.71e-05           \n",
       "33 hrc_topmed_exome_08 LoF         53,778            5.30e-05           \n",
       "34 hrc_topmed_exome_08 missense    573,972 (354,438) 6.88e-05 (5.96e-05)\n",
       "35 hrc_topmed_exome_08 splice site 204,494 (78,460)  7.50e-05 (5.51e-05)\n",
       "36 hrc_topmed_exome_08 All         832,244           6.95e-05           "
      ]
     },
     "metadata": {},
     "output_type": "display_data"
    }
   ],
   "source": [
    "tab_maf0005"
   ]
  },
  {
   "cell_type": "code",
   "execution_count": 71,
   "id": "d7957240-d1cb-40b9-989e-969f7da87d15",
   "metadata": {
    "kernel": "R",
    "tags": []
   },
   "outputs": [
    {
     "data": {
      "text/html": [
       "<table class=\"dataframe\">\n",
       "<caption>A grouped_df: 36 × 4</caption>\n",
       "<thead>\n",
       "\t<tr><th scope=col>data</th><th scope=col>Function</th><th scope=col>num_var</th><th scope=col>MAF_mean</th></tr>\n",
       "\t<tr><th scope=col>&lt;chr&gt;</th><th scope=col>&lt;chr&gt;</th><th scope=col>&lt;chr&gt;</th><th scope=col>&lt;chr&gt;</th></tr>\n",
       "</thead>\n",
       "<tbody>\n",
       "\t<tr><td>exome              </td><td>LoF        </td><td>52,995           </td><td>3.14e-05           </td></tr>\n",
       "\t<tr><td>exome              </td><td>missense   </td><td>564,598 (352,350)</td><td>3.73e-05 (3.39e-05)</td></tr>\n",
       "\t<tr><td>exome              </td><td>splice site</td><td>198,806 (78,068) </td><td>3.85e-05 (3.20e-05)</td></tr>\n",
       "\t<tr><td>exome              </td><td>All        </td><td>816,399          </td><td>3.73e-05           </td></tr>\n",
       "\t<tr><td>hrc_03             </td><td>LoF        </td><td>468              </td><td>2.14e-04           </td></tr>\n",
       "\t<tr><td>hrc_03             </td><td>missense   </td><td>20,068 (9,849)   </td><td>2.20e-04 (2.26e-04)</td></tr>\n",
       "\t<tr><td>hrc_03             </td><td>splice site</td><td>8,138 (1,938)    </td><td>2.08e-04 (2.18e-04)</td></tr>\n",
       "\t<tr><td>hrc_03             </td><td>All        </td><td>28,674           </td><td>2.17e-04           </td></tr>\n",
       "\t<tr><td>hrc_08             </td><td>LoF        </td><td>210              </td><td>2.69e-04           </td></tr>\n",
       "\t<tr><td>hrc_08             </td><td>missense   </td><td>6,684 (3,055)    </td><td>2.87e-04 (3.06e-04)</td></tr>\n",
       "\t<tr><td>hrc_08             </td><td>splice site</td><td>2,933 (706)      </td><td>2.50e-04 (2.88e-04)</td></tr>\n",
       "\t<tr><td>hrc_08             </td><td>All        </td><td>9,827            </td><td>2.77e-04           </td></tr>\n",
       "\t<tr><td>topmed_03          </td><td>LoF        </td><td>10,773           </td><td>5.13e-05           </td></tr>\n",
       "\t<tr><td>topmed_03          </td><td>missense   </td><td>162,422 (94,912) </td><td>6.10e-05 (5.69e-05)</td></tr>\n",
       "\t<tr><td>topmed_03          </td><td>splice site</td><td>62,069 (19,604)  </td><td>6.23e-05 (5.37e-05)</td></tr>\n",
       "\t<tr><td>topmed_03          </td><td>All        </td><td>235,264          </td><td>6.09e-05           </td></tr>\n",
       "\t<tr><td>topmed_08          </td><td>LoF        </td><td>3,245            </td><td>7.52e-05           </td></tr>\n",
       "\t<tr><td>topmed_08          </td><td>missense   </td><td>50,405 (29,314)  </td><td>8.95e-05 (8.42e-05)</td></tr>\n",
       "\t<tr><td>topmed_08          </td><td>splice site</td><td>19,813 (6,145)   </td><td>8.91e-05 (8.06e-05)</td></tr>\n",
       "\t<tr><td>topmed_08          </td><td>All        </td><td>73,463           </td><td>8.88e-05           </td></tr>\n",
       "\t<tr><td>hrc_topmed_03      </td><td>LoF        </td><td>10,836           </td><td>5.16e-05           </td></tr>\n",
       "\t<tr><td>hrc_topmed_03      </td><td>missense   </td><td>164,753 (95,868) </td><td>6.14e-05 (5.71e-05)</td></tr>\n",
       "\t<tr><td>hrc_topmed_03      </td><td>splice site</td><td>62,911 (19,791)  </td><td>6.26e-05 (5.38e-05)</td></tr>\n",
       "\t<tr><td>hrc_topmed_03      </td><td>All        </td><td>238,500          </td><td>6.12e-05           </td></tr>\n",
       "\t<tr><td>hrc_topmed_08      </td><td>LoF        </td><td>3,319            </td><td>7.96e-05           </td></tr>\n",
       "\t<tr><td>hrc_topmed_08      </td><td>missense   </td><td>52,981 (30,308)  </td><td>9.52e-05 (8.90e-05)</td></tr>\n",
       "\t<tr><td>hrc_topmed_08      </td><td>splice site</td><td>20,982 (6,389)   </td><td>9.42e-05 (8.52e-05)</td></tr>\n",
       "\t<tr><td>hrc_topmed_08      </td><td>All        </td><td>77,282           </td><td>9.43e-05           </td></tr>\n",
       "\t<tr><td>hrc_topmed_exome_03</td><td>LoF        </td><td>55,953           </td><td>3.04e-05           </td></tr>\n",
       "\t<tr><td>hrc_topmed_exome_03</td><td>missense   </td><td>595,348 (352,631)</td><td>3.60e-05 (3.39e-05)</td></tr>\n",
       "\t<tr><td>hrc_topmed_exome_03</td><td>splice site</td><td>216,243 (78,156) </td><td>3.73e-05 (3.20e-05)</td></tr>\n",
       "\t<tr><td>hrc_topmed_exome_03</td><td>All        </td><td>867,544          </td><td>3.60e-05           </td></tr>\n",
       "\t<tr><td>hrc_topmed_exome_08</td><td>LoF        </td><td>53,586           </td><td>3.14e-05           </td></tr>\n",
       "\t<tr><td>hrc_topmed_exome_08</td><td>missense   </td><td>569,733 (352,365)</td><td>3.72e-05 (3.39e-05)</td></tr>\n",
       "\t<tr><td>hrc_topmed_exome_08</td><td>splice site</td><td>202,885 (78,085) </td><td>3.85e-05 (3.20e-05)</td></tr>\n",
       "\t<tr><td>hrc_topmed_exome_08</td><td>All        </td><td>826,204          </td><td>3.72e-05           </td></tr>\n",
       "</tbody>\n",
       "</table>\n"
      ],
      "text/latex": [
       "A grouped\\_df: 36 × 4\n",
       "\\begin{tabular}{llll}\n",
       " data & Function & num\\_var & MAF\\_mean\\\\\n",
       " <chr> & <chr> & <chr> & <chr>\\\\\n",
       "\\hline\n",
       "\t exome               & LoF         & 52,995            & 3.14e-05           \\\\\n",
       "\t exome               & missense    & 564,598 (352,350) & 3.73e-05 (3.39e-05)\\\\\n",
       "\t exome               & splice site & 198,806 (78,068)  & 3.85e-05 (3.20e-05)\\\\\n",
       "\t exome               & All         & 816,399           & 3.73e-05           \\\\\n",
       "\t hrc\\_03              & LoF         & 468               & 2.14e-04           \\\\\n",
       "\t hrc\\_03              & missense    & 20,068 (9,849)    & 2.20e-04 (2.26e-04)\\\\\n",
       "\t hrc\\_03              & splice site & 8,138 (1,938)     & 2.08e-04 (2.18e-04)\\\\\n",
       "\t hrc\\_03              & All         & 28,674            & 2.17e-04           \\\\\n",
       "\t hrc\\_08              & LoF         & 210               & 2.69e-04           \\\\\n",
       "\t hrc\\_08              & missense    & 6,684 (3,055)     & 2.87e-04 (3.06e-04)\\\\\n",
       "\t hrc\\_08              & splice site & 2,933 (706)       & 2.50e-04 (2.88e-04)\\\\\n",
       "\t hrc\\_08              & All         & 9,827             & 2.77e-04           \\\\\n",
       "\t topmed\\_03           & LoF         & 10,773            & 5.13e-05           \\\\\n",
       "\t topmed\\_03           & missense    & 162,422 (94,912)  & 6.10e-05 (5.69e-05)\\\\\n",
       "\t topmed\\_03           & splice site & 62,069 (19,604)   & 6.23e-05 (5.37e-05)\\\\\n",
       "\t topmed\\_03           & All         & 235,264           & 6.09e-05           \\\\\n",
       "\t topmed\\_08           & LoF         & 3,245             & 7.52e-05           \\\\\n",
       "\t topmed\\_08           & missense    & 50,405 (29,314)   & 8.95e-05 (8.42e-05)\\\\\n",
       "\t topmed\\_08           & splice site & 19,813 (6,145)    & 8.91e-05 (8.06e-05)\\\\\n",
       "\t topmed\\_08           & All         & 73,463            & 8.88e-05           \\\\\n",
       "\t hrc\\_topmed\\_03       & LoF         & 10,836            & 5.16e-05           \\\\\n",
       "\t hrc\\_topmed\\_03       & missense    & 164,753 (95,868)  & 6.14e-05 (5.71e-05)\\\\\n",
       "\t hrc\\_topmed\\_03       & splice site & 62,911 (19,791)   & 6.26e-05 (5.38e-05)\\\\\n",
       "\t hrc\\_topmed\\_03       & All         & 238,500           & 6.12e-05           \\\\\n",
       "\t hrc\\_topmed\\_08       & LoF         & 3,319             & 7.96e-05           \\\\\n",
       "\t hrc\\_topmed\\_08       & missense    & 52,981 (30,308)   & 9.52e-05 (8.90e-05)\\\\\n",
       "\t hrc\\_topmed\\_08       & splice site & 20,982 (6,389)    & 9.42e-05 (8.52e-05)\\\\\n",
       "\t hrc\\_topmed\\_08       & All         & 77,282            & 9.43e-05           \\\\\n",
       "\t hrc\\_topmed\\_exome\\_03 & LoF         & 55,953            & 3.04e-05           \\\\\n",
       "\t hrc\\_topmed\\_exome\\_03 & missense    & 595,348 (352,631) & 3.60e-05 (3.39e-05)\\\\\n",
       "\t hrc\\_topmed\\_exome\\_03 & splice site & 216,243 (78,156)  & 3.73e-05 (3.20e-05)\\\\\n",
       "\t hrc\\_topmed\\_exome\\_03 & All         & 867,544           & 3.60e-05           \\\\\n",
       "\t hrc\\_topmed\\_exome\\_08 & LoF         & 53,586            & 3.14e-05           \\\\\n",
       "\t hrc\\_topmed\\_exome\\_08 & missense    & 569,733 (352,365) & 3.72e-05 (3.39e-05)\\\\\n",
       "\t hrc\\_topmed\\_exome\\_08 & splice site & 202,885 (78,085)  & 3.85e-05 (3.20e-05)\\\\\n",
       "\t hrc\\_topmed\\_exome\\_08 & All         & 826,204           & 3.72e-05           \\\\\n",
       "\\end{tabular}\n"
      ],
      "text/markdown": [
       "\n",
       "A grouped_df: 36 × 4\n",
       "\n",
       "| data &lt;chr&gt; | Function &lt;chr&gt; | num_var &lt;chr&gt; | MAF_mean &lt;chr&gt; |\n",
       "|---|---|---|---|\n",
       "| exome               | LoF         | 52,995            | 3.14e-05            |\n",
       "| exome               | missense    | 564,598 (352,350) | 3.73e-05 (3.39e-05) |\n",
       "| exome               | splice site | 198,806 (78,068)  | 3.85e-05 (3.20e-05) |\n",
       "| exome               | All         | 816,399           | 3.73e-05            |\n",
       "| hrc_03              | LoF         | 468               | 2.14e-04            |\n",
       "| hrc_03              | missense    | 20,068 (9,849)    | 2.20e-04 (2.26e-04) |\n",
       "| hrc_03              | splice site | 8,138 (1,938)     | 2.08e-04 (2.18e-04) |\n",
       "| hrc_03              | All         | 28,674            | 2.17e-04            |\n",
       "| hrc_08              | LoF         | 210               | 2.69e-04            |\n",
       "| hrc_08              | missense    | 6,684 (3,055)     | 2.87e-04 (3.06e-04) |\n",
       "| hrc_08              | splice site | 2,933 (706)       | 2.50e-04 (2.88e-04) |\n",
       "| hrc_08              | All         | 9,827             | 2.77e-04            |\n",
       "| topmed_03           | LoF         | 10,773            | 5.13e-05            |\n",
       "| topmed_03           | missense    | 162,422 (94,912)  | 6.10e-05 (5.69e-05) |\n",
       "| topmed_03           | splice site | 62,069 (19,604)   | 6.23e-05 (5.37e-05) |\n",
       "| topmed_03           | All         | 235,264           | 6.09e-05            |\n",
       "| topmed_08           | LoF         | 3,245             | 7.52e-05            |\n",
       "| topmed_08           | missense    | 50,405 (29,314)   | 8.95e-05 (8.42e-05) |\n",
       "| topmed_08           | splice site | 19,813 (6,145)    | 8.91e-05 (8.06e-05) |\n",
       "| topmed_08           | All         | 73,463            | 8.88e-05            |\n",
       "| hrc_topmed_03       | LoF         | 10,836            | 5.16e-05            |\n",
       "| hrc_topmed_03       | missense    | 164,753 (95,868)  | 6.14e-05 (5.71e-05) |\n",
       "| hrc_topmed_03       | splice site | 62,911 (19,791)   | 6.26e-05 (5.38e-05) |\n",
       "| hrc_topmed_03       | All         | 238,500           | 6.12e-05            |\n",
       "| hrc_topmed_08       | LoF         | 3,319             | 7.96e-05            |\n",
       "| hrc_topmed_08       | missense    | 52,981 (30,308)   | 9.52e-05 (8.90e-05) |\n",
       "| hrc_topmed_08       | splice site | 20,982 (6,389)    | 9.42e-05 (8.52e-05) |\n",
       "| hrc_topmed_08       | All         | 77,282            | 9.43e-05            |\n",
       "| hrc_topmed_exome_03 | LoF         | 55,953            | 3.04e-05            |\n",
       "| hrc_topmed_exome_03 | missense    | 595,348 (352,631) | 3.60e-05 (3.39e-05) |\n",
       "| hrc_topmed_exome_03 | splice site | 216,243 (78,156)  | 3.73e-05 (3.20e-05) |\n",
       "| hrc_topmed_exome_03 | All         | 867,544           | 3.60e-05            |\n",
       "| hrc_topmed_exome_08 | LoF         | 53,586            | 3.14e-05            |\n",
       "| hrc_topmed_exome_08 | missense    | 569,733 (352,365) | 3.72e-05 (3.39e-05) |\n",
       "| hrc_topmed_exome_08 | splice site | 202,885 (78,085)  | 3.85e-05 (3.20e-05) |\n",
       "| hrc_topmed_exome_08 | All         | 826,204           | 3.72e-05            |\n",
       "\n"
      ],
      "text/plain": [
       "   data                Function    num_var           MAF_mean           \n",
       "1  exome               LoF         52,995            3.14e-05           \n",
       "2  exome               missense    564,598 (352,350) 3.73e-05 (3.39e-05)\n",
       "3  exome               splice site 198,806 (78,068)  3.85e-05 (3.20e-05)\n",
       "4  exome               All         816,399           3.73e-05           \n",
       "5  hrc_03              LoF         468               2.14e-04           \n",
       "6  hrc_03              missense    20,068 (9,849)    2.20e-04 (2.26e-04)\n",
       "7  hrc_03              splice site 8,138 (1,938)     2.08e-04 (2.18e-04)\n",
       "8  hrc_03              All         28,674            2.17e-04           \n",
       "9  hrc_08              LoF         210               2.69e-04           \n",
       "10 hrc_08              missense    6,684 (3,055)     2.87e-04 (3.06e-04)\n",
       "11 hrc_08              splice site 2,933 (706)       2.50e-04 (2.88e-04)\n",
       "12 hrc_08              All         9,827             2.77e-04           \n",
       "13 topmed_03           LoF         10,773            5.13e-05           \n",
       "14 topmed_03           missense    162,422 (94,912)  6.10e-05 (5.69e-05)\n",
       "15 topmed_03           splice site 62,069 (19,604)   6.23e-05 (5.37e-05)\n",
       "16 topmed_03           All         235,264           6.09e-05           \n",
       "17 topmed_08           LoF         3,245             7.52e-05           \n",
       "18 topmed_08           missense    50,405 (29,314)   8.95e-05 (8.42e-05)\n",
       "19 topmed_08           splice site 19,813 (6,145)    8.91e-05 (8.06e-05)\n",
       "20 topmed_08           All         73,463            8.88e-05           \n",
       "21 hrc_topmed_03       LoF         10,836            5.16e-05           \n",
       "22 hrc_topmed_03       missense    164,753 (95,868)  6.14e-05 (5.71e-05)\n",
       "23 hrc_topmed_03       splice site 62,911 (19,791)   6.26e-05 (5.38e-05)\n",
       "24 hrc_topmed_03       All         238,500           6.12e-05           \n",
       "25 hrc_topmed_08       LoF         3,319             7.96e-05           \n",
       "26 hrc_topmed_08       missense    52,981 (30,308)   9.52e-05 (8.90e-05)\n",
       "27 hrc_topmed_08       splice site 20,982 (6,389)    9.42e-05 (8.52e-05)\n",
       "28 hrc_topmed_08       All         77,282            9.43e-05           \n",
       "29 hrc_topmed_exome_03 LoF         55,953            3.04e-05           \n",
       "30 hrc_topmed_exome_03 missense    595,348 (352,631) 3.60e-05 (3.39e-05)\n",
       "31 hrc_topmed_exome_03 splice site 216,243 (78,156)  3.73e-05 (3.20e-05)\n",
       "32 hrc_topmed_exome_03 All         867,544           3.60e-05           \n",
       "33 hrc_topmed_exome_08 LoF         53,586            3.14e-05           \n",
       "34 hrc_topmed_exome_08 missense    569,733 (352,365) 3.72e-05 (3.39e-05)\n",
       "35 hrc_topmed_exome_08 splice site 202,885 (78,085)  3.85e-05 (3.20e-05)\n",
       "36 hrc_topmed_exome_08 All         826,204           3.72e-05           "
      ]
     },
     "metadata": {},
     "output_type": "display_data"
    }
   ],
   "source": [
    "tab_maf0001"
   ]
  },
  {
   "cell_type": "markdown",
   "id": "b6954f6a-b45e-4776-b4b2-40099982b39d",
   "metadata": {
    "kernel": "R"
   },
   "source": [
    "## Gene summary table"
   ]
  },
  {
   "cell_type": "code",
   "execution_count": 73,
   "id": "04de72d8-b826-45cf-8c3d-92cb7bb0d482",
   "metadata": {
    "kernel": "R",
    "tags": []
   },
   "outputs": [],
   "source": [
    "format_gene_table <- function(df){\n",
    "    num_gene_all <- df$Gene.refGene %>% unique() %>% length()\n",
    "    num_gene_all_cadd <- df %>% \n",
    "            filter(Function == \"LoF\" | (Function != \"LoF\" & PHRED >= 20)) %>% \n",
    "            pull(Gene.refGene) %>% \n",
    "            unique() %>% length()\n",
    "    \n",
    "    return(data.frame(all = num_gene_all, \n",
    "                      cadd = num_gene_all_cadd))\n",
    "}"
   ]
  },
  {
   "cell_type": "code",
   "execution_count": 74,
   "id": "7a92dbf7-c4bd-4ccd-936d-b866e3ec1778",
   "metadata": {
    "kernel": "R",
    "tags": []
   },
   "outputs": [],
   "source": [
    "generate_summary <- function(maf){\n",
    "    maf <- gsub(\"\\\\.\", \"\", as.character(maf))\n",
    "    \n",
    "    exome_chr1 <- fread(sprintf(\"./exome/ukb23156_c1.merged.filtered.hg38.hg38_multianno_formatted_sel_col_maf%s_LOF_missense.csv.gz\", maf))\n",
    "    exome_chr2 <- fread(sprintf(\"./exome/ukb23156_c2.merged.filtered.hg38.hg38_multianno_formatted_sel_col_maf%s_LOF_missense.csv.gz\", maf))\n",
    "\n",
    "    hrc_03_chr1 <- fread(sprintf(\"./hrc/hrc_chr1_rsq03_hg19_hg38_maf%s_LOF_missense_annot.csv.gz\", maf))\n",
    "    hrc_03_chr2 <- fread(sprintf(\"./hrc/hrc_chr2_rsq03_hg19_hg38_maf%s_LOF_missense_annot.csv.gz\", maf))\n",
    "\n",
    "    hrc_08_chr1 <- fread(sprintf(\"./hrc/hrc_chr1_rsq08_hg19_hg38_maf%s_LOF_missense_annot.csv.gz\", maf))\n",
    "    hrc_08_chr2 <- fread(sprintf(\"./hrc/hrc_chr2_rsq08_hg19_hg38_maf%s_LOF_missense_annot.csv.gz\", maf))\n",
    "\n",
    "    topmed_03_chr1 <- fread(sprintf(\"./topmed_v3/topmed_chr1_rsq03_hg38_hg38_maf%s_LOF_missense_annot.csv.gz\", maf))\n",
    "    topmed_03_chr2 <- fread(sprintf(\"./topmed_v3/topmed_chr2_rsq03_hg38_hg38_maf%s_LOF_missense_annot.csv.gz\", maf))\n",
    "\n",
    "    topmed_08_chr1 <- fread(sprintf(\"./topmed_v3/topmed_chr1_rsq08_hg38_hg38_maf%s_LOF_missense_annot.csv.gz\", maf))\n",
    "    topmed_08_chr2 <- fread(sprintf(\"./topmed_v3/topmed_chr2_rsq08_hg38_hg38_maf%s_LOF_missense_annot.csv.gz\", maf))\n",
    "\n",
    "    hrc_topmed_exome_03 <- fread(sprintf(\"./hrc_topmed_exome/hrc_topmed_v3_exome_168206ids_rsq03_maf%s_annot.csv.gz\", maf))\n",
    "    hrc_topmed_exome_08 <- fread(sprintf(\"./hrc_topmed_exome/hrc_topmed_v3_exome_168206ids_rsq08_maf%s_annot.csv.gz\", maf))\n",
    "    hrc_topmed_03 <- fread(sprintf(\"./hrc_topmed/hrc_topmed_v3_168206ids_rsq03_maf%s_annot.csv.gz\", maf))\n",
    "    hrc_topmed_08 <- fread(sprintf(\"./hrc_topmed/hrc_topmed_v3_168206ids_rsq08_maf%s_annot.csv.gz\", maf))\n",
    "    \n",
    "    exome <- format_gene_table(rbind(exome_chr1, exome_chr2))\n",
    "    hrc_03 <- format_gene_table(rbind(hrc_03_chr1, hrc_03_chr2))\n",
    "    hrc_08 <- format_gene_table(rbind(hrc_08_chr1, hrc_08_chr2))\n",
    "    topmed_03 <- format_gene_table(rbind(topmed_03_chr1, topmed_03_chr2))\n",
    "    topmed_08 <- format_gene_table(rbind(topmed_08_chr1, topmed_08_chr2))\n",
    "    hrc_topmed_03_f <- format_gene_table(hrc_topmed_03)\n",
    "    hrc_topmed_08_f <- format_gene_table(hrc_topmed_08)\n",
    "    hrc_topmed_exome_03_f <- format_gene_table(hrc_topmed_exome_03)\n",
    "    hrc_topmed_exome_08_f <- format_gene_table(hrc_topmed_exome_08)\n",
    "    \n",
    "    full_summary <- rbind(exome, hrc_03, hrc_08, topmed_03, topmed_08, hrc_topmed_03_f, hrc_topmed_08_f, hrc_topmed_exome_03_f, hrc_topmed_exome_08_f)\n",
    "    full_summary <- full_summary %>% \n",
    "        mutate(data = c(rep(\"exome\", 1), \n",
    "                        rep(\"hrc_03\", 1), rep(\"hrc_08\", 1),\n",
    "                        rep(\"topmed_03\", 1), rep(\"topmed_08\", 1),\n",
    "                        rep(\"hrc_topmed_03\", 1), rep(\"hrc_topmed_08\", 1),\n",
    "                        rep(\"hrc_topmed_exome_03\", 1), rep(\"hrc_topmed_exome_08\", 1))) %>%\n",
    "        select(data, all, cadd)\n",
    "    return(full_summary)\n",
    "}"
   ]
  },
  {
   "cell_type": "code",
   "execution_count": 60,
   "id": "b2baf028-e57c-427d-924d-76d13d02f6fa",
   "metadata": {
    "kernel": "R",
    "tags": []
   },
   "outputs": [
    {
     "data": {
      "text/html": [
       "<table class=\"dataframe\">\n",
       "<caption>A data.frame: 9 × 3</caption>\n",
       "<thead>\n",
       "\t<tr><th scope=col>data</th><th scope=col>all</th><th scope=col>cadd</th></tr>\n",
       "\t<tr><th scope=col>&lt;chr&gt;</th><th scope=col>&lt;int&gt;</th><th scope=col>&lt;int&gt;</th></tr>\n",
       "</thead>\n",
       "<tbody>\n",
       "\t<tr><td>exome              </td><td>3146</td><td>3142</td></tr>\n",
       "\t<tr><td>hrc_03             </td><td>2922</td><td>2656</td></tr>\n",
       "\t<tr><td>hrc_08             </td><td>2271</td><td>1896</td></tr>\n",
       "\t<tr><td>topmed_03          </td><td>3186</td><td>3169</td></tr>\n",
       "\t<tr><td>topmed_08          </td><td>3102</td><td>3043</td></tr>\n",
       "\t<tr><td>hrc_topmed_03      </td><td>3198</td><td>3177</td></tr>\n",
       "\t<tr><td>hrc_topmed_08      </td><td>3108</td><td>3049</td></tr>\n",
       "\t<tr><td>hrc_topmed_exome_03</td><td>3203</td><td>3176</td></tr>\n",
       "\t<tr><td>hrc_topmed_exome_08</td><td>3181</td><td>3163</td></tr>\n",
       "</tbody>\n",
       "</table>\n"
      ],
      "text/latex": [
       "A data.frame: 9 × 3\n",
       "\\begin{tabular}{lll}\n",
       " data & all & cadd\\\\\n",
       " <chr> & <int> & <int>\\\\\n",
       "\\hline\n",
       "\t exome               & 3146 & 3142\\\\\n",
       "\t hrc\\_03              & 2922 & 2656\\\\\n",
       "\t hrc\\_08              & 2271 & 1896\\\\\n",
       "\t topmed\\_03           & 3186 & 3169\\\\\n",
       "\t topmed\\_08           & 3102 & 3043\\\\\n",
       "\t hrc\\_topmed\\_03       & 3198 & 3177\\\\\n",
       "\t hrc\\_topmed\\_08       & 3108 & 3049\\\\\n",
       "\t hrc\\_topmed\\_exome\\_03 & 3203 & 3176\\\\\n",
       "\t hrc\\_topmed\\_exome\\_08 & 3181 & 3163\\\\\n",
       "\\end{tabular}\n"
      ],
      "text/markdown": [
       "\n",
       "A data.frame: 9 × 3\n",
       "\n",
       "| data &lt;chr&gt; | all &lt;int&gt; | cadd &lt;int&gt; |\n",
       "|---|---|---|\n",
       "| exome               | 3146 | 3142 |\n",
       "| hrc_03              | 2922 | 2656 |\n",
       "| hrc_08              | 2271 | 1896 |\n",
       "| topmed_03           | 3186 | 3169 |\n",
       "| topmed_08           | 3102 | 3043 |\n",
       "| hrc_topmed_03       | 3198 | 3177 |\n",
       "| hrc_topmed_08       | 3108 | 3049 |\n",
       "| hrc_topmed_exome_03 | 3203 | 3176 |\n",
       "| hrc_topmed_exome_08 | 3181 | 3163 |\n",
       "\n"
      ],
      "text/plain": [
       "  data                all  cadd\n",
       "1 exome               3146 3142\n",
       "2 hrc_03              2922 2656\n",
       "3 hrc_08              2271 1896\n",
       "4 topmed_03           3186 3169\n",
       "5 topmed_08           3102 3043\n",
       "6 hrc_topmed_03       3198 3177\n",
       "7 hrc_topmed_08       3108 3049\n",
       "8 hrc_topmed_exome_03 3203 3176\n",
       "9 hrc_topmed_exome_08 3181 3163"
      ]
     },
     "metadata": {},
     "output_type": "display_data"
    }
   ],
   "source": [
    "generate_summary(0.01)"
   ]
  },
  {
   "cell_type": "code",
   "execution_count": 61,
   "id": "1e4f0e8f-0e86-4631-b5ba-9ec686c48060",
   "metadata": {
    "kernel": "R",
    "tags": []
   },
   "outputs": [
    {
     "data": {
      "text/html": [
       "<table class=\"dataframe\">\n",
       "<caption>A data.frame: 9 × 3</caption>\n",
       "<thead>\n",
       "\t<tr><th scope=col>data</th><th scope=col>all</th><th scope=col>cadd</th></tr>\n",
       "\t<tr><th scope=col>&lt;chr&gt;</th><th scope=col>&lt;int&gt;</th><th scope=col>&lt;int&gt;</th></tr>\n",
       "</thead>\n",
       "<tbody>\n",
       "\t<tr><td>exome              </td><td>3146</td><td>3142</td></tr>\n",
       "\t<tr><td>hrc_03             </td><td>2905</td><td>2637</td></tr>\n",
       "\t<tr><td>hrc_08             </td><td>2188</td><td>1816</td></tr>\n",
       "\t<tr><td>topmed_03          </td><td>3186</td><td>3169</td></tr>\n",
       "\t<tr><td>topmed_08          </td><td>3099</td><td>3040</td></tr>\n",
       "\t<tr><td>hrc_topmed_03      </td><td>3198</td><td>3177</td></tr>\n",
       "\t<tr><td>hrc_topmed_08      </td><td>3105</td><td>3046</td></tr>\n",
       "\t<tr><td>hrc_topmed_exome_03</td><td>3203</td><td>3176</td></tr>\n",
       "\t<tr><td>hrc_topmed_exome_08</td><td>3181</td><td>3163</td></tr>\n",
       "</tbody>\n",
       "</table>\n"
      ],
      "text/latex": [
       "A data.frame: 9 × 3\n",
       "\\begin{tabular}{lll}\n",
       " data & all & cadd\\\\\n",
       " <chr> & <int> & <int>\\\\\n",
       "\\hline\n",
       "\t exome               & 3146 & 3142\\\\\n",
       "\t hrc\\_03              & 2905 & 2637\\\\\n",
       "\t hrc\\_08              & 2188 & 1816\\\\\n",
       "\t topmed\\_03           & 3186 & 3169\\\\\n",
       "\t topmed\\_08           & 3099 & 3040\\\\\n",
       "\t hrc\\_topmed\\_03       & 3198 & 3177\\\\\n",
       "\t hrc\\_topmed\\_08       & 3105 & 3046\\\\\n",
       "\t hrc\\_topmed\\_exome\\_03 & 3203 & 3176\\\\\n",
       "\t hrc\\_topmed\\_exome\\_08 & 3181 & 3163\\\\\n",
       "\\end{tabular}\n"
      ],
      "text/markdown": [
       "\n",
       "A data.frame: 9 × 3\n",
       "\n",
       "| data &lt;chr&gt; | all &lt;int&gt; | cadd &lt;int&gt; |\n",
       "|---|---|---|\n",
       "| exome               | 3146 | 3142 |\n",
       "| hrc_03              | 2905 | 2637 |\n",
       "| hrc_08              | 2188 | 1816 |\n",
       "| topmed_03           | 3186 | 3169 |\n",
       "| topmed_08           | 3099 | 3040 |\n",
       "| hrc_topmed_03       | 3198 | 3177 |\n",
       "| hrc_topmed_08       | 3105 | 3046 |\n",
       "| hrc_topmed_exome_03 | 3203 | 3176 |\n",
       "| hrc_topmed_exome_08 | 3181 | 3163 |\n",
       "\n"
      ],
      "text/plain": [
       "  data                all  cadd\n",
       "1 exome               3146 3142\n",
       "2 hrc_03              2905 2637\n",
       "3 hrc_08              2188 1816\n",
       "4 topmed_03           3186 3169\n",
       "5 topmed_08           3099 3040\n",
       "6 hrc_topmed_03       3198 3177\n",
       "7 hrc_topmed_08       3105 3046\n",
       "8 hrc_topmed_exome_03 3203 3176\n",
       "9 hrc_topmed_exome_08 3181 3163"
      ]
     },
     "metadata": {},
     "output_type": "display_data"
    }
   ],
   "source": [
    "generate_summary(0.005)"
   ]
  },
  {
   "cell_type": "code",
   "execution_count": 62,
   "id": "253cd2f5-5e07-4549-8dcf-3e842dc3b647",
   "metadata": {
    "kernel": "R",
    "tags": []
   },
   "outputs": [
    {
     "data": {
      "text/html": [
       "<table class=\"dataframe\">\n",
       "<caption>A data.frame: 9 × 3</caption>\n",
       "<thead>\n",
       "\t<tr><th scope=col>data</th><th scope=col>all</th><th scope=col>cadd</th></tr>\n",
       "\t<tr><th scope=col>&lt;chr&gt;</th><th scope=col>&lt;int&gt;</th><th scope=col>&lt;int&gt;</th></tr>\n",
       "</thead>\n",
       "<tbody>\n",
       "\t<tr><td>exome              </td><td>3146</td><td>3142</td></tr>\n",
       "\t<tr><td>hrc_03             </td><td>2819</td><td>2532</td></tr>\n",
       "\t<tr><td>hrc_08             </td><td>1819</td><td>1414</td></tr>\n",
       "\t<tr><td>topmed_03          </td><td>3185</td><td>3167</td></tr>\n",
       "\t<tr><td>topmed_08          </td><td>3091</td><td>3025</td></tr>\n",
       "\t<tr><td>hrc_topmed_03      </td><td>3196</td><td>3174</td></tr>\n",
       "\t<tr><td>hrc_topmed_08      </td><td>3097</td><td>3033</td></tr>\n",
       "\t<tr><td>hrc_topmed_exome_03</td><td>3203</td><td>3175</td></tr>\n",
       "\t<tr><td>hrc_topmed_exome_08</td><td>3180</td><td>3163</td></tr>\n",
       "</tbody>\n",
       "</table>\n"
      ],
      "text/latex": [
       "A data.frame: 9 × 3\n",
       "\\begin{tabular}{lll}\n",
       " data & all & cadd\\\\\n",
       " <chr> & <int> & <int>\\\\\n",
       "\\hline\n",
       "\t exome               & 3146 & 3142\\\\\n",
       "\t hrc\\_03              & 2819 & 2532\\\\\n",
       "\t hrc\\_08              & 1819 & 1414\\\\\n",
       "\t topmed\\_03           & 3185 & 3167\\\\\n",
       "\t topmed\\_08           & 3091 & 3025\\\\\n",
       "\t hrc\\_topmed\\_03       & 3196 & 3174\\\\\n",
       "\t hrc\\_topmed\\_08       & 3097 & 3033\\\\\n",
       "\t hrc\\_topmed\\_exome\\_03 & 3203 & 3175\\\\\n",
       "\t hrc\\_topmed\\_exome\\_08 & 3180 & 3163\\\\\n",
       "\\end{tabular}\n"
      ],
      "text/markdown": [
       "\n",
       "A data.frame: 9 × 3\n",
       "\n",
       "| data &lt;chr&gt; | all &lt;int&gt; | cadd &lt;int&gt; |\n",
       "|---|---|---|\n",
       "| exome               | 3146 | 3142 |\n",
       "| hrc_03              | 2819 | 2532 |\n",
       "| hrc_08              | 1819 | 1414 |\n",
       "| topmed_03           | 3185 | 3167 |\n",
       "| topmed_08           | 3091 | 3025 |\n",
       "| hrc_topmed_03       | 3196 | 3174 |\n",
       "| hrc_topmed_08       | 3097 | 3033 |\n",
       "| hrc_topmed_exome_03 | 3203 | 3175 |\n",
       "| hrc_topmed_exome_08 | 3180 | 3163 |\n",
       "\n"
      ],
      "text/plain": [
       "  data                all  cadd\n",
       "1 exome               3146 3142\n",
       "2 hrc_03              2819 2532\n",
       "3 hrc_08              1819 1414\n",
       "4 topmed_03           3185 3167\n",
       "5 topmed_08           3091 3025\n",
       "6 hrc_topmed_03       3196 3174\n",
       "7 hrc_topmed_08       3097 3033\n",
       "8 hrc_topmed_exome_03 3203 3175\n",
       "9 hrc_topmed_exome_08 3180 3163"
      ]
     },
     "metadata": {},
     "output_type": "display_data"
    }
   ],
   "source": [
    "generate_summary(0.001)"
   ]
  },
  {
   "cell_type": "code",
   "execution_count": null,
   "id": "c2bd320d-c260-42d6-877c-d350b3b9c23b",
   "metadata": {
    "kernel": "R"
   },
   "outputs": [],
   "source": []
  },
  {
   "cell_type": "code",
   "execution_count": null,
   "id": "d66d2356-0bfd-4a17-b3f2-e10b91c9e579",
   "metadata": {
    "kernel": "R"
   },
   "outputs": [],
   "source": []
  },
  {
   "cell_type": "code",
   "execution_count": null,
   "id": "d52a66e4-5cbd-4f52-aa42-ece443817d99",
   "metadata": {
    "kernel": "R"
   },
   "outputs": [],
   "source": []
  },
  {
   "cell_type": "code",
   "execution_count": null,
   "id": "2d7c88d6-7d7b-4f39-ae2f-671e6072af1d",
   "metadata": {
    "kernel": "R"
   },
   "outputs": [],
   "source": []
  },
  {
   "cell_type": "code",
   "execution_count": null,
   "id": "0507307e-7c00-4694-924b-ba16df02e369",
   "metadata": {
    "kernel": "R"
   },
   "outputs": [],
   "source": []
  }
 ],
 "metadata": {
  "kernelspec": {
   "display_name": "SoS",
   "language": "sos",
   "name": "sos"
  },
  "language_info": {
   "codemirror_mode": "sos",
   "file_extension": ".sos",
   "mimetype": "text/x-sos",
   "name": "sos",
   "nbconvert_exporter": "sos_notebook.converter.SoS_Exporter",
   "pygments_lexer": "sos"
  },
  "sos": {
   "kernels": [
    [
     "R",
     "ir",
     "R",
     "#DCDCDA",
     ""
    ]
   ],
   "version": "0.24.3"
  }
 },
 "nbformat": 4,
 "nbformat_minor": 5
}

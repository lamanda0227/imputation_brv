{
 "cells": [
  {
   "cell_type": "code",
   "execution_count": 2,
   "id": "f2a8d8c3-66b8-4904-ba65-b1775da204f2",
   "metadata": {
    "kernel": "R",
    "tags": []
   },
   "outputs": [
    {
     "name": "stderr",
     "output_type": "stream",
     "text": [
      "\n",
      "Attaching package: ‘dplyr’\n",
      "\n",
      "\n",
      "The following objects are masked from ‘package:stats’:\n",
      "\n",
      "    filter, lag\n",
      "\n",
      "\n",
      "The following objects are masked from ‘package:base’:\n",
      "\n",
      "    intersect, setdiff, setequal, union\n",
      "\n",
      "\n",
      "\n",
      "Attaching package: ‘data.table’\n",
      "\n",
      "\n",
      "The following objects are masked from ‘package:dplyr’:\n",
      "\n",
      "    between, first, last\n",
      "\n",
      "\n"
     ]
    }
   ],
   "source": [
    "library(dplyr)\n",
    "library(data.table)"
   ]
  },
  {
   "cell_type": "code",
   "execution_count": 3,
   "id": "3a0d4f02-ad55-44e3-8570-8d14d54a1cb9",
   "metadata": {
    "kernel": "R"
   },
   "outputs": [],
   "source": [
    "gene_idx = 1\n",
    "bin_phenotype_idx = 2\n",
    "rsq = 3\n",
    "maf = 0.005\n",
    "phenotype_folder = \"~/project/git/imputation_brv/workflow/dsc_pipeline_rsq03/bin_pheno_168206id_brv_rsq03\"\n",
    "\n",
    "maf_c <- gsub(\"\\\\.\", \"\", as.character(maf))\n",
    "maf_c <- paste0(\"maf\", maf_c)"
   ]
  },
  {
   "cell_type": "code",
   "execution_count": 7,
   "id": "a39a8816-e1c6-496b-abbf-aa05c82a4a44",
   "metadata": {
    "kernel": "R",
    "tags": []
   },
   "outputs": [],
   "source": [
    "phenotype_fname <- sprintf(\"%s/parse_input/parse_input_%i.rds\", phenotype_folder, gene_idx)\n",
    "rds <- readRDS(phenotype_fname)"
   ]
  },
  {
   "cell_type": "code",
   "execution_count": 8,
   "id": "ce31f74c-206a-49da-aeeb-0b82b8b42fdc",
   "metadata": {
    "kernel": "R",
    "tags": []
   },
   "outputs": [
    {
     "name": "stdout",
     "output_type": "stream",
     "text": [
      "List of 7\n",
      " $ gene                  : chr \"chr1_A3GALT2\"\n",
      " $ exome_fname           : chr \"~/project/imputation-rvtest/workflows/imputation_aggregated_analysis/gene/exome_maf001/chr1_A3GALT2_aggregate.txt\"\n",
      " $ hrc_fname             : chr \"~/project/imputation-rvtest/workflows/imputation_aggregated_analysis/gene/hrc_rsq03_maf001/chr1_A3GALT2_aggregate.txt\"\n",
      " $ topmed_fname          : chr \"~/project/imputation-rvtest/workflows/imputation_aggregated_analysis/gene/topmed_v3_rsq03_maf001/chr1_A3GALT2_aggregate.txt\"\n",
      " $ hrc_topmed_fname      : chr \"~/project/imputation-rvtest/workflows/imputation_aggregated_analysis/gene/hrc_topmed_v3_rsq03_maf001/chr1_A3GAL\"| __truncated__\n",
      " $ hrc_topmed_exome_fname: chr \"~/project/imputation-rvtest/workflows/imputation_aggregated_analysis/gene/hrc_topmed_v3_exome_rsq03_maf001/chr1_A3GALT2.raw\"\n",
      " $ DSC_DEBUG             :List of 5\n",
      "  ..$ time     :List of 5\n",
      "  .. ..$ user.self : num 0.042\n",
      "  .. ..$ sys.self  : num 0.008\n",
      "  .. ..$ elapsed   : num 0.179\n",
      "  .. ..$ user.child: num 0\n",
      "  .. ..$ sys.child : num 0\n",
      "  ..$ script   : chr \"## r script UUID: 38031427\\nlibrary(dplyr)\\nlibrary(tidyverse)\\nlibrary(genio)\\nlibrary(data.table)\\nDSC_SEED <\"| __truncated__\n",
      "  ..$ replicate: num 1\n",
      "  ..$ seed     : num 3.8e+07\n",
      "  ..$ session  : chr [1:41] \"R version 4.2.3 (2023-03-15)\" \"Platform: x86_64-conda-linux-gnu (64-bit)\" \"Running under: Debian GNU/Linux 10 (buster)\" \"\" ...\n"
     ]
    }
   ],
   "source": [
    "str(rds)"
   ]
  },
  {
   "cell_type": "code",
   "execution_count": 28,
   "id": "b6d7fb99-11e3-47cd-9522-7c5ca24d6bb5",
   "metadata": {
    "kernel": "R",
    "tags": []
   },
   "outputs": [],
   "source": [
    "prepare_input <- function(fname, case_control_ref){\n",
    "    if(!is.na(fname)) {\n",
    "        aggregate_geno <- data.table::fread(fname, header = TRUE)\n",
    "        aggregate_geno <- left_join(case_control_ref, aggregate_geno) %>% select(-FID, -IID, -assigned_id) %>% as.matrix()\n",
    "        class(aggregate_geno) <- \"numeric\"\n",
    "\n",
    "        num_var <- which(aggregate_geno != 0) %>% length()\n",
    "        if(num_var >= 2){\n",
    "            return(aggregate_geno)\n",
    "        } else {\n",
    "            return(\"LESS THAN TWO VAR PER GENE\")\n",
    "        }\n",
    "    } else {\n",
    "        return(\"FILE MISSING\")\n",
    "    }\n",
    "}\n",
    "\n",
    "BRV <- function(fname, case_control_ref, y, sample, gene, es, causal_prop, prev, out_folder, maf){\n",
    "    maf_c <- gsub(\"\\\\.\", \"\", as.character(maf))\n",
    "    maf_c <- paste0(\"maf\", maf_c)\n",
    "    \n",
    "    if(sample == \"hrc_topmed_exome\") fname <- gsub(\".raw\", \"_aggregate.raw\", fname)\n",
    "    X <- prepare_input(fname, case_control_ref)\n",
    "\n",
    "    ## count number of rare variants for each individual\n",
    "    if(!is.matrix(X)){\n",
    "        cat(\"X is not matrix\", file = sprintf(\"%s/%s_prev%.1f_es%.1f_causal%.1f_%s_maf001.csv\", out_folder, gene, prev, es, causal_prop, sample))\n",
    "        return(list(result_df = \"X is not matrix\", sample_name = sample))\n",
    "    }\n",
    "\n",
    "    if(is.na(X)[1]){\n",
    "        result_df <- \"X is NA\"\n",
    "        cat(\"X is NA\", file = sprintf(\"%s/%s_prev%.1f_es%.1f_causal%.1f_%s_maf001.csv\", out_folder, gene, prev, es, causal_prop,sample))\n",
    "    } else {\n",
    "        X.fit <- glm(y ~ X, family = \"binomial\")\n",
    "\n",
    "        if(dim(coef(summary(X.fit)))[1] != 1){\n",
    "          zstat <- coef(summary(X.fit))[2, 3]\n",
    "          pval <- coef(summary(X.fit))[2, 4]\n",
    "        }else{\n",
    "          zstat <- NA\n",
    "          pval <- 1\n",
    "        }\n",
    "\n",
    "        result_df <-  data.frame(gene = gene, sample = sample, es = es, causal_prop = causal_prop, prev = prev, zstat = zstat, pval = pval, maf = maf)\n",
    "        data.table::fwrite(result_df, file = sprintf(\"%s/%s_prev%.1f_es%.1f_causal%.1f_%s_%s.csv\", out_folder, gene, prev, es, causal_prop,sample,maf_c))\n",
    "    }\n",
    "\n",
    "  return(list(result_df = result_df, sample_name = sample))\n",
    "}"
   ]
  },
  {
   "cell_type": "code",
   "execution_count": 29,
   "id": "01bd117e-647e-4046-beeb-3412e49bb622",
   "metadata": {
    "kernel": "R",
    "tags": []
   },
   "outputs": [
    {
     "name": "stdout",
     "output_type": "stream",
     "text": [
      "[1] \"~/project/imputation-rvtest/workflows/imputation_aggregated_analysis/gene/exome_maf0005/chr1_A3GALT2_aggregate.txt\"\n",
      "[1] \"~/project/imputation-rvtest/workflows/imputation_aggregated_analysis/gene/hrc_rsq03_maf0005/chr1_A3GALT2_aggregate.txt\"\n",
      "[1] \"~/project/imputation-rvtest/workflows/imputation_aggregated_analysis/gene/topmed_v3_rsq03_maf0005/chr1_A3GALT2_aggregate.txt\"\n",
      "[1] \"~/project/imputation-rvtest/workflows/imputation_aggregated_analysis/gene/hrc_topmed_v3_rsq03_maf0005/chr1_A3GALT2_aggregate.raw\"\n",
      "[1] \"~/project/imputation-rvtest/workflows/imputation_aggregated_analysis/gene/hrc_topmed_v3_exome_rsq03_maf0005/chr1_A3GALT2.raw\"\n"
     ]
    },
    {
     "name": "stderr",
     "output_type": "stream",
     "text": [
      "\u001b[1m\u001b[22mJoining with `by = join_by(FID, IID)`\n"
     ]
    },
    {
     "data": {
      "text/html": [
       "<dl>\n",
       "\t<dt>$result_df</dt>\n",
       "\t\t<dd><table class=\"dataframe\">\n",
       "<caption>A data.frame: 1 × 8</caption>\n",
       "<thead>\n",
       "\t<tr><th scope=col>gene</th><th scope=col>sample</th><th scope=col>es</th><th scope=col>causal_prop</th><th scope=col>prev</th><th scope=col>zstat</th><th scope=col>pval</th><th scope=col>maf</th></tr>\n",
       "\t<tr><th scope=col>&lt;chr&gt;</th><th scope=col>&lt;chr&gt;</th><th scope=col>&lt;dbl&gt;</th><th scope=col>&lt;dbl&gt;</th><th scope=col>&lt;dbl&gt;</th><th scope=col>&lt;dbl&gt;</th><th scope=col>&lt;dbl&gt;</th><th scope=col>&lt;dbl&gt;</th></tr>\n",
       "</thead>\n",
       "<tbody>\n",
       "\t<tr><td>chr1_A3GALT2</td><td>exome</td><td>1.2</td><td>1</td><td>0.1</td><td>6.150101</td><td>7.743347e-10</td><td>0.005</td></tr>\n",
       "</tbody>\n",
       "</table>\n",
       "</dd>\n",
       "\t<dt>$sample_name</dt>\n",
       "\t\t<dd>'exome'</dd>\n",
       "</dl>\n"
      ],
      "text/latex": [
       "\\begin{description}\n",
       "\\item[\\$result\\_df] A data.frame: 1 × 8\n",
       "\\begin{tabular}{llllllll}\n",
       " gene & sample & es & causal\\_prop & prev & zstat & pval & maf\\\\\n",
       " <chr> & <chr> & <dbl> & <dbl> & <dbl> & <dbl> & <dbl> & <dbl>\\\\\n",
       "\\hline\n",
       "\t chr1\\_A3GALT2 & exome & 1.2 & 1 & 0.1 & 6.150101 & 7.743347e-10 & 0.005\\\\\n",
       "\\end{tabular}\n",
       "\n",
       "\\item[\\$sample\\_name] 'exome'\n",
       "\\end{description}\n"
      ],
      "text/markdown": [
       "$result_df\n",
       ":   \n",
       "A data.frame: 1 × 8\n",
       "\n",
       "| gene &lt;chr&gt; | sample &lt;chr&gt; | es &lt;dbl&gt; | causal_prop &lt;dbl&gt; | prev &lt;dbl&gt; | zstat &lt;dbl&gt; | pval &lt;dbl&gt; | maf &lt;dbl&gt; |\n",
       "|---|---|---|---|---|---|---|---|\n",
       "| chr1_A3GALT2 | exome | 1.2 | 1 | 0.1 | 6.150101 | 7.743347e-10 | 0.005 |\n",
       "\n",
       "\n",
       "$sample_name\n",
       ":   'exome'\n",
       "\n",
       "\n"
      ],
      "text/plain": [
       "$result_df\n",
       "          gene sample  es causal_prop prev    zstat         pval   maf\n",
       "1 chr1_A3GALT2  exome 1.2           1  0.1 6.150101 7.743347e-10 0.005\n",
       "\n",
       "$sample_name\n",
       "[1] \"exome\"\n"
      ]
     },
     "metadata": {},
     "output_type": "display_data"
    },
    {
     "name": "stderr",
     "output_type": "stream",
     "text": [
      "\u001b[1m\u001b[22mJoining with `by = join_by(FID, IID)`\n"
     ]
    },
    {
     "data": {
      "text/html": [
       "<dl>\n",
       "\t<dt>$result_df</dt>\n",
       "\t\t<dd><table class=\"dataframe\">\n",
       "<caption>A data.frame: 1 × 8</caption>\n",
       "<thead>\n",
       "\t<tr><th scope=col>gene</th><th scope=col>sample</th><th scope=col>es</th><th scope=col>causal_prop</th><th scope=col>prev</th><th scope=col>zstat</th><th scope=col>pval</th><th scope=col>maf</th></tr>\n",
       "\t<tr><th scope=col>&lt;chr&gt;</th><th scope=col>&lt;chr&gt;</th><th scope=col>&lt;dbl&gt;</th><th scope=col>&lt;dbl&gt;</th><th scope=col>&lt;dbl&gt;</th><th scope=col>&lt;dbl&gt;</th><th scope=col>&lt;dbl&gt;</th><th scope=col>&lt;dbl&gt;</th></tr>\n",
       "</thead>\n",
       "<tbody>\n",
       "\t<tr><td>chr1_A3GALT2</td><td>hrc</td><td>1.2</td><td>1</td><td>0.1</td><td>6.150101</td><td>7.743347e-10</td><td>0.005</td></tr>\n",
       "</tbody>\n",
       "</table>\n",
       "</dd>\n",
       "\t<dt>$sample_name</dt>\n",
       "\t\t<dd>'hrc'</dd>\n",
       "</dl>\n"
      ],
      "text/latex": [
       "\\begin{description}\n",
       "\\item[\\$result\\_df] A data.frame: 1 × 8\n",
       "\\begin{tabular}{llllllll}\n",
       " gene & sample & es & causal\\_prop & prev & zstat & pval & maf\\\\\n",
       " <chr> & <chr> & <dbl> & <dbl> & <dbl> & <dbl> & <dbl> & <dbl>\\\\\n",
       "\\hline\n",
       "\t chr1\\_A3GALT2 & hrc & 1.2 & 1 & 0.1 & 6.150101 & 7.743347e-10 & 0.005\\\\\n",
       "\\end{tabular}\n",
       "\n",
       "\\item[\\$sample\\_name] 'hrc'\n",
       "\\end{description}\n"
      ],
      "text/markdown": [
       "$result_df\n",
       ":   \n",
       "A data.frame: 1 × 8\n",
       "\n",
       "| gene &lt;chr&gt; | sample &lt;chr&gt; | es &lt;dbl&gt; | causal_prop &lt;dbl&gt; | prev &lt;dbl&gt; | zstat &lt;dbl&gt; | pval &lt;dbl&gt; | maf &lt;dbl&gt; |\n",
       "|---|---|---|---|---|---|---|---|\n",
       "| chr1_A3GALT2 | hrc | 1.2 | 1 | 0.1 | 6.150101 | 7.743347e-10 | 0.005 |\n",
       "\n",
       "\n",
       "$sample_name\n",
       ":   'hrc'\n",
       "\n",
       "\n"
      ],
      "text/plain": [
       "$result_df\n",
       "          gene sample  es causal_prop prev    zstat         pval   maf\n",
       "1 chr1_A3GALT2    hrc 1.2           1  0.1 6.150101 7.743347e-10 0.005\n",
       "\n",
       "$sample_name\n",
       "[1] \"hrc\"\n"
      ]
     },
     "metadata": {},
     "output_type": "display_data"
    },
    {
     "name": "stderr",
     "output_type": "stream",
     "text": [
      "\u001b[1m\u001b[22mJoining with `by = join_by(FID, IID)`\n"
     ]
    },
    {
     "data": {
      "text/html": [
       "<dl>\n",
       "\t<dt>$result_df</dt>\n",
       "\t\t<dd><table class=\"dataframe\">\n",
       "<caption>A data.frame: 1 × 8</caption>\n",
       "<thead>\n",
       "\t<tr><th scope=col>gene</th><th scope=col>sample</th><th scope=col>es</th><th scope=col>causal_prop</th><th scope=col>prev</th><th scope=col>zstat</th><th scope=col>pval</th><th scope=col>maf</th></tr>\n",
       "\t<tr><th scope=col>&lt;chr&gt;</th><th scope=col>&lt;chr&gt;</th><th scope=col>&lt;dbl&gt;</th><th scope=col>&lt;dbl&gt;</th><th scope=col>&lt;dbl&gt;</th><th scope=col>&lt;dbl&gt;</th><th scope=col>&lt;dbl&gt;</th><th scope=col>&lt;dbl&gt;</th></tr>\n",
       "</thead>\n",
       "<tbody>\n",
       "\t<tr><td>chr1_A3GALT2</td><td>topmed</td><td>1.2</td><td>1</td><td>0.1</td><td>6.150101</td><td>7.743347e-10</td><td>0.005</td></tr>\n",
       "</tbody>\n",
       "</table>\n",
       "</dd>\n",
       "\t<dt>$sample_name</dt>\n",
       "\t\t<dd>'topmed'</dd>\n",
       "</dl>\n"
      ],
      "text/latex": [
       "\\begin{description}\n",
       "\\item[\\$result\\_df] A data.frame: 1 × 8\n",
       "\\begin{tabular}{llllllll}\n",
       " gene & sample & es & causal\\_prop & prev & zstat & pval & maf\\\\\n",
       " <chr> & <chr> & <dbl> & <dbl> & <dbl> & <dbl> & <dbl> & <dbl>\\\\\n",
       "\\hline\n",
       "\t chr1\\_A3GALT2 & topmed & 1.2 & 1 & 0.1 & 6.150101 & 7.743347e-10 & 0.005\\\\\n",
       "\\end{tabular}\n",
       "\n",
       "\\item[\\$sample\\_name] 'topmed'\n",
       "\\end{description}\n"
      ],
      "text/markdown": [
       "$result_df\n",
       ":   \n",
       "A data.frame: 1 × 8\n",
       "\n",
       "| gene &lt;chr&gt; | sample &lt;chr&gt; | es &lt;dbl&gt; | causal_prop &lt;dbl&gt; | prev &lt;dbl&gt; | zstat &lt;dbl&gt; | pval &lt;dbl&gt; | maf &lt;dbl&gt; |\n",
       "|---|---|---|---|---|---|---|---|\n",
       "| chr1_A3GALT2 | topmed | 1.2 | 1 | 0.1 | 6.150101 | 7.743347e-10 | 0.005 |\n",
       "\n",
       "\n",
       "$sample_name\n",
       ":   'topmed'\n",
       "\n",
       "\n"
      ],
      "text/plain": [
       "$result_df\n",
       "          gene sample  es causal_prop prev    zstat         pval   maf\n",
       "1 chr1_A3GALT2 topmed 1.2           1  0.1 6.150101 7.743347e-10 0.005\n",
       "\n",
       "$sample_name\n",
       "[1] \"topmed\"\n"
      ]
     },
     "metadata": {},
     "output_type": "display_data"
    },
    {
     "name": "stderr",
     "output_type": "stream",
     "text": [
      "\u001b[1m\u001b[22mJoining with `by = join_by(FID, IID)`\n"
     ]
    },
    {
     "data": {
      "text/html": [
       "<dl>\n",
       "\t<dt>$result_df</dt>\n",
       "\t\t<dd><table class=\"dataframe\">\n",
       "<caption>A data.frame: 1 × 8</caption>\n",
       "<thead>\n",
       "\t<tr><th scope=col>gene</th><th scope=col>sample</th><th scope=col>es</th><th scope=col>causal_prop</th><th scope=col>prev</th><th scope=col>zstat</th><th scope=col>pval</th><th scope=col>maf</th></tr>\n",
       "\t<tr><th scope=col>&lt;chr&gt;</th><th scope=col>&lt;chr&gt;</th><th scope=col>&lt;dbl&gt;</th><th scope=col>&lt;dbl&gt;</th><th scope=col>&lt;dbl&gt;</th><th scope=col>&lt;dbl&gt;</th><th scope=col>&lt;dbl&gt;</th><th scope=col>&lt;dbl&gt;</th></tr>\n",
       "</thead>\n",
       "<tbody>\n",
       "\t<tr><td>chr1_A3GALT2</td><td>hrc_topmed</td><td>1.2</td><td>1</td><td>0.1</td><td>6.150101</td><td>7.743347e-10</td><td>0.005</td></tr>\n",
       "</tbody>\n",
       "</table>\n",
       "</dd>\n",
       "\t<dt>$sample_name</dt>\n",
       "\t\t<dd>'hrc_topmed'</dd>\n",
       "</dl>\n"
      ],
      "text/latex": [
       "\\begin{description}\n",
       "\\item[\\$result\\_df] A data.frame: 1 × 8\n",
       "\\begin{tabular}{llllllll}\n",
       " gene & sample & es & causal\\_prop & prev & zstat & pval & maf\\\\\n",
       " <chr> & <chr> & <dbl> & <dbl> & <dbl> & <dbl> & <dbl> & <dbl>\\\\\n",
       "\\hline\n",
       "\t chr1\\_A3GALT2 & hrc\\_topmed & 1.2 & 1 & 0.1 & 6.150101 & 7.743347e-10 & 0.005\\\\\n",
       "\\end{tabular}\n",
       "\n",
       "\\item[\\$sample\\_name] 'hrc\\_topmed'\n",
       "\\end{description}\n"
      ],
      "text/markdown": [
       "$result_df\n",
       ":   \n",
       "A data.frame: 1 × 8\n",
       "\n",
       "| gene &lt;chr&gt; | sample &lt;chr&gt; | es &lt;dbl&gt; | causal_prop &lt;dbl&gt; | prev &lt;dbl&gt; | zstat &lt;dbl&gt; | pval &lt;dbl&gt; | maf &lt;dbl&gt; |\n",
       "|---|---|---|---|---|---|---|---|\n",
       "| chr1_A3GALT2 | hrc_topmed | 1.2 | 1 | 0.1 | 6.150101 | 7.743347e-10 | 0.005 |\n",
       "\n",
       "\n",
       "$sample_name\n",
       ":   'hrc_topmed'\n",
       "\n",
       "\n"
      ],
      "text/plain": [
       "$result_df\n",
       "          gene     sample  es causal_prop prev    zstat         pval   maf\n",
       "1 chr1_A3GALT2 hrc_topmed 1.2           1  0.1 6.150101 7.743347e-10 0.005\n",
       "\n",
       "$sample_name\n",
       "[1] \"hrc_topmed\"\n"
      ]
     },
     "metadata": {},
     "output_type": "display_data"
    },
    {
     "name": "stderr",
     "output_type": "stream",
     "text": [
      "\u001b[1m\u001b[22mJoining with `by = join_by(FID, IID)`\n"
     ]
    },
    {
     "data": {
      "text/html": [
       "<dl>\n",
       "\t<dt>$result_df</dt>\n",
       "\t\t<dd><table class=\"dataframe\">\n",
       "<caption>A data.frame: 1 × 8</caption>\n",
       "<thead>\n",
       "\t<tr><th scope=col>gene</th><th scope=col>sample</th><th scope=col>es</th><th scope=col>causal_prop</th><th scope=col>prev</th><th scope=col>zstat</th><th scope=col>pval</th><th scope=col>maf</th></tr>\n",
       "\t<tr><th scope=col>&lt;chr&gt;</th><th scope=col>&lt;chr&gt;</th><th scope=col>&lt;dbl&gt;</th><th scope=col>&lt;dbl&gt;</th><th scope=col>&lt;dbl&gt;</th><th scope=col>&lt;dbl&gt;</th><th scope=col>&lt;dbl&gt;</th><th scope=col>&lt;dbl&gt;</th></tr>\n",
       "</thead>\n",
       "<tbody>\n",
       "\t<tr><td>chr1_A3GALT2</td><td>hrc_topmed_exome</td><td>1.2</td><td>1</td><td>0.1</td><td>6.150101</td><td>7.743347e-10</td><td>0.005</td></tr>\n",
       "</tbody>\n",
       "</table>\n",
       "</dd>\n",
       "\t<dt>$sample_name</dt>\n",
       "\t\t<dd>'hrc_topmed_exome'</dd>\n",
       "</dl>\n"
      ],
      "text/latex": [
       "\\begin{description}\n",
       "\\item[\\$result\\_df] A data.frame: 1 × 8\n",
       "\\begin{tabular}{llllllll}\n",
       " gene & sample & es & causal\\_prop & prev & zstat & pval & maf\\\\\n",
       " <chr> & <chr> & <dbl> & <dbl> & <dbl> & <dbl> & <dbl> & <dbl>\\\\\n",
       "\\hline\n",
       "\t chr1\\_A3GALT2 & hrc\\_topmed\\_exome & 1.2 & 1 & 0.1 & 6.150101 & 7.743347e-10 & 0.005\\\\\n",
       "\\end{tabular}\n",
       "\n",
       "\\item[\\$sample\\_name] 'hrc\\_topmed\\_exome'\n",
       "\\end{description}\n"
      ],
      "text/markdown": [
       "$result_df\n",
       ":   \n",
       "A data.frame: 1 × 8\n",
       "\n",
       "| gene &lt;chr&gt; | sample &lt;chr&gt; | es &lt;dbl&gt; | causal_prop &lt;dbl&gt; | prev &lt;dbl&gt; | zstat &lt;dbl&gt; | pval &lt;dbl&gt; | maf &lt;dbl&gt; |\n",
       "|---|---|---|---|---|---|---|---|\n",
       "| chr1_A3GALT2 | hrc_topmed_exome | 1.2 | 1 | 0.1 | 6.150101 | 7.743347e-10 | 0.005 |\n",
       "\n",
       "\n",
       "$sample_name\n",
       ":   'hrc_topmed_exome'\n",
       "\n",
       "\n"
      ],
      "text/plain": [
       "$result_df\n",
       "          gene           sample  es causal_prop prev    zstat         pval\n",
       "1 chr1_A3GALT2 hrc_topmed_exome 1.2           1  0.1 6.150101 7.743347e-10\n",
       "    maf\n",
       "1 0.005\n",
       "\n",
       "$sample_name\n",
       "[1] \"hrc_topmed_exome\"\n"
      ]
     },
     "metadata": {},
     "output_type": "display_data"
    }
   ],
   "source": [
    "result_dir <- sprintf(\"~/project/git/imputation_brv/workflow/dsc_pipeline_rsq03/bin_pheno_168206id_brv_rsq0%i\", rsq)\n",
    "parse_input_fname <- sprintf(\"%s/parse_input/parse_input_%i.rds\", result_dir, gene_idx)\n",
    "parse_input <- readRDS(parse_input_fname)\n",
    "\n",
    "exome_fname <- gsub(\"maf001\", maf_c, parse_input$exome_fname)\n",
    "if(!file.exists(exome_fname)) exome_fname <- NA\n",
    "\n",
    "hrc_fname <- gsub(\"maf001\", maf_c, parse_input$hrc_fname)\n",
    "if(!file.exists(hrc_fname)) hrc_fname <- NA\n",
    "\n",
    "topmed_fname <- gsub(\"maf001\", maf_c, parse_input$topmed_fname)\n",
    "if(!file.exists(topmed_fname)) topmed_fname <- NA\n",
    "\n",
    "hrc_topmed_fname <- gsub(\"maf001\", maf_c, parse_input$hrc_topmed_fname)\n",
    "if(!file.exists(hrc_topmed_fname)) hrc_topmed_fname <- NA\n",
    "\n",
    "hrc_topmed_exome_fname <- gsub(\"maf001\", maf_c, parse_input$hrc_topmed_exome_fname)\n",
    "if(!file.exists(hrc_topmed_exome_fname)) hrc_topmed_exome_fname <- NA\n",
    "\n",
    "print(exome_fname)\n",
    "print(hrc_fname)\n",
    "print(topmed_fname)\n",
    "print(hrc_topmed_fname)\n",
    "print(hrc_topmed_exome_fname)\n",
    "\n",
    "bin_phenotype_fname <- sprintf(\"%s/bin_phenotype/parse_input_%i_bin_phenotype_%i.rds\", result_dir, gene_idx, bin_phenotype_idx)\n",
    "bin_phenotype <- readRDS(bin_phenotype_fname)\n",
    "\n",
    "y <- bin_phenotype$y\n",
    "prev <- bin_phenotype$prev\n",
    "es <- bin_phenotype$es\n",
    "causal_prop <- bin_phenotype$causal_prop\n",
    "case_control_ref <- bin_phenotype$case_control_ref\n",
    "\n",
    "BRV(exome_fname, case_control_ref, y, \"exome\", parse_input$gene, es, causal_prop, prev, out_folder, maf)\n",
    "BRV(hrc_fname, case_control_ref, y, \"hrc\", parse_input$gene, es, causal_prop, prev, out_folder, maf)\n",
    "BRV(topmed_fname, case_control_ref, y, \"topmed\", parse_input$gene, es, causal_prop, prev, out_folder, maf)\n",
    "BRV(hrc_topmed_fname, case_control_ref, y, \"hrc_topmed\", parse_input$gene, es, causal_prop, prev, out_folder, maf)\n",
    "BRV(hrc_topmed_exome_fname, case_control_ref, y, \"hrc_topmed_exome\", parse_input$gene, es, causal_prop, prev, out_folder, maf)"
   ]
  },
  {
   "cell_type": "code",
   "execution_count": 25,
   "id": "e20ffae3-64e9-4758-b75a-c05477dcd486",
   "metadata": {
    "kernel": "R",
    "tags": []
   },
   "outputs": [
    {
     "data": {
      "text/html": [
       "<dl>\n",
       "\t<dt>$result_df</dt>\n",
       "\t\t<dd><table class=\"dataframe\">\n",
       "<caption>A data.frame: 1 × 8</caption>\n",
       "<thead>\n",
       "\t<tr><th scope=col>gene</th><th scope=col>sample</th><th scope=col>es</th><th scope=col>causal_prop</th><th scope=col>prev</th><th scope=col>zstat</th><th scope=col>pval</th><th scope=col>maf</th></tr>\n",
       "\t<tr><th scope=col>&lt;chr&gt;</th><th scope=col>&lt;chr&gt;</th><th scope=col>&lt;dbl&gt;</th><th scope=col>&lt;dbl&gt;</th><th scope=col>&lt;dbl&gt;</th><th scope=col>&lt;dbl&gt;</th><th scope=col>&lt;dbl&gt;</th><th scope=col>&lt;dbl&gt;</th></tr>\n",
       "</thead>\n",
       "<tbody>\n",
       "\t<tr><td>chr1_A3GALT2</td><td>exome</td><td>1.2</td><td>1</td><td>0.1</td><td>6.150101</td><td>7.743347e-10</td><td>0.005</td></tr>\n",
       "</tbody>\n",
       "</table>\n",
       "</dd>\n",
       "\t<dt>$sample_name</dt>\n",
       "\t\t<dd>'exome'</dd>\n",
       "</dl>\n"
      ],
      "text/latex": [
       "\\begin{description}\n",
       "\\item[\\$result\\_df] A data.frame: 1 × 8\n",
       "\\begin{tabular}{llllllll}\n",
       " gene & sample & es & causal\\_prop & prev & zstat & pval & maf\\\\\n",
       " <chr> & <chr> & <dbl> & <dbl> & <dbl> & <dbl> & <dbl> & <dbl>\\\\\n",
       "\\hline\n",
       "\t chr1\\_A3GALT2 & exome & 1.2 & 1 & 0.1 & 6.150101 & 7.743347e-10 & 0.005\\\\\n",
       "\\end{tabular}\n",
       "\n",
       "\\item[\\$sample\\_name] 'exome'\n",
       "\\end{description}\n"
      ],
      "text/markdown": [
       "$result_df\n",
       ":   \n",
       "A data.frame: 1 × 8\n",
       "\n",
       "| gene &lt;chr&gt; | sample &lt;chr&gt; | es &lt;dbl&gt; | causal_prop &lt;dbl&gt; | prev &lt;dbl&gt; | zstat &lt;dbl&gt; | pval &lt;dbl&gt; | maf &lt;dbl&gt; |\n",
       "|---|---|---|---|---|---|---|---|\n",
       "| chr1_A3GALT2 | exome | 1.2 | 1 | 0.1 | 6.150101 | 7.743347e-10 | 0.005 |\n",
       "\n",
       "\n",
       "$sample_name\n",
       ":   'exome'\n",
       "\n",
       "\n"
      ],
      "text/plain": [
       "$result_df\n",
       "          gene sample  es causal_prop prev    zstat         pval   maf\n",
       "1 chr1_A3GALT2  exome 1.2           1  0.1 6.150101 7.743347e-10 0.005\n",
       "\n",
       "$sample_name\n",
       "[1] \"exome\"\n"
      ]
     },
     "metadata": {},
     "output_type": "display_data"
    }
   ],
   "source": [
    "brv_result"
   ]
  },
  {
   "cell_type": "code",
   "execution_count": null,
   "id": "f159298b-27e0-4691-8452-c14d8798fbca",
   "metadata": {
    "kernel": "R"
   },
   "outputs": [],
   "source": []
  }
 ],
 "metadata": {
  "kernelspec": {
   "display_name": "SoS",
   "language": "sos",
   "name": "sos"
  },
  "language_info": {
   "codemirror_mode": "sos",
   "file_extension": ".sos",
   "mimetype": "text/x-sos",
   "name": "sos",
   "nbconvert_exporter": "sos_notebook.converter.SoS_Exporter",
   "pygments_lexer": "sos"
  },
  "sos": {
   "kernels": [
    [
     "Python3",
     "python3",
     "Python3",
     "#FFD91A",
     {
      "name": "ipython",
      "version": 3
     }
    ],
    [
     "R",
     "ir",
     "R",
     "#DCDCDA",
     "r"
    ]
   ],
   "version": "0.24.3"
  }
 },
 "nbformat": 4,
 "nbformat_minor": 5
}

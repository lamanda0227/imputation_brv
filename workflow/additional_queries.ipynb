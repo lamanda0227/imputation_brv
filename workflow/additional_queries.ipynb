{
 "cells": [
  {
   "cell_type": "markdown",
   "id": "2209a232-67b6-4931-893e-3c516b892149",
   "metadata": {
    "kernel": "SoS",
    "tags": []
   },
   "source": [
    "# Additional Queries"
   ]
  },
  {
   "cell_type": "markdown",
   "id": "b1bfae23-5f17-4b91-b638-6492f8c7006e",
   "metadata": {
    "kernel": "SoS"
   },
   "source": [
    "This notebook records some additional queries we made in addition to the simulation"
   ]
  },
  {
   "cell_type": "markdown",
   "id": "90534419-b581-4a3f-b174-a60f73b82b40",
   "metadata": {
    "kernel": "SoS"
   },
   "source": [
    "## R2 v.s. r2\n",
    "\n",
    "We are interested in comparing the correlation between exome and imputed data (r2) versus the imputation quality of imputed data (R2). Since correlation can only be computed between the overlapped variant between exome sequence data and imputed data, we generated another set of files for each gene for overlapped variants only."
   ]
  },
  {
   "cell_type": "markdown",
   "id": "15f842b4-567b-4efb-b87a-f327c076449f",
   "metadata": {
    "kernel": "SoS"
   },
   "source": [
    "### Extract variants"
   ]
  },
  {
   "cell_type": "code",
   "execution_count": 1,
   "id": "7a9f21b2-d77c-4b1a-b5d3-d14e3fb8f684",
   "metadata": {
    "kernel": "R",
    "tags": []
   },
   "outputs": [
    {
     "name": "stderr",
     "output_type": "stream",
     "text": [
      "\n",
      "Attaching package: ‘dplyr’\n",
      "\n",
      "\n",
      "The following objects are masked from ‘package:stats’:\n",
      "\n",
      "    filter, lag\n",
      "\n",
      "\n",
      "The following objects are masked from ‘package:base’:\n",
      "\n",
      "    intersect, setdiff, setequal, union\n",
      "\n",
      "\n",
      "\n",
      "Attaching package: ‘data.table’\n",
      "\n",
      "\n",
      "The following objects are masked from ‘package:dplyr’:\n",
      "\n",
      "    between, first, last\n",
      "\n",
      "\n"
     ]
    }
   ],
   "source": [
    "library(dplyr)\n",
    "library(data.table)"
   ]
  },
  {
   "cell_type": "code",
   "execution_count": 2,
   "id": "20a9343e-5fee-4957-a5eb-b9efc01d8dec",
   "metadata": {
    "kernel": "R",
    "tags": []
   },
   "outputs": [],
   "source": [
    "df <- read.csv(\"~/project/imputation-rvtest/analysis/imputation_aggregated_analysis/hrc_topmed_exome/hrc_topmed_v3_exome_168206ids_rsq03_maf001_all_annot.csv.gz\")"
   ]
  },
  {
   "cell_type": "code",
   "execution_count": 3,
   "id": "bf4ede14-b8b7-487b-ac96-227168f0836f",
   "metadata": {
    "kernel": "R",
    "tags": []
   },
   "outputs": [
    {
     "name": "stdout",
     "output_type": "stream",
     "text": [
      "[1] \"TOPMed: Chromosome 1, MAF 0.001000, Number of variants = 108907\"\n",
      "[1] \"HRC: Chromosome 1, MAF 0.001000, Number of variants = 15367\"\n",
      "[1] \"TOPMed: Chromosome 1, MAF 0.005000, Number of variants = 3148\"\n",
      "[1] \"HRC: Chromosome 1, MAF 0.005000, Number of variants = 3047\"\n",
      "[1] \"TOPMed: Chromosome 1, MAF 0.010000, Number of variants = 807\"\n",
      "[1] \"HRC: Chromosome 1, MAF 0.010000, Number of variants = 774\"\n",
      "[1] \"TOPMed: Chromosome 2, MAF 0.001000, Number of variants = 76192\"\n",
      "[1] \"HRC: Chromosome 2, MAF 0.001000, Number of variants = 10918\"\n",
      "[1] \"TOPMed: Chromosome 2, MAF 0.005000, Number of variants = 2299\"\n",
      "[1] \"HRC: Chromosome 2, MAF 0.005000, Number of variants = 2209\"\n",
      "[1] \"TOPMed: Chromosome 2, MAF 0.010000, Number of variants = 544\"\n",
      "[1] \"HRC: Chromosome 2, MAF 0.010000, Number of variants = 532\"\n"
     ]
    }
   ],
   "source": [
    "setwd(\"~/project/imputation-rvtest/analysis/imputation_aggregated_analysis/correlation/\")\n",
    "\n",
    "for(c in c(1,2)){\n",
    "    for(maf in c(0.001, 0.005, 0.01)){\n",
    "        if(maf == 0.001) {\n",
    "            df1 <- df %>% filter(MAF_nfe_exome < 0.001 | is.na(MAF_nfe_exome))\n",
    "        } else if (maf == 0.005) {\n",
    "            df1 <- df %>% filter(MAF_nfe_exome >= 0.001 & MAF_nfe_exome < 0.005)\n",
    "        } else {\n",
    "            df1 <- df %>% filter(MAF_nfe_exome >= 0.005 & MAF_nfe_exome < 0.01)\n",
    "        }\n",
    "        \n",
    "        topmed <- df1 %>% filter(Chr == c, R2_topmed != 0, R2_exome == 999)\n",
    "        hrc <- df1 %>% filter(Chr == c, R2_hrc != 0, R2_exome == 999)\n",
    "        \n",
    "        print(sprintf(\"TOPMed: Chromosome %i, MAF %f, Number of variants = %i\", c, maf, nrow(topmed)))\n",
    "        print(sprintf(\"HRC: Chromosome %i, MAF %f, Number of variants = %i\", c, maf, nrow(hrc)))\n",
    "        \n",
    "        counter = 0\n",
    "        for(i in seq(1, nrow(topmed), 5000)){\n",
    "            counter = counter + 1\n",
    "            if(i+4999 > nrow(topmed)) end = nrow(topmed) else end = i+4999\n",
    "            \n",
    "            topmed[c(i:end),] %>% \n",
    "                select(ID_hg38) %>% \n",
    "                fwrite(sprintf(\"exome_topmed_ES_chr%i_maf%s_batch%i.txt\", c, gsub('\\\\.', '', as.character(maf)), counter), col.names = FALSE)\n",
    "            topmed[c(i:end),] %>% \n",
    "                select(ID_hg38) %>% \n",
    "                fwrite(sprintf(\"exome_topmed_TP_chr%i_maf%s_batch%i.txt\", c, gsub('\\\\.', '', as.character(maf)), counter), col.names = FALSE)\n",
    "        }\n",
    "        \n",
    "        counter = 0\n",
    "        for(i in seq(1, nrow(hrc), 5000)){\n",
    "            counter = counter + 1\n",
    "            if(i+4999 > nrow(hrc)) end = nrow(hrc) else end = i+4999\n",
    "                \n",
    "            hrc[c(i:end),] %>% \n",
    "                select(ID_hg38) %>% \n",
    "                fwrite(sprintf(\"exome_hrc_ES_chr%i_maf%s_batch%i.txt\", c, gsub('\\\\.', '', as.character(maf)), counter), col.names = FALSE)\n",
    "            hrc[c(i:end),] %>% \n",
    "                select(ID_hg19) %>% \n",
    "                fwrite(sprintf(\"exome_hrc_HRC_chr%i_maf%s_batch%i.txt\", c, gsub('\\\\.', '', as.character(maf)), counter), col.names = FALSE)\n",
    "        }        \n",
    "    }\n",
    "}"
   ]
  },
  {
   "cell_type": "code",
   "execution_count": 4,
   "id": "08c84cc8-b4ce-4197-abd5-47c50df9b104",
   "metadata": {
    "kernel": "Bash",
    "tags": []
   },
   "outputs": [],
   "source": [
    "cd ~/project/imputation-rvtest/analysis/imputation_aggregated_analysis/correlation\n",
    "\n",
    "for chr in 1 2; do\n",
    "    for maf in 0001 0005 001; do\n",
    "        for dt in ES HRC; do\n",
    "            extract_prefix='exome_hrc_'$dt'_chr'$chr'_maf'$maf'_batch'\n",
    "            num_batch=$(ls $extract_prefix*'.txt'|wc -l)\n",
    "            \n",
    "            for ((i=1; i<=$num_batch; i++)); do\n",
    "                script_name='/home/tl3031/project/imputation-rvtest/analysis/imputation_aggregated_analysis/correlation/script/'$extract_prefix$i'.sh'\n",
    "                out_name='/home/tl3031/project/imputation-rvtest/analysis/imputation_aggregated_analysis/correlation/script/output/'$extract_prefix$i'.out'\n",
    "                \n",
    "                if [ \"${dt}\" = \"ES\" ]; then\n",
    "                  bfile='/home/tl3031/project/imputation-rvtest/analysis/imputation_aggregated_analysis/exome/ukb23156_c'$chr'_maf001_LOF_missense_extracted'\n",
    "                  plink_module='module load Plink/1.9.10'\n",
    "                  plink_command='plink --bfile '$bfile' --extract '$extract_prefix$i'.txt --keep-allele-order --make-bed --export A --out '$extract_prefix$i\n",
    "                else\n",
    "                  bfile='/home/tl3031/project/imputation-rvtest/analysis/imputation_aggregated_analysis/hrc/hrc_chr'$chr'_merged_168206ids_rsq03_dose'\n",
    "                  plink_module='module load Plink/2.00a'\n",
    "                  plink_command='plink2 --bpfile '$bfile' --extract '$extract_prefix$i'.txt --make-bpgen --export A --out '$extract_prefix$i >> $script_name\n",
    "                fi\n",
    "\n",
    "                echo '#!/bin/bash' > $script_name\n",
    "                echo '#SBATCH --job-name='$extract_prefix >> $script_name\n",
    "                echo '#SBATCH --mem=10G' >> $script_name\n",
    "                echo '#SBATCH --time=24:00:00' >> $script_name\n",
    "                echo '#SBATCH --output=/home/tl3031/project/imputation-rvtest/analysis/imputation_aggregated_analysis/correlation/script/'$extract_prefix$i'_'%j'.out' >> $script_name\n",
    "                echo '#SBATCH --error=/home/tl3031/project/imputation-rvtest/analysis/imputation_aggregated_analysis/correlation/script/'$extract_prefix$i'_'%j'.err' >> $script_name\n",
    "                echo '#SBATCH -p CSG' >> $script_name\n",
    "                echo '#SBATCH --mail-type=FAIL' >> $script_name\n",
    "                echo '#SBATCH --mail-user tl3031@cumc.columbia.edu' >> $script_name\n",
    "                echo 'source ~/mamba_activate.sh' >> $script_name\n",
    "                echo $plink_module >> $script_name\n",
    "                echo 'cd /home/tl3031/project/imputation-rvtest/analysis/imputation_aggregated_analysis/correlation' >> $script_name\n",
    "                echo $plink_command >> $script_name\n",
    "                echo 'echo \"Number of variants in bim file:\" >> '$out_name >> $script_name\n",
    "                echo 'wc -l' $extract_prefix$i'.bim >> '$out_name >> $script_name\n",
    "                echo 'echo \"Number of variants in extract file:\" >> '$out_name >> $script_name\n",
    "                echo 'wc -l '$extract_prefix$i'.txt >> '$out_name >> $script_name\n",
    "            done\n",
    "        done\n",
    "    done\n",
    "done"
   ]
  },
  {
   "cell_type": "code",
   "execution_count": 6,
   "id": "795d5b50-1602-4df5-a258-9b5b4423f9df",
   "metadata": {
    "kernel": "Bash",
    "tags": []
   },
   "outputs": [],
   "source": [
    "cd ~/project/imputation-rvtest/analysis/imputation_aggregated_analysis/correlation\n",
    "\n",
    "for chr in 1 2; do\n",
    "    for maf in 0001 0005 001; do\n",
    "        for dt in ES TP; do\n",
    "            extract_prefix='exome_topmed_'$dt'_chr'$chr'_maf'$maf'_batch'\n",
    "            num_batch=$(ls $extract_prefix*'.txt'|wc -l)\n",
    "            \n",
    "            for ((i=1; i<=$num_batch; i++)); do\n",
    "                script_name='/home/tl3031/project/imputation-rvtest/analysis/imputation_aggregated_analysis/correlation/script/'$extract_prefix$i'.sh'\n",
    "                out_name='/home/tl3031/project/imputation-rvtest/analysis/imputation_aggregated_analysis/correlation/script/output/'$extract_prefix$i'.out'\n",
    "                \n",
    "                if [ \"${dt}\" = \"ES\" ]; then\n",
    "                  bfile='/home/tl3031/project/imputation-rvtest/analysis/imputation_aggregated_analysis/exome/ukb23156_c'$chr'_maf001_LOF_missense_extracted'\n",
    "                  plink_module='module load Plink/1.9.10'\n",
    "                  plink_command='plink --bfile '$bfile' --extract '$extract_prefix$i'.txt --keep-allele-order --make-bed --export A --out '$extract_prefix$i\n",
    "                else\n",
    "                  bfile='/home/tl3031/project/imputation-rvtest/analysis/imputation_aggregated_analysis/topmed_v3/topmed_chr'$chr'_merged_168206ids_rsq03_dose'\n",
    "                  plink_module='module load Plink/2.00a'\n",
    "                  plink_command='plink2 --bpfile '$bfile' --extract '$extract_prefix$i'.txt --make-bpgen --export A --out '$extract_prefix$i >> $script_name\n",
    "                fi\n",
    "\n",
    "                echo '#!/bin/bash' > $script_name\n",
    "                echo '#SBATCH --job-name='$extract_prefix >> $script_name\n",
    "                echo '#SBATCH --mem=10G' >> $script_name\n",
    "                echo '#SBATCH --time=24:00:00' >> $script_name\n",
    "                echo '#SBATCH --output=/home/tl3031/project/imputation-rvtest/analysis/imputation_aggregated_analysis/correlation/script/'$extract_prefix$i'_'%j'.out' >> $script_name\n",
    "                echo '#SBATCH --error=/home/tl3031/project/imputation-rvtest/analysis/imputation_aggregated_analysis/correlation/script/'$extract_prefix$i'_'%j'.err' >> $script_name\n",
    "                echo '#SBATCH -p CSG' >> $script_name\n",
    "                echo '#SBATCH --mail-type=FAIL' >> $script_name\n",
    "                echo '#SBATCH --mail-user tl3031@cumc.columbia.edu' >> $script_name\n",
    "                echo 'source ~/mamba_activate.sh' >> $script_name\n",
    "                echo $plink_module >> $script_name\n",
    "                echo 'cd /home/tl3031/project/imputation-rvtest/analysis/imputation_aggregated_analysis/correlation' >> $script_name\n",
    "                echo $plink_command >> $script_name\n",
    "                echo 'echo \"Number of variants in bim file:\" >> '$out_name >> $script_name\n",
    "                echo 'wc -l' $extract_prefix$i'.bim >> '$out_name >> $script_name\n",
    "                echo 'echo \"Number of variants in extract file:\" >> '$out_name >> $script_name\n",
    "                echo 'wc -l '$extract_prefix$i'.txt >> '$out_name >> $script_name\n",
    "            done\n",
    "        done\n",
    "    done\n",
    "done"
   ]
  },
  {
   "cell_type": "markdown",
   "id": "3c231db7-68ca-4389-b6c8-c4620810156a",
   "metadata": {
    "kernel": "SoS"
   },
   "source": [
    "### Calculate correlation"
   ]
  },
  {
   "cell_type": "code",
   "execution_count": 6,
   "id": "6479d338-c431-46f3-8db1-ba3010228683",
   "metadata": {
    "kernel": "Bash",
    "tags": []
   },
   "outputs": [],
   "source": [
    "cd ~/project/imputation-rvtest/analysis/imputation_aggregated_analysis/correlation"
   ]
  },
  {
   "cell_type": "code",
   "execution_count": 7,
   "id": "3ccc30dc-15ad-4cf6-ba5f-eeabb8579106",
   "metadata": {
    "kernel": "Bash",
    "tags": []
   },
   "outputs": [
    {
     "name": "stdout",
     "output_type": "stream",
     "text": [
      "rm: cannot remove '/mnt/vast/hpc/csg/tl3031/imputation-rvtest/analysis/imputation_aggregated_analysis/correlation/script/*corr*.sh': No such file or directory\n",
      "rm: cannot remove '/mnt/vast/hpc/csg/tl3031/imputation-rvtest/analysis/imputation_aggregated_analysis/correlation/script/*corr*.out': No such file or directory\n"
     ]
    }
   ],
   "source": [
    "script_dir=\"/mnt/vast/hpc/csg/tl3031/imputation-rvtest/analysis/imputation_aggregated_analysis/correlation/script/\"\n",
    "rm $script_dir*'corr'*'.sh'\n",
    "rm $script_dir*'corr'*'.out'\n",
    "\n",
    "for chr in 1 2; do\n",
    "    for maf in 0001 0005 001; do\n",
    "        for dt in HRC TP; do\n",
    "            if [ \"${dt}\" = \"HRC\" ]; then\n",
    "                prefix='exome_hrc'\n",
    "            else\n",
    "                prefix='exome_topmed'\n",
    "            fi\n",
    "            \n",
    "            exome_prefix=$prefix'_ES_chr'$chr'_maf'$maf'_batch'\n",
    "            imputed_prefix=$prefix'_'$dt'_chr'$chr'_maf'$maf'_batch'\n",
    "            num_batch=$(ls $imputed_prefix*'.txt' | wc -l)\n",
    "            \n",
    "            for ((i=1; i<=$num_batch; i++)); do\n",
    "                script_name=$script_dir$prefix'_chr'$chr'_maf'$maf'_corr_batch'$i'.sh'\n",
    "                out_name=$script_dir'output/'$prefix'_chr'$chr'_maf'$maf'_corr_batch'$i'.out'\n",
    "                command='Rscript '$script_dir'calc_corr.R '$exome_prefix$i' '$imputed_prefix$i' '$prefix'_chr'$chr'_maf'$maf'_corr_batch'$i'.csv '$dt\n",
    "                echo '#!/bin/bash' >> $script_name\n",
    "                echo '#SBATCH --job-name='$prefix'_chr'$chr'_maf'$maf'_corr_batch'$i >> $script_name\n",
    "                echo '#SBATCH --mem=80G' >> $script_name\n",
    "                echo '#SBATCH --time=24:00:00' >> $script_name\n",
    "                echo '#SBATCH --output=/home/tl3031/project/imputation-rvtest/analysis/imputation_aggregated_analysis/correlation/script/'$prefix'_chr'$chr'_maf'$maf'_corr_batch'$i'_%j.out' >> $script_name\n",
    "                echo '#SBATCH --error=/home/tl3031/project/imputation-rvtest/analysis/imputation_aggregated_analysis/correlation/script/'$prefix'_chr'$chr'_maf'$maf'_corr_batch'$i'_%j.err' >> $script_name\n",
    "                echo '#SBATCH -p CSG' >> $script_name\n",
    "                echo '#SBATCH --mail-type=FAIL' >> $script_name\n",
    "                echo '#SBATCH --mail-user tl3031@cumc.columbia.edu' >> $script_name\n",
    "                echo 'source ~/mamba_activate.sh' >> $script_name\n",
    "                echo 'cd /home/tl3031/project/imputation-rvtest/analysis/imputation_aggregated_analysis/correlation' >> $script_name\n",
    "                echo $command >> $script_name\n",
    "                echo 'echo \"Number of variants in bim file:\" >> '$out_name >> $script_name\n",
    "                echo 'wc -l' $exome_prefix$i'.bim >> '$out_name >> $script_name\n",
    "                echo 'echo \"Number of variants in correlation file:\" >> '$out_name >> $script_name\n",
    "                echo 'wc -l '$prefix'_chr'$chr'_maf'$maf'_corr_batch'$i'.csv >> '$out_name >> $script_name\n",
    "            done\n",
    "        done\n",
    "    done\n",
    "done"
   ]
  },
  {
   "cell_type": "markdown",
   "id": "7795805e-7574-447c-b4b6-9d80222d1536",
   "metadata": {
    "kernel": "R"
   },
   "source": [
    "## Check correlation and Rsq"
   ]
  },
  {
   "cell_type": "code",
   "execution_count": 1,
   "id": "67586d3a-79ca-417a-a4cc-a6431d92bc5a",
   "metadata": {
    "kernel": "R",
    "tags": []
   },
   "outputs": [
    {
     "name": "stderr",
     "output_type": "stream",
     "text": [
      "\n",
      "Attaching package: ‘dplyr’\n",
      "\n",
      "\n",
      "The following objects are masked from ‘package:stats’:\n",
      "\n",
      "    filter, lag\n",
      "\n",
      "\n",
      "The following objects are masked from ‘package:base’:\n",
      "\n",
      "    intersect, setdiff, setequal, union\n",
      "\n",
      "\n",
      "\n",
      "Attaching package: ‘data.table’\n",
      "\n",
      "\n",
      "The following objects are masked from ‘package:dplyr’:\n",
      "\n",
      "    between, first, last\n",
      "\n",
      "\n"
     ]
    }
   ],
   "source": [
    "library(dplyr)\n",
    "library(data.table)"
   ]
  },
  {
   "cell_type": "code",
   "execution_count": 2,
   "id": "a9d2ea2a-9d21-44da-95dc-0b5064dfde98",
   "metadata": {
    "kernel": "R",
    "tags": []
   },
   "outputs": [],
   "source": [
    "df_2 <- fread(\"~/project/imputation-rvtest/analysis/imputation_aggregated_analysis/hrc_topmed/hrc_topmed_v3_168206ids_rsq03_maf001_all_annot.csv.gz\")\n",
    "df_3 <- fread(\"~/project/imputation-rvtest/analysis/imputation_aggregated_analysis/hrc_topmed_exome/hrc_topmed_v3_exome_168206ids_rsq03_maf001_all_annot.csv.gz\")"
   ]
  },
  {
   "cell_type": "code",
   "execution_count": 7,
   "id": "1fff9171-3cd3-42ba-8954-867e464b3968",
   "metadata": {
    "kernel": "R",
    "tags": []
   },
   "outputs": [
    {
     "data": {
      "text/html": [
       "<style>\n",
       ".list-inline {list-style: none; margin:0; padding: 0}\n",
       ".list-inline>li {display: inline-block}\n",
       ".list-inline>li:not(:last-child)::after {content: \"\\00b7\"; padding: 0 .5ex}\n",
       "</style>\n",
       "<ol class=list-inline><li>224744</li><li>4</li></ol>\n"
      ],
      "text/latex": [
       "\\begin{enumerate*}\n",
       "\\item 224744\n",
       "\\item 4\n",
       "\\end{enumerate*}\n"
      ],
      "text/markdown": [
       "1. 224744\n",
       "2. 4\n",
       "\n",
       "\n"
      ],
      "text/plain": [
       "[1] 224744      4"
      ]
     },
     "metadata": {},
     "output_type": "display_data"
    }
   ],
   "source": [
    "fname_lst <- list.files(\"/home/tl3031/project/imputation-rvtest/analysis/imputation_aggregated_analysis/correlation\", pattern = \".csv\", full.names = TRUE)\n",
    "\n",
    "corr_df <- data.frame(matrix(ncol = 4, nrow = 0))\n",
    "colnames(corr_df) <- c(\"snp_id\", \"corr\", \"rsq\", \"dataset\")\n",
    "for(i in fname_lst){\n",
    "    dt <- case_when(\n",
    "        grepl(\"hrc\", i, fixed = TRUE) & grepl(\"maf001\", i, fixed = TRUE) ~ \"hrc_maf001\",\n",
    "        grepl(\"hrc\", i, fixed = TRUE) & grepl(\"maf0005\", i, fixed = TRUE) ~ \"hrc_maf0005\",\n",
    "        grepl(\"hrc\", i, fixed = TRUE) & grepl(\"maf0001\", i, fixed = TRUE) ~ \"hrc_maf0001\",\n",
    "        grepl(\"topmed\", i, fixed = TRUE) & grepl(\"maf001\", i, fixed = TRUE) ~ \"topmed_maf001\",\n",
    "        grepl(\"topmed\", i, fixed = TRUE) & grepl(\"maf0005\", i, fixed = TRUE) ~ \"topmed_maf0005\",\n",
    "        grepl(\"topmed\", i, fixed = TRUE) & grepl(\"maf0001\", i, fixed = TRUE) ~ \"topmed_maf0001\",\n",
    "    )\n",
    "\n",
    "    dataset_corr_df <- read.csv(i) %>% mutate(dataset = dt, corr = -corr)\n",
    "    corr_df <- rbind(corr_df, dataset_corr_df)\n",
    "}\n",
    "\n",
    "dim(corr_df)"
   ]
  },
  {
   "cell_type": "code",
   "execution_count": 9,
   "id": "6f90bfd0-76bf-4251-b1c6-dd89fa692dfc",
   "metadata": {
    "kernel": "R",
    "tags": []
   },
   "outputs": [],
   "source": [
    "hrc_corr_df <- corr_df %>% filter(grepl('hrc', dataset)) %>% rename(\"corr_hrc\" = corr) %>% select(-rsq)\n",
    "topmed_corr_df <- corr_df %>% filter(grepl('topmed', dataset)) %>% rename(\"corr_topmed\" = corr) %>% select(-rsq)"
   ]
  },
  {
   "cell_type": "code",
   "execution_count": 10,
   "id": "22e78670-7cbb-4eec-807f-d6b01ee616b2",
   "metadata": {
    "kernel": "R",
    "tags": []
   },
   "outputs": [],
   "source": [
    "hrc_topmed_df <- left_join(df_2, hrc_corr_df, by = c(\"ID_hg38\" = \"snp_id\"))\n",
    "hrc_topmed_df <- left_join(hrc_topmed_df, topmed_corr_df, by = c(\"ID_hg38\" = \"snp_id\"))\n",
    "hrc_topmed_df <- hrc_topmed_df %>% \n",
    "    filter(R2 != 0) %>%\n",
    "    mutate(maf_cat = case_when(is.na(MAF_nfe_exome) | MAF_nfe_exome < 0.001 ~ \"MAF < 0.001\",\n",
    "                               MAF_nfe_exome >= 0.001 & MAF_nfe_exome < 0.005 ~ \"0.001 <= MAF < 0.005\",\n",
    "                               MAF_nfe_exome >= 0.005 & MAF_nfe_exome < 0.01 ~ \"0.005 <= MAF < 0.01\")) %>%\n",
    "    group_by(maf_cat)\n",
    "\n",
    "hrc_topmed_df <- hrc_topmed_df %>% \n",
    "    mutate(corr_hrc = ifelse(is.na(corr_hrc), 0, corr_hrc),\n",
    "           corr_topmed = ifelse(is.na(corr_topmed), 0, corr_topmed))"
   ]
  },
  {
   "cell_type": "code",
   "execution_count": 11,
   "id": "f4dc9f17-593f-4138-ac63-0ab5346b2f4e",
   "metadata": {
    "kernel": "R",
    "tags": []
   },
   "outputs": [],
   "source": [
    "hrc_topmed_exome_df <- left_join(df_3, hrc_corr_df, by = c(\"ID_hg38\" = \"snp_id\"))\n",
    "hrc_topmed_exome_df <- left_join(hrc_topmed_exome_df, topmed_corr_df, by = c(\"ID_hg38\" = \"snp_id\"))\n",
    "hrc_topmed_exome_df <- hrc_topmed_exome_df %>% \n",
    "    filter(R2 != 0) %>%\n",
    "    mutate(maf_cat = case_when(is.na(MAF_nfe_exome) | MAF_nfe_exome < 0.001 ~ \"MAF < 0.001\",\n",
    "                               MAF_nfe_exome >= 0.001 & MAF_nfe_exome < 0.005 ~ \"0.001 <= MAF < 0.005\",\n",
    "                               MAF_nfe_exome >= 0.005 & MAF_nfe_exome < 0.01 ~ \"0.005 <= MAF < 0.01\")) %>%\n",
    "    group_by(maf_cat)\n",
    "\n",
    "hrc_topmed_exome_df <- hrc_topmed_exome_df %>% \n",
    "    mutate(corr_hrc = ifelse(is.na(corr_hrc), 0, corr_hrc),\n",
    "           corr_topmed = ifelse(is.na(corr_topmed), 0, corr_topmed))"
   ]
  },
  {
   "cell_type": "code",
   "execution_count": 12,
   "id": "b2ef2c6d-1a67-451d-b18f-f3e7c4bce252",
   "metadata": {
    "kernel": "R",
    "tags": []
   },
   "outputs": [
    {
     "data": {
      "text/html": [
       "<table class=\"dataframe\">\n",
       "<caption>A tibble: 3 × 6</caption>\n",
       "<thead>\n",
       "\t<tr><th scope=col>maf_cat</th><th scope=col>R2_mean</th><th scope=col>R2_std</th><th scope=col>R2_count</th><th scope=col>data</th><th scope=col>R2_se</th></tr>\n",
       "\t<tr><th scope=col>&lt;fct&gt;</th><th scope=col>&lt;dbl&gt;</th><th scope=col>&lt;dbl&gt;</th><th scope=col>&lt;int&gt;</th><th scope=col>&lt;chr&gt;</th><th scope=col>&lt;dbl&gt;</th></tr>\n",
       "</thead>\n",
       "<tbody>\n",
       "\t<tr><td><span style=white-space:pre-wrap>MAF &lt; 0.001         </span></td><td>0.6888802</td><td>0.2001369</td><td>28674</td><td>HRC</td><td>0.001181906</td></tr>\n",
       "\t<tr><td>0.001 &lt;= MAF &lt; 0.005</td><td>0.8818392</td><td>0.1500554</td><td> 5371</td><td>HRC</td><td>0.002047500</td></tr>\n",
       "\t<tr><td>0.005 &lt;= MAF &lt; 0.01 </td><td>0.9304061</td><td>0.1072783</td><td> 1344</td><td>HRC</td><td>0.002926255</td></tr>\n",
       "</tbody>\n",
       "</table>\n"
      ],
      "text/latex": [
       "A tibble: 3 × 6\n",
       "\\begin{tabular}{llllll}\n",
       " maf\\_cat & R2\\_mean & R2\\_std & R2\\_count & data & R2\\_se\\\\\n",
       " <fct> & <dbl> & <dbl> & <int> & <chr> & <dbl>\\\\\n",
       "\\hline\n",
       "\t MAF < 0.001          & 0.6888802 & 0.2001369 & 28674 & HRC & 0.001181906\\\\\n",
       "\t 0.001 <= MAF < 0.005 & 0.8818392 & 0.1500554 &  5371 & HRC & 0.002047500\\\\\n",
       "\t 0.005 <= MAF < 0.01  & 0.9304061 & 0.1072783 &  1344 & HRC & 0.002926255\\\\\n",
       "\\end{tabular}\n"
      ],
      "text/markdown": [
       "\n",
       "A tibble: 3 × 6\n",
       "\n",
       "| maf_cat &lt;fct&gt; | R2_mean &lt;dbl&gt; | R2_std &lt;dbl&gt; | R2_count &lt;int&gt; | data &lt;chr&gt; | R2_se &lt;dbl&gt; |\n",
       "|---|---|---|---|---|---|\n",
       "| MAF &lt; 0.001          | 0.6888802 | 0.2001369 | 28674 | HRC | 0.001181906 |\n",
       "| 0.001 &lt;= MAF &lt; 0.005 | 0.8818392 | 0.1500554 |  5371 | HRC | 0.002047500 |\n",
       "| 0.005 &lt;= MAF &lt; 0.01  | 0.9304061 | 0.1072783 |  1344 | HRC | 0.002926255 |\n",
       "\n"
      ],
      "text/plain": [
       "  maf_cat              R2_mean   R2_std    R2_count data R2_se      \n",
       "1 MAF < 0.001          0.6888802 0.2001369 28674    HRC  0.001181906\n",
       "2 0.001 <= MAF < 0.005 0.8818392 0.1500554  5371    HRC  0.002047500\n",
       "3 0.005 <= MAF < 0.01  0.9304061 0.1072783  1344    HRC  0.002926255"
      ]
     },
     "metadata": {},
     "output_type": "display_data"
    }
   ],
   "source": [
    "## hrc_R2\n",
    "\n",
    "hrc_R2_summary <- df_2 %>% \n",
    "    filter(R2_hrc != 0) %>% \n",
    "    mutate(maf_cat = case_when(is.na(MAF_nfe_exome) | MAF_nfe_exome < 0.001 ~ \"MAF < 0.001\",\n",
    "                               MAF_nfe_exome >= 0.001 & MAF_nfe_exome < 0.005 ~ \"0.001 <= MAF < 0.005\",\n",
    "                               MAF_nfe_exome >= 0.005 & MAF_nfe_exome < 0.01 ~ \"0.005 <= MAF < 0.01\")) %>%\n",
    "    group_by(maf_cat) %>%\n",
    "    summarise(\n",
    "        R2_mean = mean(R2_hrc),\n",
    "        R2_std = sd(R2_hrc),\n",
    "        R2_count = n()\n",
    "    ) %>%\n",
    "    mutate(maf_cat = factor(maf_cat, levels = c(\"MAF < 0.001\", \"0.001 <= MAF < 0.005\", \"0.005 <= MAF < 0.01\")),\n",
    "          data = \"HRC\", R2_se = R2_std/sqrt(R2_count)) %>% \n",
    "    arrange(maf_cat)\n",
    "\n",
    "hrc_R2_summary "
   ]
  },
  {
   "cell_type": "code",
   "execution_count": 13,
   "id": "09d6babe-8997-47b1-ad3a-198e624bcb7d",
   "metadata": {
    "kernel": "R",
    "tags": []
   },
   "outputs": [
    {
     "data": {
      "text/html": [
       "<table class=\"dataframe\">\n",
       "<caption>A tibble: 3 × 6</caption>\n",
       "<thead>\n",
       "\t<tr><th scope=col>maf_cat</th><th scope=col>R2_mean</th><th scope=col>R2_std</th><th scope=col>R2_count</th><th scope=col>data</th><th scope=col>R2_se</th></tr>\n",
       "\t<tr><th scope=col>&lt;fct&gt;</th><th scope=col>&lt;dbl&gt;</th><th scope=col>&lt;dbl&gt;</th><th scope=col>&lt;int&gt;</th><th scope=col>&lt;chr&gt;</th><th scope=col>&lt;dbl&gt;</th></tr>\n",
       "</thead>\n",
       "<tbody>\n",
       "\t<tr><td><span style=white-space:pre-wrap>MAF &lt; 0.001         </span></td><td>0.6672420</td><td>0.19658404</td><td>235264</td><td>TOPMed</td><td>0.0004052943</td></tr>\n",
       "\t<tr><td>0.001 &lt;= MAF &lt; 0.005</td><td>0.9029821</td><td>0.11133815</td><td><span style=white-space:pre-wrap>  5544</span></td><td>TOPMed</td><td>0.0014953140</td></tr>\n",
       "\t<tr><td>0.005 &lt;= MAF &lt; 0.01 </td><td>0.9496386</td><td>0.08539027</td><td><span style=white-space:pre-wrap>  1387</span></td><td>TOPMed</td><td>0.0022928210</td></tr>\n",
       "</tbody>\n",
       "</table>\n"
      ],
      "text/latex": [
       "A tibble: 3 × 6\n",
       "\\begin{tabular}{llllll}\n",
       " maf\\_cat & R2\\_mean & R2\\_std & R2\\_count & data & R2\\_se\\\\\n",
       " <fct> & <dbl> & <dbl> & <int> & <chr> & <dbl>\\\\\n",
       "\\hline\n",
       "\t MAF < 0.001          & 0.6672420 & 0.19658404 & 235264 & TOPMed & 0.0004052943\\\\\n",
       "\t 0.001 <= MAF < 0.005 & 0.9029821 & 0.11133815 &   5544 & TOPMed & 0.0014953140\\\\\n",
       "\t 0.005 <= MAF < 0.01  & 0.9496386 & 0.08539027 &   1387 & TOPMed & 0.0022928210\\\\\n",
       "\\end{tabular}\n"
      ],
      "text/markdown": [
       "\n",
       "A tibble: 3 × 6\n",
       "\n",
       "| maf_cat &lt;fct&gt; | R2_mean &lt;dbl&gt; | R2_std &lt;dbl&gt; | R2_count &lt;int&gt; | data &lt;chr&gt; | R2_se &lt;dbl&gt; |\n",
       "|---|---|---|---|---|---|\n",
       "| MAF &lt; 0.001          | 0.6672420 | 0.19658404 | 235264 | TOPMed | 0.0004052943 |\n",
       "| 0.001 &lt;= MAF &lt; 0.005 | 0.9029821 | 0.11133815 |   5544 | TOPMed | 0.0014953140 |\n",
       "| 0.005 &lt;= MAF &lt; 0.01  | 0.9496386 | 0.08539027 |   1387 | TOPMed | 0.0022928210 |\n",
       "\n"
      ],
      "text/plain": [
       "  maf_cat              R2_mean   R2_std     R2_count data   R2_se       \n",
       "1 MAF < 0.001          0.6672420 0.19658404 235264   TOPMed 0.0004052943\n",
       "2 0.001 <= MAF < 0.005 0.9029821 0.11133815   5544   TOPMed 0.0014953140\n",
       "3 0.005 <= MAF < 0.01  0.9496386 0.08539027   1387   TOPMed 0.0022928210"
      ]
     },
     "metadata": {},
     "output_type": "display_data"
    }
   ],
   "source": [
    "# topmed_R2\n",
    "\n",
    "topmed_R2_summary <- df_2 %>% \n",
    "    filter(R2_topmed != 0) %>% \n",
    "    mutate(maf_cat = case_when(is.na(MAF_nfe_exome) | MAF_nfe_exome < 0.001 ~ \"MAF < 0.001\",\n",
    "                               MAF_nfe_exome >= 0.001 & MAF_nfe_exome < 0.005 ~ \"0.001 <= MAF < 0.005\",\n",
    "                               MAF_nfe_exome >= 0.005 & MAF_nfe_exome < 0.01 ~ \"0.005 <= MAF < 0.01\")) %>%\n",
    "    group_by(maf_cat) %>%\n",
    "    summarise(\n",
    "        R2_mean = mean(R2_topmed),\n",
    "        R2_std = sd(R2_topmed),\n",
    "        R2_count = n()\n",
    "    ) %>%\n",
    "    mutate(maf_cat = factor(maf_cat, levels = c(\"MAF < 0.001\", \"0.001 <= MAF < 0.005\", \"0.005 <= MAF < 0.01\")),\n",
    "          data = \"TOPMed\", R2_se = R2_std/sqrt(R2_count)) %>% \n",
    "    arrange(maf_cat)\n",
    "\n",
    "topmed_R2_summary"
   ]
  },
  {
   "cell_type": "code",
   "execution_count": 14,
   "id": "dceb71ee-4ebd-4cb8-abf5-efcd42c405c5",
   "metadata": {
    "kernel": "R",
    "tags": []
   },
   "outputs": [
    {
     "data": {
      "text/html": [
       "<table class=\"dataframe\">\n",
       "<caption>A tibble: 3 × 6</caption>\n",
       "<thead>\n",
       "\t<tr><th scope=col>maf_cat</th><th scope=col>corr_mean</th><th scope=col>corr_std</th><th scope=col>corr_count</th><th scope=col>data</th><th scope=col>corr_se</th></tr>\n",
       "\t<tr><th scope=col>&lt;fct&gt;</th><th scope=col>&lt;dbl&gt;</th><th scope=col>&lt;dbl&gt;</th><th scope=col>&lt;int&gt;</th><th scope=col>&lt;chr&gt;</th><th scope=col>&lt;dbl&gt;</th></tr>\n",
       "</thead>\n",
       "<tbody>\n",
       "\t<tr><td><span style=white-space:pre-wrap>MAF &lt; 0.001         </span></td><td>0.6694771</td><td>0.2801258</td><td>26285</td><td>HRC</td><td>0.001727823</td></tr>\n",
       "\t<tr><td>0.001 &lt;= MAF &lt; 0.005</td><td>0.9053217</td><td>0.1474033</td><td> 5256</td><td>HRC</td><td>0.002033198</td></tr>\n",
       "\t<tr><td>0.005 &lt;= MAF &lt; 0.01 </td><td>0.9379537</td><td>0.2003873</td><td> 1306</td><td>HRC</td><td>0.005544963</td></tr>\n",
       "</tbody>\n",
       "</table>\n"
      ],
      "text/latex": [
       "A tibble: 3 × 6\n",
       "\\begin{tabular}{llllll}\n",
       " maf\\_cat & corr\\_mean & corr\\_std & corr\\_count & data & corr\\_se\\\\\n",
       " <fct> & <dbl> & <dbl> & <int> & <chr> & <dbl>\\\\\n",
       "\\hline\n",
       "\t MAF < 0.001          & 0.6694771 & 0.2801258 & 26285 & HRC & 0.001727823\\\\\n",
       "\t 0.001 <= MAF < 0.005 & 0.9053217 & 0.1474033 &  5256 & HRC & 0.002033198\\\\\n",
       "\t 0.005 <= MAF < 0.01  & 0.9379537 & 0.2003873 &  1306 & HRC & 0.005544963\\\\\n",
       "\\end{tabular}\n"
      ],
      "text/markdown": [
       "\n",
       "A tibble: 3 × 6\n",
       "\n",
       "| maf_cat &lt;fct&gt; | corr_mean &lt;dbl&gt; | corr_std &lt;dbl&gt; | corr_count &lt;int&gt; | data &lt;chr&gt; | corr_se &lt;dbl&gt; |\n",
       "|---|---|---|---|---|---|\n",
       "| MAF &lt; 0.001          | 0.6694771 | 0.2801258 | 26285 | HRC | 0.001727823 |\n",
       "| 0.001 &lt;= MAF &lt; 0.005 | 0.9053217 | 0.1474033 |  5256 | HRC | 0.002033198 |\n",
       "| 0.005 &lt;= MAF &lt; 0.01  | 0.9379537 | 0.2003873 |  1306 | HRC | 0.005544963 |\n",
       "\n"
      ],
      "text/plain": [
       "  maf_cat              corr_mean corr_std  corr_count data corr_se    \n",
       "1 MAF < 0.001          0.6694771 0.2801258 26285      HRC  0.001727823\n",
       "2 0.001 <= MAF < 0.005 0.9053217 0.1474033  5256      HRC  0.002033198\n",
       "3 0.005 <= MAF < 0.01  0.9379537 0.2003873  1306      HRC  0.005544963"
      ]
     },
     "metadata": {},
     "output_type": "display_data"
    }
   ],
   "source": [
    "# hrc_r2\n",
    "\n",
    "hrc_r2_summary <- hrc_topmed_exome_df  %>% \n",
    "    filter(R2_hrc !=0, R2_exome == 999) %>% \n",
    "    mutate(maf_cat = case_when(is.na(MAF_nfe_exome) | MAF_nfe_exome < 0.001 ~ \"MAF < 0.001\",\n",
    "                               MAF_nfe_exome >= 0.001 & MAF_nfe_exome < 0.005 ~ \"0.001 <= MAF < 0.005\",\n",
    "                               MAF_nfe_exome >= 0.005 & MAF_nfe_exome < 0.01 ~ \"0.005 <= MAF < 0.01\")) %>%\n",
    "    group_by(maf_cat) %>%\n",
    "    summarise(\n",
    "        corr_mean = mean(corr_hrc),\n",
    "        corr_std = sd(corr_hrc),\n",
    "        corr_count = n()\n",
    "    ) %>%\n",
    "    mutate(maf_cat = factor(maf_cat, levels = c(\"MAF < 0.001\", \"0.001 <= MAF < 0.005\", \"0.005 <= MAF < 0.01\")),\n",
    "          data = \"HRC\", corr_se = corr_std/sqrt(corr_count)) %>% \n",
    "    arrange(maf_cat)\n",
    "\n",
    "hrc_r2_summary"
   ]
  },
  {
   "cell_type": "code",
   "execution_count": 15,
   "id": "189855e8-3877-46be-ac58-9685c2342856",
   "metadata": {
    "kernel": "R",
    "tags": []
   },
   "outputs": [
    {
     "data": {
      "text/html": [
       "<table class=\"dataframe\">\n",
       "<caption>A tibble: 3 × 6</caption>\n",
       "<thead>\n",
       "\t<tr><th scope=col>maf_cat</th><th scope=col>corr_mean</th><th scope=col>corr_std</th><th scope=col>corr_count</th><th scope=col>data</th><th scope=col>corr_se</th></tr>\n",
       "\t<tr><th scope=col>&lt;fct&gt;</th><th scope=col>&lt;dbl&gt;</th><th scope=col>&lt;dbl&gt;</th><th scope=col>&lt;int&gt;</th><th scope=col>&lt;chr&gt;</th><th scope=col>&lt;dbl&gt;</th></tr>\n",
       "</thead>\n",
       "<tbody>\n",
       "\t<tr><td><span style=white-space:pre-wrap>MAF &lt; 0.001         </span></td><td>0.6527062</td><td>0.3308834</td><td>185099</td><td>TOPMed</td><td>0.0007690826</td></tr>\n",
       "\t<tr><td>0.001 &lt;= MAF &lt; 0.005</td><td>0.9357304</td><td>0.1101351</td><td><span style=white-space:pre-wrap>  5447</span></td><td>TOPMed</td><td>0.0014922692</td></tr>\n",
       "\t<tr><td>0.005 &lt;= MAF &lt; 0.01 </td><td>0.9481036</td><td>0.2063360</td><td><span style=white-space:pre-wrap>  1351</span></td><td>TOPMed</td><td>0.0056136745</td></tr>\n",
       "</tbody>\n",
       "</table>\n"
      ],
      "text/latex": [
       "A tibble: 3 × 6\n",
       "\\begin{tabular}{llllll}\n",
       " maf\\_cat & corr\\_mean & corr\\_std & corr\\_count & data & corr\\_se\\\\\n",
       " <fct> & <dbl> & <dbl> & <int> & <chr> & <dbl>\\\\\n",
       "\\hline\n",
       "\t MAF < 0.001          & 0.6527062 & 0.3308834 & 185099 & TOPMed & 0.0007690826\\\\\n",
       "\t 0.001 <= MAF < 0.005 & 0.9357304 & 0.1101351 &   5447 & TOPMed & 0.0014922692\\\\\n",
       "\t 0.005 <= MAF < 0.01  & 0.9481036 & 0.2063360 &   1351 & TOPMed & 0.0056136745\\\\\n",
       "\\end{tabular}\n"
      ],
      "text/markdown": [
       "\n",
       "A tibble: 3 × 6\n",
       "\n",
       "| maf_cat &lt;fct&gt; | corr_mean &lt;dbl&gt; | corr_std &lt;dbl&gt; | corr_count &lt;int&gt; | data &lt;chr&gt; | corr_se &lt;dbl&gt; |\n",
       "|---|---|---|---|---|---|\n",
       "| MAF &lt; 0.001          | 0.6527062 | 0.3308834 | 185099 | TOPMed | 0.0007690826 |\n",
       "| 0.001 &lt;= MAF &lt; 0.005 | 0.9357304 | 0.1101351 |   5447 | TOPMed | 0.0014922692 |\n",
       "| 0.005 &lt;= MAF &lt; 0.01  | 0.9481036 | 0.2063360 |   1351 | TOPMed | 0.0056136745 |\n",
       "\n"
      ],
      "text/plain": [
       "  maf_cat              corr_mean corr_std  corr_count data   corr_se     \n",
       "1 MAF < 0.001          0.6527062 0.3308834 185099     TOPMed 0.0007690826\n",
       "2 0.001 <= MAF < 0.005 0.9357304 0.1101351   5447     TOPMed 0.0014922692\n",
       "3 0.005 <= MAF < 0.01  0.9481036 0.2063360   1351     TOPMed 0.0056136745"
      ]
     },
     "metadata": {},
     "output_type": "display_data"
    }
   ],
   "source": [
    "# topmed_r2\n",
    "\n",
    "topmed_r2_summary <- hrc_topmed_exome_df  %>% \n",
    "    filter(R2_topmed !=0, R2_exome == 999) %>% \n",
    "    mutate(maf_cat = case_when(is.na(MAF_nfe_exome) | MAF_nfe_exome < 0.001 ~ \"MAF < 0.001\",\n",
    "                               MAF_nfe_exome >= 0.001 & MAF_nfe_exome < 0.005 ~ \"0.001 <= MAF < 0.005\",\n",
    "                               MAF_nfe_exome >= 0.005 & MAF_nfe_exome < 0.01 ~ \"0.005 <= MAF < 0.01\")) %>%\n",
    "    group_by(maf_cat) %>%\n",
    "    summarise(\n",
    "        corr_mean = mean(corr_topmed),\n",
    "        corr_std = sd(corr_topmed),\n",
    "        corr_count = n()\n",
    "    ) %>%\n",
    "    mutate(maf_cat = factor(maf_cat, levels = c(\"MAF < 0.001\", \"0.001 <= MAF < 0.005\", \"0.005 <= MAF < 0.01\")),\n",
    "          data = \"TOPMed\", corr_se = corr_std/sqrt(corr_count)) %>% \n",
    "    arrange(maf_cat)\n",
    "\n",
    "topmed_r2_summary"
   ]
  },
  {
   "cell_type": "code",
   "execution_count": 16,
   "id": "9bef83e7-7016-4086-9d76-b395d5ca980b",
   "metadata": {
    "kernel": "R",
    "tags": []
   },
   "outputs": [
    {
     "data": {
      "text/html": [
       "<table class=\"dataframe\">\n",
       "<caption>A tibble: 3 × 4</caption>\n",
       "<thead>\n",
       "\t<tr><th scope=col>maf_cat</th><th scope=col>mean_R2</th><th scope=col>se_R2</th><th scope=col>count_R2</th></tr>\n",
       "\t<tr><th scope=col>&lt;fct&gt;</th><th scope=col>&lt;dbl&gt;</th><th scope=col>&lt;dbl&gt;</th><th scope=col>&lt;int&gt;</th></tr>\n",
       "</thead>\n",
       "<tbody>\n",
       "\t<tr><td><span style=white-space:pre-wrap>MAF &lt; 0.001         </span></td><td>0.6730641</td><td>0.0004047096</td><td>238500</td></tr>\n",
       "\t<tr><td>0.001 &lt;= MAF &lt; 0.005</td><td>0.9206836</td><td>0.0015047751</td><td><span style=white-space:pre-wrap>  5725</span></td></tr>\n",
       "\t<tr><td>0.005 &lt;= MAF &lt; 0.01 </td><td>0.9463442</td><td>0.0025661029</td><td><span style=white-space:pre-wrap>  1438</span></td></tr>\n",
       "</tbody>\n",
       "</table>\n"
      ],
      "text/latex": [
       "A tibble: 3 × 4\n",
       "\\begin{tabular}{llll}\n",
       " maf\\_cat & mean\\_R2 & se\\_R2 & count\\_R2\\\\\n",
       " <fct> & <dbl> & <dbl> & <int>\\\\\n",
       "\\hline\n",
       "\t MAF < 0.001          & 0.6730641 & 0.0004047096 & 238500\\\\\n",
       "\t 0.001 <= MAF < 0.005 & 0.9206836 & 0.0015047751 &   5725\\\\\n",
       "\t 0.005 <= MAF < 0.01  & 0.9463442 & 0.0025661029 &   1438\\\\\n",
       "\\end{tabular}\n"
      ],
      "text/markdown": [
       "\n",
       "A tibble: 3 × 4\n",
       "\n",
       "| maf_cat &lt;fct&gt; | mean_R2 &lt;dbl&gt; | se_R2 &lt;dbl&gt; | count_R2 &lt;int&gt; |\n",
       "|---|---|---|---|\n",
       "| MAF &lt; 0.001          | 0.6730641 | 0.0004047096 | 238500 |\n",
       "| 0.001 &lt;= MAF &lt; 0.005 | 0.9206836 | 0.0015047751 |   5725 |\n",
       "| 0.005 &lt;= MAF &lt; 0.01  | 0.9463442 | 0.0025661029 |   1438 |\n",
       "\n"
      ],
      "text/plain": [
       "  maf_cat              mean_R2   se_R2        count_R2\n",
       "1 MAF < 0.001          0.6730641 0.0004047096 238500  \n",
       "2 0.001 <= MAF < 0.005 0.9206836 0.0015047751   5725  \n",
       "3 0.005 <= MAF < 0.01  0.9463442 0.0025661029   1438  "
      ]
     },
     "metadata": {},
     "output_type": "display_data"
    }
   ],
   "source": [
    "## hrc_topmed_R2\n",
    "hrc_topmed_df %>% \n",
    "    summarise(mean_R2 = mean(R2), se_R2 = sd(R2) / sqrt(n()), count_R2 = n()) %>% \n",
    "    mutate(maf_cat = factor(maf_cat, levels = c(\"MAF < 0.001\", \"0.001 <= MAF < 0.005\", \"0.005 <= MAF < 0.01\"))) %>% \n",
    "    arrange(maf_cat)"
   ]
  },
  {
   "cell_type": "code",
   "execution_count": 17,
   "id": "6bad5023-40dc-4125-902d-d492544f5d61",
   "metadata": {
    "kernel": "R"
   },
   "outputs": [
    {
     "data": {
      "text/html": [
       "<table class=\"dataframe\">\n",
       "<caption>A tibble: 3 × 4</caption>\n",
       "<thead>\n",
       "\t<tr><th scope=col>maf_cat</th><th scope=col>mean_corr</th><th scope=col>se_corr</th><th scope=col>count_corr</th></tr>\n",
       "\t<tr><th scope=col>&lt;fct&gt;</th><th scope=col>&lt;dbl&gt;</th><th scope=col>&lt;dbl&gt;</th><th scope=col>&lt;int&gt;</th></tr>\n",
       "</thead>\n",
       "<tbody>\n",
       "\t<tr><td><span style=white-space:pre-wrap>MAF &lt; 0.001         </span></td><td>0.6475809</td><td>0.0007692251</td><td>187355</td></tr>\n",
       "\t<tr><td>0.001 &lt;= MAF &lt; 0.005</td><td>0.9370379</td><td>0.0018199634</td><td><span style=white-space:pre-wrap>  5576</span></td></tr>\n",
       "\t<tr><td>0.005 &lt;= MAF &lt; 0.01 </td><td>0.9431791</td><td>0.0056898435</td><td><span style=white-space:pre-wrap>  1387</span></td></tr>\n",
       "</tbody>\n",
       "</table>\n"
      ],
      "text/latex": [
       "A tibble: 3 × 4\n",
       "\\begin{tabular}{llll}\n",
       " maf\\_cat & mean\\_corr & se\\_corr & count\\_corr\\\\\n",
       " <fct> & <dbl> & <dbl> & <int>\\\\\n",
       "\\hline\n",
       "\t MAF < 0.001          & 0.6475809 & 0.0007692251 & 187355\\\\\n",
       "\t 0.001 <= MAF < 0.005 & 0.9370379 & 0.0018199634 &   5576\\\\\n",
       "\t 0.005 <= MAF < 0.01  & 0.9431791 & 0.0056898435 &   1387\\\\\n",
       "\\end{tabular}\n"
      ],
      "text/markdown": [
       "\n",
       "A tibble: 3 × 4\n",
       "\n",
       "| maf_cat &lt;fct&gt; | mean_corr &lt;dbl&gt; | se_corr &lt;dbl&gt; | count_corr &lt;int&gt; |\n",
       "|---|---|---|---|\n",
       "| MAF &lt; 0.001          | 0.6475809 | 0.0007692251 | 187355 |\n",
       "| 0.001 &lt;= MAF &lt; 0.005 | 0.9370379 | 0.0018199634 |   5576 |\n",
       "| 0.005 &lt;= MAF &lt; 0.01  | 0.9431791 | 0.0056898435 |   1387 |\n",
       "\n"
      ],
      "text/plain": [
       "  maf_cat              mean_corr se_corr      count_corr\n",
       "1 MAF < 0.001          0.6475809 0.0007692251 187355    \n",
       "2 0.001 <= MAF < 0.005 0.9370379 0.0018199634   5576    \n",
       "3 0.005 <= MAF < 0.01  0.9431791 0.0056898435   1387    "
      ]
     },
     "metadata": {},
     "output_type": "display_data"
    }
   ],
   "source": [
    "## hrc_topmed_r2\n",
    "\n",
    "hrc_topmed_df  %>% \n",
    "    mutate(corr = ifelse(source == \"hrc\", corr_hrc, corr_topmed)) %>%\n",
    "    filter(corr != 0) %>% \n",
    "    summarise(mean_corr = mean(corr), se_corr = sd(corr) / sqrt(n()), count_corr = n()) %>% \n",
    "    mutate(maf_cat = factor(maf_cat, levels = c(\"MAF < 0.001\", \"0.001 <= MAF < 0.005\", \"0.005 <= MAF < 0.01\"))) %>% \n",
    "    arrange(maf_cat)"
   ]
  },
  {
   "cell_type": "markdown",
   "id": "cbc33811-4f14-470b-89e1-818522c778b6",
   "metadata": {
    "kernel": "R"
   },
   "source": [
    "### T-test for R2 vs r2"
   ]
  },
  {
   "cell_type": "markdown",
   "id": "82482e4b-cb46-42f1-a67f-be6b1491078c",
   "metadata": {
    "kernel": "R"
   },
   "source": [
    "#### Table S2"
   ]
  },
  {
   "cell_type": "code",
   "execution_count": 18,
   "id": "b25b85ee-313b-4d95-a735-63df09f694f3",
   "metadata": {
    "kernel": "R",
    "tags": []
   },
   "outputs": [],
   "source": [
    "# hrc_corr_df <- corr_df %>% \n",
    "#     mutate(maf_cat = case_when(grepl(\"0001\", dataset) ~ \"MAF < 0.001\",\n",
    "#                                grepl(\"0005\", dataset) ~ \"0.001 <= MAF < 0.005\",\n",
    "#                                grepl(\"001\", dataset)  ~ \"0.005 <= MAF < 0.01\",\n",
    "#                                TRUE ~ \"dataset\")) %>%\n",
    "#     filter(grepl(\"hrc_\", dataset)) %>%\n",
    "#     select(snp_id, corr, maf_cat)\n",
    "\n",
    "# topmed_corr_df <- corr_df %>% \n",
    "#     mutate(maf_cat = case_when(grepl(\"0001\", dataset) ~ \"MAF < 0.001\",\n",
    "#                                grepl(\"0005\", dataset) ~ \"0.001 <= MAF < 0.005\",\n",
    "#                                grepl(\"001\", dataset)  ~ \"0.005 <= MAF < 0.01\",\n",
    "#                                TRUE ~ \"dataset\")) %>%\n",
    "#     filter(grepl(\"topmed_\", dataset)) %>%\n",
    "#     select(snp_id, corr, maf_cat)"
   ]
  },
  {
   "cell_type": "code",
   "execution_count": 19,
   "id": "38f8a42e-16b7-47c6-85ac-a5402bcfbaff",
   "metadata": {
    "kernel": "R",
    "tags": []
   },
   "outputs": [],
   "source": [
    "hrc_r2_df <- df_3 %>% \n",
    "    filter(R2_hrc != 0) %>% \n",
    "    mutate(maf_cat = case_when(is.na(MAF_nfe_exome) | MAF_nfe_exome < 0.001 ~ \"MAF < 0.001\",\n",
    "                               MAF_nfe_exome >= 0.001 & MAF_nfe_exome < 0.005 ~ \"0.001 <= MAF < 0.005\",\n",
    "                               MAF_nfe_exome >= 0.005 & MAF_nfe_exome < 0.01 ~ \"0.005 <= MAF < 0.01\")) %>%\n",
    "    select(ID_hg38, R2_hrc, maf_cat)\n",
    "\n",
    "topmed_r2_df <- df_3 %>% \n",
    "    filter(R2_topmed != 0) %>% \n",
    "    mutate(maf_cat = case_when(is.na(MAF_nfe_exome) | MAF_nfe_exome < 0.001 ~ \"MAF < 0.001\",\n",
    "                               MAF_nfe_exome >= 0.001 & MAF_nfe_exome < 0.005 ~ \"0.001 <= MAF < 0.005\",\n",
    "                               MAF_nfe_exome >= 0.005 & MAF_nfe_exome < 0.01 ~ \"0.005 <= MAF < 0.01\")) %>%\n",
    "    select(ID_hg38, R2_topmed, maf_cat)"
   ]
  },
  {
   "cell_type": "code",
   "execution_count": 20,
   "id": "4f34790e-5f2c-41d9-a454-34a3fd1e49e3",
   "metadata": {
    "kernel": "R",
    "tags": []
   },
   "outputs": [
    {
     "data": {
      "text/html": [
       "<table class=\"dataframe\">\n",
       "<caption>A data.frame: 3 × 9</caption>\n",
       "<thead>\n",
       "\t<tr><th></th><th scope=col>r2_mean_hrc</th><th scope=col>r2_se_hrc</th><th scope=col>r2_n_hrc</th><th scope=col>r2_mean_topmed</th><th scope=col>r2_se_topmed</th><th scope=col>r2_n_topmed</th><th scope=col>test_stat</th><th scope=col>p_value</th><th scope=col>maf_cat</th></tr>\n",
       "\t<tr><th></th><th scope=col>&lt;dbl&gt;</th><th scope=col>&lt;dbl&gt;</th><th scope=col>&lt;int&gt;</th><th scope=col>&lt;dbl&gt;</th><th scope=col>&lt;dbl&gt;</th><th scope=col>&lt;int&gt;</th><th scope=col>&lt;dbl&gt;</th><th scope=col>&lt;dbl&gt;</th><th scope=col>&lt;chr&gt;</th></tr>\n",
       "</thead>\n",
       "<tbody>\n",
       "\t<tr><th scope=row>t</th><td>0.6888802</td><td>0.001181906</td><td>28674</td><td>0.6672420</td><td>0.0004052943</td><td>235264</td><td>17.317953</td><td>6.463932e-67</td><td><span style=white-space:pre-wrap>MAF &lt; 0.001         </span></td></tr>\n",
       "\t<tr><th scope=row>t1</th><td>0.8818392</td><td>0.002047500</td><td> 5371</td><td>0.9029821</td><td>0.0014953140</td><td><span style=white-space:pre-wrap>  5544</span></td><td>-8.339087</td><td>8.483926e-17</td><td>0.001 &lt;= MAF &lt; 0.005</td></tr>\n",
       "\t<tr><th scope=row>t2</th><td>0.9304061</td><td>0.002926255</td><td> 1344</td><td>0.9496386</td><td>0.0022928210</td><td><span style=white-space:pre-wrap>  1387</span></td><td>-5.173460</td><td>2.475786e-07</td><td>0.005 &lt;= MAF &lt; 0.01 </td></tr>\n",
       "</tbody>\n",
       "</table>\n"
      ],
      "text/latex": [
       "A data.frame: 3 × 9\n",
       "\\begin{tabular}{r|lllllllll}\n",
       "  & r2\\_mean\\_hrc & r2\\_se\\_hrc & r2\\_n\\_hrc & r2\\_mean\\_topmed & r2\\_se\\_topmed & r2\\_n\\_topmed & test\\_stat & p\\_value & maf\\_cat\\\\\n",
       "  & <dbl> & <dbl> & <int> & <dbl> & <dbl> & <int> & <dbl> & <dbl> & <chr>\\\\\n",
       "\\hline\n",
       "\tt & 0.6888802 & 0.001181906 & 28674 & 0.6672420 & 0.0004052943 & 235264 & 17.317953 & 6.463932e-67 & MAF < 0.001         \\\\\n",
       "\tt1 & 0.8818392 & 0.002047500 &  5371 & 0.9029821 & 0.0014953140 &   5544 & -8.339087 & 8.483926e-17 & 0.001 <= MAF < 0.005\\\\\n",
       "\tt2 & 0.9304061 & 0.002926255 &  1344 & 0.9496386 & 0.0022928210 &   1387 & -5.173460 & 2.475786e-07 & 0.005 <= MAF < 0.01 \\\\\n",
       "\\end{tabular}\n"
      ],
      "text/markdown": [
       "\n",
       "A data.frame: 3 × 9\n",
       "\n",
       "| <!--/--> | r2_mean_hrc &lt;dbl&gt; | r2_se_hrc &lt;dbl&gt; | r2_n_hrc &lt;int&gt; | r2_mean_topmed &lt;dbl&gt; | r2_se_topmed &lt;dbl&gt; | r2_n_topmed &lt;int&gt; | test_stat &lt;dbl&gt; | p_value &lt;dbl&gt; | maf_cat &lt;chr&gt; |\n",
       "|---|---|---|---|---|---|---|---|---|---|\n",
       "| t | 0.6888802 | 0.001181906 | 28674 | 0.6672420 | 0.0004052943 | 235264 | 17.317953 | 6.463932e-67 | MAF &lt; 0.001          |\n",
       "| t1 | 0.8818392 | 0.002047500 |  5371 | 0.9029821 | 0.0014953140 |   5544 | -8.339087 | 8.483926e-17 | 0.001 &lt;= MAF &lt; 0.005 |\n",
       "| t2 | 0.9304061 | 0.002926255 |  1344 | 0.9496386 | 0.0022928210 |   1387 | -5.173460 | 2.475786e-07 | 0.005 &lt;= MAF &lt; 0.01  |\n",
       "\n"
      ],
      "text/plain": [
       "   r2_mean_hrc r2_se_hrc   r2_n_hrc r2_mean_topmed r2_se_topmed r2_n_topmed\n",
       "t  0.6888802   0.001181906 28674    0.6672420      0.0004052943 235264     \n",
       "t1 0.8818392   0.002047500  5371    0.9029821      0.0014953140   5544     \n",
       "t2 0.9304061   0.002926255  1344    0.9496386      0.0022928210   1387     \n",
       "   test_stat p_value      maf_cat             \n",
       "t  17.317953 6.463932e-67 MAF < 0.001         \n",
       "t1 -8.339087 8.483926e-17 0.001 <= MAF < 0.005\n",
       "t2 -5.173460 2.475786e-07 0.005 <= MAF < 0.01 "
      ]
     },
     "metadata": {},
     "output_type": "display_data"
    }
   ],
   "source": [
    "## check if the R2 is statistically different for HRC v.s. TOPMed\n",
    "\n",
    "r2_df <- data.frame(matrix(ncol=9, nrow = 0))\n",
    "colnames(r2_df) <- c(\"r2_mean_hrc\", \"r2_se_hrc\", \"r2_n_hrc\", \"r2_mean_topmed\", \"r2_se_topmed\", \"r2_n_topmed\", \"test_stat\", \"p_value\", \"maf_cat\")\n",
    "\n",
    "for(maf in c(\"MAF < 0.001\", \"0.001 <= MAF < 0.005\", \"0.005 <= MAF < 0.01\")){\n",
    "    hrc <- hrc_r2_df %>% filter(maf_cat == maf)\n",
    "    topmed <- topmed_r2_df %>% filter(maf_cat == maf)\n",
    "    \n",
    "    test_result <- t.test(hrc$R2_hrc, topmed$R2_topmed)\n",
    "    \n",
    "    sub_r2_df <- data.frame(\"r2_mean_hrc\" = mean(hrc$R2_hrc),\n",
    "                              \"r2_se_hrc\" = sd(hrc$R2_hrc) / sqrt(length(hrc$R2_hrc)),\n",
    "                              \"r2_n_hrc\" = length(hrc$R2_hrc), \n",
    "                              \"r2_mean_topmed\" = mean(topmed$R2_topmed),\n",
    "                              \"r2_se_topmed\" = sd(topmed$R2_topmed) / sqrt(length(topmed$R2_topmed)),\n",
    "                              \"r2_n_topmed\" = length(topmed$R2_topmed), \n",
    "                              \"test_stat\" = test_result$statistic, \n",
    "                              \"p_value\" = test_result$p.value,\n",
    "                              \"maf_cat\" = maf)\n",
    "    r2_df = rbind(r2_df, sub_r2_df)\n",
    "}\n",
    "\n",
    "r2_df"
   ]
  },
  {
   "cell_type": "code",
   "execution_count": 21,
   "id": "abba9f54-ea56-460c-b73a-77fc03d1cf29",
   "metadata": {
    "kernel": "R",
    "tags": []
   },
   "outputs": [
    {
     "data": {
      "text/html": [
       "<table class=\"dataframe\">\n",
       "<caption>A data.frame: 3 × 9</caption>\n",
       "<thead>\n",
       "\t<tr><th></th><th scope=col>r2_mean_hrc</th><th scope=col>r2_se_hrc</th><th scope=col>r2_n_hrc</th><th scope=col>r2_mean_hrc_topmed</th><th scope=col>r2_se_hrc_topmed</th><th scope=col>r2_n_hrc_topmed</th><th scope=col>test_stat</th><th scope=col>p_value</th><th scope=col>maf_cat</th></tr>\n",
       "\t<tr><th></th><th scope=col>&lt;dbl&gt;</th><th scope=col>&lt;dbl&gt;</th><th scope=col>&lt;int&gt;</th><th scope=col>&lt;dbl&gt;</th><th scope=col>&lt;dbl&gt;</th><th scope=col>&lt;int&gt;</th><th scope=col>&lt;dbl&gt;</th><th scope=col>&lt;dbl&gt;</th><th scope=col>&lt;chr&gt;</th></tr>\n",
       "</thead>\n",
       "<tbody>\n",
       "\t<tr><th scope=row>t</th><td>0.6888802</td><td>0.001181906</td><td>28674</td><td>0.6730641</td><td>0.0004047096</td><td>238500</td><td> 12.660195</td><td>1.178015e-36</td><td><span style=white-space:pre-wrap>MAF &lt; 0.001         </span></td></tr>\n",
       "\t<tr><th scope=row>t1</th><td>0.8818392</td><td>0.002047500</td><td> 5371</td><td>0.9206836</td><td>0.0015047751</td><td><span style=white-space:pre-wrap>  5725</span></td><td>-15.287131</td><td>3.615025e-52</td><td>0.001 &lt;= MAF &lt; 0.005</td></tr>\n",
       "\t<tr><th scope=row>t2</th><td>0.9304061</td><td>0.002926255</td><td> 1344</td><td>0.9463442</td><td>0.0025661029</td><td><span style=white-space:pre-wrap>  1438</span></td><td> -4.095056</td><td>4.344396e-05</td><td>0.005 &lt;= MAF &lt; 0.01 </td></tr>\n",
       "</tbody>\n",
       "</table>\n"
      ],
      "text/latex": [
       "A data.frame: 3 × 9\n",
       "\\begin{tabular}{r|lllllllll}\n",
       "  & r2\\_mean\\_hrc & r2\\_se\\_hrc & r2\\_n\\_hrc & r2\\_mean\\_hrc\\_topmed & r2\\_se\\_hrc\\_topmed & r2\\_n\\_hrc\\_topmed & test\\_stat & p\\_value & maf\\_cat\\\\\n",
       "  & <dbl> & <dbl> & <int> & <dbl> & <dbl> & <int> & <dbl> & <dbl> & <chr>\\\\\n",
       "\\hline\n",
       "\tt & 0.6888802 & 0.001181906 & 28674 & 0.6730641 & 0.0004047096 & 238500 &  12.660195 & 1.178015e-36 & MAF < 0.001         \\\\\n",
       "\tt1 & 0.8818392 & 0.002047500 &  5371 & 0.9206836 & 0.0015047751 &   5725 & -15.287131 & 3.615025e-52 & 0.001 <= MAF < 0.005\\\\\n",
       "\tt2 & 0.9304061 & 0.002926255 &  1344 & 0.9463442 & 0.0025661029 &   1438 &  -4.095056 & 4.344396e-05 & 0.005 <= MAF < 0.01 \\\\\n",
       "\\end{tabular}\n"
      ],
      "text/markdown": [
       "\n",
       "A data.frame: 3 × 9\n",
       "\n",
       "| <!--/--> | r2_mean_hrc &lt;dbl&gt; | r2_se_hrc &lt;dbl&gt; | r2_n_hrc &lt;int&gt; | r2_mean_hrc_topmed &lt;dbl&gt; | r2_se_hrc_topmed &lt;dbl&gt; | r2_n_hrc_topmed &lt;int&gt; | test_stat &lt;dbl&gt; | p_value &lt;dbl&gt; | maf_cat &lt;chr&gt; |\n",
       "|---|---|---|---|---|---|---|---|---|---|\n",
       "| t | 0.6888802 | 0.001181906 | 28674 | 0.6730641 | 0.0004047096 | 238500 |  12.660195 | 1.178015e-36 | MAF &lt; 0.001          |\n",
       "| t1 | 0.8818392 | 0.002047500 |  5371 | 0.9206836 | 0.0015047751 |   5725 | -15.287131 | 3.615025e-52 | 0.001 &lt;= MAF &lt; 0.005 |\n",
       "| t2 | 0.9304061 | 0.002926255 |  1344 | 0.9463442 | 0.0025661029 |   1438 |  -4.095056 | 4.344396e-05 | 0.005 &lt;= MAF &lt; 0.01  |\n",
       "\n"
      ],
      "text/plain": [
       "   r2_mean_hrc r2_se_hrc   r2_n_hrc r2_mean_hrc_topmed r2_se_hrc_topmed\n",
       "t  0.6888802   0.001181906 28674    0.6730641          0.0004047096    \n",
       "t1 0.8818392   0.002047500  5371    0.9206836          0.0015047751    \n",
       "t2 0.9304061   0.002926255  1344    0.9463442          0.0025661029    \n",
       "   r2_n_hrc_topmed test_stat  p_value      maf_cat             \n",
       "t  238500           12.660195 1.178015e-36 MAF < 0.001         \n",
       "t1   5725          -15.287131 3.615025e-52 0.001 <= MAF < 0.005\n",
       "t2   1438           -4.095056 4.344396e-05 0.005 <= MAF < 0.01 "
      ]
     },
     "metadata": {},
     "output_type": "display_data"
    }
   ],
   "source": [
    "## check if the RSQ is statistically different for HRC v.s. HRC_TOPMed\n",
    "\n",
    "r2_df <- data.frame(matrix(ncol=9, nrow = 0))\n",
    "colnames(r2_df) <- c(\"r2_mean_hrc\", \"r2_se_hrc\", \"r2_n_hrc\", \"r2_mean_hrc_topmed\", \"r2_se_hrc_topmed\", \"r2_n_hrc_topmed\", \"test_stat\", \"p_value\", \"maf_cat\")\n",
    "\n",
    "for(maf in c(\"MAF < 0.001\", \"0.001 <= MAF < 0.005\", \"0.005 <= MAF < 0.01\")){\n",
    "    hrc <- hrc_r2_df %>% filter(maf_cat == maf)\n",
    "    hrc_topmed <- hrc_topmed_df %>% filter(maf_cat == maf)\n",
    "    \n",
    "    test_result <- t.test(hrc$R2_hrc, hrc_topmed$R2)\n",
    "    \n",
    "    sub_r2_df <- data.frame(\"r2_mean_hrc\" = mean(hrc$R2_hrc),\n",
    "                              \"r2_se_hrc\" = sd(hrc$R2_hrc) / sqrt(length(hrc$R2_hrc)),\n",
    "                              \"r2_n_hrc\" = length(hrc$R2_hrc), \n",
    "                              \"r2_mean_hrc_topmed\" = mean(hrc_topmed$R2),\n",
    "                              \"r2_se_hrc_topmed\" = sd(hrc_topmed$R2) / sqrt(length(hrc_topmed$R2)),\n",
    "                              \"r2_n_hrc_topmed\" = length(hrc_topmed$R2), \n",
    "                              \"test_stat\" = test_result$statistic, \n",
    "                              \"p_value\" = test_result$p.value,\n",
    "                              \"maf_cat\" = maf)\n",
    "    r2_df = rbind(r2_df, sub_r2_df)\n",
    "}\n",
    "\n",
    "r2_df"
   ]
  },
  {
   "cell_type": "code",
   "execution_count": 22,
   "id": "574260da-478e-4747-8e77-6d6b1b52b5fe",
   "metadata": {
    "kernel": "R",
    "tags": []
   },
   "outputs": [
    {
     "data": {
      "text/html": [
       "<table class=\"dataframe\">\n",
       "<caption>A data.frame: 3 × 9</caption>\n",
       "<thead>\n",
       "\t<tr><th></th><th scope=col>r2_mean_topmed</th><th scope=col>r2_se_topmed</th><th scope=col>r2_n_topmed</th><th scope=col>r2_mean_hrc_topmed</th><th scope=col>r2_se_hrc_topmed</th><th scope=col>r2_n_hrc_topmed</th><th scope=col>test_stat</th><th scope=col>p_value</th><th scope=col>maf_cat</th></tr>\n",
       "\t<tr><th></th><th scope=col>&lt;dbl&gt;</th><th scope=col>&lt;dbl&gt;</th><th scope=col>&lt;int&gt;</th><th scope=col>&lt;dbl&gt;</th><th scope=col>&lt;dbl&gt;</th><th scope=col>&lt;int&gt;</th><th scope=col>&lt;dbl&gt;</th><th scope=col>&lt;dbl&gt;</th><th scope=col>&lt;chr&gt;</th></tr>\n",
       "</thead>\n",
       "<tbody>\n",
       "\t<tr><th scope=row>t</th><td>0.6672420</td><td>0.0004052943</td><td>235264</td><td>0.6730641</td><td>0.0004047096</td><td>238500</td><td>87.113222</td><td>0.000000e+00</td><td><span style=white-space:pre-wrap>MAF &lt; 0.001         </span></td></tr>\n",
       "\t<tr><th scope=row>t1</th><td>0.9029821</td><td>0.0014953140</td><td><span style=white-space:pre-wrap>  5544</span></td><td>0.9206836</td><td>0.0015047751</td><td><span style=white-space:pre-wrap>  5725</span></td><td> 2.954738</td><td>3.163951e-03</td><td>0.001 &lt;= MAF &lt; 0.005</td></tr>\n",
       "\t<tr><th scope=row>t2</th><td>0.9496386</td><td>0.0022928210</td><td><span style=white-space:pre-wrap>  1387</span></td><td>0.9463442</td><td>0.0025661029</td><td><span style=white-space:pre-wrap>  1438</span></td><td>-4.095056</td><td>4.344396e-05</td><td>0.005 &lt;= MAF &lt; 0.01 </td></tr>\n",
       "</tbody>\n",
       "</table>\n"
      ],
      "text/latex": [
       "A data.frame: 3 × 9\n",
       "\\begin{tabular}{r|lllllllll}\n",
       "  & r2\\_mean\\_topmed & r2\\_se\\_topmed & r2\\_n\\_topmed & r2\\_mean\\_hrc\\_topmed & r2\\_se\\_hrc\\_topmed & r2\\_n\\_hrc\\_topmed & test\\_stat & p\\_value & maf\\_cat\\\\\n",
       "  & <dbl> & <dbl> & <int> & <dbl> & <dbl> & <int> & <dbl> & <dbl> & <chr>\\\\\n",
       "\\hline\n",
       "\tt & 0.6672420 & 0.0004052943 & 235264 & 0.6730641 & 0.0004047096 & 238500 & 87.113222 & 0.000000e+00 & MAF < 0.001         \\\\\n",
       "\tt1 & 0.9029821 & 0.0014953140 &   5544 & 0.9206836 & 0.0015047751 &   5725 &  2.954738 & 3.163951e-03 & 0.001 <= MAF < 0.005\\\\\n",
       "\tt2 & 0.9496386 & 0.0022928210 &   1387 & 0.9463442 & 0.0025661029 &   1438 & -4.095056 & 4.344396e-05 & 0.005 <= MAF < 0.01 \\\\\n",
       "\\end{tabular}\n"
      ],
      "text/markdown": [
       "\n",
       "A data.frame: 3 × 9\n",
       "\n",
       "| <!--/--> | r2_mean_topmed &lt;dbl&gt; | r2_se_topmed &lt;dbl&gt; | r2_n_topmed &lt;int&gt; | r2_mean_hrc_topmed &lt;dbl&gt; | r2_se_hrc_topmed &lt;dbl&gt; | r2_n_hrc_topmed &lt;int&gt; | test_stat &lt;dbl&gt; | p_value &lt;dbl&gt; | maf_cat &lt;chr&gt; |\n",
       "|---|---|---|---|---|---|---|---|---|---|\n",
       "| t | 0.6672420 | 0.0004052943 | 235264 | 0.6730641 | 0.0004047096 | 238500 | 87.113222 | 0.000000e+00 | MAF &lt; 0.001          |\n",
       "| t1 | 0.9029821 | 0.0014953140 |   5544 | 0.9206836 | 0.0015047751 |   5725 |  2.954738 | 3.163951e-03 | 0.001 &lt;= MAF &lt; 0.005 |\n",
       "| t2 | 0.9496386 | 0.0022928210 |   1387 | 0.9463442 | 0.0025661029 |   1438 | -4.095056 | 4.344396e-05 | 0.005 &lt;= MAF &lt; 0.01  |\n",
       "\n"
      ],
      "text/plain": [
       "   r2_mean_topmed r2_se_topmed r2_n_topmed r2_mean_hrc_topmed r2_se_hrc_topmed\n",
       "t  0.6672420      0.0004052943 235264      0.6730641          0.0004047096    \n",
       "t1 0.9029821      0.0014953140   5544      0.9206836          0.0015047751    \n",
       "t2 0.9496386      0.0022928210   1387      0.9463442          0.0025661029    \n",
       "   r2_n_hrc_topmed test_stat p_value      maf_cat             \n",
       "t  238500          87.113222 0.000000e+00 MAF < 0.001         \n",
       "t1   5725           2.954738 3.163951e-03 0.001 <= MAF < 0.005\n",
       "t2   1438          -4.095056 4.344396e-05 0.005 <= MAF < 0.01 "
      ]
     },
     "metadata": {},
     "output_type": "display_data"
    }
   ],
   "source": [
    "## check if the RSQ is statistically different for TOPMed v.s. HRC_TOPMed\n",
    "\n",
    "r2_df <- data.frame(matrix(ncol=9, nrow = 0))\n",
    "colnames(r2_df) <- c(\"r2_mean_topmed\", \"r2_se_topmed\", \"r2_n_topmed\", \"r2_mean_hrc_topmed\", \"r2_se_hrc_topmed\", \"r2_n_hrc_topmed\", \"test_stat\", \"p_value\", \"maf_cat\")\n",
    "\n",
    "for(maf in c(\"MAF < 0.001\", \"0.001 <= MAF < 0.005\", \"0.005 <= MAF < 0.01\")){\n",
    "    topmed <- topmed_r2_df %>% filter(maf_cat == maf)\n",
    "    hrc_topmed <- hrc_topmed_df %>% filter(maf_cat == maf)\n",
    "    \n",
    "    test_result <- t.test(hrc$R2_hrc, hrc_topmed$R2)\n",
    "    \n",
    "    sub_r2_df <- data.frame(\"r2_mean_topmed\" = mean(topmed$R2_topmed),\n",
    "                              \"r2_se_topmed\" = sd(topmed$R2_topmed) / sqrt(length(topmed$R2_topmed)),\n",
    "                              \"r2_n_topmed\" = length(topmed$R2_topmed), \n",
    "                              \"r2_mean_hrc_topmed\" = mean(hrc_topmed$R2),\n",
    "                              \"r2_se_hrc_topmed\" = sd(hrc_topmed$R2) / sqrt(length(hrc_topmed$R2)),\n",
    "                              \"r2_n_hrc_topmed\" = length(hrc_topmed$R2), \n",
    "                              \"test_stat\" = test_result$statistic, \n",
    "                              \"p_value\" = test_result$p.value,\n",
    "                              \"maf_cat\" = maf)\n",
    "    r2_df = rbind(r2_df, sub_r2_df)\n",
    "}\n",
    "\n",
    "r2_df"
   ]
  },
  {
   "cell_type": "markdown",
   "id": "8b346682-63df-4f2f-bb46-f9ca8daba14d",
   "metadata": {
    "kernel": "R"
   },
   "source": [
    "#### Table S3"
   ]
  },
  {
   "cell_type": "code",
   "execution_count": 23,
   "id": "82ffd489-f655-4647-98a2-0067b8bc2221",
   "metadata": {
    "kernel": "R",
    "tags": []
   },
   "outputs": [
    {
     "data": {
      "text/html": [
       "<table class=\"dataframe\">\n",
       "<caption>A data.frame: 6 × 10</caption>\n",
       "<thead>\n",
       "\t<tr><th></th><th scope=col>dataset</th><th scope=col>maf_cat</th><th scope=col>corr_mean</th><th scope=col>corr_se</th><th scope=col>corr_n</th><th scope=col>rsq_mean</th><th scope=col>rsq_se</th><th scope=col>rsq_n</th><th scope=col>test_stat</th><th scope=col>p_value</th></tr>\n",
       "\t<tr><th></th><th scope=col>&lt;chr&gt;</th><th scope=col>&lt;chr&gt;</th><th scope=col>&lt;dbl&gt;</th><th scope=col>&lt;dbl&gt;</th><th scope=col>&lt;int&gt;</th><th scope=col>&lt;dbl&gt;</th><th scope=col>&lt;dbl&gt;</th><th scope=col>&lt;int&gt;</th><th scope=col>&lt;dbl&gt;</th><th scope=col>&lt;dbl&gt;</th></tr>\n",
       "</thead>\n",
       "<tbody>\n",
       "\t<tr><th scope=row>t</th><td><span style=white-space:pre-wrap>HRC   </span></td><td><span style=white-space:pre-wrap>MAF &lt; 0.001         </span></td><td>0.6694771</td><td>0.0017278228</td><td> 26285</td><td>0.6888802</td><td>0.0011819063</td><td> 28674</td><td> -9.2687780</td><td>1.959701e-20</td></tr>\n",
       "\t<tr><th scope=row>t2</th><td><span style=white-space:pre-wrap>HRC   </span></td><td>0.001 &lt;= MAF &lt; 0.005</td><td>0.9053217</td><td>0.0020331977</td><td><span style=white-space:pre-wrap>  5256</span></td><td>0.8818392</td><td>0.0020475001</td><td><span style=white-space:pre-wrap>  5371</span></td><td><span style=white-space:pre-wrap>  8.1380721</span></td><td>4.464713e-16</td></tr>\n",
       "\t<tr><th scope=row>t4</th><td><span style=white-space:pre-wrap>HRC   </span></td><td>0.005 &lt;= MAF &lt; 0.01 </td><td>0.9379537</td><td>0.0055449631</td><td><span style=white-space:pre-wrap>  1306</span></td><td>0.9304061</td><td>0.0029262554</td><td><span style=white-space:pre-wrap>  1344</span></td><td><span style=white-space:pre-wrap>  1.2038127</span></td><td>2.288056e-01</td></tr>\n",
       "\t<tr><th scope=row>t1</th><td>TOPMed</td><td><span style=white-space:pre-wrap>MAF &lt; 0.001         </span></td><td>0.6527062</td><td>0.0007690826</td><td>185099</td><td>0.6672420</td><td>0.0004052943</td><td>235264</td><td>-16.7205181</td><td>9.954842e-63</td></tr>\n",
       "\t<tr><th scope=row>t3</th><td>TOPMed</td><td>0.001 &lt;= MAF &lt; 0.005</td><td>0.9357304</td><td>0.0014922692</td><td><span style=white-space:pre-wrap>  5447</span></td><td>0.9029821</td><td>0.0014953140</td><td><span style=white-space:pre-wrap>  5544</span></td><td> 15.5018759</td><td>1.243385e-53</td></tr>\n",
       "\t<tr><th scope=row>t5</th><td>TOPMed</td><td>0.005 &lt;= MAF &lt; 0.01 </td><td>0.9481036</td><td>0.0056136745</td><td><span style=white-space:pre-wrap>  1351</span></td><td>0.9496386</td><td>0.0022928210</td><td><span style=white-space:pre-wrap>  1387</span></td><td> -0.2531366</td><td>8.001918e-01</td></tr>\n",
       "</tbody>\n",
       "</table>\n"
      ],
      "text/latex": [
       "A data.frame: 6 × 10\n",
       "\\begin{tabular}{r|llllllllll}\n",
       "  & dataset & maf\\_cat & corr\\_mean & corr\\_se & corr\\_n & rsq\\_mean & rsq\\_se & rsq\\_n & test\\_stat & p\\_value\\\\\n",
       "  & <chr> & <chr> & <dbl> & <dbl> & <int> & <dbl> & <dbl> & <int> & <dbl> & <dbl>\\\\\n",
       "\\hline\n",
       "\tt & HRC    & MAF < 0.001          & 0.6694771 & 0.0017278228 &  26285 & 0.6888802 & 0.0011819063 &  28674 &  -9.2687780 & 1.959701e-20\\\\\n",
       "\tt2 & HRC    & 0.001 <= MAF < 0.005 & 0.9053217 & 0.0020331977 &   5256 & 0.8818392 & 0.0020475001 &   5371 &   8.1380721 & 4.464713e-16\\\\\n",
       "\tt4 & HRC    & 0.005 <= MAF < 0.01  & 0.9379537 & 0.0055449631 &   1306 & 0.9304061 & 0.0029262554 &   1344 &   1.2038127 & 2.288056e-01\\\\\n",
       "\tt1 & TOPMed & MAF < 0.001          & 0.6527062 & 0.0007690826 & 185099 & 0.6672420 & 0.0004052943 & 235264 & -16.7205181 & 9.954842e-63\\\\\n",
       "\tt3 & TOPMed & 0.001 <= MAF < 0.005 & 0.9357304 & 0.0014922692 &   5447 & 0.9029821 & 0.0014953140 &   5544 &  15.5018759 & 1.243385e-53\\\\\n",
       "\tt5 & TOPMed & 0.005 <= MAF < 0.01  & 0.9481036 & 0.0056136745 &   1351 & 0.9496386 & 0.0022928210 &   1387 &  -0.2531366 & 8.001918e-01\\\\\n",
       "\\end{tabular}\n"
      ],
      "text/markdown": [
       "\n",
       "A data.frame: 6 × 10\n",
       "\n",
       "| <!--/--> | dataset &lt;chr&gt; | maf_cat &lt;chr&gt; | corr_mean &lt;dbl&gt; | corr_se &lt;dbl&gt; | corr_n &lt;int&gt; | rsq_mean &lt;dbl&gt; | rsq_se &lt;dbl&gt; | rsq_n &lt;int&gt; | test_stat &lt;dbl&gt; | p_value &lt;dbl&gt; |\n",
       "|---|---|---|---|---|---|---|---|---|---|---|\n",
       "| t | HRC    | MAF &lt; 0.001          | 0.6694771 | 0.0017278228 |  26285 | 0.6888802 | 0.0011819063 |  28674 |  -9.2687780 | 1.959701e-20 |\n",
       "| t2 | HRC    | 0.001 &lt;= MAF &lt; 0.005 | 0.9053217 | 0.0020331977 |   5256 | 0.8818392 | 0.0020475001 |   5371 |   8.1380721 | 4.464713e-16 |\n",
       "| t4 | HRC    | 0.005 &lt;= MAF &lt; 0.01  | 0.9379537 | 0.0055449631 |   1306 | 0.9304061 | 0.0029262554 |   1344 |   1.2038127 | 2.288056e-01 |\n",
       "| t1 | TOPMed | MAF &lt; 0.001          | 0.6527062 | 0.0007690826 | 185099 | 0.6672420 | 0.0004052943 | 235264 | -16.7205181 | 9.954842e-63 |\n",
       "| t3 | TOPMed | 0.001 &lt;= MAF &lt; 0.005 | 0.9357304 | 0.0014922692 |   5447 | 0.9029821 | 0.0014953140 |   5544 |  15.5018759 | 1.243385e-53 |\n",
       "| t5 | TOPMed | 0.005 &lt;= MAF &lt; 0.01  | 0.9481036 | 0.0056136745 |   1351 | 0.9496386 | 0.0022928210 |   1387 |  -0.2531366 | 8.001918e-01 |\n",
       "\n"
      ],
      "text/plain": [
       "   dataset maf_cat              corr_mean corr_se      corr_n rsq_mean \n",
       "t  HRC     MAF < 0.001          0.6694771 0.0017278228  26285 0.6888802\n",
       "t2 HRC     0.001 <= MAF < 0.005 0.9053217 0.0020331977   5256 0.8818392\n",
       "t4 HRC     0.005 <= MAF < 0.01  0.9379537 0.0055449631   1306 0.9304061\n",
       "t1 TOPMed  MAF < 0.001          0.6527062 0.0007690826 185099 0.6672420\n",
       "t3 TOPMed  0.001 <= MAF < 0.005 0.9357304 0.0014922692   5447 0.9029821\n",
       "t5 TOPMed  0.005 <= MAF < 0.01  0.9481036 0.0056136745   1351 0.9496386\n",
       "   rsq_se       rsq_n  test_stat   p_value     \n",
       "t  0.0011819063  28674  -9.2687780 1.959701e-20\n",
       "t2 0.0020475001   5371   8.1380721 4.464713e-16\n",
       "t4 0.0029262554   1344   1.2038127 2.288056e-01\n",
       "t1 0.0004052943 235264 -16.7205181 9.954842e-63\n",
       "t3 0.0014953140   5544  15.5018759 1.243385e-53\n",
       "t5 0.0022928210   1387  -0.2531366 8.001918e-01"
      ]
     },
     "metadata": {},
     "output_type": "display_data"
    }
   ],
   "source": [
    "## check if the correlation and R2 is statistically different from each other \n",
    "\n",
    "corr_rsq_df <- data.frame(matrix(ncol=10, nrow = 0))\n",
    "colnames(corr_rsq_df) <- c(\"dataset\", \"maf_cat\", \"corr_mean\", \"corr_se\", \"corr_n\", \"rsq_mean\", \"rsq_se\", \"rsq_n\", \"test_stat\", \"p_value\")\n",
    "\n",
    "for(maf in c(\"MAF < 0.001\", \"0.001 <= MAF < 0.005\", \"0.005 <= MAF < 0.01\")){\n",
    "    hrc_corr <- hrc_topmed_exome_df %>% filter(R2_hrc !=0, R2_exome == 999) %>% filter(maf_cat == maf) %>% pull(corr_hrc)\n",
    "    hrc_rsq <- hrc_r2_df %>% filter(R2_hrc !=0) %>% filter(maf_cat == maf) %>% pull(R2_hrc)\n",
    "    \n",
    "    topmed_corr <- hrc_topmed_exome_df %>% filter(R2_topmed !=0, R2_exome == 999) %>% filter(maf_cat == maf) %>% pull(corr_topmed)\n",
    "    topmed_rsq <- hrc_topmed_exome_df %>% filter(R2_topmed !=0) %>% filter(maf_cat == maf) %>% pull(R2_topmed)\n",
    "    \n",
    "    hrc_test_result <- t.test(hrc_corr, hrc_rsq)\n",
    "    topmed_test_result <- t.test(topmed_corr, topmed_rsq)\n",
    "    \n",
    "    sub_df_hrc <- data.frame(\"dataset\" = \"HRC\", \n",
    "                             \"maf_cat\" = maf, \n",
    "                             \"corr_mean\" = mean(hrc_corr), \n",
    "                             \"corr_se\" = sd(hrc_corr) / sqrt(length(hrc_corr)),\n",
    "                             \"corr_n\" = length(hrc_corr), \n",
    "                             \"rsq_mean\" = mean(hrc_rsq), \n",
    "                             \"rsq_se\" = sd(hrc_rsq) / sqrt(length(hrc_rsq)),\n",
    "                             \"rsq_n\" = length(hrc_rsq), \n",
    "                             \"test_stat\" = hrc_test_result$statistic, \n",
    "                             \"p_value\" = hrc_test_result$p.value)\n",
    "    \n",
    "    sub_df_topmed <- data.frame(\"dataset\" = \"TOPMed\", \n",
    "                                \"maf_cat\" = maf, \n",
    "                                \"corr_mean\" = mean(topmed_corr), \n",
    "                                \"corr_se\" = sd(topmed_corr) / sqrt(length(topmed_corr)),\n",
    "                                \"corr_n\" = length(topmed_corr), \n",
    "                                \"rsq_mean\" = mean(topmed_rsq), \n",
    "                                \"rsq_se\" = sd(topmed_rsq) / sqrt(length(topmed_rsq)),\n",
    "                                \"rsq_n\" = length(topmed_rsq), \n",
    "                                \"test_stat\" = topmed_test_result$statistic, \n",
    "                                \"p_value\" = topmed_test_result$p.value)\n",
    "    \n",
    "    corr_rsq_df = rbind(corr_rsq_df, sub_df_hrc, sub_df_topmed)\n",
    "}\n",
    "\n",
    "corr_rsq_df %>% arrange(dataset)"
   ]
  },
  {
   "cell_type": "code",
   "execution_count": 24,
   "id": "09533d23-1456-4f2a-932b-71a1fc61bc67",
   "metadata": {
    "kernel": "R",
    "tags": []
   },
   "outputs": [
    {
     "data": {
      "text/html": [
       "<table class=\"dataframe\">\n",
       "<caption>A data.frame: 3 × 10</caption>\n",
       "<thead>\n",
       "\t<tr><th></th><th scope=col>dataset</th><th scope=col>maf_cat</th><th scope=col>corr_mean</th><th scope=col>corr_se</th><th scope=col>corr_n</th><th scope=col>rsq_mean</th><th scope=col>rsq_se</th><th scope=col>rsq_n</th><th scope=col>test_stat</th><th scope=col>p_value</th></tr>\n",
       "\t<tr><th></th><th scope=col>&lt;chr&gt;</th><th scope=col>&lt;chr&gt;</th><th scope=col>&lt;dbl&gt;</th><th scope=col>&lt;dbl&gt;</th><th scope=col>&lt;int&gt;</th><th scope=col>&lt;dbl&gt;</th><th scope=col>&lt;dbl&gt;</th><th scope=col>&lt;int&gt;</th><th scope=col>&lt;dbl&gt;</th><th scope=col>&lt;dbl&gt;</th></tr>\n",
       "</thead>\n",
       "<tbody>\n",
       "\t<tr><th scope=row>t</th><td>HRC_TOPMed</td><td>0.005 &lt;= MAF &lt; 0.01 </td><td>0.9431791</td><td>0.0056898435</td><td><span style=white-space:pre-wrap>  1387</span></td><td>0.9463442</td><td>0.0025661029</td><td><span style=white-space:pre-wrap>  1438</span></td><td> -0.5070834</td><td> 6.121542e-01</td></tr>\n",
       "\t<tr><th scope=row>t2</th><td>HRC_TOPMed</td><td>0.001 &lt;= MAF &lt; 0.005</td><td>0.9370379</td><td>0.0018199634</td><td><span style=white-space:pre-wrap>  5576</span></td><td>0.9206836</td><td>0.0015047751</td><td><span style=white-space:pre-wrap>  5725</span></td><td><span style=white-space:pre-wrap>  6.9254575</span></td><td> 4.591322e-12</td></tr>\n",
       "\t<tr><th scope=row>t1</th><td>HRC_TOPMed</td><td><span style=white-space:pre-wrap>MAF &lt; 0.001         </span></td><td>0.6475809</td><td>0.0007692251</td><td>187355</td><td>0.6730641</td><td>0.0004047096</td><td>238500</td><td>-29.3182964</td><td>1.151375e-188</td></tr>\n",
       "</tbody>\n",
       "</table>\n"
      ],
      "text/latex": [
       "A data.frame: 3 × 10\n",
       "\\begin{tabular}{r|llllllllll}\n",
       "  & dataset & maf\\_cat & corr\\_mean & corr\\_se & corr\\_n & rsq\\_mean & rsq\\_se & rsq\\_n & test\\_stat & p\\_value\\\\\n",
       "  & <chr> & <chr> & <dbl> & <dbl> & <int> & <dbl> & <dbl> & <int> & <dbl> & <dbl>\\\\\n",
       "\\hline\n",
       "\tt & HRC\\_TOPMed & 0.005 <= MAF < 0.01  & 0.9431791 & 0.0056898435 &   1387 & 0.9463442 & 0.0025661029 &   1438 &  -0.5070834 &  6.121542e-01\\\\\n",
       "\tt2 & HRC\\_TOPMed & 0.001 <= MAF < 0.005 & 0.9370379 & 0.0018199634 &   5576 & 0.9206836 & 0.0015047751 &   5725 &   6.9254575 &  4.591322e-12\\\\\n",
       "\tt1 & HRC\\_TOPMed & MAF < 0.001          & 0.6475809 & 0.0007692251 & 187355 & 0.6730641 & 0.0004047096 & 238500 & -29.3182964 & 1.151375e-188\\\\\n",
       "\\end{tabular}\n"
      ],
      "text/markdown": [
       "\n",
       "A data.frame: 3 × 10\n",
       "\n",
       "| <!--/--> | dataset &lt;chr&gt; | maf_cat &lt;chr&gt; | corr_mean &lt;dbl&gt; | corr_se &lt;dbl&gt; | corr_n &lt;int&gt; | rsq_mean &lt;dbl&gt; | rsq_se &lt;dbl&gt; | rsq_n &lt;int&gt; | test_stat &lt;dbl&gt; | p_value &lt;dbl&gt; |\n",
       "|---|---|---|---|---|---|---|---|---|---|---|\n",
       "| t | HRC_TOPMed | 0.005 &lt;= MAF &lt; 0.01  | 0.9431791 | 0.0056898435 |   1387 | 0.9463442 | 0.0025661029 |   1438 |  -0.5070834 |  6.121542e-01 |\n",
       "| t2 | HRC_TOPMed | 0.001 &lt;= MAF &lt; 0.005 | 0.9370379 | 0.0018199634 |   5576 | 0.9206836 | 0.0015047751 |   5725 |   6.9254575 |  4.591322e-12 |\n",
       "| t1 | HRC_TOPMed | MAF &lt; 0.001          | 0.6475809 | 0.0007692251 | 187355 | 0.6730641 | 0.0004047096 | 238500 | -29.3182964 | 1.151375e-188 |\n",
       "\n"
      ],
      "text/plain": [
       "   dataset    maf_cat              corr_mean corr_se      corr_n rsq_mean \n",
       "t  HRC_TOPMed 0.005 <= MAF < 0.01  0.9431791 0.0056898435   1387 0.9463442\n",
       "t2 HRC_TOPMed 0.001 <= MAF < 0.005 0.9370379 0.0018199634   5576 0.9206836\n",
       "t1 HRC_TOPMed MAF < 0.001          0.6475809 0.0007692251 187355 0.6730641\n",
       "   rsq_se       rsq_n  test_stat   p_value      \n",
       "t  0.0025661029   1438  -0.5070834  6.121542e-01\n",
       "t2 0.0015047751   5725   6.9254575  4.591322e-12\n",
       "t1 0.0004047096 238500 -29.3182964 1.151375e-188"
      ]
     },
     "metadata": {},
     "output_type": "display_data"
    }
   ],
   "source": [
    "hrc_topmed_full_df <- hrc_topmed_exome_df %>% \n",
    "    filter(R2 != 0) %>%\n",
    "    mutate(maf_cat = case_when(is.na(MAF_nfe_exome) | MAF_nfe_exome < 0.001 ~ \"MAF < 0.001\",\n",
    "                               MAF_nfe_exome >= 0.001 & MAF_nfe_exome < 0.005 ~ \"0.001 <= MAF < 0.005\",\n",
    "                               MAF_nfe_exome >= 0.005 & MAF_nfe_exome < 0.01 ~ \"0.005 <= MAF < 0.01\"),\n",
    "          corr = ifelse(R2 == R2_hrc, corr_hrc, corr_topmed))\n",
    "\n",
    "corr_rsq_hrc_topmed_df <- data.frame(matrix(ncol=10, nrow = 0))\n",
    "colnames(corr_rsq_hrc_topmed_df) <- c(\"dataset\", \"maf_cat\", \"corr_mean\", \"corr_se\", \"corr_n\", \"rsq_mean\", \"rsq_se\", \"rsq_n\", \"test_stat\", \"p_value\")\n",
    "\n",
    "for(maf in c(\"MAF < 0.001\", \"0.001 <= MAF < 0.005\", \"0.005 <= MAF < 0.01\")){\n",
    "    subdf <- hrc_topmed_full_df %>% filter(maf_cat == maf)\n",
    "    corr <- subdf %>% filter(R2_exome==999, R2 != 0) %>% pull(corr)\n",
    "    test_result <- t.test(corr, subdf$R2)\n",
    "    \n",
    "    sub_df <- data.frame(\"dataset\" = \"HRC_TOPMed\", \n",
    "                             \"maf_cat\" = maf, \n",
    "                             \"corr_mean\" = mean(corr), \n",
    "                             \"corr_se\" = sd(corr) / sqrt(length(corr)),\n",
    "                             \"corr_n\" = length(corr), \n",
    "                             \"rsq_mean\" = mean(subdf$R2), \n",
    "                             \"rsq_se\" = sd(subdf$R2) / sqrt(length(subdf$R2)),\n",
    "                             \"rsq_n\" = length(subdf$R2), \n",
    "                             \"test_stat\" = test_result$statistic, \n",
    "                             \"p_value\" = test_result$p.value)\n",
    "    \n",
    "    corr_rsq_hrc_topmed_df = rbind(sub_df, corr_rsq_hrc_topmed_df)\n",
    "}\n",
    "corr_rsq_hrc_topmed_df %>% arrange(dataset)"
   ]
  },
  {
   "cell_type": "markdown",
   "id": "d5e0dae9-0b23-4fc8-83b9-d479747523e5",
   "metadata": {
    "kernel": "R"
   },
   "source": [
    "#### Overlapped variants - Table S3"
   ]
  },
  {
   "cell_type": "code",
   "execution_count": 25,
   "id": "3e4e09d1-b452-4788-a889-8d79626b207d",
   "metadata": {
    "kernel": "R",
    "tags": []
   },
   "outputs": [],
   "source": [
    "df_overlap <- df_3 %>% \n",
    "    filter(R2_topmed != 0, R2_hrc != 0) %>% \n",
    "    left_join(corr_df %>% filter(grepl(\"hrc\", dataset)) %>% rename(\"corr_hrc\" = \"corr\") %>% select(-dataset, -rsq), by = c(\"ID_hg38\" = \"snp_id\")) %>%\n",
    "    left_join(corr_df %>% filter(grepl(\"topmed\", dataset)) %>% rename(\"corr_topmed\" = \"corr\") %>% select(-dataset, -rsq), by = c(\"ID_hg38\" = \"snp_id\")) %>%\n",
    "    mutate(corr_hrc = ifelse(is.na(corr_hrc), 0, corr_hrc),\n",
    "           corr_topmed = ifelse(is.na(corr_topmed), 0, corr_topmed)) %>%\n",
    "    mutate(corr = ifelse(source == \"hrc\", corr_hrc, corr_topmed)) %>%\n",
    "    mutate(maf_cat = case_when(is.na(MAF_nfe_exome) | MAF_nfe_exome < 0.001 ~ \"MAF < 0.001\",\n",
    "                               MAF_nfe_exome >= 0.001 & MAF_nfe_exome < 0.005 ~ \"0.001 <= MAF < 0.005\",\n",
    "                               MAF_nfe_exome >= 0.005 & MAF_nfe_exome < 0.01 ~ \"0.005 <= MAF < 0.01\"))"
   ]
  },
  {
   "cell_type": "code",
   "execution_count": 26,
   "id": "150915df-c6af-4b7e-9f4e-5c12eee72fe0",
   "metadata": {
    "kernel": "R",
    "tags": []
   },
   "outputs": [
    {
     "data": {
      "text/html": [
       "<table class=\"dataframe\">\n",
       "<caption>A data.frame: 6 × 10</caption>\n",
       "<thead>\n",
       "\t<tr><th></th><th scope=col>dataset</th><th scope=col>maf_cat</th><th scope=col>corr_mean</th><th scope=col>corr_se</th><th scope=col>corr_n</th><th scope=col>rsq_mean</th><th scope=col>rsq_se</th><th scope=col>rsq_n</th><th scope=col>test_stat</th><th scope=col>p_value</th></tr>\n",
       "\t<tr><th></th><th scope=col>&lt;chr&gt;</th><th scope=col>&lt;chr&gt;</th><th scope=col>&lt;dbl&gt;</th><th scope=col>&lt;dbl&gt;</th><th scope=col>&lt;int&gt;</th><th scope=col>&lt;dbl&gt;</th><th scope=col>&lt;dbl&gt;</th><th scope=col>&lt;int&gt;</th><th scope=col>&lt;dbl&gt;</th><th scope=col>&lt;dbl&gt;</th></tr>\n",
       "</thead>\n",
       "<tbody>\n",
       "\t<tr><th scope=row>t</th><td><span style=white-space:pre-wrap>HRC   </span></td><td><span style=white-space:pre-wrap>MAF &lt; 0.001         </span></td><td>0.6895686</td><td>0.001702326</td><td>24029</td><td>0.7058350</td><td>0.001224586</td><td>25438</td><td>-7.7569040</td><td>8.888825e-15</td></tr>\n",
       "\t<tr><th scope=row>t2</th><td><span style=white-space:pre-wrap>HRC   </span></td><td>0.001 &lt;= MAF &lt; 0.005</td><td>0.9125491</td><td>0.001746531</td><td> 5127</td><td>0.8890460</td><td>0.001964387</td><td> 5190</td><td> 8.9415020</td><td>4.504836e-19</td></tr>\n",
       "\t<tr><th scope=row>t4</th><td><span style=white-space:pre-wrap>HRC   </span></td><td>0.005 &lt;= MAF &lt; 0.01 </td><td>0.9426791</td><td>0.005497617</td><td> 1270</td><td>0.9392462</td><td>0.002486867</td><td> 1293</td><td> 0.5689251</td><td>5.694792e-01</td></tr>\n",
       "\t<tr><th scope=row>t1</th><td>TOPMed</td><td><span style=white-space:pre-wrap>MAF &lt; 0.001         </span></td><td>0.8327140</td><td>0.001125612</td><td>24029</td><td>0.7340780</td><td>0.001146041</td><td>25438</td><td>61.4031828</td><td>0.000000e+00</td></tr>\n",
       "\t<tr><th scope=row>t3</th><td>TOPMed</td><td>0.001 &lt;= MAF &lt; 0.005</td><td>0.9452535</td><td>0.001086329</td><td> 5127</td><td>0.9102365</td><td>0.001406263</td><td> 5190</td><td>19.7058214</td><td>8.557059e-85</td></tr>\n",
       "\t<tr><th scope=row>t5</th><td>TOPMed</td><td>0.005 &lt;= MAF &lt; 0.01 </td><td>0.9594623</td><td>0.005349063</td><td> 1270</td><td>0.9582250</td><td>0.001912479</td><td> 1293</td><td> 0.2178049</td><td>8.276091e-01</td></tr>\n",
       "</tbody>\n",
       "</table>\n"
      ],
      "text/latex": [
       "A data.frame: 6 × 10\n",
       "\\begin{tabular}{r|llllllllll}\n",
       "  & dataset & maf\\_cat & corr\\_mean & corr\\_se & corr\\_n & rsq\\_mean & rsq\\_se & rsq\\_n & test\\_stat & p\\_value\\\\\n",
       "  & <chr> & <chr> & <dbl> & <dbl> & <int> & <dbl> & <dbl> & <int> & <dbl> & <dbl>\\\\\n",
       "\\hline\n",
       "\tt & HRC    & MAF < 0.001          & 0.6895686 & 0.001702326 & 24029 & 0.7058350 & 0.001224586 & 25438 & -7.7569040 & 8.888825e-15\\\\\n",
       "\tt2 & HRC    & 0.001 <= MAF < 0.005 & 0.9125491 & 0.001746531 &  5127 & 0.8890460 & 0.001964387 &  5190 &  8.9415020 & 4.504836e-19\\\\\n",
       "\tt4 & HRC    & 0.005 <= MAF < 0.01  & 0.9426791 & 0.005497617 &  1270 & 0.9392462 & 0.002486867 &  1293 &  0.5689251 & 5.694792e-01\\\\\n",
       "\tt1 & TOPMed & MAF < 0.001          & 0.8327140 & 0.001125612 & 24029 & 0.7340780 & 0.001146041 & 25438 & 61.4031828 & 0.000000e+00\\\\\n",
       "\tt3 & TOPMed & 0.001 <= MAF < 0.005 & 0.9452535 & 0.001086329 &  5127 & 0.9102365 & 0.001406263 &  5190 & 19.7058214 & 8.557059e-85\\\\\n",
       "\tt5 & TOPMed & 0.005 <= MAF < 0.01  & 0.9594623 & 0.005349063 &  1270 & 0.9582250 & 0.001912479 &  1293 &  0.2178049 & 8.276091e-01\\\\\n",
       "\\end{tabular}\n"
      ],
      "text/markdown": [
       "\n",
       "A data.frame: 6 × 10\n",
       "\n",
       "| <!--/--> | dataset &lt;chr&gt; | maf_cat &lt;chr&gt; | corr_mean &lt;dbl&gt; | corr_se &lt;dbl&gt; | corr_n &lt;int&gt; | rsq_mean &lt;dbl&gt; | rsq_se &lt;dbl&gt; | rsq_n &lt;int&gt; | test_stat &lt;dbl&gt; | p_value &lt;dbl&gt; |\n",
       "|---|---|---|---|---|---|---|---|---|---|---|\n",
       "| t | HRC    | MAF &lt; 0.001          | 0.6895686 | 0.001702326 | 24029 | 0.7058350 | 0.001224586 | 25438 | -7.7569040 | 8.888825e-15 |\n",
       "| t2 | HRC    | 0.001 &lt;= MAF &lt; 0.005 | 0.9125491 | 0.001746531 |  5127 | 0.8890460 | 0.001964387 |  5190 |  8.9415020 | 4.504836e-19 |\n",
       "| t4 | HRC    | 0.005 &lt;= MAF &lt; 0.01  | 0.9426791 | 0.005497617 |  1270 | 0.9392462 | 0.002486867 |  1293 |  0.5689251 | 5.694792e-01 |\n",
       "| t1 | TOPMed | MAF &lt; 0.001          | 0.8327140 | 0.001125612 | 24029 | 0.7340780 | 0.001146041 | 25438 | 61.4031828 | 0.000000e+00 |\n",
       "| t3 | TOPMed | 0.001 &lt;= MAF &lt; 0.005 | 0.9452535 | 0.001086329 |  5127 | 0.9102365 | 0.001406263 |  5190 | 19.7058214 | 8.557059e-85 |\n",
       "| t5 | TOPMed | 0.005 &lt;= MAF &lt; 0.01  | 0.9594623 | 0.005349063 |  1270 | 0.9582250 | 0.001912479 |  1293 |  0.2178049 | 8.276091e-01 |\n",
       "\n"
      ],
      "text/plain": [
       "   dataset maf_cat              corr_mean corr_se     corr_n rsq_mean \n",
       "t  HRC     MAF < 0.001          0.6895686 0.001702326 24029  0.7058350\n",
       "t2 HRC     0.001 <= MAF < 0.005 0.9125491 0.001746531  5127  0.8890460\n",
       "t4 HRC     0.005 <= MAF < 0.01  0.9426791 0.005497617  1270  0.9392462\n",
       "t1 TOPMed  MAF < 0.001          0.8327140 0.001125612 24029  0.7340780\n",
       "t3 TOPMed  0.001 <= MAF < 0.005 0.9452535 0.001086329  5127  0.9102365\n",
       "t5 TOPMed  0.005 <= MAF < 0.01  0.9594623 0.005349063  1270  0.9582250\n",
       "   rsq_se      rsq_n test_stat  p_value     \n",
       "t  0.001224586 25438 -7.7569040 8.888825e-15\n",
       "t2 0.001964387  5190  8.9415020 4.504836e-19\n",
       "t4 0.002486867  1293  0.5689251 5.694792e-01\n",
       "t1 0.001146041 25438 61.4031828 0.000000e+00\n",
       "t3 0.001406263  5190 19.7058214 8.557059e-85\n",
       "t5 0.001912479  1293  0.2178049 8.276091e-01"
      ]
     },
     "metadata": {},
     "output_type": "display_data"
    }
   ],
   "source": [
    "corr_rsq_overlap_df <- data.frame(matrix(ncol=10, nrow = 0))\n",
    "colnames(corr_rsq_overlap_df) <- c(\"dataset\", \"maf_cat\", \"corr_mean\", \"corr_se\", \"corr_n\", \"rsq_mean\", \"rsq_se\", \"rsq_n\", \"test_stat\", \"p_value\")\n",
    "\n",
    "for(maf in c(\"MAF < 0.001\", \"0.001 <= MAF < 0.005\", \"0.005 <= MAF < 0.01\")){\n",
    "    df_overlap_maf <- df_overlap %>% filter(maf_cat == maf) %>% filter(!is.na(corr_hrc) & !is.na(corr_topmed))\n",
    "    hrc_corr <- df_overlap_maf %>% filter(corr_hrc != 0) %>% pull(corr_hrc)\n",
    "    hrc_rsq <- df_overlap_maf %>% pull(R2_hrc)\n",
    "    \n",
    "    topmed_corr <- df_overlap_maf %>% filter(corr_topmed != 0) %>% pull(corr_topmed)\n",
    "    topmed_rsq <- df_overlap_maf %>% pull(R2_topmed)\n",
    "    \n",
    "    hrc_test_result <- t.test(hrc_corr, hrc_rsq)\n",
    "    topmed_test_result <- t.test(topmed_corr, topmed_rsq)\n",
    "    \n",
    "    sub_df_hrc <- data.frame(\"dataset\" = \"HRC\", \n",
    "                             \"maf_cat\" = maf, \n",
    "                             \"corr_mean\" = mean(hrc_corr), \n",
    "                             \"corr_se\" = sd(hrc_corr) / sqrt(length(hrc_corr)),\n",
    "                             \"corr_n\" = length(hrc_corr), \n",
    "                             \"rsq_mean\" = mean(hrc_rsq), \n",
    "                             \"rsq_se\" = sd(hrc_rsq) / sqrt(length(hrc_rsq)),\n",
    "                             \"rsq_n\" = length(hrc_rsq), \n",
    "                             \"test_stat\" = hrc_test_result$statistic, \n",
    "                             \"p_value\" = hrc_test_result$p.value)\n",
    "    \n",
    "    sub_df_topmed <- data.frame(\"dataset\" = \"TOPMed\", \n",
    "                                \"maf_cat\" = maf, \n",
    "                                \"corr_mean\" = mean(topmed_corr), \n",
    "                                \"corr_se\" = sd(topmed_corr) / sqrt(length(topmed_corr)),\n",
    "                                \"corr_n\" = length(topmed_corr), \n",
    "                                \"rsq_mean\" = mean(topmed_rsq), \n",
    "                                \"rsq_se\" = sd(topmed_rsq) / sqrt(length(topmed_rsq)),\n",
    "                                \"rsq_n\" = length(topmed_rsq), \n",
    "                                \"test_stat\" = topmed_test_result$statistic, \n",
    "                                \"p_value\" = topmed_test_result$p.value)\n",
    "    \n",
    "    corr_rsq_overlap_df = rbind(corr_rsq_overlap_df, sub_df_hrc, sub_df_topmed)\n",
    "}\n",
    "\n",
    "corr_rsq_overlap_df %>% arrange(dataset)"
   ]
  },
  {
   "cell_type": "markdown",
   "id": "f5161889-f8b0-4186-a893-7e0379a1d96f",
   "metadata": {
    "kernel": "R"
   },
   "source": [
    "#### Overlapped variants - Table S2"
   ]
  },
  {
   "cell_type": "code",
   "execution_count": 27,
   "id": "c291ab58-38df-4469-a763-f10fa2e69bcf",
   "metadata": {
    "kernel": "R",
    "tags": []
   },
   "outputs": [
    {
     "data": {
      "text/html": [
       "<table class=\"dataframe\">\n",
       "<caption>A data.frame: 3 × 9</caption>\n",
       "<thead>\n",
       "\t<tr><th></th><th scope=col>maf_cat</th><th scope=col>rsq_hrc_mean</th><th scope=col>rsq_hrc_se</th><th scope=col>rsq_hrc_n</th><th scope=col>rsq_topmed_mean</th><th scope=col>rsq_topmed_se</th><th scope=col>rsq_topmed_n</th><th scope=col>test_stat</th><th scope=col>p_value</th></tr>\n",
       "\t<tr><th></th><th scope=col>&lt;chr&gt;</th><th scope=col>&lt;dbl&gt;</th><th scope=col>&lt;dbl&gt;</th><th scope=col>&lt;int&gt;</th><th scope=col>&lt;dbl&gt;</th><th scope=col>&lt;dbl&gt;</th><th scope=col>&lt;int&gt;</th><th scope=col>&lt;dbl&gt;</th><th scope=col>&lt;dbl&gt;</th></tr>\n",
       "</thead>\n",
       "<tbody>\n",
       "\t<tr><th scope=row>t</th><td><span style=white-space:pre-wrap>MAF &lt; 0.001         </span></td><td>0.7058350</td><td>0.001224586</td><td>25438</td><td>0.7340780</td><td>0.001146041</td><td>25438</td><td>-16.839329</td><td>1.871105e-63</td></tr>\n",
       "\t<tr><th scope=row>t1</th><td>0.001 &lt;= MAF &lt; 0.005</td><td>0.8890460</td><td>0.001964387</td><td> 5190</td><td>0.9102365</td><td>0.001406263</td><td> 5190</td><td> -8.771380</td><td>2.072379e-18</td></tr>\n",
       "\t<tr><th scope=row>t2</th><td>0.005 &lt;= MAF &lt; 0.01 </td><td>0.9392462</td><td>0.002486867</td><td> 1293</td><td>0.9582250</td><td>0.001912479</td><td> 1293</td><td> -6.049575</td><td>1.677485e-09</td></tr>\n",
       "</tbody>\n",
       "</table>\n"
      ],
      "text/latex": [
       "A data.frame: 3 × 9\n",
       "\\begin{tabular}{r|lllllllll}\n",
       "  & maf\\_cat & rsq\\_hrc\\_mean & rsq\\_hrc\\_se & rsq\\_hrc\\_n & rsq\\_topmed\\_mean & rsq\\_topmed\\_se & rsq\\_topmed\\_n & test\\_stat & p\\_value\\\\\n",
       "  & <chr> & <dbl> & <dbl> & <int> & <dbl> & <dbl> & <int> & <dbl> & <dbl>\\\\\n",
       "\\hline\n",
       "\tt & MAF < 0.001          & 0.7058350 & 0.001224586 & 25438 & 0.7340780 & 0.001146041 & 25438 & -16.839329 & 1.871105e-63\\\\\n",
       "\tt1 & 0.001 <= MAF < 0.005 & 0.8890460 & 0.001964387 &  5190 & 0.9102365 & 0.001406263 &  5190 &  -8.771380 & 2.072379e-18\\\\\n",
       "\tt2 & 0.005 <= MAF < 0.01  & 0.9392462 & 0.002486867 &  1293 & 0.9582250 & 0.001912479 &  1293 &  -6.049575 & 1.677485e-09\\\\\n",
       "\\end{tabular}\n"
      ],
      "text/markdown": [
       "\n",
       "A data.frame: 3 × 9\n",
       "\n",
       "| <!--/--> | maf_cat &lt;chr&gt; | rsq_hrc_mean &lt;dbl&gt; | rsq_hrc_se &lt;dbl&gt; | rsq_hrc_n &lt;int&gt; | rsq_topmed_mean &lt;dbl&gt; | rsq_topmed_se &lt;dbl&gt; | rsq_topmed_n &lt;int&gt; | test_stat &lt;dbl&gt; | p_value &lt;dbl&gt; |\n",
       "|---|---|---|---|---|---|---|---|---|---|\n",
       "| t | MAF &lt; 0.001          | 0.7058350 | 0.001224586 | 25438 | 0.7340780 | 0.001146041 | 25438 | -16.839329 | 1.871105e-63 |\n",
       "| t1 | 0.001 &lt;= MAF &lt; 0.005 | 0.8890460 | 0.001964387 |  5190 | 0.9102365 | 0.001406263 |  5190 |  -8.771380 | 2.072379e-18 |\n",
       "| t2 | 0.005 &lt;= MAF &lt; 0.01  | 0.9392462 | 0.002486867 |  1293 | 0.9582250 | 0.001912479 |  1293 |  -6.049575 | 1.677485e-09 |\n",
       "\n"
      ],
      "text/plain": [
       "   maf_cat              rsq_hrc_mean rsq_hrc_se  rsq_hrc_n rsq_topmed_mean\n",
       "t  MAF < 0.001          0.7058350    0.001224586 25438     0.7340780      \n",
       "t1 0.001 <= MAF < 0.005 0.8890460    0.001964387  5190     0.9102365      \n",
       "t2 0.005 <= MAF < 0.01  0.9392462    0.002486867  1293     0.9582250      \n",
       "   rsq_topmed_se rsq_topmed_n test_stat  p_value     \n",
       "t  0.001146041   25438        -16.839329 1.871105e-63\n",
       "t1 0.001406263    5190         -8.771380 2.072379e-18\n",
       "t2 0.001912479    1293         -6.049575 1.677485e-09"
      ]
     },
     "metadata": {},
     "output_type": "display_data"
    }
   ],
   "source": [
    "rsq_overlap_df <- data.frame(matrix(ncol=10, nrow = 0))\n",
    "colnames(rsq_overlap_df) <- c(\"maf_cat\", \"rsq_mean\", \"rsq_se\", \"rsq_n\", \"test_stat\", \"p_value\")\n",
    "\n",
    "for(maf in c(\"MAF < 0.001\", \"0.001 <= MAF < 0.005\", \"0.005 <= MAF < 0.01\")){\n",
    "    hrc_rsq <- df_overlap %>% filter(maf_cat == maf) %>% pull(R2_hrc)\n",
    "    topmed_rsq <- df_overlap %>% filter(maf_cat == maf) %>% pull(R2_topmed)\n",
    "    \n",
    "    test_result <- t.test(hrc_rsq, topmed_rsq)\n",
    "    t_statistic <- (mean(hrc_rsq) - mean(topmed_rsq)) / sqrt((var(hrc_rsq)/length(hrc_rsq)) + (var(topmed_rsq)/length(topmed_rsq)))\n",
    "    \n",
    "    t.value = unname(test_result$statistic)\n",
    "    df = unname(test_result$parameter[1])\n",
    "    p = as.character(2*pt(-abs(t.value), df))\n",
    "    # print(.N(test_result$p.value))\n",
    "    \n",
    "    sub_df <- data.frame(\"maf_cat\" = maf, \n",
    "                         \"rsq_hrc_mean\" = mean(hrc_rsq), \n",
    "                         \"rsq_hrc_se\" = sd(hrc_rsq) / sqrt(length(hrc_rsq)),\n",
    "                         # \"rsq_hrc_se\" = sd(hrc_rsq),\n",
    "                         \"rsq_hrc_n\" = length(hrc_rsq), \n",
    "                         \"rsq_topmed_mean\" = mean(topmed_rsq), \n",
    "                         \"rsq_topmed_se\" = sd(topmed_rsq) / sqrt(length(topmed_rsq)),\n",
    "                         # \"rsq_topmed_se\" = sd(topmed_rsq),\n",
    "                         \"rsq_topmed_n\" = length(topmed_rsq), \n",
    "                         \"test_stat\" = test_result$statistic, \n",
    "                         \"p_value\" = test_result$p.value)\n",
    "    \n",
    "    rsq_overlap_df = rbind(rsq_overlap_df, sub_df)\n",
    "}\n",
    "\n",
    "rsq_overlap_df"
   ]
  },
  {
   "cell_type": "code",
   "execution_count": 28,
   "id": "6b3c33a6-fd95-41f5-b77f-bf4eb67eeab3",
   "metadata": {
    "kernel": "R",
    "tags": []
   },
   "outputs": [
    {
     "data": {
      "text/html": [
       "<table class=\"dataframe\">\n",
       "<caption>A data.frame: 6 × 10</caption>\n",
       "<thead>\n",
       "\t<tr><th></th><th scope=col>data</th><th scope=col>r2_mean</th><th scope=col>r2_se</th><th scope=col>r2_n</th><th scope=col>r2_mean_hrc_topmed</th><th scope=col>r2_se_hrc_topmed</th><th scope=col>r2_n_hrc_topmed</th><th scope=col>test_stat</th><th scope=col>p_value</th><th scope=col>maf_cat</th></tr>\n",
       "\t<tr><th></th><th scope=col>&lt;chr&gt;</th><th scope=col>&lt;dbl&gt;</th><th scope=col>&lt;dbl&gt;</th><th scope=col>&lt;int&gt;</th><th scope=col>&lt;dbl&gt;</th><th scope=col>&lt;dbl&gt;</th><th scope=col>&lt;int&gt;</th><th scope=col>&lt;dbl&gt;</th><th scope=col>&lt;dbl&gt;</th><th scope=col>&lt;chr&gt;</th></tr>\n",
       "</thead>\n",
       "<tbody>\n",
       "\t<tr><th scope=row>t</th><td><span style=white-space:pre-wrap>HRC   </span></td><td>0.7058350</td><td>0.001224586</td><td>25438</td><td>0.6730641</td><td>0.0004047096</td><td>238500</td><td> 25.409129</td><td>5.414201e-141</td><td><span style=white-space:pre-wrap>MAF &lt; 0.001         </span></td></tr>\n",
       "\t<tr><th scope=row>t1</th><td>TOPMed</td><td>0.7340780</td><td>0.001146041</td><td>25438</td><td>0.6730641</td><td>0.0004047096</td><td>238500</td><td> 50.200632</td><td> 0.000000e+00</td><td><span style=white-space:pre-wrap>MAF &lt; 0.001         </span></td></tr>\n",
       "\t<tr><th scope=row>t2</th><td><span style=white-space:pre-wrap>HRC   </span></td><td>0.8890460</td><td>0.001964387</td><td> 5190</td><td>0.9206836</td><td>0.0015047751</td><td><span style=white-space:pre-wrap>  5725</span></td><td>-12.785414</td><td> 3.872412e-37</td><td>0.001 &lt;= MAF &lt; 0.005</td></tr>\n",
       "\t<tr><th scope=row>t3</th><td>TOPMed</td><td>0.9102365</td><td>0.001406263</td><td> 5190</td><td>0.9206836</td><td>0.0015047751</td><td><span style=white-space:pre-wrap>  5725</span></td><td> -5.072410</td><td> 3.992675e-07</td><td>0.001 &lt;= MAF &lt; 0.005</td></tr>\n",
       "\t<tr><th scope=row>t4</th><td><span style=white-space:pre-wrap>HRC   </span></td><td>0.9392462</td><td>0.002486867</td><td> 1293</td><td>0.9463442</td><td>0.0025661029</td><td><span style=white-space:pre-wrap>  1438</span></td><td> -1.986312</td><td> 4.709863e-02</td><td>0.005 &lt;= MAF &lt; 0.01 </td></tr>\n",
       "\t<tr><th scope=row>t5</th><td>TOPMed</td><td>0.9582250</td><td>0.001912479</td><td> 1293</td><td>0.9463442</td><td>0.0025661029</td><td><span style=white-space:pre-wrap>  1438</span></td><td><span style=white-space:pre-wrap>  3.712317</span></td><td> 2.097021e-04</td><td>0.005 &lt;= MAF &lt; 0.01 </td></tr>\n",
       "</tbody>\n",
       "</table>\n"
      ],
      "text/latex": [
       "A data.frame: 6 × 10\n",
       "\\begin{tabular}{r|llllllllll}\n",
       "  & data & r2\\_mean & r2\\_se & r2\\_n & r2\\_mean\\_hrc\\_topmed & r2\\_se\\_hrc\\_topmed & r2\\_n\\_hrc\\_topmed & test\\_stat & p\\_value & maf\\_cat\\\\\n",
       "  & <chr> & <dbl> & <dbl> & <int> & <dbl> & <dbl> & <int> & <dbl> & <dbl> & <chr>\\\\\n",
       "\\hline\n",
       "\tt & HRC    & 0.7058350 & 0.001224586 & 25438 & 0.6730641 & 0.0004047096 & 238500 &  25.409129 & 5.414201e-141 & MAF < 0.001         \\\\\n",
       "\tt1 & TOPMed & 0.7340780 & 0.001146041 & 25438 & 0.6730641 & 0.0004047096 & 238500 &  50.200632 &  0.000000e+00 & MAF < 0.001         \\\\\n",
       "\tt2 & HRC    & 0.8890460 & 0.001964387 &  5190 & 0.9206836 & 0.0015047751 &   5725 & -12.785414 &  3.872412e-37 & 0.001 <= MAF < 0.005\\\\\n",
       "\tt3 & TOPMed & 0.9102365 & 0.001406263 &  5190 & 0.9206836 & 0.0015047751 &   5725 &  -5.072410 &  3.992675e-07 & 0.001 <= MAF < 0.005\\\\\n",
       "\tt4 & HRC    & 0.9392462 & 0.002486867 &  1293 & 0.9463442 & 0.0025661029 &   1438 &  -1.986312 &  4.709863e-02 & 0.005 <= MAF < 0.01 \\\\\n",
       "\tt5 & TOPMed & 0.9582250 & 0.001912479 &  1293 & 0.9463442 & 0.0025661029 &   1438 &   3.712317 &  2.097021e-04 & 0.005 <= MAF < 0.01 \\\\\n",
       "\\end{tabular}\n"
      ],
      "text/markdown": [
       "\n",
       "A data.frame: 6 × 10\n",
       "\n",
       "| <!--/--> | data &lt;chr&gt; | r2_mean &lt;dbl&gt; | r2_se &lt;dbl&gt; | r2_n &lt;int&gt; | r2_mean_hrc_topmed &lt;dbl&gt; | r2_se_hrc_topmed &lt;dbl&gt; | r2_n_hrc_topmed &lt;int&gt; | test_stat &lt;dbl&gt; | p_value &lt;dbl&gt; | maf_cat &lt;chr&gt; |\n",
       "|---|---|---|---|---|---|---|---|---|---|---|\n",
       "| t | HRC    | 0.7058350 | 0.001224586 | 25438 | 0.6730641 | 0.0004047096 | 238500 |  25.409129 | 5.414201e-141 | MAF &lt; 0.001          |\n",
       "| t1 | TOPMed | 0.7340780 | 0.001146041 | 25438 | 0.6730641 | 0.0004047096 | 238500 |  50.200632 |  0.000000e+00 | MAF &lt; 0.001          |\n",
       "| t2 | HRC    | 0.8890460 | 0.001964387 |  5190 | 0.9206836 | 0.0015047751 |   5725 | -12.785414 |  3.872412e-37 | 0.001 &lt;= MAF &lt; 0.005 |\n",
       "| t3 | TOPMed | 0.9102365 | 0.001406263 |  5190 | 0.9206836 | 0.0015047751 |   5725 |  -5.072410 |  3.992675e-07 | 0.001 &lt;= MAF &lt; 0.005 |\n",
       "| t4 | HRC    | 0.9392462 | 0.002486867 |  1293 | 0.9463442 | 0.0025661029 |   1438 |  -1.986312 |  4.709863e-02 | 0.005 &lt;= MAF &lt; 0.01  |\n",
       "| t5 | TOPMed | 0.9582250 | 0.001912479 |  1293 | 0.9463442 | 0.0025661029 |   1438 |   3.712317 |  2.097021e-04 | 0.005 &lt;= MAF &lt; 0.01  |\n",
       "\n"
      ],
      "text/plain": [
       "   data   r2_mean   r2_se       r2_n  r2_mean_hrc_topmed r2_se_hrc_topmed\n",
       "t  HRC    0.7058350 0.001224586 25438 0.6730641          0.0004047096    \n",
       "t1 TOPMed 0.7340780 0.001146041 25438 0.6730641          0.0004047096    \n",
       "t2 HRC    0.8890460 0.001964387  5190 0.9206836          0.0015047751    \n",
       "t3 TOPMed 0.9102365 0.001406263  5190 0.9206836          0.0015047751    \n",
       "t4 HRC    0.9392462 0.002486867  1293 0.9463442          0.0025661029    \n",
       "t5 TOPMed 0.9582250 0.001912479  1293 0.9463442          0.0025661029    \n",
       "   r2_n_hrc_topmed test_stat  p_value       maf_cat             \n",
       "t  238500           25.409129 5.414201e-141 MAF < 0.001         \n",
       "t1 238500           50.200632  0.000000e+00 MAF < 0.001         \n",
       "t2   5725          -12.785414  3.872412e-37 0.001 <= MAF < 0.005\n",
       "t3   5725           -5.072410  3.992675e-07 0.001 <= MAF < 0.005\n",
       "t4   1438           -1.986312  4.709863e-02 0.005 <= MAF < 0.01 \n",
       "t5   1438            3.712317  2.097021e-04 0.005 <= MAF < 0.01 "
      ]
     },
     "metadata": {},
     "output_type": "display_data"
    }
   ],
   "source": [
    "## check if the RSQ is statistically different v.s. HRC_TOPMed\n",
    "\n",
    "r2_df <- data.frame(matrix(ncol=10, nrow = 0))\n",
    "colnames(r2_df) <- c(\"data\", \"r2_mean\", \"r2_se\", \"r2_n\", \"r2_mean_hrc_topmed\", \"r2_se_hrc_topmed\", \"r2_n_hrc_topmed\", \"test_stat\", \"p_value\", \"maf_cat\")\n",
    "\n",
    "for(maf in c(\"MAF < 0.001\", \"0.001 <= MAF < 0.005\", \"0.005 <= MAF < 0.01\")){\n",
    "    hrc_r2 <- df_overlap %>% filter(maf_cat == maf) %>% pull(R2_hrc)\n",
    "    topmed_r2 <- df_overlap %>% filter(maf_cat == maf) %>% pull(R2_topmed)\n",
    "    hrc_topmed <- hrc_topmed_df %>% filter(maf_cat == maf) %>% pull(R2)\n",
    "    \n",
    "    hrc_test_result <- t.test(hrc_r2, hrc_topmed)\n",
    "    topmed_test_result <- t.test(topmed_r2, hrc_topmed)\n",
    "    \n",
    "    hrc_t_statistic <- (mean(hrc_r2) - mean(hrc_topmed)) / sqrt((var(hrc_r2)/length(hrc_r2)) + (var(hrc_topmed)/length(hrc_topmed)))\n",
    "    topmed_t_statistic <- (mean(topmed_r2) - mean(hrc_topmed)) / sqrt((var(topmed_r2)/length(topmed_r2)) + (var(hrc_topmed)/length(hrc_topmed)))\n",
    "\n",
    "\n",
    "    hrc_r2_df <- data.frame(\"data\" = \"HRC\", \n",
    "                            \"r2_mean\" = mean(hrc_r2),\n",
    "                            \"r2_se\" = sd(hrc_r2) / sqrt(length(hrc_r2)),\n",
    "                            \"r2_n\" = length(hrc_r2), \n",
    "                            \"r2_mean_hrc_topmed\" = mean(hrc_topmed),\n",
    "                            \"r2_se_hrc_topmed\" = sd(hrc_topmed) / sqrt(length(hrc_topmed)),\n",
    "                            \"r2_n_hrc_topmed\" = length(hrc_topmed), \n",
    "                            \"test_stat\" = hrc_test_result$statistic, \n",
    "                            \"p_value\" = hrc_test_result$p.value,\n",
    "                            \"maf_cat\" = maf)\n",
    "    \n",
    "    \n",
    "    topmed_r2_df <- data.frame(\"data\" = \"TOPMed\",\n",
    "                               \"r2_mean\" = mean(topmed_r2),\n",
    "                               \"r2_se\" = sd(topmed_r2) / sqrt(length(topmed_r2)),\n",
    "                               \"r2_n\" = length(topmed_r2), \n",
    "                               \"r2_mean_hrc_topmed\" = mean(hrc_topmed),\n",
    "                               \"r2_se_hrc_topmed\" = sd(hrc_topmed) / sqrt(length(hrc_topmed)),\n",
    "                               \"r2_n_hrc_topmed\" = length(hrc_topmed), \n",
    "                               \"test_stat\" = topmed_test_result$statistic, \n",
    "                               \"p_value\" = topmed_test_result$p.value,\n",
    "                                \"maf_cat\" = maf)\n",
    "    \n",
    "    r2_df = rbind(r2_df, hrc_r2_df, topmed_r2_df)\n",
    "}\n",
    "\n",
    "r2_df"
   ]
  },
  {
   "cell_type": "code",
   "execution_count": 58,
   "id": "ffd70f98-1ae4-4ffa-ba9b-3538e4f2b5fe",
   "metadata": {
    "kernel": "R",
    "tags": []
   },
   "outputs": [
    {
     "data": {
      "text/html": [
       "2.2250738585072e-308"
      ],
      "text/latex": [
       "2.2250738585072e-308"
      ],
      "text/markdown": [
       "2.2250738585072e-308"
      ],
      "text/plain": [
       "[1] 2.225074e-308"
      ]
     },
     "metadata": {},
     "output_type": "display_data"
    }
   ],
   "source": [
    ".Machine$double.xmin"
   ]
  },
  {
   "cell_type": "markdown",
   "id": "ab0f27dc-615a-44ff-a4bd-9cc334197dc4",
   "metadata": {
    "kernel": "R"
   },
   "source": [
    "## Power for overlapped variants of TOPMed and Exome\n",
    "\n",
    "We are going to perform the simulation with an overlapped set of variants from Exome and TOPMed using the already simulated phenotype from previous simulations. \n",
    "\n",
    "**Parameters**: all variants causal, OR = 1.5, disease prevalence = 0.1, $R^2$ = 0.3"
   ]
  },
  {
   "cell_type": "markdown",
   "id": "f22c2bef-c339-4408-83c0-362784f8d5d8",
   "metadata": {
    "kernel": "R"
   },
   "source": [
    "### Create per gene genotype file"
   ]
  },
  {
   "cell_type": "code",
   "execution_count": 1,
   "id": "7d987ed2-390a-47bd-92cd-1825bed42462",
   "metadata": {
    "kernel": "R",
    "tags": []
   },
   "outputs": [
    {
     "name": "stderr",
     "output_type": "stream",
     "text": [
      "\n",
      "Attaching package: ‘dplyr’\n",
      "\n",
      "\n",
      "The following objects are masked from ‘package:stats’:\n",
      "\n",
      "    filter, lag\n",
      "\n",
      "\n",
      "The following objects are masked from ‘package:base’:\n",
      "\n",
      "    intersect, setdiff, setequal, union\n",
      "\n",
      "\n",
      "\n",
      "Attaching package: ‘data.table’\n",
      "\n",
      "\n",
      "The following objects are masked from ‘package:dplyr’:\n",
      "\n",
      "    between, first, last\n",
      "\n",
      "\n"
     ]
    }
   ],
   "source": [
    "library(dplyr)\n",
    "library(data.table)\n",
    "\n",
    "annot <- fread(\"~/project/imputation-rvtest/analysis/imputation_aggregated_analysis/hrc_topmed_exome/hrc_topmed_v3_exome_168206ids_rsq03_maf001_annot.csv.gz\")"
   ]
  },
  {
   "cell_type": "code",
   "execution_count": 2,
   "id": "e934d8d6-75fd-4088-9123-c9649a6cdfc0",
   "metadata": {
    "kernel": "R",
    "tags": []
   },
   "outputs": [],
   "source": [
    "setwd(\"~/project/imputation-rvtest/workflows/imputation_aggregated_analysis/scripts\")"
   ]
  },
  {
   "cell_type": "code",
   "execution_count": 3,
   "id": "c5008435-b980-4ac9-98a3-f3c2e62340ce",
   "metadata": {
    "kernel": "R",
    "tags": []
   },
   "outputs": [
    {
     "name": "stdout",
     "output_type": "stream",
     "text": [
      "[1] 3097\n",
      "[1] 3097\n",
      "[1] 3097\n"
     ]
    }
   ],
   "source": [
    "for(maf in c(0.01, 0.005, 0.001)){\n",
    "    annot_overlap <- annot %>% filter(MAF_nfe_exome < maf, !is.na(R2_topmed), R2_topmed != 0, R2_exome == 999)\n",
    "    print(length(unique(annot_overlap$Gene.refGene)))\n",
    "\n",
    "    maf_c <- gsub(\"\\\\.\", \"\", as.character(maf))\n",
    "    maf_c <- paste0(\"maf\", maf_c)\n",
    "    command_fname <- sprintf(\"./extract_overlapped_topmed_%s.sh\", maf_c)\n",
    "    \n",
    "    if(file.exists(command_fname)) unlink(command_fname)\n",
    "    file.create(command_fname)\n",
    "    fileConn <- file(command_fname, \"w\")\n",
    "    header_lines <- c(\n",
    "        \"#!/bin/bash\",\n",
    "        \"#SBATCH --mem=60G\",\n",
    "        \"#SBATCH --time=24:00:00\",\n",
    "        sprintf(\"#SBATCH --job-name=extract_overlapped_topmed_%s\", maf_c),\n",
    "        sprintf(\"#SBATCH --output=~/project/imputation-rvtest/workflows/imputation_aggregated_analysis/scripts/extract_overlapped_topmed_%s.out\", maf_c),\n",
    "        sprintf(\"#SBATCH --error=~/project/imputation-rvtest/workflows/imputation_aggregated_analysis/scripts/extract_overlapped_topmed_%s.err\", maf_c),\n",
    "        \"#SBATCH -p CSG\",\n",
    "        \"#SBATCH --mail-type=FAIL\",\n",
    "        \"#SBATCH --mail-user=tl3031@cumc.columbia.edu\",\n",
    "        \"source ~/mamba_activate.sh\",\n",
    "        sprintf(\"cd ~/project/imputation-rvtest/workflows/imputation_aggregated_analysis/gene/exome_topmed_overlap/topmed_%s\", maf_c),\n",
    "        \"module load Plink/2.00a\"\n",
    "    )\n",
    "    writeLines(header_lines, fileConn)\n",
    "    close(fileConn)\n",
    "\n",
    "    for(g in unique(annot_overlap$Gene.refGene)){\n",
    "        annot_gene <- annot_overlap %>% \n",
    "            filter(is.na(MAF_nfe_exome) | MAF_nfe_exome < maf) %>% \n",
    "            filter(Gene.refGene == g) \n",
    "        \n",
    "        annot_gene %>% \n",
    "            select(ID_hg38) %>% \n",
    "            fwrite(sprintf(\"~/project/imputation-rvtest/workflows/imputation_aggregated_analysis/gene/exome_topmed_overlap/topmed_%s/%s\", maf_c, g))\n",
    "        \n",
    "        chr <- annot_gene[1,]$Chr\n",
    "        \n",
    "        command <- sprintf(\"plink2 --bpfile ~/project/imputation-rvtest/analysis/imputation_aggregated_analysis/topmed_v3/topmed_chr%i_rsq03_%s_LOF_missense_extracted \\\\\n",
    "                            --extract %s --export A --make-bpgen --out %s;\", chr, maf_c, g, g)\n",
    "        fileConn <- file(command_fname, \"a\")\n",
    "        writeLines(command, fileConn)\n",
    "        close(fileConn)\n",
    "    }\n",
    "}"
   ]
  },
  {
   "cell_type": "code",
   "execution_count": 7,
   "id": "79002202-f42c-4f9b-8ce5-03c20d455365",
   "metadata": {
    "kernel": "R",
    "tags": []
   },
   "outputs": [
    {
     "name": "stdout",
     "output_type": "stream",
     "text": [
      "[1] 3097\n",
      "[1] 3097\n",
      "[1] 3097\n"
     ]
    }
   ],
   "source": [
    "for(maf in c(0.01, 0.005, 0.001)){\n",
    "    annot_overlap <- annot %>% filter(MAF_nfe_exome < maf, !is.na(R2_topmed), R2_topmed != 0, R2_exome == 999)\n",
    "    print(length(unique(annot_overlap$Gene.refGene)))\n",
    "\n",
    "    maf_c <- gsub(\"\\\\.\", \"\", as.character(maf))\n",
    "    maf_c <- paste0(\"maf\", maf_c)\n",
    "    command_fname <- sprintf(\"./extract_overlapped_exome_%s.sh\", maf_c)\n",
    "    \n",
    "    if(file.exists(command_fname)) unlink(command_fname)\n",
    "    file.create(command_fname)\n",
    "    fileConn <- file(command_fname, \"w\")\n",
    "    header_lines <- c(\n",
    "        \"#!/bin/bash\",\n",
    "        \"#SBATCH --mem=60G\",\n",
    "        \"#SBATCH --time=24:00:00\",\n",
    "        sprintf(\"#SBATCH --job-name=extract_overlapped_exome_%s\", maf_c),\n",
    "        sprintf(\"#SBATCH --output=~/project/imputation-rvtest/workflows/imputation_aggregated_analysis/scripts/extract_overlapped_exome_%s.out\", maf_c),\n",
    "        sprintf(\"#SBATCH --error=~/project/imputation-rvtest/workflows/imputation_aggregated_analysis/scripts/extract_overlapped_exome_%s.err\", maf_c),\n",
    "        \"#SBATCH -p CSG\",\n",
    "        \"#SBATCH --mail-type=FAIL\",\n",
    "        \"#SBATCH --mail-user=tl3031@cumc.columbia.edu\",\n",
    "        \"source ~/mamba_activate.sh\",\n",
    "        sprintf(\"cd ~/project/imputation-rvtest/workflows/imputation_aggregated_analysis/gene/exome_topmed_overlap/exome_%s\", maf_c),\n",
    "        \"module load Plink/1.9.10\"\n",
    "    )\n",
    "    writeLines(header_lines, fileConn)\n",
    "    close(fileConn)\n",
    "\n",
    "    for(g in unique(annot_overlap$Gene.refGene)){\n",
    "        annot_gene <- annot_overlap %>% \n",
    "            filter(is.na(MAF_nfe_exome) | MAF_nfe_exome < maf) %>% \n",
    "            filter(Gene.refGene == g) \n",
    "        \n",
    "#         annot_gene %>% \n",
    "#             select(ID_hg38) %>% \n",
    "#             fwrite(sprintf(\"~/project/imputation-rvtest/workflows/imputation_aggregated_analysis/gene/exome_topmed_overlap/exome_%s/%s\", maf_c, g))\n",
    "        \n",
    "        chr <- annot_gene[1,]$Chr\n",
    "        \n",
    "        command <- sprintf(\"plink --bfile ~/project/imputation-rvtest/analysis/imputation_aggregated_analysis/exome/ukb23156_c%d_maf001_LOF_missense_extracted \\\\\n",
    "                            --extract %s --export A --make-bed --out %s;\", chr, g, g)\n",
    "        fileConn <- file(command_fname, \"a\")\n",
    "        writeLines(command, fileConn)\n",
    "        close(fileConn)\n",
    "    }\n",
    "}"
   ]
  },
  {
   "cell_type": "markdown",
   "id": "786e154d-68ca-43a6-9bd7-a47cb378aa06",
   "metadata": {
    "kernel": "R"
   },
   "source": [
    "### Writing script for job submission"
   ]
  },
  {
   "cell_type": "code",
   "execution_count": 5,
   "id": "a68b9a23-2a66-4674-9bdc-fe9caf4111e5",
   "metadata": {
    "kernel": "R",
    "tags": []
   },
   "outputs": [],
   "source": [
    "# 1 10 1 3 0.005 \"~/project/git/imputation_brv/workflow/dsc_pipeline_rsq03_maf0005\"\n",
    "\n",
    "rsq = 3\n",
    "\n",
    "for(i in seq(1, 3203, 500)){\n",
    "    for(j in c(2,11)){\n",
    "        for(maf in c(0.01, 0.005, 0.001)){\n",
    "            \n",
    "            out_dir = \"/home/tl3031/project/git/imputation_brv/workflow/exome_topmed_overlap\"\n",
    "\n",
    "            start = i\n",
    "            end = start + 500 - 1\n",
    "            \n",
    "            if(end > 3203) end = 3203\n",
    "\n",
    "            command_script_fname <- sprintf(\"~/project/git/imputation_brv/workflow/scripts/run_overlap_rsq0%i_maf%.3f_bin_phenotype%i_%i_%i.sh\", rsq, maf, j, start, end)\n",
    "            if(file.exists(command_script_fname)) unlink(command_script_fname)\n",
    "\n",
    "            file.create(command_script_fname)\n",
    "            fileConn <- file(command_script_fname, \"w\")\n",
    "            header_lines <- c(\n",
    "                \"#!/bin/bash\",\n",
    "                \"#SBATCH --mem=60G\",\n",
    "                \"#SBATCH --time=24:00:00\",\n",
    "                sprintf(\"#SBATCH --job-name=run_overlap_rsq0%i_maf%.3f_bin_phenotype%i_%i_%i\", rsq, maf, j, start, end),\n",
    "                sprintf(\"#SBATCH --output=/mnt/vast/hpc/csg/tl3031/git/imputation_brv/workflow/scripts/run_overlap_rsq0%i_maf%.3f_bin_phenotype%i_%i_%i.out\", rsq, maf, j, start, end),\n",
    "                sprintf(\"#SBATCH --error=/mnt/vast/hpc/csg/tl3031/git/imputation_brv/workflow/scripts/run_overlap_rsq0%i_maf%.3f_bin_phenotype%i_%i_%i.err\", rsq, maf, j, start, end),\n",
    "                \"#SBATCH -p CSG\",\n",
    "                \"#SBATCH --mail-type=FAIL\",\n",
    "                \"#SBATCH --mail-user=tl3031@cumc.columbia.edu\",\n",
    "                \"source ~/mamba_activate.sh\",\n",
    "                \"cd /home/tl3031/project/git/imputation_brv/workflow/scripts\",\n",
    "                sprintf(\"Rscript exome_topmed_overlap.R %i %i %i %i %.3f %s\", start, end, j, rsq, maf, out_dir)\n",
    "            )\n",
    "            writeLines(header_lines, fileConn)\n",
    "            close(fileConn)\n",
    "        }\n",
    "    }\n",
    "}"
   ]
  },
  {
   "cell_type": "markdown",
   "id": "1ec1663a-3d94-40c8-8c99-5e938581fa82",
   "metadata": {
    "kernel": "R"
   },
   "source": [
    "### Summarizing result"
   ]
  },
  {
   "cell_type": "code",
   "execution_count": 8,
   "id": "3fbe7471-5a5d-4b33-af02-e4c664301bf6",
   "metadata": {
    "kernel": "R",
    "tags": []
   },
   "outputs": [],
   "source": [
    "exome_topmed_dir <- \"~/project/git/imputation_brv/workflow/exome_topmed_overlap\"\n",
    "exome_topmed_flst <- list.files(exome_topmed_dir, pattern = \".csv\", full.names = TRUE)\n",
    "\n",
    "exome_topmed_result <- data.frame(matrix(nrow=0, ncol=8))\n",
    "colnames(exome_topmed_result) <- c(\"gene\", \"sample\", \"es\", \"causal_prop\", \"prev\", \"zstat\", \"pval\", \"maf\")\n",
    "\n",
    "for(f in exome_topmed_flst){\n",
    "    gene_res <- fread(f)\n",
    "    if(ncol(gene_res) == 8) exome_topmed_result <- rbind(exome_topmed_result, gene_res)\n",
    "}\n",
    "\n",
    "exome_topmed_result <- exome_topmed_result %>% \n",
    "    mutate(gene = sapply(stringr::str_split(gene, \"_\"), function(x) x[2]))"
   ]
  },
  {
   "cell_type": "code",
   "execution_count": 9,
   "id": "6952a110-2551-4e27-a9c4-66be26ac76b3",
   "metadata": {
    "kernel": "R",
    "tags": []
   },
   "outputs": [
    {
     "name": "stderr",
     "output_type": "stream",
     "text": [
      "\u001b[1m\u001b[22m`summarise()` has grouped output by 'sample', 'prev'. You can override using\n",
      "the `.groups` argument.\n"
     ]
    },
    {
     "data": {
      "text/html": [
       "<table class=\"dataframe\">\n",
       "<caption>A grouped_df: 12 × 4</caption>\n",
       "<thead>\n",
       "\t<tr><th scope=col>prev</th><th scope=col>maf</th><th scope=col>sample</th><th scope=col>power</th></tr>\n",
       "\t<tr><th scope=col>&lt;dbl&gt;</th><th scope=col>&lt;dbl&gt;</th><th scope=col>&lt;chr&gt;</th><th scope=col>&lt;dbl&gt;</th></tr>\n",
       "</thead>\n",
       "<tbody>\n",
       "\t<tr><td>0.1</td><td>0.010</td><td>exome </td><td>0.5881986</td></tr>\n",
       "\t<tr><td>0.1</td><td>0.010</td><td>topmed</td><td>0.5316890</td></tr>\n",
       "\t<tr><td>0.1</td><td>0.005</td><td>exome </td><td>0.5316890</td></tr>\n",
       "\t<tr><td>0.1</td><td>0.005</td><td>topmed</td><td>0.4564471</td></tr>\n",
       "\t<tr><td>0.1</td><td>0.001</td><td>exome </td><td>0.3290665</td></tr>\n",
       "\t<tr><td>0.1</td><td>0.001</td><td>topmed</td><td>0.2116766</td></tr>\n",
       "\t<tr><td>0.2</td><td>0.010</td><td>exome </td><td>0.5816422</td></tr>\n",
       "\t<tr><td>0.2</td><td>0.010</td><td>topmed</td><td>0.5313768</td></tr>\n",
       "\t<tr><td>0.2</td><td>0.005</td><td>exome </td><td>0.5238839</td></tr>\n",
       "\t<tr><td>0.2</td><td>0.005</td><td>topmed</td><td>0.4598814</td></tr>\n",
       "\t<tr><td>0.2</td><td>0.001</td><td>exome </td><td>0.3262566</td></tr>\n",
       "\t<tr><td>0.2</td><td>0.001</td><td>topmed</td><td>0.2166719</td></tr>\n",
       "</tbody>\n",
       "</table>\n"
      ],
      "text/latex": [
       "A grouped\\_df: 12 × 4\n",
       "\\begin{tabular}{llll}\n",
       " prev & maf & sample & power\\\\\n",
       " <dbl> & <dbl> & <chr> & <dbl>\\\\\n",
       "\\hline\n",
       "\t 0.1 & 0.010 & exome  & 0.5881986\\\\\n",
       "\t 0.1 & 0.010 & topmed & 0.5316890\\\\\n",
       "\t 0.1 & 0.005 & exome  & 0.5316890\\\\\n",
       "\t 0.1 & 0.005 & topmed & 0.4564471\\\\\n",
       "\t 0.1 & 0.001 & exome  & 0.3290665\\\\\n",
       "\t 0.1 & 0.001 & topmed & 0.2116766\\\\\n",
       "\t 0.2 & 0.010 & exome  & 0.5816422\\\\\n",
       "\t 0.2 & 0.010 & topmed & 0.5313768\\\\\n",
       "\t 0.2 & 0.005 & exome  & 0.5238839\\\\\n",
       "\t 0.2 & 0.005 & topmed & 0.4598814\\\\\n",
       "\t 0.2 & 0.001 & exome  & 0.3262566\\\\\n",
       "\t 0.2 & 0.001 & topmed & 0.2166719\\\\\n",
       "\\end{tabular}\n"
      ],
      "text/markdown": [
       "\n",
       "A grouped_df: 12 × 4\n",
       "\n",
       "| prev &lt;dbl&gt; | maf &lt;dbl&gt; | sample &lt;chr&gt; | power &lt;dbl&gt; |\n",
       "|---|---|---|---|\n",
       "| 0.1 | 0.010 | exome  | 0.5881986 |\n",
       "| 0.1 | 0.010 | topmed | 0.5316890 |\n",
       "| 0.1 | 0.005 | exome  | 0.5316890 |\n",
       "| 0.1 | 0.005 | topmed | 0.4564471 |\n",
       "| 0.1 | 0.001 | exome  | 0.3290665 |\n",
       "| 0.1 | 0.001 | topmed | 0.2116766 |\n",
       "| 0.2 | 0.010 | exome  | 0.5816422 |\n",
       "| 0.2 | 0.010 | topmed | 0.5313768 |\n",
       "| 0.2 | 0.005 | exome  | 0.5238839 |\n",
       "| 0.2 | 0.005 | topmed | 0.4598814 |\n",
       "| 0.2 | 0.001 | exome  | 0.3262566 |\n",
       "| 0.2 | 0.001 | topmed | 0.2166719 |\n",
       "\n"
      ],
      "text/plain": [
       "   prev maf   sample power    \n",
       "1  0.1  0.010 exome  0.5881986\n",
       "2  0.1  0.010 topmed 0.5316890\n",
       "3  0.1  0.005 exome  0.5316890\n",
       "4  0.1  0.005 topmed 0.4564471\n",
       "5  0.1  0.001 exome  0.3290665\n",
       "6  0.1  0.001 topmed 0.2116766\n",
       "7  0.2  0.010 exome  0.5816422\n",
       "8  0.2  0.010 topmed 0.5313768\n",
       "9  0.2  0.005 exome  0.5238839\n",
       "10 0.2  0.005 topmed 0.4598814\n",
       "11 0.2  0.001 exome  0.3262566\n",
       "12 0.2  0.001 topmed 0.2166719"
      ]
     },
     "metadata": {},
     "output_type": "display_data"
    }
   ],
   "source": [
    "exome_topmed_result %>%\n",
    "    group_by(sample, prev, maf) %>% \n",
    "    filter(pval < 2.5e-6) %>% \n",
    "    summarise(power = n()/3203) %>%\n",
    "    arrange(prev, desc(maf)) %>%\n",
    "    select(prev, maf, sample, power)"
   ]
  },
  {
   "cell_type": "code",
   "execution_count": 13,
   "id": "089a270c-82e5-4509-9470-80cffed94080",
   "metadata": {
    "kernel": "R",
    "tags": []
   },
   "outputs": [
    {
     "name": "stderr",
     "output_type": "stream",
     "text": [
      "\u001b[1m\u001b[22m`summarise()` has grouped output by 'prev'. You can override using the\n",
      "`.groups` argument.\n"
     ]
    },
    {
     "data": {
      "text/html": [
       "<table class=\"dataframe\">\n",
       "<caption>A grouped_df: 6 × 3</caption>\n",
       "<thead>\n",
       "\t<tr><th scope=col>prev</th><th scope=col>maf</th><th scope=col>power</th></tr>\n",
       "\t<tr><th scope=col>&lt;dbl&gt;</th><th scope=col>&lt;dbl&gt;</th><th scope=col>&lt;dbl&gt;</th></tr>\n",
       "</thead>\n",
       "<tbody>\n",
       "\t<tr><td>0.1</td><td>0.001</td><td>0.2116766</td></tr>\n",
       "\t<tr><td>0.1</td><td>0.005</td><td>0.4564471</td></tr>\n",
       "\t<tr><td>0.1</td><td>0.010</td><td>0.5316890</td></tr>\n",
       "\t<tr><td>0.2</td><td>0.001</td><td>0.2166719</td></tr>\n",
       "\t<tr><td>0.2</td><td>0.005</td><td>0.4598814</td></tr>\n",
       "\t<tr><td>0.2</td><td>0.010</td><td>0.5313768</td></tr>\n",
       "</tbody>\n",
       "</table>\n"
      ],
      "text/latex": [
       "A grouped\\_df: 6 × 3\n",
       "\\begin{tabular}{lll}\n",
       " prev & maf & power\\\\\n",
       " <dbl> & <dbl> & <dbl>\\\\\n",
       "\\hline\n",
       "\t 0.1 & 0.001 & 0.2116766\\\\\n",
       "\t 0.1 & 0.005 & 0.4564471\\\\\n",
       "\t 0.1 & 0.010 & 0.5316890\\\\\n",
       "\t 0.2 & 0.001 & 0.2166719\\\\\n",
       "\t 0.2 & 0.005 & 0.4598814\\\\\n",
       "\t 0.2 & 0.010 & 0.5313768\\\\\n",
       "\\end{tabular}\n"
      ],
      "text/markdown": [
       "\n",
       "A grouped_df: 6 × 3\n",
       "\n",
       "| prev &lt;dbl&gt; | maf &lt;dbl&gt; | power &lt;dbl&gt; |\n",
       "|---|---|---|\n",
       "| 0.1 | 0.001 | 0.2116766 |\n",
       "| 0.1 | 0.005 | 0.4564471 |\n",
       "| 0.1 | 0.010 | 0.5316890 |\n",
       "| 0.2 | 0.001 | 0.2166719 |\n",
       "| 0.2 | 0.005 | 0.4598814 |\n",
       "| 0.2 | 0.010 | 0.5313768 |\n",
       "\n"
      ],
      "text/plain": [
       "  prev maf   power    \n",
       "1 0.1  0.001 0.2116766\n",
       "2 0.1  0.005 0.4564471\n",
       "3 0.1  0.010 0.5316890\n",
       "4 0.2  0.001 0.2166719\n",
       "5 0.2  0.005 0.4598814\n",
       "6 0.2  0.010 0.5313768"
      ]
     },
     "metadata": {},
     "output_type": "display_data"
    }
   ],
   "source": [
    "exome_topmed_result %>% filter(sample == \"topmed\") %>% filter(pval < 2.5e-6) %>% group_by(prev, maf) %>% summarise(power = n()/3203)"
   ]
  },
  {
   "cell_type": "code",
   "execution_count": 10,
   "id": "c6b20d29-e659-4147-8069-d2549eea6877",
   "metadata": {
    "kernel": "R",
    "tags": []
   },
   "outputs": [
    {
     "name": "stdout",
     "output_type": "stream",
     "text": [
      "[1] 0.6944453\n",
      "[1] 0.6925143\n",
      "[1] 0.6857904\n"
     ]
    }
   ],
   "source": [
    "for(maf in c(0.01, 0.005, 0.001)){\n",
    "    annot_overlap <- annot %>% filter(MAF_nfe_exome < maf, !is.na(R2_topmed), R2_topmed != 0, R2_exome == 999)\n",
    "    annot_overlap %>% group_by(Gene.refGene) %>% summarise(mean_r2_gene = mean(R2_topmed)) %>% pull(mean_r2_gene) %>% mean() %>% print()\n",
    "}"
   ]
  },
  {
   "cell_type": "markdown",
   "id": "16074f2b-f02f-4db5-a173-4e79b702e46f",
   "metadata": {
    "kernel": "SoS"
   },
   "source": [
    "## Average R2 for all genes and significant genes\n",
    "\n",
    "We are interested in whether the average R2 will be different for all genes vs the genes reaching exome wide significant level."
   ]
  },
  {
   "cell_type": "code",
   "execution_count": 28,
   "id": "af3b9418-dacf-4ffa-b42c-d83f86dea9e6",
   "metadata": {
    "kernel": "R",
    "tags": []
   },
   "outputs": [],
   "source": [
    "library(dplyr)\n",
    "library(data.table)\n",
    "\n",
    "setwd(\"~/project/git/imputation_brv/workflow/results\")"
   ]
  },
  {
   "cell_type": "code",
   "execution_count": 29,
   "id": "6de1e0ee-0662-4895-9383-bcdce778b485",
   "metadata": {
    "kernel": "R",
    "tags": []
   },
   "outputs": [],
   "source": [
    "result_rsq03_maf001 <- fread(\"rsq03_maf001_result.csv\") %>% filter(sample %in% c(\"topmed\", \"hrc\"), es == 1.5, causal_prop == 1)\n",
    "result_rsq03_maf0005 <- fread(\"rsq03_maf0005_result.csv\") %>% filter(sample %in% c(\"topmed\", \"hrc\"), es == 1.5, causal_prop == 1)\n",
    "result_rsq03_maf0001 <- fread(\"rsq03_maf0001_result.csv\") %>% filter(sample %in% c(\"topmed\", \"hrc\"), es == 1.5, causal_prop == 1)"
   ]
  },
  {
   "cell_type": "code",
   "execution_count": 65,
   "id": "c46cbffc-3756-4496-b316-880feff60ac5",
   "metadata": {
    "kernel": "R",
    "tags": []
   },
   "outputs": [],
   "source": [
    "hrc_chr1 <- fread(\"~/project/imputation-rvtest/analysis/imputation_aggregated_analysis/hrc_topmed/hrc_168206ids_chr1_rsq03_maf001_annot.csv.gz\")\n",
    "hrc_chr2 <- fread(\"~/project/imputation-rvtest/analysis/imputation_aggregated_analysis/hrc_topmed/hrc_168206ids_chr2_rsq03_maf001_annot.csv.gz\")\n",
    "\n",
    "topmed_chr1 <- fread(\"~/project/imputation-rvtest/analysis/imputation_aggregated_analysis/hrc_topmed/topmed_v3_168206ids_chr1_rsq03_maf001_annot.csv.gz\")\n",
    "topmed_chr2 <- fread(\"~/project/imputation-rvtest/analysis/imputation_aggregated_analysis/hrc_topmed/topmed_v3_168206ids_chr2_rsq03_maf001_annot.csv.gz\")\n",
    "\n",
    "hrc_annot <- rbind(hrc_chr1, hrc_chr2)\n",
    "topmed_annot <- rbind(topmed_chr1, topmed_chr2)"
   ]
  },
  {
   "cell_type": "code",
   "execution_count": 77,
   "id": "bb6855d8-8928-49ce-b92a-41de75c96958",
   "metadata": {
    "kernel": "R",
    "tags": []
   },
   "outputs": [
    {
     "data": {
      "text/html": [
       "<table class=\"dataframe\">\n",
       "<caption>A data.frame: 12 × 4</caption>\n",
       "<thead>\n",
       "\t<tr><th scope=col>dataset</th><th scope=col>prev</th><th scope=col>maf</th><th scope=col>r2</th></tr>\n",
       "\t<tr><th scope=col>&lt;chr&gt;</th><th scope=col>&lt;dbl&gt;</th><th scope=col>&lt;dbl&gt;</th><th scope=col>&lt;chr&gt;</th></tr>\n",
       "</thead>\n",
       "<tbody>\n",
       "\t<tr><td>hrc   </td><td>0.1</td><td>0.010</td><td>0.723 (0.744)</td></tr>\n",
       "\t<tr><td>hrc   </td><td>0.1</td><td>0.005</td><td>0.714 (0.734)</td></tr>\n",
       "\t<tr><td>hrc   </td><td>0.1</td><td>0.001</td><td>0.682 (0.707)</td></tr>\n",
       "\t<tr><td>hrc   </td><td>0.2</td><td>0.010</td><td>0.723 (0.743)</td></tr>\n",
       "\t<tr><td>hrc   </td><td>0.2</td><td>0.005</td><td>0.714 (0.734)</td></tr>\n",
       "\t<tr><td>hrc   </td><td>0.2</td><td>0.001</td><td>0.682 (0.707)</td></tr>\n",
       "\t<tr><td>topmed</td><td>0.1</td><td>0.010</td><td>0.677 (0.682)</td></tr>\n",
       "\t<tr><td>topmed</td><td>0.1</td><td>0.005</td><td>0.675 (0.680)</td></tr>\n",
       "\t<tr><td>topmed</td><td>0.1</td><td>0.001</td><td>0.669 (0.673)</td></tr>\n",
       "\t<tr><td>topmed</td><td>0.2</td><td>0.010</td><td>0.677 (0.681)</td></tr>\n",
       "\t<tr><td>topmed</td><td>0.2</td><td>0.005</td><td>0.675 (0.680)</td></tr>\n",
       "\t<tr><td>topmed</td><td>0.2</td><td>0.001</td><td>0.669 (0.672)</td></tr>\n",
       "</tbody>\n",
       "</table>\n"
      ],
      "text/latex": [
       "A data.frame: 12 × 4\n",
       "\\begin{tabular}{llll}\n",
       " dataset & prev & maf & r2\\\\\n",
       " <chr> & <dbl> & <dbl> & <chr>\\\\\n",
       "\\hline\n",
       "\t hrc    & 0.1 & 0.010 & 0.723 (0.744)\\\\\n",
       "\t hrc    & 0.1 & 0.005 & 0.714 (0.734)\\\\\n",
       "\t hrc    & 0.1 & 0.001 & 0.682 (0.707)\\\\\n",
       "\t hrc    & 0.2 & 0.010 & 0.723 (0.743)\\\\\n",
       "\t hrc    & 0.2 & 0.005 & 0.714 (0.734)\\\\\n",
       "\t hrc    & 0.2 & 0.001 & 0.682 (0.707)\\\\\n",
       "\t topmed & 0.1 & 0.010 & 0.677 (0.682)\\\\\n",
       "\t topmed & 0.1 & 0.005 & 0.675 (0.680)\\\\\n",
       "\t topmed & 0.1 & 0.001 & 0.669 (0.673)\\\\\n",
       "\t topmed & 0.2 & 0.010 & 0.677 (0.681)\\\\\n",
       "\t topmed & 0.2 & 0.005 & 0.675 (0.680)\\\\\n",
       "\t topmed & 0.2 & 0.001 & 0.669 (0.672)\\\\\n",
       "\\end{tabular}\n"
      ],
      "text/markdown": [
       "\n",
       "A data.frame: 12 × 4\n",
       "\n",
       "| dataset &lt;chr&gt; | prev &lt;dbl&gt; | maf &lt;dbl&gt; | r2 &lt;chr&gt; |\n",
       "|---|---|---|---|\n",
       "| hrc    | 0.1 | 0.010 | 0.723 (0.744) |\n",
       "| hrc    | 0.1 | 0.005 | 0.714 (0.734) |\n",
       "| hrc    | 0.1 | 0.001 | 0.682 (0.707) |\n",
       "| hrc    | 0.2 | 0.010 | 0.723 (0.743) |\n",
       "| hrc    | 0.2 | 0.005 | 0.714 (0.734) |\n",
       "| hrc    | 0.2 | 0.001 | 0.682 (0.707) |\n",
       "| topmed | 0.1 | 0.010 | 0.677 (0.682) |\n",
       "| topmed | 0.1 | 0.005 | 0.675 (0.680) |\n",
       "| topmed | 0.1 | 0.001 | 0.669 (0.673) |\n",
       "| topmed | 0.2 | 0.010 | 0.677 (0.681) |\n",
       "| topmed | 0.2 | 0.005 | 0.675 (0.680) |\n",
       "| topmed | 0.2 | 0.001 | 0.669 (0.672) |\n",
       "\n"
      ],
      "text/plain": [
       "   dataset prev maf   r2           \n",
       "1  hrc     0.1  0.010 0.723 (0.744)\n",
       "2  hrc     0.1  0.005 0.714 (0.734)\n",
       "3  hrc     0.1  0.001 0.682 (0.707)\n",
       "4  hrc     0.2  0.010 0.723 (0.743)\n",
       "5  hrc     0.2  0.005 0.714 (0.734)\n",
       "6  hrc     0.2  0.001 0.682 (0.707)\n",
       "7  topmed  0.1  0.010 0.677 (0.682)\n",
       "8  topmed  0.1  0.005 0.675 (0.680)\n",
       "9  topmed  0.1  0.001 0.669 (0.673)\n",
       "10 topmed  0.2  0.010 0.677 (0.681)\n",
       "11 topmed  0.2  0.005 0.675 (0.680)\n",
       "12 topmed  0.2  0.001 0.669 (0.672)"
      ]
     },
     "metadata": {},
     "output_type": "display_data"
    }
   ],
   "source": [
    "result_df <- data.frame(matrix(ncol = 4, nrow = 0))\n",
    "colnames(result_df) <- c(\"dataset\", \"prev\", \"maf\", \"r2\")\n",
    "\n",
    "for(p in c(0.1, 0.2)){\n",
    "    for(m in c(0.01, 0.005, 0.001)){\n",
    "        sig_gene_lst_topmed <- all_gene %>% filter(sample == \"topmed\", prev == p, maf == m, pval < 2.5e-6) %>% pull(gene)\n",
    "        sig_gene_lst_hrc <- all_gene %>% filter(sample == \"hrc\", prev == p, maf == m, pval < 2.5e-6) %>% pull(gene)\n",
    "\n",
    "        mean_r2_all_gene_topmed <- topmed_annot %>% \n",
    "            filter(MAF_nfe_exome < m) %>% \n",
    "            group_by(Gene.refGene) %>% summarise(mean_r2 = mean(R2)) %>%\n",
    "            pull(mean_r2) %>% mean()\n",
    "        \n",
    "        mean_r2_all_gene_hrc <- hrc_annot %>% \n",
    "            filter(MAF_nfe_exome < m) %>% \n",
    "            group_by(Gene.refGene) %>% summarise(mean_r2 = mean(R2)) %>%\n",
    "            pull(mean_r2) %>% mean()\n",
    "        \n",
    "        mean_r2_sig_gene_topmed <- topmed_annot %>% \n",
    "            filter(MAF_nfe_exome < m, Gene.refGene %in% sig_gene_lst_topmed) %>% \n",
    "            group_by(Gene.refGene) %>% summarise(mean_r2 = mean(R2)) %>%\n",
    "            pull(mean_r2) %>% mean()\n",
    "        \n",
    "        mean_r2_sig_gene_hrc <- hrc_annot %>% \n",
    "            filter(MAF_nfe_exome < m, Gene.refGene %in% sig_gene_lst_hrc) %>% \n",
    "            group_by(Gene.refGene) %>% summarise(mean_r2 = mean(R2)) %>%\n",
    "            pull(mean_r2) %>% mean()\n",
    "        \n",
    "        sub_df <- data.frame(dataset = c(\"hrc\", \"topmed\"), prev = c(p, p), maf = c(m, m),\n",
    "                             r2 = c(sprintf(\"%.3f (%.3f)\", mean_r2_all_gene_hrc, mean_r2_sig_gene_hrc), \n",
    "                                    sprintf(\"%.3f (%.3f)\", mean_r2_all_gene_topmed, mean_r2_sig_gene_topmed)))\n",
    "        result_df <- rbind(result_df, sub_df)\n",
    "    }\n",
    "\n",
    "}\n",
    "result_df %>% arrange(dataset, prev, desc(maf))"
   ]
  },
  {
   "cell_type": "code",
   "execution_count": null,
   "id": "78848488-69ba-4e4c-8234-1824c2cc911f",
   "metadata": {
    "kernel": "SoS"
   },
   "outputs": [],
   "source": []
  }
 ],
 "metadata": {
  "kernelspec": {
   "display_name": "SoS",
   "language": "sos",
   "name": "sos"
  },
  "language_info": {
   "codemirror_mode": "sos",
   "file_extension": ".sos",
   "mimetype": "text/x-sos",
   "name": "sos",
   "nbconvert_exporter": "sos_notebook.converter.SoS_Exporter",
   "pygments_lexer": "sos"
  },
  "sos": {
   "kernels": [
    [
     "Bash",
     "calysto_bash",
     "Bash",
     "#E6EEFF",
     "shell"
    ],
    [
     "R",
     "ir",
     "R",
     "#DCDCDA",
     "r"
    ],
    [
     "SoS",
     "sos",
     "",
     "",
     "sos"
    ]
   ],
   "version": "0.24.3"
  }
 },
 "nbformat": 4,
 "nbformat_minor": 5
}

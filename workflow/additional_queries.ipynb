{
 "cells": [
  {
   "cell_type": "markdown",
   "id": "2209a232-67b6-4931-893e-3c516b892149",
   "metadata": {
    "kernel": "SoS",
    "tags": []
   },
   "source": [
    "# Additional Queries"
   ]
  },
  {
   "cell_type": "markdown",
   "id": "b1bfae23-5f17-4b91-b638-6492f8c7006e",
   "metadata": {
    "kernel": "SoS"
   },
   "source": [
    "This notebook records some additional queries we made in addition to the simulation"
   ]
  },
  {
   "cell_type": "markdown",
   "id": "90534419-b581-4a3f-b174-a60f73b82b40",
   "metadata": {
    "kernel": "SoS"
   },
   "source": [
    "## R2 v.s. r2\n",
    "\n",
    "We are interested in comparing the correlation between exome and imputed data (r2) versus the imputation quality of imputed data (R2). Since correlation can only be computed between the overlapped variant between exome sequence data and imputed data, we generated another set of files for each gene for overlapped variants only."
   ]
  },
  {
   "cell_type": "markdown",
   "id": "15f842b4-567b-4efb-b87a-f327c076449f",
   "metadata": {
    "kernel": "SoS"
   },
   "source": [
    "### Extract variants"
   ]
  },
  {
   "cell_type": "code",
   "execution_count": 1,
   "id": "7a9f21b2-d77c-4b1a-b5d3-d14e3fb8f684",
   "metadata": {
    "kernel": "R",
    "tags": []
   },
   "outputs": [
    {
     "name": "stderr",
     "output_type": "stream",
     "text": [
      "\n",
      "Attaching package: ‘dplyr’\n",
      "\n",
      "\n",
      "The following objects are masked from ‘package:stats’:\n",
      "\n",
      "    filter, lag\n",
      "\n",
      "\n",
      "The following objects are masked from ‘package:base’:\n",
      "\n",
      "    intersect, setdiff, setequal, union\n",
      "\n",
      "\n",
      "\n",
      "Attaching package: ‘data.table’\n",
      "\n",
      "\n",
      "The following objects are masked from ‘package:dplyr’:\n",
      "\n",
      "    between, first, last\n",
      "\n",
      "\n"
     ]
    }
   ],
   "source": [
    "library(dplyr)\n",
    "library(data.table)"
   ]
  },
  {
   "cell_type": "code",
   "execution_count": 3,
   "id": "20a9343e-5fee-4957-a5eb-b9efc01d8dec",
   "metadata": {
    "kernel": "R",
    "tags": []
   },
   "outputs": [
    {
     "data": {
      "text/html": [
       "<table class=\"dataframe\">\n",
       "<caption>A data.table: 6 × 21</caption>\n",
       "<thead>\n",
       "\t<tr><th scope=col>Chr</th><th scope=col>Start</th><th scope=col>End</th><th scope=col>Ref</th><th scope=col>Alt</th><th scope=col>Func.refGene</th><th scope=col>Gene.refGene</th><th scope=col>ExonicFunc.refGene</th><th scope=col>Function</th><th scope=col>MAF_nfe_exome</th><th scope=col>⋯</th><th scope=col>R2</th><th scope=col>R2_hrc</th><th scope=col>R2_topmed</th><th scope=col>R2_exome</th><th scope=col>ID</th><th scope=col>ID_hg38</th><th scope=col>ID_hg19</th><th scope=col>source</th><th scope=col>RawScore</th><th scope=col>PHRED</th></tr>\n",
       "\t<tr><th scope=col>&lt;int&gt;</th><th scope=col>&lt;int&gt;</th><th scope=col>&lt;int&gt;</th><th scope=col>&lt;chr&gt;</th><th scope=col>&lt;chr&gt;</th><th scope=col>&lt;chr&gt;</th><th scope=col>&lt;chr&gt;</th><th scope=col>&lt;chr&gt;</th><th scope=col>&lt;chr&gt;</th><th scope=col>&lt;dbl&gt;</th><th scope=col>⋯</th><th scope=col>&lt;dbl&gt;</th><th scope=col>&lt;dbl&gt;</th><th scope=col>&lt;dbl&gt;</th><th scope=col>&lt;int&gt;</th><th scope=col>&lt;chr&gt;</th><th scope=col>&lt;chr&gt;</th><th scope=col>&lt;chr&gt;</th><th scope=col>&lt;chr&gt;</th><th scope=col>&lt;dbl&gt;</th><th scope=col>&lt;dbl&gt;</th></tr>\n",
       "</thead>\n",
       "<tbody>\n",
       "\t<tr><td>1</td><td>930165</td><td>930165</td><td>G</td><td>A</td><td>exonic;splicing</td><td>SAMD11</td><td>nonsynonymous SNV</td><td>splicing</td><td>9.599e-05</td><td>⋯</td><td>0.767397</td><td>0.425596</td><td>0.767397</td><td>999</td><td>chr1:930165:G:A</td><td>chr1:930165:G:A</td><td>chr1:865545:G:A</td><td>exome</td><td>4.225333</td><td>28.900</td></tr>\n",
       "\t<tr><td>1</td><td>930204</td><td>930204</td><td>G</td><td>A</td><td>exonic         </td><td>SAMD11</td><td>nonsynonymous SNV</td><td>missense</td><td>6.548e-05</td><td>⋯</td><td>0.885662</td><td>0.584718</td><td>0.885662</td><td>999</td><td>chr1:930204:G:A</td><td>chr1:930204:G:A</td><td>chr1:865584:G:A</td><td>exome</td><td>2.879554</td><td>23.200</td></tr>\n",
       "\t<tr><td>1</td><td>930245</td><td>930245</td><td>G</td><td>A</td><td>exonic         </td><td>SAMD11</td><td>nonsynonymous SNV</td><td>missense</td><td>1.937e-05</td><td>⋯</td><td>0.806128</td><td>0.806128</td><td>0.324635</td><td>999</td><td>chr1:930245:G:A</td><td>chr1:930245:G:A</td><td>chr1:865625:G:A</td><td>exome</td><td>3.267428</td><td>24.000</td></tr>\n",
       "\t<tr><td>1</td><td>930248</td><td>930248</td><td>G</td><td>A</td><td>exonic         </td><td>SAMD11</td><td>nonsynonymous SNV</td><td>missense</td><td>5.300e-03</td><td>⋯</td><td>0.995155</td><td>0.995155</td><td>0.993817</td><td>999</td><td>chr1:930248:G:A</td><td>chr1:930248:G:A</td><td>chr1:865628:G:A</td><td>exome</td><td>2.363380</td><td>21.900</td></tr>\n",
       "\t<tr><td>1</td><td>930285</td><td>930285</td><td>G</td><td>A</td><td>exonic         </td><td>SAMD11</td><td>nonsynonymous SNV</td><td>missense</td><td>4.000e-04</td><td>⋯</td><td>0.724876</td><td>0.724876</td><td>0.615333</td><td>999</td><td>chr1:930285:G:A</td><td>chr1:930285:G:A</td><td>chr1:865665:G:A</td><td>exome</td><td>0.091394</td><td> 2.015</td></tr>\n",
       "\t<tr><td>1</td><td>930314</td><td>930314</td><td>C</td><td>T</td><td>exonic         </td><td>SAMD11</td><td>nonsynonymous SNV</td><td>missense</td><td>8.000e-04</td><td>⋯</td><td>0.798359</td><td>0.798359</td><td>0.782097</td><td>999</td><td>chr1:930314:C:T</td><td>chr1:930314:C:T</td><td>chr1:865694:C:T</td><td>exome</td><td>2.481464</td><td>22.400</td></tr>\n",
       "</tbody>\n",
       "</table>\n"
      ],
      "text/latex": [
       "A data.table: 6 × 21\n",
       "\\begin{tabular}{lllllllllllllllllllll}\n",
       " Chr & Start & End & Ref & Alt & Func.refGene & Gene.refGene & ExonicFunc.refGene & Function & MAF\\_nfe\\_exome & ⋯ & R2 & R2\\_hrc & R2\\_topmed & R2\\_exome & ID & ID\\_hg38 & ID\\_hg19 & source & RawScore & PHRED\\\\\n",
       " <int> & <int> & <int> & <chr> & <chr> & <chr> & <chr> & <chr> & <chr> & <dbl> & ⋯ & <dbl> & <dbl> & <dbl> & <int> & <chr> & <chr> & <chr> & <chr> & <dbl> & <dbl>\\\\\n",
       "\\hline\n",
       "\t 1 & 930165 & 930165 & G & A & exonic;splicing & SAMD11 & nonsynonymous SNV & splicing & 9.599e-05 & ⋯ & 0.767397 & 0.425596 & 0.767397 & 999 & chr1:930165:G:A & chr1:930165:G:A & chr1:865545:G:A & exome & 4.225333 & 28.900\\\\\n",
       "\t 1 & 930204 & 930204 & G & A & exonic          & SAMD11 & nonsynonymous SNV & missense & 6.548e-05 & ⋯ & 0.885662 & 0.584718 & 0.885662 & 999 & chr1:930204:G:A & chr1:930204:G:A & chr1:865584:G:A & exome & 2.879554 & 23.200\\\\\n",
       "\t 1 & 930245 & 930245 & G & A & exonic          & SAMD11 & nonsynonymous SNV & missense & 1.937e-05 & ⋯ & 0.806128 & 0.806128 & 0.324635 & 999 & chr1:930245:G:A & chr1:930245:G:A & chr1:865625:G:A & exome & 3.267428 & 24.000\\\\\n",
       "\t 1 & 930248 & 930248 & G & A & exonic          & SAMD11 & nonsynonymous SNV & missense & 5.300e-03 & ⋯ & 0.995155 & 0.995155 & 0.993817 & 999 & chr1:930248:G:A & chr1:930248:G:A & chr1:865628:G:A & exome & 2.363380 & 21.900\\\\\n",
       "\t 1 & 930285 & 930285 & G & A & exonic          & SAMD11 & nonsynonymous SNV & missense & 4.000e-04 & ⋯ & 0.724876 & 0.724876 & 0.615333 & 999 & chr1:930285:G:A & chr1:930285:G:A & chr1:865665:G:A & exome & 0.091394 &  2.015\\\\\n",
       "\t 1 & 930314 & 930314 & C & T & exonic          & SAMD11 & nonsynonymous SNV & missense & 8.000e-04 & ⋯ & 0.798359 & 0.798359 & 0.782097 & 999 & chr1:930314:C:T & chr1:930314:C:T & chr1:865694:C:T & exome & 2.481464 & 22.400\\\\\n",
       "\\end{tabular}\n"
      ],
      "text/markdown": [
       "\n",
       "A data.table: 6 × 21\n",
       "\n",
       "| Chr &lt;int&gt; | Start &lt;int&gt; | End &lt;int&gt; | Ref &lt;chr&gt; | Alt &lt;chr&gt; | Func.refGene &lt;chr&gt; | Gene.refGene &lt;chr&gt; | ExonicFunc.refGene &lt;chr&gt; | Function &lt;chr&gt; | MAF_nfe_exome &lt;dbl&gt; | ⋯ ⋯ | R2 &lt;dbl&gt; | R2_hrc &lt;dbl&gt; | R2_topmed &lt;dbl&gt; | R2_exome &lt;int&gt; | ID &lt;chr&gt; | ID_hg38 &lt;chr&gt; | ID_hg19 &lt;chr&gt; | source &lt;chr&gt; | RawScore &lt;dbl&gt; | PHRED &lt;dbl&gt; |\n",
       "|---|---|---|---|---|---|---|---|---|---|---|---|---|---|---|---|---|---|---|---|---|\n",
       "| 1 | 930165 | 930165 | G | A | exonic;splicing | SAMD11 | nonsynonymous SNV | splicing | 9.599e-05 | ⋯ | 0.767397 | 0.425596 | 0.767397 | 999 | chr1:930165:G:A | chr1:930165:G:A | chr1:865545:G:A | exome | 4.225333 | 28.900 |\n",
       "| 1 | 930204 | 930204 | G | A | exonic          | SAMD11 | nonsynonymous SNV | missense | 6.548e-05 | ⋯ | 0.885662 | 0.584718 | 0.885662 | 999 | chr1:930204:G:A | chr1:930204:G:A | chr1:865584:G:A | exome | 2.879554 | 23.200 |\n",
       "| 1 | 930245 | 930245 | G | A | exonic          | SAMD11 | nonsynonymous SNV | missense | 1.937e-05 | ⋯ | 0.806128 | 0.806128 | 0.324635 | 999 | chr1:930245:G:A | chr1:930245:G:A | chr1:865625:G:A | exome | 3.267428 | 24.000 |\n",
       "| 1 | 930248 | 930248 | G | A | exonic          | SAMD11 | nonsynonymous SNV | missense | 5.300e-03 | ⋯ | 0.995155 | 0.995155 | 0.993817 | 999 | chr1:930248:G:A | chr1:930248:G:A | chr1:865628:G:A | exome | 2.363380 | 21.900 |\n",
       "| 1 | 930285 | 930285 | G | A | exonic          | SAMD11 | nonsynonymous SNV | missense | 4.000e-04 | ⋯ | 0.724876 | 0.724876 | 0.615333 | 999 | chr1:930285:G:A | chr1:930285:G:A | chr1:865665:G:A | exome | 0.091394 |  2.015 |\n",
       "| 1 | 930314 | 930314 | C | T | exonic          | SAMD11 | nonsynonymous SNV | missense | 8.000e-04 | ⋯ | 0.798359 | 0.798359 | 0.782097 | 999 | chr1:930314:C:T | chr1:930314:C:T | chr1:865694:C:T | exome | 2.481464 | 22.400 |\n",
       "\n"
      ],
      "text/plain": [
       "  Chr Start  End    Ref Alt Func.refGene    Gene.refGene ExonicFunc.refGene\n",
       "1 1   930165 930165 G   A   exonic;splicing SAMD11       nonsynonymous SNV \n",
       "2 1   930204 930204 G   A   exonic          SAMD11       nonsynonymous SNV \n",
       "3 1   930245 930245 G   A   exonic          SAMD11       nonsynonymous SNV \n",
       "4 1   930248 930248 G   A   exonic          SAMD11       nonsynonymous SNV \n",
       "5 1   930285 930285 G   A   exonic          SAMD11       nonsynonymous SNV \n",
       "6 1   930314 930314 C   T   exonic          SAMD11       nonsynonymous SNV \n",
       "  Function MAF_nfe_exome ⋯ R2       R2_hrc   R2_topmed R2_exome ID             \n",
       "1 splicing 9.599e-05     ⋯ 0.767397 0.425596 0.767397  999      chr1:930165:G:A\n",
       "2 missense 6.548e-05     ⋯ 0.885662 0.584718 0.885662  999      chr1:930204:G:A\n",
       "3 missense 1.937e-05     ⋯ 0.806128 0.806128 0.324635  999      chr1:930245:G:A\n",
       "4 missense 5.300e-03     ⋯ 0.995155 0.995155 0.993817  999      chr1:930248:G:A\n",
       "5 missense 4.000e-04     ⋯ 0.724876 0.724876 0.615333  999      chr1:930285:G:A\n",
       "6 missense 8.000e-04     ⋯ 0.798359 0.798359 0.782097  999      chr1:930314:C:T\n",
       "  ID_hg38         ID_hg19         source RawScore PHRED \n",
       "1 chr1:930165:G:A chr1:865545:G:A exome  4.225333 28.900\n",
       "2 chr1:930204:G:A chr1:865584:G:A exome  2.879554 23.200\n",
       "3 chr1:930245:G:A chr1:865625:G:A exome  3.267428 24.000\n",
       "4 chr1:930248:G:A chr1:865628:G:A exome  2.363380 21.900\n",
       "5 chr1:930285:G:A chr1:865665:G:A exome  0.091394  2.015\n",
       "6 chr1:930314:C:T chr1:865694:C:T exome  2.481464 22.400"
      ]
     },
     "metadata": {},
     "output_type": "display_data"
    }
   ],
   "source": [
    "df <- data.table::fread(\"~/project/imputation-rvtest/analysis/imputation_aggregated_analysis/hrc_topmed_exome/hrc_topmed_exome_168206ids_rsq03_maf001_annot.csv.gz\")\n",
    "head(df)"
   ]
  },
  {
   "cell_type": "code",
   "execution_count": 5,
   "id": "666c909d-65f3-4783-9993-6179aa7ab013",
   "metadata": {
    "kernel": "R",
    "tags": []
   },
   "outputs": [],
   "source": [
    "setwd(\"~/project/imputation-rvtest/workflows/imputation_aggregated_analysis/gene/overlap/scripts\")\n",
    "for(c in c(1,2)){\n",
    "    for(maf in c(0.001, 0.005, 0.01)){\n",
    "        if(maf == 0.001) {\n",
    "            df1 <- df %>% filter(MAF_nfe_exome < 0.001 | is.na(MAF_nfe_exome))\n",
    "        } else if (maf == 0.005) {\n",
    "            df1 <- df %>% filter(MAF_nfe_exome >= 0.001 & MAF_nfe_exome < 0.005)\n",
    "        } else {\n",
    "            df1 <- df %>% filter(MAF_nfe_exome >= 0.005 & MAF_nfe_exome < 0.01)\n",
    "        }\n",
    "        \n",
    "        topmed <- df1 %>% filter(Chr == c, R2_topmed != 0, R2_exome == 999)\n",
    "        hrc <- df1 %>% filter(Chr == c, R2_hrc != 0, R2_exome == 999)\n",
    "        \n",
    "        counter = 0\n",
    "        for(i in seq(1, nrow(topmed), 5000)){\n",
    "            counter = counter + 1\n",
    "            if(i+4999 > nrow(topmed)) end = nrow(topmed) else end = i+4999\n",
    "            \n",
    "            topmed[c(i:end),] %>% \n",
    "                select(ID_hg38) %>% \n",
    "                fwrite(sprintf(\"exome_topmed_ES_chr%i_maf%s_batch%i.txt\", c, gsub('\\\\.', '', as.character(maf)), counter), col.names = FALSE)\n",
    "\n",
    "            topmed[c(i:end),] %>% \n",
    "                select(ID_hg38) %>% \n",
    "                fwrite(sprintf(\"exome_topmed_TP_chr%i_maf%s_batch%i.txt\", c, gsub('\\\\.', '', as.character(maf)), counter), col.names = FALSE)\n",
    "        }\n",
    "        \n",
    "        counter = 0\n",
    "        for(i in seq(1, nrow(hrc), 5000)){\n",
    "            counter = counter + 1\n",
    "            if(i+4999 > nrow(hrc)) end = nrow(hrc) else end = i+4999\n",
    "                \n",
    "            hrc[c(i:end),] %>% \n",
    "                select(ID_hg38) %>% \n",
    "                fwrite(sprintf(\"exome_hrc_ES_chr%i_maf%s_batch%i.txt\", c, gsub('\\\\.', '', as.character(maf)), counter), col.names = FALSE)\n",
    "            hrc[c(i:end),] %>% \n",
    "                select(ID_hg19) %>% \n",
    "                fwrite(sprintf(\"exome_hrc_HRC_chr%i_maf%s_batch%i.txt\", c, gsub('\\\\.', '', as.character(maf)), counter), col.names = FALSE)\n",
    "        }        \n",
    "    }\n",
    "}"
   ]
  },
  {
   "cell_type": "code",
   "execution_count": 8,
   "id": "08c84cc8-b4ce-4197-abd5-47c50df9b104",
   "metadata": {
    "kernel": "Bash",
    "tags": []
   },
   "outputs": [],
   "source": [
    "for chr in 1 2; do\n",
    "    for maf in 0001 0005 001; do\n",
    "        for dt in ES HRC; do\n",
    "            extract_prefix='exome_hrc_'$dt'_chr'$chr'_maf'$maf'_batch'\n",
    "            num_batch=$(ls $extract_prefix*'.txt'|wc -l)\n",
    "            \n",
    "            for ((i=1; i<=$num_batch; i++)); do\n",
    "                script_name='/home/tl3031/project/imputation-rvtest/analysis/imputation_aggregated_analysis/correlation/script/'$extract_prefix$i'.sh'\n",
    "                out_name='/home/tl3031/project/imputation-rvtest/analysis/imputation_aggregated_analysis/correlation/script/output/'$extract_prefix$i'.out'\n",
    "                \n",
    "                if [ \"${dt}\" = \"ES\" ]; then\n",
    "                  bfile='/home/tl3031/project/imputation-rvtest/analysis/imputation_aggregated_analysis/exome/ukb23156_c'$chr'_maf001_LOF_missense_extracted'\n",
    "                  plink_module='module load Plink/1.9.10'\n",
    "                  plink_command='plink --bfile '$bfile' --extract '$extract_prefix$i'.txt --make-bed --out '$extract_prefix$i\n",
    "                else\n",
    "                  bfile='/home/tl3031/project/imputation-rvtest/analysis/imputation_aggregated_analysis/hrc/hrc_chr'$chr'_rsq03_maf001_LOF_missense_extracted'\n",
    "                  plink_module='module load Plink/2.00a'\n",
    "                  plink_command='plink2 --bpfile '$bfile' --extract '$extract_prefix$i'.txt --make-bpgen --export A-transpose --out '$extract_prefix$i >> $script_name\n",
    "                fi\n",
    "\n",
    "                echo '#!/bin/bash' > $script_name\n",
    "                echo '#$ -N' $extract_prefix >> $script_name\n",
    "                echo '#$ -l h_vmem=10G' >> $script_name\n",
    "                echo '#$ -l h_rt=600:00:00' >> $script_name\n",
    "                echo '#$ -o /home/tl3031/project/imputation-rvtest/analysis/imputation_aggregated_analysis/correlation/script/'$extract_prefix$i'_'$JOB_ID'.out' >> $script_name\n",
    "                echo '#$ -e /home/tl3031/project/imputation-rvtest/analysis/imputation_aggregated_analysis/correlation/script/'$extract_prefix$i'_'$JOB_ID'.err' >> $script_name\n",
    "                echo '#$ -q csg.q' >> $script_name\n",
    "                echo '#$ -j y' >> $script_name\n",
    "                echo '#$ -S /bin/bash' >> $script_name\n",
    "                echo 'export PATH=$HOME/miniconda3/bin:$PATH' >> $script_name\n",
    "                echo $plink_module >> $script_name\n",
    "                echo 'cd /home/tl3031/project/imputation-rvtest/analysis/imputation_aggregated_analysis/correlation' >> $script_name\n",
    "                echo $plink_command >> $script_name\n",
    "                echo 'echo \"Number of variants in bim file:\" >> '$out_name >> $script_name\n",
    "                echo 'wc -l' $extract_prefix$i'.bim >> '$out_name >> $script_name\n",
    "                echo 'echo \"Number of variants in extract file:\" >> '$out_name >> $script_name\n",
    "                echo 'wc -l '$extract_prefix$i'.txt >> '$out_name >> $script_name\n",
    "            done\n",
    "        done\n",
    "    done\n",
    "done"
   ]
  },
  {
   "cell_type": "code",
   "execution_count": null,
   "id": "795d5b50-1602-4df5-a258-9b5b4423f9df",
   "metadata": {
    "kernel": "Bash",
    "tags": []
   },
   "outputs": [],
   "source": [
    "for chr in 1 2; do\n",
    "    for maf in 0001 0005 001; do\n",
    "        for dt in ES TP; do\n",
    "            extract_prefix='exome_topmed_'$dt'_chr'$chr'_maf'$maf'_batch'\n",
    "            num_batch=$(ls $extract_prefix*'.txt'|wc -l)\n",
    "            \n",
    "            for ((i=1; i<=$num_batch; i++)); do\n",
    "                script_name='/home/tl3031/project/imputation-rvtest/analysis/imputation_aggregated_analysis/correlation/script/'$extract_prefix$i'.sh'\n",
    "                out_name='/home/tl3031/project/imputation-rvtest/analysis/imputation_aggregated_analysis/correlation/script/output/'$extract_prefix$i'.out'\n",
    "                \n",
    "                if [ \"${dt}\" = \"ES\" ]; then\n",
    "                  bfile='/home/tl3031/project/imputation-rvtest/analysis/imputation_aggregated_analysis/exome/ukb23156_c'$chr'_maf001_LOF_missense_extracted'\n",
    "                  plink_module='module load Plink/1.9.10'\n",
    "                  plink_command='plink --bfile '$bfile' --extract '$extract_prefix$i'.txt --make-bed --out '$extract_prefix$i\n",
    "                else\n",
    "                  bfile='/home/tl3031/project/imputation-rvtest/analysis/imputation_aggregated_analysis/topmed/topmed_chr'$chr'_rsq03_maf001_LOF_missense_extracted'\n",
    "                  plink_module='module load Plink/2.00a'\n",
    "                  plink_command='plink2 --bpfile '$bfile' --extract '$extract_prefix$i'.txt --make-bpgen --export A-transpose --out '$extract_prefix$i >> $script_name\n",
    "                fi\n",
    "\n",
    "                echo '#!/bin/bash' > $script_name\n",
    "                echo '#$ -N' $extract_prefix >> $script_name\n",
    "                echo '#$ -l h_vmem=10G' >> $script_name\n",
    "                echo '#$ -l h_rt=600:00:00' >> $script_name\n",
    "                echo '#$ -o /home/tl3031/project/imputation-rvtest/analysis/imputation_aggregated_analysis/correlation/script/'$extract_prefix$i'_'$JOB_ID'.out' >> $script_name\n",
    "                echo '#$ -e /home/tl3031/project/imputation-rvtest/analysis/imputation_aggregated_analysis/correlation/script/'$extract_prefix$i'_'$JOB_ID'.err' >> $script_name\n",
    "                echo '#$ -q csg.q' >> $script_name\n",
    "                echo '#$ -j y' >> $script_name\n",
    "                echo '#$ -S /bin/bash' >> $script_name\n",
    "                echo 'export PATH=$HOME/miniconda3/bin:$PATH' >> $script_name\n",
    "                echo $plink_module >> $script_name\n",
    "                echo 'cd /home/tl3031/project/imputation-rvtest/analysis/imputation_aggregated_analysis/correlation' >> $script_name\n",
    "                echo $plink_command >> $script_name\n",
    "                echo 'echo \"Number of variants in bim file:\" >> '$out_name >> $script_name\n",
    "                echo 'wc -l' $extract_prefix$i'.bim >> '$out_name >> $script_name\n",
    "                echo 'echo \"Number of variants in extract file:\" >> '$out_name >> $script_name\n",
    "                echo 'wc -l '$extract_prefix$i'.txt >> '$out_name >> $script_name\n",
    "            done\n",
    "        done\n",
    "    done\n",
    "done"
   ]
  },
  {
   "cell_type": "markdown",
   "id": "3c231db7-68ca-4389-b6c8-c4620810156a",
   "metadata": {
    "kernel": "SoS"
   },
   "source": [
    "### Calculate correlation"
   ]
  },
  {
   "cell_type": "code",
   "execution_count": 10,
   "id": "6479d338-c431-46f3-8db1-ba3010228683",
   "metadata": {
    "kernel": "Bash",
    "tags": []
   },
   "outputs": [
    {
     "name": "stdout",
     "output_type": "stream",
     "text": [
      "/home/tl3031/project/imputation-rvtest/workflows/imputation_aggregated_analysis/gene/overlap/scripts\n"
     ]
    }
   ],
   "source": [
    "pwd"
   ]
  },
  {
   "cell_type": "code",
   "execution_count": 11,
   "id": "3ccc30dc-15ad-4cf6-ba5f-eeabb8579106",
   "metadata": {
    "kernel": "Bash",
    "tags": []
   },
   "outputs": [],
   "source": [
    "script_dir=\"/mnt/vast/hpc/csg/tl3031/imputation-rvtest/analysis/imputation_aggregated_analysis/correlation/script/\"\n",
    "rm $script_dir*'corr'*'.sh'\n",
    "rm $script_dir*'corr'*'.out'\n",
    "\n",
    "for chr in 1 2; do\n",
    "    for maf in 0001 0005 001; doscript_dir=\"/mnt/vast/hpc/csg/tl3031/imputation-rvtest/analysis/imputation_aggregated_analysis/correlation/script/\"\n",
    "rm $script_dir*'corr'*'.sh'\n",
    "rm $script_dir*'corr'*'.out'\n",
    "\n",
    "for chr in 1 2; do\n",
    "    for maf in 0001 0005 001; do\n",
    "        for dt in HRC TP; do\n",
    "            if [ \"${dt}\" = \"HRC\" ]; then\n",
    "                prefix='exome_hrc'\n",
    "            else\n",
    "                prefix='exome_topmed'\n",
    "            fi\n",
    "            \n",
    "            exome_prefix=$prefix'_ES_chr'$chr'_maf'$maf'_batch'\n",
    "            imputed_prefix=$prefix'_'$dt'_chr'$chr'_maf'$maf'_batch'\n",
    "            num_batch=$(ls $imputed_prefix*'.txt' | wc -l)\n",
    "            \n",
    "            for ((i=1; i<=$num_batch; i++)); do\n",
    "                script_name=$script_dir$prefix'_chr'$chr'_maf'$maf'_corr_batch'$i'.sh'\n",
    "                out_name=$script_dir'output/'$prefix'_chr'$chr'_maf'$maf'_corr_batch'$i'.out'\n",
    "                command='Rscript '$script_dir'calc_corr.R '$exome_prefix$i' '$imputed_prefix$i' '$prefix'_chr'$chr'_maf'$maf'_corr_batch'$i'.csv '$dt\n",
    "                echo '#!/bin/bash' >> $script_name\n",
    "                echo '#$ -N' $prefix'_chr'$chr'_maf'$maf'_corr_batch'$i >> $script_name\n",
    "                echo '#$ -l h_vmem=80G' >> $script_name\n",
    "                echo '#$ -l h_rt=600:00:00' >> $script_name\n",
    "                echo '#$ -o /home/tl3031/project/imputation-rvtest/analysis/imputation_aggregated_analysis/correlation/script/'$prefix'_chr'$chr'_maf'$maf'_corr_batch'$i'_'$JOB_ID'.out' >> $script_name\n",
    "                echo '#$ -e /home/tl3031/project/imputation-rvtest/analysis/imputation_aggregated_analysis/correlation/script/'$prefix'_chr'$chr'_maf'$maf'_corr_batch'$i'_'$JOB_ID'.err' >> $script_name\n",
    "                echo '#$ -q csg.q' >> $script_name\n",
    "                echo '#$ -j y' >> $script_name\n",
    "                echo 'export PATH=$HOME/miniconda3/bin:$PATH' >> $script_name\n",
    "                echo 'module load R/4.2.2.10' >> $script_name\n",
    "                echo 'cd /home/tl3031/project/imputation-rvtest/analysis/imputation_aggregated_analysis/correlation' >> $script_name\n",
    "                echo $command >> $script_name\n",
    "                echo 'echo \"Number of variants in bim file:\" >> '$out_name >> $script_name\n",
    "                echo 'wc -l' $exome_prefix$i'.bim >> '$out_name >> $script_name\n",
    "                echo 'echo \"Number of variants in correlation file:\" >> '$out_name >> $script_name\n",
    "                echo 'wc -l '$prefix'_chr'$chr'_maf'$maf'_corr_batch'$i'.csv >> '$out_name >> $script_name\n",
    "            done\n",
    "        done\n",
    "    done\n",
    "done\n",
    "        for dt in HRC TP; do\n",
    "            if [ \"${dt}\" = \"HRC\" ]; then\n",
    "                prefix='exome_hrc'\n",
    "            else\n",
    "                prefix='exome_topmed'\n",
    "            fi\n",
    "            \n",
    "            exome_prefix=$prefix'_ES_chr'$chr'_maf'$maf'_batch'\n",
    "            imputed_prefix=$prefix'_'$dt'_chr'$chr'_maf'$maf'_batch'\n",
    "            num_batch=$(ls $imputed_prefix*'.txt' | wc -l)\n",
    "            \n",
    "            for ((i=1; i<=$num_batch; i++)); do\n",
    "                script_name=$script_dir$prefix'_chr'$chr'_maf'$maf'_corr_batch'$i'.sh'\n",
    "                out_name=$script_dir'output/'$prefix'_chr'$chr'_maf'$maf'_corr_batch'$i'.out'\n",
    "                command='Rscript '$script_dir'calc_corr.R '$exome_prefix$i' '$imputed_prefix$i' '$prefix'_chr'$chr'_maf'$maf'_corr_batch'$i'.csv '$dt\n",
    "                echo '#!/bin/bash' >> $script_name\n",
    "                echo '#$ -N' $prefix'_chr'$chr'_maf'$maf'_corr_batch'$i >> $script_name\n",
    "                echo '#$ -l h_vmem=80G' >> $script_name\n",
    "                echo '#$ -l h_rt=600:00:00' >> $script_name\n",
    "                echo '#$ -o /home/tl3031/project/imputation-rvtest/analysis/imputation_aggregated_analysis/correlation/script/'$prefix'_chr'$chr'_maf'$maf'_corr_batch'$i'_'$JOB_ID'.out' >> $script_name\n",
    "                echo '#$ -e /home/tl3031/project/imputation-rvtest/analysis/imputation_aggregated_analysis/correlation/script/'$prefix'_chr'$chr'_maf'$maf'_corr_batch'$i'_'$JOB_ID'.err' >> $script_name\n",
    "                echo '#$ -q csg.q' >> $script_name\n",
    "                echo '#$ -j y' >> $script_name\n",
    "                echo 'export PATH=$HOME/miniconda3/bin:$PATH' >> $script_name\n",
    "                echo 'module load R/4.2.2.10' >> $script_name\n",
    "                echo 'cd /home/tl3031/project/imputation-rvtest/analysis/imputation_aggregated_analysis/correlation' >> $script_name\n",
    "                echo $command >> $script_name\n",
    "                echo 'echo \"Number of variants in bim file:\" >> '$out_name >> $script_name\n",
    "                echo 'wc -l' $exome_prefix$i'.bim >> '$out_name >> $script_name\n",
    "                echo 'echo \"Number of variants in correlation file:\" >> '$out_name >> $script_name\n",
    "                echo 'wc -l '$prefix'_chr'$chr'_maf'$maf'_corr_batch'$i'.csv >> '$out_name >> $script_name\n",
    "            done\n",
    "        done\n",
    "    done\n",
    "done"
   ]
  },
  {
   "cell_type": "markdown",
   "id": "7795805e-7574-447c-b4b6-9d80222d1536",
   "metadata": {
    "kernel": "R"
   },
   "source": [
    "## Check correlation and Rsq"
   ]
  },
  {
   "cell_type": "code",
   "execution_count": 12,
   "id": "1fff9171-3cd3-42ba-8954-867e464b3968",
   "metadata": {
    "kernel": "R",
    "tags": []
   },
   "outputs": [
    {
     "data": {
      "text/html": [
       "<style>\n",
       ".list-inline {list-style: none; margin:0; padding: 0}\n",
       ".list-inline>li {display: inline-block}\n",
       ".list-inline>li:not(:last-child)::after {content: \"\\00b7\"; padding: 0 .5ex}\n",
       "</style>\n",
       "<ol class=list-inline><li>204842</li><li>4</li></ol>\n"
      ],
      "text/latex": [
       "\\begin{enumerate*}\n",
       "\\item 204842\n",
       "\\item 4\n",
       "\\end{enumerate*}\n"
      ],
      "text/markdown": [
       "1. 204842\n",
       "2. 4\n",
       "\n",
       "\n"
      ],
      "text/plain": [
       "[1] 204842      4"
      ]
     },
     "metadata": {},
     "output_type": "display_data"
    }
   ],
   "source": [
    "fname_lst <- list.files(\"/home/tl3031/project/imputation-rvtest/analysis/imputation_aggregated_analysis/correlation\", pattern = \".csv\", full.names = TRUE)\n",
    "\n",
    "corr_df <- data.frame(matrix(ncol = 4, nrow = 0))\n",
    "colnames(corr_df) <- c(\"snp_id\", \"corr\", \"rsq\", \"dataset\")\n",
    "for(i in fname_lst){\n",
    "    dataset <- case_when(\n",
    "        grepl(\"hrc\", i, fixed = TRUE) & grepl(\"maf001\", i, fixed = TRUE) ~ \"hrc_maf001\",\n",
    "        grepl(\"hrc\", i, fixed = TRUE) & grepl(\"maf0005\", i, fixed = TRUE) ~ \"hrc_maf0005\",\n",
    "        grepl(\"hrc\", i, fixed = TRUE) & grepl(\"maf0001\", i, fixed = TRUE) ~ \"hrc_maf0001\",\n",
    "        grepl(\"topmed\", i, fixed = TRUE) & grepl(\"maf001\", i, fixed = TRUE) ~ \"topmed_maf001\",\n",
    "        grepl(\"topmed\", i, fixed = TRUE) & grepl(\"maf0005\", i, fixed = TRUE) ~ \"topmed_maf0005\",\n",
    "        grepl(\"topmed\", i, fixed = TRUE) & grepl(\"maf0001\", i, fixed = TRUE) ~ \"topmed_maf0001\",\n",
    "    )\n",
    "    \n",
    "    dataset_corr_df <- fread(i) %>% mutate(dataset = dataset)\n",
    "    corr_df <- rbind(corr_df, dataset_corr_df)\n",
    "}\n",
    "\n",
    "dim(corr_df)"
   ]
  },
  {
   "cell_type": "code",
   "execution_count": 13,
   "id": "b5a2b373-1e11-408a-ad57-4eb51b226fe5",
   "metadata": {
    "kernel": "R",
    "tags": []
   },
   "outputs": [],
   "source": [
    "hrc_corr_df <- corr_df %>% filter(stringr::str_detect(dataset, \"hrc_maf\")) %>% select(snpid, corr) %>% rename(corr_hrc = corr)\n",
    "topmed_corr_df <- corr_df %>% filter(stringr::str_detect(dataset, \"topmed_maf\")) %>% select(snpid, corr) %>% rename(corr_topmed = corr)"
   ]
  },
  {
   "cell_type": "code",
   "execution_count": 14,
   "id": "22e78670-7cbb-4eec-807f-d6b01ee616b2",
   "metadata": {
    "kernel": "R",
    "tags": []
   },
   "outputs": [],
   "source": [
    "hrc_topmed_df <- left_join(df, hrc_corr_df, by = c(\"ID_hg38\" = \"snpid\"))\n",
    "hrc_topmed_df <- left_join(hrc_topmed_df, topmed_corr_df, by = c(\"ID_hg38\" = \"snpid\"))\n",
    "hrc_topmed_df <- hrc_topmed_df %>% \n",
    "    filter(R2 != 0) %>%\n",
    "    mutate(maf_cat = case_when(is.na(MAF_nfe_exome) | MAF_nfe_exome < 0.001 ~ \"MAF < 0.001\",\n",
    "                               MAF_nfe_exome >= 0.001 & MAF_nfe_exome < 0.005 ~ \"0.001 <= MAF < 0.005\",\n",
    "                               MAF_nfe_exome >= 0.005 & MAF_nfe_exome < 0.01 ~ \"0.005 <= MAF < 0.01\")) %>%\n",
    "    group_by(maf_cat)"
   ]
  },
  {
   "cell_type": "code",
   "execution_count": 15,
   "id": "9fe5b3a0-92c6-4c59-9da5-5c4f5e88e997",
   "metadata": {
    "kernel": "R",
    "tags": []
   },
   "outputs": [],
   "source": [
    "hrc_topmed_df <- hrc_topmed_df %>% \n",
    "    mutate(corr_hrc = ifelse(is.na(corr_hrc), 0, corr_hrc),\n",
    "           corr_topmed = ifelse(is.na(corr_topmed), 0, corr_topmed)) %>%\n",
    "    mutate(corr = ifelse(corr_hrc > corr_topmed, corr_hrc, corr_topmed),\n",
    "           corr_source = ifelse(corr_hrc > corr_topmed, \"HRC\", \"TOPMed\")) "
   ]
  },
  {
   "cell_type": "code",
   "execution_count": 16,
   "id": "b2ef2c6d-1a67-451d-b18f-f3e7c4bce252",
   "metadata": {
    "kernel": "R",
    "tags": []
   },
   "outputs": [],
   "source": [
    "hrc_summary <- df %>% \n",
    "    filter(R2_hrc != 0) %>% \n",
    "    mutate(maf_cat = case_when(is.na(MAF_nfe_exome) | MAF_nfe_exome < 0.001 ~ \"MAF < 0.001\",\n",
    "                               MAF_nfe_exome >= 0.001 & MAF_nfe_exome < 0.005 ~ \"0.001 <= MAF < 0.005\",\n",
    "                               MAF_nfe_exome >= 0.005 & MAF_nfe_exome < 0.01 ~ \"0.005 <= MAF < 0.01\")) %>%\n",
    "    group_by(maf_cat) %>%\n",
    "    summarise(\n",
    "        R2_mean = mean(R2_hrc),\n",
    "        R2_std = sd(R2_hrc),\n",
    "        R2_count = n()\n",
    "    ) %>%\n",
    "    mutate(maf_cat = factor(maf_cat, levels = c(\"MAF < 0.001\", \"0.001 <= MAF < 0.005\", \"0.005 <= MAF < 0.01\")),\n",
    "          data = \"HRC\") %>% \n",
    "    arrange(maf_cat)"
   ]
  },
  {
   "cell_type": "code",
   "execution_count": 17,
   "id": "09d6babe-8997-47b1-ad3a-198e624bcb7d",
   "metadata": {
    "kernel": "R",
    "tags": []
   },
   "outputs": [],
   "source": [
    "topmed_summary <- df %>% \n",
    "    filter(R2_topmed != 0) %>% \n",
    "    mutate(maf_cat = case_when(is.na(MAF_nfe_exome) | MAF_nfe_exome < 0.001 ~ \"MAF < 0.001\",\n",
    "                               MAF_nfe_exome >= 0.001 & MAF_nfe_exome < 0.005 ~ \"0.001 <= MAF < 0.005\",\n",
    "                               MAF_nfe_exome >= 0.005 & MAF_nfe_exome < 0.01 ~ \"0.005 <= MAF < 0.01\")) %>%\n",
    "    group_by(maf_cat) %>%\n",
    "    summarise(\n",
    "        R2_mean = mean(R2_topmed),\n",
    "        R2_std = sd(R2_topmed),\n",
    "        R2_count = n()\n",
    "    ) %>%\n",
    "    mutate(maf_cat = factor(maf_cat, levels = c(\"MAF < 0.001\", \"0.001 <= MAF < 0.005\", \"0.005 <= MAF < 0.01\")),\n",
    "          data = \"TOPMed\") %>% \n",
    "    arrange(maf_cat)"
   ]
  },
  {
   "cell_type": "code",
   "execution_count": 24,
   "id": "b58b5dbe-cd1f-47b2-95ba-a4b9e239938c",
   "metadata": {
    "kernel": "R",
    "tags": []
   },
   "outputs": [
    {
     "data": {
      "text/html": [
       "<table class=\"dataframe\">\n",
       "<caption>A tibble: 6 × 6</caption>\n",
       "<thead>\n",
       "\t<tr><th scope=col>maf_cat</th><th scope=col>R2_mean</th><th scope=col>R2_std</th><th scope=col>R2_count</th><th scope=col>data</th><th scope=col>R2_se</th></tr>\n",
       "\t<tr><th scope=col>&lt;fct&gt;</th><th scope=col>&lt;dbl&gt;</th><th scope=col>&lt;dbl&gt;</th><th scope=col>&lt;int&gt;</th><th scope=col>&lt;chr&gt;</th><th scope=col>&lt;dbl&gt;</th></tr>\n",
       "</thead>\n",
       "<tbody>\n",
       "\t<tr><td><span style=white-space:pre-wrap>MAF &lt; 0.001         </span></td><td>0.68907</td><td>0.200122</td><td> 28538</td><td><span style=white-space:pre-wrap>HRC   </span></td><td>0.00118463</td></tr>\n",
       "\t<tr><td>0.001 &lt;= MAF &lt; 0.005</td><td>0.88178</td><td>0.150094</td><td><span style=white-space:pre-wrap>  5354</span></td><td><span style=white-space:pre-wrap>HRC   </span></td><td>0.00205128</td></tr>\n",
       "\t<tr><td>0.005 &lt;= MAF &lt; 0.01 </td><td>0.93032</td><td>0.107334</td><td><span style=white-space:pre-wrap>  1342</span></td><td><span style=white-space:pre-wrap>HRC   </span></td><td>0.00292994</td></tr>\n",
       "\t<tr><td><span style=white-space:pre-wrap>MAF &lt; 0.001         </span></td><td>0.68673</td><td>0.197036</td><td>203645</td><td>TOPMed</td><td>0.00043663</td></tr>\n",
       "\t<tr><td>0.001 &lt;= MAF &lt; 0.005</td><td>0.90304</td><td>0.091267</td><td><span style=white-space:pre-wrap>  5597</span></td><td>TOPMed</td><td>0.00121993</td></tr>\n",
       "\t<tr><td>0.005 &lt;= MAF &lt; 0.01 </td><td>0.96321</td><td>0.066508</td><td><span style=white-space:pre-wrap>  1411</span></td><td>TOPMed</td><td>0.00177056</td></tr>\n",
       "</tbody>\n",
       "</table>\n"
      ],
      "text/latex": [
       "A tibble: 6 × 6\n",
       "\\begin{tabular}{llllll}\n",
       " maf\\_cat & R2\\_mean & R2\\_std & R2\\_count & data & R2\\_se\\\\\n",
       " <fct> & <dbl> & <dbl> & <int> & <chr> & <dbl>\\\\\n",
       "\\hline\n",
       "\t MAF < 0.001          & 0.68907 & 0.200122 &  28538 & HRC    & 0.00118463\\\\\n",
       "\t 0.001 <= MAF < 0.005 & 0.88178 & 0.150094 &   5354 & HRC    & 0.00205128\\\\\n",
       "\t 0.005 <= MAF < 0.01  & 0.93032 & 0.107334 &   1342 & HRC    & 0.00292994\\\\\n",
       "\t MAF < 0.001          & 0.68673 & 0.197036 & 203645 & TOPMed & 0.00043663\\\\\n",
       "\t 0.001 <= MAF < 0.005 & 0.90304 & 0.091267 &   5597 & TOPMed & 0.00121993\\\\\n",
       "\t 0.005 <= MAF < 0.01  & 0.96321 & 0.066508 &   1411 & TOPMed & 0.00177056\\\\\n",
       "\\end{tabular}\n"
      ],
      "text/markdown": [
       "\n",
       "A tibble: 6 × 6\n",
       "\n",
       "| maf_cat &lt;fct&gt; | R2_mean &lt;dbl&gt; | R2_std &lt;dbl&gt; | R2_count &lt;int&gt; | data &lt;chr&gt; | R2_se &lt;dbl&gt; |\n",
       "|---|---|---|---|---|---|\n",
       "| MAF &lt; 0.001          | 0.68907 | 0.200122 |  28538 | HRC    | 0.00118463 |\n",
       "| 0.001 &lt;= MAF &lt; 0.005 | 0.88178 | 0.150094 |   5354 | HRC    | 0.00205128 |\n",
       "| 0.005 &lt;= MAF &lt; 0.01  | 0.93032 | 0.107334 |   1342 | HRC    | 0.00292994 |\n",
       "| MAF &lt; 0.001          | 0.68673 | 0.197036 | 203645 | TOPMed | 0.00043663 |\n",
       "| 0.001 &lt;= MAF &lt; 0.005 | 0.90304 | 0.091267 |   5597 | TOPMed | 0.00121993 |\n",
       "| 0.005 &lt;= MAF &lt; 0.01  | 0.96321 | 0.066508 |   1411 | TOPMed | 0.00177056 |\n",
       "\n"
      ],
      "text/plain": [
       "  maf_cat              R2_mean R2_std   R2_count data   R2_se     \n",
       "1 MAF < 0.001          0.68907 0.200122  28538   HRC    0.00118463\n",
       "2 0.001 <= MAF < 0.005 0.88178 0.150094   5354   HRC    0.00205128\n",
       "3 0.005 <= MAF < 0.01  0.93032 0.107334   1342   HRC    0.00292994\n",
       "4 MAF < 0.001          0.68673 0.197036 203645   TOPMed 0.00043663\n",
       "5 0.001 <= MAF < 0.005 0.90304 0.091267   5597   TOPMed 0.00121993\n",
       "6 0.005 <= MAF < 0.01  0.96321 0.066508   1411   TOPMed 0.00177056"
      ]
     },
     "metadata": {},
     "output_type": "display_data"
    }
   ],
   "source": [
    "## HRC, TOPMed R2\n",
    "rbind(hrc_summary, topmed_summary) %>%\n",
    "    mutate(R2_se = R2_std/sqrt(R2_count))"
   ]
  },
  {
   "cell_type": "code",
   "execution_count": 25,
   "id": "3edd2ffc-9b1e-4fbb-93c6-3c0fe1eba109",
   "metadata": {
    "kernel": "R",
    "tags": []
   },
   "outputs": [
    {
     "name": "stderr",
     "output_type": "stream",
     "text": [
      "\u001b[1m\u001b[22mJoining with `by = join_by(maf_cat, data)`\n"
     ]
    },
    {
     "data": {
      "text/html": [
       "<table class=\"dataframe\">\n",
       "<caption>A tibble: 6 × 8</caption>\n",
       "<thead>\n",
       "\t<tr><th scope=col>data</th><th scope=col>maf_cat</th><th scope=col>R2_mean</th><th scope=col>R2_std</th><th scope=col>R2_count</th><th scope=col>corr_mean</th><th scope=col>corr_std</th><th scope=col>corr_count</th></tr>\n",
       "\t<tr><th scope=col>&lt;chr&gt;</th><th scope=col>&lt;chr&gt;</th><th scope=col>&lt;dbl&gt;</th><th scope=col>&lt;dbl&gt;</th><th scope=col>&lt;int&gt;</th><th scope=col>&lt;dbl&gt;</th><th scope=col>&lt;dbl&gt;</th><th scope=col>&lt;int&gt;</th></tr>\n",
       "</thead>\n",
       "<tbody>\n",
       "\t<tr><td><span style=white-space:pre-wrap>HRC   </span></td><td><span style=white-space:pre-wrap>MAF &lt; 0.001         </span></td><td>0.68907</td><td>0.200122</td><td> 28538</td><td>0.66954</td><td>0.28018</td><td> 26178</td></tr>\n",
       "\t<tr><td><span style=white-space:pre-wrap>HRC   </span></td><td>0.001 &lt;= MAF &lt; 0.005</td><td>0.88178</td><td>0.150094</td><td><span style=white-space:pre-wrap>  5354</span></td><td>0.90534</td><td>0.14729</td><td><span style=white-space:pre-wrap>  5239</span></td></tr>\n",
       "\t<tr><td><span style=white-space:pre-wrap>HRC   </span></td><td>0.005 &lt;= MAF &lt; 0.01 </td><td>0.93032</td><td>0.107334</td><td><span style=white-space:pre-wrap>  1342</span></td><td>0.93787</td><td>0.20053</td><td><span style=white-space:pre-wrap>  1304</span></td></tr>\n",
       "\t<tr><td>TOPMed</td><td><span style=white-space:pre-wrap>MAF &lt; 0.001         </span></td><td>0.68673</td><td>0.197036</td><td>203645</td><td>0.66342</td><td>0.32862</td><td>165244</td></tr>\n",
       "\t<tr><td>TOPMed</td><td>0.001 &lt;= MAF &lt; 0.005</td><td>0.90304</td><td>0.091267</td><td><span style=white-space:pre-wrap>  5597</span></td><td>0.93094</td><td>0.11896</td><td><span style=white-space:pre-wrap>  5503</span></td></tr>\n",
       "\t<tr><td>TOPMed</td><td>0.005 &lt;= MAF &lt; 0.01 </td><td>0.96321</td><td>0.066508</td><td><span style=white-space:pre-wrap>  1411</span></td><td>0.95648</td><td>0.19530</td><td><span style=white-space:pre-wrap>  1374</span></td></tr>\n",
       "</tbody>\n",
       "</table>\n"
      ],
      "text/latex": [
       "A tibble: 6 × 8\n",
       "\\begin{tabular}{llllllll}\n",
       " data & maf\\_cat & R2\\_mean & R2\\_std & R2\\_count & corr\\_mean & corr\\_std & corr\\_count\\\\\n",
       " <chr> & <chr> & <dbl> & <dbl> & <int> & <dbl> & <dbl> & <int>\\\\\n",
       "\\hline\n",
       "\t HRC    & MAF < 0.001          & 0.68907 & 0.200122 &  28538 & 0.66954 & 0.28018 &  26178\\\\\n",
       "\t HRC    & 0.001 <= MAF < 0.005 & 0.88178 & 0.150094 &   5354 & 0.90534 & 0.14729 &   5239\\\\\n",
       "\t HRC    & 0.005 <= MAF < 0.01  & 0.93032 & 0.107334 &   1342 & 0.93787 & 0.20053 &   1304\\\\\n",
       "\t TOPMed & MAF < 0.001          & 0.68673 & 0.197036 & 203645 & 0.66342 & 0.32862 & 165244\\\\\n",
       "\t TOPMed & 0.001 <= MAF < 0.005 & 0.90304 & 0.091267 &   5597 & 0.93094 & 0.11896 &   5503\\\\\n",
       "\t TOPMed & 0.005 <= MAF < 0.01  & 0.96321 & 0.066508 &   1411 & 0.95648 & 0.19530 &   1374\\\\\n",
       "\\end{tabular}\n"
      ],
      "text/markdown": [
       "\n",
       "A tibble: 6 × 8\n",
       "\n",
       "| data &lt;chr&gt; | maf_cat &lt;chr&gt; | R2_mean &lt;dbl&gt; | R2_std &lt;dbl&gt; | R2_count &lt;int&gt; | corr_mean &lt;dbl&gt; | corr_std &lt;dbl&gt; | corr_count &lt;int&gt; |\n",
       "|---|---|---|---|---|---|---|---|\n",
       "| HRC    | MAF &lt; 0.001          | 0.68907 | 0.200122 |  28538 | 0.66954 | 0.28018 |  26178 |\n",
       "| HRC    | 0.001 &lt;= MAF &lt; 0.005 | 0.88178 | 0.150094 |   5354 | 0.90534 | 0.14729 |   5239 |\n",
       "| HRC    | 0.005 &lt;= MAF &lt; 0.01  | 0.93032 | 0.107334 |   1342 | 0.93787 | 0.20053 |   1304 |\n",
       "| TOPMed | MAF &lt; 0.001          | 0.68673 | 0.197036 | 203645 | 0.66342 | 0.32862 | 165244 |\n",
       "| TOPMed | 0.001 &lt;= MAF &lt; 0.005 | 0.90304 | 0.091267 |   5597 | 0.93094 | 0.11896 |   5503 |\n",
       "| TOPMed | 0.005 &lt;= MAF &lt; 0.01  | 0.96321 | 0.066508 |   1411 | 0.95648 | 0.19530 |   1374 |\n",
       "\n"
      ],
      "text/plain": [
       "  data   maf_cat              R2_mean R2_std   R2_count corr_mean corr_std\n",
       "1 HRC    MAF < 0.001          0.68907 0.200122  28538   0.66954   0.28018 \n",
       "2 HRC    0.001 <= MAF < 0.005 0.88178 0.150094   5354   0.90534   0.14729 \n",
       "3 HRC    0.005 <= MAF < 0.01  0.93032 0.107334   1342   0.93787   0.20053 \n",
       "4 TOPMed MAF < 0.001          0.68673 0.197036 203645   0.66342   0.32862 \n",
       "5 TOPMed 0.001 <= MAF < 0.005 0.90304 0.091267   5597   0.93094   0.11896 \n",
       "6 TOPMed 0.005 <= MAF < 0.01  0.96321 0.066508   1411   0.95648   0.19530 \n",
       "  corr_count\n",
       "1  26178    \n",
       "2   5239    \n",
       "3   1304    \n",
       "4 165244    \n",
       "5   5503    \n",
       "6   1374    "
      ]
     },
     "metadata": {},
     "output_type": "display_data"
    }
   ],
   "source": [
    "## HRC, TOPMed r2\n",
    "hrc_topmed_corr_summary <-\n",
    "    corr_df %>% \n",
    "    group_by(dataset) %>% \n",
    "    summarise(corr_mean = mean(corr), corr_std = sd(corr), rsq_mean = mean(rsq), rsq_std = sd(rsq), corr_count = n()) %>%\n",
    "    mutate(maf_cat = case_when(grepl(\"0001\", dataset) ~ \"MAF < 0.001\",\n",
    "                               grepl(\"0005\", dataset) ~ \"0.001 <= MAF < 0.005\",\n",
    "                               grepl(\"001\", dataset)  ~ \"0.005 <= MAF < 0.01\",\n",
    "                               TRUE ~ \"dataset\"),\n",
    "          data = ifelse(grepl(\"hrc\", dataset), \"HRC\", \"TOPMed\")) %>%\n",
    "    select(\"maf_cat\", \"corr_mean\", \"corr_std\", \"corr_count\", \"data\")\n",
    "    \n",
    "rbind(hrc_summary, topmed_summary) %>% \n",
    "    left_join(hrc_topmed_corr_summary)  %>% \n",
    "    select(data, maf_cat, R2_mean, R2_std, R2_count, corr_mean, corr_std, corr_count)"
   ]
  },
  {
   "cell_type": "code",
   "execution_count": 26,
   "id": "c79f798a-b3c6-41d5-a35b-13ec6f46ebe2",
   "metadata": {
    "kernel": "R",
    "tags": []
   },
   "outputs": [
    {
     "data": {
      "text/html": [
       "<table class=\"dataframe\">\n",
       "<caption>A tibble: 3 × 4</caption>\n",
       "<thead>\n",
       "\t<tr><th scope=col>maf_cat</th><th scope=col>mean_corr</th><th scope=col>se_corr</th><th scope=col>count_corr</th></tr>\n",
       "\t<tr><th scope=col>&lt;fct&gt;</th><th scope=col>&lt;dbl&gt;</th><th scope=col>&lt;dbl&gt;</th><th scope=col>&lt;int&gt;</th></tr>\n",
       "</thead>\n",
       "<tbody>\n",
       "\t<tr><td><span style=white-space:pre-wrap>MAF &lt; 0.001         </span></td><td>0.74645</td><td>0.00063846</td><td>148289</td></tr>\n",
       "\t<tr><td>0.001 &lt;= MAF &lt; 0.005</td><td>0.94635</td><td>0.00160662</td><td><span style=white-space:pre-wrap>  5583</span></td></tr>\n",
       "\t<tr><td>0.005 &lt;= MAF &lt; 0.01 </td><td>0.95616</td><td>0.00518559</td><td><span style=white-space:pre-wrap>  1384</span></td></tr>\n",
       "</tbody>\n",
       "</table>\n"
      ],
      "text/latex": [
       "A tibble: 3 × 4\n",
       "\\begin{tabular}{llll}\n",
       " maf\\_cat & mean\\_corr & se\\_corr & count\\_corr\\\\\n",
       " <fct> & <dbl> & <dbl> & <int>\\\\\n",
       "\\hline\n",
       "\t MAF < 0.001          & 0.74645 & 0.00063846 & 148289\\\\\n",
       "\t 0.001 <= MAF < 0.005 & 0.94635 & 0.00160662 &   5583\\\\\n",
       "\t 0.005 <= MAF < 0.01  & 0.95616 & 0.00518559 &   1384\\\\\n",
       "\\end{tabular}\n"
      ],
      "text/markdown": [
       "\n",
       "A tibble: 3 × 4\n",
       "\n",
       "| maf_cat &lt;fct&gt; | mean_corr &lt;dbl&gt; | se_corr &lt;dbl&gt; | count_corr &lt;int&gt; |\n",
       "|---|---|---|---|\n",
       "| MAF &lt; 0.001          | 0.74645 | 0.00063846 | 148289 |\n",
       "| 0.001 &lt;= MAF &lt; 0.005 | 0.94635 | 0.00160662 |   5583 |\n",
       "| 0.005 &lt;= MAF &lt; 0.01  | 0.95616 | 0.00518559 |   1384 |\n",
       "\n"
      ],
      "text/plain": [
       "  maf_cat              mean_corr se_corr    count_corr\n",
       "1 MAF < 0.001          0.74645   0.00063846 148289    \n",
       "2 0.001 <= MAF < 0.005 0.94635   0.00160662   5583    \n",
       "3 0.005 <= MAF < 0.01  0.95616   0.00518559   1384    "
      ]
     },
     "metadata": {},
     "output_type": "display_data"
    }
   ],
   "source": [
    "## hrc_topmed_r2\n",
    "hrc_topmed_df %>% \n",
    "    filter(corr != 0) %>%\n",
    "    summarise(mean_corr = mean(corr), se_corr = sd(corr) / sqrt(n()), count_corr = n()) %>% \n",
    "    mutate(maf_cat = factor(maf_cat, levels = c(\"MAF < 0.001\", \"0.001 <= MAF < 0.005\", \"0.005 <= MAF < 0.01\"))) %>% \n",
    "    arrange(maf_cat)"
   ]
  },
  {
   "cell_type": "code",
   "execution_count": 27,
   "id": "b2147c1c-08a7-4907-a137-89f4079424ef",
   "metadata": {
    "kernel": "R",
    "tags": []
   },
   "outputs": [
    {
     "data": {
      "text/html": [
       "<table class=\"dataframe\">\n",
       "<caption>A tibble: 3 × 4</caption>\n",
       "<thead>\n",
       "\t<tr><th scope=col>maf_cat</th><th scope=col>mean_R2</th><th scope=col>se_R2</th><th scope=col>count_R2</th></tr>\n",
       "\t<tr><th scope=col>&lt;fct&gt;</th><th scope=col>&lt;dbl&gt;</th><th scope=col>&lt;dbl&gt;</th><th scope=col>&lt;int&gt;</th></tr>\n",
       "</thead>\n",
       "<tbody>\n",
       "\t<tr><td><span style=white-space:pre-wrap>MAF &lt; 0.001         </span></td><td>0.68856</td><td>0.00043696</td><td>206209</td></tr>\n",
       "\t<tr><td>0.001 &lt;= MAF &lt; 0.005</td><td>0.92985</td><td>0.00136855</td><td><span style=white-space:pre-wrap>  5733</span></td></tr>\n",
       "\t<tr><td>0.005 &lt;= MAF &lt; 0.01 </td><td>0.95635</td><td>0.00232959</td><td><span style=white-space:pre-wrap>  1440</span></td></tr>\n",
       "</tbody>\n",
       "</table>\n"
      ],
      "text/latex": [
       "A tibble: 3 × 4\n",
       "\\begin{tabular}{llll}\n",
       " maf\\_cat & mean\\_R2 & se\\_R2 & count\\_R2\\\\\n",
       " <fct> & <dbl> & <dbl> & <int>\\\\\n",
       "\\hline\n",
       "\t MAF < 0.001          & 0.68856 & 0.00043696 & 206209\\\\\n",
       "\t 0.001 <= MAF < 0.005 & 0.92985 & 0.00136855 &   5733\\\\\n",
       "\t 0.005 <= MAF < 0.01  & 0.95635 & 0.00232959 &   1440\\\\\n",
       "\\end{tabular}\n"
      ],
      "text/markdown": [
       "\n",
       "A tibble: 3 × 4\n",
       "\n",
       "| maf_cat &lt;fct&gt; | mean_R2 &lt;dbl&gt; | se_R2 &lt;dbl&gt; | count_R2 &lt;int&gt; |\n",
       "|---|---|---|---|\n",
       "| MAF &lt; 0.001          | 0.68856 | 0.00043696 | 206209 |\n",
       "| 0.001 &lt;= MAF &lt; 0.005 | 0.92985 | 0.00136855 |   5733 |\n",
       "| 0.005 &lt;= MAF &lt; 0.01  | 0.95635 | 0.00232959 |   1440 |\n",
       "\n"
      ],
      "text/plain": [
       "  maf_cat              mean_R2 se_R2      count_R2\n",
       "1 MAF < 0.001          0.68856 0.00043696 206209  \n",
       "2 0.001 <= MAF < 0.005 0.92985 0.00136855   5733  \n",
       "3 0.005 <= MAF < 0.01  0.95635 0.00232959   1440  "
      ]
     },
     "metadata": {},
     "output_type": "display_data"
    }
   ],
   "source": [
    "## hrc_topmed_R2\n",
    "hrc_topmed_df %>% \n",
    "    summarise(mean_R2 = mean(R2), se_R2 = sd(R2) / sqrt(n()), count_R2 = n()) %>% \n",
    "    mutate(maf_cat = factor(maf_cat, levels = c(\"MAF < 0.001\", \"0.001 <= MAF < 0.005\", \"0.005 <= MAF < 0.01\"))) %>% \n",
    "    arrange(maf_cat)"
   ]
  },
  {
   "cell_type": "markdown",
   "id": "cbc33811-4f14-470b-89e1-818522c778b6",
   "metadata": {
    "kernel": "R"
   },
   "source": [
    "### T-test for R2 vs r2"
   ]
  },
  {
   "cell_type": "markdown",
   "id": "82482e4b-cb46-42f1-a67f-be6b1491078c",
   "metadata": {
    "kernel": "R"
   },
   "source": [
    "#### Table S2"
   ]
  },
  {
   "cell_type": "code",
   "execution_count": 28,
   "id": "b25b85ee-313b-4d95-a735-63df09f694f3",
   "metadata": {
    "kernel": "R",
    "tags": []
   },
   "outputs": [],
   "source": [
    "hrc_corr_df <- corr_df %>% \n",
    "    mutate(maf_cat = case_when(grepl(\"0001\", dataset) ~ \"MAF < 0.001\",\n",
    "                               grepl(\"0005\", dataset) ~ \"0.001 <= MAF < 0.005\",\n",
    "                               grepl(\"001\", dataset)  ~ \"0.005 <= MAF < 0.01\",\n",
    "                               TRUE ~ \"dataset\")) %>%\n",
    "    filter(grepl(\"hrc_\", dataset)) %>%\n",
    "    select(snpid, corr, maf_cat)\n",
    "\n",
    "topmed_corr_df <- corr_df %>% \n",
    "    mutate(maf_cat = case_when(grepl(\"0001\", dataset) ~ \"MAF < 0.001\",\n",
    "                               grepl(\"0005\", dataset) ~ \"0.001 <= MAF < 0.005\",\n",
    "                               grepl(\"001\", dataset)  ~ \"0.005 <= MAF < 0.01\",\n",
    "                               TRUE ~ \"dataset\")) %>%\n",
    "    filter(grepl(\"topmed_\", dataset)) %>%\n",
    "    select(snpid, corr, maf_cat)"
   ]
  },
  {
   "cell_type": "code",
   "execution_count": 29,
   "id": "38f8a42e-16b7-47c6-85ac-a5402bcfbaff",
   "metadata": {
    "kernel": "R",
    "tags": []
   },
   "outputs": [],
   "source": [
    "hrc_r2_df <- df %>% \n",
    "    filter(R2_hrc != 0) %>% \n",
    "    mutate(maf_cat = case_when(is.na(MAF_nfe_exome) | MAF_nfe_exome < 0.001 ~ \"MAF < 0.001\",\n",
    "                               MAF_nfe_exome >= 0.001 & MAF_nfe_exome < 0.005 ~ \"0.001 <= MAF < 0.005\",\n",
    "                               MAF_nfe_exome >= 0.005 & MAF_nfe_exome < 0.01 ~ \"0.005 <= MAF < 0.01\")) %>%\n",
    "    select(ID_hg38, R2_hrc, maf_cat)\n",
    "\n",
    "topmed_r2_df <- df %>% \n",
    "    filter(R2_topmed != 0) %>% \n",
    "    mutate(maf_cat = case_when(is.na(MAF_nfe_exome) | MAF_nfe_exome < 0.001 ~ \"MAF < 0.001\",\n",
    "                               MAF_nfe_exome >= 0.001 & MAF_nfe_exome < 0.005 ~ \"0.001 <= MAF < 0.005\",\n",
    "                               MAF_nfe_exome >= 0.005 & MAF_nfe_exome < 0.01 ~ \"0.005 <= MAF < 0.01\")) %>%\n",
    "    select(ID_hg38, R2_topmed, maf_cat)"
   ]
  },
  {
   "cell_type": "code",
   "execution_count": 30,
   "id": "11ce17e8-5992-407c-805a-1225afa6a1bb",
   "metadata": {
    "kernel": "R",
    "tags": []
   },
   "outputs": [
    {
     "data": {
      "text/html": [
       "<table class=\"dataframe\">\n",
       "<caption>A data.frame: 3 × 9</caption>\n",
       "<thead>\n",
       "\t<tr><th></th><th scope=col>r2_mean_hrc</th><th scope=col>r2_se_hrc</th><th scope=col>r2_n_hrc</th><th scope=col>r2_mean_topmed</th><th scope=col>r2_se_topmed</th><th scope=col>r2_n_topmed</th><th scope=col>test_stat</th><th scope=col>p_value</th><th scope=col>maf_cat</th></tr>\n",
       "\t<tr><th></th><th scope=col>&lt;dbl&gt;</th><th scope=col>&lt;dbl&gt;</th><th scope=col>&lt;int&gt;</th><th scope=col>&lt;dbl&gt;</th><th scope=col>&lt;dbl&gt;</th><th scope=col>&lt;int&gt;</th><th scope=col>&lt;dbl&gt;</th><th scope=col>&lt;dbl&gt;</th><th scope=col>&lt;chr&gt;</th></tr>\n",
       "</thead>\n",
       "<tbody>\n",
       "\t<tr><th scope=row>t</th><td>0.68907</td><td>0.0011846</td><td>28538</td><td>0.68673</td><td>0.00043663</td><td>203645</td><td> 1.8555</td><td>6.3531e-02</td><td><span style=white-space:pre-wrap>MAF &lt; 0.001         </span></td></tr>\n",
       "\t<tr><th scope=row>t1</th><td>0.88178</td><td>0.0020513</td><td> 5354</td><td>0.90304</td><td>0.00121993</td><td><span style=white-space:pre-wrap>  5597</span></td><td>-8.9073</td><td>6.2774e-19</td><td>0.001 &lt;= MAF &lt; 0.005</td></tr>\n",
       "\t<tr><th scope=row>t2</th><td>0.93032</td><td>0.0029299</td><td> 1342</td><td>0.96321</td><td>0.00177056</td><td><span style=white-space:pre-wrap>  1411</span></td><td>-9.6090</td><td>1.9039e-21</td><td>0.005 &lt;= MAF &lt; 0.01 </td></tr>\n",
       "</tbody>\n",
       "</table>\n"
      ],
      "text/latex": [
       "A data.frame: 3 × 9\n",
       "\\begin{tabular}{r|lllllllll}\n",
       "  & r2\\_mean\\_hrc & r2\\_se\\_hrc & r2\\_n\\_hrc & r2\\_mean\\_topmed & r2\\_se\\_topmed & r2\\_n\\_topmed & test\\_stat & p\\_value & maf\\_cat\\\\\n",
       "  & <dbl> & <dbl> & <int> & <dbl> & <dbl> & <int> & <dbl> & <dbl> & <chr>\\\\\n",
       "\\hline\n",
       "\tt & 0.68907 & 0.0011846 & 28538 & 0.68673 & 0.00043663 & 203645 &  1.8555 & 6.3531e-02 & MAF < 0.001         \\\\\n",
       "\tt1 & 0.88178 & 0.0020513 &  5354 & 0.90304 & 0.00121993 &   5597 & -8.9073 & 6.2774e-19 & 0.001 <= MAF < 0.005\\\\\n",
       "\tt2 & 0.93032 & 0.0029299 &  1342 & 0.96321 & 0.00177056 &   1411 & -9.6090 & 1.9039e-21 & 0.005 <= MAF < 0.01 \\\\\n",
       "\\end{tabular}\n"
      ],
      "text/markdown": [
       "\n",
       "A data.frame: 3 × 9\n",
       "\n",
       "| <!--/--> | r2_mean_hrc &lt;dbl&gt; | r2_se_hrc &lt;dbl&gt; | r2_n_hrc &lt;int&gt; | r2_mean_topmed &lt;dbl&gt; | r2_se_topmed &lt;dbl&gt; | r2_n_topmed &lt;int&gt; | test_stat &lt;dbl&gt; | p_value &lt;dbl&gt; | maf_cat &lt;chr&gt; |\n",
       "|---|---|---|---|---|---|---|---|---|---|\n",
       "| t | 0.68907 | 0.0011846 | 28538 | 0.68673 | 0.00043663 | 203645 |  1.8555 | 6.3531e-02 | MAF &lt; 0.001          |\n",
       "| t1 | 0.88178 | 0.0020513 |  5354 | 0.90304 | 0.00121993 |   5597 | -8.9073 | 6.2774e-19 | 0.001 &lt;= MAF &lt; 0.005 |\n",
       "| t2 | 0.93032 | 0.0029299 |  1342 | 0.96321 | 0.00177056 |   1411 | -9.6090 | 1.9039e-21 | 0.005 &lt;= MAF &lt; 0.01  |\n",
       "\n"
      ],
      "text/plain": [
       "   r2_mean_hrc r2_se_hrc r2_n_hrc r2_mean_topmed r2_se_topmed r2_n_topmed\n",
       "t  0.68907     0.0011846 28538    0.68673        0.00043663   203645     \n",
       "t1 0.88178     0.0020513  5354    0.90304        0.00121993     5597     \n",
       "t2 0.93032     0.0029299  1342    0.96321        0.00177056     1411     \n",
       "   test_stat p_value    maf_cat             \n",
       "t   1.8555   6.3531e-02 MAF < 0.001         \n",
       "t1 -8.9073   6.2774e-19 0.001 <= MAF < 0.005\n",
       "t2 -9.6090   1.9039e-21 0.005 <= MAF < 0.01 "
      ]
     },
     "metadata": {},
     "output_type": "display_data"
    }
   ],
   "source": [
    "## check if the R2 is statistically different for HRC v.s. TOPMed\n",
    "\n",
    "r2_df <- data.frame(matrix(ncol=9, nrow = 0))\n",
    "colnames(r2_df) <- c(\"r2_mean_hrc\", \"r2_se_hrc\", \"r2_n_hrc\", \"r2_mean_topmed\", \"r2_se_topmed\", \"r2_n_topmed\", \"test_stat\", \"p_value\", \"maf_cat\")\n",
    "\n",
    "for(maf in c(\"MAF < 0.001\", \"0.001 <= MAF < 0.005\", \"0.005 <= MAF < 0.01\")){\n",
    "    hrc <- hrc_r2_df %>% filter(maf_cat == maf)\n",
    "    topmed <- topmed_r2_df %>% filter(maf_cat == maf)\n",
    "    \n",
    "    test_result <- t.test(hrc$R2_hrc, topmed$R2_topmed)\n",
    "    \n",
    "    sub_r2_df <- data.frame(\"r2_mean_hrc\" = mean(hrc$R2_hrc),\n",
    "                              \"r2_se_hrc\" = sd(hrc$R2_hrc) / sqrt(length(hrc$R2_hrc)),\n",
    "                              \"r2_n_hrc\" = length(hrc$R2_hrc), \n",
    "                              \"r2_mean_topmed\" = mean(topmed$R2_topmed),\n",
    "                              \"r2_se_topmed\" = sd(topmed$R2_topmed) / sqrt(length(topmed$R2_topmed)),\n",
    "                              \"r2_n_topmed\" = length(topmed$R2_topmed), \n",
    "                              \"test_stat\" = test_result$statistic, \n",
    "                              \"p_value\" = test_result$p.value,\n",
    "                              \"maf_cat\" = maf)\n",
    "    r2_df = rbind(r2_df, sub_r2_df)\n",
    "}\n",
    "\n",
    "r2_df"
   ]
  },
  {
   "cell_type": "code",
   "execution_count": 31,
   "id": "02e1ce19-54ef-4c90-9c70-5e844027281b",
   "metadata": {
    "kernel": "R",
    "tags": []
   },
   "outputs": [
    {
     "data": {
      "text/html": [
       "<table class=\"dataframe\">\n",
       "<caption>A data.frame: 3 × 9</caption>\n",
       "<thead>\n",
       "\t<tr><th></th><th scope=col>r2_mean_hrc</th><th scope=col>r2_se_hrc</th><th scope=col>r2_n_hrc</th><th scope=col>r2_mean_hrc_topmed</th><th scope=col>r2_se_hrc_topmed</th><th scope=col>r2_n_hrc_topmed</th><th scope=col>test_stat</th><th scope=col>p_value</th><th scope=col>maf_cat</th></tr>\n",
       "\t<tr><th></th><th scope=col>&lt;dbl&gt;</th><th scope=col>&lt;dbl&gt;</th><th scope=col>&lt;int&gt;</th><th scope=col>&lt;dbl&gt;</th><th scope=col>&lt;dbl&gt;</th><th scope=col>&lt;int&gt;</th><th scope=col>&lt;dbl&gt;</th><th scope=col>&lt;dbl&gt;</th><th scope=col>&lt;chr&gt;</th></tr>\n",
       "</thead>\n",
       "<tbody>\n",
       "\t<tr><th scope=row>t</th><td>0.68907</td><td>0.0011846</td><td>28538</td><td>0.68856</td><td>0.00043696</td><td>206209</td><td><span style=white-space:pre-wrap>  0.40004</span></td><td>6.8913e-01</td><td><span style=white-space:pre-wrap>MAF &lt; 0.001         </span></td></tr>\n",
       "\t<tr><th scope=row>t1</th><td>0.88178</td><td>0.0020513</td><td> 5354</td><td>0.92985</td><td>0.00136855</td><td><span style=white-space:pre-wrap>  5733</span></td><td>-19.49355</td><td>5.2782e-83</td><td>0.001 &lt;= MAF &lt; 0.005</td></tr>\n",
       "\t<tr><th scope=row>t2</th><td>0.93032</td><td>0.0029299</td><td> 1342</td><td>0.95635</td><td>0.00232959</td><td><span style=white-space:pre-wrap>  1440</span></td><td> -6.95453</td><td>4.4568e-12</td><td>0.005 &lt;= MAF &lt; 0.01 </td></tr>\n",
       "</tbody>\n",
       "</table>\n"
      ],
      "text/latex": [
       "A data.frame: 3 × 9\n",
       "\\begin{tabular}{r|lllllllll}\n",
       "  & r2\\_mean\\_hrc & r2\\_se\\_hrc & r2\\_n\\_hrc & r2\\_mean\\_hrc\\_topmed & r2\\_se\\_hrc\\_topmed & r2\\_n\\_hrc\\_topmed & test\\_stat & p\\_value & maf\\_cat\\\\\n",
       "  & <dbl> & <dbl> & <int> & <dbl> & <dbl> & <int> & <dbl> & <dbl> & <chr>\\\\\n",
       "\\hline\n",
       "\tt & 0.68907 & 0.0011846 & 28538 & 0.68856 & 0.00043696 & 206209 &   0.40004 & 6.8913e-01 & MAF < 0.001         \\\\\n",
       "\tt1 & 0.88178 & 0.0020513 &  5354 & 0.92985 & 0.00136855 &   5733 & -19.49355 & 5.2782e-83 & 0.001 <= MAF < 0.005\\\\\n",
       "\tt2 & 0.93032 & 0.0029299 &  1342 & 0.95635 & 0.00232959 &   1440 &  -6.95453 & 4.4568e-12 & 0.005 <= MAF < 0.01 \\\\\n",
       "\\end{tabular}\n"
      ],
      "text/markdown": [
       "\n",
       "A data.frame: 3 × 9\n",
       "\n",
       "| <!--/--> | r2_mean_hrc &lt;dbl&gt; | r2_se_hrc &lt;dbl&gt; | r2_n_hrc &lt;int&gt; | r2_mean_hrc_topmed &lt;dbl&gt; | r2_se_hrc_topmed &lt;dbl&gt; | r2_n_hrc_topmed &lt;int&gt; | test_stat &lt;dbl&gt; | p_value &lt;dbl&gt; | maf_cat &lt;chr&gt; |\n",
       "|---|---|---|---|---|---|---|---|---|---|\n",
       "| t | 0.68907 | 0.0011846 | 28538 | 0.68856 | 0.00043696 | 206209 |   0.40004 | 6.8913e-01 | MAF &lt; 0.001          |\n",
       "| t1 | 0.88178 | 0.0020513 |  5354 | 0.92985 | 0.00136855 |   5733 | -19.49355 | 5.2782e-83 | 0.001 &lt;= MAF &lt; 0.005 |\n",
       "| t2 | 0.93032 | 0.0029299 |  1342 | 0.95635 | 0.00232959 |   1440 |  -6.95453 | 4.4568e-12 | 0.005 &lt;= MAF &lt; 0.01  |\n",
       "\n"
      ],
      "text/plain": [
       "   r2_mean_hrc r2_se_hrc r2_n_hrc r2_mean_hrc_topmed r2_se_hrc_topmed\n",
       "t  0.68907     0.0011846 28538    0.68856            0.00043696      \n",
       "t1 0.88178     0.0020513  5354    0.92985            0.00136855      \n",
       "t2 0.93032     0.0029299  1342    0.95635            0.00232959      \n",
       "   r2_n_hrc_topmed test_stat p_value    maf_cat             \n",
       "t  206209            0.40004 6.8913e-01 MAF < 0.001         \n",
       "t1   5733          -19.49355 5.2782e-83 0.001 <= MAF < 0.005\n",
       "t2   1440           -6.95453 4.4568e-12 0.005 <= MAF < 0.01 "
      ]
     },
     "metadata": {},
     "output_type": "display_data"
    }
   ],
   "source": [
    "## check if the RSQ is statistically different for HRC v.s. HRC_TOPMed\n",
    "\n",
    "r2_df <- data.frame(matrix(ncol=9, nrow = 0))\n",
    "colnames(r2_df) <- c(\"r2_mean_hrc\", \"r2_se_hrc\", \"r2_n_hrc\", \"r2_mean_hrc_topmed\", \"r2_se_hrc_topmed\", \"r2_n_hrc_topmed\", \"test_stat\", \"p_value\", \"maf_cat\")\n",
    "\n",
    "for(maf in c(\"MAF < 0.001\", \"0.001 <= MAF < 0.005\", \"0.005 <= MAF < 0.01\")){\n",
    "    hrc <- hrc_r2_df %>% filter(maf_cat == maf)\n",
    "    hrc_topmed <- hrc_topmed_df %>% filter(maf_cat == maf)\n",
    "    \n",
    "    test_result <- t.test(hrc$R2_hrc, hrc_topmed$R2)\n",
    "    \n",
    "    sub_r2_df <- data.frame(\"r2_mean_hrc\" = mean(hrc$R2_hrc),\n",
    "                              \"r2_se_hrc\" = sd(hrc$R2_hrc) / sqrt(length(hrc$R2_hrc)),\n",
    "                              \"r2_n_hrc\" = length(hrc$R2_hrc), \n",
    "                              \"r2_mean_hrc_topmed\" = mean(hrc_topmed$R2),\n",
    "                              \"r2_se_hrc_topmed\" = sd(hrc_topmed$R2) / sqrt(length(hrc_topmed$R2)),\n",
    "                              \"r2_n_hrc_topmed\" = length(hrc_topmed$R2), \n",
    "                              \"test_stat\" = test_result$statistic, \n",
    "                              \"p_value\" = test_result$p.value,\n",
    "                              \"maf_cat\" = maf)\n",
    "    r2_df = rbind(r2_df, sub_r2_df)\n",
    "}\n",
    "\n",
    "r2_df"
   ]
  },
  {
   "cell_type": "code",
   "execution_count": 32,
   "id": "d3a0917b-af8d-4ca3-bbe3-9aa204b0ca49",
   "metadata": {
    "kernel": "R",
    "tags": []
   },
   "outputs": [
    {
     "data": {
      "text/html": [
       "<table class=\"dataframe\">\n",
       "<caption>A data.frame: 3 × 9</caption>\n",
       "<thead>\n",
       "\t<tr><th></th><th scope=col>r2_mean_topmed</th><th scope=col>r2_se_topmed</th><th scope=col>r2_n_topmed</th><th scope=col>r2_mean_hrc_topmed</th><th scope=col>r2_se_hrc_topmed</th><th scope=col>r2_n_hrc_topmed</th><th scope=col>test_stat</th><th scope=col>p_value</th><th scope=col>maf_cat</th></tr>\n",
       "\t<tr><th></th><th scope=col>&lt;dbl&gt;</th><th scope=col>&lt;dbl&gt;</th><th scope=col>&lt;int&gt;</th><th scope=col>&lt;dbl&gt;</th><th scope=col>&lt;dbl&gt;</th><th scope=col>&lt;int&gt;</th><th scope=col>&lt;dbl&gt;</th><th scope=col>&lt;dbl&gt;</th><th scope=col>&lt;chr&gt;</th></tr>\n",
       "</thead>\n",
       "<tbody>\n",
       "\t<tr><th scope=row>t</th><td>0.68673</td><td>0.00043663</td><td>203645</td><td>0.68856</td><td>0.00043696</td><td>206209</td><td>81.60905</td><td>0.0000e+00</td><td><span style=white-space:pre-wrap>MAF &lt; 0.001         </span></td></tr>\n",
       "\t<tr><th scope=row>t1</th><td>0.90304</td><td>0.00121993</td><td><span style=white-space:pre-wrap>  5597</span></td><td>0.92985</td><td>0.00136855</td><td><span style=white-space:pre-wrap>  5733</span></td><td> 0.14574</td><td>8.8414e-01</td><td>0.001 &lt;= MAF &lt; 0.005</td></tr>\n",
       "\t<tr><th scope=row>t2</th><td>0.96321</td><td>0.00177056</td><td><span style=white-space:pre-wrap>  1411</span></td><td>0.95635</td><td>0.00232959</td><td><span style=white-space:pre-wrap>  1440</span></td><td>-6.95453</td><td>4.4568e-12</td><td>0.005 &lt;= MAF &lt; 0.01 </td></tr>\n",
       "</tbody>\n",
       "</table>\n"
      ],
      "text/latex": [
       "A data.frame: 3 × 9\n",
       "\\begin{tabular}{r|lllllllll}\n",
       "  & r2\\_mean\\_topmed & r2\\_se\\_topmed & r2\\_n\\_topmed & r2\\_mean\\_hrc\\_topmed & r2\\_se\\_hrc\\_topmed & r2\\_n\\_hrc\\_topmed & test\\_stat & p\\_value & maf\\_cat\\\\\n",
       "  & <dbl> & <dbl> & <int> & <dbl> & <dbl> & <int> & <dbl> & <dbl> & <chr>\\\\\n",
       "\\hline\n",
       "\tt & 0.68673 & 0.00043663 & 203645 & 0.68856 & 0.00043696 & 206209 & 81.60905 & 0.0000e+00 & MAF < 0.001         \\\\\n",
       "\tt1 & 0.90304 & 0.00121993 &   5597 & 0.92985 & 0.00136855 &   5733 &  0.14574 & 8.8414e-01 & 0.001 <= MAF < 0.005\\\\\n",
       "\tt2 & 0.96321 & 0.00177056 &   1411 & 0.95635 & 0.00232959 &   1440 & -6.95453 & 4.4568e-12 & 0.005 <= MAF < 0.01 \\\\\n",
       "\\end{tabular}\n"
      ],
      "text/markdown": [
       "\n",
       "A data.frame: 3 × 9\n",
       "\n",
       "| <!--/--> | r2_mean_topmed &lt;dbl&gt; | r2_se_topmed &lt;dbl&gt; | r2_n_topmed &lt;int&gt; | r2_mean_hrc_topmed &lt;dbl&gt; | r2_se_hrc_topmed &lt;dbl&gt; | r2_n_hrc_topmed &lt;int&gt; | test_stat &lt;dbl&gt; | p_value &lt;dbl&gt; | maf_cat &lt;chr&gt; |\n",
       "|---|---|---|---|---|---|---|---|---|---|\n",
       "| t | 0.68673 | 0.00043663 | 203645 | 0.68856 | 0.00043696 | 206209 | 81.60905 | 0.0000e+00 | MAF &lt; 0.001          |\n",
       "| t1 | 0.90304 | 0.00121993 |   5597 | 0.92985 | 0.00136855 |   5733 |  0.14574 | 8.8414e-01 | 0.001 &lt;= MAF &lt; 0.005 |\n",
       "| t2 | 0.96321 | 0.00177056 |   1411 | 0.95635 | 0.00232959 |   1440 | -6.95453 | 4.4568e-12 | 0.005 &lt;= MAF &lt; 0.01  |\n",
       "\n"
      ],
      "text/plain": [
       "   r2_mean_topmed r2_se_topmed r2_n_topmed r2_mean_hrc_topmed r2_se_hrc_topmed\n",
       "t  0.68673        0.00043663   203645      0.68856            0.00043696      \n",
       "t1 0.90304        0.00121993     5597      0.92985            0.00136855      \n",
       "t2 0.96321        0.00177056     1411      0.95635            0.00232959      \n",
       "   r2_n_hrc_topmed test_stat p_value    maf_cat             \n",
       "t  206209          81.60905  0.0000e+00 MAF < 0.001         \n",
       "t1   5733           0.14574  8.8414e-01 0.001 <= MAF < 0.005\n",
       "t2   1440          -6.95453  4.4568e-12 0.005 <= MAF < 0.01 "
      ]
     },
     "metadata": {},
     "output_type": "display_data"
    }
   ],
   "source": [
    "## check if the RSQ is statistically different for TOPMed v.s. HRC_TOPMed\n",
    "\n",
    "r2_df <- data.frame(matrix(ncol=9, nrow = 0))\n",
    "colnames(r2_df) <- c(\"r2_mean_topmed\", \"r2_se_topmed\", \"r2_n_topmed\", \"r2_mean_hrc_topmed\", \"r2_se_hrc_topmed\", \"r2_n_hrc_topmed\", \"test_stat\", \"p_value\", \"maf_cat\")\n",
    "\n",
    "for(maf in c(\"MAF < 0.001\", \"0.001 <= MAF < 0.005\", \"0.005 <= MAF < 0.01\")){\n",
    "    topmed <- topmed_r2_df %>% filter(maf_cat == maf)\n",
    "    hrc_topmed <- hrc_topmed_df %>% filter(maf_cat == maf)\n",
    "    \n",
    "    test_result <- t.test(hrc$R2_hrc, hrc_topmed$R2)\n",
    "    \n",
    "    sub_r2_df <- data.frame(\"r2_mean_topmed\" = mean(topmed$R2_topmed),\n",
    "                              \"r2_se_topmed\" = sd(topmed$R2_topmed) / sqrt(length(topmed$R2_topmed)),\n",
    "                              \"r2_n_topmed\" = length(topmed$R2_topmed), \n",
    "                              \"r2_mean_hrc_topmed\" = mean(hrc_topmed$R2),\n",
    "                              \"r2_se_hrc_topmed\" = sd(hrc_topmed$R2) / sqrt(length(hrc_topmed$R2)),\n",
    "                              \"r2_n_hrc_topmed\" = length(hrc_topmed$R2), \n",
    "                              \"test_stat\" = test_result$statistic, \n",
    "                              \"p_value\" = test_result$p.value,\n",
    "                              \"maf_cat\" = maf)\n",
    "    r2_df = rbind(r2_df, sub_r2_df)\n",
    "}\n",
    "\n",
    "r2_df"
   ]
  },
  {
   "cell_type": "markdown",
   "id": "8b346682-63df-4f2f-bb46-f9ca8daba14d",
   "metadata": {
    "kernel": "R"
   },
   "source": [
    "#### Table S3"
   ]
  },
  {
   "cell_type": "code",
   "execution_count": 33,
   "id": "7c0c6e01-9674-4a52-b7a7-ca91d859f63b",
   "metadata": {
    "kernel": "R",
    "tags": []
   },
   "outputs": [
    {
     "data": {
      "text/html": [
       "<table class=\"dataframe\">\n",
       "<caption>A data.frame: 6 × 10</caption>\n",
       "<thead>\n",
       "\t<tr><th></th><th scope=col>dataset</th><th scope=col>maf_cat</th><th scope=col>corr_mean</th><th scope=col>corr_se</th><th scope=col>corr_n</th><th scope=col>rsq_mean</th><th scope=col>rsq_se</th><th scope=col>rsq_n</th><th scope=col>test_stat</th><th scope=col>p_value</th></tr>\n",
       "\t<tr><th></th><th scope=col>&lt;chr&gt;</th><th scope=col>&lt;chr&gt;</th><th scope=col>&lt;dbl&gt;</th><th scope=col>&lt;dbl&gt;</th><th scope=col>&lt;int&gt;</th><th scope=col>&lt;dbl&gt;</th><th scope=col>&lt;dbl&gt;</th><th scope=col>&lt;int&gt;</th><th scope=col>&lt;dbl&gt;</th><th scope=col>&lt;dbl&gt;</th></tr>\n",
       "</thead>\n",
       "<tbody>\n",
       "\t<tr><th scope=row>t</th><td><span style=white-space:pre-wrap>HRC   </span></td><td><span style=white-space:pre-wrap>MAF &lt; 0.001         </span></td><td>0.66954</td><td>0.00173168</td><td> 26178</td><td>0.68907</td><td>0.00118463</td><td> 28538</td><td> -9.3064</td><td> 1.3773e-20</td></tr>\n",
       "\t<tr><th scope=row>t2</th><td><span style=white-space:pre-wrap>HRC   </span></td><td>0.001 &lt;= MAF &lt; 0.005</td><td>0.90534</td><td>0.00203497</td><td><span style=white-space:pre-wrap>  5239</span></td><td>0.88178</td><td>0.00205128</td><td><span style=white-space:pre-wrap>  5354</span></td><td><span style=white-space:pre-wrap>  8.1545</span></td><td> 3.9029e-16</td></tr>\n",
       "\t<tr><th scope=row>t4</th><td><span style=white-space:pre-wrap>HRC   </span></td><td>0.005 &lt;= MAF &lt; 0.01 </td><td>0.93787</td><td>0.00555317</td><td><span style=white-space:pre-wrap>  1304</span></td><td>0.93032</td><td>0.00292994</td><td><span style=white-space:pre-wrap>  1342</span></td><td><span style=white-space:pre-wrap>  1.2033</span></td><td> 2.2902e-01</td></tr>\n",
       "\t<tr><th scope=row>t1</th><td>TOPMed</td><td><span style=white-space:pre-wrap>MAF &lt; 0.001         </span></td><td>0.66342</td><td>0.00080841</td><td>165244</td><td>0.68673</td><td>0.00043663</td><td>203645</td><td>-25.3676</td><td>8.5881e-142</td></tr>\n",
       "\t<tr><th scope=row>t3</th><td>TOPMed</td><td>0.001 &lt;= MAF &lt; 0.005</td><td>0.93094</td><td>0.00160361</td><td><span style=white-space:pre-wrap>  5503</span></td><td>0.90304</td><td>0.00121993</td><td><span style=white-space:pre-wrap>  5597</span></td><td> 13.8488</td><td> 3.1507e-43</td></tr>\n",
       "\t<tr><th scope=row>t5</th><td>TOPMed</td><td>0.005 &lt;= MAF &lt; 0.01 </td><td>0.95648</td><td>0.00526870</td><td><span style=white-space:pre-wrap>  1374</span></td><td>0.96321</td><td>0.00177056</td><td><span style=white-space:pre-wrap>  1411</span></td><td> -1.2107</td><td> 2.2619e-01</td></tr>\n",
       "</tbody>\n",
       "</table>\n"
      ],
      "text/latex": [
       "A data.frame: 6 × 10\n",
       "\\begin{tabular}{r|llllllllll}\n",
       "  & dataset & maf\\_cat & corr\\_mean & corr\\_se & corr\\_n & rsq\\_mean & rsq\\_se & rsq\\_n & test\\_stat & p\\_value\\\\\n",
       "  & <chr> & <chr> & <dbl> & <dbl> & <int> & <dbl> & <dbl> & <int> & <dbl> & <dbl>\\\\\n",
       "\\hline\n",
       "\tt & HRC    & MAF < 0.001          & 0.66954 & 0.00173168 &  26178 & 0.68907 & 0.00118463 &  28538 &  -9.3064 &  1.3773e-20\\\\\n",
       "\tt2 & HRC    & 0.001 <= MAF < 0.005 & 0.90534 & 0.00203497 &   5239 & 0.88178 & 0.00205128 &   5354 &   8.1545 &  3.9029e-16\\\\\n",
       "\tt4 & HRC    & 0.005 <= MAF < 0.01  & 0.93787 & 0.00555317 &   1304 & 0.93032 & 0.00292994 &   1342 &   1.2033 &  2.2902e-01\\\\\n",
       "\tt1 & TOPMed & MAF < 0.001          & 0.66342 & 0.00080841 & 165244 & 0.68673 & 0.00043663 & 203645 & -25.3676 & 8.5881e-142\\\\\n",
       "\tt3 & TOPMed & 0.001 <= MAF < 0.005 & 0.93094 & 0.00160361 &   5503 & 0.90304 & 0.00121993 &   5597 &  13.8488 &  3.1507e-43\\\\\n",
       "\tt5 & TOPMed & 0.005 <= MAF < 0.01  & 0.95648 & 0.00526870 &   1374 & 0.96321 & 0.00177056 &   1411 &  -1.2107 &  2.2619e-01\\\\\n",
       "\\end{tabular}\n"
      ],
      "text/markdown": [
       "\n",
       "A data.frame: 6 × 10\n",
       "\n",
       "| <!--/--> | dataset &lt;chr&gt; | maf_cat &lt;chr&gt; | corr_mean &lt;dbl&gt; | corr_se &lt;dbl&gt; | corr_n &lt;int&gt; | rsq_mean &lt;dbl&gt; | rsq_se &lt;dbl&gt; | rsq_n &lt;int&gt; | test_stat &lt;dbl&gt; | p_value &lt;dbl&gt; |\n",
       "|---|---|---|---|---|---|---|---|---|---|---|\n",
       "| t | HRC    | MAF &lt; 0.001          | 0.66954 | 0.00173168 |  26178 | 0.68907 | 0.00118463 |  28538 |  -9.3064 |  1.3773e-20 |\n",
       "| t2 | HRC    | 0.001 &lt;= MAF &lt; 0.005 | 0.90534 | 0.00203497 |   5239 | 0.88178 | 0.00205128 |   5354 |   8.1545 |  3.9029e-16 |\n",
       "| t4 | HRC    | 0.005 &lt;= MAF &lt; 0.01  | 0.93787 | 0.00555317 |   1304 | 0.93032 | 0.00292994 |   1342 |   1.2033 |  2.2902e-01 |\n",
       "| t1 | TOPMed | MAF &lt; 0.001          | 0.66342 | 0.00080841 | 165244 | 0.68673 | 0.00043663 | 203645 | -25.3676 | 8.5881e-142 |\n",
       "| t3 | TOPMed | 0.001 &lt;= MAF &lt; 0.005 | 0.93094 | 0.00160361 |   5503 | 0.90304 | 0.00121993 |   5597 |  13.8488 |  3.1507e-43 |\n",
       "| t5 | TOPMed | 0.005 &lt;= MAF &lt; 0.01  | 0.95648 | 0.00526870 |   1374 | 0.96321 | 0.00177056 |   1411 |  -1.2107 |  2.2619e-01 |\n",
       "\n"
      ],
      "text/plain": [
       "   dataset maf_cat              corr_mean corr_se    corr_n rsq_mean rsq_se    \n",
       "t  HRC     MAF < 0.001          0.66954   0.00173168  26178 0.68907  0.00118463\n",
       "t2 HRC     0.001 <= MAF < 0.005 0.90534   0.00203497   5239 0.88178  0.00205128\n",
       "t4 HRC     0.005 <= MAF < 0.01  0.93787   0.00555317   1304 0.93032  0.00292994\n",
       "t1 TOPMed  MAF < 0.001          0.66342   0.00080841 165244 0.68673  0.00043663\n",
       "t3 TOPMed  0.001 <= MAF < 0.005 0.93094   0.00160361   5503 0.90304  0.00121993\n",
       "t5 TOPMed  0.005 <= MAF < 0.01  0.95648   0.00526870   1374 0.96321  0.00177056\n",
       "   rsq_n  test_stat p_value    \n",
       "t   28538  -9.3064   1.3773e-20\n",
       "t2   5354   8.1545   3.9029e-16\n",
       "t4   1342   1.2033   2.2902e-01\n",
       "t1 203645 -25.3676  8.5881e-142\n",
       "t3   5597  13.8488   3.1507e-43\n",
       "t5   1411  -1.2107   2.2619e-01"
      ]
     },
     "metadata": {},
     "output_type": "display_data"
    }
   ],
   "source": [
    "## check if the correlation and R2 is statistically different from each other \n",
    "\n",
    "corr_rsq_df <- data.frame(matrix(ncol=10, nrow = 0))\n",
    "colnames(corr_rsq_df) <- c(\"dataset\", \"maf_cat\", \"corr_mean\", \"corr_se\", \"corr_n\", \"rsq_mean\", \"rsq_se\", \"rsq_n\", \"test_stat\", \"p_value\")\n",
    "\n",
    "for(maf in c(\"MAF < 0.001\", \"0.001 <= MAF < 0.005\", \"0.005 <= MAF < 0.01\")){\n",
    "    hrc_corr <- hrc_corr_df %>% filter(maf_cat == maf)\n",
    "    hrc_rsq <- hrc_r2_df %>% filter(maf_cat == maf)\n",
    "    \n",
    "    topmed_corr <- topmed_corr_df %>% filter(maf_cat == maf)\n",
    "    topmed_rsq <- topmed_r2_df %>% filter(maf_cat == maf)\n",
    "    \n",
    "    hrc_test_result <- t.test(hrc_corr$corr, hrc_rsq$R2_hrc)\n",
    "    topmed_test_result <- t.test(topmed_corr$corr, topmed_rsq$R2_topmed)\n",
    "    \n",
    "    sub_df_hrc <- data.frame(\"dataset\" = \"HRC\", \n",
    "                             \"maf_cat\" = maf, \n",
    "                             \"corr_mean\" = mean(hrc_corr$corr), \n",
    "                             \"corr_se\" = sd(hrc_corr$corr) / sqrt(length(hrc_corr$corr)),\n",
    "                             \"corr_n\" = length(hrc_corr$corr), \n",
    "                             \"rsq_mean\" = mean(hrc_rsq$R2_hrc), \n",
    "                             \"rsq_se\" = sd(hrc_rsq$R2_hrc) / sqrt(length(hrc_rsq$R2_hrc)),\n",
    "                             \"rsq_n\" = length(hrc_rsq$R2_hrc), \n",
    "                             \"test_stat\" = hrc_test_result$statistic, \n",
    "                             \"p_value\" = hrc_test_result$p.value)\n",
    "    \n",
    "    sub_df_topmed <- data.frame(\"dataset\" = \"TOPMed\", \n",
    "                                \"maf_cat\" = maf, \n",
    "                                \"corr_mean\" = mean(topmed_corr$corr), \n",
    "                                \"corr_se\" = sd(topmed_corr$corr) / sqrt(length(topmed_corr$corr)),\n",
    "                                \"corr_n\" = length(topmed_corr$corr), \n",
    "                                \"rsq_mean\" = mean(topmed_rsq$R2_topmed), \n",
    "                                \"rsq_se\" = sd(topmed_rsq$R2_topmed) / sqrt(length(topmed_rsq$R2_topmed)),\n",
    "                                \"rsq_n\" = length(topmed_rsq$R2_topmed), \n",
    "                                \"test_stat\" = topmed_test_result$statistic, \n",
    "                                \"p_value\" = topmed_test_result$p.value)\n",
    "    \n",
    "    corr_rsq_df = rbind(corr_rsq_df, sub_df_hrc, sub_df_topmed)\n",
    "}\n",
    "\n",
    "corr_rsq_df %>% arrange(dataset)"
   ]
  },
  {
   "cell_type": "code",
   "execution_count": 35,
   "id": "96c4be37-841f-48f1-a6b1-348392722a9c",
   "metadata": {
    "kernel": "R",
    "tags": []
   },
   "outputs": [
    {
     "data": {
      "text/html": [
       "<table class=\"dataframe\">\n",
       "<caption>A data.frame: 3 × 10</caption>\n",
       "<thead>\n",
       "\t<tr><th></th><th scope=col>dataset</th><th scope=col>maf_cat</th><th scope=col>corr_mean</th><th scope=col>corr_se</th><th scope=col>corr_n</th><th scope=col>rsq_mean</th><th scope=col>rsq_se</th><th scope=col>rsq_n</th><th scope=col>test_stat</th><th scope=col>p_value</th></tr>\n",
       "\t<tr><th></th><th scope=col>&lt;chr&gt;</th><th scope=col>&lt;chr&gt;</th><th scope=col>&lt;dbl&gt;</th><th scope=col>&lt;dbl&gt;</th><th scope=col>&lt;int&gt;</th><th scope=col>&lt;dbl&gt;</th><th scope=col>&lt;dbl&gt;</th><th scope=col>&lt;int&gt;</th><th scope=col>&lt;dbl&gt;</th><th scope=col>&lt;dbl&gt;</th></tr>\n",
       "</thead>\n",
       "<tbody>\n",
       "\t<tr><th scope=row>t</th><td>HRC_TOPMed</td><td>0.005 &lt;= MAF &lt; 0.01 </td><td>0.95616</td><td>0.00518559</td><td><span style=white-space:pre-wrap>  1384</span></td><td>0.95635</td><td>0.00232959</td><td><span style=white-space:pre-wrap>  1440</span></td><td>-0.032878</td><td>9.7378e-01</td></tr>\n",
       "\t<tr><th scope=row>t2</th><td>HRC_TOPMed</td><td>0.001 &lt;= MAF &lt; 0.005</td><td>0.94635</td><td>0.00160662</td><td><span style=white-space:pre-wrap>  5583</span></td><td>0.92985</td><td>0.00136855</td><td><span style=white-space:pre-wrap>  5733</span></td><td> 7.819454</td><td>5.7904e-15</td></tr>\n",
       "\t<tr><th scope=row>t1</th><td>HRC_TOPMed</td><td><span style=white-space:pre-wrap>MAF &lt; 0.001         </span></td><td>0.74645</td><td>0.00063846</td><td>148289</td><td>0.68856</td><td>0.00043696</td><td>206209</td><td>74.817929</td><td>0.0000e+00</td></tr>\n",
       "</tbody>\n",
       "</table>\n"
      ],
      "text/latex": [
       "A data.frame: 3 × 10\n",
       "\\begin{tabular}{r|llllllllll}\n",
       "  & dataset & maf\\_cat & corr\\_mean & corr\\_se & corr\\_n & rsq\\_mean & rsq\\_se & rsq\\_n & test\\_stat & p\\_value\\\\\n",
       "  & <chr> & <chr> & <dbl> & <dbl> & <int> & <dbl> & <dbl> & <int> & <dbl> & <dbl>\\\\\n",
       "\\hline\n",
       "\tt & HRC\\_TOPMed & 0.005 <= MAF < 0.01  & 0.95616 & 0.00518559 &   1384 & 0.95635 & 0.00232959 &   1440 & -0.032878 & 9.7378e-01\\\\\n",
       "\tt2 & HRC\\_TOPMed & 0.001 <= MAF < 0.005 & 0.94635 & 0.00160662 &   5583 & 0.92985 & 0.00136855 &   5733 &  7.819454 & 5.7904e-15\\\\\n",
       "\tt1 & HRC\\_TOPMed & MAF < 0.001          & 0.74645 & 0.00063846 & 148289 & 0.68856 & 0.00043696 & 206209 & 74.817929 & 0.0000e+00\\\\\n",
       "\\end{tabular}\n"
      ],
      "text/markdown": [
       "\n",
       "A data.frame: 3 × 10\n",
       "\n",
       "| <!--/--> | dataset &lt;chr&gt; | maf_cat &lt;chr&gt; | corr_mean &lt;dbl&gt; | corr_se &lt;dbl&gt; | corr_n &lt;int&gt; | rsq_mean &lt;dbl&gt; | rsq_se &lt;dbl&gt; | rsq_n &lt;int&gt; | test_stat &lt;dbl&gt; | p_value &lt;dbl&gt; |\n",
       "|---|---|---|---|---|---|---|---|---|---|---|\n",
       "| t | HRC_TOPMed | 0.005 &lt;= MAF &lt; 0.01  | 0.95616 | 0.00518559 |   1384 | 0.95635 | 0.00232959 |   1440 | -0.032878 | 9.7378e-01 |\n",
       "| t2 | HRC_TOPMed | 0.001 &lt;= MAF &lt; 0.005 | 0.94635 | 0.00160662 |   5583 | 0.92985 | 0.00136855 |   5733 |  7.819454 | 5.7904e-15 |\n",
       "| t1 | HRC_TOPMed | MAF &lt; 0.001          | 0.74645 | 0.00063846 | 148289 | 0.68856 | 0.00043696 | 206209 | 74.817929 | 0.0000e+00 |\n",
       "\n"
      ],
      "text/plain": [
       "   dataset    maf_cat              corr_mean corr_se    corr_n rsq_mean\n",
       "t  HRC_TOPMed 0.005 <= MAF < 0.01  0.95616   0.00518559   1384 0.95635 \n",
       "t2 HRC_TOPMed 0.001 <= MAF < 0.005 0.94635   0.00160662   5583 0.92985 \n",
       "t1 HRC_TOPMed MAF < 0.001          0.74645   0.00063846 148289 0.68856 \n",
       "   rsq_se     rsq_n  test_stat p_value   \n",
       "t  0.00232959   1440 -0.032878 9.7378e-01\n",
       "t2 0.00136855   5733  7.819454 5.7904e-15\n",
       "t1 0.00043696 206209 74.817929 0.0000e+00"
      ]
     },
     "metadata": {},
     "output_type": "display_data"
    }
   ],
   "source": [
    "hrc_topmed_full_df <- hrc_topmed_df %>% \n",
    "    filter(R2 != 0) %>%\n",
    "    mutate(maf_cat = case_when(is.na(MAF_nfe_exome) | MAF_nfe_exome < 0.001 ~ \"MAF < 0.001\",\n",
    "                               MAF_nfe_exome >= 0.001 & MAF_nfe_exome < 0.005 ~ \"0.001 <= MAF < 0.005\",\n",
    "                               MAF_nfe_exome >= 0.005 & MAF_nfe_exome < 0.01 ~ \"0.005 <= MAF < 0.01\"))\n",
    "\n",
    "corr_rsq_hrc_topmed_df <- data.frame(matrix(ncol=10, nrow = 0))\n",
    "colnames(corr_rsq_hrc_topmed_df) <- c(\"dataset\", \"maf_cat\", \"corr_mean\", \"corr_se\", \"corr_n\", \"rsq_mean\", \"rsq_se\", \"rsq_n\", \"test_stat\", \"p_value\")\n",
    "\n",
    "for(maf in c(\"MAF < 0.001\", \"0.001 <= MAF < 0.005\", \"0.005 <= MAF < 0.01\")){\n",
    "    subdf <- hrc_topmed_full_df %>% filter(maf_cat == maf)\n",
    "    corr <- subdf %>% filter(corr != 0) %>% pull(corr)\n",
    "    test_result <- t.test(corr, subdf$R2)\n",
    "    \n",
    "    sub_df <- data.frame(\"dataset\" = \"HRC_TOPMed\", \n",
    "                             \"maf_cat\" = maf, \n",
    "                             \"corr_mean\" = mean(corr), \n",
    "                             \"corr_se\" = sd(corr) / sqrt(length(corr)),\n",
    "                             \"corr_n\" = length(corr), \n",
    "                             \"rsq_mean\" = mean(subdf$R2), \n",
    "                             \"rsq_se\" = sd(subdf$R2) / sqrt(length(subdf$R2)),\n",
    "                             \"rsq_n\" = length(subdf$R2), \n",
    "                             \"test_stat\" = test_result$statistic, \n",
    "                             \"p_value\" = test_result$p.value)\n",
    "    \n",
    "    corr_rsq_hrc_topmed_df = rbind(sub_df, corr_rsq_hrc_topmed_df)\n",
    "}\n",
    "corr_rsq_hrc_topmed_df"
   ]
  },
  {
   "cell_type": "code",
   "execution_count": 36,
   "id": "a5a8fec9-57d3-4b94-b872-5cdbfa2ddf4c",
   "metadata": {
    "kernel": "R",
    "tags": []
   },
   "outputs": [
    {
     "data": {
      "text/html": [
       "<table class=\"dataframe\">\n",
       "<caption>A tibble: 3 × 4</caption>\n",
       "<thead>\n",
       "\t<tr><th scope=col>maf_cat</th><th scope=col>mean_R2</th><th scope=col>se_corr</th><th scope=col>count_R2</th></tr>\n",
       "\t<tr><th scope=col>&lt;fct&gt;</th><th scope=col>&lt;dbl&gt;</th><th scope=col>&lt;dbl&gt;</th><th scope=col>&lt;int&gt;</th></tr>\n",
       "</thead>\n",
       "<tbody>\n",
       "\t<tr><td><span style=white-space:pre-wrap>MAF &lt; 0.001         </span></td><td>0.68856</td><td>0.00043696</td><td>206209</td></tr>\n",
       "\t<tr><td>0.001 &lt;= MAF &lt; 0.005</td><td>0.92985</td><td>0.00136855</td><td><span style=white-space:pre-wrap>  5733</span></td></tr>\n",
       "\t<tr><td>0.005 &lt;= MAF &lt; 0.01 </td><td>0.95635</td><td>0.00232959</td><td><span style=white-space:pre-wrap>  1440</span></td></tr>\n",
       "</tbody>\n",
       "</table>\n"
      ],
      "text/latex": [
       "A tibble: 3 × 4\n",
       "\\begin{tabular}{llll}\n",
       " maf\\_cat & mean\\_R2 & se\\_corr & count\\_R2\\\\\n",
       " <fct> & <dbl> & <dbl> & <int>\\\\\n",
       "\\hline\n",
       "\t MAF < 0.001          & 0.68856 & 0.00043696 & 206209\\\\\n",
       "\t 0.001 <= MAF < 0.005 & 0.92985 & 0.00136855 &   5733\\\\\n",
       "\t 0.005 <= MAF < 0.01  & 0.95635 & 0.00232959 &   1440\\\\\n",
       "\\end{tabular}\n"
      ],
      "text/markdown": [
       "\n",
       "A tibble: 3 × 4\n",
       "\n",
       "| maf_cat &lt;fct&gt; | mean_R2 &lt;dbl&gt; | se_corr &lt;dbl&gt; | count_R2 &lt;int&gt; |\n",
       "|---|---|---|---|\n",
       "| MAF &lt; 0.001          | 0.68856 | 0.00043696 | 206209 |\n",
       "| 0.001 &lt;= MAF &lt; 0.005 | 0.92985 | 0.00136855 |   5733 |\n",
       "| 0.005 &lt;= MAF &lt; 0.01  | 0.95635 | 0.00232959 |   1440 |\n",
       "\n"
      ],
      "text/plain": [
       "  maf_cat              mean_R2 se_corr    count_R2\n",
       "1 MAF < 0.001          0.68856 0.00043696 206209  \n",
       "2 0.001 <= MAF < 0.005 0.92985 0.00136855   5733  \n",
       "3 0.005 <= MAF < 0.01  0.95635 0.00232959   1440  "
      ]
     },
     "metadata": {},
     "output_type": "display_data"
    }
   ],
   "source": [
    "hrc_topmed_df %>% \n",
    "    mutate(maf_cat = case_when(is.na(MAF_nfe_exome) | MAF_nfe_exome < 0.001 ~ \"MAF < 0.001\",\n",
    "                               MAF_nfe_exome >= 0.001 & MAF_nfe_exome < 0.005 ~ \"0.001 <= MAF < 0.005\",\n",
    "                               MAF_nfe_exome >= 0.005 & MAF_nfe_exome < 0.01 ~ \"0.005 <= MAF < 0.01\")) %>%\n",
    "    group_by(maf_cat) %>%\n",
    "    summarise(mean_R2 = mean(R2), se_corr = sd(R2) / sqrt(n()), count_R2 = n()) %>% \n",
    "    mutate(maf_cat = factor(maf_cat, levels = c(\"MAF < 0.001\", \"0.001 <= MAF < 0.005\", \"0.005 <= MAF < 0.01\"))) %>% \n",
    "    arrange(maf_cat)"
   ]
  },
  {
   "cell_type": "markdown",
   "id": "d5e0dae9-0b23-4fc8-83b9-d479747523e5",
   "metadata": {
    "kernel": "R"
   },
   "source": [
    "#### Overlapped variants - Table S2"
   ]
  },
  {
   "cell_type": "code",
   "execution_count": 37,
   "id": "3e4e09d1-b452-4788-a889-8d79626b207d",
   "metadata": {
    "kernel": "R",
    "tags": []
   },
   "outputs": [],
   "source": [
    "df_overlap <- df %>% \n",
    "    filter(R2_topmed != 0, R2_hrc != 0) %>% \n",
    "    left_join(corr_df %>% filter(grepl(\"hrc\", dataset)) %>% rename(\"corr_hrc\" = \"corr\") %>% select(-dataset, -rsq), by = c(\"ID_hg38\" = \"snpid\")) %>%\n",
    "    left_join(corr_df %>% filter(grepl(\"topmed\", dataset)) %>% rename(\"corr_topmed\" = \"corr\") %>% select(-dataset, -rsq), by = c(\"ID_hg38\" = \"snpid\")) %>%\n",
    "    mutate(maf_cat = case_when(is.na(MAF_nfe_exome) | MAF_nfe_exome < 0.001 ~ \"MAF < 0.001\",\n",
    "                               MAF_nfe_exome >= 0.001 & MAF_nfe_exome < 0.005 ~ \"0.001 <= MAF < 0.005\",\n",
    "                               MAF_nfe_exome >= 0.005 & MAF_nfe_exome < 0.01 ~ \"0.005 <= MAF < 0.01\"))"
   ]
  },
  {
   "cell_type": "code",
   "execution_count": 38,
   "id": "150915df-c6af-4b7e-9f4e-5c12eee72fe0",
   "metadata": {
    "kernel": "R",
    "tags": []
   },
   "outputs": [
    {
     "data": {
      "text/html": [
       "<table class=\"dataframe\">\n",
       "<caption>A data.frame: 6 × 10</caption>\n",
       "<thead>\n",
       "\t<tr><th></th><th scope=col>dataset</th><th scope=col>maf_cat</th><th scope=col>corr_mean</th><th scope=col>corr_se</th><th scope=col>corr_n</th><th scope=col>rsq_mean</th><th scope=col>rsq_se</th><th scope=col>rsq_n</th><th scope=col>test_stat</th><th scope=col>p_value</th></tr>\n",
       "\t<tr><th></th><th scope=col>&lt;chr&gt;</th><th scope=col>&lt;chr&gt;</th><th scope=col>&lt;dbl&gt;</th><th scope=col>&lt;dbl&gt;</th><th scope=col>&lt;int&gt;</th><th scope=col>&lt;dbl&gt;</th><th scope=col>&lt;dbl&gt;</th><th scope=col>&lt;int&gt;</th><th scope=col>&lt;dbl&gt;</th><th scope=col>&lt;dbl&gt;</th></tr>\n",
       "</thead>\n",
       "<tbody>\n",
       "\t<tr><th scope=row>t</th><td><span style=white-space:pre-wrap>HRC   </span></td><td><span style=white-space:pre-wrap>MAF &lt; 0.001         </span></td><td>0.68895</td><td>0.0016910</td><td>24507</td><td>0.70523</td><td>0.0012099</td><td>25974</td><td>-7.83014</td><td> 4.9797e-15</td></tr>\n",
       "\t<tr><th scope=row>t2</th><td><span style=white-space:pre-wrap>HRC   </span></td><td>0.001 &lt;= MAF &lt; 0.005</td><td>0.90995</td><td>0.0019327</td><td> 5154</td><td>0.88861</td><td>0.0019642</td><td> 5218</td><td> 7.74472</td><td> 1.0474e-14</td></tr>\n",
       "\t<tr><th scope=row>t4</th><td><span style=white-space:pre-wrap>HRC   </span></td><td>0.005 &lt;= MAF &lt; 0.01 </td><td>0.94143</td><td>0.0054522</td><td> 1290</td><td>0.93787</td><td>0.0025202</td><td> 1313</td><td> 0.59253</td><td> 5.5357e-01</td></tr>\n",
       "\t<tr><th scope=row>t1</th><td>TOPMed</td><td><span style=white-space:pre-wrap>MAF &lt; 0.001         </span></td><td>0.83922</td><td>0.0011727</td><td>24507</td><td>0.79348</td><td>0.0009873</td><td>25974</td><td>29.83925</td><td>6.8946e-194</td></tr>\n",
       "\t<tr><th scope=row>t3</th><td>TOPMed</td><td>0.001 &lt;= MAF &lt; 0.005</td><td>0.93821</td><td>0.0013255</td><td> 5154</td><td>0.90720</td><td>0.0011628</td><td> 5218</td><td>17.58826</td><td> 3.0784e-68</td></tr>\n",
       "\t<tr><th scope=row>t5</th><td>TOPMed</td><td>0.005 &lt;= MAF &lt; 0.01 </td><td>0.96236</td><td>0.0053148</td><td> 1290</td><td>0.96866</td><td>0.0014622</td><td> 1313</td><td>-1.14197</td><td> 2.5365e-01</td></tr>\n",
       "</tbody>\n",
       "</table>\n"
      ],
      "text/latex": [
       "A data.frame: 6 × 10\n",
       "\\begin{tabular}{r|llllllllll}\n",
       "  & dataset & maf\\_cat & corr\\_mean & corr\\_se & corr\\_n & rsq\\_mean & rsq\\_se & rsq\\_n & test\\_stat & p\\_value\\\\\n",
       "  & <chr> & <chr> & <dbl> & <dbl> & <int> & <dbl> & <dbl> & <int> & <dbl> & <dbl>\\\\\n",
       "\\hline\n",
       "\tt & HRC    & MAF < 0.001          & 0.68895 & 0.0016910 & 24507 & 0.70523 & 0.0012099 & 25974 & -7.83014 &  4.9797e-15\\\\\n",
       "\tt2 & HRC    & 0.001 <= MAF < 0.005 & 0.90995 & 0.0019327 &  5154 & 0.88861 & 0.0019642 &  5218 &  7.74472 &  1.0474e-14\\\\\n",
       "\tt4 & HRC    & 0.005 <= MAF < 0.01  & 0.94143 & 0.0054522 &  1290 & 0.93787 & 0.0025202 &  1313 &  0.59253 &  5.5357e-01\\\\\n",
       "\tt1 & TOPMed & MAF < 0.001          & 0.83922 & 0.0011727 & 24507 & 0.79348 & 0.0009873 & 25974 & 29.83925 & 6.8946e-194\\\\\n",
       "\tt3 & TOPMed & 0.001 <= MAF < 0.005 & 0.93821 & 0.0013255 &  5154 & 0.90720 & 0.0011628 &  5218 & 17.58826 &  3.0784e-68\\\\\n",
       "\tt5 & TOPMed & 0.005 <= MAF < 0.01  & 0.96236 & 0.0053148 &  1290 & 0.96866 & 0.0014622 &  1313 & -1.14197 &  2.5365e-01\\\\\n",
       "\\end{tabular}\n"
      ],
      "text/markdown": [
       "\n",
       "A data.frame: 6 × 10\n",
       "\n",
       "| <!--/--> | dataset &lt;chr&gt; | maf_cat &lt;chr&gt; | corr_mean &lt;dbl&gt; | corr_se &lt;dbl&gt; | corr_n &lt;int&gt; | rsq_mean &lt;dbl&gt; | rsq_se &lt;dbl&gt; | rsq_n &lt;int&gt; | test_stat &lt;dbl&gt; | p_value &lt;dbl&gt; |\n",
       "|---|---|---|---|---|---|---|---|---|---|---|\n",
       "| t | HRC    | MAF &lt; 0.001          | 0.68895 | 0.0016910 | 24507 | 0.70523 | 0.0012099 | 25974 | -7.83014 |  4.9797e-15 |\n",
       "| t2 | HRC    | 0.001 &lt;= MAF &lt; 0.005 | 0.90995 | 0.0019327 |  5154 | 0.88861 | 0.0019642 |  5218 |  7.74472 |  1.0474e-14 |\n",
       "| t4 | HRC    | 0.005 &lt;= MAF &lt; 0.01  | 0.94143 | 0.0054522 |  1290 | 0.93787 | 0.0025202 |  1313 |  0.59253 |  5.5357e-01 |\n",
       "| t1 | TOPMed | MAF &lt; 0.001          | 0.83922 | 0.0011727 | 24507 | 0.79348 | 0.0009873 | 25974 | 29.83925 | 6.8946e-194 |\n",
       "| t3 | TOPMed | 0.001 &lt;= MAF &lt; 0.005 | 0.93821 | 0.0013255 |  5154 | 0.90720 | 0.0011628 |  5218 | 17.58826 |  3.0784e-68 |\n",
       "| t5 | TOPMed | 0.005 &lt;= MAF &lt; 0.01  | 0.96236 | 0.0053148 |  1290 | 0.96866 | 0.0014622 |  1313 | -1.14197 |  2.5365e-01 |\n",
       "\n"
      ],
      "text/plain": [
       "   dataset maf_cat              corr_mean corr_se   corr_n rsq_mean rsq_se   \n",
       "t  HRC     MAF < 0.001          0.68895   0.0016910 24507  0.70523  0.0012099\n",
       "t2 HRC     0.001 <= MAF < 0.005 0.90995   0.0019327  5154  0.88861  0.0019642\n",
       "t4 HRC     0.005 <= MAF < 0.01  0.94143   0.0054522  1290  0.93787  0.0025202\n",
       "t1 TOPMed  MAF < 0.001          0.83922   0.0011727 24507  0.79348  0.0009873\n",
       "t3 TOPMed  0.001 <= MAF < 0.005 0.93821   0.0013255  5154  0.90720  0.0011628\n",
       "t5 TOPMed  0.005 <= MAF < 0.01  0.96236   0.0053148  1290  0.96866  0.0014622\n",
       "   rsq_n test_stat p_value    \n",
       "t  25974 -7.83014   4.9797e-15\n",
       "t2  5218  7.74472   1.0474e-14\n",
       "t4  1313  0.59253   5.5357e-01\n",
       "t1 25974 29.83925  6.8946e-194\n",
       "t3  5218 17.58826   3.0784e-68\n",
       "t5  1313 -1.14197   2.5365e-01"
      ]
     },
     "metadata": {},
     "output_type": "display_data"
    }
   ],
   "source": [
    "corr_rsq_overlap_df <- data.frame(matrix(ncol=10, nrow = 0))\n",
    "colnames(corr_rsq_overlap_df) <- c(\"dataset\", \"maf_cat\", \"corr_mean\", \"corr_se\", \"corr_n\", \"rsq_mean\", \"rsq_se\", \"rsq_n\", \"test_stat\", \"p_value\")\n",
    "\n",
    "for(maf in c(\"MAF < 0.001\", \"0.001 <= MAF < 0.005\", \"0.005 <= MAF < 0.01\")){\n",
    "    hrc_corr <- df_overlap %>% filter(maf_cat == maf) %>% pull(corr_hrc)\n",
    "    hrc_corr <- hrc_corr[!is.na(hrc_corr)]\n",
    "    hrc_rsq <- df_overlap %>% filter(maf_cat == maf) %>% pull(R2_hrc)\n",
    "    \n",
    "    topmed_corr <- df_overlap %>% filter(maf_cat == maf) %>% pull(corr_topmed)\n",
    "    topmed_corr <- topmed_corr[!is.na(topmed_corr)]\n",
    "    topmed_rsq <- df_overlap %>% filter(maf_cat == maf) %>% pull(R2_topmed)\n",
    "    \n",
    "    hrc_test_result <- t.test(hrc_corr, hrc_rsq)\n",
    "    topmed_test_result <- t.test(topmed_corr, topmed_rsq)\n",
    "    \n",
    "    sub_df_hrc <- data.frame(\"dataset\" = \"HRC\", \n",
    "                             \"maf_cat\" = maf, \n",
    "                             \"corr_mean\" = mean(hrc_corr), \n",
    "                             \"corr_se\" = sd(hrc_corr) / sqrt(length(hrc_corr)),\n",
    "                             \"corr_n\" = length(hrc_corr), \n",
    "                             \"rsq_mean\" = mean(hrc_rsq), \n",
    "                             \"rsq_se\" = sd(hrc_rsq) / sqrt(length(hrc_rsq)),\n",
    "                             \"rsq_n\" = length(hrc_rsq), \n",
    "                             \"test_stat\" = hrc_test_result$statistic, \n",
    "                             \"p_value\" = hrc_test_result$p.value)\n",
    "    \n",
    "    sub_df_topmed <- data.frame(\"dataset\" = \"TOPMed\", \n",
    "                                \"maf_cat\" = maf, \n",
    "                                \"corr_mean\" = mean(topmed_corr), \n",
    "                                \"corr_se\" = sd(topmed_corr) / sqrt(length(topmed_corr)),\n",
    "                                \"corr_n\" = length(topmed_corr), \n",
    "                                \"rsq_mean\" = mean(topmed_rsq), \n",
    "                                \"rsq_se\" = sd(topmed_rsq) / sqrt(length(topmed_rsq)),\n",
    "                                \"rsq_n\" = length(topmed_rsq), \n",
    "                                \"test_stat\" = topmed_test_result$statistic, \n",
    "                                \"p_value\" = topmed_test_result$p.value)\n",
    "    \n",
    "    corr_rsq_overlap_df = rbind(corr_rsq_overlap_df, sub_df_hrc, sub_df_topmed)\n",
    "}\n",
    "\n",
    "corr_rsq_overlap_df %>% arrange(dataset)"
   ]
  },
  {
   "cell_type": "markdown",
   "id": "f5161889-f8b0-4186-a893-7e0379a1d96f",
   "metadata": {
    "kernel": "R"
   },
   "source": [
    "#### Overlapped variants - Table S3"
   ]
  },
  {
   "cell_type": "code",
   "execution_count": 39,
   "id": "c291ab58-38df-4469-a763-f10fa2e69bcf",
   "metadata": {
    "kernel": "R",
    "tags": []
   },
   "outputs": [
    {
     "data": {
      "text/html": [
       "<table class=\"dataframe\">\n",
       "<caption>A data.frame: 3 × 9</caption>\n",
       "<thead>\n",
       "\t<tr><th></th><th scope=col>maf_cat</th><th scope=col>rsq_hrc_mean</th><th scope=col>rsq_hrc_se</th><th scope=col>rsq_hrc_n</th><th scope=col>rsq_topmed_mean</th><th scope=col>rsq_topmed_se</th><th scope=col>rsq_topmed_n</th><th scope=col>test_stat</th><th scope=col>p_value</th></tr>\n",
       "\t<tr><th></th><th scope=col>&lt;chr&gt;</th><th scope=col>&lt;dbl&gt;</th><th scope=col>&lt;dbl&gt;</th><th scope=col>&lt;int&gt;</th><th scope=col>&lt;dbl&gt;</th><th scope=col>&lt;dbl&gt;</th><th scope=col>&lt;int&gt;</th><th scope=col>&lt;dbl&gt;</th><th scope=col>&lt;dbl&gt;</th></tr>\n",
       "</thead>\n",
       "<tbody>\n",
       "\t<tr><th scope=row>t</th><td><span style=white-space:pre-wrap>MAF &lt; 0.001         </span></td><td>0.70523</td><td>0.0012099</td><td>25974</td><td>0.79348</td><td>0.0009873</td><td>25974</td><td>-56.5129</td><td>0.0000e+00</td></tr>\n",
       "\t<tr><th scope=row>t1</th><td>0.001 &lt;= MAF &lt; 0.005</td><td>0.88861</td><td>0.0019642</td><td> 5218</td><td>0.90720</td><td>0.0011628</td><td> 5218</td><td> -8.1453</td><td>4.3210e-16</td></tr>\n",
       "\t<tr><th scope=row>t2</th><td>0.005 &lt;= MAF &lt; 0.01 </td><td>0.93787</td><td>0.0025202</td><td> 1313</td><td>0.96866</td><td>0.0014622</td><td> 1313</td><td>-10.5646</td><td>1.8625e-25</td></tr>\n",
       "</tbody>\n",
       "</table>\n"
      ],
      "text/latex": [
       "A data.frame: 3 × 9\n",
       "\\begin{tabular}{r|lllllllll}\n",
       "  & maf\\_cat & rsq\\_hrc\\_mean & rsq\\_hrc\\_se & rsq\\_hrc\\_n & rsq\\_topmed\\_mean & rsq\\_topmed\\_se & rsq\\_topmed\\_n & test\\_stat & p\\_value\\\\\n",
       "  & <chr> & <dbl> & <dbl> & <int> & <dbl> & <dbl> & <int> & <dbl> & <dbl>\\\\\n",
       "\\hline\n",
       "\tt & MAF < 0.001          & 0.70523 & 0.0012099 & 25974 & 0.79348 & 0.0009873 & 25974 & -56.5129 & 0.0000e+00\\\\\n",
       "\tt1 & 0.001 <= MAF < 0.005 & 0.88861 & 0.0019642 &  5218 & 0.90720 & 0.0011628 &  5218 &  -8.1453 & 4.3210e-16\\\\\n",
       "\tt2 & 0.005 <= MAF < 0.01  & 0.93787 & 0.0025202 &  1313 & 0.96866 & 0.0014622 &  1313 & -10.5646 & 1.8625e-25\\\\\n",
       "\\end{tabular}\n"
      ],
      "text/markdown": [
       "\n",
       "A data.frame: 3 × 9\n",
       "\n",
       "| <!--/--> | maf_cat &lt;chr&gt; | rsq_hrc_mean &lt;dbl&gt; | rsq_hrc_se &lt;dbl&gt; | rsq_hrc_n &lt;int&gt; | rsq_topmed_mean &lt;dbl&gt; | rsq_topmed_se &lt;dbl&gt; | rsq_topmed_n &lt;int&gt; | test_stat &lt;dbl&gt; | p_value &lt;dbl&gt; |\n",
       "|---|---|---|---|---|---|---|---|---|---|\n",
       "| t | MAF &lt; 0.001          | 0.70523 | 0.0012099 | 25974 | 0.79348 | 0.0009873 | 25974 | -56.5129 | 0.0000e+00 |\n",
       "| t1 | 0.001 &lt;= MAF &lt; 0.005 | 0.88861 | 0.0019642 |  5218 | 0.90720 | 0.0011628 |  5218 |  -8.1453 | 4.3210e-16 |\n",
       "| t2 | 0.005 &lt;= MAF &lt; 0.01  | 0.93787 | 0.0025202 |  1313 | 0.96866 | 0.0014622 |  1313 | -10.5646 | 1.8625e-25 |\n",
       "\n"
      ],
      "text/plain": [
       "   maf_cat              rsq_hrc_mean rsq_hrc_se rsq_hrc_n rsq_topmed_mean\n",
       "t  MAF < 0.001          0.70523      0.0012099  25974     0.79348        \n",
       "t1 0.001 <= MAF < 0.005 0.88861      0.0019642   5218     0.90720        \n",
       "t2 0.005 <= MAF < 0.01  0.93787      0.0025202   1313     0.96866        \n",
       "   rsq_topmed_se rsq_topmed_n test_stat p_value   \n",
       "t  0.0009873     25974        -56.5129  0.0000e+00\n",
       "t1 0.0011628      5218         -8.1453  4.3210e-16\n",
       "t2 0.0014622      1313        -10.5646  1.8625e-25"
      ]
     },
     "metadata": {},
     "output_type": "display_data"
    }
   ],
   "source": [
    "rsq_overlap_df <- data.frame(matrix(ncol=10, nrow = 0))\n",
    "colnames(rsq_overlap_df) <- c(\"maf_cat\", \"rsq_mean\", \"rsq_se\", \"rsq_n\", \"test_stat\", \"p_value\")\n",
    "\n",
    "for(maf in c(\"MAF < 0.001\", \"0.001 <= MAF < 0.005\", \"0.005 <= MAF < 0.01\")){\n",
    "    hrc_rsq <- df_overlap %>% filter(maf_cat == maf) %>% pull(R2_hrc)\n",
    "    topmed_rsq <- df_overlap %>% filter(maf_cat == maf) %>% pull(R2_topmed)\n",
    "    \n",
    "    test_result <- t.test(hrc_rsq, topmed_rsq)\n",
    "#     t_statistic <- (mean(hrc_rsq) - mean(topmed_rsq)) / sqrt((var(hrc_rsq)/length(hrc_rsq)) + (var(topmed_rsq)/length(topmed_rsq)))\n",
    "    \n",
    "#     t.value = unname(test_result$statistic)\n",
    "#     df = unname(test_result$parameter[1])\n",
    "#     p = as.character(2*pt(-abs(t.value), df))\n",
    "#     print(.N(test_result$p.value))\n",
    "    \n",
    "    sub_df <- data.frame(\"maf_cat\" = maf, \n",
    "                         \"rsq_hrc_mean\" = mean(hrc_rsq), \n",
    "                         \"rsq_hrc_se\" = sd(hrc_rsq) / sqrt(length(hrc_rsq)),\n",
    "                         # \"rsq_hrc_se\" = sd(hrc_rsq),\n",
    "                         \"rsq_hrc_n\" = length(hrc_rsq), \n",
    "                         \"rsq_topmed_mean\" = mean(topmed_rsq), \n",
    "                         \"rsq_topmed_se\" = sd(topmed_rsq) / sqrt(length(topmed_rsq)),\n",
    "                         # \"rsq_topmed_se\" = sd(topmed_rsq),\n",
    "                         \"rsq_topmed_n\" = length(topmed_rsq), \n",
    "                         \"test_stat\" = test_result$statistic, \n",
    "                         \"p_value\" = test_result$p.value)\n",
    "    \n",
    "    rsq_overlap_df = rbind(rsq_overlap_df, sub_df)\n",
    "}\n",
    "\n",
    "rsq_overlap_df %>% arrange(dataset)"
   ]
  },
  {
   "cell_type": "code",
   "execution_count": 40,
   "id": "6b3c33a6-fd95-41f5-b77f-bf4eb67eeab3",
   "metadata": {
    "kernel": "R",
    "tags": []
   },
   "outputs": [
    {
     "data": {
      "text/html": [
       "<table class=\"dataframe\">\n",
       "<caption>A data.frame: 6 × 10</caption>\n",
       "<thead>\n",
       "\t<tr><th></th><th scope=col>data</th><th scope=col>r2_mean</th><th scope=col>r2_se</th><th scope=col>r2_n</th><th scope=col>r2_mean_hrc_topmed</th><th scope=col>r2_se_hrc_topmed</th><th scope=col>r2_n_hrc_topmed</th><th scope=col>test_stat</th><th scope=col>p_value</th><th scope=col>maf_cat</th></tr>\n",
       "\t<tr><th></th><th scope=col>&lt;chr&gt;</th><th scope=col>&lt;dbl&gt;</th><th scope=col>&lt;dbl&gt;</th><th scope=col>&lt;int&gt;</th><th scope=col>&lt;dbl&gt;</th><th scope=col>&lt;dbl&gt;</th><th scope=col>&lt;int&gt;</th><th scope=col>&lt;dbl&gt;</th><th scope=col>&lt;dbl&gt;</th><th scope=col>&lt;chr&gt;</th></tr>\n",
       "</thead>\n",
       "<tbody>\n",
       "\t<tr><th scope=row>t</th><td><span style=white-space:pre-wrap>HRC   </span></td><td>0.70523</td><td>0.0012099</td><td>25974</td><td>0.68856</td><td>0.00043696</td><td>206209</td><td> 12.9545</td><td>2.7448e-38</td><td><span style=white-space:pre-wrap>MAF &lt; 0.001         </span></td></tr>\n",
       "\t<tr><th scope=row>t1</th><td>TOPMed</td><td>0.79348</td><td>0.0009873</td><td>25974</td><td>0.68856</td><td>0.00043696</td><td>206209</td><td> 97.1745</td><td>0.0000e+00</td><td><span style=white-space:pre-wrap>MAF &lt; 0.001         </span></td></tr>\n",
       "\t<tr><th scope=row>t2</th><td><span style=white-space:pre-wrap>HRC   </span></td><td>0.88861</td><td>0.0019642</td><td> 5218</td><td>0.92985</td><td>0.00136855</td><td><span style=white-space:pre-wrap>  5733</span></td><td>-17.2253</td><td>1.6941e-65</td><td>0.001 &lt;= MAF &lt; 0.005</td></tr>\n",
       "\t<tr><th scope=row>t3</th><td>TOPMed</td><td>0.90720</td><td>0.0011628</td><td> 5218</td><td>0.92985</td><td>0.00136855</td><td><span style=white-space:pre-wrap>  5733</span></td><td>-12.6091</td><td>3.3811e-36</td><td>0.001 &lt;= MAF &lt; 0.005</td></tr>\n",
       "\t<tr><th scope=row>t4</th><td><span style=white-space:pre-wrap>HRC   </span></td><td>0.93787</td><td>0.0025202</td><td> 1313</td><td>0.95635</td><td>0.00232959</td><td><span style=white-space:pre-wrap>  1440</span></td><td> -5.3836</td><td>7.9271e-08</td><td>0.005 &lt;= MAF &lt; 0.01 </td></tr>\n",
       "\t<tr><th scope=row>t5</th><td>TOPMed</td><td>0.96866</td><td>0.0014622</td><td> 1313</td><td>0.95635</td><td>0.00232959</td><td><span style=white-space:pre-wrap>  1440</span></td><td><span style=white-space:pre-wrap>  4.4739</span></td><td>8.0417e-06</td><td>0.005 &lt;= MAF &lt; 0.01 </td></tr>\n",
       "</tbody>\n",
       "</table>\n"
      ],
      "text/latex": [
       "A data.frame: 6 × 10\n",
       "\\begin{tabular}{r|llllllllll}\n",
       "  & data & r2\\_mean & r2\\_se & r2\\_n & r2\\_mean\\_hrc\\_topmed & r2\\_se\\_hrc\\_topmed & r2\\_n\\_hrc\\_topmed & test\\_stat & p\\_value & maf\\_cat\\\\\n",
       "  & <chr> & <dbl> & <dbl> & <int> & <dbl> & <dbl> & <int> & <dbl> & <dbl> & <chr>\\\\\n",
       "\\hline\n",
       "\tt & HRC    & 0.70523 & 0.0012099 & 25974 & 0.68856 & 0.00043696 & 206209 &  12.9545 & 2.7448e-38 & MAF < 0.001         \\\\\n",
       "\tt1 & TOPMed & 0.79348 & 0.0009873 & 25974 & 0.68856 & 0.00043696 & 206209 &  97.1745 & 0.0000e+00 & MAF < 0.001         \\\\\n",
       "\tt2 & HRC    & 0.88861 & 0.0019642 &  5218 & 0.92985 & 0.00136855 &   5733 & -17.2253 & 1.6941e-65 & 0.001 <= MAF < 0.005\\\\\n",
       "\tt3 & TOPMed & 0.90720 & 0.0011628 &  5218 & 0.92985 & 0.00136855 &   5733 & -12.6091 & 3.3811e-36 & 0.001 <= MAF < 0.005\\\\\n",
       "\tt4 & HRC    & 0.93787 & 0.0025202 &  1313 & 0.95635 & 0.00232959 &   1440 &  -5.3836 & 7.9271e-08 & 0.005 <= MAF < 0.01 \\\\\n",
       "\tt5 & TOPMed & 0.96866 & 0.0014622 &  1313 & 0.95635 & 0.00232959 &   1440 &   4.4739 & 8.0417e-06 & 0.005 <= MAF < 0.01 \\\\\n",
       "\\end{tabular}\n"
      ],
      "text/markdown": [
       "\n",
       "A data.frame: 6 × 10\n",
       "\n",
       "| <!--/--> | data &lt;chr&gt; | r2_mean &lt;dbl&gt; | r2_se &lt;dbl&gt; | r2_n &lt;int&gt; | r2_mean_hrc_topmed &lt;dbl&gt; | r2_se_hrc_topmed &lt;dbl&gt; | r2_n_hrc_topmed &lt;int&gt; | test_stat &lt;dbl&gt; | p_value &lt;dbl&gt; | maf_cat &lt;chr&gt; |\n",
       "|---|---|---|---|---|---|---|---|---|---|---|\n",
       "| t | HRC    | 0.70523 | 0.0012099 | 25974 | 0.68856 | 0.00043696 | 206209 |  12.9545 | 2.7448e-38 | MAF &lt; 0.001          |\n",
       "| t1 | TOPMed | 0.79348 | 0.0009873 | 25974 | 0.68856 | 0.00043696 | 206209 |  97.1745 | 0.0000e+00 | MAF &lt; 0.001          |\n",
       "| t2 | HRC    | 0.88861 | 0.0019642 |  5218 | 0.92985 | 0.00136855 |   5733 | -17.2253 | 1.6941e-65 | 0.001 &lt;= MAF &lt; 0.005 |\n",
       "| t3 | TOPMed | 0.90720 | 0.0011628 |  5218 | 0.92985 | 0.00136855 |   5733 | -12.6091 | 3.3811e-36 | 0.001 &lt;= MAF &lt; 0.005 |\n",
       "| t4 | HRC    | 0.93787 | 0.0025202 |  1313 | 0.95635 | 0.00232959 |   1440 |  -5.3836 | 7.9271e-08 | 0.005 &lt;= MAF &lt; 0.01  |\n",
       "| t5 | TOPMed | 0.96866 | 0.0014622 |  1313 | 0.95635 | 0.00232959 |   1440 |   4.4739 | 8.0417e-06 | 0.005 &lt;= MAF &lt; 0.01  |\n",
       "\n"
      ],
      "text/plain": [
       "   data   r2_mean r2_se     r2_n  r2_mean_hrc_topmed r2_se_hrc_topmed\n",
       "t  HRC    0.70523 0.0012099 25974 0.68856            0.00043696      \n",
       "t1 TOPMed 0.79348 0.0009873 25974 0.68856            0.00043696      \n",
       "t2 HRC    0.88861 0.0019642  5218 0.92985            0.00136855      \n",
       "t3 TOPMed 0.90720 0.0011628  5218 0.92985            0.00136855      \n",
       "t4 HRC    0.93787 0.0025202  1313 0.95635            0.00232959      \n",
       "t5 TOPMed 0.96866 0.0014622  1313 0.95635            0.00232959      \n",
       "   r2_n_hrc_topmed test_stat p_value    maf_cat             \n",
       "t  206209           12.9545  2.7448e-38 MAF < 0.001         \n",
       "t1 206209           97.1745  0.0000e+00 MAF < 0.001         \n",
       "t2   5733          -17.2253  1.6941e-65 0.001 <= MAF < 0.005\n",
       "t3   5733          -12.6091  3.3811e-36 0.001 <= MAF < 0.005\n",
       "t4   1440           -5.3836  7.9271e-08 0.005 <= MAF < 0.01 \n",
       "t5   1440            4.4739  8.0417e-06 0.005 <= MAF < 0.01 "
      ]
     },
     "metadata": {},
     "output_type": "display_data"
    }
   ],
   "source": [
    "## check if the RSQ is statistically different v.s. HRC_TOPMed\n",
    "\n",
    "r2_df <- data.frame(matrix(ncol=10, nrow = 0))\n",
    "colnames(r2_df) <- c(\"data\", \"r2_mean\", \"r2_se\", \"r2_n\", \"r2_mean_hrc_topmed\", \"r2_se_hrc_topmed\", \"r2_n_hrc_topmed\", \"test_stat\", \"p_value\", \"maf_cat\")\n",
    "\n",
    "for(maf in c(\"MAF < 0.001\", \"0.001 <= MAF < 0.005\", \"0.005 <= MAF < 0.01\")){\n",
    "    hrc_r2 <- df_overlap %>% filter(maf_cat == maf) %>% pull(R2_hrc)\n",
    "    topmed_r2 <- df_overlap %>% filter(maf_cat == maf) %>% pull(R2_topmed)\n",
    "    hrc_topmed <- hrc_topmed_df %>% filter(maf_cat == maf) %>% pull(R2)\n",
    "    \n",
    "    hrc_test_result <- t.test(hrc_r2, hrc_topmed)\n",
    "    topmed_test_result <- t.test(topmed_r2, hrc_topmed)\n",
    "    \n",
    "    hrc_t_statistic <- (mean(hrc_r2) - mean(hrc_topmed)) / sqrt((var(hrc_r2)/length(hrc_r2)) + (var(hrc_topmed)/length(hrc_topmed)))\n",
    "    topmed_t_statistic <- (mean(topmed_r2) - mean(hrc_topmed)) / sqrt((var(topmed_r2)/length(topmed_r2)) + (var(hrc_topmed)/length(hrc_topmed)))\n",
    "\n",
    "\n",
    "    hrc_r2_df <- data.frame(\"data\" = \"HRC\", \n",
    "                            \"r2_mean\" = mean(hrc_r2),\n",
    "                            \"r2_se\" = sd(hrc_r2) / sqrt(length(hrc_r2)),\n",
    "                            \"r2_n\" = length(hrc_r2), \n",
    "                            \"r2_mean_hrc_topmed\" = mean(hrc_topmed),\n",
    "                            \"r2_se_hrc_topmed\" = sd(hrc_topmed) / sqrt(length(hrc_topmed)),\n",
    "                            \"r2_n_hrc_topmed\" = length(hrc_topmed), \n",
    "                            \"test_stat\" = hrc_test_result$statistic, \n",
    "                            \"p_value\" = hrc_test_result$p.value,\n",
    "                            \"maf_cat\" = maf)\n",
    "    \n",
    "    \n",
    "    topmed_r2_df <- data.frame(\"data\" = \"TOPMed\",\n",
    "                               \"r2_mean\" = mean(topmed_r2),\n",
    "                               \"r2_se\" = sd(topmed_r2) / sqrt(length(topmed_r2)),\n",
    "                               \"r2_n\" = length(topmed_r2), \n",
    "                               \"r2_mean_hrc_topmed\" = mean(hrc_topmed),\n",
    "                               \"r2_se_hrc_topmed\" = sd(hrc_topmed) / sqrt(length(hrc_topmed)),\n",
    "                               \"r2_n_hrc_topmed\" = length(hrc_topmed), \n",
    "                               \"test_stat\" = topmed_test_result$statistic, \n",
    "                               \"p_value\" = topmed_test_result$p.value,\n",
    "                                \"maf_cat\" = maf)\n",
    "    \n",
    "    r2_df = rbind(r2_df, hrc_r2_df, topmed_r2_df)\n",
    "}\n",
    "\n",
    "r2_df"
   ]
  },
  {
   "cell_type": "code",
   "execution_count": 41,
   "id": "4c51bbb4-99a9-4f49-aa5e-c9e913099077",
   "metadata": {
    "kernel": "R",
    "tags": []
   },
   "outputs": [
    {
     "data": {
      "text/html": [
       "<table class=\"dataframe\">\n",
       "<caption>A data.table: 6 × 4</caption>\n",
       "<thead>\n",
       "\t<tr><th scope=col>R2</th><th scope=col>R2_hrc</th><th scope=col>R2_topmed</th><th scope=col>R2_exome</th></tr>\n",
       "\t<tr><th scope=col>&lt;dbl&gt;</th><th scope=col>&lt;dbl&gt;</th><th scope=col>&lt;dbl&gt;</th><th scope=col>&lt;int&gt;</th></tr>\n",
       "</thead>\n",
       "<tbody>\n",
       "\t<tr><td>0.76740</td><td>0.42560</td><td>0.76740</td><td>999</td></tr>\n",
       "\t<tr><td>0.88566</td><td>0.58472</td><td>0.88566</td><td>999</td></tr>\n",
       "\t<tr><td>0.80613</td><td>0.80613</td><td>0.32464</td><td>999</td></tr>\n",
       "\t<tr><td>0.99516</td><td>0.99516</td><td>0.99382</td><td>999</td></tr>\n",
       "\t<tr><td>0.72488</td><td>0.72488</td><td>0.61533</td><td>999</td></tr>\n",
       "\t<tr><td>0.79836</td><td>0.79836</td><td>0.78210</td><td>999</td></tr>\n",
       "</tbody>\n",
       "</table>\n"
      ],
      "text/latex": [
       "A data.table: 6 × 4\n",
       "\\begin{tabular}{llll}\n",
       " R2 & R2\\_hrc & R2\\_topmed & R2\\_exome\\\\\n",
       " <dbl> & <dbl> & <dbl> & <int>\\\\\n",
       "\\hline\n",
       "\t 0.76740 & 0.42560 & 0.76740 & 999\\\\\n",
       "\t 0.88566 & 0.58472 & 0.88566 & 999\\\\\n",
       "\t 0.80613 & 0.80613 & 0.32464 & 999\\\\\n",
       "\t 0.99516 & 0.99516 & 0.99382 & 999\\\\\n",
       "\t 0.72488 & 0.72488 & 0.61533 & 999\\\\\n",
       "\t 0.79836 & 0.79836 & 0.78210 & 999\\\\\n",
       "\\end{tabular}\n"
      ],
      "text/markdown": [
       "\n",
       "A data.table: 6 × 4\n",
       "\n",
       "| R2 &lt;dbl&gt; | R2_hrc &lt;dbl&gt; | R2_topmed &lt;dbl&gt; | R2_exome &lt;int&gt; |\n",
       "|---|---|---|---|\n",
       "| 0.76740 | 0.42560 | 0.76740 | 999 |\n",
       "| 0.88566 | 0.58472 | 0.88566 | 999 |\n",
       "| 0.80613 | 0.80613 | 0.32464 | 999 |\n",
       "| 0.99516 | 0.99516 | 0.99382 | 999 |\n",
       "| 0.72488 | 0.72488 | 0.61533 | 999 |\n",
       "| 0.79836 | 0.79836 | 0.78210 | 999 |\n",
       "\n"
      ],
      "text/plain": [
       "  R2      R2_hrc  R2_topmed R2_exome\n",
       "1 0.76740 0.42560 0.76740   999     \n",
       "2 0.88566 0.58472 0.88566   999     \n",
       "3 0.80613 0.80613 0.32464   999     \n",
       "4 0.99516 0.99516 0.99382   999     \n",
       "5 0.72488 0.72488 0.61533   999     \n",
       "6 0.79836 0.79836 0.78210   999     "
      ]
     },
     "metadata": {},
     "output_type": "display_data"
    }
   ],
   "source": [
    "head(df_overlap) %>% select(starts_with(\"R2\"))"
   ]
  },
  {
   "cell_type": "code",
   "execution_count": 42,
   "id": "62d0acc8-6288-4527-b5b9-5232978c45f5",
   "metadata": {
    "kernel": "R",
    "tags": []
   },
   "outputs": [
    {
     "name": "stderr",
     "output_type": "stream",
     "text": [
      "\u001b[1m\u001b[22mAdding missing grouping variables: `maf_cat`\n"
     ]
    },
    {
     "data": {
      "text/html": [
       "<table class=\"dataframe\">\n",
       "<caption>A grouped_df: 6 × 5</caption>\n",
       "<thead>\n",
       "\t<tr><th scope=col>maf_cat</th><th scope=col>R2</th><th scope=col>R2_hrc</th><th scope=col>R2_topmed</th><th scope=col>R2_exome</th></tr>\n",
       "\t<tr><th scope=col>&lt;chr&gt;</th><th scope=col>&lt;dbl&gt;</th><th scope=col>&lt;dbl&gt;</th><th scope=col>&lt;dbl&gt;</th><th scope=col>&lt;int&gt;</th></tr>\n",
       "</thead>\n",
       "<tbody>\n",
       "\t<tr><td><span style=white-space:pre-wrap>MAF &lt; 0.001        </span></td><td>0.76740</td><td>0.42560</td><td>0.76740</td><td>999</td></tr>\n",
       "\t<tr><td><span style=white-space:pre-wrap>MAF &lt; 0.001        </span></td><td>0.88566</td><td>0.58472</td><td>0.88566</td><td>999</td></tr>\n",
       "\t<tr><td><span style=white-space:pre-wrap>MAF &lt; 0.001        </span></td><td>0.80613</td><td>0.80613</td><td>0.32464</td><td>999</td></tr>\n",
       "\t<tr><td>0.005 &lt;= MAF &lt; 0.01</td><td>0.99516</td><td>0.99516</td><td>0.99382</td><td>999</td></tr>\n",
       "\t<tr><td><span style=white-space:pre-wrap>MAF &lt; 0.001        </span></td><td>0.72488</td><td>0.72488</td><td>0.61533</td><td>999</td></tr>\n",
       "\t<tr><td><span style=white-space:pre-wrap>MAF &lt; 0.001        </span></td><td>0.79836</td><td>0.79836</td><td>0.78210</td><td>999</td></tr>\n",
       "</tbody>\n",
       "</table>\n"
      ],
      "text/latex": [
       "A grouped\\_df: 6 × 5\n",
       "\\begin{tabular}{lllll}\n",
       " maf\\_cat & R2 & R2\\_hrc & R2\\_topmed & R2\\_exome\\\\\n",
       " <chr> & <dbl> & <dbl> & <dbl> & <int>\\\\\n",
       "\\hline\n",
       "\t MAF < 0.001         & 0.76740 & 0.42560 & 0.76740 & 999\\\\\n",
       "\t MAF < 0.001         & 0.88566 & 0.58472 & 0.88566 & 999\\\\\n",
       "\t MAF < 0.001         & 0.80613 & 0.80613 & 0.32464 & 999\\\\\n",
       "\t 0.005 <= MAF < 0.01 & 0.99516 & 0.99516 & 0.99382 & 999\\\\\n",
       "\t MAF < 0.001         & 0.72488 & 0.72488 & 0.61533 & 999\\\\\n",
       "\t MAF < 0.001         & 0.79836 & 0.79836 & 0.78210 & 999\\\\\n",
       "\\end{tabular}\n"
      ],
      "text/markdown": [
       "\n",
       "A grouped_df: 6 × 5\n",
       "\n",
       "| maf_cat &lt;chr&gt; | R2 &lt;dbl&gt; | R2_hrc &lt;dbl&gt; | R2_topmed &lt;dbl&gt; | R2_exome &lt;int&gt; |\n",
       "|---|---|---|---|---|\n",
       "| MAF &lt; 0.001         | 0.76740 | 0.42560 | 0.76740 | 999 |\n",
       "| MAF &lt; 0.001         | 0.88566 | 0.58472 | 0.88566 | 999 |\n",
       "| MAF &lt; 0.001         | 0.80613 | 0.80613 | 0.32464 | 999 |\n",
       "| 0.005 &lt;= MAF &lt; 0.01 | 0.99516 | 0.99516 | 0.99382 | 999 |\n",
       "| MAF &lt; 0.001         | 0.72488 | 0.72488 | 0.61533 | 999 |\n",
       "| MAF &lt; 0.001         | 0.79836 | 0.79836 | 0.78210 | 999 |\n",
       "\n"
      ],
      "text/plain": [
       "  maf_cat             R2      R2_hrc  R2_topmed R2_exome\n",
       "1 MAF < 0.001         0.76740 0.42560 0.76740   999     \n",
       "2 MAF < 0.001         0.88566 0.58472 0.88566   999     \n",
       "3 MAF < 0.001         0.80613 0.80613 0.32464   999     \n",
       "4 0.005 <= MAF < 0.01 0.99516 0.99516 0.99382   999     \n",
       "5 MAF < 0.001         0.72488 0.72488 0.61533   999     \n",
       "6 MAF < 0.001         0.79836 0.79836 0.78210   999     "
      ]
     },
     "metadata": {},
     "output_type": "display_data"
    }
   ],
   "source": [
    "head(hrc_topmed_df) %>% select(starts_with(\"R2\"))"
   ]
  },
  {
   "cell_type": "code",
   "execution_count": 43,
   "id": "ffd70f98-1ae4-4ffa-ba9b-3538e4f2b5fe",
   "metadata": {
    "kernel": "R",
    "tags": []
   },
   "outputs": [
    {
     "data": {
      "text/html": [
       "2.2250738585072e-308"
      ],
      "text/latex": [
       "2.2250738585072e-308"
      ],
      "text/markdown": [
       "2.2250738585072e-308"
      ],
      "text/plain": [
       "[1] 2.2251e-308"
      ]
     },
     "metadata": {},
     "output_type": "display_data"
    }
   ],
   "source": [
    ".Machine$double.xmin"
   ]
  },
  {
   "cell_type": "code",
   "execution_count": null,
   "id": "f9034348-9400-48fe-91a0-bd73ababc9cf",
   "metadata": {
    "kernel": "R"
   },
   "outputs": [],
   "source": []
  },
  {
   "cell_type": "markdown",
   "id": "ab0f27dc-615a-44ff-a4bd-9cc334197dc4",
   "metadata": {
    "kernel": "R"
   },
   "source": [
    "## Power for overlapped variants of TOPMed and Exome\n",
    "\n",
    "We are going to perform the simulation with an overlapped set of variants from Exome and TOPMed using the already simulated phenotype from previous simulations. \n",
    "\n",
    "**Parameters**: all variants causal, OR = 1.5, disease prevalence = 0.1, $R^2$ = 0.3"
   ]
  },
  {
   "cell_type": "markdown",
   "id": "f22c2bef-c339-4408-83c0-362784f8d5d8",
   "metadata": {
    "kernel": "R"
   },
   "source": [
    "### Create per gene genotype file"
   ]
  },
  {
   "cell_type": "code",
   "execution_count": 48,
   "id": "7d987ed2-390a-47bd-92cd-1825bed42462",
   "metadata": {
    "kernel": "R",
    "tags": []
   },
   "outputs": [],
   "source": [
    "library(dplyr)\n",
    "library(data.table)\n",
    "\n",
    "annot <- fread(\"~/project/imputation-rvtest/analysis/imputation_aggregated_analysis/hrc_topmed_exome/hrc_topmed_exome_168206ids_rsq03_maf001_annot.csv.gz\")"
   ]
  },
  {
   "cell_type": "code",
   "execution_count": 49,
   "id": "c5008435-b980-4ac9-98a3-f3c2e62340ce",
   "metadata": {
    "kernel": "R",
    "tags": []
   },
   "outputs": [],
   "source": [
    "setwd(\"~/project/imputation-rvtest/workflows/imputation_aggregated_analysis/rsq_missing_variant_comp\")\n",
    "\n",
    "annot_overlap <- annot %>% filter(!is.na(R2_topmed), R2_topmed != 0, R2_exome == 999)\n",
    "\n",
    "# for(maf in c(0.01, 0.005, 0.001)){\n",
    "for(maf in c(0.01)){\n",
    "    maf_c <- gsub(\"\\\\.\", \"\", as.character(maf))\n",
    "    command_fname <- sprintf(\"./maf%s/extract_variants.sh\", maf_c)\n",
    "    \n",
    "    if (file.exists(command_fname)) file.remove(command_fname)\n",
    "    fname <- file(command_fname, \"w\")\n",
    "    writeLines(\"module load Plink/2.00a\", fname)\n",
    "    close(fname)\n",
    "\n",
    "    for(g in unique(annot_overlap$Gene.refGene)){\n",
    "        annot_gene <- annot_overlap %>% \n",
    "            filter(is.na(MAF_nfe_exome) | MAF_nfe_exome < maf) %>% \n",
    "            filter(Gene.refGene == g) \n",
    "        \n",
    "        annot_gene %>% \n",
    "            select(ID_hg38) %>% \n",
    "            fwrite(sprintf(\"./maf%s/%s\", maf_c, g))\n",
    "        \n",
    "        chr <- annot_gene[1,]$Chr\n",
    "        \n",
    "        command <- sprintf(\"plink2 --bpfile ~/project/imputation-rvtest/analysis/imputation_aggregated_analysis/topmed/topmed_chr%i_rsq03_maf%s_LOF_missense_extracted \\\\\n",
    "                                --extract %s --export A-transpose --make-bpgen --out %s;\", \n",
    "                                chr, maf_c, g, g)\n",
    "        write(command, command_fname, append=TRUE)\n",
    "    }\n",
    "}"
   ]
  },
  {
   "cell_type": "code",
   "execution_count": 50,
   "id": "f8b06c1e-b638-4360-a017-aba72b317694",
   "metadata": {
    "kernel": "R",
    "tags": []
   },
   "outputs": [],
   "source": [
    "annot_overlap <- annot %>% filter(!is.na(R2_topmed), R2_topmed != 0, R2_exome == 999)\n",
    "\n",
    "# for(maf in c(0.01, 0.005, 0.001)){\n",
    "for(maf in c(0.01)){\n",
    "    maf_c <- gsub(\"\\\\.\", \"\", as.character(maf))\n",
    "    command_fname <- sprintf(\"./maf%s/extract_variants_exome.sh\", maf_c)\n",
    "    \n",
    "    if (file.exists(command_fname)) file.remove(command_fname)\n",
    "    fname <- file(command_fname, \"w\")\n",
    "    writeLines(\"module load Plink/1.9.10\", fname)\n",
    "    close(fname)\n",
    "\n",
    "    for(g in unique(annot_overlap$Gene.refGene)){\n",
    "        annot_gene <- annot_overlap %>% \n",
    "            filter(is.na(MAF_nfe_exome) | MAF_nfe_exome < maf) %>% \n",
    "            filter(Gene.refGene == g)\n",
    "        chr <- annot_gene[1,]$Chr\n",
    "\n",
    "        command <- sprintf(\"plink --bfile ~/project/imputation-rvtest/analysis/imputation_aggregated_analysis/exome/ukb23156_c%d_maf%s_LOF_missense_extracted \\\\\n",
    "                            --extract %s --make-bed --out %s;\", chr, maf_c, g, sprintf(\"%s_exome\", g))\n",
    "        write(command, command_fname, append=TRUE)\n",
    "    }\n",
    "}"
   ]
  },
  {
   "cell_type": "markdown",
   "id": "57f20a71-884d-4e19-9cf2-9e7f22e104a6",
   "metadata": {
    "kernel": "R"
   },
   "source": [
    "### Writing bash script for submission"
   ]
  },
  {
   "cell_type": "code",
   "execution_count": 51,
   "id": "97b200d4-d92b-49f1-8da0-2a5d87fa8e06",
   "metadata": {
    "kernel": "Bash",
    "tags": []
   },
   "outputs": [],
   "source": [
    "cd /home/tl3031/project/imputation-rvtest/workflows/imputation_aggregated_analysis/rsq_missing_variant_comp/scripts/\n",
    "\n",
    "# for maf in 0001 0005 001; do\n",
    "for maf in 001; do\n",
    "    rscript_name='simulation_maf'$maf'.R'\n",
    "    num_gene=3194\n",
    "\n",
    "    for ((i = 1; i <= 3194; i += 100)); do\n",
    "        start=$i\n",
    "        end=$((start+100-1))\n",
    "        script_name='simulation_maf'$maf'_'$start'_'$end'.sh'\n",
    "\n",
    "        if (( end > 3194 )); then\n",
    "            end=3194\n",
    "        fi\n",
    "\n",
    "        echo '#!/bin/bash' >> $script_name\n",
    "        echo '#$ -N' 'simulation_maf'$maf'_'$start'_'$end >> $script_name\n",
    "        echo '#$ -l h_vmem=50G' >> $script_name\n",
    "        echo '#$ -l h_rt=600:00:00' >> $script_name\n",
    "        echo '#$ -o /home/tl3031/project/imputation-rvtest/workflows/imputation_aggregated_analysis/rsq_missing_variant_comp/scripts/'$script_name'_'$JOB_ID'.out' >> $script_name\n",
    "        echo '#$ -e /home/tl3031/project/imputation-rvtest/workflows/imputation_aggregated_analysis/rsq_missing_variant_comp/scripts/'$script_name'_'$JOB_ID'.err' >> $script_name\n",
    "        echo '#$ -q csg.q' >> $script_name\n",
    "        echo '#$ -j y' >> $script_name\n",
    "        echo '#$ -S /bin/bash' >> $script_name\n",
    "        echo 'export PATH=$HOME/miniconda3/bin:$PATH' >> $script_name\n",
    "        echo 'module load R/4.2.2.10' >> $script_name\n",
    "        echo 'cd /home/tl3031/project/imputation-rvtest/workflows/imputation_aggregated_analysis/rsq_missing_variant_comp/scripts/' >> $script_name\n",
    "        echo 'Rscript '$rscript_name' '$start' '$end >> $script_name\n",
    "    done\n",
    "done"
   ]
  },
  {
   "cell_type": "code",
   "execution_count": 53,
   "id": "cace0a84-f706-461c-a668-f4b3f6aebf91",
   "metadata": {
    "kernel": "Bash",
    "tags": []
   },
   "outputs": [],
   "source": [
    "cd /home/tl3031/project/imputation-rvtest/workflows/imputation_aggregated_analysis/rsq_missing_variant_comp/scripts/\n",
    "\n",
    "# for maf in 0001 0005 001; do\n",
    "for maf in 001; do\n",
    "    rscript_name='simulation_maf'$maf'_prev02.R'\n",
    "    num_gene=3194\n",
    "\n",
    "    for ((i = 1; i <= 3194; i += 100)); do\n",
    "        start=$i\n",
    "        end=$((start+100-1))\n",
    "        script_name='simulation_maf'$maf'_'$start'_'$end'_prev02.sh'\n",
    "\n",
    "        if (( end > 3194 )); then\n",
    "            end=3194\n",
    "        fi\n",
    "\n",
    "        echo '#!/bin/bash' >> $script_name\n",
    "        echo '#$ -N' 'simulation_maf'$maf'_'$start'_'$end >> $script_name\n",
    "        echo '#$ -l h_vmem=50G' >> $script_name\n",
    "        echo '#$ -l h_rt=600:00:00' >> $script_name\n",
    "        echo '#$ -o /home/tl3031/project/imputation-rvtest/workflows/imputation_aggregated_analysis/rsq_missing_variant_comp/scripts/'$script_name'_'$JOB_ID'.out' >> $script_name\n",
    "        echo '#$ -e /home/tl3031/project/imputation-rvtest/workflows/imputation_aggregated_analysis/rsq_missing_variant_comp/scripts/'$script_name'_'$JOB_ID'.err' >> $script_name\n",
    "        echo '#$ -q csg.q' >> $script_name\n",
    "        echo '#$ -j y' >> $script_name\n",
    "        echo '#$ -S /bin/bash' >> $script_name\n",
    "        echo 'export PATH=$HOME/miniconda3/bin:$PATH' >> $script_name\n",
    "        echo 'module load R/4.2.2.10' >> $script_name\n",
    "        echo 'cd /home/tl3031/project/imputation-rvtest/workflows/imputation_aggregated_analysis/rsq_missing_variant_comp/scripts/' >> $script_name\n",
    "        echo 'Rscript '$rscript_name' '$start' '$end >> $script_name\n",
    "    done\n",
    "done"
   ]
  },
  {
   "cell_type": "markdown",
   "id": "1ec1663a-3d94-40c8-8c99-5e938581fa82",
   "metadata": {
    "kernel": "R"
   },
   "source": [
    "### Summarizing result"
   ]
  },
  {
   "cell_type": "code",
   "execution_count": 54,
   "id": "c0ae8f63-5e3d-4035-9e3c-f11200bc3987",
   "metadata": {
    "kernel": "R",
    "tags": []
   },
   "outputs": [
    {
     "name": "stdout",
     "output_type": "stream",
     "text": [
      "Calling: dsc-query /home/tl3031/project/imputation-rvtest/workflows/imputation_aggregated_analysis/dsc_rsq03_maf001/bin_pheno_168206id_brv -o /tmp/8231881.1.csg.q/RtmpjPwtcr/fileea3b329de53c.csv --target \"parse_input parse_input.idx fixed_effect_prop.deletrious_effect fixed_effect_prop.causal_del bin_phenotype bin_phenotype.prevalence\" --force \n",
      "Loaded dscquery output table with 76656 rows and 7 columns.\n"
     ]
    }
   ],
   "source": [
    "library(dscrutils)\n",
    "\n",
    "dsc_dir = '/home/tl3031/project/imputation-rvtest/workflows/imputation_aggregated_analysis/dsc_rsq03_maf001/bin_pheno_168206id_brv'\n",
    "setwd('/home/tl3031/project/imputation-rvtest/workflows/imputation_aggregated_analysis/dsc_rsq03_maf001/bin_pheno_168206id_brv')\n",
    "\n",
    "result <- dscrutils::dscquery(dsc_dir, targets = c(\"parse_input\",\n",
    "                                                   \"parse_input.idx\",\n",
    "                                                   \"fixed_effect_prop.deletrious_effect\",\n",
    "                                                   \"fixed_effect_prop.causal_del\",\n",
    "                                                   \"bin_phenotype\",\n",
    "                                                   \"bin_phenotype.prevalence\"),\n",
    "                             module.output.files = c(\"parse_input\", \"bin_phenotype\"))\n",
    "\n",
    "result_filtered <- result %>% filter(fixed_effect_prop.deletrious_effect == 1.5, fixed_effect_prop.causal_del == \"c(1,1)\", bin_phenotype.prevalence == 0.1)"
   ]
  },
  {
   "cell_type": "code",
   "execution_count": 70,
   "id": "9530c9fb-244e-4576-8fc4-3d3a50dbc498",
   "metadata": {
    "kernel": "R",
    "tags": []
   },
   "outputs": [
    {
     "data": {
      "text/html": [
       "<style>\n",
       ".list-inline {list-style: none; margin:0; padding: 0}\n",
       ".list-inline>li {display: inline-block}\n",
       ".list-inline>li:not(:last-child)::after {content: \"\\00b7\"; padding: 0 .5ex}\n",
       "</style>\n",
       "<ol class=list-inline><li>'A3GALT2'</li><li>'AADACL3'</li><li>'AADACL4'</li><li>'ABCA4'</li><li>'ABCB10'</li><li>'ABCD3'</li></ol>\n"
      ],
      "text/latex": [
       "\\begin{enumerate*}\n",
       "\\item 'A3GALT2'\n",
       "\\item 'AADACL3'\n",
       "\\item 'AADACL4'\n",
       "\\item 'ABCA4'\n",
       "\\item 'ABCB10'\n",
       "\\item 'ABCD3'\n",
       "\\end{enumerate*}\n"
      ],
      "text/markdown": [
       "1. 'A3GALT2'\n",
       "2. 'AADACL3'\n",
       "3. 'AADACL4'\n",
       "4. 'ABCA4'\n",
       "5. 'ABCB10'\n",
       "6. 'ABCD3'\n",
       "\n",
       "\n"
      ],
      "text/plain": [
       "[1] \"A3GALT2\" \"AADACL3\" \"AADACL4\" \"ABCA4\"   \"ABCB10\"  \"ABCD3\"  "
      ]
     },
     "metadata": {},
     "output_type": "display_data"
    }
   ],
   "source": [
    "annot <- data.table::fread(\"~/project/imputation-rvtest/analysis/imputation_aggregated_analysis/hrc_topmed_exome/hrc_topmed_exome_168206ids_rsq03_maf001_annot.csv.gz\")\n",
    "gene_lst <- fread(\"~/project/imputation-rvtest/workflows/imputation_aggregated_analysis/rsq_missing_variant_comp/gene_list.csv\", header = FALSE)$V1\n",
    "head(gene_lst)"
   ]
  },
  {
   "cell_type": "code",
   "execution_count": 71,
   "id": "f5568842-76a4-4299-864d-395d82e66aad",
   "metadata": {
    "kernel": "R",
    "tags": []
   },
   "outputs": [
    {
     "data": {
      "text/html": [
       "<table class=\"dataframe\">\n",
       "<caption>A tibble: 6 × 4</caption>\n",
       "<thead>\n",
       "\t<tr><th scope=col>maf</th><th scope=col>dataset</th><th scope=col>power</th><th scope=col>mean_r2</th></tr>\n",
       "\t<tr><th scope=col>&lt;dbl&gt;</th><th scope=col>&lt;chr&gt;</th><th scope=col>&lt;dbl&gt;</th><th scope=col>&lt;chr&gt;</th></tr>\n",
       "</thead>\n",
       "<tbody>\n",
       "\t<tr><td>0.010</td><td>exome </td><td>0.60682</td><td>NA               </td></tr>\n",
       "\t<tr><td>0.010</td><td>topmed</td><td>0.46544</td><td>0.72305592544771 </td></tr>\n",
       "\t<tr><td>0.005</td><td>exome </td><td>0.54739</td><td>NA               </td></tr>\n",
       "\t<tr><td>0.005</td><td>topmed</td><td>0.38755</td><td>0.720760063083636</td></tr>\n",
       "\t<tr><td>0.001</td><td>exome </td><td>0.33688</td><td>NA               </td></tr>\n",
       "\t<tr><td>0.001</td><td>topmed</td><td>0.19769</td><td>0.7123860461728  </td></tr>\n",
       "</tbody>\n",
       "</table>\n"
      ],
      "text/latex": [
       "A tibble: 6 × 4\n",
       "\\begin{tabular}{llll}\n",
       " maf & dataset & power & mean\\_r2\\\\\n",
       " <dbl> & <chr> & <dbl> & <chr>\\\\\n",
       "\\hline\n",
       "\t 0.010 & exome  & 0.60682 & NA               \\\\\n",
       "\t 0.010 & topmed & 0.46544 & 0.72305592544771 \\\\\n",
       "\t 0.005 & exome  & 0.54739 & NA               \\\\\n",
       "\t 0.005 & topmed & 0.38755 & 0.720760063083636\\\\\n",
       "\t 0.001 & exome  & 0.33688 & NA               \\\\\n",
       "\t 0.001 & topmed & 0.19769 & 0.7123860461728  \\\\\n",
       "\\end{tabular}\n"
      ],
      "text/markdown": [
       "\n",
       "A tibble: 6 × 4\n",
       "\n",
       "| maf &lt;dbl&gt; | dataset &lt;chr&gt; | power &lt;dbl&gt; | mean_r2 &lt;chr&gt; |\n",
       "|---|---|---|---|\n",
       "| 0.010 | exome  | 0.60682 | NA                |\n",
       "| 0.010 | topmed | 0.46544 | 0.72305592544771  |\n",
       "| 0.005 | exome  | 0.54739 | NA                |\n",
       "| 0.005 | topmed | 0.38755 | 0.720760063083636 |\n",
       "| 0.001 | exome  | 0.33688 | NA                |\n",
       "| 0.001 | topmed | 0.19769 | 0.7123860461728   |\n",
       "\n"
      ],
      "text/plain": [
       "  maf   dataset power   mean_r2          \n",
       "1 0.010 exome   0.60682 NA               \n",
       "2 0.010 topmed  0.46544 0.72305592544771 \n",
       "3 0.005 exome   0.54739 NA               \n",
       "4 0.005 topmed  0.38755 0.720760063083636\n",
       "5 0.001 exome   0.33688 NA               \n",
       "6 0.001 topmed  0.19769 0.7123860461728  "
      ]
     },
     "metadata": {},
     "output_type": "display_data"
    }
   ],
   "source": [
    "## prevalence = 0.1\n",
    "\n",
    "result <- data.frame(matrix(ncol = 4, nrow = 0))\n",
    "colnames(result) <- c(\"maf\", \"dataset\", \"power\", \"mean_r2\")\n",
    "\n",
    "for(maf in c(0.01, 0.005, 0.001)){\n",
    "    maf_c <- gsub(\"\\\\.\", \"\", as.character(maf))\n",
    "    flst <- list.files(sprintf(\"~/project/imputation-rvtest/workflows/imputation_aggregated_analysis/rsq_missing_variant_comp/maf%s\", maf_c), \n",
    "                       pattern = \"csv\", full.names = TRUE) \n",
    "    flst <- gtools::mixedsort(flst[!grepl(\"prev02\", flst)])\n",
    "    result_df <- data.frame(matrix(ncol=2, nrow=0))\n",
    "    for(f in flst){\n",
    "        df <- fread(f)\n",
    "        result_df <- rbind(result_df, df)\n",
    "    }\n",
    "\n",
    "    power_df <- result_df %>% \n",
    "        mutate(pval = ifelse(pval == \"ERROR\", 1, pval)) %>%\n",
    "        mutate(pval = ifelse(is.na(pval), 1, pval)) %>%\n",
    "        group_by(dataset) %>%\n",
    "        summarise(power = sum(as.numeric(pval) < 2.5e-6) / 3197)\n",
    "    \n",
    "    topmed_gene_lst <- result_df %>% \n",
    "        filter(dataset == \"topmed\") %>% \n",
    "        mutate(gene = gene_lst) %>% \n",
    "        mutate(pval = ifelse(pval == \"ERROR\", 1, pval)) %>%\n",
    "        mutate(pval = ifelse(is.na(pval), 1, pval)) %>%\n",
    "        filter(as.numeric(pval) < 2.5e-6) %>% \n",
    "        pull(gene)\n",
    "    \n",
    "    mean_r2 <- annot %>% \n",
    "        filter(MAF_nfe_exome < maf, Gene.refGene %in% topmed_gene_lst, R2_topmed != 0, R2_exome == 999) %>% \n",
    "        group_by(Gene.refGene) %>% \n",
    "        summarise(mean_r2 = mean(R2_topmed)) %>%\n",
    "        pull(mean_r2) %>%\n",
    "        mean()\n",
    "    \n",
    "    power_df <- power_df %>% mutate(mean_r2 = c(\"NA\", mean_r2), maf = maf)\n",
    "    result <- rbind(result, power_df)\n",
    "}\n",
    "\n",
    "result %>% select(maf, dataset, power, mean_r2)"
   ]
  },
  {
   "cell_type": "code",
   "execution_count": 72,
   "id": "02feacea-e525-4a50-9838-b388d6af477d",
   "metadata": {
    "kernel": "R",
    "tags": []
   },
   "outputs": [
    {
     "data": {
      "text/html": [
       "<table class=\"dataframe\">\n",
       "<caption>A tibble: 6 × 4</caption>\n",
       "<thead>\n",
       "\t<tr><th scope=col>maf</th><th scope=col>dataset</th><th scope=col>power</th><th scope=col>mean_r2</th></tr>\n",
       "\t<tr><th scope=col>&lt;dbl&gt;</th><th scope=col>&lt;chr&gt;</th><th scope=col>&lt;dbl&gt;</th><th scope=col>&lt;chr&gt;</th></tr>\n",
       "</thead>\n",
       "<tbody>\n",
       "\t<tr><td>0.010</td><td>exome </td><td>0.60400</td><td>NA               </td></tr>\n",
       "\t<tr><td>0.010</td><td>topmed</td><td>0.45824</td><td>0.723051738835145</td></tr>\n",
       "\t<tr><td>0.005</td><td>exome </td><td>0.54770</td><td>NA               </td></tr>\n",
       "\t<tr><td>0.005</td><td>topmed</td><td>0.38223</td><td>0.720717254375534</td></tr>\n",
       "\t<tr><td>0.001</td><td>exome </td><td>0.33688</td><td>NA               </td></tr>\n",
       "\t<tr><td>0.001</td><td>topmed</td><td>0.19769</td><td>0.7123860461728  </td></tr>\n",
       "</tbody>\n",
       "</table>\n"
      ],
      "text/latex": [
       "A tibble: 6 × 4\n",
       "\\begin{tabular}{llll}\n",
       " maf & dataset & power & mean\\_r2\\\\\n",
       " <dbl> & <chr> & <dbl> & <chr>\\\\\n",
       "\\hline\n",
       "\t 0.010 & exome  & 0.60400 & NA               \\\\\n",
       "\t 0.010 & topmed & 0.45824 & 0.723051738835145\\\\\n",
       "\t 0.005 & exome  & 0.54770 & NA               \\\\\n",
       "\t 0.005 & topmed & 0.38223 & 0.720717254375534\\\\\n",
       "\t 0.001 & exome  & 0.33688 & NA               \\\\\n",
       "\t 0.001 & topmed & 0.19769 & 0.7123860461728  \\\\\n",
       "\\end{tabular}\n"
      ],
      "text/markdown": [
       "\n",
       "A tibble: 6 × 4\n",
       "\n",
       "| maf &lt;dbl&gt; | dataset &lt;chr&gt; | power &lt;dbl&gt; | mean_r2 &lt;chr&gt; |\n",
       "|---|---|---|---|\n",
       "| 0.010 | exome  | 0.60400 | NA                |\n",
       "| 0.010 | topmed | 0.45824 | 0.723051738835145 |\n",
       "| 0.005 | exome  | 0.54770 | NA                |\n",
       "| 0.005 | topmed | 0.38223 | 0.720717254375534 |\n",
       "| 0.001 | exome  | 0.33688 | NA                |\n",
       "| 0.001 | topmed | 0.19769 | 0.7123860461728   |\n",
       "\n"
      ],
      "text/plain": [
       "  maf   dataset power   mean_r2          \n",
       "1 0.010 exome   0.60400 NA               \n",
       "2 0.010 topmed  0.45824 0.723051738835145\n",
       "3 0.005 exome   0.54770 NA               \n",
       "4 0.005 topmed  0.38223 0.720717254375534\n",
       "5 0.001 exome   0.33688 NA               \n",
       "6 0.001 topmed  0.19769 0.7123860461728  "
      ]
     },
     "metadata": {},
     "output_type": "display_data"
    }
   ],
   "source": [
    "## prevalence = 0.2\n",
    "\n",
    "result <- data.frame(matrix(ncol = 4, nrow = 0))\n",
    "colnames(result) <- c(\"maf\", \"dataset\", \"power\", \"mean_r2\")\n",
    "\n",
    "for(maf in c(0.01, 0.005, 0.001)){\n",
    "    maf_c <- gsub(\"\\\\.\", \"\", as.character(maf))\n",
    "    flst <- list.files(sprintf(\"~/project/imputation-rvtest/workflows/imputation_aggregated_analysis/rsq_missing_variant_comp/maf%s\", maf_c), \n",
    "                       pattern = \"prev02.csv\", full.names = TRUE) \n",
    "    flst <- gtools::mixedsort(flst)\n",
    "    result_df <- data.frame(matrix(ncol=2, nrow=0))\n",
    "    for(f in flst){\n",
    "        df <- fread(f)\n",
    "        result_df <- rbind(result_df, df)\n",
    "    }\n",
    "\n",
    "    power_df <- result_df %>% \n",
    "        mutate(pval = ifelse(pval == \"ERROR\", 1, pval)) %>%\n",
    "        mutate(pval = ifelse(is.na(pval), 1, pval)) %>%\n",
    "        group_by(dataset) %>%\n",
    "        summarise(power = sum(as.numeric(pval) < 2.5e-6) / 3197)\n",
    "    \n",
    "    topmed_gene_lst <- result_df %>% \n",
    "        filter(dataset == \"topmed\") %>% \n",
    "        mutate(gene = gene_lst) %>% \n",
    "        mutate(pval = ifelse(pval == \"ERROR\", 1, pval)) %>%\n",
    "        mutate(pval = ifelse(is.na(pval), 1, pval)) %>%\n",
    "        filter(as.numeric(pval) < 2.5e-6) %>% \n",
    "        pull(gene)\n",
    "    \n",
    "    mean_r2 <- annot %>% \n",
    "        filter(MAF_nfe_exome < maf, Gene.refGene %in% topmed_gene_lst, R2_topmed != 0, R2_exome == 999) %>% \n",
    "        group_by(Gene.refGene) %>% \n",
    "        summarise(mean_r2 = mean(R2_topmed)) %>%\n",
    "        pull(mean_r2) %>%\n",
    "        mean()\n",
    "    \n",
    "    power_df <- power_df %>% mutate(mean_r2 = c(\"NA\", mean_r2), maf = maf)\n",
    "    result <- rbind(result, power_df)\n",
    "}\n",
    "\n",
    "result %>% select(maf, dataset, power, mean_r2)"
   ]
  },
  {
   "cell_type": "code",
   "execution_count": null,
   "id": "744b8b5b-8a3b-449b-8f88-00cfb3f317dc",
   "metadata": {
    "kernel": "R"
   },
   "outputs": [],
   "source": []
  },
  {
   "cell_type": "markdown",
   "id": "16074f2b-f02f-4db5-a173-4e79b702e46f",
   "metadata": {
    "kernel": "SoS"
   },
   "source": [
    "## Average R2 for all genes and significant genes\n",
    "\n",
    "We are interested in whether the average R2 will be different for all genes vs the genes reaching exome wide significant level."
   ]
  },
  {
   "cell_type": "code",
   "execution_count": 56,
   "id": "af3b9418-dacf-4ffa-b42c-d83f86dea9e6",
   "metadata": {
    "kernel": "R",
    "tags": []
   },
   "outputs": [],
   "source": [
    "library(dplyr)\n",
    "library(data.table)\n",
    "\n",
    "param_idx_match_brv_rsq03 <- function(num_gene, causal_del_es, prev, sample, dsc_result_dir, dsc_gene_dir){\n",
    "    gene_idx <- c(1:num_gene)\n",
    "    \n",
    "    idx <- switch(conditions[which(conditions == causal_del_es)],\n",
    "                  '0,0,1.2' = 1,\n",
    "                  '0,0,1.5' = 2, \n",
    "                  '0,0,1.8' = 3, \n",
    "                  '1,1,1.2' = 4, \n",
    "                  '1,1,1.5' = 5, \n",
    "                  '1,1,1.8' = 6,\n",
    "                  '0.75,1,1.2' = 7, \n",
    "                  '0.75,1,1.5' = 8, \n",
    "                  '0.75,1,1.8' = 9,\n",
    "                  '0.5,1,1.2' = 10, \n",
    "                  '0.5,1,1.5' = 11, \n",
    "                  '0.5,1,1.8' = 12)\n",
    "    fixed_eff_idx <- seq(idx, num_gene, 12)\n",
    "    \n",
    "    pheno_idx <- ifelse(prev == 0.1, 1, 2)\n",
    "    \n",
    "    fnames <- lapply(gene_idx, function(x) {\n",
    "        if(x <= 3172){\n",
    "            fname <- paste0(dsc_result_dir, \"parse_input_\", x, \"_fixed_effect_prop_\", idx, \"_bin_phenotype_\", pheno_idx, \"_brv_preprocess_\", sample, \"_1_brv_1.rds\")\n",
    "        } else {\n",
    "            # fname <- paste0(dsc_result_dir, \"parse_input_\", x, \"_fixed_effect_prop_\", idx+12, \"_bin_phenotype_\", pheno_idx + 2, \"_brv_pre_\", sample, \"_2_brv_2.rds\")\n",
    "            fname <- paste0(dsc_result_dir, \"parse_input_\", x, \"_fixed_effect_prop_\", idx, \"_bin_phenotype_\", pheno_idx, \"_brv_preprocess_\", sample, \"_1_brv_1.rds\")\n",
    "        }\n",
    "    })\n",
    "    \n",
    "    gene_fnames <- lapply(gene_idx, function(x) {\n",
    "            gene_fname <- paste0(dsc_gene_dir, \"parse_input_\", x, \".rds\")\n",
    "    })\n",
    "    \n",
    "    return(list(fnames = unlist(fnames), gene_fnames = unlist(gene_fnames)))\n",
    "}"
   ]
  },
  {
   "cell_type": "code",
   "execution_count": 57,
   "id": "6de1e0ee-0662-4895-9383-bcdce778b485",
   "metadata": {
    "kernel": "R",
    "tags": []
   },
   "outputs": [],
   "source": [
    "get_sig_genes_rsq03 <- function(dsc_result_dir, dsc_gene_dir, num_gene, data){\n",
    "    result_df <- data.frame(condition = c(), prevalence = c(), gene = c(), pvals = c())\n",
    "    for(i in conditions){\n",
    "        for(prev in c(0.1, 0.2)){\n",
    "            print(sprintf(\"conditions %s, prev %f, data %s\", i, prev, data))\n",
    "            result_fname_lst <- param_idx_match_brv_rsq03(num_gene, i, prev, data, dsc_result_dir, dsc_gene_dir)\n",
    "            result_fname_lst$fnames\n",
    "            result_fname_lst$gene_fnames\n",
    "            \n",
    "            gene_lst <- list()\n",
    "            pval_lst <- list()\n",
    "            # for(f in c(1:5)){\n",
    "            for(f in c(1:length(result_fname_lst$fnames))){\n",
    "                if(f %% 500 == 0) print(f)\n",
    "                gene_lst <- c(gene_lst, readRDS(result_fname_lst$gene_fnames[f])$gene)\n",
    "                pval_lst <- c(pval_lst, readRDS(result_fname_lst$fnames[f])$pval)\n",
    "            }\n",
    "            \n",
    "            genes <- lapply(unlist(gene_lst), function(x) unlist(strsplit(x, \"_\"))[[2]])\n",
    "            pvals <- lapply(unlist(pval_lst), function(x) ifelse(x == \"ERROR\", 1, x))\n",
    "\n",
    "            subdf <- data.frame(condition = i, prevalence = prev, gene = unlist(genes), pvals = unlist(pvals))\n",
    "            result_df <- rbind(result_df, subdf)\n",
    "        }\n",
    "    }\n",
    "    return(result_df)\n",
    "}"
   ]
  },
  {
   "cell_type": "markdown",
   "id": "0afcf806-b365-4dea-9ad6-946c001cb052",
   "metadata": {
    "kernel": "R",
    "tags": []
   },
   "source": [
    "### HRC result"
   ]
  },
  {
   "cell_type": "code",
   "execution_count": 59,
   "id": "c46cbffc-3756-4496-b316-880feff60ac5",
   "metadata": {
    "kernel": "R",
    "tags": []
   },
   "outputs": [],
   "source": [
    "annot <- fread(\"~/project/imputation-rvtest/analysis/imputation_aggregated_analysis/hrc_topmed_exome/hrc_topmed_exome_168206ids_rsq03_maf001_annot.csv.gz\")"
   ]
  },
  {
   "cell_type": "code",
   "execution_count": 61,
   "id": "60ddc767-d1f6-467b-84eb-71030577d091",
   "metadata": {
    "kernel": "R",
    "tags": []
   },
   "outputs": [],
   "source": [
    "hrc_chr1 <- fread(\"~/project/imputation-rvtest/analysis/imputation_aggregated_analysis/hrc/hrc_chr1_rsq03_hg19_hg38_maf001_LOF_missense_annot.csv.gz\")\n",
    "hrc_chr2 <- fread(\"~/project/imputation-rvtest/analysis/imputation_aggregated_analysis/hrc/hrc_chr2_rsq03_hg19_hg38_maf001_LOF_missense_annot.csv.gz\")\n",
    "hrc_gene_lst <- rbind(hrc_chr1, hrc_chr2) %>% select(Gene.refGene, MAF_nfe_exome)"
   ]
  },
  {
   "cell_type": "code",
   "execution_count": 62,
   "id": "d3c3e6cd-5364-494c-854e-dcb49e270125",
   "metadata": {
    "kernel": "R",
    "tags": []
   },
   "outputs": [],
   "source": [
    "setwd(\"~/project/imputation-rvtest/workflows/imputation_aggregated_analysis/analysis/20230911/\")\n",
    "\n",
    "hrc_maf001 <- fread(\"hrc_sig_genes.csv\") %>% mutate(MAF = 0.01)\n",
    "hrc_maf0005 <- rbind(fread(\"hrc_sig_genes_es15_maf0005.csv\"), fread(\"hrc_sig_genes_es12_18_maf0005.csv\")) %>% mutate(MAF = 0.005)\n",
    "hrc_maf0001 <- rbind(fread(\"hrc_sig_genes_es15_maf0001.csv\"), fread(\"hrc_sig_genes_es12_18_maf0001.csv\")) %>% mutate(MAF = 0.001)\n",
    "\n",
    "hrc_df_gp <- rbind(hrc_maf001, hrc_maf0005, hrc_maf0001) %>% group_by(MAF, condition, prevalence) %>% group_split()"
   ]
  },
  {
   "cell_type": "code",
   "execution_count": 63,
   "id": "3e67d70f-acfc-4007-8417-bbef2f5ac72f",
   "metadata": {
    "kernel": "R",
    "tags": []
   },
   "outputs": [],
   "source": [
    "result_df <- data.frame(matrix(nrow = 0, ncol = 7))\n",
    "colnames(result_df) <- c(\"maf\", \"prevalence\", \"condition\", \"mean_r2_overall_all\", \"mean_r2_overall_sig\", \"mean_r2_all\", \"mean_r2_sig\")\n",
    "for(df in hrc_df_gp){\n",
    "    maf <- df[1,]$MAF\n",
    "    \n",
    "    all_gene_lst <- hrc_gene_lst %>% filter(MAF_nfe_exome < maf) %>% pull(Gene.refGene) %>% unique()\n",
    "    sig_gene_lst <- df %>% filter(pvals < 2.5e-6) %>% pull(gene)\n",
    "    \n",
    "    hrc_annot <- annot %>% filter(R2_hrc != 0) %>% filter(MAF_nfe_exome < maf)\n",
    "    # print(dim(hrc_annot))\n",
    "    all_mean_r2 <- hrc_annot %>% filter(Gene.refGene %in% all_gene_lst) %>% pull(R2_hrc) %>% mean()\n",
    "    sig_mean_r2 <- hrc_annot %>% filter(Gene.refGene %in% sig_gene_lst) %>% pull(R2_hrc) %>% mean()\n",
    "    \n",
    "    all_gene_mean_r2 <- hrc_annot %>% filter(Gene.refGene %in% all_gene_lst) %>% \n",
    "                    group_by(Gene.refGene) %>% summarise(mean_r2_hrc = mean(R2_hrc)) %>%\n",
    "                    pull(mean_r2_hrc) %>% mean()\n",
    "    sig_gene_mean_r2 <- hrc_annot %>% filter(Gene.refGene %in% sig_gene_lst) %>% \n",
    "                    group_by(Gene.refGene) %>% summarise(mean_r2_hrc = mean(R2_hrc)) %>%\n",
    "                    pull(mean_r2_hrc) %>% mean()\n",
    "    \n",
    "    result_sub_df <- data.frame(maf = maf, prevalence = df[1,]$prevalence, condition = df[1,]$condition, \n",
    "                                mean_r2_overall_all = all_mean_r2, mean_r2_overall_sig = sig_mean_r2,\n",
    "                                mean_r2_all = all_gene_mean_r2, mean_r2_sig = sig_gene_mean_r2)\n",
    "    result_df <- rbind(result_df, result_sub_df)\n",
    "    \n",
    "}"
   ]
  },
  {
   "cell_type": "code",
   "execution_count": 64,
   "id": "42285dc2-2817-4995-b677-d1cf00d8ac8d",
   "metadata": {
    "kernel": "R",
    "tags": []
   },
   "outputs": [
    {
     "data": {
      "text/html": [
       "<table class=\"dataframe\">\n",
       "<caption>A data.frame: 6 × 5</caption>\n",
       "<thead>\n",
       "\t<tr><th scope=col>maf</th><th scope=col>prevalence</th><th scope=col>condition</th><th scope=col>mean_r2_all</th><th scope=col>mean_r2_sig</th></tr>\n",
       "\t<tr><th scope=col>&lt;dbl&gt;</th><th scope=col>&lt;dbl&gt;</th><th scope=col>&lt;chr&gt;</th><th scope=col>&lt;dbl&gt;</th><th scope=col>&lt;dbl&gt;</th></tr>\n",
       "</thead>\n",
       "<tbody>\n",
       "\t<tr><td>0.010</td><td>0.1</td><td>1,1,1.5</td><td>0.72273</td><td>0.74783</td></tr>\n",
       "\t<tr><td>0.010</td><td>0.2</td><td>1,1,1.5</td><td>0.72273</td><td>0.74755</td></tr>\n",
       "\t<tr><td>0.005</td><td>0.1</td><td>1,1,1.5</td><td>0.71416</td><td>0.73867</td></tr>\n",
       "\t<tr><td>0.005</td><td>0.2</td><td>1,1,1.5</td><td>0.71416</td><td>0.73878</td></tr>\n",
       "\t<tr><td>0.001</td><td>0.1</td><td>1,1,1.5</td><td>0.68203</td><td>0.71206</td></tr>\n",
       "\t<tr><td>0.001</td><td>0.2</td><td>1,1,1.5</td><td>0.68203</td><td>0.71095</td></tr>\n",
       "</tbody>\n",
       "</table>\n"
      ],
      "text/latex": [
       "A data.frame: 6 × 5\n",
       "\\begin{tabular}{lllll}\n",
       " maf & prevalence & condition & mean\\_r2\\_all & mean\\_r2\\_sig\\\\\n",
       " <dbl> & <dbl> & <chr> & <dbl> & <dbl>\\\\\n",
       "\\hline\n",
       "\t 0.010 & 0.1 & 1,1,1.5 & 0.72273 & 0.74783\\\\\n",
       "\t 0.010 & 0.2 & 1,1,1.5 & 0.72273 & 0.74755\\\\\n",
       "\t 0.005 & 0.1 & 1,1,1.5 & 0.71416 & 0.73867\\\\\n",
       "\t 0.005 & 0.2 & 1,1,1.5 & 0.71416 & 0.73878\\\\\n",
       "\t 0.001 & 0.1 & 1,1,1.5 & 0.68203 & 0.71206\\\\\n",
       "\t 0.001 & 0.2 & 1,1,1.5 & 0.68203 & 0.71095\\\\\n",
       "\\end{tabular}\n"
      ],
      "text/markdown": [
       "\n",
       "A data.frame: 6 × 5\n",
       "\n",
       "| maf &lt;dbl&gt; | prevalence &lt;dbl&gt; | condition &lt;chr&gt; | mean_r2_all &lt;dbl&gt; | mean_r2_sig &lt;dbl&gt; |\n",
       "|---|---|---|---|---|\n",
       "| 0.010 | 0.1 | 1,1,1.5 | 0.72273 | 0.74783 |\n",
       "| 0.010 | 0.2 | 1,1,1.5 | 0.72273 | 0.74755 |\n",
       "| 0.005 | 0.1 | 1,1,1.5 | 0.71416 | 0.73867 |\n",
       "| 0.005 | 0.2 | 1,1,1.5 | 0.71416 | 0.73878 |\n",
       "| 0.001 | 0.1 | 1,1,1.5 | 0.68203 | 0.71206 |\n",
       "| 0.001 | 0.2 | 1,1,1.5 | 0.68203 | 0.71095 |\n",
       "\n"
      ],
      "text/plain": [
       "  maf   prevalence condition mean_r2_all mean_r2_sig\n",
       "1 0.010 0.1        1,1,1.5   0.72273     0.74783    \n",
       "2 0.010 0.2        1,1,1.5   0.72273     0.74755    \n",
       "3 0.005 0.1        1,1,1.5   0.71416     0.73867    \n",
       "4 0.005 0.2        1,1,1.5   0.71416     0.73878    \n",
       "5 0.001 0.1        1,1,1.5   0.68203     0.71206    \n",
       "6 0.001 0.2        1,1,1.5   0.68203     0.71095    "
      ]
     },
     "metadata": {},
     "output_type": "display_data"
    }
   ],
   "source": [
    "result_df %>% select(-mean_r2_overall_all, -mean_r2_overall_sig) %>% arrange(desc(maf), prevalence, condition) %>% filter(condition == \"1,1,1.5\")"
   ]
  },
  {
   "cell_type": "markdown",
   "id": "b79d7cb7-6263-455f-8ad3-586174c8821e",
   "metadata": {
    "kernel": "SoS"
   },
   "source": [
    "### TOPMed result"
   ]
  },
  {
   "cell_type": "code",
   "execution_count": 65,
   "id": "b4a9d6ff-59c4-44cb-be0e-22b9742d6770",
   "metadata": {
    "kernel": "R",
    "tags": []
   },
   "outputs": [],
   "source": [
    "topmed_chr1 <- fread(\"~/project/imputation-rvtest/analysis/imputation_aggregated_analysis/topmed/topmed_chr1_rsq03_hg19_hg38_maf001_LOF_missense_annot.csv.gz\")\n",
    "topmed_chr2 <- fread(\"~/project/imputation-rvtest/analysis/imputation_aggregated_analysis/topmed/topmed_chr1_rsq03_hg19_hg38_maf001_LOF_missense_annot.csv.gz\")\n",
    "topmed_gene_lst <- rbind(topmed_chr1, topmed_chr2) %>% select(Gene.refGene, MAF_nfe_exome)"
   ]
  },
  {
   "cell_type": "code",
   "execution_count": 66,
   "id": "14505108-1079-4cde-982a-b3ae01abd82a",
   "metadata": {
    "kernel": "R",
    "tags": []
   },
   "outputs": [],
   "source": [
    "setwd(\"~/project/imputation-rvtest/workflows/imputation_aggregated_analysis/analysis/20230911/\")\n",
    "\n",
    "topmed_maf001 <- rbind(fread(\"topmed_sig_genes_es15_maf001.csv\"), fread(\"topmed_sig_genes_es12_18_maf001.csv\")) %>% mutate(MAF = 0.01)\n",
    "topmed_maf0005 <- rbind(fread(\"topmed_sig_genes_es15_maf0005.csv\"), fread(\"topmed_sig_genes_es12_18_maf0005.csv\")) %>% mutate(MAF = 0.005)\n",
    "topmed_maf0001 <- rbind(fread(\"topmed_sig_genes_es15_maf0001.csv\"), fread(\"topmed_sig_genes_es12_18_maf0001.csv\")) %>% mutate(MAF = 0.001)\n",
    "\n",
    "topmed_df_gp <- rbind(topmed_maf001, topmed_maf0005, topmed_maf0001) %>% group_by(MAF, condition, prevalence) %>% group_split()"
   ]
  },
  {
   "cell_type": "code",
   "execution_count": 67,
   "id": "fb7b7569-4c4d-4ad9-b21b-80eba57dfcab",
   "metadata": {
    "kernel": "R",
    "tags": []
   },
   "outputs": [],
   "source": [
    "result_df <- data.frame(matrix(nrow = 0, ncol = 7))\n",
    "colnames(result_df) <- c(\"maf\", \"prevalence\", \"condition\", \"mean_r2_overall_all\", \"mean_r2_overall_sig\", \"mean_r2_all\", \"mean_r2_sig\")\n",
    "for(df in hrc_df_gp){\n",
    "    maf <- df[1,]$MAF\n",
    "    \n",
    "    all_gene_lst <- topmed_gene_lst %>% filter(MAF_nfe_exome < maf) %>% pull(Gene.refGene) %>% unique()\n",
    "    sig_gene_lst <- df %>% filter(pvals < 2.5e-6) %>% pull(gene)\n",
    "    \n",
    "    topmed_annot <- annot %>% filter(R2_topmed != 0) %>% filter(MAF_nfe_exome < maf)\n",
    "    # print(dim(topmed_annot))\n",
    "    all_mean_r2 <- topmed_annot %>% filter(Gene.refGene %in% all_gene_lst) %>% pull(R2_topmed) %>% mean()\n",
    "    sig_mean_r2 <- topmed_annot %>% filter(Gene.refGene %in% sig_gene_lst) %>% pull(R2_topmed) %>% mean()\n",
    "    \n",
    "    all_gene_mean_r2 <- topmed_annot %>% filter(Gene.refGene %in% all_gene_lst) %>% \n",
    "                    group_by(Gene.refGene) %>% summarise(mean_r2_topmed = mean(R2_topmed)) %>%\n",
    "                    pull(mean_r2_topmed) %>% mean()\n",
    "    sig_gene_mean_r2 <- topmed_annot %>% filter(Gene.refGene %in% sig_gene_lst) %>% \n",
    "                    group_by(Gene.refGene) %>% summarise(mean_r2_topmed = mean(R2_topmed)) %>%\n",
    "                    pull(mean_r2_topmed) %>% mean()\n",
    "    \n",
    "    result_sub_df <- data.frame(maf = maf, prevalence = df[1,]$prevalence, condition = df[1,]$condition, \n",
    "                                mean_r2_overall_all = all_mean_r2, mean_r2_overall_sig = sig_mean_r2,\n",
    "                                mean_r2_all = all_gene_mean_r2, mean_r2_sig = sig_gene_mean_r2)\n",
    "    result_df <- rbind(result_df, result_sub_df)\n",
    "}"
   ]
  },
  {
   "cell_type": "code",
   "execution_count": 69,
   "id": "3c445057-1a3d-4d7d-b332-6e6b47ad0a87",
   "metadata": {
    "kernel": "R",
    "tags": []
   },
   "outputs": [
    {
     "data": {
      "text/html": [
       "<table class=\"dataframe\">\n",
       "<caption>A data.frame: 6 × 5</caption>\n",
       "<thead>\n",
       "\t<tr><th scope=col>maf</th><th scope=col>prevalence</th><th scope=col>condition</th><th scope=col>mean_r2_all</th><th scope=col>mean_r2_sig</th></tr>\n",
       "\t<tr><th scope=col>&lt;dbl&gt;</th><th scope=col>&lt;dbl&gt;</th><th scope=col>&lt;chr&gt;</th><th scope=col>&lt;dbl&gt;</th><th scope=col>&lt;dbl&gt;</th></tr>\n",
       "</thead>\n",
       "<tbody>\n",
       "\t<tr><td>0.010</td><td>0.1</td><td>1,1,1.5</td><td>0.69632</td><td>0.70714</td></tr>\n",
       "\t<tr><td>0.010</td><td>0.2</td><td>1,1,1.5</td><td>0.69632</td><td>0.70802</td></tr>\n",
       "\t<tr><td>0.005</td><td>0.1</td><td>1,1,1.5</td><td>0.69422</td><td>0.70588</td></tr>\n",
       "\t<tr><td>0.005</td><td>0.2</td><td>1,1,1.5</td><td>0.69422</td><td>0.70604</td></tr>\n",
       "\t<tr><td>0.001</td><td>0.1</td><td>1,1,1.5</td><td>0.68788</td><td>0.69925</td></tr>\n",
       "\t<tr><td>0.001</td><td>0.2</td><td>1,1,1.5</td><td>0.68788</td><td>0.69915</td></tr>\n",
       "</tbody>\n",
       "</table>\n"
      ],
      "text/latex": [
       "A data.frame: 6 × 5\n",
       "\\begin{tabular}{lllll}\n",
       " maf & prevalence & condition & mean\\_r2\\_all & mean\\_r2\\_sig\\\\\n",
       " <dbl> & <dbl> & <chr> & <dbl> & <dbl>\\\\\n",
       "\\hline\n",
       "\t 0.010 & 0.1 & 1,1,1.5 & 0.69632 & 0.70714\\\\\n",
       "\t 0.010 & 0.2 & 1,1,1.5 & 0.69632 & 0.70802\\\\\n",
       "\t 0.005 & 0.1 & 1,1,1.5 & 0.69422 & 0.70588\\\\\n",
       "\t 0.005 & 0.2 & 1,1,1.5 & 0.69422 & 0.70604\\\\\n",
       "\t 0.001 & 0.1 & 1,1,1.5 & 0.68788 & 0.69925\\\\\n",
       "\t 0.001 & 0.2 & 1,1,1.5 & 0.68788 & 0.69915\\\\\n",
       "\\end{tabular}\n"
      ],
      "text/markdown": [
       "\n",
       "A data.frame: 6 × 5\n",
       "\n",
       "| maf &lt;dbl&gt; | prevalence &lt;dbl&gt; | condition &lt;chr&gt; | mean_r2_all &lt;dbl&gt; | mean_r2_sig &lt;dbl&gt; |\n",
       "|---|---|---|---|---|\n",
       "| 0.010 | 0.1 | 1,1,1.5 | 0.69632 | 0.70714 |\n",
       "| 0.010 | 0.2 | 1,1,1.5 | 0.69632 | 0.70802 |\n",
       "| 0.005 | 0.1 | 1,1,1.5 | 0.69422 | 0.70588 |\n",
       "| 0.005 | 0.2 | 1,1,1.5 | 0.69422 | 0.70604 |\n",
       "| 0.001 | 0.1 | 1,1,1.5 | 0.68788 | 0.69925 |\n",
       "| 0.001 | 0.2 | 1,1,1.5 | 0.68788 | 0.69915 |\n",
       "\n"
      ],
      "text/plain": [
       "  maf   prevalence condition mean_r2_all mean_r2_sig\n",
       "1 0.010 0.1        1,1,1.5   0.69632     0.70714    \n",
       "2 0.010 0.2        1,1,1.5   0.69632     0.70802    \n",
       "3 0.005 0.1        1,1,1.5   0.69422     0.70588    \n",
       "4 0.005 0.2        1,1,1.5   0.69422     0.70604    \n",
       "5 0.001 0.1        1,1,1.5   0.68788     0.69925    \n",
       "6 0.001 0.2        1,1,1.5   0.68788     0.69915    "
      ]
     },
     "metadata": {},
     "output_type": "display_data"
    }
   ],
   "source": [
    "result_df %>% select(-mean_r2_overall_all, -mean_r2_overall_sig) %>% arrange(desc(maf), prevalence, condition) %>% filter(condition == \"1,1,1.5\")"
   ]
  },
  {
   "cell_type": "code",
   "execution_count": null,
   "id": "78848488-69ba-4e4c-8234-1824c2cc911f",
   "metadata": {
    "kernel": "SoS"
   },
   "outputs": [],
   "source": []
  }
 ],
 "metadata": {
  "kernelspec": {
   "display_name": "SoS",
   "language": "sos",
   "name": "sos"
  },
  "language_info": {
   "codemirror_mode": "sos",
   "file_extension": ".sos",
   "mimetype": "text/x-sos",
   "name": "sos",
   "nbconvert_exporter": "sos_notebook.converter.SoS_Exporter",
   "pygments_lexer": "sos"
  },
  "sos": {
   "kernels": [
    [
     "Bash",
     "bash",
     "Bash",
     "#E6EEFF",
     "shell"
    ],
    [
     "R",
     "ir",
     "R",
     "#DCDCDA",
     "r"
    ],
    [
     "SoS",
     "sos",
     "",
     "",
     "sos"
    ]
   ],
   "version": "0.24.1"
  }
 },
 "nbformat": 4,
 "nbformat_minor": 5
}

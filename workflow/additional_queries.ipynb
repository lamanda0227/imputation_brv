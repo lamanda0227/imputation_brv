{
 "cells": [
  {
   "cell_type": "markdown",
   "id": "2209a232-67b6-4931-893e-3c516b892149",
   "metadata": {
    "kernel": "SoS",
    "tags": []
   },
   "source": [
    "# Additional Queries"
   ]
  },
  {
   "cell_type": "markdown",
   "id": "b1bfae23-5f17-4b91-b638-6492f8c7006e",
   "metadata": {
    "kernel": "SoS"
   },
   "source": [
    "This notebook records some additional queries we made in addition to the simulation"
   ]
  },
  {
   "cell_type": "markdown",
   "id": "90534419-b581-4a3f-b174-a60f73b82b40",
   "metadata": {
    "kernel": "SoS"
   },
   "source": [
    "## R2 v.s. r2\n",
    "\n",
    "We are interested in comparing the correlation between exome and imputed data (r2) versus the imputation quality of imputed data (R2). Since correlation can only be computed "
   ]
  },
  {
   "cell_type": "code",
   "execution_count": null,
   "id": "391db26a-467f-4080-b614-434280488e93",
   "metadata": {
    "kernel": "SoS"
   },
   "outputs": [],
   "source": []
  },
  {
   "cell_type": "code",
   "execution_count": null,
   "id": "7a9f21b2-d77c-4b1a-b5d3-d14e3fb8f684",
   "metadata": {
    "kernel": "SoS"
   },
   "outputs": [],
   "source": []
  },
  {
   "cell_type": "code",
   "execution_count": null,
   "id": "20a9343e-5fee-4957-a5eb-b9efc01d8dec",
   "metadata": {
    "kernel": "SoS"
   },
   "outputs": [],
   "source": []
  },
  {
   "cell_type": "code",
   "execution_count": null,
   "id": "666c909d-65f3-4783-9993-6179aa7ab013",
   "metadata": {
    "kernel": "SoS"
   },
   "outputs": [],
   "source": []
  },
  {
   "cell_type": "code",
   "execution_count": null,
   "id": "08c84cc8-b4ce-4197-abd5-47c50df9b104",
   "metadata": {
    "kernel": "SoS"
   },
   "outputs": [],
   "source": []
  },
  {
   "cell_type": "code",
   "execution_count": null,
   "id": "795d5b50-1602-4df5-a258-9b5b4423f9df",
   "metadata": {
    "kernel": "SoS"
   },
   "outputs": [],
   "source": []
  },
  {
   "cell_type": "markdown",
   "id": "58eb02fa-8577-4a56-a4d3-2f0dcf20cba6",
   "metadata": {
    "kernel": "SoS",
    "tags": []
   },
   "source": [
    "## Overlapped variant R2"
   ]
  },
  {
   "cell_type": "code",
   "execution_count": null,
   "id": "dc46f4cf-4367-4437-b162-ecc11c9ee14e",
   "metadata": {
    "kernel": "SoS"
   },
   "outputs": [],
   "source": []
  },
  {
   "cell_type": "code",
   "execution_count": null,
   "id": "040d581b-0b63-4e9b-9911-8bd6734352a5",
   "metadata": {
    "kernel": "SoS"
   },
   "outputs": [],
   "source": []
  },
  {
   "cell_type": "code",
   "execution_count": null,
   "id": "429ec349-afe0-4903-a5bf-24de3b25aac1",
   "metadata": {
    "kernel": "SoS"
   },
   "outputs": [],
   "source": []
  },
  {
   "cell_type": "code",
   "execution_count": null,
   "id": "4e5025ac-d31e-4f15-9aa5-233a71febe5e",
   "metadata": {
    "kernel": "SoS"
   },
   "outputs": [],
   "source": []
  },
  {
   "cell_type": "code",
   "execution_count": null,
   "id": "48fe737e-ba30-46f3-923a-1fdf9acd0e87",
   "metadata": {
    "kernel": "SoS"
   },
   "outputs": [],
   "source": []
  },
  {
   "cell_type": "code",
   "execution_count": null,
   "id": "2e952e58-6f13-4a31-acc7-c81bb4423401",
   "metadata": {
    "kernel": "SoS"
   },
   "outputs": [],
   "source": []
  },
  {
   "cell_type": "markdown",
   "id": "16074f2b-f02f-4db5-a173-4e79b702e46f",
   "metadata": {
    "kernel": "SoS"
   },
   "source": [
    "## Average R2 for all genes and significant genes\n",
    "\n",
    "We are interested in whether the average R2 will be different for all genes vs the genes reaching exome wide significant level."
   ]
  },
  {
   "cell_type": "code",
   "execution_count": null,
   "id": "af3b9418-dacf-4ffa-b42c-d83f86dea9e6",
   "metadata": {
    "kernel": "SoS"
   },
   "outputs": [],
   "source": []
  },
  {
   "cell_type": "code",
   "execution_count": null,
   "id": "6de1e0ee-0662-4895-9383-bcdce778b485",
   "metadata": {
    "kernel": "SoS"
   },
   "outputs": [],
   "source": []
  }
 ],
 "metadata": {
  "kernelspec": {
   "display_name": "SoS",
   "language": "sos",
   "name": "sos"
  },
  "language_info": {
   "codemirror_mode": "sos",
   "file_extension": ".sos",
   "mimetype": "text/x-sos",
   "name": "sos",
   "nbconvert_exporter": "sos_notebook.converter.SoS_Exporter",
   "pygments_lexer": "sos"
  },
  "sos": {
   "kernels": [
    [
     "SoS",
     "sos",
     "",
     ""
    ]
   ],
   "version": "0.24.1"
  }
 },
 "nbformat": 4,
 "nbformat_minor": 5
}
